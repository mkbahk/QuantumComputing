{
  "cells": [
    {
      "cell_type": "markdown",
      "metadata": {
        "id": "view-in-github",
        "colab_type": "text"
      },
      "source": [
        "<a href=\"https://colab.research.google.com/github/mkbahk/QuantumComputing/blob/main/IPEA_training.ipynb\" target=\"_parent\"><img src=\"https://colab.research.google.com/assets/colab-badge.svg\" alt=\"Open In Colab\"/></a>"
      ]
    },
    {
      "cell_type": "markdown",
      "id": "cc49465b",
      "metadata": {
        "id": "cc49465b"
      },
      "source": [
        "# Iterative Phase Estimation"
      ]
    },
    {
      "cell_type": "markdown",
      "id": "dd266819",
      "metadata": {
        "id": "dd266819"
      },
      "source": [
        "## Setup\n",
        "\n",
        "First, make sure that you have the latest version of Qiskit installed. To upgrade your Qiskit package, run the following command:\n",
        "\n",
        "```bash\n",
        "pip install --upgrade qiskit\n",
        "```\n",
        "\n",
        "Get an API key from IonQ. This will be used by the IonQ provider inside Qiskit to submit circuits to the IonQ platform.\n",
        "\n",
        "After securing an API key, install the python package `qiskit_ionq` using `pip`:\n",
        "\n",
        "```bash\n",
        "pip install qiskit_ionq\n",
        "```\n",
        "\n",
        "(IonQ's adapter for Qiskit is currently in private beta -- your feedback is welcomed!)\n",
        "\n",
        "### (Optional) Extra Dependencies\n",
        "\n",
        "Some examples use additional Python dependencies; please make sure to `pip install` them as needed.\n",
        "\n",
        "Dependencies:\n",
        "* `matplotlib`: To run `qiskit.visualization.plot_histogram`.\n",
        "\n",
        "**NOTE**: The provider expects an API key to be supplied via the `token` keyword argument to its constructor. If no token is directly provided, the provider will check for one in the `QISKIT_IONQ_API_TOKEN` environment variable.\n",
        "\n",
        "Now that the Python package has been installed, you can import and instantiate the provider:"
      ]
    },
    {
      "cell_type": "code",
      "source": [
        "!pip install --upgrade qiskit\n",
        "!pip install qiskit_ionq\n",
        "!pip install qiskit_aer\n",
        "!pip install matplotlib"
      ],
      "metadata": {
        "colab": {
          "base_uri": "https://localhost:8080/"
        },
        "id": "6eSppm8Cgnz8",
        "outputId": "dd2f8fd7-7d4c-40c8-88ee-bb96619dce2e"
      },
      "id": "6eSppm8Cgnz8",
      "execution_count": 9,
      "outputs": [
        {
          "output_type": "stream",
          "name": "stdout",
          "text": [
            "Requirement already satisfied: qiskit in /usr/local/lib/python3.10/dist-packages (0.44.1)\n",
            "Requirement already satisfied: qiskit-terra==0.25.1 in /usr/local/lib/python3.10/dist-packages (from qiskit) (0.25.1)\n",
            "Requirement already satisfied: rustworkx>=0.13.0 in /usr/local/lib/python3.10/dist-packages (from qiskit-terra==0.25.1->qiskit) (0.13.1)\n",
            "Requirement already satisfied: numpy>=1.17 in /usr/local/lib/python3.10/dist-packages (from qiskit-terra==0.25.1->qiskit) (1.23.5)\n",
            "Requirement already satisfied: ply>=3.10 in /usr/local/lib/python3.10/dist-packages (from qiskit-terra==0.25.1->qiskit) (3.11)\n",
            "Requirement already satisfied: psutil>=5 in /usr/local/lib/python3.10/dist-packages (from qiskit-terra==0.25.1->qiskit) (5.9.5)\n",
            "Requirement already satisfied: scipy>=1.5 in /usr/local/lib/python3.10/dist-packages (from qiskit-terra==0.25.1->qiskit) (1.11.2)\n",
            "Requirement already satisfied: sympy>=1.3 in /usr/local/lib/python3.10/dist-packages (from qiskit-terra==0.25.1->qiskit) (1.12)\n",
            "Requirement already satisfied: dill>=0.3 in /usr/local/lib/python3.10/dist-packages (from qiskit-terra==0.25.1->qiskit) (0.3.7)\n",
            "Requirement already satisfied: python-dateutil>=2.8.0 in /usr/local/lib/python3.10/dist-packages (from qiskit-terra==0.25.1->qiskit) (2.8.2)\n",
            "Requirement already satisfied: stevedore>=3.0.0 in /usr/local/lib/python3.10/dist-packages (from qiskit-terra==0.25.1->qiskit) (5.1.0)\n",
            "Requirement already satisfied: symengine<0.10,>=0.9 in /usr/local/lib/python3.10/dist-packages (from qiskit-terra==0.25.1->qiskit) (0.9.2)\n",
            "Requirement already satisfied: typing-extensions in /usr/local/lib/python3.10/dist-packages (from qiskit-terra==0.25.1->qiskit) (4.5.0)\n",
            "Requirement already satisfied: six>=1.5 in /usr/local/lib/python3.10/dist-packages (from python-dateutil>=2.8.0->qiskit-terra==0.25.1->qiskit) (1.16.0)\n",
            "Requirement already satisfied: pbr!=2.1.0,>=2.0.0 in /usr/local/lib/python3.10/dist-packages (from stevedore>=3.0.0->qiskit-terra==0.25.1->qiskit) (5.11.1)\n",
            "Requirement already satisfied: mpmath>=0.19 in /usr/local/lib/python3.10/dist-packages (from sympy>=1.3->qiskit-terra==0.25.1->qiskit) (1.3.0)\n",
            "Requirement already satisfied: qiskit_ionq in /usr/local/lib/python3.10/dist-packages (0.4.1)\n",
            "Requirement already satisfied: decorator>=5.1.0 in /usr/local/lib/python3.10/dist-packages (from qiskit_ionq) (5.1.1)\n",
            "Requirement already satisfied: qiskit-terra>=0.17.4 in /usr/local/lib/python3.10/dist-packages (from qiskit_ionq) (0.25.1)\n",
            "Requirement already satisfied: requests>=2.24.0 in /usr/local/lib/python3.10/dist-packages (from qiskit_ionq) (2.31.0)\n",
            "Requirement already satisfied: retry>=0.9.0 in /usr/local/lib/python3.10/dist-packages (from qiskit_ionq) (0.9.2)\n",
            "Requirement already satisfied: importlib-metadata>=4.11.4 in /usr/local/lib/python3.10/dist-packages (from qiskit_ionq) (6.8.0)\n",
            "Requirement already satisfied: zipp>=0.5 in /usr/local/lib/python3.10/dist-packages (from importlib-metadata>=4.11.4->qiskit_ionq) (3.16.2)\n",
            "Requirement already satisfied: rustworkx>=0.13.0 in /usr/local/lib/python3.10/dist-packages (from qiskit-terra>=0.17.4->qiskit_ionq) (0.13.1)\n",
            "Requirement already satisfied: numpy>=1.17 in /usr/local/lib/python3.10/dist-packages (from qiskit-terra>=0.17.4->qiskit_ionq) (1.23.5)\n",
            "Requirement already satisfied: ply>=3.10 in /usr/local/lib/python3.10/dist-packages (from qiskit-terra>=0.17.4->qiskit_ionq) (3.11)\n",
            "Requirement already satisfied: psutil>=5 in /usr/local/lib/python3.10/dist-packages (from qiskit-terra>=0.17.4->qiskit_ionq) (5.9.5)\n",
            "Requirement already satisfied: scipy>=1.5 in /usr/local/lib/python3.10/dist-packages (from qiskit-terra>=0.17.4->qiskit_ionq) (1.11.2)\n",
            "Requirement already satisfied: sympy>=1.3 in /usr/local/lib/python3.10/dist-packages (from qiskit-terra>=0.17.4->qiskit_ionq) (1.12)\n",
            "Requirement already satisfied: dill>=0.3 in /usr/local/lib/python3.10/dist-packages (from qiskit-terra>=0.17.4->qiskit_ionq) (0.3.7)\n",
            "Requirement already satisfied: python-dateutil>=2.8.0 in /usr/local/lib/python3.10/dist-packages (from qiskit-terra>=0.17.4->qiskit_ionq) (2.8.2)\n",
            "Requirement already satisfied: stevedore>=3.0.0 in /usr/local/lib/python3.10/dist-packages (from qiskit-terra>=0.17.4->qiskit_ionq) (5.1.0)\n",
            "Requirement already satisfied: symengine<0.10,>=0.9 in /usr/local/lib/python3.10/dist-packages (from qiskit-terra>=0.17.4->qiskit_ionq) (0.9.2)\n",
            "Requirement already satisfied: typing-extensions in /usr/local/lib/python3.10/dist-packages (from qiskit-terra>=0.17.4->qiskit_ionq) (4.5.0)\n",
            "Requirement already satisfied: charset-normalizer<4,>=2 in /usr/local/lib/python3.10/dist-packages (from requests>=2.24.0->qiskit_ionq) (3.2.0)\n",
            "Requirement already satisfied: idna<4,>=2.5 in /usr/local/lib/python3.10/dist-packages (from requests>=2.24.0->qiskit_ionq) (3.4)\n",
            "Requirement already satisfied: urllib3<3,>=1.21.1 in /usr/local/lib/python3.10/dist-packages (from requests>=2.24.0->qiskit_ionq) (2.0.4)\n",
            "Requirement already satisfied: certifi>=2017.4.17 in /usr/local/lib/python3.10/dist-packages (from requests>=2.24.0->qiskit_ionq) (2023.7.22)\n",
            "Requirement already satisfied: py<2.0.0,>=1.4.26 in /usr/local/lib/python3.10/dist-packages (from retry>=0.9.0->qiskit_ionq) (1.11.0)\n",
            "Requirement already satisfied: six>=1.5 in /usr/local/lib/python3.10/dist-packages (from python-dateutil>=2.8.0->qiskit-terra>=0.17.4->qiskit_ionq) (1.16.0)\n",
            "Requirement already satisfied: pbr!=2.1.0,>=2.0.0 in /usr/local/lib/python3.10/dist-packages (from stevedore>=3.0.0->qiskit-terra>=0.17.4->qiskit_ionq) (5.11.1)\n",
            "Requirement already satisfied: mpmath>=0.19 in /usr/local/lib/python3.10/dist-packages (from sympy>=1.3->qiskit-terra>=0.17.4->qiskit_ionq) (1.3.0)\n",
            "Collecting qiskit_aer\n",
            "  Downloading qiskit_aer-0.12.2-cp310-cp310-manylinux_2_17_x86_64.manylinux2014_x86_64.whl (12.8 MB)\n",
            "\u001b[2K     \u001b[90m━━━━━━━━━━━━━━━━━━━━━━━━━━━━━━━━━━━━━━━━\u001b[0m \u001b[32m12.8/12.8 MB\u001b[0m \u001b[31m30.1 MB/s\u001b[0m eta \u001b[36m0:00:00\u001b[0m\n",
            "\u001b[?25hRequirement already satisfied: qiskit-terra>=0.21.0 in /usr/local/lib/python3.10/dist-packages (from qiskit_aer) (0.25.1)\n",
            "Requirement already satisfied: numpy>=1.16.3 in /usr/local/lib/python3.10/dist-packages (from qiskit_aer) (1.23.5)\n",
            "Requirement already satisfied: scipy>=1.0 in /usr/local/lib/python3.10/dist-packages (from qiskit_aer) (1.11.2)\n",
            "Requirement already satisfied: rustworkx>=0.13.0 in /usr/local/lib/python3.10/dist-packages (from qiskit-terra>=0.21.0->qiskit_aer) (0.13.1)\n",
            "Requirement already satisfied: ply>=3.10 in /usr/local/lib/python3.10/dist-packages (from qiskit-terra>=0.21.0->qiskit_aer) (3.11)\n",
            "Requirement already satisfied: psutil>=5 in /usr/local/lib/python3.10/dist-packages (from qiskit-terra>=0.21.0->qiskit_aer) (5.9.5)\n",
            "Requirement already satisfied: sympy>=1.3 in /usr/local/lib/python3.10/dist-packages (from qiskit-terra>=0.21.0->qiskit_aer) (1.12)\n",
            "Requirement already satisfied: dill>=0.3 in /usr/local/lib/python3.10/dist-packages (from qiskit-terra>=0.21.0->qiskit_aer) (0.3.7)\n",
            "Requirement already satisfied: python-dateutil>=2.8.0 in /usr/local/lib/python3.10/dist-packages (from qiskit-terra>=0.21.0->qiskit_aer) (2.8.2)\n",
            "Requirement already satisfied: stevedore>=3.0.0 in /usr/local/lib/python3.10/dist-packages (from qiskit-terra>=0.21.0->qiskit_aer) (5.1.0)\n",
            "Requirement already satisfied: symengine<0.10,>=0.9 in /usr/local/lib/python3.10/dist-packages (from qiskit-terra>=0.21.0->qiskit_aer) (0.9.2)\n",
            "Requirement already satisfied: typing-extensions in /usr/local/lib/python3.10/dist-packages (from qiskit-terra>=0.21.0->qiskit_aer) (4.5.0)\n",
            "Requirement already satisfied: six>=1.5 in /usr/local/lib/python3.10/dist-packages (from python-dateutil>=2.8.0->qiskit-terra>=0.21.0->qiskit_aer) (1.16.0)\n",
            "Requirement already satisfied: pbr!=2.1.0,>=2.0.0 in /usr/local/lib/python3.10/dist-packages (from stevedore>=3.0.0->qiskit-terra>=0.21.0->qiskit_aer) (5.11.1)\n",
            "Requirement already satisfied: mpmath>=0.19 in /usr/local/lib/python3.10/dist-packages (from sympy>=1.3->qiskit-terra>=0.21.0->qiskit_aer) (1.3.0)\n",
            "Installing collected packages: qiskit_aer\n",
            "Successfully installed qiskit_aer-0.12.2\n",
            "Requirement already satisfied: matplotlib in /usr/local/lib/python3.10/dist-packages (3.7.1)\n",
            "Requirement already satisfied: contourpy>=1.0.1 in /usr/local/lib/python3.10/dist-packages (from matplotlib) (1.1.0)\n",
            "Requirement already satisfied: cycler>=0.10 in /usr/local/lib/python3.10/dist-packages (from matplotlib) (0.11.0)\n",
            "Requirement already satisfied: fonttools>=4.22.0 in /usr/local/lib/python3.10/dist-packages (from matplotlib) (4.42.1)\n",
            "Requirement already satisfied: kiwisolver>=1.0.1 in /usr/local/lib/python3.10/dist-packages (from matplotlib) (1.4.5)\n",
            "Requirement already satisfied: numpy>=1.20 in /usr/local/lib/python3.10/dist-packages (from matplotlib) (1.23.5)\n",
            "Requirement already satisfied: packaging>=20.0 in /usr/local/lib/python3.10/dist-packages (from matplotlib) (23.1)\n",
            "Requirement already satisfied: pillow>=6.2.0 in /usr/local/lib/python3.10/dist-packages (from matplotlib) (9.4.0)\n",
            "Requirement already satisfied: pyparsing>=2.3.1 in /usr/local/lib/python3.10/dist-packages (from matplotlib) (3.1.1)\n",
            "Requirement already satisfied: python-dateutil>=2.7 in /usr/local/lib/python3.10/dist-packages (from matplotlib) (2.8.2)\n",
            "Requirement already satisfied: six>=1.5 in /usr/local/lib/python3.10/dist-packages (from python-dateutil>=2.7->matplotlib) (1.16.0)\n"
          ]
        }
      ]
    },
    {
      "cell_type": "code",
      "execution_count": 54,
      "id": "bab28b25",
      "metadata": {
        "id": "bab28b25"
      },
      "outputs": [],
      "source": [
        "#import Aer here, before calling qiskit_ionq_provider\n",
        "from qiskit import Aer\n",
        "\n",
        "from qiskit_ionq import IonQProvider\n",
        "\n",
        "#Call provider and set token value\n",
        "provider = IonQProvider(token='')"
      ]
    },
    {
      "cell_type": "markdown",
      "id": "bdf93b47",
      "metadata": {
        "id": "bdf93b47"
      },
      "source": [
        "The `provider` instance can now be used to create and submit circuits to IonQ.\n",
        "\n",
        "### Backend Types\n",
        "\n",
        "The IonQ provider supports two backend types:\n",
        "* `ionq_simulator`: IonQ's simulator backend.\n",
        "* `ionq_qpu`: IonQ's QPU backend.\n",
        "\n",
        "To view all current backend types, use the `.backends` property on the provider instance:"
      ]
    },
    {
      "cell_type": "code",
      "execution_count": 55,
      "id": "e6892ccc",
      "metadata": {
        "colab": {
          "base_uri": "https://localhost:8080/"
        },
        "id": "e6892ccc",
        "outputId": "31b1689e-9ae5-4037-8699-d49e5c5cbc91"
      },
      "outputs": [
        {
          "output_type": "execute_result",
          "data": {
            "text/plain": [
              "[<IonQSimulatorBackend('ionq_simulator')>, <IonQQPUBackend('ionq_qpu')>]"
            ]
          },
          "metadata": {},
          "execution_count": 55
        }
      ],
      "source": [
        "provider.backends()"
      ]
    },
    {
      "cell_type": "markdown",
      "id": "9ca738d8",
      "metadata": {
        "id": "9ca738d8"
      },
      "source": [
        "### Why do I care about the Iterative Phase Estimation Algorithm (IPEA)? What can you do with it?\n",
        "\n",
        "Recall your linear algebra knowledge. More specifically, recall the concepts of eigenvalues and eigenvectors. Once you have these two notions solified, consider a unitary operator $U$ and a state $\\left|\\psi\\right>$ such that the following relation is true :\n",
        "\n",
        "$$U\\left|\\psi\\right>=e^{2\\pi i\\phi}\\left|\\psi\\right>$$\n",
        "\n",
        "In other words, $U$ has eigenvector $\\left|\\psi\\right>$ with corresponding eigenvalue $e^{2\\pi i\\phi}$. $\\phi$ is a real number, and it is our job to find out what its value is. That's it! That's the problem we are trying to solve. And we will solve it using this algorithm known as Iterative Phase Estimation."
      ]
    },
    {
      "cell_type": "markdown",
      "id": "6b671c0b",
      "metadata": {
        "id": "6b671c0b"
      },
      "source": [
        "### Okay, what is this algorithm and how do we use it to solve this problem?\n",
        "\n",
        "At this point, I will provide a peripheral explanation of what the algorithm essentially does. The detailed explanation will follow as I actually code the algorithm. Before I give the basic summary though, keep the following point in mind -\n",
        "\n",
        "IMPORTANT : We assume that $\\phi$, the value we are trying to find, can be expressed as $\\frac{\\phi_1}{2} + \\frac{\\phi_2}{4} + \\frac{\\phi_3}{8} + ... + \\frac{\\phi_n}{2^n}$. Here each of the $\\phi_k$'s are either 0 or 1. Another way of thinking about this key assumption is that $\\phi_1\\phi_2\\phi_3...\\phi_n$ is the binary representation of $2^n\\phi$ and $n$ is the number of iterations that we do\n",
        "\n",
        "Now for the general working : as the name of the algorithm suggests, there will be several iterations. Consider iteration k. The goal of this iteration will be to determine $\\phi_{n-k+1}$ in the expression for $\\phi$ above. To do this, the algorithm uses a circuit with two qubits : an auxiliary qubit and a main qubit. What will end up happening in every iteration is that $U$ will be acted on the main qubit in such a way that the auxiliary qubit's state, upon measurement, will collapse into $\\phi_{n-k+1}$."
      ]
    },
    {
      "cell_type": "markdown",
      "id": "dfb5f453",
      "metadata": {
        "id": "dfb5f453"
      },
      "source": [
        "### Isn't there the standard Quantum Phase Estimation algorithm that does the same thing with just one iteration?\n",
        "\n",
        "Before we start, let me answer this good question. Yes, there is the standard Quantum Phase Estimation algorithm (often shortened to QPE) that solves this very problem with one iteration. Why aren't we using that algorithm if it will get the job done faster?\n",
        "\n",
        "Well, there is a trade-off one has to consider while choosing between the two algorithms. Essentially, the QPEA uses a larger circuit with more qubits, and with more qubits comes more cost in the form of hardware and noise. In contrast, the IPEA just uses two qubits (auxiliary and main). But, of course, where this algorithm loses out is in the number of iterations.\n",
        "\n",
        "Okay, now let us see how the IPEA works exactly! We are going to try to deduce the phase of the T-gate (our $U = T$). This gate has the following matrix -\n",
        "\n",
        "$$T = \\begin{bmatrix}\n",
        "1 & 0\\\\\n",
        "0 & e^{i\\frac{\\pi}{4}}\n",
        "\\end{bmatrix}$$\n",
        "\n",
        "which clearly tells you that the state $\\left|1\\right>$ is an eigenstate with eigenvalue $e^{i\\frac{\\pi}{4}}$. Let's see how our algorithm tells us this. Keep in mind that $\\phi = \\frac{1}{8}$ in this case because the algorithm gives us $\\phi$ in the expression $2\\pi i \\phi$, and for the T-gate, $2\\pi i \\phi = i\\frac{\\pi}{4} \\implies \\phi = \\frac{1}{8}$"
      ]
    },
    {
      "cell_type": "markdown",
      "id": "84e86dc2",
      "metadata": {
        "id": "84e86dc2"
      },
      "source": [
        "First, we import every library/module that will be needed."
      ]
    },
    {
      "cell_type": "code",
      "execution_count": 56,
      "id": "07d99cff",
      "metadata": {
        "id": "07d99cff"
      },
      "outputs": [],
      "source": [
        "from qiskit import QuantumCircuit, QuantumRegister, ClassicalRegister, execute, Aer\n",
        "\n",
        "from matplotlib import pyplot as plt\n",
        "import numpy as np"
      ]
    },
    {
      "cell_type": "markdown",
      "id": "032d55b9",
      "metadata": {
        "id": "032d55b9"
      },
      "source": [
        "Now, we write the function `buildControlledT`. As the name suggests, it creates our T-gate and applies it in that special way I alluded to earlier in the basic summary of the IPEA. An even simpler way of describing this function would be that this function performs one iteration of the IPEA. Let's go into more detail and take a look at what happens within one iteration (this description is meant not only to delineate the working of the IPEA, but also to help tracing the code below easier. I highly suggest you read each bullet point, and then find in the code below where this is being implemented before moving on to the next point)-\n",
        "\n",
        "- The first thing this function does is create and initialise the circuit. In every iteration, the auxiliary qubit ($q_0$ in our case) will be initialized in the state $\\left |+\\right> = \\frac{1}{\\sqrt{2}}(\\left|0\\right> + \\left|1\\right>)$, and the other qubit ($q_1$) will be initialised in the state $\\left|\\psi\\right>$ (this is the eigenvector of $U$ from above; in our case, $U=T$ and $\\left|\\psi\\right>=\\left|1\\right>$). So at this point, our collective state is $\\left |+\\right> \\otimes \\left|\\psi\\right>$ with $\\left|\\psi\\right> = \\left|1\\right>$ in our case\n",
        "\n",
        "<br>\n",
        "\n",
        "- It then applies the CT (controlled-T) gate to the circuit 2<sup>m</sup> times, where the input m is a number that will range from 0 to $n - 1$, where $n$ is the index of the last $\\phi_k$ in the expression $\\phi = \\frac{\\phi_1}{2} + \\frac{\\phi_2}{4} + \\frac{\\phi_3}{8} + ... + \\frac{\\phi_n}{2^n}$. In the k<sup>th</sup> iteration, we will apply the T-gate $2^{n-k}$ times.\n",
        "\n",
        "    The CT gate functions exactly like a CNOT gate - the only difference is that if the control qubit, in this case always $q_0$, is in state $\\left|1\\right>$, the $T$ gate will be applied to the target qubit instead of the $X$ gate. The target qubit in our case will be $q_1$. Now, let's see what happens when this gate is applied 2<sup>m</sup> times in terms of the quantum mechanics:\n",
        "\n",
        "    We were in the state $\\left |+\\right> \\otimes \\left|\\psi\\right> = \\frac{1}{\\sqrt{2}}(\\left|0\\right> + \\left|1\\right>)\\otimes \\left|\\psi\\right>$. Let's see what happens to that state for different values of m -\n",
        "\n",
        "    If m = 0, then the T gate is applied $2^0 = 1$ time. So $\\frac{1}{\\sqrt{2}}(\\left|0\\right> + \\left|1\\right>)\\otimes \\left|\\psi\\right>$ becomes $\\frac{1}{\\sqrt{2}}(\\left|0\\right> \\otimes \\left|\\psi\\right>+ \\left|1\\right> \\otimes  e^{2\\pi i\\phi}\\left|\\psi\\right>) = \\frac{1}{\\sqrt{2}}(\\left|0\\right> + e^{2\\pi i\\phi}\\left|1\\right>) \\otimes \\left|\\psi\\right> = \\frac{1}{\\sqrt{2}}(\\left|0\\right> + e^{2\\pi i(\\frac{\\phi_1}{2} + \\frac{\\phi_2}{4} + \\frac{\\phi_3}{8} + ... + \\frac{\\phi_n}{2^n})}\\left|1\\right>) \\otimes \\left|\\psi\\right>$\n",
        "\n",
        "    If m = 1, $\\frac{1}{\\sqrt{2}}(\\left|0\\right> + \\left|1\\right>)\\otimes \\left|\\psi\\right>$ becomes $\\frac{1}{\\sqrt{2}}(\\left|0\\right> \\otimes \\left|\\psi\\right>+ \\left|1\\right> \\otimes  e^{2\\times2\\pi i\\phi}\\left|\\psi\\right>) = \\frac{1}{\\sqrt{2}}(\\left|0\\right> + e^{2\\times2\\pi i\\phi}\\left|1\\right>) \\otimes \\left|\\psi\\right> = \\frac{1}{\\sqrt{2}}(\\left|0\\right> + e^{2\\pi i(\\phi_1 + \\frac{\\phi_2}{2} + \\frac{\\phi_3}{4} + ... + \\frac{\\phi_n}{2^{n-1}})}\\left|1\\right>) \\otimes \\left|\\psi\\right> = \\frac{1}{\\sqrt{2}}(\\left|0\\right> + e^{2\\pi i\\phi_1}e^{2\\pi i(\\frac{\\phi_2}{2} + \\frac{\\phi_3}{4} + ... + \\frac{\\phi_n}{2^{n-1}})}\\left|1\\right>) \\otimes \\left|\\psi\\right> = \\frac{1}{\\sqrt{2}}(\\left|0\\right> + e^{2\\pi i(\\frac{\\phi_2}{2} + \\frac{\\phi_3}{4} + ... + \\frac{\\phi_n}{2^{n-1}})}\\left|1\\right>) \\otimes \\left|\\psi\\right>$\n",
        "    \n",
        "    If m = n - 1, $\\frac{1}{\\sqrt{2}}(\\left|0\\right> + \\left|1\\right>)\\otimes \\left|\\psi\\right>$ becomes $\\frac{1}{\\sqrt{2}}(\\left|0\\right> \\otimes \\left|\\psi\\right>+ \\left|1\\right> \\otimes  e^{2^{n-1}\\times2\\pi i\\phi}\\left|\\psi\\right>) = \\frac{1}{\\sqrt{2}}(\\left|0\\right> + e^{2^{n-1}\\times2\\pi i\\phi}\\left|1\\right>) \\otimes \\left|\\psi\\right> = \\frac{1}{\\sqrt{2}}(\\left|0\\right> + e^{2\\pi i(2^{n-2}\\phi_1 + 2^{n-3}\\phi_2 + 2^{n-4}\\phi_3 + ... + 2^{-1}\\phi_n})\\left|1\\right>) \\otimes \\left|\\psi\\right> = \\frac{1}{\\sqrt{2}}(\\left|0\\right> + e^{2^{n-2}\\times2\\pi i\\phi_1}e^{2^{n-3}\\times2\\pi i\\phi_2}...e^{2^{-1}\\times2\\pi i\\phi_n}\\left|1\\right>) \\otimes \\left|\\psi\\right> = \\frac{1}{\\sqrt{2}}(\\left|0\\right> + e^{2^{-1}\\times2\\pi i\\phi_n}\\left|1\\right>) \\otimes \\left|\\psi\\right> $\n",
        "\n",
        "<br>\n",
        "\n",
        "- The function then performs a phase correction. Why do we need this phase correction?\n",
        "\n",
        "Well, first note the following important point, and then we'll get back to that question : if we apply the T-gate to the main qubit $2^{n - 1}$ times, as we will in the first iteration of the IPEA, then m = $n-1$, and as shown above, our circuit's quantum state will be $\\frac{1}{\\sqrt{2}}(\\left|0\\right> + e^{2^{-1}\\times2\\pi i\\phi_n}\\left|1\\right>) \\otimes \\left|\\psi\\right>$. In this iteration, our goal is to find $\\phi_n$. If $\\phi_n = 0$, then this state is just $\\left |+\\right> \\otimes \\left|\\psi\\right>$, and if $\\phi_n = 1$, then it's $\\left |-\\right> \\otimes \\left|\\psi\\right>$. This means that if we measure the auxiliary qubit in the x-basis (the basis {$\\left |-\\right>, \\left |+\\right>$}), the auxiliary qubit will become $\\phi_n$. This is exactly what the \"inverse QFT\" in the code below is. It is using a Hadamard gate to convert the state $\\frac{1}{\\sqrt{2}}(\\left|0\\right> + e^{2^{-1}\\times2\\pi i\\phi_n}\\left|1\\right>) \\otimes \\left|\\psi\\right>$ to either $\\left |1\\right> \\otimes \\left|\\psi\\right>$ if $\\phi_n = 1$ (in which case measuring qubit 0 will yield 1), or $\\left |0\\right> \\otimes \\left|\\psi\\right>$ if $\\phi_n = 0$ (in which case measuring qubit 0 will yield 0).\n",
        "\n",
        "Now, back to the original question - why do we need this phase correction? Imagine we apply the T-gate to the main qubit not $2^{n - 1}$ times, but $2^{n - 2}$ times, as we will in the second iteration of the IPEA. Note that in this iteration, our goal will be to find $\\phi_{n-1}$. The state will go from $\\frac{1}{\\sqrt{2}}(\\left|0\\right> + \\left|1\\right>)\\otimes \\left|\\psi\\right>$ to $\\frac{1}{\\sqrt{2}}(\\left|0\\right> + e^{2\\pi i (\\frac{\\phi_{n-1}}{2} + \\frac{\\phi_n}{4})}\\left|1\\right>)\\otimes \\left|\\psi\\right>$. But ideally, we would like the state to be $\\frac{1}{\\sqrt{2}}(\\left|0\\right> + e^{2\\pi i (\\frac{\\phi_{n-1}}{2})}\\left|1\\right>)\\otimes \\left|\\psi\\right>$. That's because if that were the state, all it would take is a simple measurement in the x-basis for the auxiliary qubit to collapse to whatever value $\\phi_{n-1}$ held (as shown above in the case of the first iteration). So, how do we get the state of the circuit into the ideal state? We can just apply the rotation operator $R_z(\\theta)$ with $\\theta = \\frac{-2\\pi\\phi_n}{4}$. You can work out the effect of applying this operator to qubit 0. The state that will result will be $e^{i\\frac{\\pi\\phi_n}{4}}\\frac{1}{\\sqrt{2}}(\\left|0\\right> + e^{2\\pi i \\frac{\\phi_{n-1}}{2}}\\left|1\\right>)$. The overall phase can be ignored, and we have the ideal state. This is why we need the phase correction. To remove these unwanted phases and create the state to which only a measurement in the x-basis is necessary to complete the iteration. Generally speaking, for iteration k, $\\theta = -2\\pi\\times(\\frac{\\phi_{n-k+2}}{4} + \\frac{\\phi_{n-k+3}}{8} + ... + \\frac{\\phi_n}{2^n})$\n",
        "\n",
        "<br>\n",
        "\n",
        "- Finally, the function does this inverse Quantum Fourier Transform (QFT), which is nothing but a measurement in the Hadamard basis as described in previous bullet point. It then returns the circuit ready for execution on a quantum computer."
      ]
    },
    {
      "cell_type": "code",
      "execution_count": 57,
      "id": "25472a0e",
      "metadata": {
        "colab": {
          "base_uri": "https://localhost:8080/",
          "height": 125
        },
        "id": "25472a0e",
        "outputId": "804358c5-0e72-4919-a27d-94620184ae31"
      },
      "outputs": [
        {
          "output_type": "execute_result",
          "data": {
            "text/plain": [
              "     ┌───┐        ┌──────┐┌───┐┌─┐\n",
              "q_0: ┤ H ├─■──────┤ P(2) ├┤ H ├┤M├\n",
              "     ├───┤ │P(4π) └──────┘└───┘└╥┘\n",
              "q_1: ┤ X ├─■────────────────────╫─\n",
              "     └───┘                      ║ \n",
              "c: 1/═══════════════════════════╩═\n",
              "                                0 "
            ],
            "text/html": [
              "<pre style=\"word-wrap: normal;white-space: pre;background: #fff0;line-height: 1.1;font-family: &quot;Courier New&quot;,Courier,monospace\">     ┌───┐        ┌──────┐┌───┐┌─┐\n",
              "q_0: ┤ H ├─■──────┤ P(2) ├┤ H ├┤M├\n",
              "     ├───┤ │P(4π) └──────┘└───┘└╥┘\n",
              "q_1: ┤ X ├─■────────────────────╫─\n",
              "     └───┘                      ║ \n",
              "c: 1/═══════════════════════════╩═\n",
              "                                0 </pre>"
            ]
          },
          "metadata": {},
          "execution_count": 57
        }
      ],
      "source": [
        "def buildCircuit(p, m):\n",
        "    ## Fill in this part yourself!\n",
        "    # Tips: Use Hadamard gate, controlled-phase gate, and phase gate\n",
        "  qc = QuantumCircuit(2, 1)\n",
        "  qc.x(1)\n",
        "  qc.h(0)\n",
        "  qc.cp((np.pi / 4) * 2 ** m, 0, 1)\n",
        "  qc.p(p, 0)\n",
        "  qc.h(0)\n",
        "  qc.measure(0, 0)\n",
        "\n",
        "  return qc\n",
        "###def\n",
        "\n",
        "qc = buildCircuit(2, 4)\n",
        "qc.draw()\n"
      ]
    },
    {
      "cell_type": "markdown",
      "id": "12f34b29",
      "metadata": {
        "id": "12f34b29"
      },
      "source": [
        "The next function, as the name once again suggests, performs the IPEA algorithm. The above function just performed one iteration, and as you can see in the body of this function, there is a `for` loop in which `buildControlledT` is called, which implies that one iteration of this `for` loop represents one iteration of the IPEA. The `for` loop iterates k times (the input of the function). This tells us that the input k of the function signifies the number of iterations in the algorithm. But how many iterations do we want to feed in? Well, as long as $2^n\\phi$ can be expressed in binary, we should be good. Remember that each iteration gives you one of the $\\phi_k$'s (in particular, the k<sup>th</sup> iteration gives you $\\phi_{n-k+1}$). This function does its iterations, and in each iteration, it is basically just creating the circuit with the two qubits, doing what it needs to do (the four bullet points above) to the circuit, running the circuit, recovering the result (the $\\phi_k$ for that iteration), and appending it to the bits list. Once we get the bits, we can use the expression $\\phi = \\frac{\\phi_1}{2} + \\frac{\\phi_2}{4} + \\frac{\\phi_3}{8} + ... + \\frac{\\phi_n}{2^n}$ to find $\\phi$."
      ]
    },
    {
      "cell_type": "code",
      "execution_count": 58,
      "id": "e58f8990",
      "metadata": {
        "id": "e58f8990"
      },
      "outputs": [],
      "source": [
        "def IPEA(k):\n",
        "    # get backend\n",
        "    #backend = Aer.get_backend('qasm_simulator')\n",
        "    backend = provider.get_backend('ionq_simulator')\n",
        "    # bits\n",
        "    bits = []\n",
        "\n",
        "    # phase correction\n",
        "    phase = 0.0\n",
        "\n",
        "    # loop over iterations\n",
        "    for i in range(k-1, -1, -1):\n",
        "\n",
        "        # construct the circuit\n",
        "        qc = buildCircuit(phase, i)\n",
        "\n",
        "        # run the circuit\n",
        "        #job = execute(qc, backend)\n",
        "        job = backend.run(qc, noise_model='aria-1')\n",
        "        # get result\n",
        "        result = job.result()\n",
        "\n",
        "        # get current bit\n",
        "        this_bit = int(max(result.get_counts(), key=result.get_counts().get))\n",
        "        print(result.get_counts())\n",
        "\n",
        "        bits.append(this_bit)\n",
        "\n",
        "        # update phase correction\n",
        "        phase /= 2\n",
        "        phase -= (2 * np.pi * this_bit / 4.0)\n",
        "\n",
        "    return bits\n",
        "###def"
      ]
    },
    {
      "cell_type": "markdown",
      "id": "c0039d2b",
      "metadata": {
        "id": "c0039d2b"
      },
      "source": [
        "If you have made it this far, then you are doing very well! This algorithm is complicated. Good job! The final function that we will have to define is `eig_from_bits`, which will take in the list of $\\phi_k$'s that the above function will return, and return the eigenvalue associated with $\\left|\\psi\\right>$"
      ]
    },
    {
      "cell_type": "code",
      "execution_count": 59,
      "id": "e87369fb",
      "metadata": {
        "id": "e87369fb"
      },
      "outputs": [],
      "source": [
        "def eig_from_bits(bits):\n",
        "\n",
        "    eig = 0.\n",
        "    m = len(bits)\n",
        "\n",
        "    # loop over all bits\n",
        "    for k in range(len(bits)):\n",
        "        eig += bits[k] / (2**(m-k))\n",
        "    ###for\n",
        "\n",
        "    return eig\n",
        "###def"
      ]
    },
    {
      "cell_type": "markdown",
      "id": "95c699db",
      "metadata": {
        "id": "95c699db"
      },
      "source": [
        "You have now understood the IPEA! Let's actually perform it and see if we can get our $\\frac{1}{8}$"
      ]
    },
    {
      "cell_type": "code",
      "execution_count": 60,
      "id": "47cb392d",
      "metadata": {
        "colab": {
          "base_uri": "https://localhost:8080/"
        },
        "id": "47cb392d",
        "outputId": "06c3a416-8ac9-43f0-bd27-dde9b71acd4d"
      },
      "outputs": [
        {
          "output_type": "stream",
          "name": "stdout",
          "text": [
            "{'0': 1024}\n",
            "{'0': 1020, '1': 4}\n",
            "{'0': 16, '1': 1008}\n",
            "{'0': 1005, '1': 19}\n",
            "{'0': 1008, '1': 16}\n",
            "[0, 0, 1, 0, 0]\n",
            "The phase is 0.125\n"
          ]
        }
      ],
      "source": [
        "# perform IPEA\n",
        "bits = IPEA(5)\n",
        "print(bits)\n",
        "\n",
        "# re-construct energy\n",
        "eig = eig_from_bits(bits)\n",
        "\n",
        "print(\"The phase is\", eig)"
      ]
    },
    {
      "cell_type": "markdown",
      "id": "d2975160",
      "metadata": {
        "id": "d2975160"
      },
      "source": [
        "It worked!"
      ]
    },
    {
      "cell_type": "markdown",
      "id": "c94427d0",
      "metadata": {
        "id": "c94427d0"
      },
      "source": [
        "### I hope you enjoyed going through this notebook!"
      ]
    }
  ],
  "metadata": {
    "kernelspec": {
      "display_name": "Python 3 (ipykernel)",
      "language": "python",
      "name": "python3"
    },
    "language_info": {
      "codemirror_mode": {
        "name": "ipython",
        "version": 3
      },
      "file_extension": ".py",
      "mimetype": "text/x-python",
      "name": "python",
      "nbconvert_exporter": "python",
      "pygments_lexer": "ipython3",
      "version": "3.9.16"
    },
    "colab": {
      "provenance": [],
      "include_colab_link": true
    }
  },
  "nbformat": 4,
  "nbformat_minor": 5
}