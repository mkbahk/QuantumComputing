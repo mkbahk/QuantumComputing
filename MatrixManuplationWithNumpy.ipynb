{
  "nbformat": 4,
  "nbformat_minor": 0,
  "metadata": {
    "colab": {
      "provenance": [],
      "authorship_tag": "ABX9TyM1Gvs1/kin/5K1h62MqkzA",
      "include_colab_link": true
    },
    "kernelspec": {
      "name": "python3",
      "display_name": "Python 3"
    },
    "language_info": {
      "name": "python"
    }
  },
  "cells": [
    {
      "cell_type": "markdown",
      "metadata": {
        "id": "view-in-github",
        "colab_type": "text"
      },
      "source": [
        "<a href=\"https://colab.research.google.com/github/mkbahk/QuantumComputing/blob/main/MatrixManuplationWithNumpy.ipynb\" target=\"_parent\"><img src=\"https://colab.research.google.com/assets/colab-badge.svg\" alt=\"Open In Colab\"/></a>"
      ]
    },
    {
      "cell_type": "code",
      "execution_count": 1,
      "metadata": {
        "id": "rywPlfVr7iur"
      },
      "outputs": [],
      "source": [
        "import numpy as np"
      ]
    },
    {
      "cell_type": "code",
      "source": [
        "A = np.identity(n=3, dtype=float)\n",
        "A"
      ],
      "metadata": {
        "colab": {
          "base_uri": "https://localhost:8080/"
        },
        "id": "6CijZSh88ZME",
        "outputId": "78f58d7f-8251-44ed-8b48-6fae60935083"
      },
      "execution_count": 7,
      "outputs": [
        {
          "output_type": "execute_result",
          "data": {
            "text/plain": [
              "array([[1., 0., 0.],\n",
              "       [0., 1., 0.],\n",
              "       [0., 0., 1.]])"
            ]
          },
          "metadata": {},
          "execution_count": 7
        }
      ]
    },
    {
      "cell_type": "code",
      "source": [
        "A = np.identity(n=3, dtype=complex)\n",
        "A"
      ],
      "metadata": {
        "colab": {
          "base_uri": "https://localhost:8080/"
        },
        "id": "RjAv8qW67mwG",
        "outputId": "7396fb0d-8679-4791-bfce-2768cb35c506"
      },
      "execution_count": 9,
      "outputs": [
        {
          "output_type": "execute_result",
          "data": {
            "text/plain": [
              "array([[1.+0.j, 0.+0.j, 0.+0.j],\n",
              "       [0.+0.j, 1.+0.j, 0.+0.j],\n",
              "       [0.+0.j, 0.+0.j, 1.+0.j]])"
            ]
          },
          "metadata": {},
          "execution_count": 9
        }
      ]
    },
    {
      "cell_type": "code",
      "source": [
        "A = np.array(\n",
        "    [[1, 2],\n",
        "    [3, 4]])\n",
        "A.T"
      ],
      "metadata": {
        "colab": {
          "base_uri": "https://localhost:8080/"
        },
        "id": "hoar7ihZ830h",
        "outputId": "2cfb0d64-8c0c-4954-85f7-72483710deb1"
      },
      "execution_count": 10,
      "outputs": [
        {
          "output_type": "execute_result",
          "data": {
            "text/plain": [
              "array([[1, 3],\n",
              "       [2, 4]])"
            ]
          },
          "metadata": {},
          "execution_count": 10
        }
      ]
    },
    {
      "cell_type": "code",
      "source": [
        "A = np.array(\n",
        "    [[1+1j, 2+1j],\n",
        "    [3-1j, 4-1j]])\n",
        "A.T"
      ],
      "metadata": {
        "colab": {
          "base_uri": "https://localhost:8080/"
        },
        "id": "n67UhKr68Cgd",
        "outputId": "37defd24-5c2a-49f3-a4b0-0de254d161eb"
      },
      "execution_count": 11,
      "outputs": [
        {
          "output_type": "execute_result",
          "data": {
            "text/plain": [
              "array([[1.+1.j, 3.-1.j],\n",
              "       [2.+1.j, 4.-1.j]])"
            ]
          },
          "metadata": {},
          "execution_count": 11
        }
      ]
    },
    {
      "cell_type": "code",
      "source": [
        "A = np.array(\n",
        "    [[1, 2],\n",
        "     [3, 4]])\n",
        "\n",
        "np.linalg.det(A)"
      ],
      "metadata": {
        "colab": {
          "base_uri": "https://localhost:8080/"
        },
        "id": "GsCA1CXY9OnI",
        "outputId": "3394194f-cc9b-4272-879f-d413269b4803"
      },
      "execution_count": 14,
      "outputs": [
        {
          "output_type": "execute_result",
          "data": {
            "text/plain": [
              "-2.0000000000000004"
            ]
          },
          "metadata": {},
          "execution_count": 14
        }
      ]
    },
    {
      "cell_type": "code",
      "source": [
        "A = np.array(\n",
        "    [[1, 2],\n",
        "     [3, 4]])\n",
        "A_inv = np.linalg.inv(A)\n",
        "A_inv"
      ],
      "metadata": {
        "colab": {
          "base_uri": "https://localhost:8080/"
        },
        "id": "FJWOkEE89nt6",
        "outputId": "5db695a9-2754-4287-9577-809ab825adba"
      },
      "execution_count": 15,
      "outputs": [
        {
          "output_type": "execute_result",
          "data": {
            "text/plain": [
              "array([[-2. ,  1. ],\n",
              "       [ 1.5, -0.5]])"
            ]
          },
          "metadata": {},
          "execution_count": 15
        }
      ]
    },
    {
      "cell_type": "code",
      "source": [
        "A @ A_inv"
      ],
      "metadata": {
        "colab": {
          "base_uri": "https://localhost:8080/"
        },
        "id": "gQaW5rFH90iy",
        "outputId": "bc115114-5215-46df-da56-be361617df85"
      },
      "execution_count": 16,
      "outputs": [
        {
          "output_type": "execute_result",
          "data": {
            "text/plain": [
              "array([[1.0000000e+00, 0.0000000e+00],\n",
              "       [8.8817842e-16, 1.0000000e+00]])"
            ]
          },
          "metadata": {},
          "execution_count": 16
        }
      ]
    },
    {
      "cell_type": "code",
      "source": [
        "A = np.array(\n",
        "    [[1+1j, 2+1j],\n",
        "     [3-1j, 4-1j]])\n",
        "A_inv = np.linalg.inv(A)\n",
        "A_inv"
      ],
      "metadata": {
        "colab": {
          "base_uri": "https://localhost:8080/"
        },
        "id": "qiEl0HX5-DHs",
        "outputId": "23def798-8848-472e-ebd8-2778588e5033"
      },
      "execution_count": 17,
      "outputs": [
        {
          "output_type": "execute_result",
          "data": {
            "text/plain": [
              "array([[-1.25000000e+00-0.75j,  2.50000000e-01+0.75j],\n",
              "       [ 1.00000000e+00+0.5j , -8.32667268e-17-0.5j ]])"
            ]
          },
          "metadata": {},
          "execution_count": 17
        }
      ]
    },
    {
      "cell_type": "code",
      "source": [
        "A @ A_inv"
      ],
      "metadata": {
        "colab": {
          "base_uri": "https://localhost:8080/"
        },
        "id": "SFyZzQv2-FQG",
        "outputId": "d19793ce-334b-4b4e-c20c-251449997290"
      },
      "execution_count": 18,
      "outputs": [
        {
          "output_type": "execute_result",
          "data": {
            "text/plain": [
              "array([[1.00000000e+00+0.00000000e+00j, 0.00000000e+00+0.00000000e+00j],\n",
              "       [1.11022302e-16+4.44089210e-16j, 1.00000000e+00-2.22044605e-16j]])"
            ]
          },
          "metadata": {},
          "execution_count": 18
        }
      ]
    },
    {
      "cell_type": "code",
      "source": [
        "def unitary_matrix(n):\n",
        "  \"\"\"\n",
        "  n차원 unitary matrix를 생성합니다.\n",
        "\n",
        "  Args:\n",
        "    n: 행렬의 차원\n",
        "\n",
        "  Returns:\n",
        "    n차원 unitary matrix\n",
        "  \"\"\"\n",
        "\n",
        "  # n개의 복소수 단위벡터를 생성합니다.\n",
        "  unit_vectors = np.random.randn(n, n) + 1j * np.random.randn(n, n)\n",
        "\n",
        "  # 행렬의 각 행의 내적을 1로 맞춥니다.\n",
        "  for i in range(n):\n",
        "    unit_vectors[i] = unit_vectors[i] / np.linalg.norm(unit_vectors[i])\n",
        "  ###for\n",
        "\n",
        "  return unit_vectors\n",
        "###def"
      ],
      "metadata": {
        "id": "TAB_YL3K-euY"
      },
      "execution_count": 23,
      "outputs": []
    },
    {
      "cell_type": "code",
      "source": [
        "# 사용 예제\n",
        "#A = unitary_matrix(3)\n",
        "A = unitary_matrix(n = 3)\n",
        "print(A)"
      ],
      "metadata": {
        "colab": {
          "base_uri": "https://localhost:8080/"
        },
        "id": "QftY_Li7_vHO",
        "outputId": "5e889e11-6fda-4654-9a07-69da6b1afaee"
      },
      "execution_count": 24,
      "outputs": [
        {
          "output_type": "stream",
          "name": "stdout",
          "text": [
            "[[ 0.04558988-0.12230214j  0.28173864-0.86029452j  0.05850563-0.40007188j]\n",
            " [ 0.68619794-0.22994688j  0.10719688+0.56150234j  0.33830088-0.18717179j]\n",
            " [ 0.07310326+0.15059647j -0.49898295-0.17542233j -0.83108795-0.03889046j]]\n"
          ]
        }
      ]
    }
  ]
}