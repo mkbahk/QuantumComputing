{
  "nbformat": 4,
  "nbformat_minor": 0,
  "metadata": {
    "colab": {
      "private_outputs": true,
      "provenance": [],
      "authorship_tag": "ABX9TyMuxUh+zRsIxHupn80nfr+s",
      "include_colab_link": true
    },
    "kernelspec": {
      "name": "python3",
      "display_name": "Python 3"
    },
    "language_info": {
      "name": "python"
    }
  },
  "cells": [
    {
      "cell_type": "markdown",
      "metadata": {
        "id": "view-in-github",
        "colab_type": "text"
      },
      "source": [
        "<a href=\"https://colab.research.google.com/github/mkbahk/QuantumComputing/blob/main/IonQ_%EC%9D%B4%EB%A1%A0%ED%8A%B8%EB%9E%A9%EC%9E%90%EC%84%B8%ED%9E%88%EC%95%8C%EC%95%84%EB%B3%B4%EA%B8%B0_QFT_Adder.ipynb\" target=\"_parent\"><img src=\"https://colab.research.google.com/assets/colab-badge.svg\" alt=\"Open In Colab\"/></a>"
      ]
    },
    {
      "cell_type": "code",
      "execution_count": null,
      "metadata": {
        "id": "W0dIyeMfyBg7"
      },
      "outputs": [],
      "source": [
        "!python3 -m pip install --upgrade qiskit\n",
        "!python3 -m pip install qiskit_ionq\n",
        "!python3 -m pip install matplotlib"
      ]
    },
    {
      "cell_type": "code",
      "source": [
        "#import Aer here, before calling qiskit_ionq_provider\n",
        "from qiskit import QuantumCircuit, QuantumRegister, ClassicalRegister\n",
        "from qiskit import Aer, execute\n",
        "from qiskit.circuit.library import QFT\n",
        "\n",
        "from qiskit_ionq import IonQProvider\n",
        "from math import pi\n",
        "import numpy as np\n",
        "from matplotlib import pyplot as plt\n",
        "%matplotlib inline"
      ],
      "metadata": {
        "id": "ca-QS_z3yar3"
      },
      "execution_count": null,
      "outputs": []
    },
    {
      "cell_type": "code",
      "source": [
        "#Call provider and set token value\n",
        "provider = IonQProvider(token=\"OiyYG9lEiTNGHJMqBF8GYAn4AIwZX4QV\")\n",
        "provider.backends()"
      ],
      "metadata": {
        "id": "MvDHpQ1LzO9l"
      },
      "execution_count": null,
      "outputs": []
    },
    {
      "cell_type": "code",
      "source": [
        "# Quantum Fourier transform of |q>, of Length n.\n",
        "def qft(circ, q, n):\n",
        "  #loop through the target qubits.\n",
        "  for i in range(n, 0, -1):\n",
        "    # Apply the H gate to the target.\n",
        "    circ.h(q[i-1])\n",
        "\n",
        "    # Loop through the control qubits.\n",
        "    for j in range(i--1, 0, -1):\n",
        "      circ.cp(2*np.pi/2**(i-j+1, q[j-1]), q[i-1])\n",
        "    ###for\n",
        "  ###for\n",
        "###def\n",
        "\n",
        "# Inverse Fourier transform of |q>, of Length n.\n",
        "def iqft(circ, q, n):\n",
        "  #Loop through the target qubits.\n",
        "  for i in range(1, n+1):\n",
        "    #  Loop through the control qubits.\n",
        "    for j in range(1, i):\n",
        "      # The inverse Fourier transform just users a negative phase.\n",
        "      circ.cp(-2*np.pi/2**(i-j+1), q[j-1], q[i-1])\n",
        "    ###for\n",
        "    # Apply the H gate to the target.\n",
        "    circ.h(q[i-1])\n",
        "  ###for\n",
        "###def"
      ],
      "metadata": {
        "id": "JXotuzSO5Ovl"
      },
      "execution_count": null,
      "outputs": []
    },
    {
      "cell_type": "code",
      "source": [
        "# define the Add Function\n",
        "def Add(circ, a, b, n):\n",
        "  # add  1 to n to account for overflow\n",
        "  n += 1\n",
        "  # take the QFT\n",
        "  qft(circ, b, n)\n",
        "\n",
        "  circ.barrier()\n",
        "\n",
        "  # Compute the controlled phases\n",
        "  # Iterate over targets\n",
        "  for i in range(n, 0, -1):\n",
        "    # Interate over controls\n",
        "    for j in range(i, 0, -1):\n",
        "      # If the qubit a[j-1] exists run cp, if not assume the qubit is 0 and naver existed.\n",
        "      if len(a) - 1 >= j - 1:\n",
        "        circ.cp(2*np.pi/2**(i-j+1), a[j-1], b[i-1])\n",
        "      ###if\n",
        "    ###for\n",
        "  ###for\n",
        "  circ.barrier()\n",
        "\n",
        "  # take the inverse QFT\n",
        "  iqft(circ, b, n)\n",
        "###def"
      ],
      "metadata": {
        "id": "J_4kmboU6qWt"
      },
      "execution_count": null,
      "outputs": []
    },
    {
      "cell_type": "code",
      "source": [
        "# Registers and circuit.\n",
        "a = QuantumRegister(2)\n",
        "b = QuantumRegister(3)\n",
        "ca = ClassicalRegister(2)\n",
        "cb = ClassicalRegister(3)\n",
        "qc = QuantumCircuit(a, b, ca, cb)\n",
        "\n",
        "# Numbers to add.\n",
        "qc.x(a[1]) # a =  01110 / a = 10\n",
        "#qc.x(a[2])\n",
        "#qc.x(a[3])\n",
        "\n",
        "qc.x(b[0]) # b = 01011 / b = 001\n",
        "#qc.x(b[1])\n",
        "#qc.x(b[3])\n",
        "\n",
        "qc.barrier()\n",
        "\n",
        "# Add the numbers, so |a> |b> to |a>|a+b>.\n",
        "Add(qc, a, b, 2)\n",
        "\n",
        "qc.barrier()\n",
        "\n",
        "# Measure the results\n",
        "qc.measure(a, ca)\n",
        "qc.measure(b, cb)\n",
        "\n",
        "qc.draw(output='mpl')"
      ],
      "metadata": {
        "id": "09KVz8wGC9Jh"
      },
      "execution_count": null,
      "outputs": []
    },
    {
      "cell_type": "code",
      "source": [
        "# Simulate the circuit\n",
        "simulator = Aer.get_backend('qasm_simulator')\n",
        "job_sim = execute(qc, simulator)\n",
        "result_sim = job_sim.result()\n",
        "\n",
        "print(result_sim.get_counts(qc))\n"
      ],
      "metadata": {
        "id": "MQDi_5lYEkIq"
      },
      "execution_count": null,
      "outputs": []
    },
    {
      "cell_type": "code",
      "source": [
        "# run the circuit on a real-device\n",
        "qpu = provider.get_backend('ionq_qpu')\n",
        "qpu_job = qpu.run(qc)\n",
        "\n",
        "# Check if job is done.\n",
        "while qpu_job.status() is not JobStatus.DONE:\n",
        "  print(\"Job status is\", qpu_job.status())\n",
        "  time.sleep(60)\n",
        "###while"
      ],
      "metadata": {
        "id": "4DFhhLv_Gbk_"
      },
      "execution_count": null,
      "outputs": []
    },
    {
      "cell_type": "code",
      "source": [
        "from qiskit.visualization import plot_histogram\n",
        "plot_histogram(qpu_job.get_counts())"
      ],
      "metadata": {
        "id": "tDZ9Qi5BHcwZ"
      },
      "execution_count": null,
      "outputs": []
    },
    {
      "cell_type": "code",
      "source": [],
      "metadata": {
        "id": "yEPvzdI0IOeA"
      },
      "execution_count": null,
      "outputs": []
    }
  ]
}