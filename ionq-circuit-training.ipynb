{
  "cells": [
    {
      "cell_type": "markdown",
      "metadata": {
        "id": "KXYPY8El-Wol"
      },
      "source": [
        "# Generative Learning Using a Quantum Computer"
      ]
    },
    {
      "cell_type": "markdown",
      "metadata": {
        "id": "cxHq2wl7-Won"
      },
      "source": [
        "In this tutorial, we implement Data-driven quantum circuit learning (DDQCL), based on the 2019 paper [Training of quantum circuits on a hybrid quantum computer](https://advances.sciencemag.org/content/5/10/eaaw9918) by Zhu et. al, using the Qiskit SDK."
      ]
    },
    {
      "cell_type": "markdown",
      "metadata": {
        "id": "OoEub7b9-Woo"
      },
      "source": [
        "### DQCCL\n",
        "DDQCL is a hybrid quantum-classical technique for generative modeling of classical data, using a parametrized quantum circuit as the model being trained. Training occurs by sampling the output of a parametrized circuit run on a quantum computer and updating the circuit parameters using classical optimization techniques. Convergence produces a circuit that captures the correlations in the training data, thus serving as a generative model for the data itself."
      ]
    },
    {
      "cell_type": "markdown",
      "metadata": {
        "id": "5UIT6GzR-Woo"
      },
      "source": [
        "### The Bars-And-Stripes (BAS) Dataset\n",
        "The data we will be training against is a canonical ensemble that works like so: for an $n \\times m$ matrix, each cell can either be on (filled-in) or off (blank); it is a valid BAS example if it contains only completely filled rows (bars) or columns (stripes).\n",
        "\n",
        "For a 2x2 matrix, like we will be using in this example, this allows for six valid patterns of 16 total permutations:\n",
        "![BAS.png](attachment:c0eeb85b-c61f-404b-8d44-98dade577195.png)\n",
        "\n",
        "We encode this as a binary string by reading left-to-right, top-to-bottom, with a filled-in cell representing a 1 and a blank cell a 0; the above valid examples translate (in order) to 0000, 1100, 0011, 0000, 1010, and 0101."
      ]
    },
    {
      "cell_type": "markdown",
      "metadata": {
        "id": "3QQLyTXs-Wop"
      },
      "source": [
        "## Implementation\n",
        "We will be implementing this technique using noisyopt, a python library for optimizing noisy functions. To do that, we'll need to define\n",
        "1. A generator for our BAS training data\n",
        "2. A generator for our parametrized circuit\n",
        "3. A cost function for our optimizer\n",
        "4. The hybrid learning algorithm itself, using all of the above"
      ]
    },
    {
      "cell_type": "markdown",
      "metadata": {
        "id": "P9Abh_ps-Woq"
      },
      "source": [
        "## Imports and Setup"
      ]
    },
    {
      "cell_type": "markdown",
      "metadata": {
        "id": "fDeetslq-Woq"
      },
      "source": [
        "First, we'll do some setup that will allow us to build, optimize, visualize, store, and retrieve the circuits we'll be running."
      ]
    },
    {
      "source": [
        "First, get an API key from IonQ. This will be used by the IonQ provider inside Qiskit to submit circuits to the IonQ platform.\n",
        "\n",
        "After securing an API key, install the qiskit-ionq provider at https://github.com/Qiskit-Partners/qiskit-ionq/\n",
        "\n",
        "### (Optional) Extra Dependencies\n",
        "\n",
        "Some examples use additional Python dependencies; please make sure to `pip install` them as needed.\n",
        "\n",
        "Dependencies:\n",
        "* `matplotlib`: To run `qiskit.visualization.plot_histogram`.\n",
        "\n",
        "**NOTE**: The provider expects an API key to be supplied via the `token` keyword argument to its constructor. If no token is directly provided, the provider will check for one in the `QISKIT_IONQ_API_TOKEN` environment variable.\n",
        "\n",
        "Now that the Python package has been installed, you can import and instantiate the provider:"
      ],
      "cell_type": "markdown",
      "metadata": {
        "id": "LAQSn5Vh-Wor"
      }
    },
    {
      "cell_type": "code",
      "source": [
        "!python -m pip install -U pip\n",
        "!python -m pip install -U \"qiskit-terra>=0.17.4\"\n",
        "!python -m pip install qiskit-ionq"
      ],
      "metadata": {
        "id": "WOu9p3X7-6Ts",
        "outputId": "fdeeaa43-a4ea-4ef7-cbe0-b9c80a62d874",
        "colab": {
          "base_uri": "https://localhost:8080/"
        }
      },
      "execution_count": 7,
      "outputs": [
        {
          "output_type": "stream",
          "name": "stdout",
          "text": [
            "Requirement already satisfied: pip in /usr/local/lib/python3.10/dist-packages (23.1.2)\n",
            "Requirement already satisfied: qiskit-terra>=0.17.4 in /usr/local/lib/python3.10/dist-packages (0.24.1)\n",
            "Requirement already satisfied: rustworkx>=0.12.0 in /usr/local/lib/python3.10/dist-packages (from qiskit-terra>=0.17.4) (0.13.0)\n",
            "Requirement already satisfied: numpy>=1.17 in /usr/local/lib/python3.10/dist-packages (from qiskit-terra>=0.17.4) (1.22.4)\n",
            "Requirement already satisfied: ply>=3.10 in /usr/local/lib/python3.10/dist-packages (from qiskit-terra>=0.17.4) (3.11)\n",
            "Requirement already satisfied: psutil>=5 in /usr/local/lib/python3.10/dist-packages (from qiskit-terra>=0.17.4) (5.9.5)\n",
            "Requirement already satisfied: scipy>=1.5 in /usr/local/lib/python3.10/dist-packages (from qiskit-terra>=0.17.4) (1.10.1)\n",
            "Requirement already satisfied: sympy>=1.3 in /usr/local/lib/python3.10/dist-packages (from qiskit-terra>=0.17.4) (1.11.1)\n",
            "Requirement already satisfied: dill>=0.3 in /usr/local/lib/python3.10/dist-packages (from qiskit-terra>=0.17.4) (0.3.6)\n",
            "Requirement already satisfied: python-dateutil>=2.8.0 in /usr/local/lib/python3.10/dist-packages (from qiskit-terra>=0.17.4) (2.8.2)\n",
            "Requirement already satisfied: stevedore>=3.0.0 in /usr/local/lib/python3.10/dist-packages (from qiskit-terra>=0.17.4) (5.1.0)\n",
            "Requirement already satisfied: symengine<0.10,>=0.9 in /usr/local/lib/python3.10/dist-packages (from qiskit-terra>=0.17.4) (0.9.2)\n",
            "Requirement already satisfied: six>=1.5 in /usr/local/lib/python3.10/dist-packages (from python-dateutil>=2.8.0->qiskit-terra>=0.17.4) (1.16.0)\n",
            "Requirement already satisfied: pbr!=2.1.0,>=2.0.0 in /usr/local/lib/python3.10/dist-packages (from stevedore>=3.0.0->qiskit-terra>=0.17.4) (5.11.1)\n",
            "Requirement already satisfied: mpmath>=0.19 in /usr/local/lib/python3.10/dist-packages (from sympy>=1.3->qiskit-terra>=0.17.4) (1.3.0)\n",
            "Collecting qiskit-ionq\n",
            "  Downloading qiskit_ionq-0.4.1-py3-none-any.whl (37 kB)\n",
            "Collecting decorator>=5.1.0 (from qiskit-ionq)\n",
            "  Downloading decorator-5.1.1-py3-none-any.whl (9.1 kB)\n",
            "Requirement already satisfied: qiskit-terra>=0.17.4 in /usr/local/lib/python3.10/dist-packages (from qiskit-ionq) (0.24.1)\n",
            "Requirement already satisfied: requests>=2.24.0 in /usr/local/lib/python3.10/dist-packages (from qiskit-ionq) (2.27.1)\n",
            "Collecting retry>=0.9.0 (from qiskit-ionq)\n",
            "  Downloading retry-0.9.2-py2.py3-none-any.whl (8.0 kB)\n",
            "Collecting importlib-metadata>=4.11.4 (from qiskit-ionq)\n",
            "  Downloading importlib_metadata-6.8.0-py3-none-any.whl (22 kB)\n",
            "Requirement already satisfied: zipp>=0.5 in /usr/local/lib/python3.10/dist-packages (from importlib-metadata>=4.11.4->qiskit-ionq) (3.15.0)\n",
            "Requirement already satisfied: rustworkx>=0.12.0 in /usr/local/lib/python3.10/dist-packages (from qiskit-terra>=0.17.4->qiskit-ionq) (0.13.0)\n",
            "Requirement already satisfied: numpy>=1.17 in /usr/local/lib/python3.10/dist-packages (from qiskit-terra>=0.17.4->qiskit-ionq) (1.22.4)\n",
            "Requirement already satisfied: ply>=3.10 in /usr/local/lib/python3.10/dist-packages (from qiskit-terra>=0.17.4->qiskit-ionq) (3.11)\n",
            "Requirement already satisfied: psutil>=5 in /usr/local/lib/python3.10/dist-packages (from qiskit-terra>=0.17.4->qiskit-ionq) (5.9.5)\n",
            "Requirement already satisfied: scipy>=1.5 in /usr/local/lib/python3.10/dist-packages (from qiskit-terra>=0.17.4->qiskit-ionq) (1.10.1)\n",
            "Requirement already satisfied: sympy>=1.3 in /usr/local/lib/python3.10/dist-packages (from qiskit-terra>=0.17.4->qiskit-ionq) (1.11.1)\n",
            "Requirement already satisfied: dill>=0.3 in /usr/local/lib/python3.10/dist-packages (from qiskit-terra>=0.17.4->qiskit-ionq) (0.3.6)\n",
            "Requirement already satisfied: python-dateutil>=2.8.0 in /usr/local/lib/python3.10/dist-packages (from qiskit-terra>=0.17.4->qiskit-ionq) (2.8.2)\n",
            "Requirement already satisfied: stevedore>=3.0.0 in /usr/local/lib/python3.10/dist-packages (from qiskit-terra>=0.17.4->qiskit-ionq) (5.1.0)\n",
            "Requirement already satisfied: symengine<0.10,>=0.9 in /usr/local/lib/python3.10/dist-packages (from qiskit-terra>=0.17.4->qiskit-ionq) (0.9.2)\n",
            "Requirement already satisfied: urllib3<1.27,>=1.21.1 in /usr/local/lib/python3.10/dist-packages (from requests>=2.24.0->qiskit-ionq) (1.26.16)\n",
            "Requirement already satisfied: certifi>=2017.4.17 in /usr/local/lib/python3.10/dist-packages (from requests>=2.24.0->qiskit-ionq) (2023.5.7)\n",
            "Requirement already satisfied: charset-normalizer~=2.0.0 in /usr/local/lib/python3.10/dist-packages (from requests>=2.24.0->qiskit-ionq) (2.0.12)\n",
            "Requirement already satisfied: idna<4,>=2.5 in /usr/local/lib/python3.10/dist-packages (from requests>=2.24.0->qiskit-ionq) (3.4)\n",
            "Collecting py<2.0.0,>=1.4.26 (from retry>=0.9.0->qiskit-ionq)\n",
            "  Downloading py-1.11.0-py2.py3-none-any.whl (98 kB)\n",
            "\u001b[2K     \u001b[90m━━━━━━━━━━━━━━━━━━━━━━━━━━━━━━━━━━━━━━━━\u001b[0m \u001b[32m98.7/98.7 kB\u001b[0m \u001b[31m5.2 MB/s\u001b[0m eta \u001b[36m0:00:00\u001b[0m\n",
            "\u001b[?25hRequirement already satisfied: six>=1.5 in /usr/local/lib/python3.10/dist-packages (from python-dateutil>=2.8.0->qiskit-terra>=0.17.4->qiskit-ionq) (1.16.0)\n",
            "Requirement already satisfied: pbr!=2.1.0,>=2.0.0 in /usr/local/lib/python3.10/dist-packages (from stevedore>=3.0.0->qiskit-terra>=0.17.4->qiskit-ionq) (5.11.1)\n",
            "Requirement already satisfied: mpmath>=0.19 in /usr/local/lib/python3.10/dist-packages (from sympy>=1.3->qiskit-terra>=0.17.4->qiskit-ionq) (1.3.0)\n",
            "Installing collected packages: py, importlib-metadata, decorator, retry, qiskit-ionq\n",
            "  Attempting uninstall: decorator\n",
            "    Found existing installation: decorator 4.4.2\n",
            "    Uninstalling decorator-4.4.2:\n",
            "      Successfully uninstalled decorator-4.4.2\n",
            "\u001b[31mERROR: pip's dependency resolver does not currently take into account all the packages that are installed. This behaviour is the source of the following dependency conflicts.\n",
            "ipython 7.34.0 requires jedi>=0.16, which is not installed.\n",
            "moviepy 1.0.3 requires decorator<5.0,>=4.0.2, but you have decorator 5.1.1 which is incompatible.\u001b[0m\u001b[31m\n",
            "\u001b[0mSuccessfully installed decorator-5.1.1 importlib-metadata-6.8.0 py-1.11.0 qiskit-ionq-0.4.1 retry-0.9.2\n"
          ]
        }
      ]
    },
    {
      "cell_type": "code",
      "execution_count": 8,
      "metadata": {
        "scrolled": true,
        "id": "CNEqTJPj-Wor",
        "outputId": "9a9b92c6-b245-4782-999b-7ed824f2bd87",
        "colab": {
          "base_uri": "https://localhost:8080/"
        }
      },
      "outputs": [
        {
          "output_type": "stream",
          "name": "stdout",
          "text": [
            "Requirement already satisfied: noisyopt in /usr/local/lib/python3.10/dist-packages (0.2.2)\n",
            "Requirement already satisfied: numpy in /usr/local/lib/python3.10/dist-packages (from noisyopt) (1.22.4)\n",
            "Requirement already satisfied: scipy in /usr/local/lib/python3.10/dist-packages (from noisyopt) (1.10.1)\n"
          ]
        }
      ],
      "source": [
        "# general imports\n",
        "import math\n",
        "import time\n",
        "import pickle\n",
        "import random\n",
        "import numpy as np\n",
        "import matplotlib.pyplot as plt\n",
        "from scipy.optimize import minimize\n",
        "from datetime import datetime\n",
        "\n",
        "# Noisy optimization package — you could also use scipy's optimization functions,\n",
        "# but this is a little better suited to the noisy output of NISQ devices.\n",
        "%pip install noisyopt\n",
        "import noisyopt\n",
        "\n",
        "# magic invocation for producing visualizations in notebook\n",
        "%matplotlib inline"
      ]
    },
    {
      "cell_type": "code",
      "execution_count": 9,
      "metadata": {
        "id": "GYFkN_bT-Wot"
      },
      "outputs": [],
      "source": [
        "# Qiskit imports\n",
        "from qiskit import Aer\n",
        "\n",
        "from qiskit_ionq import IonQProvider\n",
        "\n",
        "#Call provider and set token value\n",
        "provider = IonQProvider(token='hoE6a1L4O41FK0m4PHPtLu5kLxj6Jl6R')"
      ]
    },
    {
      "source": [
        "The `provider` instance can now be used to create and submit circuits to IonQ.\n",
        "\n",
        "### Backend Types\n",
        "\n",
        "The IonQ provider supports two backend types:\n",
        "* `ionq_simulator`: IonQ's simulator backend.\n",
        "* `ionq_qpu`: IonQ's QPU backend.\n",
        "\n",
        "To view all current backend types, use the `.backends` property on the provider instance:\n"
      ],
      "cell_type": "markdown",
      "metadata": {
        "id": "o93v_l7X-Wot"
      }
    },
    {
      "cell_type": "code",
      "execution_count": 10,
      "metadata": {
        "id": "MMXDTpR4-Wou",
        "outputId": "c7eaca0f-40a2-40dc-8d0c-6a27d0434f13",
        "colab": {
          "base_uri": "https://localhost:8080/"
        }
      },
      "outputs": [
        {
          "output_type": "execute_result",
          "data": {
            "text/plain": [
              "[<IonQSimulatorBackend('ionq_simulator')>, <IonQQPUBackend('ionq_qpu')>]"
            ]
          },
          "metadata": {},
          "execution_count": 10
        }
      ],
      "source": [
        "provider.backends()"
      ]
    },
    {
      "cell_type": "code",
      "execution_count": 11,
      "metadata": {
        "id": "XAj_tdFI-Wov"
      },
      "outputs": [],
      "source": [
        "# fix random seed for reproducibility — this allows us to re-run the process and get the same results\n",
        "seed = 42\n",
        "np.random.seed(seed)\n",
        "random.seed(a=seed)"
      ]
    },
    {
      "cell_type": "markdown",
      "metadata": {
        "id": "fvM3HOqa-Wov"
      },
      "source": [
        "## BAS Generator"
      ]
    },
    {
      "cell_type": "markdown",
      "metadata": {
        "id": "LCEDswUG-Wov"
      },
      "source": [
        "Here we generate our bars and stripes — as this is just a proof-of-principle, we are limiting the possible outputs to the four single-bar or single-stripe outputs to keep convergence time (and therefore training cost) low."
      ]
    },
    {
      "cell_type": "code",
      "execution_count": 12,
      "metadata": {
        "id": "qZ1J54NU-Wow"
      },
      "outputs": [],
      "source": [
        "#Generate BAS, only one bar or stripe allowed\n",
        "def generate_target_distribution(rows, columns):\n",
        "    #Stripes\n",
        "    states=[]\n",
        "    for i in range(rows):\n",
        "        s=['0']*rows*columns\n",
        "        for j in range(columns):\n",
        "            s[j+columns*i]='1'\n",
        "        states.append(''.join(s))\n",
        "\n",
        "    #Bars\n",
        "    for j in range(columns):\n",
        "        s=['0']*rows*columns\n",
        "        for i in range(rows):\n",
        "            s[j+columns*i]='1'\n",
        "        states.append(''.join(s))\n",
        "\n",
        "    return states\n",
        "###def"
      ]
    },
    {
      "cell_type": "markdown",
      "metadata": {
        "id": "nOjBs-4A-Wow"
      },
      "source": [
        "## Circuit Generator"
      ]
    },
    {
      "cell_type": "markdown",
      "metadata": {
        "id": "zdvnfcBf-Wow"
      },
      "source": [
        "Here we define several driver functions which consist of parametrized one qubit gates that help to explore the Hilbert space, and several entangler functions that generate entanglement in the system.\n",
        "\n",
        "The complete circuit ansatz consists of repeating layers of the drivers and entanglers. The parameters ($\\gamma$ and $\\beta$) of the ansatz are iteratively optimized (learned) by our hybrid quantum-clasical routine."
      ]
    },
    {
      "cell_type": "code",
      "execution_count": 14,
      "metadata": {
        "id": "BPaj6O43-Wox"
      },
      "outputs": [],
      "source": [
        "#Parameters for driver\n",
        "def generate_beta(ansatz_type,random_init):\n",
        "    if ansatz_type[0]==0: #No driver\n",
        "        beta=[]\n",
        "    elif ansatz_type[0]==1: #Rz(t1)Rx(t2)Rz(t3), angles different for each qubit\n",
        "        beta=(\n",
        "            [random.uniform(0.0,2.*math.pi) for i in range(3*n*(layers-1))]\n",
        "            if random_init\n",
        "            else [0]*3*n*(layers-1)\n",
        "            ###if\n",
        "        )\n",
        "    elif ansatz_type[0]==2: #Rz(t1)Rx(t2)Rz(t3), angles same for all qubits\n",
        "        beta=(\n",
        "            [random.uniform(0.0,2.*math.pi) for i in range(3*(layers-1))]\n",
        "            if random_init\n",
        "            else [0]*3*(layers-1)\n",
        "            ###if\n",
        "        )\n",
        "    elif ansatz_type[0]==3: #Rz(t1), angles different for each qubit\n",
        "        beta=(\n",
        "            [random.uniform(0.0,2.*math.pi) for i in range(n*(layers-1))]\n",
        "            if random_init\n",
        "            else [0]*n*(layers-1)\n",
        "            ###if\n",
        "        )\n",
        "    else:\n",
        "        raise Exception(\"Undefined driver type\")\n",
        "    ###if\n",
        "\n",
        "    return beta\n",
        "###def\n",
        "\n",
        "#Parameters for entangler\n",
        "def generate_gamma(ansatz_type,random_init, n, conn):\n",
        "    length_gamma=int(n*conn-conn*(conn+1)/2.)\n",
        "    if ansatz_type[1]==0: #No entangler\n",
        "        gamma=[]\n",
        "    elif ansatz_type[1]==1: #XX(t1), angles different for each qubit\n",
        "        gamma=(\n",
        "            [random.uniform(0.0,2.*math.pi) for i in range(length_gamma*layers)]\n",
        "            if random_init\n",
        "            else [0]*length_gamma*layers\n",
        "            ###if\n",
        "        )\n",
        "    elif ansatz_type[1]==2: #XX(t1), angles same for all qubits\n",
        "        gamma=(\n",
        "            [random.uniform(0.0,2.*math.pi) for i in range(layers)]\n",
        "            if random_init\n",
        "            else gamma[0]*layers\n",
        "            ###if\n",
        "        )\n",
        "    else:\n",
        "        raise Exception(\"Undefined entangler type\")\n",
        "    ###if\n",
        "\n",
        "    return gamma\n",
        "###def\n"
      ]
    },
    {
      "cell_type": "code",
      "execution_count": 15,
      "metadata": {
        "id": "3XUqaUCp-Wox"
      },
      "outputs": [],
      "source": [
        "from qiskit import QuantumCircuit, QuantumRegister, ClassicalRegister\n",
        "from qiskit.circuit import Gate\n",
        "\n",
        "def driver(circ,qr,beta,n,ansatz_type):\n",
        "    #qr=QuantumRegister(n)\n",
        "    #circ = QuantumCircuit(qr)\n",
        "\n",
        "    if ansatz_type==0:\n",
        "        pass\n",
        "    elif ansatz_type==1:\n",
        "        for i_q in range(n):\n",
        "            circ.rz(beta[3*i_q], qr[i_q])\n",
        "            circ.rx(beta[3*i_q+1], qr[i_q])\n",
        "            circ.rz(beta[3*i_q+2], qr[i_q])\n",
        "        ###for\n",
        "    elif ansatz_type==2:\n",
        "        for i_q in range(n):\n",
        "            circ.rz(beta[0], qr[i_q])\n",
        "            circ.rx(beta[1], qr[i_q])\n",
        "            circ.rz(beta[2], qr[i_q])\n",
        "        ###for\n",
        "    elif ansatz_type==3:\n",
        "        for i_q in range(n):\n",
        "            circ.rz(beta[i_q], qr[i_q])\n",
        "        ###for\n",
        "    ###if\n",
        "\n",
        "    return\n",
        "###def\n",
        "\n",
        "def entangler(circ,qr,gamma,n,conn,ansatz_type):\n",
        "    #qr=QuantumRegister(n)\n",
        "    #cr=ClassicalRegister(n)\n",
        "    #circ = QuantumCircuit(qr)\n",
        "\n",
        "    if ansatz_type==0:\n",
        "        pass\n",
        "    elif ansatz_type==1:\n",
        "        i_gamma=0\n",
        "        for i_conn in range(1,conn+1):\n",
        "            for i_q in range(0,n-i_conn):\n",
        "                circ.cx(qr[i_q],qr[i_q+i_conn])\n",
        "                circ.rx(gamma[i_gamma],qr[i_q])\n",
        "                circ.cx(qr[i_q],qr[i_q+i_conn])\n",
        "                #circ.rxx(gamma[i_gamma], qr[i_q], qr[i_q+i_conn])\n",
        "                i_gamma+=1\n",
        "            ###for\n",
        "        ###for\n",
        "    elif ansatz_type==2:\n",
        "        for i_conn in range(1,conn+1):\n",
        "            for i_q in range(0,n-i_conn):\n",
        "                circ.cx(qr[i_q],qr[i_q+i_conn])\n",
        "                circ.rx(gamma[0],qr[i_q])\n",
        "                circ.cx(qr[i_q],qr[i_q+i_conn])\n",
        "                #circ.rxx(gamma[0], qr[i_q], qr[i_q+i_conn])\n",
        "            ###for\n",
        "        ###for\n",
        "    ###if\n",
        "\n",
        "    #circ.measure(qr,cr)\n",
        "    return\n",
        "###def\n",
        "\n",
        "#Define circuit ansatz\n",
        "def circuit_ansatz(n,params,conn=1, layers=1, ansatz_type=[1,1]):\n",
        "    qr=QuantumRegister(n)\n",
        "    cr=ClassicalRegister(n)\n",
        "    circ = QuantumCircuit(qr,cr)\n",
        "    if ansatz_type[0]==0:\n",
        "        length_beta=0\n",
        "    elif ansatz_type[0]==1:\n",
        "        length_beta=3*n\n",
        "    elif ansatz_type[0]==2:\n",
        "        length_beta=3\n",
        "    elif ansatz_type[0]==3:\n",
        "        length_beta=n\n",
        "    ###if\n",
        "\n",
        "    if ansatz_type[1]==0:\n",
        "        length_gamma=0\n",
        "    elif ansatz_type[1]==1:\n",
        "        length_gamma=int(n*conn-conn*(conn+1)/2.)\n",
        "    elif ansatz_type[1]==2:\n",
        "        length_gamma=1\n",
        "    ###if\n",
        "\n",
        "\n",
        "    for i_layer in range(layers-1):\n",
        "        beta=params[(length_beta+length_gamma)*i_layer:(length_beta+length_gamma)*i_layer+length_beta]\n",
        "        gamma=params[(length_beta+length_gamma)*i_layer+length_beta:(length_beta+length_gamma)*(i_layer+1)]\n",
        "        entangler(circ,qr,gamma,n,conn,ansatz_type[1])\n",
        "        driver(circ,qr,beta,n,ansatz_type[0])\n",
        "    ###for\n",
        "\n",
        "    gamma=params[(length_beta+length_gamma)*(layers-1):]\n",
        "    entangler(circ,qr,gamma,n,conn,ansatz_type[1])\n",
        "    circ.measure(qr, cr)\n",
        "\n",
        "    return circ\n",
        "###def"
      ]
    },
    {
      "cell_type": "markdown",
      "metadata": {
        "id": "MsMds8UN-Wox"
      },
      "source": [
        "## Cost function"
      ]
    },
    {
      "cell_type": "markdown",
      "metadata": {
        "id": "Oc-xfgx7-Woy"
      },
      "source": [
        "Here, we define our cost function to feed to the optimization routine, which takes the form of a regularized Kullback-Leibler Divergence ([Quick Overview](https://medium.com/@cdefaux/kullback-leibler-divergence-for-dummies-c3613bc80ad3), [Wikipedia](https://en.wikipedia.org/wiki/Kullback%E2%80%93Leibler_divergence))."
      ]
    },
    {
      "cell_type": "code",
      "execution_count": 16,
      "metadata": {
        "id": "324n0OaZ-Woy"
      },
      "outputs": [],
      "source": [
        "def cost(counts, shots, target_states,tol=0.0001):\n",
        "    cost=0\n",
        "    for state in target_states:\n",
        "        if state in counts:\n",
        "            cost-=1./len(target_states)*np.log2(max(tol,counts[state]/shots))\n",
        "        else:\n",
        "            cost-=1./len(target_states)*np.log2(tol)\n",
        "        ###if\n",
        "    ###for\n",
        "    return cost\n",
        "###def"
      ]
    },
    {
      "cell_type": "markdown",
      "metadata": {
        "id": "aGIuINyo-Woy"
      },
      "source": [
        "## Helper Methods"
      ]
    },
    {
      "cell_type": "markdown",
      "metadata": {
        "id": "GkqkyvRa-Woz"
      },
      "source": [
        "Finally, we define two helper methods: `run_iteration`, to run and return each iteration of our circuit (with some helpful tools for managing timeouts and waiting for results) and `run_circuit_and_calc_cost`, which  uses `run_iteration` to both run an interation of the circuit and calculate a new cost function, effectively taking a training step."
      ]
    },
    {
      "cell_type": "code",
      "execution_count": 18,
      "metadata": {
        "id": "pKrGEjim-Woz"
      },
      "outputs": [],
      "source": [
        "from qiskit.providers.jobstatus import JobStatus\n",
        "\n",
        "def run_iteration(circ, num_qubits, shots=100):\n",
        "    # submit task: define task (asynchronous)\n",
        "    task_status=''\n",
        "    while task_status != JobStatus.DONE:\n",
        "\n",
        "            task = backend.run(circ, shots=shots)\n",
        "            #print(\"Job submitted\")\n",
        "\n",
        "            # Get ID of submitted task\n",
        "            task_id = task.job_id()\n",
        "            #print('Task ID :', task_id)\n",
        "            while (task_status == JobStatus.INITIALIZING) or (task_status == JobStatus.QUEUED)   or (task_status == JobStatus.VALIDATING) or (task_status == JobStatus.RUNNING) or (task_status==''):\n",
        "                time.sleep(1)\n",
        "                try:\n",
        "                    task_status=task.status()\n",
        "                except:\n",
        "                    print(\"Error querying status. Trying again.\")\n",
        "                    pass\n",
        "                ###try\n",
        "            ###while\n",
        "        #print('Task status is', task_status)\n",
        "    ###while\n",
        "\n",
        "    # get result\n",
        "    counts = task.result().get_counts()\n",
        "\n",
        "    return counts\n",
        "###def\n",
        "\n",
        "\n",
        "#Run an iteration of the circuit and calculate its cost\n",
        "def run_circuit_and_calc_cost(params, *args):\n",
        "    n, conn, layers, ansatz_type, target_states, shots = args\n",
        "    circ=circuit_ansatz(n, params, conn, layers,ansatz_type)\n",
        "    counts=run_iteration(circ, n, shots=shots)\n",
        "    iter_cost=cost(counts, shots, target_states)\n",
        "    cost_history.append(iter_cost)\n",
        "    print(\"Current cost:\", iter_cost)\n",
        "    return iter_cost\n",
        "###def"
      ]
    },
    {
      "cell_type": "markdown",
      "metadata": {
        "id": "8ukIGWjx-Woz"
      },
      "source": [
        "# Running The Learning Algorithm"
      ]
    },
    {
      "cell_type": "markdown",
      "metadata": {
        "id": "F4phJ9lg-Wo0"
      },
      "source": [
        "Now we're ready to run the learning algorithm and train our circuit."
      ]
    },
    {
      "cell_type": "markdown",
      "metadata": {
        "id": "hXwDnrGS-Wo0"
      },
      "source": [
        "### Choose Target Device\n",
        "\n",
        "We need to do this first because we check against its capabilities when building the training data and circuit. We do not recommend running this this algorithm against a real hardware device until you have run it on a simulator to understand estimated price and if it will converge with the parameters you've selected.\n",
        "\n",
        "So first, let's test it on the simulator"
      ]
    },
    {
      "cell_type": "code",
      "execution_count": 19,
      "metadata": {
        "id": "WMpVHjI--Wo0"
      },
      "outputs": [],
      "source": [
        "backend = provider.get_backend(\"ionq_simulator\")"
      ]
    },
    {
      "cell_type": "markdown",
      "metadata": {
        "id": "juKFSGqf-Wo0"
      },
      "source": [
        "### Set Up Training Data"
      ]
    },
    {
      "cell_type": "markdown",
      "metadata": {
        "id": "TV-F0d4t-Wo1"
      },
      "source": [
        "First, we'll set up our training data for the problem using the method we defined earlier."
      ]
    },
    {
      "cell_type": "code",
      "execution_count": 20,
      "metadata": {
        "id": "za-KYZD1-Wo1",
        "outputId": "4761052b-7779-4f92-d41d-d44a05c88f61",
        "colab": {
          "base_uri": "https://localhost:8080/"
        }
      },
      "outputs": [
        {
          "output_type": "stream",
          "name": "stdout",
          "text": [
            "Bitstrings that should be generated by trained circuit are ['1100', '0011', '1010', '0101'] corresponding to the following BAS patterns:\n",
            "\n",
            "■ ■ \n",
            "□ □ \n",
            "\n",
            "□ □ \n",
            "■ ■ \n",
            "\n",
            "■ □ \n",
            "■ □ \n",
            "\n",
            "□ ■ \n",
            "□ ■ \n",
            "\n"
          ]
        }
      ],
      "source": [
        "#Set problem parameters\n",
        "r=2 #Number of rows — make sure r*c is less than qubit count\n",
        "c=2 #Number of columns — make sure r*c is less than qubit count\n",
        "n=r*c #Qubits needed\n",
        "conn=2 #Connectivity of the entangler.\n",
        "\n",
        "#Check on qubit count\n",
        "if n>backend.configuration().n_qubits:\n",
        "    raise Exception(\"Too many qubits\")\n",
        "###if\n",
        "\n",
        "#Check on conn\n",
        "if conn>(n-1):\n",
        "    raise Exception(\"Connectivity is too large\")\n",
        "###if\n",
        "\n",
        "target_states=generate_target_distribution(r,c)\n",
        "\n",
        "# Check expected output\n",
        "print('Bitstrings that should be generated by trained circuit are', target_states, 'corresponding to the following BAS patterns:\\n')\n",
        "for state in target_states:\n",
        "    for i in range(r):\n",
        "        print(state[c*i:][:c].replace('0','□ ').replace('1','■ '))\n",
        "    ###for\n",
        "    print('')\n",
        "###for"
      ]
    },
    {
      "cell_type": "markdown",
      "metadata": {
        "id": "pqFj7EWb-Wo3"
      },
      "source": [
        "### Set Up Training Parameters\n",
        "Now, we'll set up our parameters for the training routine itself — these are all tunable; feel free to play with them to see how they impact the routine (especially when running on a local simulator!). Again, because this is just a proof-of-principle demo, we've selected some defaults that keep convergence time and training cost low."
      ]
    },
    {
      "cell_type": "code",
      "execution_count": 21,
      "metadata": {
        "id": "U__s3kFo-Wo3",
        "outputId": "d6dd4393-e3fa-4be1-efcc-b808d3bf02f2",
        "colab": {
          "base_uri": "https://localhost:8080/",
          "height": 356
        }
      },
      "outputs": [
        {
          "output_type": "execute_result",
          "data": {
            "text/plain": [
              "           ┌───────┐                                                ┌───────┐»\n",
              "q0_0: ──■──┤ Rx(0) ├──■──────────────────────────────────────────■──┤ Rx(0) ├»\n",
              "      ┌─┴─┐└───────┘┌─┴─┐     ┌───────┐                          │  └───────┘»\n",
              "q0_1: ┤ X ├─────────┤ X ├──■──┤ Rx(0) ├──■───────────────────────┼──────■────»\n",
              "      └───┘         └───┘┌─┴─┐└───────┘┌─┴─┐     ┌───────┐     ┌─┴─┐    │    »\n",
              "q0_2: ───────────────────┤ X ├─────────┤ X ├──■──┤ Rx(0) ├──■──┤ X ├────┼────»\n",
              "                         └───┘         └───┘┌─┴─┐└───────┘┌─┴─┐└───┘  ┌─┴─┐  »\n",
              "q0_3: ──────────────────────────────────────┤ X ├─────────┤ X ├───────┤ X ├──»\n",
              "                                            └───┘         └───┘       └───┘  »\n",
              "c0: 4/═══════════════════════════════════════════════════════════════════════»\n",
              "                                                                             »\n",
              "«                         ┌─┐         \n",
              "«q0_0: ───────────■───────┤M├─────────\n",
              "«      ┌───────┐  │       └╥┘┌─┐      \n",
              "«q0_1: ┤ Rx(0) ├──┼────■───╫─┤M├──────\n",
              "«      └───────┘┌─┴─┐  │   ║ └╥┘┌─┐   \n",
              "«q0_2: ─────────┤ X ├──┼───╫──╫─┤M├───\n",
              "«               └───┘┌─┴─┐ ║  ║ └╥┘┌─┐\n",
              "«q0_3: ──────────────┤ X ├─╫──╫──╫─┤M├\n",
              "«                    └───┘ ║  ║  ║ └╥┘\n",
              "«c0: 4/════════════════════╩══╩══╩══╩═\n",
              "«                          0  1  2  3 "
            ],
            "text/html": [
              "<pre style=\"word-wrap: normal;white-space: pre;background: #fff0;line-height: 1.1;font-family: &quot;Courier New&quot;,Courier,monospace\">           ┌───────┐                                                ┌───────┐»\n",
              "q0_0: ──■──┤ Rx(0) ├──■──────────────────────────────────────────■──┤ Rx(0) ├»\n",
              "      ┌─┴─┐└───────┘┌─┴─┐     ┌───────┐                          │  └───────┘»\n",
              "q0_1: ┤ X ├─────────┤ X ├──■──┤ Rx(0) ├──■───────────────────────┼──────■────»\n",
              "      └───┘         └───┘┌─┴─┐└───────┘┌─┴─┐     ┌───────┐     ┌─┴─┐    │    »\n",
              "q0_2: ───────────────────┤ X ├─────────┤ X ├──■──┤ Rx(0) ├──■──┤ X ├────┼────»\n",
              "                         └───┘         └───┘┌─┴─┐└───────┘┌─┴─┐└───┘  ┌─┴─┐  »\n",
              "q0_3: ──────────────────────────────────────┤ X ├─────────┤ X ├───────┤ X ├──»\n",
              "                                            └───┘         └───┘       └───┘  »\n",
              "c0: 4/═══════════════════════════════════════════════════════════════════════»\n",
              "                                                                             »\n",
              "«                         ┌─┐         \n",
              "«q0_0: ───────────■───────┤M├─────────\n",
              "«      ┌───────┐  │       └╥┘┌─┐      \n",
              "«q0_1: ┤ Rx(0) ├──┼────■───╫─┤M├──────\n",
              "«      └───────┘┌─┴─┐  │   ║ └╥┘┌─┐   \n",
              "«q0_2: ─────────┤ X ├──┼───╫──╫─┤M├───\n",
              "«               └───┘┌─┴─┐ ║  ║ └╥┘┌─┐\n",
              "«q0_3: ──────────────┤ X ├─╫──╫──╫─┤M├\n",
              "«                    └───┘ ║  ║  ║ └╥┘\n",
              "«c0: 4/════════════════════╩══╩══╩══╩═\n",
              "«                          0  1  2  3 </pre>"
            ]
          },
          "metadata": {},
          "execution_count": 21
        }
      ],
      "source": [
        "# Choose entangler and driver type\n",
        "layers=1 # Number of layers in each circuit\n",
        "shots=100 # Number of shots per iteration\n",
        "ansatz_type=[1,1]\n",
        "random_init=False # Set to true for random initialization; will be slower to converge\n",
        "\n",
        "# Set up args\n",
        "beta=generate_beta(ansatz_type, random_init)\n",
        "gamma=generate_gamma(ansatz_type, random_init, n, conn)\n",
        "params=beta+gamma\n",
        "\n",
        "base_bounds=(0,2.*math.pi)\n",
        "bnds=((base_bounds , ) * len(params))\n",
        "\n",
        "#Set up list to track cost history\n",
        "cost_history=[]\n",
        "\n",
        "max_iter=100 # max number of optimizer iterations\n",
        "\n",
        "args=(n, conn, layers, ansatz_type, target_states, shots)\n",
        "opts = {'disp': True, 'maxiter': max_iter, 'maxfev': max_iter, 'return_all': True}\n",
        "\n",
        "#Visualize the circuit\n",
        "circ=circuit_ansatz(n, params, conn,layers,ansatz_type)\n",
        "circ.draw()"
      ]
    },
    {
      "cell_type": "code",
      "execution_count": 22,
      "metadata": {
        "id": "PoJzf9U3-Wo4",
        "outputId": "ba64a741-1ef0-4460-c83d-61cb94b9b54a",
        "colab": {
          "base_uri": "https://localhost:8080/",
          "height": 1000
        }
      },
      "outputs": [
        {
          "output_type": "stream",
          "name": "stdout",
          "text": [
            "Current cost: 13.287712379549449\n",
            "Current cost: 4.2328921423310435\n",
            "Current cost: 7.805723050606501\n",
            "Current cost: 3.8022756362132704\n",
            "Current cost: 4.020892915692306\n",
            "Current cost: 10.121156378848655\n",
            "Current cost: 2.306319943871599\n",
            "Current cost: 8.385302260940247\n",
            "Current cost: 2.4684280475397893\n",
            "Current cost: 5.84188297686439\n",
            "Current cost: 7.461582212740448\n",
            "Current cost: 2.2947969806928197\n",
            "Current cost: 3.304330762914513\n",
            "Current cost: 6.277689123023864\n",
            "Current cost: 4.086651517150754\n",
            "Current cost: 3.2437618014977634\n",
            "Current cost: 4.343938103565633\n",
            "Current cost: 2.5626704121511206\n",
            "Current cost: 2.5384550273379736\n",
            "Current cost: 3.9901787287459225\n",
            "Current cost: 4.270892915692306\n",
            "Current cost: 2.529446844526784\n",
            "Current cost: 3.033801107796137\n",
            "Current cost: 2.7723045564775917\n",
            "Current cost: 3.156035011032982\n",
            "Current cost: 2.9898625877350096\n",
            "Current cost: 2.9253269761635967\n",
            "Current cost: 2.9114028936086873\n",
            "Current cost: 2.7961292266437026\n",
            "Current cost: 3.1904108919704655\n",
            "Current cost: 2.9262650098788736\n",
            "Current cost: 3.206545955019143\n",
            "Current cost: 2.741590369531208\n",
            "Current cost: 3.1206669045447617\n",
            "Current cost: 2.9495423609767437\n",
            "Current cost: 3.649536208899745\n",
            "Current cost: 3.540184880822921\n",
            "Current cost: 3.1788754465592852\n",
            "Current cost: 2.9748118205665737\n",
            "Current cost: 3.06267041215112\n",
            "Current cost: 2.990178728745923\n",
            "Current cost: 2.8328395737260204\n",
            "Current cost: 3.0533017357964547\n",
            "Current cost: 2.9667064511434798\n",
            "Current cost: 2.6615415876154813\n",
            "Current cost: 3.1206669045447617\n",
            "Current cost: 3.0466836829561568\n",
            "Current cost: 2.807643518788977\n",
            "Current cost: 3.020892915692306\n",
            "Current cost: 2.807955655338292\n",
            "Current cost: 3.109568374705148\n",
            "Current cost: 2.677676650664159\n",
            "Current cost: 2.859568374705148\n",
            "Current cost: 2.8255529873111414\n",
            "Current cost: 3.0522756362132704\n",
            "Current cost: 2.696663863972484\n",
            "Current cost: 2.89526783056001\n",
            "Current cost: 2.633206219346495\n",
            "Current cost: 2.8281856541841837\n",
            "Current cost: 3.117215454663504\n",
            "Current cost: 3.465294810358194\n",
            "Current cost: 2.648107796101147\n",
            "Current cost: 2.7819562252047376\n",
            "Current cost: 2.9865170347548227\n",
            "Current cost: 3.041508455740299\n",
            "Current cost: 2.5346783042404217\n",
            "Current cost: 2.6547848407683903\n",
            "Current cost: 2.802275636213271\n",
            "Current cost: 3.196880549926867\n",
            "Current cost: 2.771159136051473\n",
            "Current cost: 2.806397666910413\n",
            "Current cost: 2.6820184336566806\n",
            "Current cost: 2.846168527359134\n",
            "Current cost: 2.614222294246985\n",
            "Current cost: 2.624652290512017\n",
            "Current cost: 2.8635537606724033\n",
            "Current cost: 2.6955569750094885\n",
            "Current cost: 2.9567031455904793\n",
            "Current cost: 2.6978764284064916\n",
            "Current cost: 3.126913575412769\n",
            "Current cost: 2.628429013609569\n",
            "Current cost: 2.9589110373314096\n",
            "Current cost: 2.70970285710108\n",
            "Current cost: 3.085189248226582\n",
            "Current cost: 3.3357134834354776\n",
            "Current cost: 2.9775222104784302\n",
            "Current cost: 2.720157901024737\n",
            "Current cost: 2.800639924746578\n",
            "Current cost: 2.7893930610532505\n",
            "Current cost: 2.899536208899746\n",
            "Current cost: 2.713327749524859\n",
            "Current cost: 2.532748044974408\n",
            "Current cost: 2.8190541851779045\n",
            "Current cost: 2.738572161456064\n",
            "Current cost: 2.6400024266780524\n",
            "Current cost: 2.8207757815742154\n",
            "Current cost: 3.154104751766969\n",
            "Current cost: 2.649715158920892\n",
            "Current cost: 2.5603053298388545\n",
            "Current cost: 2.949927902178845\n",
            "Current cost: 2.951629196655124\n",
            "Current cost: 2.5923315362757755\n",
            "Current cost: 3.10043690569887\n",
            "Current cost: 2.4270485725599067\n",
            "Current cost: 2.7385721614560645\n",
            "Current cost: 2.4636882430683356\n",
            "Current cost: 2.557955655338292\n",
            "Current cost: 3.5690541851779045\n",
            "Current cost: 2.8969291589705133\n",
            "Current cost: 2.7570723068170087\n",
            "Current cost: 2.89526783056001\n",
            "Current cost: 2.6986187400873085\n",
            "Current cost: 2.9067643818785553\n",
            "Current cost: 3.0781856541841837\n",
            "Current cost: 2.672813559997616\n",
            "Current cost: 2.578571195386285\n",
            "Current cost: 3.228411665331728\n",
            "Current cost: 2.714356776642917\n",
            "Current cost: 2.5732650627187583\n",
            "Current cost: 2.884169300720397\n",
            "Current cost: 2.4262650098788736\n",
            "Current cost: 2.62371425679674\n",
            "Current cost: 2.618136716365468\n",
            "Current cost: 2.727161495067136\n",
            "Current cost: 2.653041850616463\n",
            "Current cost: 2.624652290512017\n",
            "Current cost: 2.708502610535125\n",
            "Current cost: 2.5533017357964547\n",
            "Current cost: 2.5765790868943252\n",
            "Current cost: 2.5393930610532505\n",
            "Current cost: 2.497703630462343\n",
            "Current cost: 2.575552987311141\n",
            "Current cost: 2.5251445220187283\n",
            "Current cost: 2.7328921423310435\n",
            "Current cost: 2.94851626139356\n",
            "Current cost: 2.745041819412466\n",
            "Current cost: 2.609928868248625\n",
            "Current cost: 2.7941702667901764\n",
            "Current cost: 2.6864255060032103\n",
            "Current cost: 2.632053906033348\n",
            "Current cost: 2.6701517489477387\n",
            "Current cost: 2.6276704985871606\n",
            "Current cost: 2.662444401003576\n",
            "Current cost: 2.6664297869708316\n",
            "Current cost: 2.8617468297578137\n",
            "Current cost: 2.4809250814977086\n",
            "Current cost: 2.728203002462025\n",
            "Current cost: 2.6378309947114973\n",
            "Current cost: 2.8114071052195495\n",
            "Current cost: 2.6469291589705133\n",
            "Current cost: 2.5217706203915937\n",
            "Current cost: 2.8453497443509193\n",
            "Current cost: 2.642214402157684\n",
            "Current cost: 2.5401848808229213\n",
            "Current cost: 2.617215454663504\n",
            "Current cost: 2.5957829861570327\n",
            "Current cost: 2.7108143333588783\n",
            "Current cost: 2.7152948103581944\n",
            "Current cost: 2.5186457198854924\n",
            "Current cost: 2.7167064511434798\n",
            "Current cost: 2.860891949622527\n",
            "Current cost: 2.4309189294207103\n",
            "Current cost: 2.6038883555801275\n",
            "Current cost: 2.860891949622527\n",
            "Current cost: 2.5742438252196043\n",
            "Current cost: 2.8309208698868473\n",
            "Current cost: 2.9670164067545044\n",
            "Current cost: 2.77391112376745\n",
            "Current cost: 2.7450418194124655\n",
            "Current cost: 2.608169870586843\n",
            "Current cost: 2.644936481193368\n",
            "Current cost: 2.5586850261838654\n",
            "Current cost: 2.454196280518581\n",
            "Current cost: 2.513456079843793\n",
            "Current cost: 2.934153693347585\n",
            "Current cost: 2.4610264320184583\n",
            "Current cost: 2.557955655338292\n",
            "Current cost: 2.7516890164295984\n",
            "Current cost: 2.9754185049152087\n",
            "Current cost: 2.666195507157318\n",
            "Current cost: 2.693429100045609\n",
            "Current cost: 2.62543585319305\n",
            "Current cost: 2.705761028136501\n",
            "Current cost: 2.6413115887695895\n",
            "Current cost: 2.5614202418865286\n",
            "Current cost: 2.6753269761635967\n",
            "Current cost: 2.6762650098788736\n",
            "Current cost: 2.5729167932050743\n",
            "Current cost: 2.616398526205026\n",
            "Current cost: 2.4171335408725954\n",
            "Current cost: 2.7041962805185804\n",
            "Current cost: 2.5319562252047376\n",
            "Current cost: 2.5085442155881013\n",
            "Current cost: 2.5728309082754572\n",
            "Current cost: 2.5760451508083273\n",
            "Current cost: 2.646729395043932\n",
            "Current cost: 2.6399588696753766\n",
            "Current cost: 2.5866515171507545\n",
            "Current cost: 2.7136882430683356\n",
            "Current cost: 2.5851892482265826\n",
            "Current cost: 2.032970551998231\n",
            "Success:  True\n",
            "terminated after reaching max number of iterations\n",
            "Final cost function is  2.032970551998231\n",
            "Min possible cost function is  2.0\n",
            "Number of iterations is  100\n",
            "Number of function evaluations is  200\n",
            "Number of parameters was  5\n",
            "Approximate cost on hardware: $ 201.00000000000003\n"
          ]
        },
        {
          "output_type": "execute_result",
          "data": {
            "text/plain": [
              "Text(0.5, 0, 'Iteration')"
            ]
          },
          "metadata": {},
          "execution_count": 22
        },
        {
          "output_type": "display_data",
          "data": {
            "text/plain": [
              "<Figure size 640x480 with 1 Axes>"
            ],
            "image/png": "[encoded data removed]"
          },
          "metadata": {}
        }
      ],
      "source": [
        "from qiskit.visualization import plot_histogram\n",
        "\n",
        "#Train Circuit\n",
        "result=noisyopt.minimizeSPSA(run_circuit_and_calc_cost, params, args=args, bounds=bnds, niter=max_iter, disp=False, paired=False)\n",
        "\n",
        "print(\"Success: \", result.success)\n",
        "print(result.message)\n",
        "print(\"Final cost function is \", result.fun)\n",
        "print(\"Min possible cost function is \", np.log2(len(target_states)))\n",
        "print(\"Number of iterations is \", result.nit)\n",
        "print(\"Number of function evaluations is \", result.nfev)\n",
        "print(\"Number of parameters was \", len(params))\n",
        "print(\"Approximate cost on hardware: $\", 0.01*len(cost_history)*shots)\n",
        "\n",
        "#Plot the evolution of the cost function\n",
        "plt.figure()\n",
        "plt.plot(cost_history)\n",
        "plt.ylabel('Cost')\n",
        "plt.xlabel('Iteration')\n"
      ]
    },
    {
      "cell_type": "code",
      "execution_count": 23,
      "metadata": {
        "id": "KI5KqcCQ-Wo4",
        "outputId": "0cccfbe4-5753-4068-c473-3a821993b218",
        "colab": {
          "base_uri": "https://localhost:8080/",
          "height": 484
        }
      },
      "outputs": [
        {
          "output_type": "execute_result",
          "data": {
            "text/plain": [
              "<Figure size 700x500 with 1 Axes>"
            ],
            "image/png": "[encoded data removed]"
          },
          "metadata": {},
          "execution_count": 23
        }
      ],
      "source": [
        "#Visualize the result\n",
        "result_final=run_iteration(circuit_ansatz(n, result.x, conn,layers,ansatz_type), shots)\n",
        "plot_histogram(result_final)"
      ]
    },
    {
      "source": [
        "Next let's test it on the qpu backend."
      ],
      "cell_type": "markdown",
      "metadata": {
        "id": "8-8AtHUZ-Wo4"
      }
    },
    {
      "cell_type": "code",
      "execution_count": null,
      "metadata": {
        "id": "mIEteZUL-Wo5",
        "outputId": "b4b0dd72-f97b-44dd-8e87-37e2530fb8c4",
        "colab": {
          "base_uri": "https://localhost:8080/"
        }
      },
      "outputs": [
        {
          "metadata": {
            "tags": null
          },
          "name": "stdout",
          "output_type": "stream",
          "text": [
            "Current cost: 10.761890427446444\n",
            "Current cost: 4.124652290512016\n",
            "Current cost: 3.781053411816642\n",
            "Current cost: 4.382757659935111\n",
            "Current cost: 4.01641243869299\n",
            "Current cost: 4.319054185177905\n"
          ]
        }
      ],
      "source": [
        "#Train Circuit\n",
        "backend = provider.get_backend(\"ionq_qpu\")\n",
        "result=noisyopt.minimizeSPSA(run_circuit_and_calc_cost, params, args=args, bounds=bnds, niter=max_iter, disp=False, paired=False)\n",
        "\n",
        "print(\"Success: \", result.success)\n",
        "print(result.message)\n",
        "print(\"Final cost function is \", result.fun)\n",
        "print(\"Min possible cost function is \", np.log2(len(target_states)))\n",
        "print(\"Number of iterations is \", result.nit)\n",
        "print(\"Number of function evaluations is \", result.nfev)\n",
        "print(\"Number of parameters was \", len(params))\n",
        "print(\"Approximate cost on hardware: $\", 0.01*len(cost_history)*shots)\n",
        "\n",
        "#Plot the evolution of the cost function\n",
        "plt.figure()\n",
        "plt.plot(cost_history)\n",
        "plt.ylabel('Cost')\n",
        "plt.xlabel('Iteration')"
      ]
    },
    {
      "cell_type": "code",
      "execution_count": 2,
      "metadata": {
        "id": "xbg4KU98-Wo5",
        "outputId": "c23a24b2-b1b7-4b56-a9c7-cc07b4ac3801",
        "colab": {
          "base_uri": "https://localhost:8080/",
          "height": 208
        }
      },
      "outputs": [
        {
          "output_type": "error",
          "ename": "NameError",
          "evalue": "ignored",
          "traceback": [
            "\u001b[0;31m---------------------------------------------------------------------------\u001b[0m",
            "\u001b[0;31mNameError\u001b[0m                                 Traceback (most recent call last)",
            "\u001b[0;32m<ipython-input-2-fbd641b94122>\u001b[0m in \u001b[0;36m<cell line: 2>\u001b[0;34m()\u001b[0m\n\u001b[1;32m      1\u001b[0m \u001b[0;31m#Visualize the result\u001b[0m\u001b[0;34m\u001b[0m\u001b[0;34m\u001b[0m\u001b[0m\n\u001b[0;32m----> 2\u001b[0;31m \u001b[0mresult_final\u001b[0m\u001b[0;34m=\u001b[0m\u001b[0mrun_iteration\u001b[0m\u001b[0;34m(\u001b[0m\u001b[0mcircuit_ansatz\u001b[0m\u001b[0;34m(\u001b[0m\u001b[0mn\u001b[0m\u001b[0;34m,\u001b[0m \u001b[0mresult\u001b[0m\u001b[0;34m.\u001b[0m\u001b[0mx\u001b[0m\u001b[0;34m,\u001b[0m \u001b[0mconn\u001b[0m\u001b[0;34m,\u001b[0m\u001b[0mlayers\u001b[0m\u001b[0;34m,\u001b[0m\u001b[0mansatz_type\u001b[0m\u001b[0;34m)\u001b[0m\u001b[0;34m,\u001b[0m \u001b[0mshots\u001b[0m\u001b[0;34m)\u001b[0m\u001b[0;34m\u001b[0m\u001b[0;34m\u001b[0m\u001b[0m\n\u001b[0m\u001b[1;32m      3\u001b[0m \u001b[0mplot_histogram\u001b[0m\u001b[0;34m(\u001b[0m\u001b[0mresult_final\u001b[0m\u001b[0;34m)\u001b[0m\u001b[0;34m\u001b[0m\u001b[0;34m\u001b[0m\u001b[0m\n",
            "\u001b[0;31mNameError\u001b[0m: name 'run_iteration' is not defined"
          ]
        }
      ],
      "source": [
        "#Visualize the result\n",
        "result_final=run_iteration(circuit_ansatz(n, result.x, conn,layers,ansatz_type), shots)\n",
        "plot_histogram(result_final)"
      ]
    },
    {
      "cell_type": "code",
      "execution_count": null,
      "metadata": {
        "id": "__n-s3tv-Wo5"
      },
      "outputs": [],
      "source": []
    }
  ],
  "metadata": {
    "kernelspec": {
      "name": "python369jvsc74a57bd031f2aee4e71d21fbe5cf8b01ff0e069b9275f58929596ceb00d14d90e3e16cd6",
      "display_name": "Python 3.6.9 64-bit"
    },
    "language_info": {
      "codemirror_mode": {
        "name": "ipython",
        "version": 3
      },
      "file_extension": ".py",
      "mimetype": "text/x-python",
      "name": "python",
      "nbconvert_exporter": "python",
      "pygments_lexer": "ipython3",
      "version": "3.6.9-final"
    },
    "metadata": {
      "interpreter": {
        "hash": "31f2aee4e71d21fbe5cf8b01ff0e069b9275f58929596ceb00d14d90e3e16cd6"
      }
    },
    "colab": {
      "provenance": []
    }
  },
  "nbformat": 4,
  "nbformat_minor": 0
}