{
  "cells": [
    {
      "cell_type": "markdown",
      "metadata": {
        "id": "view-in-github",
        "colab_type": "text"
      },
      "source": [
        "<a href=\"https://colab.research.google.com/github/mkbahk/QuantumComputing/blob/main/QuantumToyAlgorithm_Coding_With_Qiskit_ep5_Quantum_Teleportation.ipynb\" target=\"_parent\"><img src=\"https://colab.research.google.com/assets/colab-badge.svg\" alt=\"Open In Colab\"/></a>"
      ]
    },
    {
      "cell_type": "markdown",
      "metadata": {
        "id": "d9PWEYYmgHvQ"
      },
      "source": [
        "### Coding with Qiskit Episode 5\n",
        "\n",
        "# Quantum Teleportation\n",
        "\n",
        "#### Written by Abraham Asfaw, IBM TJ Watson Research Center"
      ]
    },
    {
      "cell_type": "markdown",
      "metadata": {
        "id": "_SW19zZKgHvR"
      },
      "source": [
        "In this episode of Coding with Qiskit, we learned about quantum teleportation. Briefly, quantum teleportation allows us to transfer a quantum state from one qubit to another. This might seem fundamentally impossible due to the [no-cloning theorem](https://en.wikipedia.org/wiki/No-cloning_theorem), but the reason it works is because it uses entanglement as a resource. Using the teleportation protocol, quantum information is destroyed in one place, and an exact copy is recreated in another place.\n",
        "\n",
        "The teleportation protocol was [described by Charles Bennett and co-workers in March 1993](#1), about a decade after the [no-cloning theorem was reported in October 1982](#2).\n",
        "\n",
        "**Link to Episode 5:** https://www.youtube.com/watch?v=mMwovHK2NrE"
      ]
    },
    {
      "cell_type": "code",
      "source": [
        "%pip install qiskit[visualization]==1.2.4\n",
        "%pip install qiskit-aer==0.15.1\n",
        "%pip install git+https://github.com/qiskit-community/qiskit-textbook.git#subdirectory=qiskit-textbook-src"
      ],
      "metadata": {
        "colab": {
          "base_uri": "https://localhost:8080/"
        },
        "id": "LFNEInwggTf6",
        "outputId": "dfef4898-d9eb-4349-a285-6bf6da54eced"
      },
      "execution_count": 1,
      "outputs": [
        {
          "output_type": "stream",
          "name": "stdout",
          "text": [
            "Collecting qiskit==1.2.4 (from qiskit[visualization]==1.2.4)\n",
            "  Downloading qiskit-1.2.4-cp38-abi3-manylinux_2_17_x86_64.manylinux2014_x86_64.whl.metadata (12 kB)\n",
            "Collecting rustworkx>=0.15.0 (from qiskit==1.2.4->qiskit[visualization]==1.2.4)\n",
            "  Downloading rustworkx-0.16.0-cp39-abi3-manylinux_2_17_x86_64.manylinux2014_x86_64.whl.metadata (10 kB)\n",
            "Requirement already satisfied: numpy<3,>=1.17 in /usr/local/lib/python3.11/dist-packages (from qiskit==1.2.4->qiskit[visualization]==1.2.4) (2.0.2)\n",
            "Requirement already satisfied: scipy>=1.5 in /usr/local/lib/python3.11/dist-packages (from qiskit==1.2.4->qiskit[visualization]==1.2.4) (1.14.1)\n",
            "Requirement already satisfied: sympy>=1.3 in /usr/local/lib/python3.11/dist-packages (from qiskit==1.2.4->qiskit[visualization]==1.2.4) (1.13.1)\n",
            "Collecting dill>=0.3 (from qiskit==1.2.4->qiskit[visualization]==1.2.4)\n",
            "  Downloading dill-0.3.9-py3-none-any.whl.metadata (10 kB)\n",
            "Requirement already satisfied: python-dateutil>=2.8.0 in /usr/local/lib/python3.11/dist-packages (from qiskit==1.2.4->qiskit[visualization]==1.2.4) (2.8.2)\n",
            "Collecting stevedore>=3.0.0 (from qiskit==1.2.4->qiskit[visualization]==1.2.4)\n",
            "  Downloading stevedore-5.4.1-py3-none-any.whl.metadata (2.3 kB)\n",
            "Requirement already satisfied: typing-extensions in /usr/local/lib/python3.11/dist-packages (from qiskit==1.2.4->qiskit[visualization]==1.2.4) (4.12.2)\n",
            "Collecting symengine<0.14,>=0.11 (from qiskit==1.2.4->qiskit[visualization]==1.2.4)\n",
            "  Downloading symengine-0.13.0-cp311-cp311-manylinux_2_17_x86_64.manylinux2014_x86_64.whl.metadata (1.2 kB)\n",
            "Requirement already satisfied: matplotlib>=3.3 in /usr/local/lib/python3.11/dist-packages (from qiskit[visualization]==1.2.4) (3.10.0)\n",
            "Requirement already satisfied: pydot in /usr/local/lib/python3.11/dist-packages (from qiskit[visualization]==1.2.4) (3.0.4)\n",
            "Requirement already satisfied: Pillow>=4.2.1 in /usr/local/lib/python3.11/dist-packages (from qiskit[visualization]==1.2.4) (11.1.0)\n",
            "Collecting pylatexenc>=1.4 (from qiskit[visualization]==1.2.4)\n",
            "  Downloading pylatexenc-2.10.tar.gz (162 kB)\n",
            "\u001b[2K     \u001b[90m━━━━━━━━━━━━━━━━━━━━━━━━━━━━━━━━━━━━━━━━\u001b[0m \u001b[32m162.6/162.6 kB\u001b[0m \u001b[31m3.3 MB/s\u001b[0m eta \u001b[36m0:00:00\u001b[0m\n",
            "\u001b[?25h  Preparing metadata (setup.py) ... \u001b[?25l\u001b[?25hdone\n",
            "Requirement already satisfied: seaborn>=0.9.0 in /usr/local/lib/python3.11/dist-packages (from qiskit[visualization]==1.2.4) (0.13.2)\n",
            "Requirement already satisfied: contourpy>=1.0.1 in /usr/local/lib/python3.11/dist-packages (from matplotlib>=3.3->qiskit[visualization]==1.2.4) (1.3.1)\n",
            "Requirement already satisfied: cycler>=0.10 in /usr/local/lib/python3.11/dist-packages (from matplotlib>=3.3->qiskit[visualization]==1.2.4) (0.12.1)\n",
            "Requirement already satisfied: fonttools>=4.22.0 in /usr/local/lib/python3.11/dist-packages (from matplotlib>=3.3->qiskit[visualization]==1.2.4) (4.56.0)\n",
            "Requirement already satisfied: kiwisolver>=1.3.1 in /usr/local/lib/python3.11/dist-packages (from matplotlib>=3.3->qiskit[visualization]==1.2.4) (1.4.8)\n",
            "Requirement already satisfied: packaging>=20.0 in /usr/local/lib/python3.11/dist-packages (from matplotlib>=3.3->qiskit[visualization]==1.2.4) (24.2)\n",
            "Requirement already satisfied: pyparsing>=2.3.1 in /usr/local/lib/python3.11/dist-packages (from matplotlib>=3.3->qiskit[visualization]==1.2.4) (3.2.1)\n",
            "Requirement already satisfied: six>=1.5 in /usr/local/lib/python3.11/dist-packages (from python-dateutil>=2.8.0->qiskit==1.2.4->qiskit[visualization]==1.2.4) (1.17.0)\n",
            "Requirement already satisfied: pandas>=1.2 in /usr/local/lib/python3.11/dist-packages (from seaborn>=0.9.0->qiskit[visualization]==1.2.4) (2.2.2)\n",
            "Collecting pbr>=2.0.0 (from stevedore>=3.0.0->qiskit==1.2.4->qiskit[visualization]==1.2.4)\n",
            "  Downloading pbr-6.1.1-py2.py3-none-any.whl.metadata (3.4 kB)\n",
            "Requirement already satisfied: mpmath<1.4,>=1.1.0 in /usr/local/lib/python3.11/dist-packages (from sympy>=1.3->qiskit==1.2.4->qiskit[visualization]==1.2.4) (1.3.0)\n",
            "Requirement already satisfied: pytz>=2020.1 in /usr/local/lib/python3.11/dist-packages (from pandas>=1.2->seaborn>=0.9.0->qiskit[visualization]==1.2.4) (2025.1)\n",
            "Requirement already satisfied: tzdata>=2022.7 in /usr/local/lib/python3.11/dist-packages (from pandas>=1.2->seaborn>=0.9.0->qiskit[visualization]==1.2.4) (2025.1)\n",
            "Requirement already satisfied: setuptools in /usr/local/lib/python3.11/dist-packages (from pbr>=2.0.0->stevedore>=3.0.0->qiskit==1.2.4->qiskit[visualization]==1.2.4) (75.1.0)\n",
            "Downloading qiskit-1.2.4-cp38-abi3-manylinux_2_17_x86_64.manylinux2014_x86_64.whl (4.8 MB)\n",
            "\u001b[2K   \u001b[90m━━━━━━━━━━━━━━━━━━━━━━━━━━━━━━━━━━━━━━━━\u001b[0m \u001b[32m4.8/4.8 MB\u001b[0m \u001b[31m21.8 MB/s\u001b[0m eta \u001b[36m0:00:00\u001b[0m\n",
            "\u001b[?25hDownloading dill-0.3.9-py3-none-any.whl (119 kB)\n",
            "\u001b[2K   \u001b[90m━━━━━━━━━━━━━━━━━━━━━━━━━━━━━━━━━━━━━━━━\u001b[0m \u001b[32m119.4/119.4 kB\u001b[0m \u001b[31m4.9 MB/s\u001b[0m eta \u001b[36m0:00:00\u001b[0m\n",
            "\u001b[?25hDownloading rustworkx-0.16.0-cp39-abi3-manylinux_2_17_x86_64.manylinux2014_x86_64.whl (2.1 MB)\n",
            "\u001b[2K   \u001b[90m━━━━━━━━━━━━━━━━━━━━━━━━━━━━━━━━━━━━━━━━\u001b[0m \u001b[32m2.1/2.1 MB\u001b[0m \u001b[31m23.0 MB/s\u001b[0m eta \u001b[36m0:00:00\u001b[0m\n",
            "\u001b[?25hDownloading stevedore-5.4.1-py3-none-any.whl (49 kB)\n",
            "\u001b[2K   \u001b[90m━━━━━━━━━━━━━━━━━━━━━━━━━━━━━━━━━━━━━━━━\u001b[0m \u001b[32m49.5/49.5 kB\u001b[0m \u001b[31m2.0 MB/s\u001b[0m eta \u001b[36m0:00:00\u001b[0m\n",
            "\u001b[?25hDownloading symengine-0.13.0-cp311-cp311-manylinux_2_17_x86_64.manylinux2014_x86_64.whl (49.7 MB)\n",
            "\u001b[2K   \u001b[90m━━━━━━━━━━━━━━━━━━━━━━━━━━━━━━━━━━━━━━━━\u001b[0m \u001b[32m49.7/49.7 MB\u001b[0m \u001b[31m12.2 MB/s\u001b[0m eta \u001b[36m0:00:00\u001b[0m\n",
            "\u001b[?25hDownloading pbr-6.1.1-py2.py3-none-any.whl (108 kB)\n",
            "\u001b[2K   \u001b[90m━━━━━━━━━━━━━━━━━━━━━━━━━━━━━━━━━━━━━━━━\u001b[0m \u001b[32m109.0/109.0 kB\u001b[0m \u001b[31m5.1 MB/s\u001b[0m eta \u001b[36m0:00:00\u001b[0m\n",
            "\u001b[?25hBuilding wheels for collected packages: pylatexenc\n",
            "  Building wheel for pylatexenc (setup.py) ... \u001b[?25l\u001b[?25hdone\n",
            "  Created wheel for pylatexenc: filename=pylatexenc-2.10-py3-none-any.whl size=136816 sha256=ccc02160808f7eb9d36c6c68e828115185a0cc60aae4bceaddf834ba784d77d0\n",
            "  Stored in directory: /root/.cache/pip/wheels/b1/7a/33/9fdd892f784ed4afda62b685ae3703adf4c91aa0f524c28f03\n",
            "Successfully built pylatexenc\n",
            "Installing collected packages: pylatexenc, symengine, rustworkx, pbr, dill, stevedore, qiskit\n",
            "Successfully installed dill-0.3.9 pbr-6.1.1 pylatexenc-2.10 qiskit-1.2.4 rustworkx-0.16.0 stevedore-5.4.1 symengine-0.13.0\n",
            "Collecting qiskit-aer==0.15.1\n",
            "  Downloading qiskit_aer-0.15.1-cp311-cp311-manylinux_2_17_x86_64.manylinux2014_x86_64.whl.metadata (8.0 kB)\n",
            "Requirement already satisfied: qiskit>=1.1.0 in /usr/local/lib/python3.11/dist-packages (from qiskit-aer==0.15.1) (1.2.4)\n",
            "Requirement already satisfied: numpy>=1.16.3 in /usr/local/lib/python3.11/dist-packages (from qiskit-aer==0.15.1) (2.0.2)\n",
            "Requirement already satisfied: scipy>=1.0 in /usr/local/lib/python3.11/dist-packages (from qiskit-aer==0.15.1) (1.14.1)\n",
            "Requirement already satisfied: psutil>=5 in /usr/local/lib/python3.11/dist-packages (from qiskit-aer==0.15.1) (5.9.5)\n",
            "Requirement already satisfied: rustworkx>=0.15.0 in /usr/local/lib/python3.11/dist-packages (from qiskit>=1.1.0->qiskit-aer==0.15.1) (0.16.0)\n",
            "Requirement already satisfied: sympy>=1.3 in /usr/local/lib/python3.11/dist-packages (from qiskit>=1.1.0->qiskit-aer==0.15.1) (1.13.1)\n",
            "Requirement already satisfied: dill>=0.3 in /usr/local/lib/python3.11/dist-packages (from qiskit>=1.1.0->qiskit-aer==0.15.1) (0.3.9)\n",
            "Requirement already satisfied: python-dateutil>=2.8.0 in /usr/local/lib/python3.11/dist-packages (from qiskit>=1.1.0->qiskit-aer==0.15.1) (2.8.2)\n",
            "Requirement already satisfied: stevedore>=3.0.0 in /usr/local/lib/python3.11/dist-packages (from qiskit>=1.1.0->qiskit-aer==0.15.1) (5.4.1)\n",
            "Requirement already satisfied: typing-extensions in /usr/local/lib/python3.11/dist-packages (from qiskit>=1.1.0->qiskit-aer==0.15.1) (4.12.2)\n",
            "Requirement already satisfied: symengine<0.14,>=0.11 in /usr/local/lib/python3.11/dist-packages (from qiskit>=1.1.0->qiskit-aer==0.15.1) (0.13.0)\n",
            "Requirement already satisfied: six>=1.5 in /usr/local/lib/python3.11/dist-packages (from python-dateutil>=2.8.0->qiskit>=1.1.0->qiskit-aer==0.15.1) (1.17.0)\n",
            "Requirement already satisfied: pbr>=2.0.0 in /usr/local/lib/python3.11/dist-packages (from stevedore>=3.0.0->qiskit>=1.1.0->qiskit-aer==0.15.1) (6.1.1)\n",
            "Requirement already satisfied: mpmath<1.4,>=1.1.0 in /usr/local/lib/python3.11/dist-packages (from sympy>=1.3->qiskit>=1.1.0->qiskit-aer==0.15.1) (1.3.0)\n",
            "Requirement already satisfied: setuptools in /usr/local/lib/python3.11/dist-packages (from pbr>=2.0.0->stevedore>=3.0.0->qiskit>=1.1.0->qiskit-aer==0.15.1) (75.1.0)\n",
            "Downloading qiskit_aer-0.15.1-cp311-cp311-manylinux_2_17_x86_64.manylinux2014_x86_64.whl (12.3 MB)\n",
            "\u001b[2K   \u001b[90m━━━━━━━━━━━━━━━━━━━━━━━━━━━━━━━━━━━━━━━━\u001b[0m \u001b[32m12.3/12.3 MB\u001b[0m \u001b[31m27.8 MB/s\u001b[0m eta \u001b[36m0:00:00\u001b[0m\n",
            "\u001b[?25hInstalling collected packages: qiskit-aer\n",
            "Successfully installed qiskit-aer-0.15.1\n",
            "Collecting git+https://github.com/qiskit-community/qiskit-textbook.git#subdirectory=qiskit-textbook-src\n",
            "  Cloning https://github.com/qiskit-community/qiskit-textbook.git to /tmp/pip-req-build-e514fbib\n",
            "  Running command git clone --filter=blob:none --quiet https://github.com/qiskit-community/qiskit-textbook.git /tmp/pip-req-build-e514fbib\n",
            "  Resolved https://github.com/qiskit-community/qiskit-textbook.git to commit 0ae905083ec3872d7ddc6bb4001d5468f476d93f\n",
            "  Preparing metadata (setup.py) ... \u001b[?25l\u001b[?25hdone\n",
            "Requirement already satisfied: qiskit in /usr/local/lib/python3.11/dist-packages (from qiskit-textbook==0.1.0) (1.2.4)\n",
            "Requirement already satisfied: ipython in /usr/local/lib/python3.11/dist-packages (from qiskit-textbook==0.1.0) (7.34.0)\n",
            "Requirement already satisfied: ipywidgets in /usr/local/lib/python3.11/dist-packages (from qiskit-textbook==0.1.0) (7.7.1)\n",
            "Requirement already satisfied: numpy in /usr/local/lib/python3.11/dist-packages (from qiskit-textbook==0.1.0) (2.0.2)\n",
            "Requirement already satisfied: matplotlib in /usr/local/lib/python3.11/dist-packages (from qiskit-textbook==0.1.0) (3.10.0)\n",
            "Requirement already satisfied: numexpr in /usr/local/lib/python3.11/dist-packages (from qiskit-textbook==0.1.0) (2.10.2)\n",
            "Requirement already satisfied: setuptools>=18.5 in /usr/local/lib/python3.11/dist-packages (from ipython->qiskit-textbook==0.1.0) (75.1.0)\n",
            "Collecting jedi>=0.16 (from ipython->qiskit-textbook==0.1.0)\n",
            "  Downloading jedi-0.19.2-py2.py3-none-any.whl.metadata (22 kB)\n",
            "Requirement already satisfied: decorator in /usr/local/lib/python3.11/dist-packages (from ipython->qiskit-textbook==0.1.0) (4.4.2)\n",
            "Requirement already satisfied: pickleshare in /usr/local/lib/python3.11/dist-packages (from ipython->qiskit-textbook==0.1.0) (0.7.5)\n",
            "Requirement already satisfied: traitlets>=4.2 in /usr/local/lib/python3.11/dist-packages (from ipython->qiskit-textbook==0.1.0) (5.7.1)\n",
            "Requirement already satisfied: prompt-toolkit!=3.0.0,!=3.0.1,<3.1.0,>=2.0.0 in /usr/local/lib/python3.11/dist-packages (from ipython->qiskit-textbook==0.1.0) (3.0.50)\n",
            "Requirement already satisfied: pygments in /usr/local/lib/python3.11/dist-packages (from ipython->qiskit-textbook==0.1.0) (2.18.0)\n",
            "Requirement already satisfied: backcall in /usr/local/lib/python3.11/dist-packages (from ipython->qiskit-textbook==0.1.0) (0.2.0)\n",
            "Requirement already satisfied: matplotlib-inline in /usr/local/lib/python3.11/dist-packages (from ipython->qiskit-textbook==0.1.0) (0.1.7)\n",
            "Requirement already satisfied: pexpect>4.3 in /usr/local/lib/python3.11/dist-packages (from ipython->qiskit-textbook==0.1.0) (4.9.0)\n",
            "Requirement already satisfied: ipykernel>=4.5.1 in /usr/local/lib/python3.11/dist-packages (from ipywidgets->qiskit-textbook==0.1.0) (6.17.1)\n",
            "Requirement already satisfied: ipython-genutils~=0.2.0 in /usr/local/lib/python3.11/dist-packages (from ipywidgets->qiskit-textbook==0.1.0) (0.2.0)\n",
            "Requirement already satisfied: widgetsnbextension~=3.6.0 in /usr/local/lib/python3.11/dist-packages (from ipywidgets->qiskit-textbook==0.1.0) (3.6.10)\n",
            "Requirement already satisfied: jupyterlab-widgets>=1.0.0 in /usr/local/lib/python3.11/dist-packages (from ipywidgets->qiskit-textbook==0.1.0) (3.0.13)\n",
            "Requirement already satisfied: contourpy>=1.0.1 in /usr/local/lib/python3.11/dist-packages (from matplotlib->qiskit-textbook==0.1.0) (1.3.1)\n",
            "Requirement already satisfied: cycler>=0.10 in /usr/local/lib/python3.11/dist-packages (from matplotlib->qiskit-textbook==0.1.0) (0.12.1)\n",
            "Requirement already satisfied: fonttools>=4.22.0 in /usr/local/lib/python3.11/dist-packages (from matplotlib->qiskit-textbook==0.1.0) (4.56.0)\n",
            "Requirement already satisfied: kiwisolver>=1.3.1 in /usr/local/lib/python3.11/dist-packages (from matplotlib->qiskit-textbook==0.1.0) (1.4.8)\n",
            "Requirement already satisfied: packaging>=20.0 in /usr/local/lib/python3.11/dist-packages (from matplotlib->qiskit-textbook==0.1.0) (24.2)\n",
            "Requirement already satisfied: pillow>=8 in /usr/local/lib/python3.11/dist-packages (from matplotlib->qiskit-textbook==0.1.0) (11.1.0)\n",
            "Requirement already satisfied: pyparsing>=2.3.1 in /usr/local/lib/python3.11/dist-packages (from matplotlib->qiskit-textbook==0.1.0) (3.2.1)\n",
            "Requirement already satisfied: python-dateutil>=2.7 in /usr/local/lib/python3.11/dist-packages (from matplotlib->qiskit-textbook==0.1.0) (2.8.2)\n",
            "Requirement already satisfied: rustworkx>=0.15.0 in /usr/local/lib/python3.11/dist-packages (from qiskit->qiskit-textbook==0.1.0) (0.16.0)\n",
            "Requirement already satisfied: scipy>=1.5 in /usr/local/lib/python3.11/dist-packages (from qiskit->qiskit-textbook==0.1.0) (1.14.1)\n",
            "Requirement already satisfied: sympy>=1.3 in /usr/local/lib/python3.11/dist-packages (from qiskit->qiskit-textbook==0.1.0) (1.13.1)\n",
            "Requirement already satisfied: dill>=0.3 in /usr/local/lib/python3.11/dist-packages (from qiskit->qiskit-textbook==0.1.0) (0.3.9)\n",
            "Requirement already satisfied: stevedore>=3.0.0 in /usr/local/lib/python3.11/dist-packages (from qiskit->qiskit-textbook==0.1.0) (5.4.1)\n",
            "Requirement already satisfied: typing-extensions in /usr/local/lib/python3.11/dist-packages (from qiskit->qiskit-textbook==0.1.0) (4.12.2)\n",
            "Requirement already satisfied: symengine<0.14,>=0.11 in /usr/local/lib/python3.11/dist-packages (from qiskit->qiskit-textbook==0.1.0) (0.13.0)\n",
            "Requirement already satisfied: debugpy>=1.0 in /usr/local/lib/python3.11/dist-packages (from ipykernel>=4.5.1->ipywidgets->qiskit-textbook==0.1.0) (1.8.0)\n",
            "Requirement already satisfied: jupyter-client>=6.1.12 in /usr/local/lib/python3.11/dist-packages (from ipykernel>=4.5.1->ipywidgets->qiskit-textbook==0.1.0) (6.1.12)\n",
            "Requirement already satisfied: nest-asyncio in /usr/local/lib/python3.11/dist-packages (from ipykernel>=4.5.1->ipywidgets->qiskit-textbook==0.1.0) (1.6.0)\n",
            "Requirement already satisfied: psutil in /usr/local/lib/python3.11/dist-packages (from ipykernel>=4.5.1->ipywidgets->qiskit-textbook==0.1.0) (5.9.5)\n",
            "Requirement already satisfied: pyzmq>=17 in /usr/local/lib/python3.11/dist-packages (from ipykernel>=4.5.1->ipywidgets->qiskit-textbook==0.1.0) (24.0.1)\n",
            "Requirement already satisfied: tornado>=6.1 in /usr/local/lib/python3.11/dist-packages (from ipykernel>=4.5.1->ipywidgets->qiskit-textbook==0.1.0) (6.4.2)\n",
            "Requirement already satisfied: parso<0.9.0,>=0.8.4 in /usr/local/lib/python3.11/dist-packages (from jedi>=0.16->ipython->qiskit-textbook==0.1.0) (0.8.4)\n",
            "Requirement already satisfied: ptyprocess>=0.5 in /usr/local/lib/python3.11/dist-packages (from pexpect>4.3->ipython->qiskit-textbook==0.1.0) (0.7.0)\n",
            "Requirement already satisfied: wcwidth in /usr/local/lib/python3.11/dist-packages (from prompt-toolkit!=3.0.0,!=3.0.1,<3.1.0,>=2.0.0->ipython->qiskit-textbook==0.1.0) (0.2.13)\n",
            "Requirement already satisfied: six>=1.5 in /usr/local/lib/python3.11/dist-packages (from python-dateutil>=2.7->matplotlib->qiskit-textbook==0.1.0) (1.17.0)\n",
            "Requirement already satisfied: pbr>=2.0.0 in /usr/local/lib/python3.11/dist-packages (from stevedore>=3.0.0->qiskit->qiskit-textbook==0.1.0) (6.1.1)\n",
            "Requirement already satisfied: mpmath<1.4,>=1.1.0 in /usr/local/lib/python3.11/dist-packages (from sympy>=1.3->qiskit->qiskit-textbook==0.1.0) (1.3.0)\n",
            "Requirement already satisfied: notebook>=4.4.1 in /usr/local/lib/python3.11/dist-packages (from widgetsnbextension~=3.6.0->ipywidgets->qiskit-textbook==0.1.0) (6.5.7)\n",
            "Requirement already satisfied: jupyter-core>=4.6.0 in /usr/local/lib/python3.11/dist-packages (from jupyter-client>=6.1.12->ipykernel>=4.5.1->ipywidgets->qiskit-textbook==0.1.0) (5.7.2)\n",
            "Requirement already satisfied: jinja2 in /usr/local/lib/python3.11/dist-packages (from notebook>=4.4.1->widgetsnbextension~=3.6.0->ipywidgets->qiskit-textbook==0.1.0) (3.1.6)\n",
            "Requirement already satisfied: argon2-cffi in /usr/local/lib/python3.11/dist-packages (from notebook>=4.4.1->widgetsnbextension~=3.6.0->ipywidgets->qiskit-textbook==0.1.0) (23.1.0)\n",
            "Requirement already satisfied: nbformat in /usr/local/lib/python3.11/dist-packages (from notebook>=4.4.1->widgetsnbextension~=3.6.0->ipywidgets->qiskit-textbook==0.1.0) (5.10.4)\n",
            "Requirement already satisfied: nbconvert>=5 in /usr/local/lib/python3.11/dist-packages (from notebook>=4.4.1->widgetsnbextension~=3.6.0->ipywidgets->qiskit-textbook==0.1.0) (7.16.6)\n",
            "Requirement already satisfied: Send2Trash>=1.8.0 in /usr/local/lib/python3.11/dist-packages (from notebook>=4.4.1->widgetsnbextension~=3.6.0->ipywidgets->qiskit-textbook==0.1.0) (1.8.3)\n",
            "Requirement already satisfied: terminado>=0.8.3 in /usr/local/lib/python3.11/dist-packages (from notebook>=4.4.1->widgetsnbextension~=3.6.0->ipywidgets->qiskit-textbook==0.1.0) (0.18.1)\n",
            "Requirement already satisfied: prometheus-client in /usr/local/lib/python3.11/dist-packages (from notebook>=4.4.1->widgetsnbextension~=3.6.0->ipywidgets->qiskit-textbook==0.1.0) (0.21.1)\n",
            "Requirement already satisfied: nbclassic>=0.4.7 in /usr/local/lib/python3.11/dist-packages (from notebook>=4.4.1->widgetsnbextension~=3.6.0->ipywidgets->qiskit-textbook==0.1.0) (1.2.0)\n",
            "Requirement already satisfied: platformdirs>=2.5 in /usr/local/lib/python3.11/dist-packages (from jupyter-core>=4.6.0->jupyter-client>=6.1.12->ipykernel>=4.5.1->ipywidgets->qiskit-textbook==0.1.0) (4.3.6)\n",
            "Requirement already satisfied: notebook-shim>=0.2.3 in /usr/local/lib/python3.11/dist-packages (from nbclassic>=0.4.7->notebook>=4.4.1->widgetsnbextension~=3.6.0->ipywidgets->qiskit-textbook==0.1.0) (0.2.4)\n",
            "Requirement already satisfied: beautifulsoup4 in /usr/local/lib/python3.11/dist-packages (from nbconvert>=5->notebook>=4.4.1->widgetsnbextension~=3.6.0->ipywidgets->qiskit-textbook==0.1.0) (4.13.3)\n",
            "Requirement already satisfied: bleach!=5.0.0 in /usr/local/lib/python3.11/dist-packages (from bleach[css]!=5.0.0->nbconvert>=5->notebook>=4.4.1->widgetsnbextension~=3.6.0->ipywidgets->qiskit-textbook==0.1.0) (6.2.0)\n",
            "Requirement already satisfied: defusedxml in /usr/local/lib/python3.11/dist-packages (from nbconvert>=5->notebook>=4.4.1->widgetsnbextension~=3.6.0->ipywidgets->qiskit-textbook==0.1.0) (0.7.1)\n",
            "Requirement already satisfied: jupyterlab-pygments in /usr/local/lib/python3.11/dist-packages (from nbconvert>=5->notebook>=4.4.1->widgetsnbextension~=3.6.0->ipywidgets->qiskit-textbook==0.1.0) (0.3.0)\n",
            "Requirement already satisfied: markupsafe>=2.0 in /usr/local/lib/python3.11/dist-packages (from nbconvert>=5->notebook>=4.4.1->widgetsnbextension~=3.6.0->ipywidgets->qiskit-textbook==0.1.0) (3.0.2)\n",
            "Requirement already satisfied: mistune<4,>=2.0.3 in /usr/local/lib/python3.11/dist-packages (from nbconvert>=5->notebook>=4.4.1->widgetsnbextension~=3.6.0->ipywidgets->qiskit-textbook==0.1.0) (3.1.2)\n",
            "Requirement already satisfied: nbclient>=0.5.0 in /usr/local/lib/python3.11/dist-packages (from nbconvert>=5->notebook>=4.4.1->widgetsnbextension~=3.6.0->ipywidgets->qiskit-textbook==0.1.0) (0.10.2)\n",
            "Requirement already satisfied: pandocfilters>=1.4.1 in /usr/local/lib/python3.11/dist-packages (from nbconvert>=5->notebook>=4.4.1->widgetsnbextension~=3.6.0->ipywidgets->qiskit-textbook==0.1.0) (1.5.1)\n",
            "Requirement already satisfied: fastjsonschema>=2.15 in /usr/local/lib/python3.11/dist-packages (from nbformat->notebook>=4.4.1->widgetsnbextension~=3.6.0->ipywidgets->qiskit-textbook==0.1.0) (2.21.1)\n",
            "Requirement already satisfied: jsonschema>=2.6 in /usr/local/lib/python3.11/dist-packages (from nbformat->notebook>=4.4.1->widgetsnbextension~=3.6.0->ipywidgets->qiskit-textbook==0.1.0) (4.23.0)\n",
            "Requirement already satisfied: argon2-cffi-bindings in /usr/local/lib/python3.11/dist-packages (from argon2-cffi->notebook>=4.4.1->widgetsnbextension~=3.6.0->ipywidgets->qiskit-textbook==0.1.0) (21.2.0)\n",
            "Requirement already satisfied: webencodings in /usr/local/lib/python3.11/dist-packages (from bleach!=5.0.0->bleach[css]!=5.0.0->nbconvert>=5->notebook>=4.4.1->widgetsnbextension~=3.6.0->ipywidgets->qiskit-textbook==0.1.0) (0.5.1)\n",
            "Requirement already satisfied: tinycss2<1.5,>=1.1.0 in /usr/local/lib/python3.11/dist-packages (from bleach[css]!=5.0.0->nbconvert>=5->notebook>=4.4.1->widgetsnbextension~=3.6.0->ipywidgets->qiskit-textbook==0.1.0) (1.4.0)\n",
            "Requirement already satisfied: attrs>=22.2.0 in /usr/local/lib/python3.11/dist-packages (from jsonschema>=2.6->nbformat->notebook>=4.4.1->widgetsnbextension~=3.6.0->ipywidgets->qiskit-textbook==0.1.0) (25.3.0)\n",
            "Requirement already satisfied: jsonschema-specifications>=2023.03.6 in /usr/local/lib/python3.11/dist-packages (from jsonschema>=2.6->nbformat->notebook>=4.4.1->widgetsnbextension~=3.6.0->ipywidgets->qiskit-textbook==0.1.0) (2024.10.1)\n",
            "Requirement already satisfied: referencing>=0.28.4 in /usr/local/lib/python3.11/dist-packages (from jsonschema>=2.6->nbformat->notebook>=4.4.1->widgetsnbextension~=3.6.0->ipywidgets->qiskit-textbook==0.1.0) (0.36.2)\n",
            "Requirement already satisfied: rpds-py>=0.7.1 in /usr/local/lib/python3.11/dist-packages (from jsonschema>=2.6->nbformat->notebook>=4.4.1->widgetsnbextension~=3.6.0->ipywidgets->qiskit-textbook==0.1.0) (0.23.1)\n",
            "Requirement already satisfied: jupyter-server<3,>=1.8 in /usr/local/lib/python3.11/dist-packages (from notebook-shim>=0.2.3->nbclassic>=0.4.7->notebook>=4.4.1->widgetsnbextension~=3.6.0->ipywidgets->qiskit-textbook==0.1.0) (1.16.0)\n",
            "Requirement already satisfied: cffi>=1.0.1 in /usr/local/lib/python3.11/dist-packages (from argon2-cffi-bindings->argon2-cffi->notebook>=4.4.1->widgetsnbextension~=3.6.0->ipywidgets->qiskit-textbook==0.1.0) (1.17.1)\n",
            "Requirement already satisfied: soupsieve>1.2 in /usr/local/lib/python3.11/dist-packages (from beautifulsoup4->nbconvert>=5->notebook>=4.4.1->widgetsnbextension~=3.6.0->ipywidgets->qiskit-textbook==0.1.0) (2.6)\n",
            "Requirement already satisfied: pycparser in /usr/local/lib/python3.11/dist-packages (from cffi>=1.0.1->argon2-cffi-bindings->argon2-cffi->notebook>=4.4.1->widgetsnbextension~=3.6.0->ipywidgets->qiskit-textbook==0.1.0) (2.22)\n",
            "Requirement already satisfied: anyio>=3.1.0 in /usr/local/lib/python3.11/dist-packages (from jupyter-server<3,>=1.8->notebook-shim>=0.2.3->nbclassic>=0.4.7->notebook>=4.4.1->widgetsnbextension~=3.6.0->ipywidgets->qiskit-textbook==0.1.0) (4.9.0)\n",
            "Requirement already satisfied: websocket-client in /usr/local/lib/python3.11/dist-packages (from jupyter-server<3,>=1.8->notebook-shim>=0.2.3->nbclassic>=0.4.7->notebook>=4.4.1->widgetsnbextension~=3.6.0->ipywidgets->qiskit-textbook==0.1.0) (1.8.0)\n",
            "Requirement already satisfied: idna>=2.8 in /usr/local/lib/python3.11/dist-packages (from anyio>=3.1.0->jupyter-server<3,>=1.8->notebook-shim>=0.2.3->nbclassic>=0.4.7->notebook>=4.4.1->widgetsnbextension~=3.6.0->ipywidgets->qiskit-textbook==0.1.0) (3.10)\n",
            "Requirement already satisfied: sniffio>=1.1 in /usr/local/lib/python3.11/dist-packages (from anyio>=3.1.0->jupyter-server<3,>=1.8->notebook-shim>=0.2.3->nbclassic>=0.4.7->notebook>=4.4.1->widgetsnbextension~=3.6.0->ipywidgets->qiskit-textbook==0.1.0) (1.3.1)\n",
            "Downloading jedi-0.19.2-py2.py3-none-any.whl (1.6 MB)\n",
            "\u001b[2K   \u001b[90m━━━━━━━━━━━━━━━━━━━━━━━━━━━━━━━━━━━━━━━━\u001b[0m \u001b[32m1.6/1.6 MB\u001b[0m \u001b[31m27.6 MB/s\u001b[0m eta \u001b[36m0:00:00\u001b[0m\n",
            "\u001b[?25hBuilding wheels for collected packages: qiskit-textbook\n",
            "  Building wheel for qiskit-textbook (setup.py) ... \u001b[?25l\u001b[?25hdone\n",
            "  Created wheel for qiskit-textbook: filename=qiskit_textbook-0.1.0-py3-none-any.whl size=17522 sha256=530ec380f004e2074525ba4799ad8370cc59c254d6b0351a711391d0e6146ceb\n",
            "  Stored in directory: /tmp/pip-ephem-wheel-cache-2g3d0ptz/wheels/5a/2a/08/67b54fc8407df4542bb0f23a3b063efaddaf6a37b48497b393\n",
            "Successfully built qiskit-textbook\n",
            "Installing collected packages: jedi, qiskit-textbook\n",
            "Successfully installed jedi-0.19.2 qiskit-textbook-0.1.0\n"
          ]
        }
      ]
    },
    {
      "cell_type": "code",
      "execution_count": 2,
      "metadata": {
        "colab": {
          "base_uri": "https://localhost:8080/",
          "height": 562
        },
        "id": "ZbHMA1SCgHvS",
        "outputId": "863a789b-fd2d-4072-ad81-c55f82f7abcc"
      },
      "outputs": [
        {
          "output_type": "execute_result",
          "data": {
            "text/plain": [
              "<IPython.lib.display.IFrame at 0x7a5dd8b389d0>"
            ],
            "text/html": [
              "\n",
              "        <iframe\n",
              "            width=\"960.0\"\n",
              "            height=\"540.0\"\n",
              "            src=\"http://www.youtube.com/embed/mMwovHK2NrE\"\n",
              "            frameborder=\"0\"\n",
              "            allowfullscreen\n",
              "            \n",
              "        ></iframe>\n",
              "        "
            ]
          },
          "metadata": {},
          "execution_count": 2
        }
      ],
      "source": [
        "from IPython.display import IFrame\n",
        "IFrame(src=\"http://www.youtube.com/embed/mMwovHK2NrE\", width=1920/2, height=1080/2)"
      ]
    },
    {
      "cell_type": "markdown",
      "metadata": {
        "id": "wt9GKcAugHvT"
      },
      "source": [
        "# Building the circuit for quantum teleportation"
      ]
    },
    {
      "cell_type": "markdown",
      "metadata": {
        "id": "ikeRZOJagHvT"
      },
      "source": [
        "Let's say we are trying to teleport the quantum state $\\vert\\psi\\rangle$ from Alice to Bob. The teleportation protocol can be summarized as follows:\n",
        "\n",
        "1. Alice and Bob first create an entangled Bell pair between their two qubits. They do this by using the process described in the [Hello World video](https://www.youtube.com/watch?v=RrUTwq5jKM4) by applying a Hadamard and CX gate.\n",
        "\n",
        "2. Next, Alice applies a series of operations between the qubit with state $\\vert\\psi\\rangle$ and her half of the Bell pair.\n",
        "\n",
        "3. Finally, Alice measures both qubits (the one that initially contained $\\vert\\psi\\rangle$ and the other that contained her half of the Bell pair), and reports these results to Bob.\n",
        "\n",
        "4. Depending on what Alice says, Bob applies a couple of gates to his half of the Bell pair.\n",
        "\n",
        "5. And voila! The state $\\vert\\psi\\rangle$ has teleported to Bob's qubit."
      ]
    },
    {
      "cell_type": "markdown",
      "metadata": {
        "id": "SdemOyB4gHvU"
      },
      "source": [
        "In the version that we are building here, Bob will apply his gates conditioned on Alice's qubits, instead of the classical outcomes of the measurements that Alice did. There is a subtle difference between these two methods. While the first method (using Alice's qubits after measurement as the controls of Bob's gates) is easy to implement, the second method (using the classical results of Alice's measurement as controls of Bob's gates) allows quantum teleportation over long distances."
      ]
    },
    {
      "cell_type": "code",
      "execution_count": 9,
      "metadata": {
        "id": "JXCwu_0KgHvU"
      },
      "outputs": [],
      "source": [
        "#from qiskit import *\n",
        "from qiskit import QuantumRegister, ClassicalRegister, QuantumCircuit, transpile\n",
        "from qiskit_aer import Aer\n",
        "from qiskit.visualization import plot_histogram, plot_state_city\n",
        "from qiskit_textbook.tools import array_to_latex\n",
        "from IPython.display import display, Math\n",
        "import numpy as np\n",
        "from numpy import pi"
      ]
    },
    {
      "cell_type": "code",
      "execution_count": 16,
      "metadata": {
        "colab": {
          "base_uri": "https://localhost:8080/"
        },
        "id": "lYGnv64qgHvV",
        "outputId": "390bfa55-37f1-4c39-d5b1-092db3fef103"
      },
      "outputs": [
        {
          "output_type": "execute_result",
          "data": {
            "text/plain": [
              "<qiskit.circuit.instructionset.InstructionSet at 0x7a5d94fc2290>"
            ]
          },
          "metadata": {},
          "execution_count": 16
        }
      ],
      "source": [
        "circuit = QuantumCircuit(3,3)\n",
        "# QUBIT ORDERING\n",
        "# q0 = State |psi> that we want to teleport\n",
        "# q1 = Alice's half of the Bell pair\n",
        "# q2 = Bob's half of the Bell pair, the destination of the teleportation\n",
        "\n",
        "# ========================\n",
        "# Step 0: Create the state to be teleported in qubit 0\n",
        "circuit.x(0) # qubit 0 is now in state |1>, and this is the state that we want to teleport\n",
        "\n",
        "circuit.barrier() # just a visual aid\n",
        "\n",
        "# ========================\n",
        "# Step 1: create an entangled Bell pair between Alice and Bob (qubits 1 and 2)\n",
        "circuit.h(1)\n",
        "circuit.cx(1,2)\n",
        "\n",
        "circuit.barrier() # just a visual aid\n",
        "\n",
        "# ========================\n",
        "# Step 2: Alice applies a series of operations\n",
        "# between the state to teleport (qubit 0) and her half of the Bell pair (qubit 1)\n",
        "circuit.cx(0,1)\n",
        "circuit.h(0)\n",
        "\n",
        "circuit.barrier() # just a visual aid\n",
        "\n",
        "# ========================\n",
        "# Step 3: Alice measures both qubits 0 and 1\n",
        "circuit.measure([0, 1], [0, 1]) # results stored in classical bits 0 and 1, respectively\n",
        "\n",
        "circuit.barrier() # just a visual aid\n",
        "\n",
        "# ========================\n",
        "# Step 4: Now that Alice has measured the two qubits, their states have collapsed to 0 and 1.\n",
        "# Bob can do operations conditioned on these qubits to his half of the Bell pair\n",
        "# Note that while we're conditioning Bob's operation on the collapsed qubits 0 and 1, we can\n",
        "# do teleportation over long distances by transmitting the classical information in classical bits 0 and 1\n",
        "circuit.cx(1, 2)\n",
        "circuit.cz(0, 2)\n",
        "\n",
        "# Step 5: Done! Measure Bob's qubit to find out what state it is in\n",
        "circuit.measure([2], [2])"
      ]
    },
    {
      "cell_type": "markdown",
      "metadata": {
        "id": "J4tdcCjggHvW"
      },
      "source": [
        "As always, let's draw the circuit before simulating to make sure it's doing what we want"
      ]
    },
    {
      "cell_type": "code",
      "execution_count": 17,
      "metadata": {
        "colab": {
          "base_uri": "https://localhost:8080/",
          "height": 320
        },
        "id": "FzqdaqLpgHvW",
        "outputId": "65ca6e30-6bde-4edb-d2b0-35676cca1d68"
      },
      "outputs": [
        {
          "output_type": "execute_result",
          "data": {
            "text/plain": [
              "<Figure size 1290.83x367.889 with 1 Axes>"
            ],
            "image/png": "[encoded data removed]"
          },
          "metadata": {},
          "execution_count": 17
        }
      ],
      "source": [
        "%matplotlib inline\n",
        "circuit.draw(output='mpl')"
      ]
    },
    {
      "cell_type": "markdown",
      "metadata": {
        "id": "u7KZgjc3gHvX"
      },
      "source": [
        "# Running the quantum teleportation circuit"
      ]
    },
    {
      "cell_type": "markdown",
      "metadata": {
        "id": "1KizNrwPgHvX"
      },
      "source": [
        "And finally, let's simulate the circuit on Aer's `qasm_simulator`"
      ]
    },
    {
      "cell_type": "code",
      "execution_count": 18,
      "metadata": {
        "colab": {
          "base_uri": "https://localhost:8080/",
          "height": 446
        },
        "id": "GaLpGRNagHvX",
        "outputId": "dd1b1905-bfbc-4b21-f308-cce4eda5c5ef"
      },
      "outputs": [
        {
          "output_type": "execute_result",
          "data": {
            "text/plain": [
              "<Figure size 640x480 with 1 Axes>"
            ],
            "image/png": "[encoded data removed]"
          },
          "metadata": {},
          "execution_count": 18
        }
      ],
      "source": [
        "simulator = Aer.get_backend('qasm_simulator')\n",
        "result = simulator.run(circuit, shots=1024).result()\n",
        "from qiskit.visualization import plot_histogram\n",
        "plot_histogram(result.get_counts(circuit))"
      ]
    },
    {
      "cell_type": "markdown",
      "metadata": {
        "id": "V4lyJguQgHvY"
      },
      "source": [
        "# Note that the results above are ordered as $c_2c_1c_0$, with the bottom-most bit being $c_2$, which was the result of measuring the state in qubit 2. As you can see, the result is always $c_2 = 1$ since we teleported the state $\\vert1\\rangle$ to qubit 2."
      ]
    },
    {
      "cell_type": "markdown",
      "metadata": {
        "id": "3h_4oFwigHvY"
      },
      "source": [
        "# Bonus: creating the teleportation circuit using subcircuits"
      ]
    },
    {
      "cell_type": "markdown",
      "metadata": {
        "id": "nhoEfE5cgHvY"
      },
      "source": [
        "In this section, we will build up the teleportation circuit using subcircuits. This allows us to initialize different instances of the state to be teleported, as you will see below.\n",
        "\n",
        "Note the small change in the measurement of qubit 2 -- we are measuring along the Hadamard basis, instead of along the z axis. This is achieved by the use of a Hadamard gate before the measurement."
      ]
    },
    {
      "cell_type": "code",
      "execution_count": null,
      "metadata": {
        "id": "8gQ9adYWgHvZ",
        "outputId": "382a8685-3968-40ad-8a66-83b92b628b87"
      },
      "outputs": [
        {
          "data": {
            "image/png": "[encoded data removed]",
            "text/plain": [
              "<Figure size 1300.32x264.88 with 1 Axes>"
            ]
          },
          "execution_count": 6,
          "metadata": {},
          "output_type": "execute_result"
        }
      ],
      "source": [
        "def create_state_psi(theta):\n",
        "    # Create a state along the x axis on the x-y plane and then rotate it by angle theta around the z-axis\n",
        "    # theta = 0 => state is exactly along x\n",
        "    # theta = pi/2 => state is exactly along y\n",
        "    create_circuit = QuantumCircuit(1, name='create_state_psi')\n",
        "    create_circuit.h(0)\n",
        "    create_circuit.rz(theta, 0)\n",
        "    return create_circuit\n",
        "\n",
        "def create_Bell_pair():\n",
        "    create_Bell_circuit = QuantumCircuit(2, name='create_Bell_pair')\n",
        "    create_Bell_circuit.h(0)\n",
        "    create_Bell_circuit.cx(0,1)\n",
        "    return create_Bell_circuit\n",
        "\n",
        "def teleportation_Alice():\n",
        "    teleportation_Alice_circuit = QuantumCircuit(2, name='teleportation_Alice')\n",
        "    teleportation_Alice_circuit.cx(0,1)\n",
        "    teleportation_Alice_circuit.h(0)\n",
        "    return teleportation_Alice_circuit\n",
        "\n",
        "def Alice_measure():\n",
        "    Alice_measure_circuit = QuantumCircuit(2, 2, name='Alice_measure')\n",
        "    Alice_measure_circuit.measure([0,1], [0,1])\n",
        "    return Alice_measure_circuit\n",
        "\n",
        "def teleportation_Bob():\n",
        "    teleportation_Bob_circuit = QuantumCircuit(3, name='teleportation_Bob')\n",
        "    teleportation_Bob_circuit.cx(1,2)\n",
        "    teleportation_Bob_circuit.cz(0,2)\n",
        "    return teleportation_Bob_circuit\n",
        "\n",
        "def build_circuit(theta):\n",
        "    circuit = QuantumCircuit(3, 3)\n",
        "    # Step 0: create the state to teleport\n",
        "    circuit.append(create_state_psi(theta).to_instruction(), [0])\n",
        "    circuit.barrier()\n",
        "    # Step 1: create the Bell pair between Alice and Bob's qubits\n",
        "    circuit.append(create_Bell_pair().to_instruction(), [1,2])\n",
        "    circuit.barrier()\n",
        "    # Step 2: Alice applies a series of operations\n",
        "    circuit.append(teleportation_Alice().to_instruction(), [0,1])\n",
        "    circuit.barrier()\n",
        "    # Step 3: Alice measures her two qubits\n",
        "    circuit.append(Alice_measure().to_instruction(), [0,1], [0,1])\n",
        "    circuit.barrier()\n",
        "    # Step 4: Bob applies operations to his qubit depending on Alice's measurement outcomes\n",
        "    circuit.append(teleportation_Bob().to_instruction(), [0,1,2])\n",
        "    circuit.barrier()\n",
        "    # Step 5: Done. Now measure Bob's qubit to be sure that teleportation was successful\n",
        "    circuit.h(2) # note that the Hadamard gate here ensures that we measure in the Hadamard basis instead of z basis\n",
        "    circuit.measure([0,1,2], [0,1,2])\n",
        "    return circuit\n",
        "\n",
        "circuit = build_circuit(0.01)\n",
        "circuit.draw(output='mpl')"
      ]
    },
    {
      "cell_type": "markdown",
      "metadata": {
        "id": "lssdLbybgHvZ"
      },
      "source": [
        "In order to expand the circuit above, we can write"
      ]
    },
    {
      "cell_type": "code",
      "execution_count": null,
      "metadata": {
        "id": "Gs_tQCxegHvZ",
        "outputId": "488fc795-01e0-48ea-b74f-008795c375e2"
      },
      "outputs": [
        {
          "data": {
            "image/png": "[encoded data removed]",
            "text/plain": [
              "<Figure size 1360.52x264.88 with 1 Axes>"
            ]
          },
          "execution_count": 7,
          "metadata": {},
          "output_type": "execute_result"
        }
      ],
      "source": [
        "circuit.decompose().draw(output='mpl')"
      ]
    },
    {
      "cell_type": "code",
      "execution_count": null,
      "metadata": {
        "id": "GBLmn-jqgHva",
        "outputId": "22852dff-f9dd-4bce-ca63-bfd82532455c"
      },
      "outputs": [
        {
          "name": "stdout",
          "output_type": "stream",
          "text": [
            "{'000': 269, '011': 256, '010': 225, '001': 274}\n"
          ]
        }
      ],
      "source": [
        "simulator = Aer.get_backend('qasm_simulator')\n",
        "result = execute(circuit, backend=simulator, shots=1024).result()\n",
        "counts = result.get_counts(circuit)\n",
        "print(counts)\n",
        "num_c2_zero = sum(counts[c2c1c0] for c2c1c0 in counts if c2c1c0[0] == '0')"
      ]
    },
    {
      "cell_type": "markdown",
      "metadata": {
        "id": "zvXiFg9IgHva"
      },
      "source": [
        "## Now, let's make a loop that iterates over several initial angles $\\theta$"
      ]
    },
    {
      "cell_type": "code",
      "execution_count": null,
      "metadata": {
        "id": "lke47KzHgHva",
        "outputId": "0f7366b1-28a5-4481-eb3f-f82ff6c2c280"
      },
      "outputs": [
        {
          "data": {
            "image/png": "[encoded data removed]",
            "text/plain": [
              "<Figure size 432x288 with 1 Axes>"
            ]
          },
          "metadata": {
            "needs_background": "light"
          },
          "output_type": "display_data"
        }
      ],
      "source": [
        "import numpy as np\n",
        "thetas = np.arange(0, 4*np.pi, np.pi/16)\n",
        "\n",
        "simulator = Aer.get_backend('qasm_simulator')\n",
        "\n",
        "percent_ones = []\n",
        "\n",
        "for theta in thetas:\n",
        "    circuit = build_circuit(theta)\n",
        "    result = execute(circuit, backend=simulator, shots=1024).result()\n",
        "    counts = result.get_counts(circuit)\n",
        "    num_c2_ones = sum(counts[c2c1c0] for c2c1c0 in counts if c2c1c0[0] == '1')\n",
        "    percent_ones.append(num_c2_ones*100./1024)\n",
        "\n",
        "import matplotlib.pyplot as plotter\n",
        "plotter.plot(thetas, percent_ones)\n",
        "plotter.xlabel('Initial angle, theta (radians)')\n",
        "plotter.ylabel('Percentage of 1 counts')\n",
        "plotter.show()"
      ]
    },
    {
      "cell_type": "markdown",
      "metadata": {
        "id": "A26O5WFIgHva"
      },
      "source": [
        "As you can see, the measurement results show a sinusoidal periodicity. Since we are measuring along the Hadamard basis, and we begin with a state that is entirely along the $x$-axis, we are able to follow the change in phase"
      ]
    },
    {
      "cell_type": "markdown",
      "metadata": {
        "id": "xjTp4NtdgHvb"
      },
      "source": [
        "# Running the teleportation circuit on real quantum hardware"
      ]
    },
    {
      "cell_type": "markdown",
      "metadata": {
        "id": "SsCSLMS0gHvb"
      },
      "source": [
        "As before, we will now create circuits for various values of $\\theta$, and then send all the circuits to the IBMQ backend called `ibmq_16_melbourne`. We will map the qubits 0, 1 and 2 to the physical qubits 6, 8 and 7, respectively."
      ]
    },
    {
      "cell_type": "code",
      "execution_count": null,
      "metadata": {
        "id": "nEj9imLtgHvb"
      },
      "outputs": [],
      "source": [
        "# build circuits\n",
        "thetas = np.arange(0, 4*np.pi, np.pi/16)\n",
        "\n",
        "circuits = []\n",
        "for theta in thetas:\n",
        "    circuit = build_circuit(theta)\n",
        "    circuits.append(circuit)"
      ]
    },
    {
      "cell_type": "code",
      "execution_count": null,
      "metadata": {
        "id": "dkp8CJMagHvb",
        "outputId": "7a62aa89-2936-4ba6-ac1e-bab131c21e3e"
      },
      "outputs": [
        {
          "name": "stdout",
          "output_type": "stream",
          "text": [
            "5d6b173be17db40011ea24cf\n",
            "Job Status: job has successfully run\n"
          ]
        }
      ],
      "source": [
        "# load account\n",
        "IBMQ.load_account()\n",
        "provider = IBMQ.get_provider(hub='ibm-q')\n",
        "qcomp = provider.get_backend('ibmq_16_melbourne')\n",
        "\n",
        "# run the job on the backend qcomp\n",
        "job = execute(circuits, backend=qcomp, shots=512, initial_layout=[6,8,7])\n",
        "print(job.job_id())\n",
        "from qiskit.tools.monitor import job_monitor\n",
        "job_monitor(job)"
      ]
    },
    {
      "cell_type": "code",
      "execution_count": null,
      "metadata": {
        "id": "ii8FpMPTgHvb"
      },
      "outputs": [],
      "source": [
        "simresult = execute(circuits, backend=simulator, shots=512).result()"
      ]
    },
    {
      "cell_type": "code",
      "execution_count": null,
      "metadata": {
        "id": "bDmPiyd0gHvb",
        "outputId": "1f378d6c-69b1-49c5-e7ca-f236d2b47b23"
      },
      "outputs": [
        {
          "data": {
            "image/png": "[encoded data removed]",
            "text/plain": [
              "<Figure size 432x288 with 1 Axes>"
            ]
          },
          "metadata": {
            "needs_background": "light"
          },
          "output_type": "display_data"
        }
      ],
      "source": [
        "result = job.result()\n",
        "\n",
        "percent_ones = []\n",
        "for circuit in circuits:\n",
        "    thiscircuit_counts = result.get_counts(circuit)\n",
        "    num_c2_ones = sum(thiscircuit_counts[c2c1c0] for c2c1c0 in thiscircuit_counts if c2c1c0[0] == '1')\n",
        "    percent_ones.append(num_c2_ones*100./512)\n",
        "\n",
        "percent_ones_sim = []\n",
        "for circuit in circuits:\n",
        "    thiscircuit_counts = simresult.get_counts(circuit)\n",
        "    num_c2_ones = sum(thiscircuit_counts[c2c1c0] for c2c1c0 in thiscircuit_counts if c2c1c0[0] == '1')\n",
        "    percent_ones_sim.append(num_c2_ones*100./512)\n",
        "\n",
        "\n",
        "plotter.plot(thetas, percent_ones, 'r.', label='Real device')\n",
        "plotter.plot(thetas, percent_ones_sim, 'k', label='Simulator')\n",
        "plotter.xlabel('Initial angle, theta (radians)')\n",
        "plotter.ylabel('Percentage of 1 counts')\n",
        "plotter.legend()\n",
        "plotter.show()"
      ]
    },
    {
      "cell_type": "markdown",
      "metadata": {
        "id": "6hMuDbbwgHvc"
      },
      "source": [
        "# Quantum teleportation over long distances"
      ]
    },
    {
      "cell_type": "markdown",
      "metadata": {
        "id": "yegJ7J4lgHvc"
      },
      "source": [
        "In the above work, Bob applied quantum gates to his half of the Bell pair based on Alice's qubits. This is a simplified version of the teleportation algorithm. The most useful aspect of the algorithm becomes apparent when, instead of using Alice's qubits for controlling Bob's gates, we use the classical outcomes of the measurement of Alice's qubits for controlling Bob's gates.\n",
        "\n",
        "In Qiskit, this is achieved using `c_if` as shown below. This feature of conditioning a quantum gate on a classical register is currently unavailable on the real quantum hardware, and circuits containing this feature can only be executed on the simulators."
      ]
    },
    {
      "cell_type": "code",
      "execution_count": null,
      "metadata": {
        "id": "J79EsLOugHvc",
        "outputId": "8bddb29d-740e-457a-a6be-8ad13f0a494b"
      },
      "outputs": [
        {
          "data": {
            "text/html": [
              "<pre style=\"word-wrap: normal;white-space: pre;background: #fff0;line-height: 1.1;font-family: &quot;Courier New&quot;,Courier,monospace\">         ┌───┐┌───────┐ ░            ░      ┌───┐ ░ ┌─┐    ░                ░ »\n",
              "q0_0: |0>┤ H ├┤ Rz(0) ├─░────────────░───■──┤ H ├─░─┤M├────░────────────────░─»\n",
              "         └───┘└───────┘ ░ ┌───┐      ░ ┌─┴─┐└───┘ ░ └╥┘┌─┐ ░                ░ »\n",
              "q0_1: |0>───────────────░─┤ H ├──■───░─┤ X ├──────░──╫─┤M├─░────────────────░─»\n",
              "                        ░ └───┘┌─┴─┐ ░ └───┘      ░  ║ └╥┘ ░  ┌───┐  ┌───┐  ░ »\n",
              "q0_2: |0>───────────────░──────┤ X ├─░────────────░──╫──╫──░──┤ X ├──┤ Z ├──░─»\n",
              "                        ░      └───┘ ░            ░  ║  ║  ░  └─┬─┘  └─┬─┘  ░ »\n",
              "                                                     ║          │   ┌──┴──┐   »\n",
              " c0_0: 0 ════════════════════════════════════════════╩══════════╪═══╡ = 1 ╞═══»\n",
              "                                                        ║    ┌──┴──┐└─────┘   »\n",
              " c1_0: 0 ═══════════════════════════════════════════════╩════╡ = 1 ╞══════════»\n",
              "                                                             └─────┘          »\n",
              " c2_0: 0 ═════════════════════════════════════════════════════════════════════»\n",
              "                                                                              »\n",
              "«              \n",
              "«q0_0: ────────\n",
              "«              \n",
              "«q0_1: ────────\n",
              "«      ┌───┐┌─┐\n",
              "«q0_2: ┤ H ├┤M├\n",
              "«      └───┘└╥┘\n",
              "«c0_0: ══════╬═\n",
              "«            ║ \n",
              "«c1_0: ══════╬═\n",
              "«            ║ \n",
              "«c2_0: ══════╩═\n",
              "«              </pre>"
            ],
            "text/plain": [
              "<qiskit.visualization.text.TextDrawing at 0x13196b908>"
            ]
          },
          "execution_count": 14,
          "metadata": {},
          "output_type": "execute_result"
        }
      ],
      "source": [
        "thetas = np.arange(0, 4*np.pi, np.pi/16)\n",
        "circuits_classicalcontrol = []\n",
        "for theta in thetas:\n",
        "    cr1 = ClassicalRegister(1)\n",
        "    cr2 = ClassicalRegister(1)\n",
        "    cr3 = ClassicalRegister(1)\n",
        "    qr = QuantumRegister(3)\n",
        "    circuit = QuantumCircuit(qr, cr1, cr2, cr3)\n",
        "\n",
        "    # ========================\n",
        "    # Step 0: Create the state to be teleported in qubit 0\n",
        "    circuit.h(0)\n",
        "    circuit.rz(theta, 0)\n",
        "    circuit.barrier()\n",
        "    # ========================\n",
        "    # Step 1: create an entangled Bell pair between Alice and Bob (qubits 1 and 2)\n",
        "    circuit.h(1)\n",
        "    circuit.cx(1,2)\n",
        "    circuit.barrier()\n",
        "    # ========================\n",
        "    # Step 2: Alice applies a series of operations\n",
        "    # between the state to teleport (qubit 0) and her half of the Bell pair (qubit 1)\n",
        "    circuit.cx(0,1)\n",
        "    circuit.h(0)\n",
        "    circuit.barrier()\n",
        "    # ========================\n",
        "    # Step 3: Alice measures both qubits 0 and 1\n",
        "    circuit.measure([0, 1], [0, 1]) # results stored in classical bits 0 and 1, respectively\n",
        "    circuit.barrier()\n",
        "    # ========================\n",
        "    # Step 4: Now that Alice has measured the two qubits, their states have collapsed to 0 and 1.\n",
        "    # Use the classical bits from Alice's measurements to do operations on Bob's half of the Bell pair\n",
        "    circuit.x(2).c_if(cr2, 1)\n",
        "    circuit.z(2).c_if(cr1, 1)\n",
        "    circuit.barrier()\n",
        "    # Step 5: Done! Measure Bob's qubit in the Hadamard basis to find out what state it is in\n",
        "    circuit.h(2)\n",
        "    circuit.measure([2], [2])\n",
        "\n",
        "    circuits_classicalcontrol.append(circuit)\n",
        "\n",
        "circuits_classicalcontrol[0].draw()"
      ]
    },
    {
      "cell_type": "code",
      "execution_count": null,
      "metadata": {
        "id": "o2LU5w6igHvd",
        "outputId": "b2c2636e-068d-4ec0-ccd5-29a6ea93bd57"
      },
      "outputs": [
        {
          "data": {
            "image/png": "[encoded data removed]",
            "text/plain": [
              "<Figure size 432x288 with 1 Axes>"
            ]
          },
          "metadata": {
            "needs_background": "light"
          },
          "output_type": "display_data"
        }
      ],
      "source": [
        "simulator = Aer.get_backend('qasm_simulator')\n",
        "simresult_classicalcontrol = execute(circuits_classicalcontrol, backend=simulator, shots=512).result()\n",
        "\n",
        "percent_ones_sim = []\n",
        "for ii in range(len((circuits))):\n",
        "    thiscircuit_counts = simresult_classicalcontrol.get_counts(ii)\n",
        "    num_c2_ones = sum(thiscircuit_counts[c2c1c0] for c2c1c0 in thiscircuit_counts if c2c1c0[0] == '1')\n",
        "    percent_ones_sim.append(num_c2_ones*100./512)\n",
        "\n",
        "plotter.plot(thetas, percent_ones_sim, 'k', label='Simulator')\n",
        "plotter.xlabel('Initial angle, theta (radians)')\n",
        "plotter.ylabel('Percentage of 1 counts')\n",
        "plotter.legend()\n",
        "plotter.show()"
      ]
    },
    {
      "cell_type": "markdown",
      "metadata": {
        "id": "0x831ckNgHvd"
      },
      "source": [
        "Notice that the above results were achieved without any quantum gates between qubits 1 and 2 after they were entangled. In fact, the two qubits can be physically separated. As long as the classical information from the two measurements of Alice's qubits can be transferred quickly enough, teleportation can be achieved over long distances."
      ]
    },
    {
      "cell_type": "markdown",
      "metadata": {
        "id": "Ay7cCFSJgHvd"
      },
      "source": [
        "# References"
      ]
    },
    {
      "cell_type": "markdown",
      "metadata": {
        "id": "1lEXn0k5gHvd"
      },
      "source": [
        "#### Journal Papers\n",
        "\n",
        "1. Charles Bennett et al.,\n",
        "Teleporting an Unknown Quantum State via Dual Classical and Einstein-Podolsky-Rosen Channels.\n",
        "Phys. Rev. Lett. **70**, 1895 (1993). <a id='1'>https://journals.aps.org/prl/abstract/10.1103/PhysRevLett.70.1895</a>\n",
        "\n",
        "\n",
        "2. W. K. Wootters & W. H. Zurek,\n",
        "A single quantum cannot be cloned.\n",
        "Nature **299**, 802 (1982). <a id='2'>https://www.nature.com/articles/299802a0</a>\n",
        "\n",
        "#### Tutorials\n",
        "For detailed information about Qiskit, check out the tutorials in the Github repository:\n",
        "\n",
        "https://github.com/Qiskit/qiskit-iqx-tutorials\n",
        "\n",
        "For a pedagogical presentation of the mathematics behind the quantum teleportation circuit, check out our open-source `Learn Quantum Computation using Qiskit` textbook:\n",
        "\n",
        "https://community.qiskit.org/textbook/"
      ]
    },
    {
      "cell_type": "markdown",
      "metadata": {
        "id": "Io55yqZKgHve"
      },
      "source": [
        "# Version"
      ]
    },
    {
      "cell_type": "markdown",
      "metadata": {
        "id": "1jwFO27FgHve"
      },
      "source": [
        "It's good to note the Qiskit version that was used in your work. One way to do this is print the version at the bottom of the Jupyter notebook using"
      ]
    },
    {
      "cell_type": "code",
      "execution_count": null,
      "metadata": {
        "id": "KOZY-XdegHve",
        "outputId": "17ef0133-93d3-4b04-b3df-a144fcc58930"
      },
      "outputs": [
        {
          "data": {
            "text/plain": [
              "{'qiskit-terra': '0.9.0',\n",
              " 'qiskit-ignis': '0.2.0',\n",
              " 'qiskit-aqua': '0.6.0',\n",
              " 'qiskit': '0.12.0',\n",
              " 'qiskit-aer': '0.3.0',\n",
              " 'qiskit-ibmq-provider': '0.3.2'}"
            ]
          },
          "execution_count": 16,
          "metadata": {},
          "output_type": "execute_result"
        }
      ],
      "source": [
        "qiskit.__qiskit_version__"
      ]
    },
    {
      "cell_type": "code",
      "execution_count": null,
      "metadata": {
        "id": "tPpBwNEKgHve",
        "outputId": "584bd07e-bc1a-4601-d761-a928b75c03dc"
      },
      "outputs": [
        {
          "data": {
            "text/html": [
              "<div style='width: 100%; background-color:#d5d9e0;padding-left: 10px; padding-bottom: 10px; padding-right: 10px; padding-top: 5px'><h3>This code is a part of Qiskit</h3><p>&copy; Copyright IBM 2017, 2019.</p><p>This code is licensed under the Apache License, Version 2.0. You may<br>obtain a copy of this license in the LICENSE.txt file in the root directory<br> of this source tree or at http://www.apache.org/licenses/LICENSE-2.0.<p>Any modifications or derivative works of this code must retain this<br>copyright notice, and modified files need to carry a notice indicating<br>that they have been altered from the originals.</p></div>"
            ],
            "text/plain": [
              "<IPython.core.display.HTML object>"
            ]
          },
          "metadata": {},
          "output_type": "display_data"
        }
      ],
      "source": [
        "import qiskit.tools.jupyter\n",
        "%qiskit_copyright"
      ]
    }
  ],
  "metadata": {
    "kernelspec": {
      "display_name": "Python 3",
      "language": "python",
      "name": "python3"
    },
    "language_info": {
      "codemirror_mode": {
        "name": "ipython",
        "version": 3
      },
      "file_extension": ".py",
      "mimetype": "text/x-python",
      "name": "python",
      "nbconvert_exporter": "python",
      "pygments_lexer": "ipython3",
      "version": "3.7.3"
    },
    "colab": {
      "provenance": [],
      "include_colab_link": true
    }
  },
  "nbformat": 4,
  "nbformat_minor": 0
}