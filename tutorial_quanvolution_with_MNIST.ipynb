{
  "cells": [
    {
      "cell_type": "markdown",
      "metadata": {
        "id": "view-in-github",
        "colab_type": "text"
      },
      "source": [
        "<a href=\"https://colab.research.google.com/github/mkbahk/QuantumComputing/blob/main/tutorial_quanvolution_with_MNIST.ipynb\" target=\"_parent\"><img src=\"https://colab.research.google.com/assets/colab-badge.svg\" alt=\"Open In Colab\"/></a>"
      ]
    },
    {
      "cell_type": "markdown",
      "source": [
        "pennylane Quantum Framework을 설치합니다."
      ],
      "metadata": {
        "id": "kwxHNYgC-UBz"
      }
    },
    {
      "cell_type": "code",
      "source": [
        "!pip install pennylane --upgrade"
      ],
      "metadata": {
        "colab": {
          "base_uri": "https://localhost:8080/"
        },
        "id": "dTdQh9x1m-lc",
        "outputId": "86197471-b22f-4b8d-fcd9-a01a05fa2bbe"
      },
      "execution_count": 45,
      "outputs": [
        {
          "output_type": "stream",
          "name": "stdout",
          "text": [
            "Looking in indexes: https://pypi.org/simple, https://us-python.pkg.dev/colab-wheels/public/simple/\n",
            "Requirement already satisfied: pennylane in /usr/local/lib/python3.8/dist-packages (0.29.1)\n",
            "Requirement already satisfied: autoray>=0.3.1 in /usr/local/lib/python3.8/dist-packages (from pennylane) (0.6.1)\n",
            "Requirement already satisfied: networkx in /usr/local/lib/python3.8/dist-packages (from pennylane) (2.8.8)\n",
            "Requirement already satisfied: appdirs in /usr/local/lib/python3.8/dist-packages (from pennylane) (1.4.4)\n",
            "Requirement already satisfied: numpy<1.24 in /usr/local/lib/python3.8/dist-packages (from pennylane) (1.22.4)\n",
            "Requirement already satisfied: requests in /usr/local/lib/python3.8/dist-packages (from pennylane) (2.28.2)\n",
            "Requirement already satisfied: cachetools in /usr/local/lib/python3.8/dist-packages (from pennylane) (5.3.0)\n",
            "Requirement already satisfied: pennylane-lightning>=0.28 in /usr/local/lib/python3.8/dist-packages (from pennylane) (0.29.0)\n",
            "Requirement already satisfied: autograd in /usr/local/lib/python3.8/dist-packages (from pennylane) (1.5)\n",
            "Requirement already satisfied: toml in /usr/local/lib/python3.8/dist-packages (from pennylane) (0.10.2)\n",
            "Requirement already satisfied: retworkx in /usr/local/lib/python3.8/dist-packages (from pennylane) (0.12.1)\n",
            "Requirement already satisfied: scipy in /usr/local/lib/python3.8/dist-packages (from pennylane) (1.10.1)\n",
            "Requirement already satisfied: semantic-version>=2.7 in /usr/local/lib/python3.8/dist-packages (from pennylane) (2.10.0)\n",
            "Requirement already satisfied: future>=0.15.2 in /usr/local/lib/python3.8/dist-packages (from autograd->pennylane) (0.16.0)\n",
            "Requirement already satisfied: urllib3<1.27,>=1.21.1 in /usr/local/lib/python3.8/dist-packages (from requests->pennylane) (1.26.14)\n",
            "Requirement already satisfied: charset-normalizer<4,>=2 in /usr/local/lib/python3.8/dist-packages (from requests->pennylane) (3.0.1)\n",
            "Requirement already satisfied: certifi>=2017.4.17 in /usr/local/lib/python3.8/dist-packages (from requests->pennylane) (2022.12.7)\n",
            "Requirement already satisfied: idna<4,>=2.5 in /usr/local/lib/python3.8/dist-packages (from requests->pennylane) (2.10)\n",
            "Requirement already satisfied: rustworkx==0.12.1 in /usr/local/lib/python3.8/dist-packages (from retworkx->pennylane) (0.12.1)\n",
            "Looking in indexes: https://pypi.org/simple, https://us-python.pkg.dev/colab-wheels/public/simple/\n",
            "Requirement already satisfied: pennylane-lightning in /usr/local/lib/python3.8/dist-packages (0.29.0)\n",
            "Requirement already satisfied: pennylane-sf in /usr/local/lib/python3.8/dist-packages (0.29.0)\n",
            "Requirement already satisfied: pennylane-qiskit in /usr/local/lib/python3.8/dist-packages (0.29.0)\n",
            "Requirement already satisfied: pennylane-cirq in /usr/local/lib/python3.8/dist-packages (0.29.0)\n",
            "Requirement already satisfied: pennylane>=0.28 in /usr/local/lib/python3.8/dist-packages (from pennylane-lightning) (0.29.1)\n",
            "Requirement already satisfied: pennylane-lightning-gpu in /usr/local/lib/python3.8/dist-packages (from pennylane-lightning) (0.29.0)\n",
            "Requirement already satisfied: strawberryfields>=0.22 in /usr/local/lib/python3.8/dist-packages (from pennylane-sf) (0.23.0)\n",
            "Requirement already satisfied: mthree>=0.17 in /usr/local/lib/python3.8/dist-packages (from pennylane-qiskit) (2.0.0)\n",
            "Requirement already satisfied: qiskit>=0.32 in /usr/local/lib/python3.8/dist-packages (from pennylane-qiskit) (0.41.1)\n",
            "Requirement already satisfied: numpy in /usr/local/lib/python3.8/dist-packages (from pennylane-qiskit) (1.22.4)\n",
            "Requirement already satisfied: networkx>=2.2 in /usr/local/lib/python3.8/dist-packages (from pennylane-qiskit) (2.8.8)\n",
            "Requirement already satisfied: cirq-pasqal>=0.10 in /usr/local/lib/python3.8/dist-packages (from pennylane-cirq) (1.1.0)\n",
            "Requirement already satisfied: cirq-core>=0.10 in /usr/local/lib/python3.8/dist-packages (from pennylane-cirq) (1.1.0)\n",
            "Requirement already satisfied: matplotlib~=3.0 in /usr/local/lib/python3.8/dist-packages (from cirq-core>=0.10->pennylane-cirq) (3.5.3)\n",
            "Requirement already satisfied: pandas in /usr/local/lib/python3.8/dist-packages (from cirq-core>=0.10->pennylane-cirq) (1.3.5)\n",
            "Requirement already satisfied: sortedcontainers~=2.0 in /usr/local/lib/python3.8/dist-packages (from cirq-core>=0.10->pennylane-cirq) (2.4.0)\n",
            "Requirement already satisfied: sympy in /usr/local/lib/python3.8/dist-packages (from cirq-core>=0.10->pennylane-cirq) (1.7.1)\n",
            "Requirement already satisfied: typing-extensions in /usr/local/lib/python3.8/dist-packages (from cirq-core>=0.10->pennylane-cirq) (4.5.0)\n",
            "Requirement already satisfied: duet~=0.2.7 in /usr/local/lib/python3.8/dist-packages (from cirq-core>=0.10->pennylane-cirq) (0.2.7)\n",
            "Requirement already satisfied: tqdm in /usr/local/lib/python3.8/dist-packages (from cirq-core>=0.10->pennylane-cirq) (4.64.1)\n",
            "Requirement already satisfied: scipy in /usr/local/lib/python3.8/dist-packages (from cirq-core>=0.10->pennylane-cirq) (1.10.1)\n",
            "Requirement already satisfied: requests~=2.18 in /usr/local/lib/python3.8/dist-packages (from cirq-pasqal>=0.10->pennylane-cirq) (2.28.2)\n",
            "Requirement already satisfied: cython>=0.29 in /usr/local/lib/python3.8/dist-packages (from mthree>=0.17->pennylane-qiskit) (0.29.33)\n",
            "Requirement already satisfied: qiskit-ibmq-provider>=0.19.2 in /usr/local/lib/python3.8/dist-packages (from mthree>=0.17->pennylane-qiskit) (0.20.1)\n",
            "Requirement already satisfied: qiskit-terra>=0.21 in /usr/local/lib/python3.8/dist-packages (from mthree>=0.17->pennylane-qiskit) (0.23.2)\n",
            "Requirement already satisfied: psutil in /usr/local/lib/python3.8/dist-packages (from mthree>=0.17->pennylane-qiskit) (5.4.8)\n",
            "Requirement already satisfied: orjson>=3.0.0 in /usr/local/lib/python3.8/dist-packages (from mthree>=0.17->pennylane-qiskit) (3.8.7)\n",
            "Requirement already satisfied: cachetools in /usr/local/lib/python3.8/dist-packages (from pennylane>=0.28->pennylane-lightning) (5.3.0)\n",
            "Requirement already satisfied: semantic-version>=2.7 in /usr/local/lib/python3.8/dist-packages (from pennylane>=0.28->pennylane-lightning) (2.10.0)\n",
            "Requirement already satisfied: autograd in /usr/local/lib/python3.8/dist-packages (from pennylane>=0.28->pennylane-lightning) (1.5)\n",
            "Requirement already satisfied: toml in /usr/local/lib/python3.8/dist-packages (from pennylane>=0.28->pennylane-lightning) (0.10.2)\n",
            "Requirement already satisfied: autoray>=0.3.1 in /usr/local/lib/python3.8/dist-packages (from pennylane>=0.28->pennylane-lightning) (0.6.1)\n",
            "Requirement already satisfied: appdirs in /usr/local/lib/python3.8/dist-packages (from pennylane>=0.28->pennylane-lightning) (1.4.4)\n",
            "Requirement already satisfied: retworkx in /usr/local/lib/python3.8/dist-packages (from pennylane>=0.28->pennylane-lightning) (0.12.1)\n",
            "Requirement already satisfied: qiskit-aer==0.11.2 in /usr/local/lib/python3.8/dist-packages (from qiskit>=0.32->pennylane-qiskit) (0.11.2)\n",
            "Requirement already satisfied: python-dateutil~=2.8.0 in /usr/local/lib/python3.8/dist-packages (from qiskit-ibmq-provider>=0.19.2->mthree>=0.17->pennylane-qiskit) (2.8.2)\n",
            "Requirement already satisfied: requests-ntlm~=1.1.0 in /usr/local/lib/python3.8/dist-packages (from qiskit-ibmq-provider>=0.19.2->mthree>=0.17->pennylane-qiskit) (1.1.0)\n",
            "Requirement already satisfied: websocket-client~=1.5.1 in /usr/local/lib/python3.8/dist-packages (from qiskit-ibmq-provider>=0.19.2->mthree>=0.17->pennylane-qiskit) (1.5.1)\n",
            "Requirement already satisfied: urllib3~=1.26.0 in /usr/local/lib/python3.8/dist-packages (from qiskit-ibmq-provider>=0.19.2->mthree>=0.17->pennylane-qiskit) (1.26.14)\n",
            "Requirement already satisfied: websockets~=10.0 in /usr/local/lib/python3.8/dist-packages (from qiskit-ibmq-provider>=0.19.2->mthree>=0.17->pennylane-qiskit) (10.4)\n",
            "Requirement already satisfied: rustworkx>=0.12.0 in /usr/local/lib/python3.8/dist-packages (from qiskit-terra>=0.21->mthree>=0.17->pennylane-qiskit) (0.12.1)\n",
            "Requirement already satisfied: dill>=0.3 in /usr/local/lib/python3.8/dist-packages (from qiskit-terra>=0.21->mthree>=0.17->pennylane-qiskit) (0.3.6)\n",
            "Requirement already satisfied: ply>=3.10 in /usr/local/lib/python3.8/dist-packages (from qiskit-terra>=0.21->mthree>=0.17->pennylane-qiskit) (3.11)\n",
            "Requirement already satisfied: stevedore>=3.0.0 in /usr/local/lib/python3.8/dist-packages (from qiskit-terra>=0.21->mthree>=0.17->pennylane-qiskit) (5.0.0)\n",
            "Requirement already satisfied: symengine>=0.9 in /usr/local/lib/python3.8/dist-packages (from qiskit-terra>=0.21->mthree>=0.17->pennylane-qiskit) (0.9.2)\n",
            "Requirement already satisfied: thewalrus>=0.18.0 in /usr/local/lib/python3.8/dist-packages (from strawberryfields>=0.22->pennylane-sf) (0.20.0)\n",
            "Requirement already satisfied: quantum-xir>=0.1.1 in /usr/local/lib/python3.8/dist-packages (from strawberryfields>=0.22->pennylane-sf) (0.2.2)\n",
            "Requirement already satisfied: quantum-blackbird>=0.3.0 in /usr/local/lib/python3.8/dist-packages (from strawberryfields>=0.22->pennylane-sf) (0.5.0)\n",
            "Requirement already satisfied: xanadu-cloud-client>=0.2.1 in /usr/local/lib/python3.8/dist-packages (from strawberryfields>=0.22->pennylane-sf) (0.3.0)\n",
            "Requirement already satisfied: numba in /usr/local/lib/python3.8/dist-packages (from strawberryfields>=0.22->pennylane-sf) (0.56.4)\n",
            "Requirement already satisfied: wheel in /usr/local/lib/python3.8/dist-packages (from pennylane-lightning-gpu->pennylane-lightning) (0.38.4)\n",
            "Requirement already satisfied: ninja in /usr/local/lib/python3.8/dist-packages (from pennylane-lightning-gpu->pennylane-lightning) (1.11.1)\n",
            "Requirement already satisfied: cmake in /usr/local/lib/python3.8/dist-packages (from pennylane-lightning-gpu->pennylane-lightning) (3.22.6)\n",
            "Requirement already satisfied: cycler>=0.10 in /usr/local/lib/python3.8/dist-packages (from matplotlib~=3.0->cirq-core>=0.10->pennylane-cirq) (0.11.0)\n",
            "Requirement already satisfied: pillow>=6.2.0 in /usr/local/lib/python3.8/dist-packages (from matplotlib~=3.0->cirq-core>=0.10->pennylane-cirq) (8.4.0)\n",
            "Requirement already satisfied: kiwisolver>=1.0.1 in /usr/local/lib/python3.8/dist-packages (from matplotlib~=3.0->cirq-core>=0.10->pennylane-cirq) (1.4.4)\n",
            "Requirement already satisfied: fonttools>=4.22.0 in /usr/local/lib/python3.8/dist-packages (from matplotlib~=3.0->cirq-core>=0.10->pennylane-cirq) (4.38.0)\n",
            "Requirement already satisfied: pyparsing>=2.2.1 in /usr/local/lib/python3.8/dist-packages (from matplotlib~=3.0->cirq-core>=0.10->pennylane-cirq) (3.0.9)\n",
            "Requirement already satisfied: packaging>=20.0 in /usr/local/lib/python3.8/dist-packages (from matplotlib~=3.0->cirq-core>=0.10->pennylane-cirq) (23.0)\n",
            "Requirement already satisfied: six>=1.5 in /usr/local/lib/python3.8/dist-packages (from python-dateutil~=2.8.0->qiskit-ibmq-provider>=0.19.2->mthree>=0.17->pennylane-qiskit) (1.15.0)\n",
            "Requirement already satisfied: antlr4-python3-runtime==4.9.2 in /usr/local/lib/python3.8/dist-packages (from quantum-blackbird>=0.3.0->strawberryfields>=0.22->pennylane-sf) (4.9.2)\n",
            "Requirement already satisfied: lark-parser>=0.11.0 in /usr/local/lib/python3.8/dist-packages (from quantum-xir>=0.1.1->strawberryfields>=0.22->pennylane-sf) (0.12.0)\n",
            "Requirement already satisfied: idna<4,>=2.5 in /usr/local/lib/python3.8/dist-packages (from requests~=2.18->cirq-pasqal>=0.10->pennylane-cirq) (2.10)\n",
            "Requirement already satisfied: charset-normalizer<4,>=2 in /usr/local/lib/python3.8/dist-packages (from requests~=2.18->cirq-pasqal>=0.10->pennylane-cirq) (3.0.1)\n",
            "Requirement already satisfied: certifi>=2017.4.17 in /usr/local/lib/python3.8/dist-packages (from requests~=2.18->cirq-pasqal>=0.10->pennylane-cirq) (2022.12.7)\n",
            "Requirement already satisfied: mpmath>=0.19 in /usr/local/lib/python3.8/dist-packages (from sympy->cirq-core>=0.10->pennylane-cirq) (1.2.1)\n",
            "Requirement already satisfied: dask[delayed] in /usr/local/lib/python3.8/dist-packages (from thewalrus>=0.18.0->strawberryfields>=0.22->pennylane-sf) (2022.2.1)\n",
            "Requirement already satisfied: llvmlite<0.40,>=0.39.0dev0 in /usr/local/lib/python3.8/dist-packages (from numba->strawberryfields>=0.22->pennylane-sf) (0.39.1)\n",
            "Requirement already satisfied: setuptools in /usr/local/lib/python3.8/dist-packages (from numba->strawberryfields>=0.22->pennylane-sf) (57.4.0)\n",
            "Requirement already satisfied: importlib-metadata in /usr/local/lib/python3.8/dist-packages (from numba->strawberryfields>=0.22->pennylane-sf) (6.0.0)\n",
            "Requirement already satisfied: fire in /usr/local/lib/python3.8/dist-packages (from xanadu-cloud-client>=0.2.1->strawberryfields>=0.22->pennylane-sf) (0.5.0)\n",
            "Requirement already satisfied: pydantic[dotenv] in /usr/local/lib/python3.8/dist-packages (from xanadu-cloud-client>=0.2.1->strawberryfields>=0.22->pennylane-sf) (1.10.5)\n",
            "Requirement already satisfied: future>=0.15.2 in /usr/local/lib/python3.8/dist-packages (from autograd->pennylane>=0.28->pennylane-lightning) (0.16.0)\n",
            "Requirement already satisfied: pytz>=2017.3 in /usr/local/lib/python3.8/dist-packages (from pandas->cirq-core>=0.10->pennylane-cirq) (2022.7.1)\n",
            "Requirement already satisfied: cryptography>=1.3 in /usr/local/lib/python3.8/dist-packages (from requests-ntlm~=1.1.0->qiskit-ibmq-provider>=0.19.2->mthree>=0.17->pennylane-qiskit) (39.0.2)\n",
            "Requirement already satisfied: ntlm-auth>=1.0.2 in /usr/local/lib/python3.8/dist-packages (from requests-ntlm~=1.1.0->qiskit-ibmq-provider>=0.19.2->mthree>=0.17->pennylane-qiskit) (1.5.0)\n",
            "Requirement already satisfied: pbr!=2.1.0,>=2.0.0 in /usr/local/lib/python3.8/dist-packages (from stevedore>=3.0.0->qiskit-terra>=0.21->mthree>=0.17->pennylane-qiskit) (5.11.1)\n",
            "Requirement already satisfied: cloudpickle>=1.1.1 in /usr/local/lib/python3.8/dist-packages (from dask[delayed]->thewalrus>=0.18.0->strawberryfields>=0.22->pennylane-sf) (2.2.1)\n",
            "Requirement already satisfied: pyyaml>=5.3.1 in /usr/local/lib/python3.8/dist-packages (from dask[delayed]->thewalrus>=0.18.0->strawberryfields>=0.22->pennylane-sf) (6.0)\n",
            "Requirement already satisfied: partd>=0.3.10 in /usr/local/lib/python3.8/dist-packages (from dask[delayed]->thewalrus>=0.18.0->strawberryfields>=0.22->pennylane-sf) (1.3.0)\n",
            "Requirement already satisfied: fsspec>=0.6.0 in /usr/local/lib/python3.8/dist-packages (from dask[delayed]->thewalrus>=0.18.0->strawberryfields>=0.22->pennylane-sf) (2023.1.0)\n",
            "Requirement already satisfied: toolz>=0.8.2 in /usr/local/lib/python3.8/dist-packages (from dask[delayed]->thewalrus>=0.18.0->strawberryfields>=0.22->pennylane-sf) (0.12.0)\n",
            "Requirement already satisfied: termcolor in /usr/local/lib/python3.8/dist-packages (from fire->xanadu-cloud-client>=0.2.1->strawberryfields>=0.22->pennylane-sf) (2.2.0)\n",
            "Requirement already satisfied: zipp>=0.5 in /usr/local/lib/python3.8/dist-packages (from importlib-metadata->numba->strawberryfields>=0.22->pennylane-sf) (3.15.0)\n",
            "Requirement already satisfied: python-dotenv>=0.10.4 in /usr/local/lib/python3.8/dist-packages (from pydantic[dotenv]->xanadu-cloud-client>=0.2.1->strawberryfields>=0.22->pennylane-sf) (1.0.0)\n",
            "Requirement already satisfied: cffi>=1.12 in /usr/local/lib/python3.8/dist-packages (from cryptography>=1.3->requests-ntlm~=1.1.0->qiskit-ibmq-provider>=0.19.2->mthree>=0.17->pennylane-qiskit) (1.15.1)\n",
            "Requirement already satisfied: locket in /usr/local/lib/python3.8/dist-packages (from partd>=0.3.10->dask[delayed]->thewalrus>=0.18.0->strawberryfields>=0.22->pennylane-sf) (1.0.0)\n",
            "Requirement already satisfied: pycparser in /usr/local/lib/python3.8/dist-packages (from cffi>=1.12->cryptography>=1.3->requests-ntlm~=1.1.0->qiskit-ibmq-provider>=0.19.2->mthree>=0.17->pennylane-qiskit) (2.21)\n",
            "Looking in indexes: https://pypi.org/simple, https://us-python.pkg.dev/colab-wheels/public/simple/\n",
            "Requirement already satisfied: numpy in /usr/local/lib/python3.8/dist-packages (1.22.4)\n",
            "Requirement already satisfied: matplotlib in /usr/local/lib/python3.8/dist-packages (3.5.3)\n",
            "Requirement already satisfied: sklearn in /usr/local/lib/python3.8/dist-packages (0.0.post1)\n",
            "Requirement already satisfied: autograd in /usr/local/lib/python3.8/dist-packages (1.5)\n",
            "Requirement already satisfied: tensorflow in /usr/local/lib/python3.8/dist-packages (2.11.0)\n",
            "Requirement already satisfied: jax in /usr/local/lib/python3.8/dist-packages (0.4.4)\n",
            "Requirement already satisfied: jaxlib in /usr/local/lib/python3.8/dist-packages (0.4.4+cuda11.cudnn82)\n",
            "Requirement already satisfied: python-dateutil>=2.7 in /usr/local/lib/python3.8/dist-packages (from matplotlib) (2.8.2)\n",
            "Requirement already satisfied: packaging>=20.0 in /usr/local/lib/python3.8/dist-packages (from matplotlib) (23.0)\n",
            "Requirement already satisfied: cycler>=0.10 in /usr/local/lib/python3.8/dist-packages (from matplotlib) (0.11.0)\n",
            "Requirement already satisfied: pillow>=6.2.0 in /usr/local/lib/python3.8/dist-packages (from matplotlib) (8.4.0)\n",
            "Requirement already satisfied: kiwisolver>=1.0.1 in /usr/local/lib/python3.8/dist-packages (from matplotlib) (1.4.4)\n",
            "Requirement already satisfied: fonttools>=4.22.0 in /usr/local/lib/python3.8/dist-packages (from matplotlib) (4.38.0)\n",
            "Requirement already satisfied: pyparsing>=2.2.1 in /usr/local/lib/python3.8/dist-packages (from matplotlib) (3.0.9)\n",
            "Requirement already satisfied: future>=0.15.2 in /usr/local/lib/python3.8/dist-packages (from autograd) (0.16.0)\n",
            "Requirement already satisfied: libclang>=13.0.0 in /usr/local/lib/python3.8/dist-packages (from tensorflow) (15.0.6.1)\n",
            "Requirement already satisfied: setuptools in /usr/local/lib/python3.8/dist-packages (from tensorflow) (57.4.0)\n",
            "Requirement already satisfied: protobuf<3.20,>=3.9.2 in /usr/local/lib/python3.8/dist-packages (from tensorflow) (3.19.6)\n",
            "Requirement already satisfied: six>=1.12.0 in /usr/local/lib/python3.8/dist-packages (from tensorflow) (1.15.0)\n",
            "Requirement already satisfied: absl-py>=1.0.0 in /usr/local/lib/python3.8/dist-packages (from tensorflow) (1.4.0)\n",
            "Requirement already satisfied: keras<2.12,>=2.11.0 in /usr/local/lib/python3.8/dist-packages (from tensorflow) (2.11.0)\n",
            "Requirement already satisfied: gast<=0.4.0,>=0.2.1 in /usr/local/lib/python3.8/dist-packages (from tensorflow) (0.4.0)\n",
            "Requirement already satisfied: termcolor>=1.1.0 in /usr/local/lib/python3.8/dist-packages (from tensorflow) (2.2.0)\n",
            "Requirement already satisfied: wrapt>=1.11.0 in /usr/local/lib/python3.8/dist-packages (from tensorflow) (1.15.0)\n",
            "Requirement already satisfied: tensorflow-estimator<2.12,>=2.11.0 in /usr/local/lib/python3.8/dist-packages (from tensorflow) (2.11.0)\n",
            "Requirement already satisfied: astunparse>=1.6.0 in /usr/local/lib/python3.8/dist-packages (from tensorflow) (1.6.3)\n",
            "Requirement already satisfied: google-pasta>=0.1.1 in /usr/local/lib/python3.8/dist-packages (from tensorflow) (0.2.0)\n",
            "Requirement already satisfied: typing-extensions>=3.6.6 in /usr/local/lib/python3.8/dist-packages (from tensorflow) (4.5.0)\n",
            "Requirement already satisfied: opt-einsum>=2.3.2 in /usr/local/lib/python3.8/dist-packages (from tensorflow) (3.3.0)\n",
            "Requirement already satisfied: tensorflow-io-gcs-filesystem>=0.23.1 in /usr/local/lib/python3.8/dist-packages (from tensorflow) (0.31.0)\n",
            "Requirement already satisfied: h5py>=2.9.0 in /usr/local/lib/python3.8/dist-packages (from tensorflow) (3.1.0)\n",
            "Requirement already satisfied: flatbuffers>=2.0 in /usr/local/lib/python3.8/dist-packages (from tensorflow) (23.1.21)\n",
            "Requirement already satisfied: grpcio<2.0,>=1.24.3 in /usr/local/lib/python3.8/dist-packages (from tensorflow) (1.51.3)\n",
            "Requirement already satisfied: tensorboard<2.12,>=2.11 in /usr/local/lib/python3.8/dist-packages (from tensorflow) (2.11.2)\n",
            "Requirement already satisfied: scipy>=1.5 in /usr/local/lib/python3.8/dist-packages (from jax) (1.10.1)\n",
            "Requirement already satisfied: wheel<1.0,>=0.23.0 in /usr/local/lib/python3.8/dist-packages (from astunparse>=1.6.0->tensorflow) (0.38.4)\n",
            "Requirement already satisfied: google-auth<3,>=1.6.3 in /usr/local/lib/python3.8/dist-packages (from tensorboard<2.12,>=2.11->tensorflow) (2.16.1)\n",
            "Requirement already satisfied: tensorboard-plugin-wit>=1.6.0 in /usr/local/lib/python3.8/dist-packages (from tensorboard<2.12,>=2.11->tensorflow) (1.8.1)\n",
            "Requirement already satisfied: markdown>=2.6.8 in /usr/local/lib/python3.8/dist-packages (from tensorboard<2.12,>=2.11->tensorflow) (3.4.1)\n",
            "Requirement already satisfied: werkzeug>=1.0.1 in /usr/local/lib/python3.8/dist-packages (from tensorboard<2.12,>=2.11->tensorflow) (2.2.3)\n",
            "Requirement already satisfied: requests<3,>=2.21.0 in /usr/local/lib/python3.8/dist-packages (from tensorboard<2.12,>=2.11->tensorflow) (2.28.2)\n",
            "Requirement already satisfied: tensorboard-data-server<0.7.0,>=0.6.0 in /usr/local/lib/python3.8/dist-packages (from tensorboard<2.12,>=2.11->tensorflow) (0.6.1)\n",
            "Requirement already satisfied: google-auth-oauthlib<0.5,>=0.4.1 in /usr/local/lib/python3.8/dist-packages (from tensorboard<2.12,>=2.11->tensorflow) (0.4.6)\n",
            "Requirement already satisfied: pyasn1-modules>=0.2.1 in /usr/local/lib/python3.8/dist-packages (from google-auth<3,>=1.6.3->tensorboard<2.12,>=2.11->tensorflow) (0.2.8)\n",
            "Requirement already satisfied: rsa<5,>=3.1.4 in /usr/local/lib/python3.8/dist-packages (from google-auth<3,>=1.6.3->tensorboard<2.12,>=2.11->tensorflow) (4.9)\n",
            "Requirement already satisfied: cachetools<6.0,>=2.0.0 in /usr/local/lib/python3.8/dist-packages (from google-auth<3,>=1.6.3->tensorboard<2.12,>=2.11->tensorflow) (5.3.0)\n",
            "Requirement already satisfied: requests-oauthlib>=0.7.0 in /usr/local/lib/python3.8/dist-packages (from google-auth-oauthlib<0.5,>=0.4.1->tensorboard<2.12,>=2.11->tensorflow) (1.3.1)\n",
            "Requirement already satisfied: importlib-metadata>=4.4 in /usr/local/lib/python3.8/dist-packages (from markdown>=2.6.8->tensorboard<2.12,>=2.11->tensorflow) (6.0.0)\n",
            "Requirement already satisfied: certifi>=2017.4.17 in /usr/local/lib/python3.8/dist-packages (from requests<3,>=2.21.0->tensorboard<2.12,>=2.11->tensorflow) (2022.12.7)\n",
            "Requirement already satisfied: charset-normalizer<4,>=2 in /usr/local/lib/python3.8/dist-packages (from requests<3,>=2.21.0->tensorboard<2.12,>=2.11->tensorflow) (3.0.1)\n",
            "Requirement already satisfied: idna<4,>=2.5 in /usr/local/lib/python3.8/dist-packages (from requests<3,>=2.21.0->tensorboard<2.12,>=2.11->tensorflow) (2.10)\n",
            "Requirement already satisfied: urllib3<1.27,>=1.21.1 in /usr/local/lib/python3.8/dist-packages (from requests<3,>=2.21.0->tensorboard<2.12,>=2.11->tensorflow) (1.26.14)\n",
            "Requirement already satisfied: MarkupSafe>=2.1.1 in /usr/local/lib/python3.8/dist-packages (from werkzeug>=1.0.1->tensorboard<2.12,>=2.11->tensorflow) (2.1.2)\n",
            "Requirement already satisfied: zipp>=0.5 in /usr/local/lib/python3.8/dist-packages (from importlib-metadata>=4.4->markdown>=2.6.8->tensorboard<2.12,>=2.11->tensorflow) (3.15.0)\n",
            "Requirement already satisfied: pyasn1<0.5.0,>=0.4.6 in /usr/local/lib/python3.8/dist-packages (from pyasn1-modules>=0.2.1->google-auth<3,>=1.6.3->tensorboard<2.12,>=2.11->tensorflow) (0.4.8)\n",
            "Requirement already satisfied: oauthlib>=3.0.0 in /usr/local/lib/python3.8/dist-packages (from requests-oauthlib>=0.7.0->google-auth-oauthlib<0.5,>=0.4.1->tensorboard<2.12,>=2.11->tensorflow) (3.2.2)\n",
            "--2023-03-07 02:08:39--  https://developer.nvidia.com/cuQuantum-downloads?target_os=Linux\n",
            "Resolving developer.nvidia.com (developer.nvidia.com)... 152.195.19.142\n",
            "Connecting to developer.nvidia.com (developer.nvidia.com)|152.195.19.142|:443... connected.\n",
            "HTTP request sent, awaiting response... 301 Moved Permanently\n",
            "Location: https://developer.nvidia.com/cuquantum-downloads?target_os=Linux [following]\n",
            "--2023-03-07 02:08:39--  https://developer.nvidia.com/cuquantum-downloads?target_os=Linux\n",
            "Reusing existing connection to developer.nvidia.com:443.\n",
            "HTTP request sent, awaiting response... 200 OK\n",
            "Length: 135169 (132K) [text/html]\n",
            "Saving to: ‘cuQuantum-downloads?target_os=Linux.1’\n",
            "\n",
            "cuQuantum-downloads 100%[===================>] 132.00K  --.-KB/s    in 0.1s    \n",
            "\n",
            "2023-03-07 02:08:40 (1.11 MB/s) - ‘cuQuantum-downloads?target_os=Linux.1’ saved [135169/135169]\n",
            "\n"
          ]
        }
      ]
    },
    {
      "cell_type": "markdown",
      "source": [
        "양자 장치 설치\n",
        "\n",
        "\n",
        "---\n",
        "\n",
        "\n",
        "PennyLane은 default.qubit, default.mixed 및 lightning.qubit와 같은 고성능 내장 시뮬레이터와 함께 제공됩니다. 또한 다양한 플러그인을 통해 추가 양자 시뮬레이터 및 양자 하드웨어를 지원합니다. 자세한 내용은 플러그인 페이지를 참조하십시오.\n"
      ],
      "metadata": {
        "id": "V6GC3XzD-Yvp"
      }
    },
    {
      "cell_type": "code",
      "source": [
        "!pip install pennylane-lightning pennylane-lightning[gpu] pennylane-sf pennylane-qiskit pennylane-cirq"
      ],
      "metadata": {
        "id": "5-iF76Qt-alX"
      },
      "execution_count": null,
      "outputs": []
    },
    {
      "cell_type": "markdown",
      "source": [
        "딥러닝 관련 라이브러리들을 추가합니다.\n",
        "\n"
      ],
      "metadata": {
        "id": "HfW5gmr_-bas"
      }
    },
    {
      "cell_type": "code",
      "source": [
        "!pip install numpy matplotlib sklearn autograd tensorflow jax jaxlibœ"
      ],
      "metadata": {
        "id": "VHRAUPb5-gqX"
      },
      "execution_count": null,
      "outputs": []
    },
    {
      "cell_type": "code",
      "execution_count": 47,
      "metadata": {
        "id": "BO9FHpTbm4M3"
      },
      "outputs": [],
      "source": [
        "# This cell is added by sphinx-gallery\n",
        "# It can be customized to whatever you like\n",
        "%matplotlib inline"
      ]
    },
    {
      "cell_type": "markdown",
      "metadata": {
        "id": "ptGqwHFNm4M5"
      },
      "source": [
        "Quanvolutional Neural Networks {#quanvolution}\n",
        "==============================\n",
        "\n",
        "Quanvolutional Neural Networks {#quanvolution}\n",
        "\n",
        "::: {.meta} :property=\"og:description\": MNIST 이미지를 분류하기 위해 양자 컨벌루션 신경망을 훈련합니다. :property=\"og:image\": https://pennylane.ai/qml/_images/circuit.png :::\n",
        "\n",
        "저자: Andrea Mari --- 게시일: 2020년 3월 24일. 최종 업데이트일: 2021년 1월 15일.\n",
        "\n",
        "이 데모에서는 원래 Henderson et al.에서 소개한 양자 기계 학습 모델인 Quanvolutional Neural Network를 구현합니다. (2019).\n",
        "\n",
        "{.align-center 너비=\"90.0%\"}\n",
        "\n",
        "소개\n",
        "------------\n",
        "\n",
        "### 클래식 컨벌루션\n",
        "\n",
        "*컨볼루션 신경망*(CNN)은\n",
        "처리에 특히 적합한 고전적인 기계 학습\n",
        "이미지. 이 모델은 *컨볼루션 레이어*의 아이디어를 기반으로 합니다.\n",
        "전역 함수로 전체 입력 데이터를 처리하는 대신\n",
        "로컬 컨볼루션이 적용됩니다.\n",
        "\n",
        "입력이 이미지인 경우 작은 로컬 영역을 순차적으로 처리\n",
        "같은 커널로. 각 지역에 대해 얻은 결과는 일반적으로\n",
        "단일 출력 픽셀의 다른 채널에 연결됩니다. 의 조합\n",
        "모든 출력 픽셀은 새로운 이미지와 유사한 객체를 생성합니다.\n",
        "추가 레이어에 의해 추가로 처리됩니다.\n",
        "\n",
        "### 양자 컨벌루션\n",
        "\n",
        "One can extend the same idea also to the context of quantum variational\n",
        "circuits. A possible approach is given by the following procedure which\n",
        "is very similar to the one used in Ref. \\[1\\]. The scheme is also\n",
        "represented in the figure at the top of this tutorial.\n",
        "\n",
        "1.  A small region of the input image, in our example a $2 \\times 2$\n",
        "    square, is embedded into a quantum circuit. In this demo, this is\n",
        "    achieved with parametrized rotations applied to the qubits\n",
        "    initialized in the ground state.\n",
        "2.  A quantum computation, associated to a unitary $U$, is performed on\n",
        "    the system. The unitary could be generated by a variational quantum\n",
        "    circuit or, more simply, by a random circuit as proposed in Ref.\n",
        "    \\[1\\].\n",
        "3.  The quantum system is finally measured, obtaining a list of\n",
        "    classical expectation values. The measurement results could also be\n",
        "    classically post-processed as proposed in Ref. \\[1\\] but, for\n",
        "    simplicity, in this demo we directly use the raw expectation values.\n",
        "4.  Analogously to a classical convolution layer, each expectation value\n",
        "    is mapped to a different channel of a single output pixel.\n",
        "5.  Iterating the same procedure over different regions, one can scan\n",
        "    the full input image, producing an output object which will be\n",
        "    structured as a multi-channel image.\n",
        "6.  The quantum convolution can be followed by further quantum layers or\n",
        "    by classical layers.\n",
        "\n",
        "The main difference with respect to a classical convolution is that a\n",
        "quantum circuit can generate highly complex kernels whose computation\n",
        "could be, at least in principle, classically intractable.\n",
        "\n",
        "::: {.note}\n",
        "::: {.title}\n",
        "Note\n",
        ":::\n",
        "\n",
        "In this tutorial we follow the approach of Ref. \\[1\\] in which a fixed\n",
        "non-trainable quantum circuit is used as a \\\"quanvolution\\\" kernel,\n",
        "while the subsequent classical layers are trained for the classification\n",
        "problem of interest. However, by leveraging the ability of PennyLane to\n",
        "evaluate gradients of quantum circuits, the quantum kernel could also be\n",
        "trained.\n",
        ":::\n",
        "\n",
        "General setup\n",
        "-------------\n",
        "\n",
        "This Python code requires *PennyLane* with the *TensorFlow* interface\n",
        "and the plotting library *matplotlib*.\n"
      ]
    },
    {
      "cell_type": "code",
      "execution_count": 48,
      "metadata": {
        "id": "fIT-DkX0m4M7"
      },
      "outputs": [],
      "source": [
        "import pennylane as qml\n",
        "from pennylane import numpy as np\n",
        "from pennylane.templates import RandomLayers\n",
        "import tensorflow as tf\n",
        "from tensorflow import keras\n",
        "import matplotlib.pyplot as plt"
      ]
    },
    {
      "cell_type": "markdown",
      "metadata": {
        "id": "2nmL0FP0m4M8"
      },
      "source": [
        "Setting of the main hyper-parameters of the model\n",
        "=================================================\n"
      ]
    },
    {
      "cell_type": "code",
      "execution_count": 49,
      "metadata": {
        "id": "PNKArh_6m4M9"
      },
      "outputs": [],
      "source": [
        "n_epochs = 30   # Number of optimization epochs\n",
        "n_layers = 1    # Number of random layers\n",
        "n_train = 50    # Size of the train dataset\n",
        "n_test = 30     # Size of the test dataset\n",
        "\n",
        "SAVE_PATH = \"/content/sample_data/\" # Data saving folder\n",
        "PREPROCESS = True           # If False, skip quantum processing and load data from SAVE_PATH\n",
        "np.random.seed(0)           # Seed for NumPy random number generator\n",
        "tf.random.set_seed(0)       # Seed for TensorFlow random number generator"
      ]
    },
    {
      "cell_type": "markdown",
      "metadata": {
        "id": "JXPdrMvQm4M9"
      },
      "source": [
        "Loading of the MNIST dataset\n",
        "============================\n",
        "\n",
        "We import the MNIST dataset from *Keras*. To speedup the evaluation of\n",
        "this demo we use only a small number of training and test images.\n",
        "Obviously, better results are achievable when using the full dataset.\n"
      ]
    },
    {
      "cell_type": "code",
      "execution_count": 50,
      "metadata": {
        "id": "ZvrFpargm4M-"
      },
      "outputs": [],
      "source": [
        "mnist_dataset = keras.datasets.mnist\n",
        "(train_images, train_labels), (test_images, test_labels) = mnist_dataset.load_data()\n",
        "\n",
        "# Reduce dataset size\n",
        "train_images = train_images[:n_train]\n",
        "train_labels = train_labels[:n_train]\n",
        "test_images = test_images[:n_test]\n",
        "test_labels = test_labels[:n_test]\n",
        "\n",
        "# Normalize pixel values within 0 and 1\n",
        "train_images = train_images / 255\n",
        "test_images = test_images / 255\n",
        "\n",
        "# Add extra dimension for convolution channels\n",
        "train_images = np.array(train_images[..., tf.newaxis], requires_grad=False)\n",
        "test_images = np.array(test_images[..., tf.newaxis], requires_grad=False)"
      ]
    },
    {
      "cell_type": "markdown",
      "metadata": {
        "id": "Xywb8VqAm4M-"
      },
      "source": [
        "Quantum circuit as a convolution kernel\n",
        "=======================================\n",
        "\n",
        "We follow the scheme described in the introduction and represented in\n",
        "the figure at the top of this demo.\n",
        "\n",
        "We initialize a PennyLane `default.qubit` device, simulating a system of\n",
        "$4$ qubits. The associated `qnode` represents the quantum circuit\n",
        "consisting of:\n",
        "\n",
        "1.  an embedding layer of local $R_y$ rotations (with angles scaled by a\n",
        "    factor of $\\pi$);\n",
        "2.  a random circuit of `n_layers`;\n",
        "3.  a final measurement in the computational basis, estimating $4$\n",
        "    expectation values.\n"
      ]
    },
    {
      "cell_type": "code",
      "execution_count": 58,
      "metadata": {
        "id": "iuqB9D1am4M_"
      },
      "outputs": [],
      "source": [
        "#dev = qml.device(\"default.qubit\", wires=4)\n",
        "dev = qml.device(\"default.mixed\", wires=4)\n",
        "#dev = qml.device(\"default.gaussian\", wires=4)\n",
        "#dev = qml.device(\"lightning.qubit\", wires=4)\n",
        "#dev = qml.device(\"lightning.gpu\", wires=4)\n",
        "\n",
        "#dev = qml.device(\"cirq\", wires=4)\n",
        "\n",
        "# Random circuit parameters\n",
        "rand_params = np.random.uniform(high=2 * np.pi, size=(n_layers, 4))\n",
        "\n",
        "@qml.qnode(dev, interface=\"autograd\")\n",
        "def circuit(phi):\n",
        "    # Encoding of 4 classical input values\n",
        "    for j in range(4):\n",
        "        qml.RY(np.pi * phi[j], wires=j)\n",
        "\n",
        "    # Random quantum circuit\n",
        "    RandomLayers(rand_params, wires=list(range(4)))\n",
        "\n",
        "    # Measurement producing 4 classical output values\n",
        "    return [qml.expval(qml.PauliZ(j)) for j in range(4)]\n",
        "###def"
      ]
    },
    {
      "cell_type": "markdown",
      "metadata": {
        "id": "eXK9wzd6m4NA"
      },
      "source": [
        "The next function defines the convolution scheme:\n",
        "\n",
        "1.  the image is divided into squares of $2 \\times 2$ pixels;\n",
        "2.  each square is processed by the quantum circuit;\n",
        "3.  the $4$ expectation values are mapped into $4$ different channels of\n",
        "    a single output pixel.\n",
        "\n",
        "::: {.note}\n",
        "::: {.title}\n",
        "Note\n",
        ":::\n",
        "\n",
        "This process halves the resolution of the input image. In the standard\n",
        "language of CNN, this would correspond to a convolution with a\n",
        "$2 \\times 2$ *kernel* and a *stride* equal to $2$.\n",
        ":::\n"
      ]
    },
    {
      "cell_type": "code",
      "execution_count": 59,
      "metadata": {
        "id": "xcOLwO5Lm4NB"
      },
      "outputs": [],
      "source": [
        "def quanv(image):\n",
        "    \"\"\"Convolves the input image with many applications of the same quantum circuit.\"\"\"\n",
        "    out = np.zeros((14, 14, 4))\n",
        "\n",
        "    # Loop over the coordinates of the top-left pixel of 2X2 squares\n",
        "    for j in range(0, 28, 2):\n",
        "        for k in range(0, 28, 2):\n",
        "            # Process a squared 2x2 region of the image with a quantum circuit\n",
        "            q_results = circuit(\n",
        "                [\n",
        "                    image[j, k, 0],\n",
        "                    image[j, k + 1, 0],\n",
        "                    image[j + 1, k, 0],\n",
        "                    image[j + 1, k + 1, 0]\n",
        "                ]\n",
        "            )\n",
        "            # Assign expectation values to different channels of the output pixel (j/2, k/2)\n",
        "            for c in range(4):\n",
        "                out[j // 2, k // 2, c] = q_results[c]\n",
        "            ###for\n",
        "        ###for\n",
        "    ###for\n",
        "    return out\n",
        "###def"
      ]
    },
    {
      "cell_type": "markdown",
      "metadata": {
        "id": "mg1lP67nm4NB"
      },
      "source": [
        "Quantum pre-processing of the dataset\n",
        "=====================================\n",
        "\n",
        "Since we are not going to train the quantum convolution layer, it is\n",
        "more efficient to apply it as a \\\"pre-processing\\\" layer to all the\n",
        "images of our dataset. Later an entirely classical model will be\n",
        "directly trained and tested on the pre-processed dataset, avoiding\n",
        "unnecessary repetitions of quantum computations.\n",
        "\n",
        "The pre-processed images will be saved in the folder `SAVE_PATH`. Once\n",
        "saved, they can be directly loaded by setting `PREPROCESS = False`,\n",
        "otherwise the quantum convolution is evaluated at each run of the code.\n"
      ]
    },
    {
      "cell_type": "code",
      "execution_count": 60,
      "metadata": {
        "colab": {
          "base_uri": "https://localhost:8080/"
        },
        "id": "BoCzwZD4m4NC",
        "outputId": "71432b14-c7ed-4ecc-e96f-0326f25df337"
      },
      "outputs": [
        {
          "output_type": "stream",
          "name": "stdout",
          "text": [
            "Quantum pre-processing of train images:\n",
            "\n",
            "Quantum pre-processing of test images:\n"
          ]
        }
      ],
      "source": [
        "if PREPROCESS == True:\n",
        "    q_train_images = []\n",
        "    print(\"Quantum pre-processing of train images:\")\n",
        "    for idx, img in enumerate(train_images):\n",
        "        print(\"{}/{}        \".format(idx + 1, n_train), end=\"\\r\")\n",
        "        q_train_images.append(quanv(img))\n",
        "    ###for\n",
        "    q_train_images = np.asarray(q_train_images)\n",
        "\n",
        "    q_test_images = []\n",
        "    print(\"\\nQuantum pre-processing of test images:\")\n",
        "    for idx, img in enumerate(test_images):\n",
        "        print(\"{}/{}        \".format(idx + 1, n_test), end=\"\\r\")\n",
        "        q_test_images.append(quanv(img))\n",
        "    ###for\n",
        "    q_test_images = np.asarray(q_test_images)\n",
        "\n",
        "    # Save pre-processed images\n",
        "    np.save(SAVE_PATH + \"q_train_images.npy\", q_train_images)\n",
        "    np.save(SAVE_PATH + \"q_test_images.npy\", q_test_images)\n",
        "###if\n",
        "\n",
        "# Load pre-processed images\n",
        "q_train_images = np.load(SAVE_PATH + \"q_train_images.npy\")\n",
        "q_test_images = np.load(SAVE_PATH + \"q_test_images.npy\")"
      ]
    },
    {
      "cell_type": "markdown",
      "metadata": {
        "id": "-ZImKl_Jm4NC"
      },
      "source": [
        "Let us visualize the effect of the quantum convolution layer on a batch\n",
        "of samples:\n"
      ]
    },
    {
      "cell_type": "code",
      "execution_count": 1,
      "metadata": {
        "colab": {
          "base_uri": "https://localhost:8080/",
          "height": 244
        },
        "id": "Gy5ppQpMm4ND",
        "outputId": "5ef3c428-17ce-44ae-db69-21c64d4c0d0e"
      },
      "outputs": [
        {
          "output_type": "error",
          "ename": "NameError",
          "evalue": "ignored",
          "traceback": [
            "\u001b[0;31m---------------------------------------------------------------------------\u001b[0m",
            "\u001b[0;31mNameError\u001b[0m                                 Traceback (most recent call last)",
            "\u001b[0;32m<ipython-input-1-af53959937c3>\u001b[0m in \u001b[0;36m<module>\u001b[0;34m\u001b[0m\n\u001b[1;32m      2\u001b[0m \u001b[0mn_channels\u001b[0m \u001b[0;34m=\u001b[0m \u001b[0;36m4\u001b[0m\u001b[0;34m\u001b[0m\u001b[0;34m\u001b[0m\u001b[0m\n\u001b[1;32m      3\u001b[0m \u001b[0;34m\u001b[0m\u001b[0m\n\u001b[0;32m----> 4\u001b[0;31m \u001b[0mfig\u001b[0m\u001b[0;34m,\u001b[0m \u001b[0maxes\u001b[0m \u001b[0;34m=\u001b[0m \u001b[0mplt\u001b[0m\u001b[0;34m.\u001b[0m\u001b[0msubplots\u001b[0m\u001b[0;34m(\u001b[0m\u001b[0;36m1\u001b[0m \u001b[0;34m+\u001b[0m \u001b[0mn_channels\u001b[0m\u001b[0;34m,\u001b[0m \u001b[0mn_samples\u001b[0m\u001b[0;34m,\u001b[0m \u001b[0mfigsize\u001b[0m\u001b[0;34m=\u001b[0m\u001b[0;34m(\u001b[0m\u001b[0;36m10\u001b[0m\u001b[0;34m,\u001b[0m \u001b[0;36m10\u001b[0m\u001b[0;34m)\u001b[0m\u001b[0;34m)\u001b[0m\u001b[0;34m\u001b[0m\u001b[0;34m\u001b[0m\u001b[0m\n\u001b[0m\u001b[1;32m      5\u001b[0m \u001b[0;34m\u001b[0m\u001b[0m\n\u001b[1;32m      6\u001b[0m \u001b[0;32mfor\u001b[0m \u001b[0mk\u001b[0m \u001b[0;32min\u001b[0m \u001b[0mrange\u001b[0m\u001b[0;34m(\u001b[0m\u001b[0mn_samples\u001b[0m\u001b[0;34m)\u001b[0m\u001b[0;34m:\u001b[0m\u001b[0;34m\u001b[0m\u001b[0;34m\u001b[0m\u001b[0m\n",
            "\u001b[0;31mNameError\u001b[0m: name 'plt' is not defined"
          ]
        }
      ],
      "source": [
        "n_samples = 4\n",
        "n_channels = 4\n",
        "\n",
        "fig, axes = plt.subplots(1 + n_channels, n_samples, figsize=(10, 10))\n",
        "\n",
        "for k in range(n_samples):\n",
        "    axes[0, 0].set_ylabel(\"Input\")\n",
        "    if k != 0:\n",
        "        axes[0, k].yaxis.set_visible(False)\n",
        "    ###if\n",
        "    axes[0, k].imshow(train_images[k, :, :, 0], cmap=\"gray\")\n",
        "\n",
        "    # Plot all output channels\n",
        "    for c in range(n_channels):\n",
        "        axes[c + 1, 0].set_ylabel(\"Output [ch. {}]\".format(c))\n",
        "        if k != 0:\n",
        "            axes[c, k].yaxis.set_visible(False)\n",
        "        ###if\n",
        "        axes[c + 1, k].imshow(q_train_images[k, :, :, c], cmap=\"gray\")\n",
        "    ###for\n",
        "###for\n",
        "\n",
        "plt.tight_layout()\n",
        "plt.show()"
      ]
    },
    {
      "cell_type": "markdown",
      "metadata": {
        "id": "3C0x8iwRm4ND"
      },
      "source": [
        "Below each input image, the $4$ output channels generated by the quantum\n",
        "convolution are visualized in gray scale.\n",
        "\n",
        "One can clearly notice the downsampling of the resolution and some local\n",
        "distortion introduced by the quantum kernel. On the other hand the\n",
        "global shape of the image is preserved, as expected for a convolution\n",
        "layer.\n"
      ]
    },
    {
      "cell_type": "markdown",
      "metadata": {
        "id": "abv3v86Tm4ND"
      },
      "source": [
        "Hybrid quantum-classical model\n",
        "==============================\n",
        "\n",
        "After the application of the quantum convolution layer we feed the\n",
        "resulting features into a classical neural network that will be trained\n",
        "to classify the $10$ different digits of the MNIST dataset.\n",
        "\n",
        "We use a very simple model: just a fully connected layer with 10 output\n",
        "nodes with a final *softmax* activation function.\n",
        "\n",
        "The model is compiled with a *stochastic-gradient-descent* optimizer,\n",
        "and a *cross-entropy* loss function.\n"
      ]
    },
    {
      "cell_type": "code",
      "execution_count": 27,
      "metadata": {
        "id": "xup6F4_Mm4NE"
      },
      "outputs": [],
      "source": [
        "def MyModel():\n",
        "    \"\"\"Initializes and returns a custom Keras model\n",
        "    which is ready to be trained.\"\"\"\n",
        "    model = keras.models.Sequential([\n",
        "        keras.layers.Flatten(),\n",
        "        keras.layers.Dense(10, activation=\"softmax\")\n",
        "    ])\n",
        "\n",
        "    model.compile(\n",
        "        optimizer='adam',\n",
        "        loss=\"sparse_categorical_crossentropy\",\n",
        "        metrics=[\"accuracy\"],\n",
        "    )\n",
        "    return model\n",
        "###def"
      ]
    },
    {
      "cell_type": "markdown",
      "metadata": {
        "id": "u5W9Bdb2m4NF"
      },
      "source": [
        "Training\n",
        "========\n",
        "\n",
        "We first initialize an instance of the model, then we train and validate\n",
        "it with the dataset that has been already pre-processed by a quantum\n",
        "convolution.\n"
      ]
    },
    {
      "cell_type": "code",
      "execution_count": 28,
      "metadata": {
        "colab": {
          "base_uri": "https://localhost:8080/"
        },
        "id": "EsuPx_yFm4NF",
        "outputId": "65d84a9d-6001-40c3-8a4f-49f038cb06e9"
      },
      "outputs": [
        {
          "output_type": "stream",
          "name": "stdout",
          "text": [
            "Epoch 1/30\n",
            "13/13 - 4s - loss: 2.8964 - accuracy: 0.1400 - val_loss: 2.1751 - val_accuracy: 0.1000 - 4s/epoch - 343ms/step\n",
            "Epoch 2/30\n",
            "13/13 - 0s - loss: 2.2275 - accuracy: 0.1600 - val_loss: 2.0552 - val_accuracy: 0.2333 - 70ms/epoch - 5ms/step\n",
            "Epoch 3/30\n",
            "13/13 - 0s - loss: 1.7883 - accuracy: 0.3400 - val_loss: 1.9355 - val_accuracy: 0.3667 - 76ms/epoch - 6ms/step\n",
            "Epoch 4/30\n",
            "13/13 - 0s - loss: 1.3955 - accuracy: 0.5600 - val_loss: 1.7027 - val_accuracy: 0.4333 - 81ms/epoch - 6ms/step\n",
            "Epoch 5/30\n",
            "13/13 - 0s - loss: 1.1978 - accuracy: 0.6400 - val_loss: 1.5951 - val_accuracy: 0.5667 - 88ms/epoch - 7ms/step\n",
            "Epoch 6/30\n",
            "13/13 - 0s - loss: 1.0066 - accuracy: 0.7800 - val_loss: 1.5778 - val_accuracy: 0.4667 - 83ms/epoch - 6ms/step\n",
            "Epoch 7/30\n",
            "13/13 - 0s - loss: 0.8175 - accuracy: 0.8400 - val_loss: 1.4564 - val_accuracy: 0.6000 - 82ms/epoch - 6ms/step\n",
            "Epoch 8/30\n",
            "13/13 - 0s - loss: 0.6811 - accuracy: 0.9400 - val_loss: 1.3807 - val_accuracy: 0.6333 - 74ms/epoch - 6ms/step\n",
            "Epoch 9/30\n",
            "13/13 - 0s - loss: 0.5926 - accuracy: 0.9600 - val_loss: 1.3108 - val_accuracy: 0.6333 - 74ms/epoch - 6ms/step\n",
            "Epoch 10/30\n",
            "13/13 - 0s - loss: 0.4897 - accuracy: 0.9600 - val_loss: 1.3442 - val_accuracy: 0.6333 - 81ms/epoch - 6ms/step\n",
            "Epoch 11/30\n",
            "13/13 - 0s - loss: 0.4557 - accuracy: 0.9800 - val_loss: 1.2490 - val_accuracy: 0.6667 - 68ms/epoch - 5ms/step\n",
            "Epoch 12/30\n",
            "13/13 - 0s - loss: 0.3986 - accuracy: 0.9800 - val_loss: 1.2930 - val_accuracy: 0.6333 - 85ms/epoch - 7ms/step\n",
            "Epoch 13/30\n",
            "13/13 - 0s - loss: 0.3476 - accuracy: 1.0000 - val_loss: 1.2066 - val_accuracy: 0.6667 - 85ms/epoch - 7ms/step\n",
            "Epoch 14/30\n",
            "13/13 - 0s - loss: 0.3254 - accuracy: 0.9800 - val_loss: 1.1686 - val_accuracy: 0.7000 - 79ms/epoch - 6ms/step\n",
            "Epoch 15/30\n",
            "13/13 - 0s - loss: 0.2714 - accuracy: 1.0000 - val_loss: 1.1556 - val_accuracy: 0.7000 - 74ms/epoch - 6ms/step\n",
            "Epoch 16/30\n",
            "13/13 - 0s - loss: 0.2384 - accuracy: 1.0000 - val_loss: 1.1826 - val_accuracy: 0.7000 - 84ms/epoch - 6ms/step\n",
            "Epoch 17/30\n",
            "13/13 - 0s - loss: 0.2230 - accuracy: 1.0000 - val_loss: 1.1211 - val_accuracy: 0.7000 - 92ms/epoch - 7ms/step\n",
            "Epoch 18/30\n",
            "13/13 - 0s - loss: 0.1970 - accuracy: 1.0000 - val_loss: 1.1294 - val_accuracy: 0.7333 - 84ms/epoch - 6ms/step\n",
            "Epoch 19/30\n",
            "13/13 - 0s - loss: 0.1796 - accuracy: 1.0000 - val_loss: 1.1156 - val_accuracy: 0.6667 - 75ms/epoch - 6ms/step\n",
            "Epoch 20/30\n",
            "13/13 - 0s - loss: 0.1667 - accuracy: 1.0000 - val_loss: 1.0909 - val_accuracy: 0.7333 - 80ms/epoch - 6ms/step\n",
            "Epoch 21/30\n",
            "13/13 - 0s - loss: 0.1510 - accuracy: 1.0000 - val_loss: 1.1177 - val_accuracy: 0.7000 - 81ms/epoch - 6ms/step\n",
            "Epoch 22/30\n",
            "13/13 - 0s - loss: 0.1393 - accuracy: 1.0000 - val_loss: 1.0900 - val_accuracy: 0.7000 - 77ms/epoch - 6ms/step\n",
            "Epoch 23/30\n",
            "13/13 - 0s - loss: 0.1313 - accuracy: 1.0000 - val_loss: 1.0615 - val_accuracy: 0.7000 - 72ms/epoch - 6ms/step\n",
            "Epoch 24/30\n",
            "13/13 - 0s - loss: 0.1220 - accuracy: 1.0000 - val_loss: 1.0583 - val_accuracy: 0.7000 - 81ms/epoch - 6ms/step\n",
            "Epoch 25/30\n",
            "13/13 - 0s - loss: 0.1158 - accuracy: 1.0000 - val_loss: 1.0540 - val_accuracy: 0.7000 - 77ms/epoch - 6ms/step\n",
            "Epoch 26/30\n",
            "13/13 - 0s - loss: 0.1044 - accuracy: 1.0000 - val_loss: 1.0506 - val_accuracy: 0.7333 - 107ms/epoch - 8ms/step\n",
            "Epoch 27/30\n",
            "13/13 - 0s - loss: 0.0995 - accuracy: 1.0000 - val_loss: 1.0437 - val_accuracy: 0.7000 - 79ms/epoch - 6ms/step\n",
            "Epoch 28/30\n",
            "13/13 - 0s - loss: 0.0978 - accuracy: 1.0000 - val_loss: 1.0369 - val_accuracy: 0.7000 - 88ms/epoch - 7ms/step\n",
            "Epoch 29/30\n",
            "13/13 - 0s - loss: 0.0907 - accuracy: 1.0000 - val_loss: 1.0580 - val_accuracy: 0.7333 - 91ms/epoch - 7ms/step\n",
            "Epoch 30/30\n",
            "13/13 - 0s - loss: 0.0839 - accuracy: 1.0000 - val_loss: 1.0288 - val_accuracy: 0.7333 - 80ms/epoch - 6ms/step\n"
          ]
        }
      ],
      "source": [
        "q_model = MyModel()\n",
        "\n",
        "q_history = q_model.fit(\n",
        "    q_train_images,\n",
        "    train_labels,\n",
        "    validation_data=(q_test_images, test_labels),\n",
        "    batch_size=4,\n",
        "    epochs=n_epochs,\n",
        "    verbose=2,\n",
        ")"
      ]
    },
    {
      "cell_type": "markdown",
      "metadata": {
        "id": "D7xqXVVcm4NF"
      },
      "source": [
        "In order to compare the results achievable with and without the quantum\n",
        "convolution layer, we initialize also a \\\"classical\\\" instance of the\n",
        "model that will be directly trained and validated with the raw MNIST\n",
        "images (i.e., without quantum pre-processing).\n"
      ]
    },
    {
      "cell_type": "code",
      "execution_count": 29,
      "metadata": {
        "colab": {
          "base_uri": "https://localhost:8080/"
        },
        "id": "3VIc-C0Rm4NF",
        "outputId": "2a7037b8-3f28-4a8f-9207-a951f4409d39"
      },
      "outputs": [
        {
          "output_type": "stream",
          "name": "stdout",
          "text": [
            "Epoch 1/30\n",
            "13/13 - 1s - loss: 2.5122 - accuracy: 0.0600 - val_loss: 2.2992 - val_accuracy: 0.2333 - 840ms/epoch - 65ms/step\n",
            "Epoch 2/30\n",
            "13/13 - 0s - loss: 2.1095 - accuracy: 0.2600 - val_loss: 2.1252 - val_accuracy: 0.3000 - 71ms/epoch - 5ms/step\n",
            "Epoch 3/30\n",
            "13/13 - 0s - loss: 1.7837 - accuracy: 0.5400 - val_loss: 1.9763 - val_accuracy: 0.4000 - 72ms/epoch - 6ms/step\n",
            "Epoch 4/30\n",
            "13/13 - 0s - loss: 1.5382 - accuracy: 0.7000 - val_loss: 1.8313 - val_accuracy: 0.5000 - 78ms/epoch - 6ms/step\n",
            "Epoch 5/30\n",
            "13/13 - 0s - loss: 1.3178 - accuracy: 0.8000 - val_loss: 1.7037 - val_accuracy: 0.5667 - 74ms/epoch - 6ms/step\n",
            "Epoch 6/30\n",
            "13/13 - 0s - loss: 1.1428 - accuracy: 0.8600 - val_loss: 1.6080 - val_accuracy: 0.5333 - 72ms/epoch - 6ms/step\n",
            "Epoch 7/30\n",
            "13/13 - 0s - loss: 0.9935 - accuracy: 0.9000 - val_loss: 1.5359 - val_accuracy: 0.5333 - 79ms/epoch - 6ms/step\n",
            "Epoch 8/30\n",
            "13/13 - 0s - loss: 0.8685 - accuracy: 0.9000 - val_loss: 1.4644 - val_accuracy: 0.5667 - 93ms/epoch - 7ms/step\n",
            "Epoch 9/30\n",
            "13/13 - 0s - loss: 0.7646 - accuracy: 0.9400 - val_loss: 1.4055 - val_accuracy: 0.5667 - 95ms/epoch - 7ms/step\n",
            "Epoch 10/30\n",
            "13/13 - 0s - loss: 0.6786 - accuracy: 0.9400 - val_loss: 1.3653 - val_accuracy: 0.6333 - 81ms/epoch - 6ms/step\n",
            "Epoch 11/30\n",
            "13/13 - 0s - loss: 0.6110 - accuracy: 0.9600 - val_loss: 1.3207 - val_accuracy: 0.6333 - 86ms/epoch - 7ms/step\n",
            "Epoch 12/30\n",
            "13/13 - 0s - loss: 0.5489 - accuracy: 0.9600 - val_loss: 1.3118 - val_accuracy: 0.6000 - 77ms/epoch - 6ms/step\n",
            "Epoch 13/30\n",
            "13/13 - 0s - loss: 0.4945 - accuracy: 1.0000 - val_loss: 1.2788 - val_accuracy: 0.6667 - 83ms/epoch - 6ms/step\n",
            "Epoch 14/30\n",
            "13/13 - 0s - loss: 0.4469 - accuracy: 1.0000 - val_loss: 1.2377 - val_accuracy: 0.6667 - 87ms/epoch - 7ms/step\n",
            "Epoch 15/30\n",
            "13/13 - 0s - loss: 0.4049 - accuracy: 1.0000 - val_loss: 1.2109 - val_accuracy: 0.6667 - 76ms/epoch - 6ms/step\n",
            "Epoch 16/30\n",
            "13/13 - 0s - loss: 0.3705 - accuracy: 1.0000 - val_loss: 1.1932 - val_accuracy: 0.7000 - 76ms/epoch - 6ms/step\n",
            "Epoch 17/30\n",
            "13/13 - 0s - loss: 0.3410 - accuracy: 1.0000 - val_loss: 1.1778 - val_accuracy: 0.7000 - 89ms/epoch - 7ms/step\n",
            "Epoch 18/30\n",
            "13/13 - 0s - loss: 0.3137 - accuracy: 1.0000 - val_loss: 1.1573 - val_accuracy: 0.7000 - 90ms/epoch - 7ms/step\n",
            "Epoch 19/30\n",
            "13/13 - 0s - loss: 0.2883 - accuracy: 1.0000 - val_loss: 1.1487 - val_accuracy: 0.7000 - 87ms/epoch - 7ms/step\n",
            "Epoch 20/30\n",
            "13/13 - 0s - loss: 0.2675 - accuracy: 1.0000 - val_loss: 1.1255 - val_accuracy: 0.7000 - 95ms/epoch - 7ms/step\n",
            "Epoch 21/30\n",
            "13/13 - 0s - loss: 0.2482 - accuracy: 1.0000 - val_loss: 1.1229 - val_accuracy: 0.7000 - 83ms/epoch - 6ms/step\n",
            "Epoch 22/30\n",
            "13/13 - 0s - loss: 0.2308 - accuracy: 1.0000 - val_loss: 1.1095 - val_accuracy: 0.7000 - 77ms/epoch - 6ms/step\n",
            "Epoch 23/30\n",
            "13/13 - 0s - loss: 0.2147 - accuracy: 1.0000 - val_loss: 1.0977 - val_accuracy: 0.7000 - 78ms/epoch - 6ms/step\n",
            "Epoch 24/30\n",
            "13/13 - 0s - loss: 0.2008 - accuracy: 1.0000 - val_loss: 1.0885 - val_accuracy: 0.7000 - 76ms/epoch - 6ms/step\n",
            "Epoch 25/30\n",
            "13/13 - 0s - loss: 0.1895 - accuracy: 1.0000 - val_loss: 1.0834 - val_accuracy: 0.7000 - 83ms/epoch - 6ms/step\n",
            "Epoch 26/30\n",
            "13/13 - 0s - loss: 0.1767 - accuracy: 1.0000 - val_loss: 1.0761 - val_accuracy: 0.7000 - 79ms/epoch - 6ms/step\n",
            "Epoch 27/30\n",
            "13/13 - 0s - loss: 0.1670 - accuracy: 1.0000 - val_loss: 1.0642 - val_accuracy: 0.7000 - 75ms/epoch - 6ms/step\n",
            "Epoch 28/30\n",
            "13/13 - 0s - loss: 0.1582 - accuracy: 1.0000 - val_loss: 1.0602 - val_accuracy: 0.7000 - 78ms/epoch - 6ms/step\n",
            "Epoch 29/30\n",
            "13/13 - 0s - loss: 0.1488 - accuracy: 1.0000 - val_loss: 1.0554 - val_accuracy: 0.7000 - 79ms/epoch - 6ms/step\n",
            "Epoch 30/30\n",
            "13/13 - 0s - loss: 0.1402 - accuracy: 1.0000 - val_loss: 1.0510 - val_accuracy: 0.7000 - 86ms/epoch - 7ms/step\n"
          ]
        }
      ],
      "source": [
        "c_model = MyModel()\n",
        "\n",
        "c_history = c_model.fit(\n",
        "    train_images,\n",
        "    train_labels,\n",
        "    validation_data=(test_images, test_labels),\n",
        "    batch_size=4,\n",
        "    epochs=n_epochs,\n",
        "    verbose=2,\n",
        ")"
      ]
    },
    {
      "cell_type": "markdown",
      "metadata": {
        "id": "MLhIvsrOm4NG"
      },
      "source": [
        "Results\n",
        "=======\n",
        "\n",
        "We can finally plot the test accuracy and the test loss with respect to\n",
        "the number of training epochs.\n"
      ]
    },
    {
      "cell_type": "code",
      "execution_count": 30,
      "metadata": {
        "colab": {
          "base_uri": "https://localhost:8080/",
          "height": 657
        },
        "id": "8SHnbil7m4NG",
        "outputId": "0fa04457-d4c1-4456-9f3f-eab2e99822ea"
      },
      "outputs": [
        {
          "output_type": "display_data",
          "data": {
            "text/plain": [
              "<Figure size 432x648 with 2 Axes>"
            ],
            "image/png": "[encoded data removed]"
          },
          "metadata": {}
        }
      ],
      "source": [
        "import matplotlib.pyplot as plt\n",
        "\n",
        "plt.style.use(\"seaborn\")\n",
        "fig, (ax1, ax2) = plt.subplots(2, 1, figsize=(6, 9))\n",
        "\n",
        "ax1.plot(q_history.history[\"val_accuracy\"], \"-ob\", label=\"With quantum layer\")\n",
        "ax1.plot(c_history.history[\"val_accuracy\"], \"-og\", label=\"Without quantum layer\")\n",
        "ax1.set_ylabel(\"Accuracy\")\n",
        "ax1.set_ylim([0, 1])\n",
        "ax1.set_xlabel(\"Epoch\")\n",
        "ax1.legend()\n",
        "\n",
        "ax2.plot(q_history.history[\"val_loss\"], \"-ob\", label=\"With quantum layer\")\n",
        "ax2.plot(c_history.history[\"val_loss\"], \"-og\", label=\"Without quantum layer\")\n",
        "ax2.set_ylabel(\"Loss\")\n",
        "ax2.set_ylim(top=2.5)\n",
        "ax2.set_xlabel(\"Epoch\")\n",
        "ax2.legend()\n",
        "plt.tight_layout()\n",
        "plt.show()"
      ]
    },
    {
      "cell_type": "markdown",
      "metadata": {
        "id": "QVm7E79Am4NG"
      },
      "source": [
        "References\n",
        "==========\n",
        "\n",
        "1.  Maxwell Henderson, Samriddhi Shakya, Shashindra Pradhan, Tristan\n",
        "    Cook. \\\"Quanvolutional Neural Networks: Powering Image Recognition\n",
        "    with Quantum Circuits.\\\"\n",
        "    [arXiv:1904.04767](https://arxiv.org/abs/1904.04767), 2019.\n",
        "\n",
        "About the author\n",
        "================\n"
      ]
    }
  ],
  "metadata": {
    "kernelspec": {
      "display_name": "Python 3",
      "language": "python",
      "name": "python3"
    },
    "language_info": {
      "codemirror_mode": {
        "name": "ipython",
        "version": 3
      },
      "file_extension": ".py",
      "mimetype": "text/x-python",
      "name": "python",
      "nbconvert_exporter": "python",
      "pygments_lexer": "ipython3",
      "version": "3.9.16"
    },
    "colab": {
      "provenance": [],
      "include_colab_link": true
    },
    "accelerator": "GPU",
    "gpuClass": "standard"
  },
  "nbformat": 4,
  "nbformat_minor": 0
}