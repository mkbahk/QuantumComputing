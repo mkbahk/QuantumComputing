{
  "nbformat": 4,
  "nbformat_minor": 0,
  "metadata": {
    "colab": {
      "provenance": [],
      "authorship_tag": "ABX9TyMemvhvspMt0nTi449MPnDf",
      "include_colab_link": true
    },
    "kernelspec": {
      "name": "python3",
      "display_name": "Python 3"
    },
    "language_info": {
      "name": "python"
    }
  },
  "cells": [
    {
      "cell_type": "markdown",
      "metadata": {
        "id": "view-in-github",
        "colab_type": "text"
      },
      "source": [
        "<a href=\"https://colab.research.google.com/github/mkbahk/QuantumComputing/blob/main/F%C3%BCrer_%EC%95%8C%EA%B3%A0%EB%A6%AC%EC%A6%98%EA%B5%AC%ED%98%84_mkbahk_20240422.ipynb\" target=\"_parent\"><img src=\"https://colab.research.google.com/assets/colab-badge.svg\" alt=\"Open In Colab\"/></a>"
      ]
    },
    {
      "cell_type": "code",
      "execution_count": 8,
      "metadata": {
        "id": "xc1T5SxQzYkH"
      },
      "outputs": [],
      "source": [
        "import numpy as np\n",
        "\n",
        "def furer_multiply(x, y):\n",
        "  \"\"\"\n",
        "  두 개의 큰 정수를 Fürer 알고리즘을 사용하여 곱합니다.\n",
        "\n",
        "  Args:\n",
        "    x: 첫 번째 정수 (Numpy 배열로 표현됨).\n",
        "    y: 두 번째 정수 (Numpy 배열로 표현됨).\n",
        "\n",
        "  Returns:\n",
        "    x * y의 결과 (Numpy 배열로 표현됨).\n",
        "  \"\"\"\n",
        "\n",
        "  # 입력 배열의 길이를 계산합니다.\n",
        "  n = len(x)\n",
        "\n",
        "  # 입력 배열을 2진수로 변환합니다.\n",
        "  x_bin = np.binary_repr(x, n)\n",
        "  y_bin = np.binary_repr(y, n)\n",
        "\n",
        "  # 재귀 함수를 사용하여 부분 결과를 계산합니다.\n",
        "  def recurse(x_bin, y_bin, i, j):\n",
        "    if i == 0 and j == 0:\n",
        "      return 0\n",
        "    elif i == 0:\n",
        "      return y_bin[j - 1] * recurse(x_bin, y_bin, 0, j - 1)\n",
        "    elif j == 0:\n",
        "      return x_bin[i - 1] * recurse(x_bin, y_bin, i - 1, 0)\n",
        "    else:\n",
        "      a = recurse(x_bin, y_bin, i - 1, j - 1)\n",
        "      b = x_bin[i - 1] * recurse(x_bin, y_bin, i - 1, 0) + y_bin[j - 1] * recurse(x_bin, y_bin, 0, j - 1)\n",
        "      c = x_bin[i - 1] * y_bin[j - 1] * recurse(x_bin, y_bin, 0, 0)\n",
        "      return a + b - c\n",
        "    ###if\n",
        "  ###def\n",
        "\n",
        "  # 최종 결과를 계산합니다.\n",
        "  result = recurse(x_bin, y_bin, n, n)\n",
        "\n",
        "  # 결과를 10진수로 변환합니다.\n",
        "  return np.fromstring(result, dtype=int)\n",
        "###def"
      ]
    },
    {
      "cell_type": "code",
      "source": [
        "# 예제 사용\n",
        "x = np.array([12345])\n",
        "y = np.array([54321])"
      ],
      "metadata": {
        "id": "7H7AtDtHzipW"
      },
      "execution_count": 12,
      "outputs": []
    },
    {
      "cell_type": "code",
      "source": [
        "result = furer_multiply(x, y)\n",
        "print(result)"
      ],
      "metadata": {
        "colab": {
          "base_uri": "https://localhost:8080/",
          "height": 316
        },
        "id": "FHo4wI_MzkXg",
        "outputId": "fbcd3885-c148-4302-946d-3894d3587e31"
      },
      "execution_count": 13,
      "outputs": [
        {
          "output_type": "error",
          "ename": "TypeError",
          "evalue": "only integer scalar arrays can be converted to a scalar index",
          "traceback": [
            "\u001b[0;31m---------------------------------------------------------------------------\u001b[0m",
            "\u001b[0;31mTypeError\u001b[0m                                 Traceback (most recent call last)",
            "\u001b[0;32m<ipython-input-13-667bdafb659d>\u001b[0m in \u001b[0;36m<cell line: 1>\u001b[0;34m()\u001b[0m\n\u001b[0;32m----> 1\u001b[0;31m \u001b[0mresult\u001b[0m \u001b[0;34m=\u001b[0m \u001b[0mfurer_multiply\u001b[0m\u001b[0;34m(\u001b[0m\u001b[0mx\u001b[0m\u001b[0;34m,\u001b[0m \u001b[0my\u001b[0m\u001b[0;34m)\u001b[0m\u001b[0;34m\u001b[0m\u001b[0;34m\u001b[0m\u001b[0m\n\u001b[0m\u001b[1;32m      2\u001b[0m \u001b[0mprint\u001b[0m\u001b[0;34m(\u001b[0m\u001b[0mresult\u001b[0m\u001b[0;34m)\u001b[0m\u001b[0;34m\u001b[0m\u001b[0;34m\u001b[0m\u001b[0m\n",
            "\u001b[0;32m<ipython-input-8-54654e939683>\u001b[0m in \u001b[0;36mfurer_multiply\u001b[0;34m(x, y)\u001b[0m\n\u001b[1;32m     17\u001b[0m \u001b[0;34m\u001b[0m\u001b[0m\n\u001b[1;32m     18\u001b[0m   \u001b[0;31m# 입력 배열을 2진수로 변환합니다.\u001b[0m\u001b[0;34m\u001b[0m\u001b[0;34m\u001b[0m\u001b[0m\n\u001b[0;32m---> 19\u001b[0;31m   \u001b[0mx_bin\u001b[0m \u001b[0;34m=\u001b[0m \u001b[0mnp\u001b[0m\u001b[0;34m.\u001b[0m\u001b[0mbinary_repr\u001b[0m\u001b[0;34m(\u001b[0m\u001b[0mx\u001b[0m\u001b[0;34m,\u001b[0m \u001b[0mn\u001b[0m\u001b[0;34m)\u001b[0m\u001b[0;34m\u001b[0m\u001b[0;34m\u001b[0m\u001b[0m\n\u001b[0m\u001b[1;32m     20\u001b[0m   \u001b[0my_bin\u001b[0m \u001b[0;34m=\u001b[0m \u001b[0mnp\u001b[0m\u001b[0;34m.\u001b[0m\u001b[0mbinary_repr\u001b[0m\u001b[0;34m(\u001b[0m\u001b[0my\u001b[0m\u001b[0;34m,\u001b[0m \u001b[0mn\u001b[0m\u001b[0;34m)\u001b[0m\u001b[0;34m\u001b[0m\u001b[0;34m\u001b[0m\u001b[0m\n\u001b[1;32m     21\u001b[0m \u001b[0;34m\u001b[0m\u001b[0m\n",
            "\u001b[0;32m/usr/local/lib/python3.10/dist-packages/numpy/core/numeric.py\u001b[0m in \u001b[0;36mbinary_repr\u001b[0;34m(num, width)\u001b[0m\n\u001b[1;32m   2015\u001b[0m     \u001b[0;31m# Ensure that num is a Python integer to avoid overflow or unwanted\u001b[0m\u001b[0;34m\u001b[0m\u001b[0;34m\u001b[0m\u001b[0m\n\u001b[1;32m   2016\u001b[0m     \u001b[0;31m# casts to floating point.\u001b[0m\u001b[0;34m\u001b[0m\u001b[0;34m\u001b[0m\u001b[0m\n\u001b[0;32m-> 2017\u001b[0;31m     \u001b[0mnum\u001b[0m \u001b[0;34m=\u001b[0m \u001b[0moperator\u001b[0m\u001b[0;34m.\u001b[0m\u001b[0mindex\u001b[0m\u001b[0;34m(\u001b[0m\u001b[0mnum\u001b[0m\u001b[0;34m)\u001b[0m\u001b[0;34m\u001b[0m\u001b[0;34m\u001b[0m\u001b[0m\n\u001b[0m\u001b[1;32m   2018\u001b[0m \u001b[0;34m\u001b[0m\u001b[0m\n\u001b[1;32m   2019\u001b[0m     \u001b[0;32mif\u001b[0m \u001b[0mnum\u001b[0m \u001b[0;34m==\u001b[0m \u001b[0;36m0\u001b[0m\u001b[0;34m:\u001b[0m\u001b[0;34m\u001b[0m\u001b[0;34m\u001b[0m\u001b[0m\n",
            "\u001b[0;31mTypeError\u001b[0m: only integer scalar arrays can be converted to a scalar index"
          ]
        }
      ]
    },
    {
      "cell_type": "code",
      "source": [
        "import numpy as np\n",
        "\n",
        "def fourier_transform_polynomial(P):\n",
        "    n = len(P)\n",
        "    if n == 1:\n",
        "        return P\n",
        "    even_coeffs = fourier_transform_polynomial(P[::2])\n",
        "    odd_coeffs = fourier_transform_polynomial(P[1::2])\n",
        "\n",
        "    w = np.exp(-2j * np.pi / n)\n",
        "    x = 1\n",
        "    result = np.zeros(n, dtype=np.complex128)\n",
        "    for k in range(n // 2):\n",
        "        result[k] = even_coeffs[k] + x * odd_coeffs[k]\n",
        "        result[k + n // 2] = even_coeffs[k] - x * odd_coeffs[k]\n",
        "        x *= w\n",
        "    return result\n",
        "\n",
        "def inverse_fourier_transform_polynomial(F):\n",
        "    n = len(F)\n",
        "    if n == 1:\n",
        "        return F\n",
        "    even_coeffs = inverse_fourier_transform_polynomial(F[::2])\n",
        "    odd_coeffs = inverse_fourier_transform_polynomial(F[1::2])\n",
        "\n",
        "    w = np.exp(2j * np.pi / n)\n",
        "    x = 1\n",
        "    result = np.zeros(n, dtype=np.complex128)\n",
        "    for k in range(n // 2):\n",
        "        result[k] = (even_coeffs[k] + x * odd_coeffs[k]) / 2\n",
        "        result[k + n // 2] = (even_coeffs[k] - x * odd_coeffs[k]) / 2\n",
        "        x *= w\n",
        "    return result\n",
        "\n",
        "def polynomial_multiply(P, Q):\n",
        "    m = len(P)\n",
        "    n = len(Q)\n",
        "    size = 2 ** (m + n - 1).bit_length()\n",
        "    P = np.pad(P, (0, size - m), 'constant')\n",
        "    Q = np.pad(Q, (0, size - n), 'constant')\n",
        "\n",
        "    F_P = fourier_transform_polynomial(P)\n",
        "    F_Q = fourier_transform_polynomial(Q)\n",
        "    F_result = F_P * F_Q\n",
        "\n",
        "    result = np.real(np.fft.ifft(inverse_fourier_transform_polynomial(F_result)))\n",
        "    return np.round(result).astype(int)\n",
        "\n",
        "# Example usage:\n",
        "P = np.array([3, 2, 5])  # Coefficients of polynomial P(x) = 3x^2 + 2x + 5\n",
        "Q = np.array([4, 1, 2])  # Coefficients of polynomial Q(x) = 4x^2 + x + 2\n",
        "result = polynomial_multiply(P, Q)\n",
        "print(\"Result of polynomial multiplication:\", result)\n"
      ],
      "metadata": {
        "colab": {
          "base_uri": "https://localhost:8080/"
        },
        "id": "jzBDYys_1CTR",
        "outputId": "c0f583e9-1e23-4b6a-d361-24e719d6af35"
      },
      "execution_count": 14,
      "outputs": [
        {
          "output_type": "stream",
          "name": "stdout",
          "text": [
            "Result of polynomial multiplication: [ 9  0 -1  0  4  0 -1  0]\n"
          ]
        }
      ]
    }
  ]
}