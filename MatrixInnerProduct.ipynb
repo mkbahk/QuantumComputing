{
  "nbformat": 4,
  "nbformat_minor": 0,
  "metadata": {
    "colab": {
      "provenance": [],
      "authorship_tag": "ABX9TyO3bEh83q0osG74B5GYlX2Z",
      "include_colab_link": true
    },
    "kernelspec": {
      "name": "python3",
      "display_name": "Python 3"
    },
    "language_info": {
      "name": "python"
    }
  },
  "cells": [
    {
      "cell_type": "markdown",
      "metadata": {
        "id": "view-in-github",
        "colab_type": "text"
      },
      "source": [
        "<a href=\"https://colab.research.google.com/github/mkbahk/QuantumComputing/blob/main/MatrixInnerProduct.ipynb\" target=\"_parent\"><img src=\"https://colab.research.google.com/assets/colab-badge.svg\" alt=\"Open In Colab\"/></a>"
      ]
    },
    {
      "cell_type": "code",
      "execution_count": 1,
      "metadata": {
        "id": "uehzhFoAAIQV"
      },
      "outputs": [],
      "source": [
        "import numpy as np"
      ]
    },
    {
      "cell_type": "code",
      "source": [
        "a = np.array([[1, 2], [3, 4]])\n",
        "b = np.array([[5, 6], [7, 8]])\n",
        "\n",
        "# 행렬내적을 계산합니다.\n",
        "dot = np.dot(a, b)\n",
        "\n",
        "# 출력\n",
        "print(dot)"
      ],
      "metadata": {
        "colab": {
          "base_uri": "https://localhost:8080/"
        },
        "id": "9wnkZxMCANnM",
        "outputId": "083445bb-9f14-406e-dfc3-cff7a66936ea"
      },
      "execution_count": 3,
      "outputs": [
        {
          "output_type": "stream",
          "name": "stdout",
          "text": [
            "[[19 22]\n",
            " [43 50]]\n"
          ]
        }
      ]
    },
    {
      "cell_type": "code",
      "source": [
        "M1 = np.array([\n",
        "    [1, 1],\n",
        "    [0, 0]])\n",
        "M2 = np.array([\n",
        "    [0, 1],\n",
        "    [1, 0]])\n",
        "\n",
        "# 행렬내적을 계산합니다.\n",
        "dot = np.dot(M1, M2)\n",
        "# 출력\n",
        "print(\"M1M2=\\n\", dot)\n",
        "\n",
        "#행렬내적의 교환법칙이 성립되지 않음을 확인\n",
        "dot = np.dot(M2, M1)\n",
        "# 출력\n",
        "print(\"M2M1=\\n\",dot)"
      ],
      "metadata": {
        "colab": {
          "base_uri": "https://localhost:8080/"
        },
        "id": "Ow19cAC4Afqp",
        "outputId": "6b9d3d55-c436-478f-e6f9-b22962f2cde0"
      },
      "execution_count": 6,
      "outputs": [
        {
          "output_type": "stream",
          "name": "stdout",
          "text": [
            "M1M2=\n",
            " [[1 1]\n",
            " [0 0]]\n",
            "M2M1=\n",
            " [[0 0]\n",
            " [1 1]]\n"
          ]
        }
      ]
    }
  ]
}