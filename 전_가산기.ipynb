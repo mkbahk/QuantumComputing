{
  "nbformat": 4,
  "nbformat_minor": 0,
  "metadata": {
    "colab": {
      "private_outputs": true,
      "provenance": [],
      "authorship_tag": "ABX9TyMn7gY6ACcUj+UeTvO+Ki8/",
      "include_colab_link": true
    },
    "kernelspec": {
      "name": "python3",
      "display_name": "Python 3"
    },
    "language_info": {
      "name": "python"
    }
  },
  "cells": [
    {
      "cell_type": "markdown",
      "metadata": {
        "id": "view-in-github",
        "colab_type": "text"
      },
      "source": [
        "<a href=\"https://colab.research.google.com/github/mkbahk/QuantumComputing/blob/main/%EC%A0%84_%EA%B0%80%EC%82%B0%EA%B8%B0.ipynb\" target=\"_parent\"><img src=\"https://colab.research.google.com/assets/colab-badge.svg\" alt=\"Open In Colab\"/></a>"
      ]
    },
    {
      "cell_type": "code",
      "execution_count": null,
      "metadata": {
        "id": "j4qPRKk26Lwm"
      },
      "outputs": [],
      "source": [
        "!python3 -m pip install qiskit[visualization]\n",
        "!python3 -m pip install qiskit-ionq\n",
        "!python3 -m pip install qiskit-ibmq-provider\n",
        "!python3 -m pip install qiskit-aer"
      ]
    },
    {
      "cell_type": "code",
      "source": [
        "from qiskit import QuantumCircuit, Aer, execute"
      ],
      "metadata": {
        "id": "Wbk6BeWs6SnI"
      },
      "execution_count": null,
      "outputs": []
    },
    {
      "cell_type": "code",
      "source": [
        "# 양자 회로 생성\n",
        "qc = QuantumCircuit(5, 5)  # 5개의 양자 비트와 2개의 클래식 비트를 사용합니다.\n",
        "\n",
        "# 입력 비트 설정 (A=1, B=1)\n",
        "qc.x(0)  # A 비트를 1로 설정\n",
        "qc.x(1)  # B 비트를 1로 설정\n",
        "qc.barrier()\n",
        "\n",
        "# 전가산기 회로 구현\n",
        "qc.cx(0, 3) # XOR 게이트 (A와 B의 논리합)\n",
        "qc.cx(1, 3) # XOR 게이트 (A와 B의 논리합)\n",
        "qc.ccx(0, 1, 4) # AND 게이트 (A와 B의 논리곱)\n",
        "qc.cx(2, 3) # XOR 게이트 (A와 B의 논리합)\n",
        "qc.ccx(0, 2, 4) # AND 게이트 (A와 B의 논리곱)\n",
        "qc.ccx(1, 2, 4) # AND 게이트 (A와 B의 논리곱)\n",
        "qc.barrier()\n",
        "\n",
        "# 결과를 측정하여 Sum과 Carry 출력을 얻습니다.\n",
        "qc.measure(0, 4)  # 큐비트를 클래식 비트 4에 매핑\n",
        "qc.measure(1, 3)  # 큐비트를 클래식 비트 3에 매핑\n",
        "qc.measure(2, 2)  # 보조비트를 클래식 비트 2에 매핑\n",
        "qc.measure(3, 1)  # Sum(Result) 비트를 클래식 비트 1에 매핑\n",
        "qc.measure(4, 0)  # Carry 비트를 클래식 비트 0에 매핑\n",
        "\n",
        "qc.draw('mpl')"
      ],
      "metadata": {
        "id": "fShsO0PP6XFA"
      },
      "execution_count": null,
      "outputs": []
    },
    {
      "cell_type": "code",
      "source": [
        "# 양자 시뮬레이터를 사용하여 회로 실행\n",
        "simulator = Aer.get_backend('qasm_simulator')\n",
        "job = execute(qc, simulator, shots=1024)\n",
        "result = job.result()\n",
        "counts = result.get_counts()\n",
        "\n",
        "# 결과 출력\n",
        "print(counts)"
      ],
      "metadata": {
        "id": "va2m7i3A6kju"
      },
      "execution_count": null,
      "outputs": []
    }
  ]
}