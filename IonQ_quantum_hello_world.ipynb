{
  "cells": [
    {
      "cell_type": "markdown",
      "metadata": {
        "id": "view-in-github",
        "colab_type": "text"
      },
      "source": [
        "<a href=\"https://colab.research.google.com/github/mkbahk/QuantumComputing/blob/main/IonQ_quantum_hello_world.ipynb\" target=\"_parent\"><img src=\"https://colab.research.google.com/assets/colab-badge.svg\" alt=\"Open In Colab\"/></a>"
      ]
    },
    {
      "cell_type": "markdown",
      "id": "f378c862-f9ae-4eb2-89d6-18c6a2401806",
      "metadata": {
        "id": "f378c862-f9ae-4eb2-89d6-18c6a2401806"
      },
      "source": [
        "# Quantum Hello World!\n",
        "\n",
        "## IonQ Quantum Leadership Training Program (SK '23)\n",
        "\n",
        "### Willie Aboumrad (aboumrad@ionq.co)"
      ]
    },
    {
      "cell_type": "code",
      "execution_count": 14,
      "id": "9b8efa71",
      "metadata": {
        "colab": {
          "base_uri": "https://localhost:8080/"
        },
        "id": "9b8efa71",
        "outputId": "64a0ab43-3652-44ba-abae-db4203d8d404"
      },
      "outputs": [
        {
          "output_type": "stream",
          "name": "stdout",
          "text": [
            "Requirement already satisfied: qiskit in /usr/local/lib/python3.10/dist-packages (0.44.1)\n",
            "Requirement already satisfied: qiskit-terra==0.25.1 in /usr/local/lib/python3.10/dist-packages (from qiskit) (0.25.1)\n",
            "Requirement already satisfied: rustworkx>=0.13.0 in /usr/local/lib/python3.10/dist-packages (from qiskit-terra==0.25.1->qiskit) (0.13.1)\n",
            "Requirement already satisfied: numpy>=1.17 in /usr/local/lib/python3.10/dist-packages (from qiskit-terra==0.25.1->qiskit) (1.23.5)\n",
            "Requirement already satisfied: ply>=3.10 in /usr/local/lib/python3.10/dist-packages (from qiskit-terra==0.25.1->qiskit) (3.11)\n",
            "Requirement already satisfied: psutil>=5 in /usr/local/lib/python3.10/dist-packages (from qiskit-terra==0.25.1->qiskit) (5.9.5)\n",
            "Requirement already satisfied: scipy>=1.5 in /usr/local/lib/python3.10/dist-packages (from qiskit-terra==0.25.1->qiskit) (1.11.2)\n",
            "Requirement already satisfied: sympy>=1.3 in /usr/local/lib/python3.10/dist-packages (from qiskit-terra==0.25.1->qiskit) (1.12)\n",
            "Requirement already satisfied: dill>=0.3 in /usr/local/lib/python3.10/dist-packages (from qiskit-terra==0.25.1->qiskit) (0.3.7)\n",
            "Requirement already satisfied: python-dateutil>=2.8.0 in /usr/local/lib/python3.10/dist-packages (from qiskit-terra==0.25.1->qiskit) (2.8.2)\n",
            "Requirement already satisfied: stevedore>=3.0.0 in /usr/local/lib/python3.10/dist-packages (from qiskit-terra==0.25.1->qiskit) (5.1.0)\n",
            "Requirement already satisfied: symengine<0.10,>=0.9 in /usr/local/lib/python3.10/dist-packages (from qiskit-terra==0.25.1->qiskit) (0.9.2)\n",
            "Requirement already satisfied: typing-extensions in /usr/local/lib/python3.10/dist-packages (from qiskit-terra==0.25.1->qiskit) (4.5.0)\n",
            "Requirement already satisfied: six>=1.5 in /usr/local/lib/python3.10/dist-packages (from python-dateutil>=2.8.0->qiskit-terra==0.25.1->qiskit) (1.16.0)\n",
            "Requirement already satisfied: pbr!=2.1.0,>=2.0.0 in /usr/local/lib/python3.10/dist-packages (from stevedore>=3.0.0->qiskit-terra==0.25.1->qiskit) (5.11.1)\n",
            "Requirement already satisfied: mpmath>=0.19 in /usr/local/lib/python3.10/dist-packages (from sympy>=1.3->qiskit-terra==0.25.1->qiskit) (1.3.0)\n",
            "Requirement already satisfied: qiskit_ionq in /usr/local/lib/python3.10/dist-packages (0.4.1)\n",
            "Requirement already satisfied: decorator>=5.1.0 in /usr/local/lib/python3.10/dist-packages (from qiskit_ionq) (5.1.1)\n",
            "Requirement already satisfied: qiskit-terra>=0.17.4 in /usr/local/lib/python3.10/dist-packages (from qiskit_ionq) (0.25.1)\n",
            "Requirement already satisfied: requests>=2.24.0 in /usr/local/lib/python3.10/dist-packages (from qiskit_ionq) (2.31.0)\n",
            "Requirement already satisfied: retry>=0.9.0 in /usr/local/lib/python3.10/dist-packages (from qiskit_ionq) (0.9.2)\n",
            "Requirement already satisfied: importlib-metadata>=4.11.4 in /usr/local/lib/python3.10/dist-packages (from qiskit_ionq) (6.8.0)\n",
            "Requirement already satisfied: zipp>=0.5 in /usr/local/lib/python3.10/dist-packages (from importlib-metadata>=4.11.4->qiskit_ionq) (3.16.2)\n",
            "Requirement already satisfied: rustworkx>=0.13.0 in /usr/local/lib/python3.10/dist-packages (from qiskit-terra>=0.17.4->qiskit_ionq) (0.13.1)\n",
            "Requirement already satisfied: numpy>=1.17 in /usr/local/lib/python3.10/dist-packages (from qiskit-terra>=0.17.4->qiskit_ionq) (1.23.5)\n",
            "Requirement already satisfied: ply>=3.10 in /usr/local/lib/python3.10/dist-packages (from qiskit-terra>=0.17.4->qiskit_ionq) (3.11)\n",
            "Requirement already satisfied: psutil>=5 in /usr/local/lib/python3.10/dist-packages (from qiskit-terra>=0.17.4->qiskit_ionq) (5.9.5)\n",
            "Requirement already satisfied: scipy>=1.5 in /usr/local/lib/python3.10/dist-packages (from qiskit-terra>=0.17.4->qiskit_ionq) (1.11.2)\n",
            "Requirement already satisfied: sympy>=1.3 in /usr/local/lib/python3.10/dist-packages (from qiskit-terra>=0.17.4->qiskit_ionq) (1.12)\n",
            "Requirement already satisfied: dill>=0.3 in /usr/local/lib/python3.10/dist-packages (from qiskit-terra>=0.17.4->qiskit_ionq) (0.3.7)\n",
            "Requirement already satisfied: python-dateutil>=2.8.0 in /usr/local/lib/python3.10/dist-packages (from qiskit-terra>=0.17.4->qiskit_ionq) (2.8.2)\n",
            "Requirement already satisfied: stevedore>=3.0.0 in /usr/local/lib/python3.10/dist-packages (from qiskit-terra>=0.17.4->qiskit_ionq) (5.1.0)\n",
            "Requirement already satisfied: symengine<0.10,>=0.9 in /usr/local/lib/python3.10/dist-packages (from qiskit-terra>=0.17.4->qiskit_ionq) (0.9.2)\n",
            "Requirement already satisfied: typing-extensions in /usr/local/lib/python3.10/dist-packages (from qiskit-terra>=0.17.4->qiskit_ionq) (4.5.0)\n",
            "Requirement already satisfied: charset-normalizer<4,>=2 in /usr/local/lib/python3.10/dist-packages (from requests>=2.24.0->qiskit_ionq) (3.2.0)\n",
            "Requirement already satisfied: idna<4,>=2.5 in /usr/local/lib/python3.10/dist-packages (from requests>=2.24.0->qiskit_ionq) (3.4)\n",
            "Requirement already satisfied: urllib3<3,>=1.21.1 in /usr/local/lib/python3.10/dist-packages (from requests>=2.24.0->qiskit_ionq) (2.0.4)\n",
            "Requirement already satisfied: certifi>=2017.4.17 in /usr/local/lib/python3.10/dist-packages (from requests>=2.24.0->qiskit_ionq) (2023.7.22)\n",
            "Requirement already satisfied: py<2.0.0,>=1.4.26 in /usr/local/lib/python3.10/dist-packages (from retry>=0.9.0->qiskit_ionq) (1.11.0)\n",
            "Requirement already satisfied: six>=1.5 in /usr/local/lib/python3.10/dist-packages (from python-dateutil>=2.8.0->qiskit-terra>=0.17.4->qiskit_ionq) (1.16.0)\n",
            "Requirement already satisfied: pbr!=2.1.0,>=2.0.0 in /usr/local/lib/python3.10/dist-packages (from stevedore>=3.0.0->qiskit-terra>=0.17.4->qiskit_ionq) (5.11.1)\n",
            "Requirement already satisfied: mpmath>=0.19 in /usr/local/lib/python3.10/dist-packages (from sympy>=1.3->qiskit-terra>=0.17.4->qiskit_ionq) (1.3.0)\n",
            "Collecting qiskit_aer\n",
            "  Downloading qiskit_aer-0.12.2-cp310-cp310-manylinux_2_17_x86_64.manylinux2014_x86_64.whl (12.8 MB)\n",
            "\u001b[2K     \u001b[90m━━━━━━━━━━━━━━━━━━━━━━━━━━━━━━━━━━━━━━━━\u001b[0m \u001b[32m12.8/12.8 MB\u001b[0m \u001b[31m96.3 MB/s\u001b[0m eta \u001b[36m0:00:00\u001b[0m\n",
            "\u001b[?25hRequirement already satisfied: qiskit-terra>=0.21.0 in /usr/local/lib/python3.10/dist-packages (from qiskit_aer) (0.25.1)\n",
            "Requirement already satisfied: numpy>=1.16.3 in /usr/local/lib/python3.10/dist-packages (from qiskit_aer) (1.23.5)\n",
            "Requirement already satisfied: scipy>=1.0 in /usr/local/lib/python3.10/dist-packages (from qiskit_aer) (1.11.2)\n",
            "Requirement already satisfied: rustworkx>=0.13.0 in /usr/local/lib/python3.10/dist-packages (from qiskit-terra>=0.21.0->qiskit_aer) (0.13.1)\n",
            "Requirement already satisfied: ply>=3.10 in /usr/local/lib/python3.10/dist-packages (from qiskit-terra>=0.21.0->qiskit_aer) (3.11)\n",
            "Requirement already satisfied: psutil>=5 in /usr/local/lib/python3.10/dist-packages (from qiskit-terra>=0.21.0->qiskit_aer) (5.9.5)\n",
            "Requirement already satisfied: sympy>=1.3 in /usr/local/lib/python3.10/dist-packages (from qiskit-terra>=0.21.0->qiskit_aer) (1.12)\n",
            "Requirement already satisfied: dill>=0.3 in /usr/local/lib/python3.10/dist-packages (from qiskit-terra>=0.21.0->qiskit_aer) (0.3.7)\n",
            "Requirement already satisfied: python-dateutil>=2.8.0 in /usr/local/lib/python3.10/dist-packages (from qiskit-terra>=0.21.0->qiskit_aer) (2.8.2)\n",
            "Requirement already satisfied: stevedore>=3.0.0 in /usr/local/lib/python3.10/dist-packages (from qiskit-terra>=0.21.0->qiskit_aer) (5.1.0)\n",
            "Requirement already satisfied: symengine<0.10,>=0.9 in /usr/local/lib/python3.10/dist-packages (from qiskit-terra>=0.21.0->qiskit_aer) (0.9.2)\n",
            "Requirement already satisfied: typing-extensions in /usr/local/lib/python3.10/dist-packages (from qiskit-terra>=0.21.0->qiskit_aer) (4.5.0)\n",
            "Requirement already satisfied: six>=1.5 in /usr/local/lib/python3.10/dist-packages (from python-dateutil>=2.8.0->qiskit-terra>=0.21.0->qiskit_aer) (1.16.0)\n",
            "Requirement already satisfied: pbr!=2.1.0,>=2.0.0 in /usr/local/lib/python3.10/dist-packages (from stevedore>=3.0.0->qiskit-terra>=0.21.0->qiskit_aer) (5.11.1)\n",
            "Requirement already satisfied: mpmath>=0.19 in /usr/local/lib/python3.10/dist-packages (from sympy>=1.3->qiskit-terra>=0.21.0->qiskit_aer) (1.3.0)\n",
            "Installing collected packages: qiskit_aer\n",
            "Successfully installed qiskit_aer-0.12.2\n"
          ]
        }
      ],
      "source": [
        "# Install necessary packages\n",
        "!pip install qiskit\n",
        "!pip install qiskit_ionq\n",
        "!pip install qiskit_aer"
      ]
    },
    {
      "cell_type": "markdown",
      "id": "cf1b759b",
      "metadata": {
        "id": "cf1b759b"
      },
      "source": [
        "# Quantum coin flip"
      ]
    },
    {
      "cell_type": "markdown",
      "id": "c9c20225",
      "metadata": {
        "id": "c9c20225"
      },
      "source": [
        "Gate-based quantum computers perform computations by transforming information over quantum circuits. In this lecture we will introduce the formalism for designing quantum circuits, we will implement our very own quantum circuit, and we will run it on IonQ's quantum hardware!\n",
        "\n",
        "In particular, we will construct circuits designed to generate truly random numbers.\n",
        "\n",
        "To begin, we re-visit some important concepts introduced in Lecture 1.\n",
        "\n",
        "### Superposition\n",
        "\n",
        "The basic unit of information is a bit, which is a single binary digit. In quantum computing, we use quantum bits, or *qubits*. Mathematically, a qubit corresponds to a two-dimensional vector space, which we typically model as $\\mathbb{C}^2$. The state of a qubit is represented by a unit vector in $\\mathbb{C}^2$.\n",
        "\n",
        "Whereas a classical bit can only take the two states $0$ and $1$, a qubit can take on infinitely many states. In particular the state of a qubit can be any vector\n",
        "$$|\\psi\\rangle = \\alpha |0 \\rangle + \\beta|1 \\rangle,$$\n",
        "with $\\alpha, \\beta$ complex numbers satisfying\n",
        "$$|\\alpha|^2 + |\\beta|^2 = 1.$$\n",
        "The complex coefficients $\\alpha, \\beta$ are known as *amplitudes*. Here we've chosen some basis of $\\mathbb{C}^2$ and labeled its two elements by $|0 \\rangle$ and $|1 \\rangle$. This is known as the *computational basis*.\n",
        "\n",
        "Thus as we process qubits in quantum circuits, their state is usually neither $0$, nor $1$; rather, the state is some linear combination of the two. The state described by such a linear combination is known as a *superposition*.\n",
        "\n",
        "### Measurement\n",
        "\n",
        "The state of a qubit collapses to one of the definite outcomes ($0$ or $1$) only when we perform a measurement. In this case, we observe each outcome with probability proportional to the squared length of the amplitude of the corresponding basis state. Concretely, when measuring a qubit in state $|\\psi\\rangle = \\alpha |0 \\rangle + \\beta|1 \\rangle$, the probability of observing the outcome $0$ is $|\\alpha|^2$.\n",
        "\n",
        "### Quantum hello world: flipping coins\n",
        "\n",
        "We now leverage the superposition and measurment properties to design a quantum circuit that generates truly random numbers drawn from $\\{0, 1\\}$.\n",
        "\n",
        "To construct our first circuit, we will need the *Hadamard gate*. Every quantum gate is characterized by its action on the basis states $|0\\rangle$ and $|1\\rangle$. For instance, the Hadamard gate implements the transformation\n",
        "$$|0\\rangle \\to \\frac{1}{\\sqrt{2}}\\big(|0\\rangle + |1\\rangle\\big)$$\n",
        "and\n",
        "$$|1\\rangle \\to \\frac{1}{\\sqrt{2}}\\big(|0\\rangle - |1\\rangle\\big).$$\n",
        "\n",
        "The action of all quantum gates is extended to superpositions linearly. In other words, the action of each gate is represented by a linear transformation, i.e. a matrix. This means that quantum circuits can be represented as a product of matrices.\n",
        "\n",
        "Let's jump into our first circuit!"
      ]
    },
    {
      "cell_type": "code",
      "execution_count": 31,
      "id": "9d42230b",
      "metadata": {
        "colab": {
          "base_uri": "https://localhost:8080/",
          "height": 94
        },
        "id": "9d42230b",
        "outputId": "1a376425-5408-4cee-a608-e5aed5a664ba"
      },
      "outputs": [
        {
          "output_type": "execute_result",
          "data": {
            "text/plain": [
              "       ┌───┐┌─┐\n",
              " q: |0>┤ H ├┤M├\n",
              "       └───┘└╥┘\n",
              "c: 0 1/══════╩═\n",
              "             0 "
            ],
            "text/html": [
              "<pre style=\"word-wrap: normal;white-space: pre;background: #fff0;line-height: 1.1;font-family: &quot;Courier New&quot;,Courier,monospace\">       ┌───┐┌─┐\n",
              " q: |0>┤ H ├┤M├\n",
              "       └───┘└╥┘\n",
              "c: 0 1/══════╩═\n",
              "             0 </pre>"
            ]
          },
          "metadata": {},
          "execution_count": 31
        }
      ],
      "source": [
        "# Import the Qiskit development framework\n",
        "from qiskit import QuantumCircuit\n",
        "\n",
        "# Set up a quantum circuit with 1 qubit and 1 classical bit register\n",
        "qc = QuantumCircuit(1, 1)\n",
        "\n",
        "# Add a Hadamard gate acting on the 0th qubit\n",
        "#qc.x(0)\n",
        "qc.h(0)\n",
        "\n",
        "# Measure the 0th qubit and record the result in the 0th classical register\n",
        "qc.measure([0], [0])\n",
        "\n",
        "# Visualize the quantum circuit\n",
        "qc.draw(initial_state=True)"
      ]
    },
    {
      "cell_type": "code",
      "execution_count": 43,
      "id": "811e9eef",
      "metadata": {
        "colab": {
          "base_uri": "https://localhost:8080/"
        },
        "id": "811e9eef",
        "outputId": "9b8b8755-282a-452b-b65b-9bc58393eae2"
      },
      "outputs": [
        {
          "output_type": "execute_result",
          "data": {
            "text/plain": [
              "{'0010 0000': 4,\n",
              " '0011 0000': 4,\n",
              " '1001 0000': 2,\n",
              " '1111 0000': 8,\n",
              " '1000 0000': 5,\n",
              " '1100 0000': 7,\n",
              " '1010 0000': 6,\n",
              " '1110 0000': 9,\n",
              " '0001 0000': 6,\n",
              " '1011 0000': 7,\n",
              " '0100 0000': 4,\n",
              " '0000 0000': 6,\n",
              " '0111 0000': 8,\n",
              " '0101 0000': 7,\n",
              " '1101 0000': 11,\n",
              " '0110 0000': 6}"
            ]
          },
          "metadata": {},
          "execution_count": 43
        }
      ],
      "source": [
        "# Set up a simulator backend to run the quantum circuit\n",
        "from qiskit import Aer\n",
        "simulator_backend = Aer.get_backend(\"aer_simulator\")\n",
        "\n",
        "# Run the circuit over 100 shots\n",
        "#result = simulator_backend.run(qc, shots=100).result()\n",
        "#counts = result.get_counts()\n",
        "counts = simulator_backend.run(qc, shots=100).result().get_counts()\n",
        "\n",
        "# Inspect the result\n",
        "counts"
      ]
    },
    {
      "cell_type": "code",
      "execution_count": 46,
      "id": "2c16fe10",
      "metadata": {
        "colab": {
          "base_uri": "https://localhost:8080/",
          "height": 536
        },
        "id": "2c16fe10",
        "outputId": "c570be8b-2bb3-4f58-95c6-8353b6b2dbfd"
      },
      "outputs": [
        {
          "output_type": "execute_result",
          "data": {
            "text/plain": [
              "<Figure size 700x500 with 1 Axes>"
            ],
            "image/png": "[encoded data removed]"
          },
          "metadata": {},
          "execution_count": 46
        }
      ],
      "source": [
        "from qiskit.visualization import plot_histogram\n",
        "\n",
        "# Visualize the results!\n",
        "plot_histogram(counts)"
      ]
    },
    {
      "cell_type": "markdown",
      "id": "5d949f55",
      "metadata": {
        "id": "5d949f55"
      },
      "source": [
        "##### Question: Can you explain the results? What does the theory tell us to expect?"
      ]
    },
    {
      "cell_type": "markdown",
      "id": "6ab7ecc1-42a2-4e9a-a62f-d7fb54a7c788",
      "metadata": {
        "id": "6ab7ecc1-42a2-4e9a-a62f-d7fb54a7c788"
      },
      "source": [
        "##### Let's run the same circuit on an actual QPU!\n",
        "\n",
        "We'll use the IonQ Harmony system here."
      ]
    },
    {
      "cell_type": "code",
      "execution_count": 42,
      "id": "2f37d986",
      "metadata": {
        "id": "2f37d986"
      },
      "outputs": [],
      "source": [
        "# We will use the following API this lecture. In the future, you can\n",
        "# request your own API key by creating your own account with IonQ's\n",
        "# cloud provider\n",
        "API_KEY = \"xdNnUQmVTZyZ8ox7pHvPuU6qY5te9K8c\"\n",
        "\n",
        "# Load IonQ's Qiskit API\n",
        "from qiskit_ionq import IonQProvider\n",
        "\n",
        "# Set up the IonQ Cloud provider\n",
        "provider = IonQProvider(token=API_KEY)\n",
        "\n",
        "# Request a simulator backend\n",
        "simulator_backend = provider.get_backend(\"ionq_simulator\")\n",
        "\n",
        "# Optionally, select a QPU noise model\n",
        "# By default, we run an ideal simulation\n",
        "# simulator_backend.options.noise_model = 'harmony'\n",
        "\n",
        "# Get the QPU backend\n",
        "#harmony_backend = provider.get_backend(\"ionq_qpu.harmony\")\n",
        "\n",
        "# Submit the job\n",
        "job = harmony_backend.run(qc, shots=100)"
      ]
    },
    {
      "cell_type": "code",
      "execution_count": 30,
      "id": "4a03df64",
      "metadata": {
        "colab": {
          "base_uri": "https://localhost:8080/"
        },
        "id": "4a03df64",
        "outputId": "78a17e72-cb09-4305-bef2-12fbc69d52d4"
      },
      "outputs": [
        {
          "output_type": "stream",
          "name": "stdout",
          "text": [
            "JobStatus.QUEUED\n",
            "JobStatus.QUEUED\n",
            "JobStatus.QUEUED\n",
            "JobStatus.QUEUED\n",
            "JobStatus.QUEUED\n"
          ]
        }
      ],
      "source": [
        "from time import sleep\n",
        "\n",
        "# Periodically check the job status\n",
        "for k in range(5):\n",
        "    sleep(30) # wait 30 seconds...\n",
        "    print(job.status())"
      ]
    },
    {
      "cell_type": "markdown",
      "id": "c65971e9",
      "metadata": {
        "id": "c65971e9"
      },
      "source": [
        "#### Now it's your turn!\n",
        "\n",
        "Design a quantum circuit that can be used to generate uniformly distributed truly random numbers in the range $[0, 16)$."
      ]
    },
    {
      "cell_type": "code",
      "execution_count": 44,
      "id": "234c89bb",
      "metadata": {
        "colab": {
          "base_uri": "https://localhost:8080/",
          "height": 217
        },
        "id": "234c89bb",
        "outputId": "729e9939-9064-4147-9168-3776cfb10bd9"
      },
      "outputs": [
        {
          "output_type": "execute_result",
          "data": {
            "text/plain": [
              "          ┌───┐ ░ ┌─┐         \n",
              "  q_0: |0>┤ H ├─░─┤M├─────────\n",
              "          ├───┤ ░ └╥┘┌─┐      \n",
              "  q_1: |0>┤ H ├─░──╫─┤M├──────\n",
              "          ├───┤ ░  ║ └╥┘┌─┐   \n",
              "  q_2: |0>┤ H ├─░──╫──╫─┤M├───\n",
              "          ├───┤ ░  ║  ║ └╥┘┌─┐\n",
              "  q_3: |0>┤ H ├─░──╫──╫──╫─┤M├\n",
              "          └───┘ ░  ║  ║  ║ └╥┘\n",
              "   c: 0 4/═════════╬══╬══╬══╬═\n",
              "                   ║  ║  ║  ║ \n",
              "meas: 0 4/═════════╩══╩══╩══╩═\n",
              "                   0  1  2  3 "
            ],
            "text/html": [
              "<pre style=\"word-wrap: normal;white-space: pre;background: #fff0;line-height: 1.1;font-family: &quot;Courier New&quot;,Courier,monospace\">          ┌───┐ ░ ┌─┐         \n",
              "  q_0: |0>┤ H ├─░─┤M├─────────\n",
              "          ├───┤ ░ └╥┘┌─┐      \n",
              "  q_1: |0>┤ H ├─░──╫─┤M├──────\n",
              "          ├───┤ ░  ║ └╥┘┌─┐   \n",
              "  q_2: |0>┤ H ├─░──╫──╫─┤M├───\n",
              "          ├───┤ ░  ║  ║ └╥┘┌─┐\n",
              "  q_3: |0>┤ H ├─░──╫──╫──╫─┤M├\n",
              "          └───┘ ░  ║  ║  ║ └╥┘\n",
              "   c: 0 4/═════════╬══╬══╬══╬═\n",
              "                   ║  ║  ║  ║ \n",
              "meas: 0 4/═════════╩══╩══╩══╩═\n",
              "                   0  1  2  3 </pre>"
            ]
          },
          "metadata": {},
          "execution_count": 44
        }
      ],
      "source": [
        "# Implement your circuit here\n",
        "\n",
        "# Import the Qiskit development framework\n",
        "from qiskit import QuantumCircuit\n",
        "\n",
        "# Set up a quantum circuit with 1 qubit and 1 classical bit register\n",
        "qc = QuantumCircuit(4, 4)\n",
        "\n",
        "qc.h(0)\n",
        "qc.h(1)\n",
        "qc.h(2)\n",
        "qc.h(3)\n",
        "\n",
        "# Measure the 0th qubit and record the result in the 0th classical register\n",
        "qc.measure_all()\n",
        "\n",
        "# Visualize the quantum circuit\n",
        "qc.draw(initial_state=True)"
      ]
    },
    {
      "cell_type": "code",
      "source": [
        "# Set up a simulator backend to run the quantum circuit\n",
        "from qiskit import Aer\n",
        "simulator_backend = Aer.get_backend(\"aer_simulator\")\n",
        "\n",
        "# Run the circuit over 100 shots\n",
        "#result = simulator_backend.run(qc, shots=100).result()\n",
        "#counts = result.get_counts()\n",
        "counts = simulator_backend.run(qc, shots=100).result().get_counts()\n",
        "\n",
        "# Inspect the result\n",
        "counts\n"
      ],
      "metadata": {
        "colab": {
          "base_uri": "https://localhost:8080/"
        },
        "id": "Nq9cyH3sINXM",
        "outputId": "8b676d46-5706-49df-f435-9df523e83fdf"
      },
      "id": "Nq9cyH3sINXM",
      "execution_count": 45,
      "outputs": [
        {
          "output_type": "execute_result",
          "data": {
            "text/plain": [
              "{'1000 0000': 3,\n",
              " '0101 0000': 6,\n",
              " '1001 0000': 7,\n",
              " '1111 0000': 5,\n",
              " '1100 0000': 10,\n",
              " '1010 0000': 3,\n",
              " '1110 0000': 8,\n",
              " '0001 0000': 7,\n",
              " '0111 0000': 7,\n",
              " '0110 0000': 4,\n",
              " '1101 0000': 13,\n",
              " '1011 0000': 5,\n",
              " '0100 0000': 6,\n",
              " '0000 0000': 6,\n",
              " '0010 0000': 6,\n",
              " '0011 0000': 4}"
            ]
          },
          "metadata": {},
          "execution_count": 45
        }
      ]
    },
    {
      "cell_type": "code",
      "source": [
        "from qiskit.visualization import plot_histogram\n",
        "\n",
        "# Visualize the results!\n",
        "plot_histogram(counts)"
      ],
      "metadata": {
        "colab": {
          "base_uri": "https://localhost:8080/",
          "height": 536
        },
        "id": "W1k-ysSPKRns",
        "outputId": "6a078529-15ac-41d6-c7c7-8f915a78b670"
      },
      "id": "W1k-ysSPKRns",
      "execution_count": 47,
      "outputs": [
        {
          "output_type": "execute_result",
          "data": {
            "text/plain": [
              "<Figure size 700x500 with 1 Axes>"
            ],
            "image/png": "[encoded data removed]"
          },
          "metadata": {},
          "execution_count": 47
        }
      ]
    },
    {
      "cell_type": "markdown",
      "id": "fa48dae1",
      "metadata": {
        "id": "fa48dae1"
      },
      "source": [
        "#### Let's interpret our results now. What does 1001 mean? Compare your results with our previous experiment. What's different and why?"
      ]
    },
    {
      "cell_type": "markdown",
      "source": [
        "Qiskit은 왼쪽에서 오른쪽으로 읽고\n",
        "1001(q3, q2, q1, q0)<br>\n",
        "8x1+4x0+2x0+1x1=9"
      ],
      "metadata": {
        "id": "sMwHoBuvKn5_"
      },
      "id": "sMwHoBuvKn5_"
    },
    {
      "cell_type": "markdown",
      "id": "91420916",
      "metadata": {
        "id": "91420916"
      },
      "source": [
        "### Entanglement\n",
        "\n",
        "Let's try another circuit now. This one will illustrate the quantum mechanical phenomenon known as *entanglement*, which was also introduced in Lecture 1. Loosely, entanglement enables qubits to interact with each other by supporting correlated states.\n",
        "\n",
        "Concretely, entanglement arises as follows. Consider two qubits, each represented by a copy of $\\mathbb{C}^2$. Then the state space for the combined two-qubit system is given by the *tensor product* $\\mathbb{C}^2 \\otimes \\mathbb{C}^2$. The computational basis is the *tensor product basis*\n",
        "$$|00\\rangle = |0\\rangle \\otimes |0\\rangle,$$\n",
        "$$|01\\rangle = |0\\rangle \\otimes |1\\rangle,$$\n",
        "$$|10\\rangle = |1\\rangle \\otimes |0\\rangle,$$\n",
        "and\n",
        "$$|11\\rangle = |1\\rangle \\otimes |1\\rangle.$$\n",
        "\n",
        "There is a subspace of *separable* or *product* states of the form\n",
        "$$|\\psi\\rangle = |\\psi_1\\rangle \\otimes |\\psi_2\\rangle,$$\n",
        "where each $|\\psi_i\\rangle$ is a *pure state*. For example, the state\n",
        "$$\n",
        "\\frac{1}{\\sqrt{2}}|01\\rangle + \\frac{1}{\\sqrt{2}}|11\\rangle\n",
        "= \\bigg(\\frac{1}{\\sqrt{2}}|0\\rangle + \\frac{1}{\\sqrt{2}}|1\\rangle\\bigg)\n",
        "\\otimes |1\\rangle\n",
        "$$\n",
        "is separable.\n",
        "\n",
        "States which are *not* separable are said to be *entangled*. For instance, the state\n",
        "$$|\\varphi\\rangle = \\frac{1}{\\sqrt{2}}|00\\rangle + \\frac{1}{\\sqrt{2}}|11\\rangle$$\n",
        "is entangled.\n",
        "\n",
        "##### See for yourself! Try to write $|\\varphi\\rangle$ as a product of single-qubit states.\n",
        "\n",
        "In particular, $|\\varphi\\rangle$ is maximally entangled: it is known as a Bell state.\n",
        "\n",
        "Let's prepare $|\\varphi\\rangle$ on a quantum computer."
      ]
    },
    {
      "cell_type": "code",
      "execution_count": 48,
      "id": "a3b9271a",
      "metadata": {
        "colab": {
          "base_uri": "https://localhost:8080/",
          "height": 125
        },
        "id": "a3b9271a",
        "outputId": "9494ee4f-fdc7-4474-d286-786e3a4fea43"
      },
      "outputs": [
        {
          "output_type": "execute_result",
          "data": {
            "text/plain": [
              "        ┌───┐     ┌─┐   \n",
              "q_0: |0>┤ H ├──■──┤M├───\n",
              "        └───┘┌─┴─┐└╥┘┌─┐\n",
              "q_1: |0>─────┤ X ├─╫─┤M├\n",
              "             └───┘ ║ └╥┘\n",
              " c: 0 2/═══════════╩══╩═\n",
              "                   0  1 "
            ],
            "text/html": [
              "<pre style=\"word-wrap: normal;white-space: pre;background: #fff0;line-height: 1.1;font-family: &quot;Courier New&quot;,Courier,monospace\">        ┌───┐     ┌─┐   \n",
              "q_0: |0>┤ H ├──■──┤M├───\n",
              "        └───┘┌─┴─┐└╥┘┌─┐\n",
              "q_1: |0>─────┤ X ├─╫─┤M├\n",
              "             └───┘ ║ └╥┘\n",
              " c: 0 2/═══════════╩══╩═\n",
              "                   0  1 </pre>"
            ]
          },
          "metadata": {},
          "execution_count": 48
        }
      ],
      "source": [
        "# Construct a quantum circuit with 2 qubits and 2 classical bit registers\n",
        "qc = QuantumCircuit(2, 2)\n",
        "\n",
        "# Add a Hadamard gate on the 0th qubit\n",
        "qc.h(0)\n",
        "\n",
        "# Add an entangling CNOT gate on the 0th and 1st qubits\n",
        "qc.cnot(0, 1)\n",
        "\n",
        "# Measure the output\n",
        "qc.measure([0, 1], [0, 1])\n",
        "\n",
        "# Draw the circuit\n",
        "qc.draw(initial_state=True)"
      ]
    },
    {
      "cell_type": "code",
      "execution_count": 49,
      "id": "3cd03252",
      "metadata": {
        "colab": {
          "base_uri": "https://localhost:8080/"
        },
        "id": "3cd03252",
        "outputId": "d0fbf504-45d1-4a13-bec4-0b29537590e2"
      },
      "outputs": [
        {
          "output_type": "execute_result",
          "data": {
            "text/plain": [
              "{'00': 56, '11': 44}"
            ]
          },
          "metadata": {},
          "execution_count": 49
        }
      ],
      "source": [
        "# Run the circuit over 100 shots\n",
        "result = simulator_backend.run(qc, shots=100).result()\n",
        "# result = harmony_backend.run(qc, shots=100).result()\n",
        "counts = result.get_counts()\n",
        "\n",
        "# Inspect the result\n",
        "counts"
      ]
    },
    {
      "cell_type": "code",
      "execution_count": 50,
      "id": "4da57c09",
      "metadata": {
        "colab": {
          "base_uri": "https://localhost:8080/",
          "height": 461
        },
        "id": "4da57c09",
        "outputId": "779c0bab-200c-49c8-a509-e225c9260116"
      },
      "outputs": [
        {
          "output_type": "execute_result",
          "data": {
            "text/plain": [
              "<Figure size 700x500 with 1 Axes>"
            ],
            "image/png": "[encoded data removed]"
          },
          "metadata": {},
          "execution_count": 50
        }
      ],
      "source": [
        "# Visualize the results!\n",
        "plot_histogram(counts)"
      ]
    },
    {
      "cell_type": "markdown",
      "id": "c886587b-29e0-49f9-8170-5c7b5c1720af",
      "metadata": {
        "id": "c886587b-29e0-49f9-8170-5c7b5c1720af"
      },
      "source": [
        "## Bonus: Quantum Half Adder\n",
        "\n",
        "Here we'll re-visit the classical half-adder. We will use quantum gates to construct an equivalent quantum circuit. In particular, we will use a combination of CNOT gates to reproduce the XOR logic. We will also need a Toffoli or CCNOT gate to mimic the AND logic."
      ]
    },
    {
      "cell_type": "code",
      "execution_count": null,
      "id": "42367427-a603-4a45-9048-c54bc077202c",
      "metadata": {
        "id": "42367427-a603-4a45-9048-c54bc077202c"
      },
      "outputs": [],
      "source": [
        "# Import the Qiskit development framework\n",
        "from qiskit import QuantumCircuit\n",
        "\n",
        "# Set up a quantum circuit with 4 qubits and 2 classical bit register\n",
        "qc = QuantumCircuit(2 + 2, 2)\n",
        "\n",
        "# Change the initial state to 11\n",
        "qc.x(0)\n",
        "qc.x(1)\n",
        "qc.barrier()\n",
        "\n",
        "# Use CNOT gates to write the XOR of the inputs on qubit 2\n",
        "\n",
        "#####################\n",
        "### Fill this in! ###\n",
        "#####################\n",
        "\n",
        "# Add a missing gate here! Hint: check out the Toffoli or CCNOT gate\n",
        "\n",
        "#####################\n",
        "### Fill this in! ###\n",
        "#####################\n",
        "\n",
        "# Measure relevant qubits into classical registers\n",
        "qc.barrier()\n",
        "qc.measure(2, 0) # extract XOR value\n",
        "qc.measure(3, 1) # extract AND value\n",
        "\n",
        "# Visualize the quantum circuit\n",
        "qc.draw(initial_state=True, output='mpl')"
      ]
    },
    {
      "cell_type": "markdown",
      "id": "ca0f094b-1b82-40a1-9441-4443d5d3db65",
      "metadata": {
        "id": "ca0f094b-1b82-40a1-9441-4443d5d3db65"
      },
      "source": [
        "## Bonus: Re-writing your circuit using only one- and two-qubit gates\n",
        "\n",
        "Now we re-visit the question of universality and the (limited) collection of gates that can actually be implemented on quantum hardware. Recall that in our discussion of classical circuits we noted that the NAND gate is universal for classical computation, and in fact, it is the only gate that is available on most modern chips.\n",
        "\n",
        "In the quantum case, only one- and two-qubit gates are available natively on quantum processors. Thus we must decompose three- and higher-qubit gates into sequences of two-qubit gates. For this exercise, do some research online and construct a sequence of two-qubit gates that implements the Toffoli gate."
      ]
    },
    {
      "cell_type": "code",
      "execution_count": null,
      "id": "06dd4a14-f646-4a54-ad94-8c6d77dd9a51",
      "metadata": {
        "id": "06dd4a14-f646-4a54-ad94-8c6d77dd9a51",
        "outputId": "7871bea3-4270-4698-cfae-18aad45845ae"
      },
      "outputs": [
        {
          "data": {
            "text/html": [
              "<pre style=\"word-wrap: normal;white-space: pre;background: #fff0;line-height: 1.1;font-family: &quot;Courier New&quot;,Courier,monospace\">          \n",
              "q_0: ──■──\n",
              "       │  \n",
              "q_1: ──■──\n",
              "     ┌─┴─┐\n",
              "q_2: ┤ X ├\n",
              "     └───┘</pre>"
            ],
            "text/plain": [
              "          \n",
              "q_0: ──■──\n",
              "       │  \n",
              "q_1: ──■──\n",
              "     ┌─┴─┐\n",
              "q_2: ┤ X ├\n",
              "     └───┘"
            ]
          },
          "execution_count": 1,
          "metadata": {},
          "output_type": "execute_result"
        }
      ],
      "source": [
        "# Import the QuantumCircuit class\n",
        "from qiskit import QuantumCircuit\n",
        "\n",
        "# A quantum circuit with 3 qubits\n",
        "qc = QuantumCircuit(3)\n",
        "qc.ccx(0, 1, 2)\n",
        "qc.draw()"
      ]
    },
    {
      "cell_type": "code",
      "execution_count": null,
      "id": "1a2f4bec-6998-4c64-a197-1758bc579b25",
      "metadata": {
        "id": "1a2f4bec-6998-4c64-a197-1758bc579b25"
      },
      "outputs": [],
      "source": [
        "# Now it's your turn! Implement the qc above using only two-qubit gates\n",
        "# Use the least number of gates you can!\n",
        "\n",
        "#####################\n",
        "### Fill this in! ###\n",
        "#####################\n"
      ]
    }
  ],
  "metadata": {
    "kernelspec": {
      "display_name": "Python 3 (ipykernel)",
      "language": "python",
      "name": "python3"
    },
    "language_info": {
      "codemirror_mode": {
        "name": "ipython",
        "version": 3
      },
      "file_extension": ".py",
      "mimetype": "text/x-python",
      "name": "python",
      "nbconvert_exporter": "python",
      "pygments_lexer": "ipython3",
      "version": "3.11.4"
    },
    "colab": {
      "provenance": [],
      "include_colab_link": true
    }
  },
  "nbformat": 4,
  "nbformat_minor": 5
}