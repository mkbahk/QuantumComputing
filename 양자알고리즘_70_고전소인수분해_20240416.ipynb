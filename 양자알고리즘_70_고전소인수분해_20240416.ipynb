{
  "nbformat": 4,
  "nbformat_minor": 0,
  "metadata": {
    "colab": {
      "provenance": [],
      "authorship_tag": "ABX9TyPZRrUxX3wmdKbWm6rkp3c/",
      "include_colab_link": true
    },
    "kernelspec": {
      "name": "python3",
      "display_name": "Python 3"
    },
    "language_info": {
      "name": "python"
    }
  },
  "cells": [
    {
      "cell_type": "markdown",
      "metadata": {
        "id": "view-in-github",
        "colab_type": "text"
      },
      "source": [
        "<a href=\"https://colab.research.google.com/github/mkbahk/QuantumComputing/blob/main/%EC%96%91%EC%9E%90%EC%95%8C%EA%B3%A0%EB%A6%AC%EC%A6%98_70_%EA%B3%A0%EC%A0%84%EC%86%8C%EC%9D%B8%EC%88%98%EB%B6%84%ED%95%B4_20240416.ipynb\" target=\"_parent\"><img src=\"https://colab.research.google.com/assets/colab-badge.svg\" alt=\"Open In Colab\"/></a>"
      ]
    },
    {
      "cell_type": "code",
      "execution_count": 1,
      "metadata": {
        "id": "Hv07N49Kko87"
      },
      "outputs": [],
      "source": [
        "def addFactor(factors, f):\n",
        "    if (f not in factors):\n",
        "        factors[f] = 1\n",
        "    else:\n",
        "        factors[f] += 1\n",
        "    ###if\n",
        "###def"
      ]
    },
    {
      "cell_type": "code",
      "source": [
        "import math\n",
        "\n",
        "def factorize1(n):\n",
        "    factors = {}\n",
        "    sqrtn = math.floor(math.sqrt(n))\n",
        "    for i in range(2, sqrtn + 1):\n",
        "        while (n % i == 0):\n",
        "            addFactor(factors, i)\n",
        "            n = n // i\n",
        "        ###while\n",
        "    ###for\n",
        "\n",
        "    if (n > 1):\n",
        "        addFactor(factors, n)\n",
        "    ###if\n",
        "\n",
        "    return factors\n",
        "###def"
      ],
      "metadata": {
        "id": "kx1mMSakl9_W"
      },
      "execution_count": 2,
      "outputs": []
    },
    {
      "cell_type": "code",
      "source": [
        "n = 12\n",
        "print(n, \":\", factorize1(n))"
      ],
      "metadata": {
        "colab": {
          "base_uri": "https://localhost:8080/"
        },
        "id": "N5VxVYfmmNFp",
        "outputId": "91c8e704-ed7e-4e38-8e1d-27bdc660ff03"
      },
      "execution_count": 3,
      "outputs": [
        {
          "output_type": "stream",
          "name": "stdout",
          "text": [
            "12 : {2: 2, 3: 1}\n"
          ]
        }
      ]
    },
    {
      "cell_type": "code",
      "source": [
        "for i in range(2, 33):\n",
        "    n = (2 ** i) - 1\n",
        "    print(i, n, \":\", factorize1(n))\n",
        "###for"
      ],
      "metadata": {
        "colab": {
          "base_uri": "https://localhost:8080/"
        },
        "id": "UChBH2zGmVyC",
        "outputId": "f7d85653-bb08-46ca-8492-7657c63fbfae"
      },
      "execution_count": 4,
      "outputs": [
        {
          "output_type": "stream",
          "name": "stdout",
          "text": [
            "2 3 : {3: 1}\n",
            "3 7 : {7: 1}\n",
            "4 15 : {3: 1, 5: 1}\n",
            "5 31 : {31: 1}\n",
            "6 63 : {3: 2, 7: 1}\n",
            "7 127 : {127: 1}\n",
            "8 255 : {3: 1, 5: 1, 17: 1}\n",
            "9 511 : {7: 1, 73: 1}\n",
            "10 1023 : {3: 1, 11: 1, 31: 1}\n",
            "11 2047 : {23: 1, 89: 1}\n",
            "12 4095 : {3: 2, 5: 1, 7: 1, 13: 1}\n",
            "13 8191 : {8191: 1}\n",
            "14 16383 : {3: 1, 43: 1, 127: 1}\n",
            "15 32767 : {7: 1, 31: 1, 151: 1}\n",
            "16 65535 : {3: 1, 5: 1, 17: 1, 257: 1}\n",
            "17 131071 : {131071: 1}\n",
            "18 262143 : {3: 3, 7: 1, 19: 1, 73: 1}\n",
            "19 524287 : {524287: 1}\n",
            "20 1048575 : {3: 1, 5: 2, 11: 1, 31: 1, 41: 1}\n",
            "21 2097151 : {7: 2, 127: 1, 337: 1}\n",
            "22 4194303 : {3: 1, 23: 1, 89: 1, 683: 1}\n",
            "23 8388607 : {47: 1, 178481: 1}\n",
            "24 16777215 : {3: 2, 5: 1, 7: 1, 13: 1, 17: 1, 241: 1}\n",
            "25 33554431 : {31: 1, 601: 1, 1801: 1}\n",
            "26 67108863 : {3: 1, 2731: 1, 8191: 1}\n",
            "27 134217727 : {7: 1, 73: 1, 262657: 1}\n",
            "28 268435455 : {3: 1, 5: 1, 29: 1, 43: 1, 113: 1, 127: 1}\n",
            "29 536870911 : {233: 1, 1103: 1, 2089: 1}\n",
            "30 1073741823 : {3: 2, 7: 1, 11: 1, 31: 1, 151: 1, 331: 1}\n",
            "31 2147483647 : {2147483647: 1}\n",
            "32 4294967295 : {3: 1, 5: 1, 17: 1, 257: 1, 65537: 1}\n"
          ]
        }
      ]
    },
    {
      "cell_type": "code",
      "source": [
        "import time\n",
        "\n",
        "start = time.time()\n",
        "n = (2 ** 64) - 1\n",
        "print(n, \":\", factorize1(n))\n",
        "end = time.time()\n",
        "print(\"실행시간:\", (end - start)/60, \"분\")"
      ],
      "metadata": {
        "colab": {
          "base_uri": "https://localhost:8080/"
        },
        "id": "WxKy91ctmn10",
        "outputId": "e7e9c259-da85-4399-dda3-141f8949eb28"
      },
      "execution_count": 6,
      "outputs": [
        {
          "output_type": "stream",
          "name": "stdout",
          "text": [
            "1023 : {3: 1, 11: 1, 31: 1}\n",
            "실행시간: 4.320144653320312e-05 분\n"
          ]
        }
      ]
    },
    {
      "cell_type": "code",
      "source": [
        "import time\n",
        "\n",
        "start = time.time()\n",
        "n = (2 ** 18) - 1\n",
        "for i in range(2, n + 1):\n",
        "    factorize1(i)\n",
        "###for\n",
        "end = time.time()\n",
        "print(\"실행시간:\", (end - start)/60, \"분\")"
      ],
      "metadata": {
        "colab": {
          "base_uri": "https://localhost:8080/"
        },
        "id": "ZiB4C_Zdm7Jv",
        "outputId": "43430f77-afc3-4f18-e29e-d02251e69331"
      },
      "execution_count": 7,
      "outputs": [
        {
          "output_type": "stream",
          "name": "stdout",
          "text": [
            "실행시간: 0.12560952107111614 분\n"
          ]
        }
      ]
    },
    {
      "cell_type": "code",
      "source": [
        "import math\n",
        "\n",
        "def isPrime(n):\n",
        "    sqrtn = math.floor(math.sqrt(n))\n",
        "    for i in range(2, sqrtn + 1):\n",
        "        if (n % i == 0):\n",
        "            return False\n",
        "        ###if\n",
        "    ###for\n",
        "    return True\n",
        "###def\n",
        "\n",
        "def findPrimes(n):\n",
        "    primes = []\n",
        "    for i in range(2, n + 1):\n",
        "        if (isPrime(i)):\n",
        "            primes.append(i)\n",
        "        ###if\n",
        "    ###for\n",
        "    return primes\n",
        "###def"
      ],
      "metadata": {
        "id": "S09CQ85etcIW"
      },
      "execution_count": 9,
      "outputs": []
    },
    {
      "cell_type": "code",
      "source": [
        "n = 100\n",
        "primes = findPrimes(n)\n",
        "print(primes)\n",
        "print(len(primes))"
      ],
      "metadata": {
        "colab": {
          "base_uri": "https://localhost:8080/"
        },
        "id": "LEYYkTektwnm",
        "outputId": "92ceb097-756b-4156-e856-b135bc8c182d"
      },
      "execution_count": 10,
      "outputs": [
        {
          "output_type": "stream",
          "name": "stdout",
          "text": [
            "[2, 3, 5, 7, 11, 13, 17, 19, 23, 29, 31, 37, 41, 43, 47, 53, 59, 61, 67, 71, 73, 79, 83, 89, 97]\n",
            "25\n"
          ]
        }
      ]
    },
    {
      "cell_type": "code",
      "source": [
        "import time\n",
        "start = time.time()\n",
        "n = (2 ** 21) - 1\n",
        "print(n, \":\", len(findPrimes(n)))\n",
        "end = time.time()\n",
        "print(\"실행시간:\", (end - start)/60, \"분\")"
      ],
      "metadata": {
        "colab": {
          "base_uri": "https://localhost:8080/"
        },
        "id": "CIARso3yt4Tn",
        "outputId": "5313d4d7-1b28-4c62-b330-d512b4583180"
      },
      "execution_count": 17,
      "outputs": [
        {
          "output_type": "stream",
          "name": "stdout",
          "text": [
            "2097151 : 155611\n",
            "실행시간: 0.2791562636693319 분\n"
          ]
        }
      ]
    },
    {
      "cell_type": "markdown",
      "source": [
        "# **에라토스테니스의 체와 그 확장 알고리즘**"
      ],
      "metadata": {
        "id": "uNZU8nN6uBB-"
      }
    },
    {
      "cell_type": "code",
      "source": [
        "import math\n",
        "\n",
        "def sieve(n):\n",
        "    flags = [0, 0] + [1] * (n - 1)\n",
        "    sqrtn = math.floor(math.sqrt(n))\n",
        "    for i in range(2, sqrtn + 1):\n",
        "        if (flags[i] == 1):\n",
        "            for j in range(i * i, n + 1, i):\n",
        "                flags[j] = 0\n",
        "            ###for\n",
        "        ###if\n",
        "    ###for\n",
        "\n",
        "    primes = []\n",
        "    for i in range(len(flags)):\n",
        "        if (flags[i] == 1):\n",
        "            primes.append(i)\n",
        "        ###if\n",
        "    ###for\n",
        "\n",
        "    return primes\n",
        "###def\n",
        "\n",
        "def segemented(n):\n",
        "    sqrtn = math.floor(math.sqrt(n))\n",
        "    seeds = sieve(sqrtn)\n",
        "    primes = []\n",
        "    low = sqrtn\n",
        "    high = 2 * sqrtn - 1\n",
        "    while (low <= n):\n",
        "        if (high > n):\n",
        "            high = n\n",
        "        ###if\n",
        "\n",
        "        flags = [1] * sqrtn\n",
        "\n",
        "        for i in range(len(seeds)):\n",
        "            start = (low // seeds[i]) * seeds[i]\n",
        "            if (start < low):\n",
        "                start += seeds[i]\n",
        "            ###if\n",
        "            for j in range(start, high + 1, seeds[i]):\n",
        "                flags[j - low] = 0\n",
        "            ###for\n",
        "        ###for\n",
        "    ###while\n",
        "\n",
        "        for i in range(low, high + 1):\n",
        "            if (flags[i - low] == 1):\n",
        "                primes.append(i)\n",
        "            ###if\n",
        "        ###for\n",
        "\n",
        "        low += sqrtn\n",
        "        high += sqrtn\n",
        "    return seeds + primes\n",
        "###def"
      ],
      "metadata": {
        "id": "JaFrBEmhuIts"
      },
      "execution_count": 12,
      "outputs": []
    },
    {
      "cell_type": "code",
      "source": [
        "n = 100\n",
        "primes = sieve(n)\n",
        "print(primes)\n",
        "print(len(primes))"
      ],
      "metadata": {
        "colab": {
          "base_uri": "https://localhost:8080/"
        },
        "id": "ANIdcyJfEfGd",
        "outputId": "2ee0b2fb-cef2-45d1-f283-042355de73ff"
      },
      "execution_count": 13,
      "outputs": [
        {
          "output_type": "stream",
          "name": "stdout",
          "text": [
            "[2, 3, 5, 7, 11, 13, 17, 19, 23, 29, 31, 37, 41, 43, 47, 53, 59, 61, 67, 71, 73, 79, 83, 89, 97]\n",
            "25\n"
          ]
        }
      ]
    },
    {
      "cell_type": "code",
      "source": [
        "import time\n",
        "start = time.time()\n",
        "n = (2 ** 21) - 1\n",
        "print(n, \":\", len(sieve(n)))\n",
        "end = time.time()\n",
        "print(\"실행시간:\", (end - start)/60, \"분\")"
      ],
      "metadata": {
        "colab": {
          "base_uri": "https://localhost:8080/"
        },
        "id": "ehTtadQREkDT",
        "outputId": "91c1094e-22d4-43b1-fba9-441816d8a0e3"
      },
      "execution_count": 14,
      "outputs": [
        {
          "output_type": "stream",
          "name": "stdout",
          "text": [
            "2097151 : 155611\n",
            "실행시간: 0.009351428349812825 분\n"
          ]
        }
      ]
    },
    {
      "cell_type": "code",
      "source": [
        "n = 100\n",
        "primes = segemented(n)\n",
        "print(primes)\n",
        "print(len(primes))"
      ],
      "metadata": {
        "colab": {
          "base_uri": "https://localhost:8080/"
        },
        "id": "mutozBBkEsCL",
        "outputId": "514ad2d8-6536-4053-c15c-dd8110bdf274"
      },
      "execution_count": 15,
      "outputs": [
        {
          "output_type": "stream",
          "name": "stdout",
          "text": [
            "[2, 3, 5, 7, 11, 13, 17, 19, 23, 29, 31, 37, 41, 43, 47, 53, 59, 61, 67, 71, 73, 79, 83, 89, 97]\n",
            "25\n"
          ]
        }
      ]
    },
    {
      "cell_type": "code",
      "source": [
        "import time\n",
        "start = time.time()\n",
        "n = (2 ** 21) - 1\n",
        "print(n, \":\", len(segemented(n)))\n",
        "end = time.time()\n",
        "print(\"실행시간:\", (end - start)/60, \"분\")"
      ],
      "metadata": {
        "colab": {
          "base_uri": "https://localhost:8080/"
        },
        "id": "Fe1UiBh0EzsV",
        "outputId": "ec19b517-4481-4aec-bf7e-c95ba04bf63f"
      },
      "execution_count": 18,
      "outputs": [
        {
          "output_type": "stream",
          "name": "stdout",
          "text": [
            "2097151 : 155611\n",
            "실행시간: 0.025772611300150555 분\n"
          ]
        }
      ]
    },
    {
      "cell_type": "code",
      "source": [
        "import math\n",
        "\n",
        "def sieve2(n):\n",
        "    mpf = [0, 0] + [i for i in range(2, n + 1)]\n",
        "    sqrtn = math.floor(math.sqrt(n))\n",
        "    for i in range(2, sqrtn + 1):\n",
        "        if (mpf[i] == i):\n",
        "            for j in range(i * i, n + 1, i):\n",
        "                if (mpf[j] == j):\n",
        "                    mpf[j] = i\n",
        "                ###if\n",
        "            ###for\n",
        "        ###if\n",
        "    ###for\n",
        "    return mpf\n",
        "###def\n",
        "\n",
        "def addFactor(factors, f):\n",
        "    if (f not in factors):\n",
        "        factors[f] = 1\n",
        "    else:\n",
        "        factors[f] += 1\n",
        "    ###if\n",
        "###def\n",
        "\n",
        "def getMPF(n, mpf):\n",
        "    if (n in mpf):\n",
        "        return mpf[n]\n",
        "    else:\n",
        "        sqrtn = math.floor(math.sqrt(n))\n",
        "        for i in range(2, sqrtn + 1):\n",
        "            if (n % i == 0):\n",
        "                mpf[n] = i\n",
        "                return i\n",
        "            ###if\n",
        "        ###for\n",
        "        mpf[n] = n\n",
        "    ###if\n",
        "        return n\n",
        "###def\n",
        "\n",
        "def factor2(n):\n",
        "    # mpf: minimum prime factor\n",
        "    mpf = {}\n",
        "    factors = {}\n",
        "    while (n > 1):\n",
        "        mpfn = getMPF(n, mpf)\n",
        "        addFactor(factors, mpfn)\n",
        "        n = n // mpfn\n",
        "    ###def\n",
        "    return factors\n",
        "###def\n",
        "\n",
        "def factorize2(n, mpf):\n",
        "    factors = {}\n",
        "    while (n > 1):\n",
        "        addFactor(factors, mpf[n])\n",
        "        n = n // mpf[n]\n",
        "    ###while\n",
        "\n",
        "    return factors\n",
        "###def"
      ],
      "metadata": {
        "id": "9KguYHCqFUz0"
      },
      "execution_count": 20,
      "outputs": []
    },
    {
      "cell_type": "code",
      "source": [
        "n = 360\n",
        "print(factor2(n))\n",
        "\n",
        "for i in range(2, 33):\n",
        "    n = (2 ** i) - 1\n",
        "    print(i, n, \":\", factor2(n))\n",
        "###for"
      ],
      "metadata": {
        "colab": {
          "base_uri": "https://localhost:8080/"
        },
        "id": "ReNtPHsSUFg5",
        "outputId": "e5dbe75f-7aee-476d-f3c8-99ea8b3b45dc"
      },
      "execution_count": 21,
      "outputs": [
        {
          "output_type": "stream",
          "name": "stdout",
          "text": [
            "{2: 3, 3: 2, 5: 1}\n",
            "2 3 : {3: 1}\n",
            "3 7 : {7: 1}\n",
            "4 15 : {3: 1, 5: 1}\n",
            "5 31 : {31: 1}\n",
            "6 63 : {3: 2, 7: 1}\n",
            "7 127 : {127: 1}\n",
            "8 255 : {3: 1, 5: 1, 17: 1}\n",
            "9 511 : {7: 1, 73: 1}\n",
            "10 1023 : {3: 1, 11: 1, 31: 1}\n",
            "11 2047 : {23: 1, 89: 1}\n",
            "12 4095 : {3: 2, 5: 1, 7: 1, 13: 1}\n",
            "13 8191 : {8191: 1}\n",
            "14 16383 : {3: 1, 43: 1, 127: 1}\n",
            "15 32767 : {7: 1, 31: 1, 151: 1}\n",
            "16 65535 : {3: 1, 5: 1, 17: 1, 257: 1}\n",
            "17 131071 : {131071: 1}\n",
            "18 262143 : {3: 3, 7: 1, 19: 1, 73: 1}\n",
            "19 524287 : {524287: 1}\n",
            "20 1048575 : {3: 1, 5: 2, 11: 1, 31: 1, 41: 1}\n",
            "21 2097151 : {7: 2, 127: 1, 337: 1}\n",
            "22 4194303 : {3: 1, 23: 1, 89: 1, 683: 1}\n",
            "23 8388607 : {47: 1, 178481: 1}\n",
            "24 16777215 : {3: 2, 5: 1, 7: 1, 13: 1, 17: 1, 241: 1}\n",
            "25 33554431 : {31: 1, 601: 1, 1801: 1}\n",
            "26 67108863 : {3: 1, 2731: 1, 8191: 1}\n",
            "27 134217727 : {7: 1, 73: 1, 262657: 1}\n",
            "28 268435455 : {3: 1, 5: 1, 29: 1, 43: 1, 113: 1, 127: 1}\n",
            "29 536870911 : {233: 1, 1103: 1, 2089: 1}\n",
            "30 1073741823 : {3: 2, 7: 1, 11: 1, 31: 1, 151: 1, 331: 1}\n",
            "31 2147483647 : {2147483647: 1}\n",
            "32 4294967295 : {3: 1, 5: 1, 17: 1, 257: 1, 65537: 1}\n"
          ]
        }
      ]
    },
    {
      "cell_type": "code",
      "source": [
        "import time\n",
        "start = time.time()\n",
        "n = (2 ** 18) - 1\n",
        "\n",
        "for i in range(2, n + 1):\n",
        "    factor2(i)\n",
        "###for\n",
        "end = time.time()\n",
        "\n",
        "print(\"실행시간:\", (end - start))"
      ],
      "metadata": {
        "colab": {
          "base_uri": "https://localhost:8080/"
        },
        "id": "mGjpqm4wUgYC",
        "outputId": "0ba7b405-6d18-49c1-c83b-6d8e058a1264"
      },
      "execution_count": 24,
      "outputs": [
        {
          "output_type": "stream",
          "name": "stdout",
          "text": [
            "실행시간: 2.7951948642730713\n"
          ]
        }
      ]
    },
    {
      "cell_type": "code",
      "source": [
        "import time\n",
        "start = time.time()\n",
        "n = (2 ** 18) - 1\n",
        "mpf = sieve2(n)\n",
        "end = time.time()\n",
        "print(\"실행시간:\", (end - start))"
      ],
      "metadata": {
        "colab": {
          "base_uri": "https://localhost:8080/"
        },
        "id": "6SvOUoW3UoVv",
        "outputId": "7ddcf69d-c79a-4854-da78-32978dde3c57"
      },
      "execution_count": 25,
      "outputs": [
        {
          "output_type": "stream",
          "name": "stdout",
          "text": [
            "실행시간: 0.08883261680603027\n"
          ]
        }
      ]
    },
    {
      "cell_type": "code",
      "source": [
        "import time\n",
        "\n",
        "start = time.time()\n",
        "n = (2 ** 18) - 1\n",
        "mpf = sieve2(n)\n",
        "for i in range(2, n + 1):\n",
        "    factorize2(i, mpf)\n",
        "###for\n",
        "end = time.time()\n",
        "print(\"실행시간:\", (end - start))\n"
      ],
      "metadata": {
        "colab": {
          "base_uri": "https://localhost:8080/"
        },
        "id": "vSuPxCrJVVd5",
        "outputId": "4363851f-cd97-416f-b932-9046ae8778b0"
      },
      "execution_count": 26,
      "outputs": [
        {
          "output_type": "stream",
          "name": "stdout",
          "text": [
            "실행시간: 0.44592976570129395\n"
          ]
        }
      ]
    },
    {
      "cell_type": "markdown",
      "source": [
        "# **Python code로 구현한 Shor 알고리즘**"
      ],
      "metadata": {
        "id": "QvR1y-_BhN7J"
      }
    },
    {
      "cell_type": "code",
      "source": [
        "import random\n",
        "import math\n",
        "\n",
        "def findPeriod(N, a):\n",
        "    for x in range(1, N):\n",
        "        if ((a ** x) % N == 1):\n",
        "            return x\n",
        "        ###if\n",
        "    ###for\n",
        "    return -1\n",
        "###def\n",
        "\n",
        "def factor3(N):\n",
        "    while(True):\n",
        "        a = random.randint(2, N - 1)\n",
        "        gcd = math.gcd(N, a)\n",
        "        if (gcd != 1):\n",
        "            return gcd, N // gcd\n",
        "        ###if\n",
        "\n",
        "        r = findPeriod(N, a)\n",
        "        if (r % 2 != 0):\n",
        "            continue\n",
        "        ###if\n",
        "\n",
        "        gcd1 = math.gcd(N, a**(r//2) + 1)\n",
        "        gcd2 = math.gcd(N, a**(r//2) - 1)\n",
        "        if (gcd1 == 1 or gcd2 == 1):\n",
        "            continue\n",
        "        ###if\n",
        "    ###while\n",
        "        return gcd1, gcd2\n",
        "###def"
      ],
      "metadata": {
        "id": "9ZCOkCUkVVSB"
      },
      "execution_count": 27,
      "outputs": []
    },
    {
      "cell_type": "code",
      "source": [
        "N = 3 * 5\n",
        "p, q = factor3(N)\n",
        "print(N, '=', p, '*', q)\n"
      ],
      "metadata": {
        "colab": {
          "base_uri": "https://localhost:8080/"
        },
        "id": "pKmki1m-hz3X",
        "outputId": "2a0d9098-66c8-4394-c216-8806522639f5"
      },
      "execution_count": 28,
      "outputs": [
        {
          "output_type": "stream",
          "name": "stdout",
          "text": [
            "15 = 3 * 5\n"
          ]
        }
      ]
    },
    {
      "cell_type": "code",
      "source": [
        "import time\n",
        "start = time.time()\n",
        "N = 991 * 997\n",
        "p, q = factor3(N)\n",
        "print(N, '=', p, '*', q)\n",
        "end = time.time()\n",
        "print(\"실행시간:\", (end - start))"
      ],
      "metadata": {
        "colab": {
          "base_uri": "https://localhost:8080/",
          "height": 370
        },
        "id": "i-t12Cc0h4ID",
        "outputId": "1d0ca6e9-6ed4-42d4-bb0b-7dadaa886dbd"
      },
      "execution_count": 29,
      "outputs": [
        {
          "output_type": "error",
          "ename": "KeyboardInterrupt",
          "evalue": "",
          "traceback": [
            "\u001b[0;31m---------------------------------------------------------------------------\u001b[0m",
            "\u001b[0;31mKeyboardInterrupt\u001b[0m                         Traceback (most recent call last)",
            "\u001b[0;32m<ipython-input-29-36bb9ec1b23e>\u001b[0m in \u001b[0;36m<cell line: 4>\u001b[0;34m()\u001b[0m\n\u001b[1;32m      2\u001b[0m \u001b[0mstart\u001b[0m \u001b[0;34m=\u001b[0m \u001b[0mtime\u001b[0m\u001b[0;34m.\u001b[0m\u001b[0mtime\u001b[0m\u001b[0;34m(\u001b[0m\u001b[0;34m)\u001b[0m\u001b[0;34m\u001b[0m\u001b[0;34m\u001b[0m\u001b[0m\n\u001b[1;32m      3\u001b[0m \u001b[0mN\u001b[0m \u001b[0;34m=\u001b[0m \u001b[0;36m991\u001b[0m \u001b[0;34m*\u001b[0m \u001b[0;36m997\u001b[0m\u001b[0;34m\u001b[0m\u001b[0;34m\u001b[0m\u001b[0m\n\u001b[0;32m----> 4\u001b[0;31m \u001b[0mp\u001b[0m\u001b[0;34m,\u001b[0m \u001b[0mq\u001b[0m \u001b[0;34m=\u001b[0m \u001b[0mfactor3\u001b[0m\u001b[0;34m(\u001b[0m\u001b[0mN\u001b[0m\u001b[0;34m)\u001b[0m\u001b[0;34m\u001b[0m\u001b[0;34m\u001b[0m\u001b[0m\n\u001b[0m\u001b[1;32m      5\u001b[0m \u001b[0mprint\u001b[0m\u001b[0;34m(\u001b[0m\u001b[0mN\u001b[0m\u001b[0;34m,\u001b[0m \u001b[0;34m'='\u001b[0m\u001b[0;34m,\u001b[0m \u001b[0mp\u001b[0m\u001b[0;34m,\u001b[0m \u001b[0;34m'*'\u001b[0m\u001b[0;34m,\u001b[0m \u001b[0mq\u001b[0m\u001b[0;34m)\u001b[0m\u001b[0;34m\u001b[0m\u001b[0;34m\u001b[0m\u001b[0m\n\u001b[1;32m      6\u001b[0m \u001b[0mend\u001b[0m \u001b[0;34m=\u001b[0m \u001b[0mtime\u001b[0m\u001b[0;34m.\u001b[0m\u001b[0mtime\u001b[0m\u001b[0;34m(\u001b[0m\u001b[0;34m)\u001b[0m\u001b[0;34m\u001b[0m\u001b[0;34m\u001b[0m\u001b[0m\n",
            "\u001b[0;32m<ipython-input-27-265f45252318>\u001b[0m in \u001b[0;36mfactor3\u001b[0;34m(N)\u001b[0m\n\u001b[1;32m     19\u001b[0m         \u001b[0;31m###if\u001b[0m\u001b[0;34m\u001b[0m\u001b[0;34m\u001b[0m\u001b[0m\n\u001b[1;32m     20\u001b[0m \u001b[0;34m\u001b[0m\u001b[0m\n\u001b[0;32m---> 21\u001b[0;31m         \u001b[0mr\u001b[0m \u001b[0;34m=\u001b[0m \u001b[0mfindPeriod\u001b[0m\u001b[0;34m(\u001b[0m\u001b[0mN\u001b[0m\u001b[0;34m,\u001b[0m \u001b[0ma\u001b[0m\u001b[0;34m)\u001b[0m\u001b[0;34m\u001b[0m\u001b[0;34m\u001b[0m\u001b[0m\n\u001b[0m\u001b[1;32m     22\u001b[0m         \u001b[0;32mif\u001b[0m \u001b[0;34m(\u001b[0m\u001b[0mr\u001b[0m \u001b[0;34m%\u001b[0m \u001b[0;36m2\u001b[0m \u001b[0;34m!=\u001b[0m \u001b[0;36m0\u001b[0m\u001b[0;34m)\u001b[0m\u001b[0;34m:\u001b[0m\u001b[0;34m\u001b[0m\u001b[0;34m\u001b[0m\u001b[0m\n\u001b[1;32m     23\u001b[0m             \u001b[0;32mcontinue\u001b[0m\u001b[0;34m\u001b[0m\u001b[0;34m\u001b[0m\u001b[0m\n",
            "\u001b[0;32m<ipython-input-27-265f45252318>\u001b[0m in \u001b[0;36mfindPeriod\u001b[0;34m(N, a)\u001b[0m\n\u001b[1;32m      4\u001b[0m \u001b[0;32mdef\u001b[0m \u001b[0mfindPeriod\u001b[0m\u001b[0;34m(\u001b[0m\u001b[0mN\u001b[0m\u001b[0;34m,\u001b[0m \u001b[0ma\u001b[0m\u001b[0;34m)\u001b[0m\u001b[0;34m:\u001b[0m\u001b[0;34m\u001b[0m\u001b[0;34m\u001b[0m\u001b[0m\n\u001b[1;32m      5\u001b[0m     \u001b[0;32mfor\u001b[0m \u001b[0mx\u001b[0m \u001b[0;32min\u001b[0m \u001b[0mrange\u001b[0m\u001b[0;34m(\u001b[0m\u001b[0;36m1\u001b[0m\u001b[0;34m,\u001b[0m \u001b[0mN\u001b[0m\u001b[0;34m)\u001b[0m\u001b[0;34m:\u001b[0m\u001b[0;34m\u001b[0m\u001b[0;34m\u001b[0m\u001b[0m\n\u001b[0;32m----> 6\u001b[0;31m         \u001b[0;32mif\u001b[0m \u001b[0;34m(\u001b[0m\u001b[0;34m(\u001b[0m\u001b[0ma\u001b[0m \u001b[0;34m**\u001b[0m \u001b[0mx\u001b[0m\u001b[0;34m)\u001b[0m \u001b[0;34m%\u001b[0m \u001b[0mN\u001b[0m \u001b[0;34m==\u001b[0m \u001b[0;36m1\u001b[0m\u001b[0;34m)\u001b[0m\u001b[0;34m:\u001b[0m\u001b[0;34m\u001b[0m\u001b[0;34m\u001b[0m\u001b[0m\n\u001b[0m\u001b[1;32m      7\u001b[0m             \u001b[0;32mreturn\u001b[0m \u001b[0mx\u001b[0m\u001b[0;34m\u001b[0m\u001b[0;34m\u001b[0m\u001b[0m\n\u001b[1;32m      8\u001b[0m         \u001b[0;31m###if\u001b[0m\u001b[0;34m\u001b[0m\u001b[0;34m\u001b[0m\u001b[0m\n",
            "\u001b[0;31mKeyboardInterrupt\u001b[0m: "
          ]
        }
      ]
    },
    {
      "cell_type": "markdown",
      "source": [
        "# **Shor 알고리즘 개선안**"
      ],
      "metadata": {
        "id": "a6T-IjBRh-Vr"
      }
    },
    {
      "cell_type": "code",
      "source": [
        "import random\n",
        "import math\n",
        "\n",
        "def mod_pow(a, x, N):\n",
        "    y = 1\n",
        "    while (x > 0):\n",
        "        if ((x & 1) == 1):\n",
        "            y = (y * a) % N\n",
        "        ###if\n",
        "        x = x >> 1\n",
        "        a = (a * a) % N\n",
        "    ###while\n",
        "    return y\n",
        "###def\n",
        "\n",
        "def findPeriodByModPow(N, a):\n",
        "    for x in range(1, N):\n",
        "        if (mod_pow(a, x, N) == 1):\n",
        "            return x\n",
        "        ###if\n",
        "    ###for\n",
        "    return -1\n",
        "###def\n",
        "\n",
        "def factorize3(N):\n",
        "    while(True):\n",
        "        a = random.randint(2, N - 1)\n",
        "        gcd = math.gcd(N, a)\n",
        "        if (gcd != 1):\n",
        "            return gcd, N // gcd\n",
        "        ###if\n",
        "        r = findPeriodByModPow(N, a)\n",
        "        if (r % 2 != 0):\n",
        "            continue\n",
        "        ###if\n",
        "        gcd1 = math.gcd(N, a**(r//2) + 1)\n",
        "        gcd2 = math.gcd(N, a**(r//2) - 1)\n",
        "        if (gcd1 == 1 or gcd2 == 1):\n",
        "            continue\n",
        "        ###if\n",
        "        return gcd1, gcd2\n",
        "    ###while\n",
        "###def"
      ],
      "metadata": {
        "id": "ZwZYVo2niC43"
      },
      "execution_count": 30,
      "outputs": []
    },
    {
      "cell_type": "code",
      "source": [
        "N = 3 * 5\n",
        "p, q = factorize3(N)\n",
        "print(N, '=', p, '*', q)"
      ],
      "metadata": {
        "colab": {
          "base_uri": "https://localhost:8080/"
        },
        "id": "bNF6CF89ikTw",
        "outputId": "bea6c1db-48e2-4b92-be76-4b22b993c144"
      },
      "execution_count": 31,
      "outputs": [
        {
          "output_type": "stream",
          "name": "stdout",
          "text": [
            "15 = 5 * 3\n"
          ]
        }
      ]
    },
    {
      "cell_type": "code",
      "source": [
        "import time\n",
        "start = time.time()\n",
        "N = 991 * 997\n",
        "p, q = factorize3(N)\n",
        "print(N, '=', p, '*', q)\n",
        "end = time.time()\n",
        "print(\"실행시간:\", (end - start))"
      ],
      "metadata": {
        "colab": {
          "base_uri": "https://localhost:8080/"
        },
        "id": "Ncjoe1pfilZh",
        "outputId": "af9a3822-5387-4a25-f1e1-ea92e203ec96"
      },
      "execution_count": 32,
      "outputs": [
        {
          "output_type": "stream",
          "name": "stdout",
          "text": [
            "988027 = 997 * 991\n",
            "실행시간: 1.5911779403686523\n"
          ]
        }
      ]
    }
  ]
}