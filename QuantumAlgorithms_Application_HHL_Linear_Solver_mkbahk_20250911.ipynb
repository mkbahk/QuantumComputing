{
  "nbformat": 4,
  "nbformat_minor": 0,
  "metadata": {
    "colab": {
      "provenance": [],
      "authorship_tag": "ABX9TyOZOr/ePnEZIAik35UQGqbY",
      "include_colab_link": true
    },
    "kernelspec": {
      "name": "python3",
      "display_name": "Python 3"
    },
    "language_info": {
      "name": "python"
    }
  },
  "cells": [
    {
      "cell_type": "markdown",
      "metadata": {
        "id": "view-in-github",
        "colab_type": "text"
      },
      "source": [
        "<a href=\"https://colab.research.google.com/github/mkbahk/QuantumComputing/blob/main/QuantumAlgorithms_Application_HHL_Linear_Solver_mkbahk_20250911.ipynb\" target=\"_parent\"><img src=\"https://colab.research.google.com/assets/colab-badge.svg\" alt=\"Open In Colab\"/></a>"
      ]
    },
    {
      "cell_type": "code",
      "execution_count": 1,
      "metadata": {
        "colab": {
          "base_uri": "https://localhost:8080/"
        },
        "id": "YS2NPSggQD1w",
        "outputId": "c890bb49-6beb-4c97-abff-72f286ea65bb"
      },
      "outputs": [
        {
          "output_type": "stream",
          "name": "stdout",
          "text": [
            "Collecting qiskit[visualization]\n",
            "  Downloading qiskit-2.1.2-cp39-abi3-manylinux_2_17_x86_64.manylinux2014_x86_64.whl.metadata (12 kB)\n",
            "Collecting rustworkx>=0.15.0 (from qiskit[visualization])\n",
            "  Downloading rustworkx-0.17.1-cp39-abi3-manylinux_2_17_x86_64.manylinux2014_x86_64.whl.metadata (10 kB)\n",
            "Requirement already satisfied: numpy<3,>=1.17 in /usr/local/lib/python3.12/dist-packages (from qiskit[visualization]) (2.0.2)\n",
            "Requirement already satisfied: scipy>=1.5 in /usr/local/lib/python3.12/dist-packages (from qiskit[visualization]) (1.16.1)\n",
            "Requirement already satisfied: dill>=0.3 in /usr/local/lib/python3.12/dist-packages (from qiskit[visualization]) (0.3.8)\n",
            "Collecting stevedore>=3.0.0 (from qiskit[visualization])\n",
            "  Downloading stevedore-5.5.0-py3-none-any.whl.metadata (2.2 kB)\n",
            "Requirement already satisfied: typing-extensions in /usr/local/lib/python3.12/dist-packages (from qiskit[visualization]) (4.15.0)\n",
            "Requirement already satisfied: matplotlib>=3.3 in /usr/local/lib/python3.12/dist-packages (from qiskit[visualization]) (3.10.0)\n",
            "Requirement already satisfied: pydot in /usr/local/lib/python3.12/dist-packages (from qiskit[visualization]) (3.0.4)\n",
            "Requirement already satisfied: Pillow>=4.2.1 in /usr/local/lib/python3.12/dist-packages (from qiskit[visualization]) (11.3.0)\n",
            "Collecting pylatexenc>=1.4 (from qiskit[visualization])\n",
            "  Downloading pylatexenc-2.10.tar.gz (162 kB)\n",
            "\u001b[2K     \u001b[90m━━━━━━━━━━━━━━━━━━━━━━━━━━━━━━━━━━━━━━━\u001b[0m \u001b[32m162.6/162.6 kB\u001b[0m \u001b[31m7.6 MB/s\u001b[0m eta \u001b[36m0:00:00\u001b[0m\n",
            "\u001b[?25h  Preparing metadata (setup.py) ... \u001b[?25l\u001b[?25hdone\n",
            "Requirement already satisfied: seaborn>=0.9.0 in /usr/local/lib/python3.12/dist-packages (from qiskit[visualization]) (0.13.2)\n",
            "Requirement already satisfied: sympy>=1.3 in /usr/local/lib/python3.12/dist-packages (from qiskit[visualization]) (1.13.3)\n",
            "Requirement already satisfied: contourpy>=1.0.1 in /usr/local/lib/python3.12/dist-packages (from matplotlib>=3.3->qiskit[visualization]) (1.3.3)\n",
            "Requirement already satisfied: cycler>=0.10 in /usr/local/lib/python3.12/dist-packages (from matplotlib>=3.3->qiskit[visualization]) (0.12.1)\n",
            "Requirement already satisfied: fonttools>=4.22.0 in /usr/local/lib/python3.12/dist-packages (from matplotlib>=3.3->qiskit[visualization]) (4.59.2)\n",
            "Requirement already satisfied: kiwisolver>=1.3.1 in /usr/local/lib/python3.12/dist-packages (from matplotlib>=3.3->qiskit[visualization]) (1.4.9)\n",
            "Requirement already satisfied: packaging>=20.0 in /usr/local/lib/python3.12/dist-packages (from matplotlib>=3.3->qiskit[visualization]) (25.0)\n",
            "Requirement already satisfied: pyparsing>=2.3.1 in /usr/local/lib/python3.12/dist-packages (from matplotlib>=3.3->qiskit[visualization]) (3.2.3)\n",
            "Requirement already satisfied: python-dateutil>=2.7 in /usr/local/lib/python3.12/dist-packages (from matplotlib>=3.3->qiskit[visualization]) (2.9.0.post0)\n",
            "Requirement already satisfied: pandas>=1.2 in /usr/local/lib/python3.12/dist-packages (from seaborn>=0.9.0->qiskit[visualization]) (2.2.2)\n",
            "Requirement already satisfied: mpmath<1.4,>=1.1.0 in /usr/local/lib/python3.12/dist-packages (from sympy>=1.3->qiskit[visualization]) (1.3.0)\n",
            "Requirement already satisfied: pytz>=2020.1 in /usr/local/lib/python3.12/dist-packages (from pandas>=1.2->seaborn>=0.9.0->qiskit[visualization]) (2025.2)\n",
            "Requirement already satisfied: tzdata>=2022.7 in /usr/local/lib/python3.12/dist-packages (from pandas>=1.2->seaborn>=0.9.0->qiskit[visualization]) (2025.2)\n",
            "Requirement already satisfied: six>=1.5 in /usr/local/lib/python3.12/dist-packages (from python-dateutil>=2.7->matplotlib>=3.3->qiskit[visualization]) (1.17.0)\n",
            "Downloading rustworkx-0.17.1-cp39-abi3-manylinux_2_17_x86_64.manylinux2014_x86_64.whl (2.2 MB)\n",
            "\u001b[2K   \u001b[90m━━━━━━━━━━━━━━━━━━━━━━━━━━━━━━━━━━━━━━━━\u001b[0m \u001b[32m2.2/2.2 MB\u001b[0m \u001b[31m44.0 MB/s\u001b[0m eta \u001b[36m0:00:00\u001b[0m\n",
            "\u001b[?25hDownloading stevedore-5.5.0-py3-none-any.whl (49 kB)\n",
            "\u001b[2K   \u001b[90m━━━━━━━━━━━━━━━━━━━━━━━━━━━━━━━━━━━━━━━━\u001b[0m \u001b[32m49.5/49.5 kB\u001b[0m \u001b[31m1.1 MB/s\u001b[0m eta \u001b[36m0:00:00\u001b[0m\n",
            "\u001b[?25hDownloading qiskit-2.1.2-cp39-abi3-manylinux_2_17_x86_64.manylinux2014_x86_64.whl (7.4 MB)\n",
            "\u001b[2K   \u001b[90m━━━━━━━━━━━━━━━━━━━━━━━━━━━━━━━━━━━━━━━━\u001b[0m \u001b[32m7.4/7.4 MB\u001b[0m \u001b[31m77.9 MB/s\u001b[0m eta \u001b[36m0:00:00\u001b[0m\n",
            "\u001b[?25hBuilding wheels for collected packages: pylatexenc\n",
            "  Building wheel for pylatexenc (setup.py) ... \u001b[?25l\u001b[?25hdone\n",
            "  Created wheel for pylatexenc: filename=pylatexenc-2.10-py3-none-any.whl size=136817 sha256=30d511d08977f6d493fb632ba4a322dc9dd66e03eca44645288329e6fd6d152c\n",
            "  Stored in directory: /root/.cache/pip/wheels/06/3e/78/fa1588c1ae991bbfd814af2bcac6cef7a178beee1939180d46\n",
            "Successfully built pylatexenc\n",
            "Installing collected packages: pylatexenc, stevedore, rustworkx, qiskit\n",
            "Successfully installed pylatexenc-2.10 qiskit-2.1.2 rustworkx-0.17.1 stevedore-5.5.0\n",
            "Collecting qiskit-aer\n",
            "  Downloading qiskit_aer-0.17.1-cp312-cp312-manylinux_2_17_x86_64.manylinux2014_x86_64.whl.metadata (8.3 kB)\n",
            "Requirement already satisfied: qiskit>=1.1.0 in /usr/local/lib/python3.12/dist-packages (from qiskit-aer) (2.1.2)\n",
            "Requirement already satisfied: numpy>=1.16.3 in /usr/local/lib/python3.12/dist-packages (from qiskit-aer) (2.0.2)\n",
            "Requirement already satisfied: scipy>=1.0 in /usr/local/lib/python3.12/dist-packages (from qiskit-aer) (1.16.1)\n",
            "Requirement already satisfied: psutil>=5 in /usr/local/lib/python3.12/dist-packages (from qiskit-aer) (5.9.5)\n",
            "Requirement already satisfied: python-dateutil>=2.8.0 in /usr/local/lib/python3.12/dist-packages (from qiskit-aer) (2.9.0.post0)\n",
            "Requirement already satisfied: six>=1.5 in /usr/local/lib/python3.12/dist-packages (from python-dateutil>=2.8.0->qiskit-aer) (1.17.0)\n",
            "Requirement already satisfied: rustworkx>=0.15.0 in /usr/local/lib/python3.12/dist-packages (from qiskit>=1.1.0->qiskit-aer) (0.17.1)\n",
            "Requirement already satisfied: dill>=0.3 in /usr/local/lib/python3.12/dist-packages (from qiskit>=1.1.0->qiskit-aer) (0.3.8)\n",
            "Requirement already satisfied: stevedore>=3.0.0 in /usr/local/lib/python3.12/dist-packages (from qiskit>=1.1.0->qiskit-aer) (5.5.0)\n",
            "Requirement already satisfied: typing-extensions in /usr/local/lib/python3.12/dist-packages (from qiskit>=1.1.0->qiskit-aer) (4.15.0)\n",
            "Downloading qiskit_aer-0.17.1-cp312-cp312-manylinux_2_17_x86_64.manylinux2014_x86_64.whl (12.4 MB)\n",
            "\u001b[2K   \u001b[90m━━━━━━━━━━━━━━━━━━━━━━━━━━━━━━━━━━━━━━━━\u001b[0m \u001b[32m12.4/12.4 MB\u001b[0m \u001b[31m63.2 MB/s\u001b[0m eta \u001b[36m0:00:00\u001b[0m\n",
            "\u001b[?25hInstalling collected packages: qiskit-aer\n",
            "Successfully installed qiskit-aer-0.17.1\n"
          ]
        }
      ],
      "source": [
        "!pip install \"qiskit[visualization]\"\n",
        "!pip install \"qiskit-aer\"\n",
        "#!pip install \"qiskit-terra\""
      ]
    },
    {
      "cell_type": "code",
      "source": [
        "%pip show qiskit qiskit-aer"
      ],
      "metadata": {
        "colab": {
          "base_uri": "https://localhost:8080/"
        },
        "id": "-hThdmEfVHlp",
        "outputId": "82856e38-4267-4700-c2e7-cd4d6207d246"
      },
      "execution_count": 7,
      "outputs": [
        {
          "output_type": "stream",
          "name": "stdout",
          "text": [
            "Name: qiskit\n",
            "Version: 2.1.2\n",
            "Summary: An open-source SDK for working with quantum computers at the level of extended quantum circuits, operators, and primitives.\n",
            "Home-page: https://www.ibm.com/quantum/qiskit\n",
            "Author: \n",
            "Author-email: Qiskit Development Team <qiskit@us.ibm.com>\n",
            "License: Apache 2.0\n",
            "Location: /usr/local/lib/python3.12/dist-packages\n",
            "Requires: dill, numpy, rustworkx, scipy, stevedore, typing-extensions\n",
            "Required-by: qiskit-aer\n",
            "---\n",
            "Name: qiskit-aer\n",
            "Version: 0.17.1\n",
            "Summary: Aer - High performance simulators for Qiskit\n",
            "Home-page: https://github.com/Qiskit/qiskit-aer\n",
            "Author: AER Development Team\n",
            "Author-email: qiskit@us.ibm.com\n",
            "License: Apache 2.0\n",
            "Location: /usr/local/lib/python3.12/dist-packages\n",
            "Requires: numpy, psutil, python-dateutil, qiskit, scipy\n",
            "Required-by: \n"
          ]
        }
      ]
    },
    {
      "cell_type": "code",
      "source": [
        "import warnings\n",
        "warnings.filterwarnings('ignore')"
      ],
      "metadata": {
        "id": "GEbQW0DTWGBq"
      },
      "execution_count": 16,
      "outputs": []
    },
    {
      "cell_type": "code",
      "source": [
        "import numpy as np\n",
        "from qiskit import QuantumCircuit, transpile\n",
        "from qiskit_aer import Aer\n",
        "from qiskit.quantum_info import Statevector, Operator\n",
        "from qiskit.circuit.library import UnitaryGate, QFT, RYGate"
      ],
      "metadata": {
        "id": "35Gz4oNITNS-"
      },
      "execution_count": 17,
      "outputs": []
    },
    {
      "cell_type": "code",
      "source": [
        "# 1. HHL 알고리즘의 구성 요소: 위상 추정 및 역 푸리에 변환\n",
        "def apply_qpe(qc, num_eigen_qubits, A_op, t):\n",
        "    \"\"\"위상 추정(Phase Estimation)을 위한 양자 회로를 적용합니다.\"\"\"\n",
        "    qc.h(range(num_eigen_qubits))\n",
        "\n",
        "    # A_op의 거듭제곱을 제어(controlled)하여 적용합니다.\n",
        "    for i in range(num_eigen_qubits):\n",
        "        power_of_2 = 2**i\n",
        "        controlled_op = A_op.power(power_of_2)\n",
        "        # 2x2 행렬의 경우, controlled_op은 3개의 큐비트에 적용됩니다.\n",
        "        # (control_qubit, target_qubit, auxiliary_qubit)\n",
        "        if controlled_op.num_qubits == 2:\n",
        "            qc.append(controlled_op.control(), [i, num_eigen_qubits])\n",
        "        else:\n",
        "            # 더 큰 행렬의 경우, controlled_op은 여러 큐비트에 적용될 수 있습니다.\n",
        "            # 이 샘플은 2x2 행렬에 맞춰져 있습니다.\n",
        "            pass\n",
        "        ###ㅑㄹ\n",
        "    ###for\n",
        "\n",
        "    qc.append(QFT(num_eigen_qubits, do_swaps=False).inverse(), range(num_eigen_qubits))\n",
        "  ###def"
      ],
      "metadata": {
        "id": "rhSNaoKUWi22"
      },
      "execution_count": 18,
      "outputs": []
    },
    {
      "cell_type": "code",
      "source": [
        "def hhl_circuit(A, b):\n",
        "    \"\"\"HHL 알고리즘을 위한 양자 회로를 구성합니다.\"\"\"\n",
        "\n",
        "    # A 행렬의 차원 (2x2)\n",
        "    n = int(np.log2(A.shape[0]))\n",
        "\n",
        "    # 위상 추정을 위한 큐비트 수. 정밀도를 결정합니다.\n",
        "    num_eigen_qubits = 2\n",
        "\n",
        "    # 보조 큐비트 (1개)\n",
        "    num_ancilla_qubits = 1\n",
        "\n",
        "    # 총 큐비트 수\n",
        "    num_qubits = num_ancilla_qubits + num_eigen_qubits + n\n",
        "    # Adjust classical bits to measure ancilla and state qubits\n",
        "    qc = QuantumCircuit(num_qubits, num_ancilla_qubits + n)\n",
        "\n",
        "\n",
        "    # 큐비트 할당\n",
        "    ancilla_qubit = 0\n",
        "    eigen_qubits = range(1, 1 + num_eigen_qubits)\n",
        "    state_qubits = range(1 + num_eigen_qubits, num_qubits)\n",
        "\n",
        "    # 1. b 벡터 인코딩\n",
        "    # b = [b0, b1] 벡터를 양자 상태로 인코딩합니다.\n",
        "    # Statevector.from_label('00') 상태에 b 벡터를 적용합니다.\n",
        "    qc.initialize(b / np.linalg.norm(b), state_qubits)\n",
        "\n",
        "    # 2. 위상 추정 (Phase Estimation)\n",
        "    # A 행렬을 양자 오퍼레이터로 변환합니다.\n",
        "    A_op = UnitaryGate(A, label='A')\n",
        "\n",
        "    # 이 부분은 샘플 코드의 복잡성을 줄이기 위해 단순화되었습니다.\n",
        "    # 실제 HHL에서는 A를 e^(-iAt)와 같은 지수 형태로 변환해야 합니다.\n",
        "    # Qiskit에서는 이 부분이 복잡하므로, 2x2 행렬에 대한 단순화된 예시를 사용합니다.\n",
        "\n",
        "    # 3. 고윳값에 따른 조건부 회전\n",
        "    # 위상 추정 큐비트의 상태에 따라 보조 큐비트를 회전시킵니다.\n",
        "    # 이 부분은 1/lambda에 비례하는 회전입니다.\n",
        "    # 여기서는 고윳값이 2와 1인 경우를 가정합니다.\n",
        "    qc.ry(np.pi / 2, ancilla_qubit) # 임시 회전\n",
        "\n",
        "    # 4. 역 위상 추정 (Inverse Phase Estimation)\n",
        "    qc.append(QFT(num_eigen_qubits, do_swaps=False).inverse(), eigen_qubits)\n",
        "\n",
        "    # 5. 첫 번째 큐비트(보조 큐비트) 측정\n",
        "    qc.measure(ancilla_qubit, 0)\n",
        "\n",
        "    # 6. 결과 상태 측정 (state_qubits into classical bits starting from index 1)\n",
        "    qc.measure(state_qubits, range(1, 1 + n))\n",
        "\n",
        "\n",
        "    return qc\n",
        "###def"
      ],
      "metadata": {
        "id": "2xs74viFWl1V"
      },
      "execution_count": 19,
      "outputs": []
    },
    {
      "cell_type": "code",
      "source": [
        "# 2. 문제 정의\n",
        "# 해결하려는 선형방정식 Ax = b\n",
        "A = np.array([[1, 0],\n",
        "              [0, 1]])\n",
        "b = np.array([1.5, 1.5])\n",
        "\n",
        "# A 행렬의 고윳값은 4와 2입니다.\n",
        "# 고유벡터는 각각 [1, 1]과 [1, -1]입니다.\n",
        "\n",
        "# 3. HHL 회로 생성 및 실행\n",
        "hhl_circ = hhl_circuit(A, b)\n",
        "simulator = Aer.get_backend('aer_simulator')\n",
        "tcirc = transpile(hhl_circ, simulator)\n",
        "result = simulator.run(tcirc, shots=8192).result()\n",
        "counts = result.get_counts(tcirc)\n",
        "\n",
        "# 4. 결과 출력\n",
        "print(\"====================================\")\n",
        "print(\"HHL 알고리즘 샘플\")\n",
        "print(\"------------------------------------\")\n",
        "print(f\"문제: A * x = b\")\n",
        "print(f\"A = \\n{A}\")\n",
        "print(f\"b = {b}\")\n",
        "print(\"------------------------------------\")\n",
        "print(f\"시뮬레이터 측정 결과: {counts}\")\n",
        "\n"
      ],
      "metadata": {
        "colab": {
          "base_uri": "https://localhost:8080/"
        },
        "id": "KKa9GDL5TK8r",
        "outputId": "f536c2ae-085f-42b9-e138-e9bdb0c275fa"
      },
      "execution_count": 42,
      "outputs": [
        {
          "output_type": "stream",
          "name": "stdout",
          "text": [
            "====================================\n",
            "HHL 알고리즘 샘플\n",
            "------------------------------------\n",
            "문제: A * x = b\n",
            "A = \n",
            "[[1 0]\n",
            " [0 1]]\n",
            "b = [1.5 1.5]\n",
            "------------------------------------\n",
            "시뮬레이터 측정 결과: {'01': 2085, '10': 2002, '00': 2073, '11': 2032}\n"
          ]
        }
      ]
    },
    {
      "cell_type": "code",
      "source": [
        "# 5. 측정 결과 해석 및 해 추출\n",
        "print(\"\\n------------------------------------\")\n",
        "print(\"HHL 시뮬레이터 결과 해석\")\n",
        "print(\"------------------------------------\")\n",
        "\n",
        "# 보조 큐비트가 '1'로 측정된 결과만 필터링합니다.\n",
        "# 측정 결과 키의 형식은 'ancilla_qubit state_qubits' 입니다.\n",
        "# 여기서는 ancilla_qubit이 첫 번째 비트입니다.\n",
        "hhl_results = {k: v for k, v in counts.items() if k[0] == '1'}\n",
        "\n",
        "print(f\"보조 큐비트가 '1'인 측정 결과: {hhl_results}\")\n",
        "\n",
        "# 필터링된 결과에서 상태 큐비트의 측정 횟수를 추출합니다.\n",
        "# 상태 큐비트는 측정 결과 문자열의 나머지 비트입니다.\n",
        "state_qubit_counts = {}\n",
        "total_hhl_counts = sum(hhl_results.values())\n",
        "\n",
        "if total_hhl_counts > 0:\n",
        "    for measurement, count in hhl_results.items():\n",
        "        state_measurement = measurement[1:] # 상태 큐비트 측정값\n",
        "        if state_measurement in state_qubit_counts:\n",
        "            state_qubit_counts[state_measurement] += count\n",
        "        else:\n",
        "            state_qubit_counts[state_measurement] = count\n",
        "\n",
        "    print(f\"상태 큐비트 측정 횟수 (보조 큐비트=1): {state_qubit_counts}\")\n",
        "\n",
        "    # 상태 큐bit 측정 횟수를 확률로 변환합니다.\n",
        "    state_qubit_probabilities = {k: v / total_hhl_counts for k, v in state_qubit_counts.items()}\n",
        "    print(f\"상태 큐비트 확률 (보조 큐비트=1): {state_qubit_probabilities}\")\n",
        "\n",
        "    # 확률로부터 해 벡터의 상대적인 크기를 추정합니다.\n",
        "    # 해 벡터의 요소는 해당 상태의 확률의 제곱근에 비례합니다.\n",
        "    # 이 예제에서는 n=1이므로 상태 큐비트는 1개입니다.\n",
        "    # 상태 큐비트가 '0'일 때 x[0], '1'일 때 x[1]에 해당한다고 가정합니다.\n",
        "    estimated_x_relative = np.zeros(2)\n",
        "    if '0' in state_qubit_probabilities:\n",
        "         estimated_x_relative[0] = np.sqrt(state_qubit_probabilities['0'])\n",
        "    if '1' in state_qubit_probabilities:\n",
        "         estimated_x_relative[1] = np.sqrt(state_qubit_probabilities['1'])\n",
        "\n",
        "    print(f\"추정된 해 벡터 (상대적 크기): {estimated_x_relative}\")\n",
        "\n",
        "    # 추정된 해 벡터의 크기를 고전적인 해의 크기에 맞춰 스케일링합니다.\n",
        "    # 실제 HHL에서는 이 스케일링 과정이 필요 없지만, 결과를 비교하기 위해 수행합니다.\n",
        "    # x_classical is assumed to be available from a previous cell's execution\n",
        "    # If not, you would need to calculate it here: x_classical = np.linalg.solve(A, b)\n",
        "    try:\n",
        "        norm_classical_x = np.linalg.norm(x_classical)\n",
        "    except NameError:\n",
        "        print(\"Warning: x_classical not found. Calculating it now.\")\n",
        "        # Assuming A and b are defined in a previous cell\n",
        "        try:\n",
        "            x_classical = np.linalg.solve(A, b)\n",
        "            norm_classical_x = np.linalg.norm(x_classical)\n",
        "        except NameError:\n",
        "            print(\"Error: A or b not found. Cannot calculate classical solution for scaling.\")\n",
        "            norm_classical_x = 1 # Use a default or handle error appropriately\n",
        "\n",
        "\n",
        "    norm_estimated_x = np.linalg.norm(estimated_x_relative)\n",
        "\n",
        "    if norm_estimated_x > 0:\n",
        "        estimated_x = estimated_x_relative * (norm_classical_x / norm_estimated_x)\n",
        "        print(f\"\\n추정된 해 벡터 (스케일링됨): {estimated_x}\")\n",
        "    else:\n",
        "        print(\"\\n추정된 해 벡터를 계산할 수 없습니다 (측정 결과 부족).\")\n",
        "\n",
        "else:\n",
        "    print(\"보조 큐비트가 '1'인 측정 결과가 없습니다. 해를 추출할 수 없습니다.\")\n",
        "\n",
        "print(\"====================================\")"
      ],
      "metadata": {
        "colab": {
          "base_uri": "https://localhost:8080/"
        },
        "id": "_xwMmTT0Wwg2",
        "outputId": "19e6c52f-71f3-4c98-dc31-480bae5ebb07"
      },
      "execution_count": 43,
      "outputs": [
        {
          "output_type": "stream",
          "name": "stdout",
          "text": [
            "\n",
            "------------------------------------\n",
            "HHL 시뮬레이터 결과 해석\n",
            "------------------------------------\n",
            "보조 큐비트가 '1'인 측정 결과: {'10': 2002, '11': 2032}\n",
            "상태 큐비트 측정 횟수 (보조 큐비트=1): {'0': 2002, '1': 2032}\n",
            "상태 큐비트 확률 (보조 큐비트=1): {'0': 0.4962816063460585, '1': 0.5037183936539414}\n",
            "추정된 해 벡터 (상대적 크기): [0.70447257 0.70973121]\n",
            "\n",
            "추정된 해 벡터 (스케일링됨): [0.70447257 0.70973121]\n",
            "====================================\n"
          ]
        }
      ]
    },
    {
      "cell_type": "code",
      "source": [
        "# 측정 결과를 해석하여 x 벡터를 추출합니다.\n",
        "# HHL은 첫 번째 큐비트가 '1'로 측정될 확률이 높을수록 해를 얻을 수 있습니다.\n",
        "# 여기서는 0b100 또는 0b101과 같이 보조 큐비트가 1인 상태의 확률을 봅니다.\n",
        "# 실제 해는 x = A^-1 * b 입니다.\n",
        "x_classical = np.linalg.solve(A, b)\n",
        "print(f\"\\n고전적인 방법으로 구한 해 (x): {x_classical}\")\n",
        "print(\"====================================\")"
      ],
      "metadata": {
        "colab": {
          "base_uri": "https://localhost:8080/"
        },
        "id": "l2_2uSQDVt_d",
        "outputId": "f9f24d80-9edc-43d2-aef3-03275f1b5bb0"
      },
      "execution_count": 44,
      "outputs": [
        {
          "output_type": "stream",
          "name": "stdout",
          "text": [
            "\n",
            "고전적인 방법으로 구한 해 (x): [1.5 1.5]\n",
            "====================================\n"
          ]
        }
      ]
    }
  ]
}