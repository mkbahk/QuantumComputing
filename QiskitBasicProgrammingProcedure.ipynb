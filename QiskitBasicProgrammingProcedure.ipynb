{
  "nbformat": 4,
  "nbformat_minor": 0,
  "metadata": {
    "colab": {
      "private_outputs": true,
      "provenance": [],
      "authorship_tag": "ABX9TyPsgC8pbASVUT3uw16ULmtz",
      "include_colab_link": true
    },
    "kernelspec": {
      "name": "python3",
      "display_name": "Python 3"
    },
    "language_info": {
      "name": "python"
    },
    "gpuClass": "standard"
  },
  "cells": [
    {
      "cell_type": "markdown",
      "metadata": {
        "id": "view-in-github",
        "colab_type": "text"
      },
      "source": [
        "<a href=\"https://colab.research.google.com/github/mkbahk/QuantumComputing/blob/main/QiskitBasicProgrammingProcedure.ipynb\" target=\"_parent\"><img src=\"https://colab.research.google.com/assets/colab-badge.svg\" alt=\"Open In Colab\"/></a>"
      ]
    },
    {
      "cell_type": "markdown",
      "source": [
        "1) Qiskit 패키지 설치"
      ],
      "metadata": {
        "id": "RguuSME6Rcdp"
      }
    },
    {
      "cell_type": "code",
      "execution_count": null,
      "metadata": {
        "id": "fJRfNJ4nPY4X"
      },
      "outputs": [],
      "source": [
        "!python3 -m pip install qiskit[visualization]"
      ]
    },
    {
      "cell_type": "markdown",
      "source": [
        "2) 패키지 가져오기"
      ],
      "metadata": {
        "id": "0xbxqPNJRjcB"
      }
    },
    {
      "cell_type": "code",
      "source": [
        "from qiskit import QuantumCircuit\n",
        "from qiskit_aer import AerSimulator\n",
        "from qiskit.visualization import plot_histogram"
      ],
      "metadata": {
        "id": "jdRlItDoRIE5"
      },
      "execution_count": null,
      "outputs": []
    },
    {
      "cell_type": "markdown",
      "source": [
        "3)변수 초기화"
      ],
      "metadata": {
        "id": "jEDsVO06RmPc"
      }
    },
    {
      "cell_type": "code",
      "source": [
        "circuit = QuantumCircuit(2, 2)"
      ],
      "metadata": {
        "id": "aw5jM9xWRUuC"
      },
      "execution_count": null,
      "outputs": []
    },
    {
      "cell_type": "markdown",
      "source": [
        "4) 게이트 추가"
      ],
      "metadata": {
        "id": "REF-51EVRuCr"
      }
    },
    {
      "cell_type": "code",
      "source": [
        "circuit.h(0)\n",
        "circuit.cx(0, 1)\n",
        "circuit.measure([0, 1], [0, 1])"
      ],
      "metadata": {
        "id": "ZdEYElbERulD"
      },
      "execution_count": null,
      "outputs": []
    },
    {
      "cell_type": "markdown",
      "source": [
        "5) 회로 시각화"
      ],
      "metadata": {
        "id": "Zg0kHf4mR1ev"
      }
    },
    {
      "cell_type": "code",
      "source": [
        "circuit.draw()"
      ],
      "metadata": {
        "id": "cz1U9IYlR5I4"
      },
      "execution_count": null,
      "outputs": []
    },
    {
      "cell_type": "markdown",
      "source": [
        "6) 실험 시뮬레이션"
      ],
      "metadata": {
        "id": "L0id67woR5b3"
      }
    },
    {
      "cell_type": "code",
      "source": [
        "from qiskit import QuantumCircuit, transpile\n",
        "from qiskit.providers.basicaer import QasmSimulatorPy"
      ],
      "metadata": {
        "id": "fb5rpkoFSNyA"
      },
      "execution_count": null,
      "outputs": []
    },
    {
      "cell_type": "code",
      "source": [
        "simulator = AerSimulator()\n",
        "compiled_circuit = transpile(circuit, simulator)\n",
        "job = simulator.run(compiled_circuit, shots=1000)\n",
        "result = job.result()\n",
        "counts = result.get_counts(circuit)\n",
        "print(\"\\nTotal count for 00 and 11 are:\",counts)"
      ],
      "metadata": {
        "id": "ea3E2mDYR9SP"
      },
      "execution_count": null,
      "outputs": []
    },
    {
      "cell_type": "markdown",
      "source": [
        "7)결과 시각화"
      ],
      "metadata": {
        "id": "64DeZJSNR9mj"
      }
    },
    {
      "cell_type": "code",
      "source": [
        "plot_histogram(counts)"
      ],
      "metadata": {
        "id": "ZjjmBShWSBev"
      },
      "execution_count": null,
      "outputs": []
    }
  ]
}