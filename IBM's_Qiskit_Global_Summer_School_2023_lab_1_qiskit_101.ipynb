{
  "cells": [
    {
      "cell_type": "markdown",
      "metadata": {
        "id": "view-in-github",
        "colab_type": "text"
      },
      "source": [
        "<a href=\"https://colab.research.google.com/github/mkbahk/QuantumComputing/blob/main/IBM's_Qiskit_Global_Summer_School_2023_lab_1_qiskit_101.ipynb\" target=\"_parent\"><img src=\"https://colab.research.google.com/assets/colab-badge.svg\" alt=\"Open In Colab\"/></a>"
      ]
    },
    {
      "cell_type": "markdown",
      "id": "d9bef481",
      "metadata": {
        "id": "d9bef481"
      },
      "source": [
        "# IBM's Qiskit Global Summer School 2023\n",
        "## Lab 1 - Qiskit 101:\n",
        "\n",
        "- This lab shows you how to use IBM's Qiskit to implement some of the key concepts you learned in the first 3 lectures of the IBM's Qiskit Global Summer School 2023."
      ]
    },
    {
      "cell_type": "code",
      "execution_count": 58,
      "metadata": {
        "colab": {
          "base_uri": "https://localhost:8080/"
        },
        "id": "2_3i7FWZU9LS",
        "outputId": "d7c445ae-50ca-49a4-ac3f-62499a9fd95f"
      },
      "outputs": [
        {
          "output_type": "stream",
          "name": "stdout",
          "text": [
            "Requirement already satisfied: qiskit[visualization] in /usr/local/lib/python3.10/dist-packages (1.0.2)\n",
            "Requirement already satisfied: rustworkx>=0.14.0 in /usr/local/lib/python3.10/dist-packages (from qiskit[visualization]) (0.14.2)\n",
            "Requirement already satisfied: numpy<2,>=1.17 in /usr/local/lib/python3.10/dist-packages (from qiskit[visualization]) (1.25.2)\n",
            "Requirement already satisfied: scipy>=1.5 in /usr/local/lib/python3.10/dist-packages (from qiskit[visualization]) (1.11.4)\n",
            "Requirement already satisfied: sympy>=1.3 in /usr/local/lib/python3.10/dist-packages (from qiskit[visualization]) (1.12)\n",
            "Requirement already satisfied: dill>=0.3 in /usr/local/lib/python3.10/dist-packages (from qiskit[visualization]) (0.3.8)\n",
            "Requirement already satisfied: python-dateutil>=2.8.0 in /usr/local/lib/python3.10/dist-packages (from qiskit[visualization]) (2.8.2)\n",
            "Requirement already satisfied: stevedore>=3.0.0 in /usr/local/lib/python3.10/dist-packages (from qiskit[visualization]) (5.2.0)\n",
            "Requirement already satisfied: typing-extensions in /usr/local/lib/python3.10/dist-packages (from qiskit[visualization]) (4.11.0)\n",
            "Requirement already satisfied: symengine>=0.11 in /usr/local/lib/python3.10/dist-packages (from qiskit[visualization]) (0.11.0)\n",
            "Requirement already satisfied: matplotlib>=3.3 in /usr/local/lib/python3.10/dist-packages (from qiskit[visualization]) (3.7.1)\n",
            "Requirement already satisfied: pydot in /usr/local/lib/python3.10/dist-packages (from qiskit[visualization]) (1.4.2)\n",
            "Requirement already satisfied: Pillow>=4.2.1 in /usr/local/lib/python3.10/dist-packages (from qiskit[visualization]) (9.4.0)\n",
            "Collecting pylatexenc>=1.4 (from qiskit[visualization])\n",
            "  Downloading pylatexenc-2.10.tar.gz (162 kB)\n",
            "\u001b[2K     \u001b[90m━━━━━━━━━━━━━━━━━━━━━━━━━━━━━━━━━━━━━━━━\u001b[0m \u001b[32m162.6/162.6 kB\u001b[0m \u001b[31m4.7 MB/s\u001b[0m eta \u001b[36m0:00:00\u001b[0m\n",
            "\u001b[?25h  Preparing metadata (setup.py) ... \u001b[?25l\u001b[?25hdone\n",
            "Requirement already satisfied: seaborn>=0.9.0 in /usr/local/lib/python3.10/dist-packages (from qiskit[visualization]) (0.13.1)\n",
            "Requirement already satisfied: contourpy>=1.0.1 in /usr/local/lib/python3.10/dist-packages (from matplotlib>=3.3->qiskit[visualization]) (1.2.1)\n",
            "Requirement already satisfied: cycler>=0.10 in /usr/local/lib/python3.10/dist-packages (from matplotlib>=3.3->qiskit[visualization]) (0.12.1)\n",
            "Requirement already satisfied: fonttools>=4.22.0 in /usr/local/lib/python3.10/dist-packages (from matplotlib>=3.3->qiskit[visualization]) (4.51.0)\n",
            "Requirement already satisfied: kiwisolver>=1.0.1 in /usr/local/lib/python3.10/dist-packages (from matplotlib>=3.3->qiskit[visualization]) (1.4.5)\n",
            "Requirement already satisfied: packaging>=20.0 in /usr/local/lib/python3.10/dist-packages (from matplotlib>=3.3->qiskit[visualization]) (24.0)\n",
            "Requirement already satisfied: pyparsing>=2.3.1 in /usr/local/lib/python3.10/dist-packages (from matplotlib>=3.3->qiskit[visualization]) (3.1.2)\n",
            "Requirement already satisfied: six>=1.5 in /usr/local/lib/python3.10/dist-packages (from python-dateutil>=2.8.0->qiskit[visualization]) (1.16.0)\n",
            "Requirement already satisfied: pandas>=1.2 in /usr/local/lib/python3.10/dist-packages (from seaborn>=0.9.0->qiskit[visualization]) (2.0.3)\n",
            "Requirement already satisfied: pbr!=2.1.0,>=2.0.0 in /usr/local/lib/python3.10/dist-packages (from stevedore>=3.0.0->qiskit[visualization]) (6.0.0)\n",
            "Requirement already satisfied: mpmath>=0.19 in /usr/local/lib/python3.10/dist-packages (from sympy>=1.3->qiskit[visualization]) (1.3.0)\n",
            "Requirement already satisfied: pytz>=2020.1 in /usr/local/lib/python3.10/dist-packages (from pandas>=1.2->seaborn>=0.9.0->qiskit[visualization]) (2023.4)\n",
            "Requirement already satisfied: tzdata>=2022.1 in /usr/local/lib/python3.10/dist-packages (from pandas>=1.2->seaborn>=0.9.0->qiskit[visualization]) (2024.1)\n",
            "Building wheels for collected packages: pylatexenc\n",
            "  Building wheel for pylatexenc (setup.py) ... \u001b[?25l\u001b[?25hdone\n",
            "  Created wheel for pylatexenc: filename=pylatexenc-2.10-py3-none-any.whl size=136816 sha256=02e98d51c66feffbed6572f94977eedbc3e0b5691932820bafc2886eb762aa7a\n",
            "  Stored in directory: /root/.cache/pip/wheels/d3/31/8b/e09b0386afd80cfc556c00408c9aeea5c35c4d484a9c762fd5\n",
            "Successfully built pylatexenc\n",
            "Installing collected packages: pylatexenc\n",
            "Successfully installed pylatexenc-2.10\n",
            "Requirement already satisfied: qiskit-aer in /usr/local/lib/python3.10/dist-packages (0.14.0.1)\n",
            "Requirement already satisfied: qiskit>=0.45.0 in /usr/local/lib/python3.10/dist-packages (from qiskit-aer) (1.0.2)\n",
            "Requirement already satisfied: numpy>=1.16.3 in /usr/local/lib/python3.10/dist-packages (from qiskit-aer) (1.25.2)\n",
            "Requirement already satisfied: scipy>=1.0 in /usr/local/lib/python3.10/dist-packages (from qiskit-aer) (1.11.4)\n",
            "Requirement already satisfied: psutil>=5 in /usr/local/lib/python3.10/dist-packages (from qiskit-aer) (5.9.5)\n",
            "Requirement already satisfied: rustworkx>=0.14.0 in /usr/local/lib/python3.10/dist-packages (from qiskit>=0.45.0->qiskit-aer) (0.14.2)\n",
            "Requirement already satisfied: sympy>=1.3 in /usr/local/lib/python3.10/dist-packages (from qiskit>=0.45.0->qiskit-aer) (1.12)\n",
            "Requirement already satisfied: dill>=0.3 in /usr/local/lib/python3.10/dist-packages (from qiskit>=0.45.0->qiskit-aer) (0.3.8)\n",
            "Requirement already satisfied: python-dateutil>=2.8.0 in /usr/local/lib/python3.10/dist-packages (from qiskit>=0.45.0->qiskit-aer) (2.8.2)\n",
            "Requirement already satisfied: stevedore>=3.0.0 in /usr/local/lib/python3.10/dist-packages (from qiskit>=0.45.0->qiskit-aer) (5.2.0)\n",
            "Requirement already satisfied: typing-extensions in /usr/local/lib/python3.10/dist-packages (from qiskit>=0.45.0->qiskit-aer) (4.11.0)\n",
            "Requirement already satisfied: symengine>=0.11 in /usr/local/lib/python3.10/dist-packages (from qiskit>=0.45.0->qiskit-aer) (0.11.0)\n",
            "Requirement already satisfied: six>=1.5 in /usr/local/lib/python3.10/dist-packages (from python-dateutil>=2.8.0->qiskit>=0.45.0->qiskit-aer) (1.16.0)\n",
            "Requirement already satisfied: pbr!=2.1.0,>=2.0.0 in /usr/local/lib/python3.10/dist-packages (from stevedore>=3.0.0->qiskit>=0.45.0->qiskit-aer) (6.0.0)\n",
            "Requirement already satisfied: mpmath>=0.19 in /usr/local/lib/python3.10/dist-packages (from sympy>=1.3->qiskit>=0.45.0->qiskit-aer) (1.3.0)\n",
            "Collecting git+https://github.com/qiskit-community/qiskit-textbook.git#subdirectory=qiskit-textbook-src\n",
            "  Cloning https://github.com/qiskit-community/qiskit-textbook.git to /tmp/pip-req-build-om3akvi8\n",
            "  Running command git clone --filter=blob:none --quiet https://github.com/qiskit-community/qiskit-textbook.git /tmp/pip-req-build-om3akvi8\n",
            "  Resolved https://github.com/qiskit-community/qiskit-textbook.git to commit 0ae905083ec3872d7ddc6bb4001d5468f476d93f\n",
            "  Preparing metadata (setup.py) ... \u001b[?25l\u001b[?25hdone\n",
            "Requirement already satisfied: qiskit in /usr/local/lib/python3.10/dist-packages (from qiskit-textbook==0.1.0) (1.0.2)\n",
            "Requirement already satisfied: ipython in /usr/local/lib/python3.10/dist-packages (from qiskit-textbook==0.1.0) (7.34.0)\n",
            "Requirement already satisfied: ipywidgets in /usr/local/lib/python3.10/dist-packages (from qiskit-textbook==0.1.0) (7.7.1)\n",
            "Requirement already satisfied: numpy in /usr/local/lib/python3.10/dist-packages (from qiskit-textbook==0.1.0) (1.25.2)\n",
            "Requirement already satisfied: matplotlib in /usr/local/lib/python3.10/dist-packages (from qiskit-textbook==0.1.0) (3.7.1)\n",
            "Requirement already satisfied: numexpr in /usr/local/lib/python3.10/dist-packages (from qiskit-textbook==0.1.0) (2.10.0)\n",
            "Requirement already satisfied: setuptools>=18.5 in /usr/local/lib/python3.10/dist-packages (from ipython->qiskit-textbook==0.1.0) (67.7.2)\n",
            "Requirement already satisfied: jedi>=0.16 in /usr/local/lib/python3.10/dist-packages (from ipython->qiskit-textbook==0.1.0) (0.19.1)\n",
            "Requirement already satisfied: decorator in /usr/local/lib/python3.10/dist-packages (from ipython->qiskit-textbook==0.1.0) (4.4.2)\n",
            "Requirement already satisfied: pickleshare in /usr/local/lib/python3.10/dist-packages (from ipython->qiskit-textbook==0.1.0) (0.7.5)\n",
            "Requirement already satisfied: traitlets>=4.2 in /usr/local/lib/python3.10/dist-packages (from ipython->qiskit-textbook==0.1.0) (5.7.1)\n",
            "Requirement already satisfied: prompt-toolkit!=3.0.0,!=3.0.1,<3.1.0,>=2.0.0 in /usr/local/lib/python3.10/dist-packages (from ipython->qiskit-textbook==0.1.0) (3.0.43)\n",
            "Requirement already satisfied: pygments in /usr/local/lib/python3.10/dist-packages (from ipython->qiskit-textbook==0.1.0) (2.16.1)\n",
            "Requirement already satisfied: backcall in /usr/local/lib/python3.10/dist-packages (from ipython->qiskit-textbook==0.1.0) (0.2.0)\n",
            "Requirement already satisfied: matplotlib-inline in /usr/local/lib/python3.10/dist-packages (from ipython->qiskit-textbook==0.1.0) (0.1.7)\n",
            "Requirement already satisfied: pexpect>4.3 in /usr/local/lib/python3.10/dist-packages (from ipython->qiskit-textbook==0.1.0) (4.9.0)\n",
            "Requirement already satisfied: ipykernel>=4.5.1 in /usr/local/lib/python3.10/dist-packages (from ipywidgets->qiskit-textbook==0.1.0) (5.5.6)\n",
            "Requirement already satisfied: ipython-genutils~=0.2.0 in /usr/local/lib/python3.10/dist-packages (from ipywidgets->qiskit-textbook==0.1.0) (0.2.0)\n",
            "Requirement already satisfied: widgetsnbextension~=3.6.0 in /usr/local/lib/python3.10/dist-packages (from ipywidgets->qiskit-textbook==0.1.0) (3.6.6)\n",
            "Requirement already satisfied: jupyterlab-widgets>=1.0.0 in /usr/local/lib/python3.10/dist-packages (from ipywidgets->qiskit-textbook==0.1.0) (3.0.10)\n",
            "Requirement already satisfied: contourpy>=1.0.1 in /usr/local/lib/python3.10/dist-packages (from matplotlib->qiskit-textbook==0.1.0) (1.2.1)\n",
            "Requirement already satisfied: cycler>=0.10 in /usr/local/lib/python3.10/dist-packages (from matplotlib->qiskit-textbook==0.1.0) (0.12.1)\n",
            "Requirement already satisfied: fonttools>=4.22.0 in /usr/local/lib/python3.10/dist-packages (from matplotlib->qiskit-textbook==0.1.0) (4.51.0)\n",
            "Requirement already satisfied: kiwisolver>=1.0.1 in /usr/local/lib/python3.10/dist-packages (from matplotlib->qiskit-textbook==0.1.0) (1.4.5)\n",
            "Requirement already satisfied: packaging>=20.0 in /usr/local/lib/python3.10/dist-packages (from matplotlib->qiskit-textbook==0.1.0) (24.0)\n",
            "Requirement already satisfied: pillow>=6.2.0 in /usr/local/lib/python3.10/dist-packages (from matplotlib->qiskit-textbook==0.1.0) (9.4.0)\n",
            "Requirement already satisfied: pyparsing>=2.3.1 in /usr/local/lib/python3.10/dist-packages (from matplotlib->qiskit-textbook==0.1.0) (3.1.2)\n",
            "Requirement already satisfied: python-dateutil>=2.7 in /usr/local/lib/python3.10/dist-packages (from matplotlib->qiskit-textbook==0.1.0) (2.8.2)\n",
            "Requirement already satisfied: rustworkx>=0.14.0 in /usr/local/lib/python3.10/dist-packages (from qiskit->qiskit-textbook==0.1.0) (0.14.2)\n",
            "Requirement already satisfied: scipy>=1.5 in /usr/local/lib/python3.10/dist-packages (from qiskit->qiskit-textbook==0.1.0) (1.11.4)\n",
            "Requirement already satisfied: sympy>=1.3 in /usr/local/lib/python3.10/dist-packages (from qiskit->qiskit-textbook==0.1.0) (1.12)\n",
            "Requirement already satisfied: dill>=0.3 in /usr/local/lib/python3.10/dist-packages (from qiskit->qiskit-textbook==0.1.0) (0.3.8)\n",
            "Requirement already satisfied: stevedore>=3.0.0 in /usr/local/lib/python3.10/dist-packages (from qiskit->qiskit-textbook==0.1.0) (5.2.0)\n",
            "Requirement already satisfied: typing-extensions in /usr/local/lib/python3.10/dist-packages (from qiskit->qiskit-textbook==0.1.0) (4.11.0)\n",
            "Requirement already satisfied: symengine>=0.11 in /usr/local/lib/python3.10/dist-packages (from qiskit->qiskit-textbook==0.1.0) (0.11.0)\n",
            "Requirement already satisfied: jupyter-client in /usr/local/lib/python3.10/dist-packages (from ipykernel>=4.5.1->ipywidgets->qiskit-textbook==0.1.0) (6.1.12)\n",
            "Requirement already satisfied: tornado>=4.2 in /usr/local/lib/python3.10/dist-packages (from ipykernel>=4.5.1->ipywidgets->qiskit-textbook==0.1.0) (6.3.3)\n",
            "Requirement already satisfied: parso<0.9.0,>=0.8.3 in /usr/local/lib/python3.10/dist-packages (from jedi>=0.16->ipython->qiskit-textbook==0.1.0) (0.8.4)\n",
            "Requirement already satisfied: ptyprocess>=0.5 in /usr/local/lib/python3.10/dist-packages (from pexpect>4.3->ipython->qiskit-textbook==0.1.0) (0.7.0)\n",
            "Requirement already satisfied: wcwidth in /usr/local/lib/python3.10/dist-packages (from prompt-toolkit!=3.0.0,!=3.0.1,<3.1.0,>=2.0.0->ipython->qiskit-textbook==0.1.0) (0.2.13)\n",
            "Requirement already satisfied: six>=1.5 in /usr/local/lib/python3.10/dist-packages (from python-dateutil>=2.7->matplotlib->qiskit-textbook==0.1.0) (1.16.0)\n",
            "Requirement already satisfied: pbr!=2.1.0,>=2.0.0 in /usr/local/lib/python3.10/dist-packages (from stevedore>=3.0.0->qiskit->qiskit-textbook==0.1.0) (6.0.0)\n",
            "Requirement already satisfied: mpmath>=0.19 in /usr/local/lib/python3.10/dist-packages (from sympy>=1.3->qiskit->qiskit-textbook==0.1.0) (1.3.0)\n",
            "Requirement already satisfied: notebook>=4.4.1 in /usr/local/lib/python3.10/dist-packages (from widgetsnbextension~=3.6.0->ipywidgets->qiskit-textbook==0.1.0) (6.5.5)\n",
            "Requirement already satisfied: jinja2 in /usr/local/lib/python3.10/dist-packages (from notebook>=4.4.1->widgetsnbextension~=3.6.0->ipywidgets->qiskit-textbook==0.1.0) (3.1.3)\n",
            "Requirement already satisfied: pyzmq<25,>=17 in /usr/local/lib/python3.10/dist-packages (from notebook>=4.4.1->widgetsnbextension~=3.6.0->ipywidgets->qiskit-textbook==0.1.0) (23.2.1)\n",
            "Requirement already satisfied: argon2-cffi in /usr/local/lib/python3.10/dist-packages (from notebook>=4.4.1->widgetsnbextension~=3.6.0->ipywidgets->qiskit-textbook==0.1.0) (23.1.0)\n",
            "Requirement already satisfied: jupyter-core>=4.6.1 in /usr/local/lib/python3.10/dist-packages (from notebook>=4.4.1->widgetsnbextension~=3.6.0->ipywidgets->qiskit-textbook==0.1.0) (5.7.2)\n",
            "Requirement already satisfied: nbformat in /usr/local/lib/python3.10/dist-packages (from notebook>=4.4.1->widgetsnbextension~=3.6.0->ipywidgets->qiskit-textbook==0.1.0) (5.10.4)\n",
            "Requirement already satisfied: nbconvert>=5 in /usr/local/lib/python3.10/dist-packages (from notebook>=4.4.1->widgetsnbextension~=3.6.0->ipywidgets->qiskit-textbook==0.1.0) (6.5.4)\n",
            "Requirement already satisfied: nest-asyncio>=1.5 in /usr/local/lib/python3.10/dist-packages (from notebook>=4.4.1->widgetsnbextension~=3.6.0->ipywidgets->qiskit-textbook==0.1.0) (1.6.0)\n",
            "Requirement already satisfied: Send2Trash>=1.8.0 in /usr/local/lib/python3.10/dist-packages (from notebook>=4.4.1->widgetsnbextension~=3.6.0->ipywidgets->qiskit-textbook==0.1.0) (1.8.3)\n",
            "Requirement already satisfied: terminado>=0.8.3 in /usr/local/lib/python3.10/dist-packages (from notebook>=4.4.1->widgetsnbextension~=3.6.0->ipywidgets->qiskit-textbook==0.1.0) (0.18.1)\n",
            "Requirement already satisfied: prometheus-client in /usr/local/lib/python3.10/dist-packages (from notebook>=4.4.1->widgetsnbextension~=3.6.0->ipywidgets->qiskit-textbook==0.1.0) (0.20.0)\n",
            "Requirement already satisfied: nbclassic>=0.4.7 in /usr/local/lib/python3.10/dist-packages (from notebook>=4.4.1->widgetsnbextension~=3.6.0->ipywidgets->qiskit-textbook==0.1.0) (1.0.0)\n",
            "Requirement already satisfied: platformdirs>=2.5 in /usr/local/lib/python3.10/dist-packages (from jupyter-core>=4.6.1->notebook>=4.4.1->widgetsnbextension~=3.6.0->ipywidgets->qiskit-textbook==0.1.0) (4.2.0)\n",
            "Requirement already satisfied: jupyter-server>=1.8 in /usr/local/lib/python3.10/dist-packages (from nbclassic>=0.4.7->notebook>=4.4.1->widgetsnbextension~=3.6.0->ipywidgets->qiskit-textbook==0.1.0) (1.24.0)\n",
            "Requirement already satisfied: notebook-shim>=0.2.3 in /usr/local/lib/python3.10/dist-packages (from nbclassic>=0.4.7->notebook>=4.4.1->widgetsnbextension~=3.6.0->ipywidgets->qiskit-textbook==0.1.0) (0.2.4)\n",
            "Requirement already satisfied: lxml in /usr/local/lib/python3.10/dist-packages (from nbconvert>=5->notebook>=4.4.1->widgetsnbextension~=3.6.0->ipywidgets->qiskit-textbook==0.1.0) (4.9.4)\n",
            "Requirement already satisfied: beautifulsoup4 in /usr/local/lib/python3.10/dist-packages (from nbconvert>=5->notebook>=4.4.1->widgetsnbextension~=3.6.0->ipywidgets->qiskit-textbook==0.1.0) (4.12.3)\n",
            "Requirement already satisfied: bleach in /usr/local/lib/python3.10/dist-packages (from nbconvert>=5->notebook>=4.4.1->widgetsnbextension~=3.6.0->ipywidgets->qiskit-textbook==0.1.0) (6.1.0)\n",
            "Requirement already satisfied: defusedxml in /usr/local/lib/python3.10/dist-packages (from nbconvert>=5->notebook>=4.4.1->widgetsnbextension~=3.6.0->ipywidgets->qiskit-textbook==0.1.0) (0.7.1)\n",
            "Requirement already satisfied: entrypoints>=0.2.2 in /usr/local/lib/python3.10/dist-packages (from nbconvert>=5->notebook>=4.4.1->widgetsnbextension~=3.6.0->ipywidgets->qiskit-textbook==0.1.0) (0.4)\n",
            "Requirement already satisfied: jupyterlab-pygments in /usr/local/lib/python3.10/dist-packages (from nbconvert>=5->notebook>=4.4.1->widgetsnbextension~=3.6.0->ipywidgets->qiskit-textbook==0.1.0) (0.3.0)\n",
            "Requirement already satisfied: MarkupSafe>=2.0 in /usr/local/lib/python3.10/dist-packages (from nbconvert>=5->notebook>=4.4.1->widgetsnbextension~=3.6.0->ipywidgets->qiskit-textbook==0.1.0) (2.1.5)\n",
            "Requirement already satisfied: mistune<2,>=0.8.1 in /usr/local/lib/python3.10/dist-packages (from nbconvert>=5->notebook>=4.4.1->widgetsnbextension~=3.6.0->ipywidgets->qiskit-textbook==0.1.0) (0.8.4)\n",
            "Requirement already satisfied: nbclient>=0.5.0 in /usr/local/lib/python3.10/dist-packages (from nbconvert>=5->notebook>=4.4.1->widgetsnbextension~=3.6.0->ipywidgets->qiskit-textbook==0.1.0) (0.10.0)\n",
            "Requirement already satisfied: pandocfilters>=1.4.1 in /usr/local/lib/python3.10/dist-packages (from nbconvert>=5->notebook>=4.4.1->widgetsnbextension~=3.6.0->ipywidgets->qiskit-textbook==0.1.0) (1.5.1)\n",
            "Requirement already satisfied: tinycss2 in /usr/local/lib/python3.10/dist-packages (from nbconvert>=5->notebook>=4.4.1->widgetsnbextension~=3.6.0->ipywidgets->qiskit-textbook==0.1.0) (1.2.1)\n",
            "Requirement already satisfied: fastjsonschema>=2.15 in /usr/local/lib/python3.10/dist-packages (from nbformat->notebook>=4.4.1->widgetsnbextension~=3.6.0->ipywidgets->qiskit-textbook==0.1.0) (2.19.1)\n",
            "Requirement already satisfied: jsonschema>=2.6 in /usr/local/lib/python3.10/dist-packages (from nbformat->notebook>=4.4.1->widgetsnbextension~=3.6.0->ipywidgets->qiskit-textbook==0.1.0) (4.19.2)\n",
            "Requirement already satisfied: argon2-cffi-bindings in /usr/local/lib/python3.10/dist-packages (from argon2-cffi->notebook>=4.4.1->widgetsnbextension~=3.6.0->ipywidgets->qiskit-textbook==0.1.0) (21.2.0)\n",
            "Requirement already satisfied: attrs>=22.2.0 in /usr/local/lib/python3.10/dist-packages (from jsonschema>=2.6->nbformat->notebook>=4.4.1->widgetsnbextension~=3.6.0->ipywidgets->qiskit-textbook==0.1.0) (23.2.0)\n",
            "Requirement already satisfied: jsonschema-specifications>=2023.03.6 in /usr/local/lib/python3.10/dist-packages (from jsonschema>=2.6->nbformat->notebook>=4.4.1->widgetsnbextension~=3.6.0->ipywidgets->qiskit-textbook==0.1.0) (2023.12.1)\n",
            "Requirement already satisfied: referencing>=0.28.4 in /usr/local/lib/python3.10/dist-packages (from jsonschema>=2.6->nbformat->notebook>=4.4.1->widgetsnbextension~=3.6.0->ipywidgets->qiskit-textbook==0.1.0) (0.34.0)\n",
            "Requirement already satisfied: rpds-py>=0.7.1 in /usr/local/lib/python3.10/dist-packages (from jsonschema>=2.6->nbformat->notebook>=4.4.1->widgetsnbextension~=3.6.0->ipywidgets->qiskit-textbook==0.1.0) (0.18.0)\n",
            "Requirement already satisfied: anyio<4,>=3.1.0 in /usr/local/lib/python3.10/dist-packages (from jupyter-server>=1.8->nbclassic>=0.4.7->notebook>=4.4.1->widgetsnbextension~=3.6.0->ipywidgets->qiskit-textbook==0.1.0) (3.7.1)\n",
            "Requirement already satisfied: websocket-client in /usr/local/lib/python3.10/dist-packages (from jupyter-server>=1.8->nbclassic>=0.4.7->notebook>=4.4.1->widgetsnbextension~=3.6.0->ipywidgets->qiskit-textbook==0.1.0) (1.7.0)\n",
            "Requirement already satisfied: cffi>=1.0.1 in /usr/local/lib/python3.10/dist-packages (from argon2-cffi-bindings->argon2-cffi->notebook>=4.4.1->widgetsnbextension~=3.6.0->ipywidgets->qiskit-textbook==0.1.0) (1.16.0)\n",
            "Requirement already satisfied: soupsieve>1.2 in /usr/local/lib/python3.10/dist-packages (from beautifulsoup4->nbconvert>=5->notebook>=4.4.1->widgetsnbextension~=3.6.0->ipywidgets->qiskit-textbook==0.1.0) (2.5)\n",
            "Requirement already satisfied: webencodings in /usr/local/lib/python3.10/dist-packages (from bleach->nbconvert>=5->notebook>=4.4.1->widgetsnbextension~=3.6.0->ipywidgets->qiskit-textbook==0.1.0) (0.5.1)\n",
            "Requirement already satisfied: idna>=2.8 in /usr/local/lib/python3.10/dist-packages (from anyio<4,>=3.1.0->jupyter-server>=1.8->nbclassic>=0.4.7->notebook>=4.4.1->widgetsnbextension~=3.6.0->ipywidgets->qiskit-textbook==0.1.0) (3.7)\n",
            "Requirement already satisfied: sniffio>=1.1 in /usr/local/lib/python3.10/dist-packages (from anyio<4,>=3.1.0->jupyter-server>=1.8->nbclassic>=0.4.7->notebook>=4.4.1->widgetsnbextension~=3.6.0->ipywidgets->qiskit-textbook==0.1.0) (1.3.1)\n",
            "Requirement already satisfied: exceptiongroup in /usr/local/lib/python3.10/dist-packages (from anyio<4,>=3.1.0->jupyter-server>=1.8->nbclassic>=0.4.7->notebook>=4.4.1->widgetsnbextension~=3.6.0->ipywidgets->qiskit-textbook==0.1.0) (1.2.0)\n",
            "Requirement already satisfied: pycparser in /usr/local/lib/python3.10/dist-packages (from cffi>=1.0.1->argon2-cffi-bindings->argon2-cffi->notebook>=4.4.1->widgetsnbextension~=3.6.0->ipywidgets->qiskit-textbook==0.1.0) (2.22)\n"
          ]
        }
      ],
      "source": [
        "!python3 -m pip install qiskit[visualization]\n",
        "!python3 -m pip install qiskit-aer\n",
        "!python3 -m pip install git+https://github.com/qiskit-community/qiskit-textbook.git#subdirectory=qiskit-textbook-src"
      ],
      "id": "2_3i7FWZU9LS"
    },
    {
      "cell_type": "code",
      "source": [
        "import qiskit\n",
        "import qiskit_aer\n",
        "\n",
        "print(qiskit.__version__)\n",
        "print(qiskit_aer.__version__)"
      ],
      "metadata": {
        "colab": {
          "base_uri": "https://localhost:8080/"
        },
        "id": "yR30FNcZ3Xvf",
        "outputId": "94398f1c-56a3-4354-da1b-47fd939f266e"
      },
      "id": "yR30FNcZ3Xvf",
      "execution_count": 76,
      "outputs": [
        {
          "output_type": "stream",
          "name": "stdout",
          "text": [
            "1.0.2\n",
            "0.14.0.1\n"
          ]
        }
      ]
    },
    {
      "cell_type": "code",
      "execution_count": 3,
      "id": "d4749ad4",
      "metadata": {
        "id": "d4749ad4"
      },
      "outputs": [],
      "source": [
        "# required import of libraries and modules\n",
        "\n",
        "# import array to latex converter from\n",
        "# IBM's Qiskit visualization module\n",
        "from qiskit.visualization import array_to_latex\n",
        "\n",
        "# import state-vector and random state-vector from\n",
        "# IBM's Qiskit quantum information module\n",
        "from qiskit.quantum_info import Statevector, random_statevector\n",
        "\n",
        "# import abstract operator and pauli operator from\n",
        "# IBM's Qiskit quantum information's operators module\n",
        "from qiskit.quantum_info.operators import Operator, Pauli\n",
        "\n",
        "# import quantum circuit from IBM's Qiskit\n",
        "from qiskit import QuantumCircuit\n",
        "\n",
        "# import hadamard gate and CX/CNOT gate from IBM's Qiskit\n",
        "from qiskit.circuit.library import HGate, CXGate\n",
        "\n",
        "# import numpy\n",
        "import numpy as np"
      ]
    },
    {
      "cell_type": "markdown",
      "id": "742da035",
      "metadata": {
        "id": "742da035"
      },
      "source": [
        "## Vectors and Dirac Notation"
      ]
    },
    {
      "cell_type": "markdown",
      "id": "808ec86f",
      "metadata": {
        "id": "808ec86f"
      },
      "source": [
        "In the lectures you learned different ways of representing quantum states, including how to use Bra-Ket (Dirac) notation.\n",
        "\n",
        "Although Bra-Ket notation cannot be represented exactly in code, we can represent their vector and matrix equivalent with Python.\n",
        "\n",
        "For example, we can represent $|0\\rangle$ using a Python list:"
      ]
    },
    {
      "cell_type": "code",
      "execution_count": 17,
      "id": "b93989c8",
      "metadata": {
        "id": "b93989c8"
      },
      "outputs": [],
      "source": [
        "# define the column-vector for |0>\n",
        "ket0 = [[1],[0]]"
      ]
    },
    {
      "cell_type": "markdown",
      "id": "34428069",
      "metadata": {
        "id": "34428069"
      },
      "source": [
        "And we can use one of IBM's Qiskit visualisation tools to make our vectors nicer to look at:"
      ]
    },
    {
      "cell_type": "code",
      "execution_count": 5,
      "id": "ee9b7eb0",
      "metadata": {
        "colab": {
          "base_uri": "https://localhost:8080/",
          "height": 58
        },
        "id": "ee9b7eb0",
        "outputId": "0f8ecabb-9597-4e30-fb2b-577f132150a0"
      },
      "outputs": [
        {
          "output_type": "execute_result",
          "data": {
            "text/plain": [
              "<IPython.core.display.Latex object>"
            ],
            "text/latex": "$$\n\n\\begin{bmatrix}\n1  \\\\\n 0  \\\\\n \\end{bmatrix}\n$$"
          },
          "metadata": {},
          "execution_count": 5
        }
      ],
      "source": [
        "# convert the column-vector |0> to latex\n",
        "array_to_latex(ket0)"
      ]
    },
    {
      "cell_type": "markdown",
      "id": "a61be47b",
      "metadata": {
        "id": "a61be47b"
      },
      "source": [
        "We can do the same with $\\langle0|$:"
      ]
    },
    {
      "cell_type": "code",
      "execution_count": 6,
      "id": "25f9ff7e",
      "metadata": {
        "colab": {
          "base_uri": "https://localhost:8080/",
          "height": 38
        },
        "id": "25f9ff7e",
        "outputId": "7ab1431d-ce38-4489-98e5-78118f507c9e"
      },
      "outputs": [
        {
          "output_type": "execute_result",
          "data": {
            "text/plain": [
              "<IPython.core.display.Latex object>"
            ],
            "text/latex": "$$\n\n\\begin{bmatrix}\n1 & 0  \\\\\n \\end{bmatrix}\n$$"
          },
          "metadata": {},
          "execution_count": 6
        }
      ],
      "source": [
        "# define the row-vector for <0|\n",
        "bra0 = [1, 0]\n",
        "\n",
        "# convert the row-vector <0| to latex\n",
        "array_to_latex(bra0)"
      ]
    },
    {
      "cell_type": "markdown",
      "id": "2cc359db",
      "metadata": {
        "id": "2cc359db"
      },
      "source": [
        "<div class=\"alert alert-block alert-success\"> Ex. 1 - Create the state-vectors $|1\\rangle$ and $\\langle1|$ with Python lists. </div>"
      ]
    },
    {
      "cell_type": "code",
      "execution_count": 18,
      "id": "59a7be22",
      "metadata": {
        "id": "59a7be22"
      },
      "outputs": [],
      "source": [
        "# put your answer answer here for the column-vector |1>\n",
        "ket1 = [ [0], [1] ]\n",
        "\n",
        "# put your answer here for the row-vector <1|\n",
        "bra1 = [0, 1]"
      ]
    },
    {
      "cell_type": "markdown",
      "id": "21b44ec9",
      "metadata": {
        "id": "21b44ec9"
      },
      "source": [
        "## Qiskit `Statevector` Class\n",
        "\n",
        "In the lectures you learned about using state vectors to represent quantum states. You can represent quantum state vectors in code using IBM's Qiskit [`Statevector` class](https://qiskit.org/documentation/stubs/qiskit.quantum_info.Statevector.html).\n",
        "\n",
        "IBM's Qiskit `Statevector` class can take different forms of input (e.g. Python list, Numpy array, another state vector) to construct a state vector.\n",
        "\n",
        "Let's take the `bra0` object we created earlier and convert it to a `Statevector` object:"
      ]
    },
    {
      "cell_type": "code",
      "execution_count": 19,
      "id": "3ac7420a",
      "metadata": {
        "colab": {
          "base_uri": "https://localhost:8080/"
        },
        "id": "3ac7420a",
        "outputId": "3dc27531-23c3-414b-eccd-5555ec826b9d"
      },
      "outputs": [
        {
          "output_type": "stream",
          "name": "stdout",
          "text": [
            "Statevector([1.+0.j, 0.+0.j],\n",
            "            dims=(2,))\n"
          ]
        }
      ],
      "source": [
        "# create a state-vector for the row-vector <0|\n",
        "sv_bra0 = Statevector(bra0)\n",
        "\n",
        "# show the object of the state-vector for the row-vector <0|\n",
        "sv_bra0"
      ]
    },
    {
      "cell_type": "markdown",
      "id": "9d3015ec",
      "metadata": {
        "id": "9d3015ec"
      },
      "source": [
        "The `Statevector` class has its own `draw()` method:"
      ]
    },
    {
      "cell_type": "code",
      "execution_count": 16,
      "id": "c7d0a57c",
      "metadata": {
        "colab": {
          "base_uri": "https://localhost:8080/",
          "height": 37
        },
        "id": "c7d0a57c",
        "outputId": "1b457c41-ed40-4c7e-bfda-0b99f1803303"
      },
      "outputs": [
        {
          "output_type": "execute_result",
          "data": {
            "text/plain": [
              "<IPython.core.display.Latex object>"
            ],
            "text/latex": "$$ |0\\rangle$$"
          },
          "metadata": {},
          "execution_count": 16
        }
      ],
      "source": [
        "# draw the state-vector for the row-vector <0| in latex\n",
        "sv_bra0.draw(\"latex\")"
      ]
    },
    {
      "cell_type": "markdown",
      "id": "9a443d7b",
      "metadata": {
        "id": "9a443d7b"
      },
      "source": [
        "We can create more complex statevectors with multiple qubits like this:"
      ]
    },
    {
      "cell_type": "code",
      "execution_count": 20,
      "id": "dc70f9c7",
      "metadata": {
        "colab": {
          "base_uri": "https://localhost:8080/",
          "height": 38
        },
        "id": "dc70f9c7",
        "outputId": "4f34cd8e-2d7f-4ce1-b9f4-d587bc1a1ae2"
      },
      "outputs": [
        {
          "output_type": "execute_result",
          "data": {
            "text/plain": [
              "<IPython.core.display.Latex object>"
            ],
            "text/latex": "$$\\frac{1}{2} |00\\rangle+\\frac{3}{4} |01\\rangle+\\frac{4}{5} |10\\rangle+\\frac{3}{4} |11\\rangle$$"
          },
          "metadata": {},
          "execution_count": 20
        }
      ],
      "source": [
        "# create a complex state-vector for multiple qubits\n",
        "sv_eq = Statevector( [ 1/2, 3/4, 4/5, 6/8 ] )\n",
        "\n",
        "# draw the complex state-vector created before in latex\n",
        "sv_eq.draw(\"latex\")"
      ]
    },
    {
      "cell_type": "markdown",
      "id": "c7e00788",
      "metadata": {
        "id": "c7e00788"
      },
      "source": [
        "Note that the vector above is not a valid state vector as it is not normalised.\n",
        "We can check this with the `is_valid()` method:"
      ]
    },
    {
      "cell_type": "code",
      "execution_count": null,
      "id": "8459bf73",
      "metadata": {
        "id": "8459bf73",
        "outputId": "b51327d4-fd36-41c8-ca4b-be322f4d0628"
      },
      "outputs": [
        {
          "data": {
            "text/plain": [
              "False"
            ]
          },
          "execution_count": 10,
          "metadata": {},
          "output_type": "execute_result"
        }
      ],
      "source": [
        "# check if the complex state-vector created before\n",
        "# is valid for a quantum state (i.e., if it is normalised)\n",
        "sv_eq.is_valid()"
      ]
    },
    {
      "cell_type": "markdown",
      "id": "a4b83945",
      "metadata": {
        "id": "a4b83945"
      },
      "source": [
        "<div class=\"alert alert-block alert-success\"> Ex. 2 - Create your own valid statevector object using the `Statevector` class. </div>"
      ]
    },
    {
      "cell_type": "code",
      "execution_count": 21,
      "id": "02cfaf2f",
      "metadata": {
        "id": "02cfaf2f"
      },
      "outputs": [],
      "source": [
        "# create your valid statevector here\n",
        "sv_valid = Statevector( [ 1/2, 1/2, 1/2, 1/2 ] )"
      ]
    },
    {
      "cell_type": "markdown",
      "id": "3faad35b",
      "metadata": {
        "id": "3faad35b"
      },
      "source": [
        "## IBM's Qiskit `Operator` Class\n",
        "\n",
        "The [`Operator` class](https://qiskit.org/documentation/stubs/qiskit.quantum_info.Operator.html#qiskit.quantum_info.Operator) is used in IBM's Qiskit to represent matrix operators acting on a quantum system. It has several methods to build composite operators using tensor products of smaller operators, and to compose operators.\n",
        "\n",
        "One way we can initialise an IBM's Qiskit `Operator` is by using a Python list, like the one we created earlier:"
      ]
    },
    {
      "cell_type": "code",
      "execution_count": 23,
      "id": "180a544f",
      "metadata": {
        "colab": {
          "base_uri": "https://localhost:8080/"
        },
        "id": "180a544f",
        "outputId": "b8b73a13-e712-48cb-a92f-a456face3b83"
      },
      "outputs": [
        {
          "output_type": "stream",
          "name": "stdout",
          "text": [
            "Operator([1.+0.j, 0.+0.j],\n",
            "         input_dims=(), output_dims=(2,))\n"
          ]
        }
      ],
      "source": [
        "# create an operator for the row-vector <0|\n",
        "op_bra0 = Operator(bra0)\n",
        "\n",
        "# show the object of the operator for the row-vector <0|\n",
        "op_bra0"
      ]
    },
    {
      "cell_type": "markdown",
      "id": "dc578df9",
      "metadata": {
        "id": "dc578df9"
      },
      "source": [
        "The Operator class comes with some handy methods for working with operators, for example we can find the tensor product of 2 operators by using the `tensor()` method:"
      ]
    },
    {
      "cell_type": "code",
      "execution_count": 25,
      "id": "7aed9441",
      "metadata": {
        "colab": {
          "base_uri": "https://localhost:8080/"
        },
        "id": "7aed9441",
        "outputId": "1566132b-b199-45ec-976b-af8871ce3a56"
      },
      "outputs": [
        {
          "output_type": "stream",
          "name": "stdout",
          "text": [
            "Operator([[1.+0.j, 0.+0.j],\n",
            "          [0.+0.j, 0.+0.j]],\n",
            "         input_dims=(), output_dims=(2, 2))\n"
          ]
        }
      ],
      "source": [
        "# create an operator for the column-vector |0>\n",
        "op_ket0 = Operator(ket0)\n",
        "\n",
        "# apply the tensor product of the operator\n",
        "# created before to the operator applied to\n",
        "# the row-vector <0|\n",
        "op_bra0.tensor(op_ket0)"
      ]
    },
    {
      "cell_type": "markdown",
      "id": "e244f5a0",
      "metadata": {
        "id": "e244f5a0"
      },
      "source": [
        "We'll use the `Operator` and `Statevector` classes more in the following exercises."
      ]
    },
    {
      "cell_type": "markdown",
      "id": "208cf2b6",
      "metadata": {
        "id": "208cf2b6"
      },
      "source": [
        "## Inner & Outer Product\n",
        "\n",
        "In the lectures you covered the concepts of the inner and outer product. We can explore these concepts in code using Numpy methods `.dot()` (the inner product is a generalised form of the dot product) and `.outer()`.\n",
        "\n",
        "For example, we can find the inner product $\\langle0|0\\rangle$ like this:"
      ]
    },
    {
      "cell_type": "code",
      "execution_count": 28,
      "id": "cf3cb816",
      "metadata": {
        "colab": {
          "base_uri": "https://localhost:8080/",
          "height": 38
        },
        "id": "cf3cb816",
        "outputId": "2ab0fb38-4e6e-4738-90c3-4e992534745c"
      },
      "outputs": [
        {
          "output_type": "execute_result",
          "data": {
            "text/plain": [
              "<IPython.core.display.Latex object>"
            ],
            "text/latex": "$$\n\n\\begin{bmatrix}\n1  \\\\\n \\end{bmatrix}\n$$"
          },
          "metadata": {},
          "execution_count": 28
        }
      ],
      "source": [
        "# compute the inner product between the row-vector <0|\n",
        "# and the column-vector |0>, as a bra-ket product <0|0>\n",
        "# note: this operator is also used to check if\n",
        "#       two pure quantum states overlap (i.e., are equal)\n",
        "braket = np.dot(op_bra0, op_ket0)\n",
        "\n",
        "# convert the result of the inner product\n",
        "# computed before to latex\n",
        "array_to_latex(braket)"
      ]
    },
    {
      "cell_type": "markdown",
      "id": "e5d604d7",
      "metadata": {
        "id": "e5d604d7"
      },
      "source": [
        "And the outer product $|0\\rangle\\langle0|$ like this:"
      ]
    },
    {
      "cell_type": "code",
      "execution_count": 29,
      "id": "73232e3d",
      "metadata": {
        "colab": {
          "base_uri": "https://localhost:8080/",
          "height": 58
        },
        "id": "73232e3d",
        "outputId": "2502608b-47d5-43ec-9c7c-7cd1fc259e7f"
      },
      "outputs": [
        {
          "output_type": "execute_result",
          "data": {
            "text/plain": [
              "<IPython.core.display.Latex object>"
            ],
            "text/latex": "$$\n\n\\begin{bmatrix}\n1 & 0  \\\\\n 0 & 0  \\\\\n \\end{bmatrix}\n$$"
          },
          "metadata": {},
          "execution_count": 29
        }
      ],
      "source": [
        "# compute the outer product between the column-vector |0>\n",
        "# and the column-vector <0|, as a ket-bra product |0><0|\n",
        "ketbra = np.outer(ket0,bra0)\n",
        "\n",
        "# convert the result of the outer product\n",
        "# computed before to latex\n",
        "array_to_latex(ketbra)"
      ]
    },
    {
      "cell_type": "markdown",
      "id": "cdca2a30",
      "metadata": {
        "id": "cdca2a30"
      },
      "source": [
        "Note: The Numpy methods we used above work with IBM's Qiskit Operators as well as regular Python lists."
      ]
    },
    {
      "cell_type": "markdown",
      "id": "2dc9ed02",
      "metadata": {
        "id": "2dc9ed02"
      },
      "source": [
        "<div class=\"alert alert-block alert-success\"> Ex. 3 - Use Numpy to find the result of the following inner and outer products:<br>\n",
        "    <p> &#8226; $\\langle1|0\\rangle$, $\\langle0|1\\rangle$, $\\langle1|1\\rangle$, $|1\\rangle\\langle0|$, $|0\\rangle\\langle1|$, and $|1\\rangle\\langle1|$. </p>\n",
        "</div>"
      ]
    },
    {
      "cell_type": "code",
      "execution_count": 30,
      "id": "72e1bb34",
      "metadata": {
        "id": "72e1bb34"
      },
      "outputs": [],
      "source": [
        "# definition of the operators for the row-vectors (bra vectors)\n",
        "# <0| and <1|, and the column-vectors (ket vectors) |0> and |1>\n",
        "op_bra0 = Operator(bra0)\n",
        "op_bra1 = Operator(bra1)\n",
        "op_ket0 = Operator(ket0)\n",
        "op_ket1 = Operator(ket1)\n",
        "\n",
        "\n",
        "# definition of the inner products (bra-ket products)\n",
        "\n",
        "# put your answer for the inner product\n",
        "# (bra-ket product) <1|0> here\n",
        "bra1ket0 = np.dot(op_bra1, op_ket0)\n",
        "\n",
        "# put your answer for the inner product\n",
        "# (bra-ket product) <0|1> here\n",
        "bra0ket1 = np.dot(op_bra0, op_ket1)\n",
        "\n",
        "# put your answer for the inner product\n",
        "# (bra-ket product) <1|1> here\n",
        "bra1ket1 = np.dot(op_bra1, op_ket1)\n",
        "\n",
        "\n",
        "# definition of the outer products (ket-bra products)\n",
        "\n",
        "# put your answer for the outer product\n",
        "# (ket-bra product) |1><0| here\n",
        "ket1bra0 = np.outer(op_ket1, op_bra0)\n",
        "\n",
        "# put your answer for the outer product\n",
        "# (ket-bra product) |0><1| here\n",
        "ket0bra1 = np.outer(op_ket0, op_bra1)\n",
        "\n",
        "# put your answer for the outer product\n",
        "# (ket-bra product) |1><1| here\n",
        "ket1bra1 = np.outer(op_ket1, op_bra1)"
      ]
    },
    {
      "cell_type": "code",
      "source": [
        "array_to_latex(bra1ket0)"
      ],
      "metadata": {
        "colab": {
          "base_uri": "https://localhost:8080/",
          "height": 38
        },
        "id": "dI9aFu4KyLR7",
        "outputId": "24919391-77ba-42d3-f8e0-f8c582e6a8cb"
      },
      "id": "dI9aFu4KyLR7",
      "execution_count": 31,
      "outputs": [
        {
          "output_type": "execute_result",
          "data": {
            "text/plain": [
              "<IPython.core.display.Latex object>"
            ],
            "text/latex": "$$\n\n\\begin{bmatrix}\n0  \\\\\n \\end{bmatrix}\n$$"
          },
          "metadata": {},
          "execution_count": 31
        }
      ]
    },
    {
      "cell_type": "code",
      "source": [
        "array_to_latex(bra0ket1)"
      ],
      "metadata": {
        "colab": {
          "base_uri": "https://localhost:8080/",
          "height": 38
        },
        "id": "y8yxEf4dyMs8",
        "outputId": "684af4d6-a762-4a79-ee46-40461d441e12"
      },
      "id": "y8yxEf4dyMs8",
      "execution_count": 32,
      "outputs": [
        {
          "output_type": "execute_result",
          "data": {
            "text/plain": [
              "<IPython.core.display.Latex object>"
            ],
            "text/latex": "$$\n\n\\begin{bmatrix}\n0  \\\\\n \\end{bmatrix}\n$$"
          },
          "metadata": {},
          "execution_count": 32
        }
      ]
    },
    {
      "cell_type": "code",
      "source": [
        "array_to_latex(bra1ket1)"
      ],
      "metadata": {
        "colab": {
          "base_uri": "https://localhost:8080/",
          "height": 38
        },
        "id": "zg-6AurRyMVN",
        "outputId": "637ac292-5212-4b49-c5d5-9b43cba1b37d"
      },
      "id": "zg-6AurRyMVN",
      "execution_count": 33,
      "outputs": [
        {
          "output_type": "execute_result",
          "data": {
            "text/plain": [
              "<IPython.core.display.Latex object>"
            ],
            "text/latex": "$$\n\n\\begin{bmatrix}\n1  \\\\\n \\end{bmatrix}\n$$"
          },
          "metadata": {},
          "execution_count": 33
        }
      ]
    },
    {
      "cell_type": "code",
      "source": [
        "array_to_latex(ket1bra0)"
      ],
      "metadata": {
        "colab": {
          "base_uri": "https://localhost:8080/",
          "height": 58
        },
        "id": "wAS2rJcoyVwQ",
        "outputId": "b2eeb69d-1765-44e4-981d-6040776c30a0"
      },
      "id": "wAS2rJcoyVwQ",
      "execution_count": 34,
      "outputs": [
        {
          "output_type": "execute_result",
          "data": {
            "text/plain": [
              "<IPython.core.display.Latex object>"
            ],
            "text/latex": "$$\n\n\\begin{bmatrix}\n0 & 0  \\\\\n 1 & 0  \\\\\n \\end{bmatrix}\n$$"
          },
          "metadata": {},
          "execution_count": 34
        }
      ]
    },
    {
      "cell_type": "code",
      "source": [
        "array_to_latex(ket0bra1)"
      ],
      "metadata": {
        "colab": {
          "base_uri": "https://localhost:8080/",
          "height": 58
        },
        "id": "RUrfL7JjyVk-",
        "outputId": "a7726346-dc0c-45bc-939f-d2c93f853b64"
      },
      "id": "RUrfL7JjyVk-",
      "execution_count": 35,
      "outputs": [
        {
          "output_type": "execute_result",
          "data": {
            "text/plain": [
              "<IPython.core.display.Latex object>"
            ],
            "text/latex": "$$\n\n\\begin{bmatrix}\n0 & 1  \\\\\n 0 & 0  \\\\\n \\end{bmatrix}\n$$"
          },
          "metadata": {},
          "execution_count": 35
        }
      ]
    },
    {
      "cell_type": "code",
      "source": [
        "array_to_latex(ket1bra1)"
      ],
      "metadata": {
        "colab": {
          "base_uri": "https://localhost:8080/",
          "height": 58
        },
        "id": "ibOGJzl4yL_U",
        "outputId": "12d6c865-8ae8-46a8-d71e-ac02583932c6"
      },
      "id": "ibOGJzl4yL_U",
      "execution_count": 36,
      "outputs": [
        {
          "output_type": "execute_result",
          "data": {
            "text/plain": [
              "<IPython.core.display.Latex object>"
            ],
            "text/latex": "$$\n\n\\begin{bmatrix}\n0 & 0  \\\\\n 0 & 1  \\\\\n \\end{bmatrix}\n$$"
          },
          "metadata": {},
          "execution_count": 36
        }
      ]
    },
    {
      "cell_type": "markdown",
      "id": "7c03e06d",
      "metadata": {
        "id": "7c03e06d"
      },
      "source": [
        "<div class=\"alert alert-block alert-success\">\n",
        "    <p> Ex. 4 - When the inner product of 2 quantum states is equal to 0, those states are orthogonal. Which of the following quantum states are orthogonal? </p>\n",
        "    <p>a) $\\vert 0\\rangle$ and $\\vert 1\\rangle$ </p>\n",
        "    <p>b) $\\vert 0\\rangle$ and $\\vert 0\\rangle$ </p>\n",
        "    <p>c) $\\vert 1\\rangle$ and $\\vert 1\\rangle$ </p>\n",
        "</div>"
      ]
    },
    {
      "cell_type": "code",
      "execution_count": null,
      "id": "6e061263",
      "metadata": {
        "id": "6e061263"
      },
      "outputs": [],
      "source": [
        "# two quantum states are orthogonal if\n",
        "# they are completely opposite and\n",
        "# never overlap with each other\n",
        "# (i.e., when their inner product is equal to 0)\n",
        "\n",
        "# <0|1> = <1|0> = 0, the quantum states |0> and |1>\n",
        "# never overlap with each other and are completely opposite,\n",
        "# or in other words, they are orthogonal\n",
        "\n",
        "# add or remove your answer from this list\n",
        "answer = [\"a\"]"
      ]
    },
    {
      "cell_type": "markdown",
      "id": "e695b37a",
      "metadata": {
        "id": "e695b37a"
      },
      "source": [
        "## Deterministic operations\n",
        "\n",
        "As mentioned in the lectures, there are 4 single bit deterministic operations:  \n",
        "* f1 = constant-0  \n",
        "* f2 = identity  \n",
        "* f3 = bit flip / not  \n",
        "* f4 = constant-1\n",
        "\n",
        "$$\n",
        "\\begin{array}{c|c}\n",
        "  a & f_1(a)\\\\\n",
        "  \\hline\n",
        "  0 & 0\\\\\n",
        "  1 & 0\n",
        "\\end{array}\n",
        "\\qquad\n",
        "\\begin{array}{c|c}\n",
        "  a & f_2(a)\\\\\n",
        "  \\hline\n",
        "  0 & 0\\\\\n",
        "  1 & 1\n",
        "\\end{array}\n",
        "\\qquad\n",
        "\\begin{array}{c|c}\n",
        "  a & f_3(a)\\\\\n",
        "  \\hline\n",
        "  0 & 1\\\\\n",
        "  1 & 0\n",
        "\\end{array}\n",
        "\\qquad\n",
        "\\begin{array}{c|c}\n",
        "  a & f_4(a)\\\\\n",
        "  \\hline\n",
        "  0 & 1\\\\\n",
        "  1 & 1\n",
        "\\end{array}\n",
        "$$\n",
        "\n",
        "We can create Qiskit Operators for these 4 operations, by passing their matrix representations as arguments to the `Operator` class.\n",
        "\n",
        "E.g., for constant-0 we can create the corresponding matrix m1 like so:"
      ]
    },
    {
      "cell_type": "code",
      "execution_count": 37,
      "id": "8edc4262",
      "metadata": {
        "colab": {
          "base_uri": "https://localhost:8080/",
          "height": 58
        },
        "id": "8edc4262",
        "outputId": "44f5638b-2324-424f-c053-99e53872d151"
      },
      "outputs": [
        {
          "output_type": "execute_result",
          "data": {
            "text/plain": [
              "<IPython.core.display.Latex object>"
            ],
            "text/latex": "$$\n\n\\begin{bmatrix}\n1 & 1  \\\\\n 0 & 0  \\\\\n \\end{bmatrix}\n$$"
          },
          "metadata": {},
          "execution_count": 37
        }
      ],
      "source": [
        "# create an operator for a single qubit system defined as\n",
        "# m_1 = [ [1, 1],\n",
        "#         [0, 0] ], which represents the f1 = constant-0\n",
        "#                   deterministic operation\n",
        "m1 = Operator( [ [1, 1], [0, 0] ] )\n",
        "\n",
        "# convert the operator created before to latex\n",
        "array_to_latex(m1)"
      ]
    },
    {
      "cell_type": "markdown",
      "id": "2792a781",
      "metadata": {
        "id": "2792a781"
      },
      "source": [
        "And similarly for m3 (for f3 = bit flip / not):"
      ]
    },
    {
      "cell_type": "code",
      "execution_count": 40,
      "id": "9cc2ff6c",
      "metadata": {
        "colab": {
          "base_uri": "https://localhost:8080/",
          "height": 58
        },
        "id": "9cc2ff6c",
        "outputId": "e1159007-1f00-4455-aa2a-761bd9344f9a"
      },
      "outputs": [
        {
          "output_type": "execute_result",
          "data": {
            "text/plain": [
              "<IPython.core.display.Latex object>"
            ],
            "text/latex": "$$\n\n\\begin{bmatrix}\n0 & 1  \\\\\n 1 & 0  \\\\\n \\end{bmatrix}\n$$"
          },
          "metadata": {},
          "execution_count": 40
        }
      ],
      "source": [
        "# create an operator for a single qubit system defined as\n",
        "# m_3 = [ [0, 1],\n",
        "#         [1, 0] ], which represents the f3 = bit flip / not\n",
        "#                   deterministic operation\n",
        "m3 = Operator( [ [0, 1], [1,0] ] )\n",
        "\n",
        "# convert the operator created before to latex\n",
        "array_to_latex(m3)"
      ]
    },
    {
      "cell_type": "markdown",
      "id": "765e8f0e",
      "metadata": {
        "id": "765e8f0e"
      },
      "source": [
        "We can also use builtin Python mutliplication operations (e.g. `@`, `.dot`, or `.matmul`) to check the following equation: $ M|a\\rangle = f|a\\rangle $.\n",
        "\n",
        "For example, $ M1|0\\rangle = f1|0\\rangle $ = 0:"
      ]
    },
    {
      "cell_type": "code",
      "execution_count": 41,
      "id": "a283a8bd",
      "metadata": {
        "colab": {
          "base_uri": "https://localhost:8080/",
          "height": 58
        },
        "id": "a283a8bd",
        "outputId": "663ce3f4-32db-415f-d5bc-24e7260337fe"
      },
      "outputs": [
        {
          "output_type": "execute_result",
          "data": {
            "text/plain": [
              "<IPython.core.display.Latex object>"
            ],
            "text/latex": "$$\n\n\\begin{bmatrix}\n1  \\\\\n 0  \\\\\n \\end{bmatrix}\n$$"
          },
          "metadata": {},
          "execution_count": 41
        }
      ],
      "source": [
        "# represent in latex the result of applying\n",
        "# the operator m1 to the column-vector (ket vector) |0>\n",
        "array_to_latex(m1@ket0)"
      ]
    },
    {
      "cell_type": "markdown",
      "id": "f044b3f6",
      "metadata": {
        "id": "f044b3f6"
      },
      "source": [
        "<div class=\"alert alert-block alert-success\"> Ex. 5 - Create IBM's Qiskit Operators for m2 and m4.<br> &nbsp;&nbsp;&nbsp;&nbsp;&nbsp;&nbsp;&nbsp;&nbsp;&nbsp;&nbsp;&nbsp;&nbsp;(Hint: Check out the lectures to find the appropriate matrices). </div>"
      ]
    },
    {
      "cell_type": "code",
      "execution_count": 42,
      "id": "31927dfa",
      "metadata": {
        "id": "31927dfa"
      },
      "outputs": [],
      "source": [
        "# create an operator for a single qubit system defined as\n",
        "# m_2 = [ [1, 0],\n",
        "#         [0, 1] ], which represents the f2 = identity\n",
        "#                   deterministic operation\n",
        "m2 = Operator( [ [1, 0], [0, 1] ] )\n",
        "\n",
        "# create an operator for a single qubit system defined as\n",
        "# m_4 = [ [0, 0],\n",
        "#         [1, 1] ], which represents the f4 = constant-1\n",
        "#                   deterministic operation\n",
        "m4 = Operator( [ [0, 0], [1, 1] ] )"
      ]
    },
    {
      "cell_type": "markdown",
      "id": "d611468d",
      "metadata": {
        "id": "d611468d"
      },
      "source": [
        "## Probabilistic operations\n",
        "\n",
        "A Controlled-NOT (or CNOT) operation is a probabilistic operation you can apply on 2 qubits.\n",
        "\n",
        "Applying a CNOT on a state (X,Y) involves performing a NOT operation on Y when X is 1, otherwise do nothing.\n",
        "X is the control bit, Y is the target bit.\n",
        "\n",
        "We can implement a CNOT gate (and many other quantum gates) using a class from [Qiskit's circuit library](https://qiskit.org/documentation/apidoc/circuit_library.html):"
      ]
    },
    {
      "cell_type": "code",
      "execution_count": 43,
      "id": "d6aec987",
      "metadata": {
        "colab": {
          "base_uri": "https://localhost:8080/",
          "height": 98
        },
        "id": "d6aec987",
        "outputId": "866805ea-5b45-4e8e-ace4-e086d5987018"
      },
      "outputs": [
        {
          "output_type": "execute_result",
          "data": {
            "text/plain": [
              "<IPython.core.display.Latex object>"
            ],
            "text/latex": "$$\n\n\\begin{bmatrix}\n1 & 0 & 0 & 0  \\\\\n 0 & 0 & 0 & 1  \\\\\n 0 & 0 & 1 & 0  \\\\\n 0 & 1 & 0 & 0  \\\\\n \\end{bmatrix}\n$$"
          },
          "metadata": {},
          "execution_count": 43
        }
      ],
      "source": [
        "# create a CX/CNOT quantum gate as an operator\n",
        "cnot = CXGate()\n",
        "\n",
        "# convert the operator created before to latex\n",
        "array_to_latex(cnot)"
      ]
    },
    {
      "cell_type": "markdown",
      "id": "49ee11bb",
      "metadata": {
        "id": "49ee11bb"
      },
      "source": [
        "Note: This matrix is different from the one that appeared in the lesson because `CXGate()` takes the right qubit to be the control rather than the left qubit."
      ]
    },
    {
      "cell_type": "markdown",
      "id": "bd0665bc",
      "metadata": {
        "id": "bd0665bc"
      },
      "source": [
        "## Unitary Operations\n",
        "\n",
        "An operator is unitary if: $ UU^{\\dagger} = \\mathbb{1} = U^{\\dagger} U$.\n",
        "\n",
        "We can check if an operator is Unitary using IBM's Qiskit with the `is_unitary()` method:"
      ]
    },
    {
      "cell_type": "code",
      "execution_count": 44,
      "id": "83e80fd5",
      "metadata": {
        "colab": {
          "base_uri": "https://localhost:8080/"
        },
        "id": "83e80fd5",
        "outputId": "c47cfad3-0f01-4d48-e978-ea9bebe4a3ac"
      },
      "outputs": [
        {
          "output_type": "execute_result",
          "data": {
            "text/plain": [
              "True"
            ]
          },
          "metadata": {},
          "execution_count": 44
        }
      ],
      "source": [
        "# check if the operator for a single qubit system defined as\n",
        "# m_3 = [ [0, 1],\n",
        "#         [1, 0] ], which represents the f3 = bit flip / not\n",
        "#                   deterministic operation, is unitary\n",
        "m3.is_unitary()"
      ]
    },
    {
      "cell_type": "markdown",
      "id": "ef61f742",
      "metadata": {
        "id": "ef61f742"
      },
      "source": [
        "With small operators like m3 we could probably figure this out easily by ourselves, but with more complex operators it becomes more convenient to use the IBM's Qiskit function:"
      ]
    },
    {
      "cell_type": "code",
      "execution_count": 45,
      "id": "90fa7840",
      "metadata": {
        "colab": {
          "base_uri": "https://localhost:8080/"
        },
        "id": "90fa7840",
        "outputId": "b41eb3c6-cec4-42bb-a153-4a7afd9d0a93"
      },
      "outputs": [
        {
          "output_type": "execute_result",
          "data": {
            "text/plain": [
              "True"
            ]
          },
          "metadata": {},
          "execution_count": 45
        }
      ],
      "source": [
        "# create a random operator for multiple qubit system\n",
        "random = Operator( np.array(\n",
        "    [ [  0.50778085 - 0.44607116j, -0.1523741  + 0.14128434j,\n",
        "         0.44607116 + 0.50778085j, -0.14128434 - 0.1523741j  ],\n",
        "      [  0.16855994 + 0.12151822j,  0.55868196 + 0.38038841j,\n",
        "        -0.12151822 + 0.16855994j, -0.38038841 + 0.55868196j ],\n",
        "      [  0.50778085 - 0.44607116j, -0.1523741  + 0.14128434j,\n",
        "        -0.44607116 - 0.50778085j,  0.14128434 + 0.1523741j  ],\n",
        "      [  0.16855994 + 0.12151822j,  0.55868196 + 0.38038841j,\n",
        "         0.12151822 - 0.16855994j,  0.38038841-0.55868196j ] ] ) )\n",
        "\n",
        "# check if the random operator for multiple qubit system is random\n",
        "random.is_unitary()"
      ]
    },
    {
      "cell_type": "code",
      "source": [
        "array_to_latex(random)"
      ],
      "metadata": {
        "colab": {
          "base_uri": "https://localhost:8080/",
          "height": 98
        },
        "id": "3KOFroEbz6ao",
        "outputId": "88eec900-41ad-4993-ea5c-a37505240d5e"
      },
      "id": "3KOFroEbz6ao",
      "execution_count": 46,
      "outputs": [
        {
          "output_type": "execute_result",
          "data": {
            "text/plain": [
              "<IPython.core.display.Latex object>"
            ],
            "text/latex": "$$\n\n\\begin{bmatrix}\n0.50778085 - 0.44607116 i & -0.1523741 + 0.14128434 i & 0.44607116 + 0.50778085 i & -0.14128434 - 0.1523741 i  \\\\\n 0.16855994 + 0.12151822 i & 0.55868196 + 0.38038841 i & -0.12151822 + 0.16855994 i & -0.38038841 + 0.55868196 i  \\\\\n 0.50778085 - 0.44607116 i & -0.1523741 + 0.14128434 i & -0.44607116 - 0.50778085 i & 0.14128434 + 0.1523741 i  \\\\\n 0.16855994 + 0.12151822 i & 0.55868196 + 0.38038841 i & 0.12151822 - 0.16855994 i & 0.38038841 - 0.55868196 i  \\\\\n \\end{bmatrix}\n$$"
          },
          "metadata": {},
          "execution_count": 46
        }
      ]
    },
    {
      "cell_type": "markdown",
      "id": "e6778ed6",
      "metadata": {
        "id": "e6778ed6"
      },
      "source": [
        "<div class=\"alert alert-block alert-success\"> Ex. 6 - Create an operator using the `Operator` class that is not unitary. </div>"
      ]
    },
    {
      "cell_type": "code",
      "execution_count": 47,
      "id": "c43f5bbf",
      "metadata": {
        "id": "c43f5bbf"
      },
      "outputs": [],
      "source": [
        "# create your non-unitary operator here\n",
        "non_unitary_op = Operator( [ [1, 0], [1, 1] ] )"
      ]
    },
    {
      "cell_type": "code",
      "execution_count": null,
      "id": "c159e466",
      "metadata": {
        "id": "c159e466",
        "outputId": "231f1937-fb33-43c8-eb2c-d4f118558cb6"
      },
      "outputs": [
        {
          "name": "stdout",
          "output_type": "stream",
          "text": [
            "Submitting your answer. Please wait...\n",
            "Congratulations 🎉! Your answer is correct and has been submitted.\n"
          ]
        }
      ],
      "source": [
        "# import the grader for the exercise 6 of the lab 1\n",
        "from qc_grader.challenges.qgss_2023 import grade_lab1_ex6\n",
        "\n",
        "# grade the exercise 6 of the lab 1\n",
        "grade_lab1_ex6(non_unitary_op)"
      ]
    },
    {
      "cell_type": "markdown",
      "id": "220179f8",
      "metadata": {
        "id": "220179f8"
      },
      "source": [
        "### Qubit Unitary Operations - Pauli Operations\n",
        "\n",
        "Some of the most common unitary operations in quantum computing are the Pauli operations. IBM's Qiskit `Pauli` classes make it easy to interact with Pauli operators in code:"
      ]
    },
    {
      "cell_type": "markdown",
      "id": "26c5fec2",
      "metadata": {
        "id": "26c5fec2"
      },
      "source": [
        "For example, Pauli X ($\\sigma_x$), the bit flip:"
      ]
    },
    {
      "cell_type": "code",
      "execution_count": 48,
      "id": "290462f3",
      "metadata": {
        "colab": {
          "base_uri": "https://localhost:8080/",
          "height": 58
        },
        "id": "290462f3",
        "outputId": "08aece9c-cd26-42e0-c824-4d3fcf83bfbf"
      },
      "outputs": [
        {
          "output_type": "execute_result",
          "data": {
            "text/plain": [
              "<IPython.core.display.Latex object>"
            ],
            "text/latex": "$$\n\n\\begin{bmatrix}\n0 & 1  \\\\\n 1 & 0  \\\\\n \\end{bmatrix}\n$$"
          },
          "metadata": {},
          "execution_count": 48
        }
      ],
      "source": [
        "# create the Pauli-X (bit flip / not) quantum gate\n",
        "pauli_x = Pauli(\"X\")\n",
        "\n",
        "# convert the quantum gate created before to latex\n",
        "array_to_latex(pauli_x)"
      ]
    },
    {
      "cell_type": "markdown",
      "id": "ff2d5d30",
      "metadata": {
        "id": "ff2d5d30"
      },
      "source": [
        "For Pauli Y ($\\sigma_y$):"
      ]
    },
    {
      "cell_type": "code",
      "execution_count": 49,
      "id": "21b32f55",
      "metadata": {
        "colab": {
          "base_uri": "https://localhost:8080/",
          "height": 58
        },
        "id": "21b32f55",
        "outputId": "3eb7f95a-9a07-4143-e266-abc540007672"
      },
      "outputs": [
        {
          "output_type": "execute_result",
          "data": {
            "text/plain": [
              "<IPython.core.display.Latex object>"
            ],
            "text/latex": "$$\n\n\\begin{bmatrix}\n0 & - i  \\\\\n i & 0  \\\\\n \\end{bmatrix}\n$$"
          },
          "metadata": {},
          "execution_count": 49
        }
      ],
      "source": [
        "# create the Pauli-Y quantum gate\n",
        "pauli_y = Pauli(\"Y\")\n",
        "\n",
        "# convert the quantum gate created before to latex\n",
        "array_to_latex(pauli_y)"
      ]
    },
    {
      "cell_type": "markdown",
      "id": "c9850043",
      "metadata": {
        "id": "c9850043"
      },
      "source": [
        "For Pauli Z ($\\sigma_z$), the phase flip:"
      ]
    },
    {
      "cell_type": "code",
      "execution_count": 50,
      "id": "9df1dff2",
      "metadata": {
        "colab": {
          "base_uri": "https://localhost:8080/",
          "height": 58
        },
        "id": "9df1dff2",
        "outputId": "00d3d89d-94fe-44ce-d695-20c3c8c0f194"
      },
      "outputs": [
        {
          "output_type": "execute_result",
          "data": {
            "text/plain": [
              "<IPython.core.display.Latex object>"
            ],
            "text/latex": "$$\n\n\\begin{bmatrix}\n1 & 0  \\\\\n 0 & -1  \\\\\n \\end{bmatrix}\n$$"
          },
          "metadata": {},
          "execution_count": 50
        }
      ],
      "source": [
        "# create the Pauli-Z (phase flip) quantum gate\n",
        "pauli_z = Pauli(\"Z\")\n",
        "\n",
        "# convert the quantum gate created before to latex\n",
        "array_to_latex(pauli_z)"
      ]
    },
    {
      "cell_type": "markdown",
      "id": "bdfa41f0",
      "metadata": {
        "id": "bdfa41f0"
      },
      "source": [
        "We can use the `Operator` class with the `Pauli` class:"
      ]
    },
    {
      "cell_type": "code",
      "execution_count": 51,
      "id": "71eb657f",
      "metadata": {
        "colab": {
          "base_uri": "https://localhost:8080/"
        },
        "id": "71eb657f",
        "outputId": "d79d3277-00ea-4b80-ce2e-69633a641061"
      },
      "outputs": [
        {
          "output_type": "stream",
          "name": "stdout",
          "text": [
            "Operator([[0.+0.j, 1.+0.j],\n",
            "          [1.+0.j, 0.+0.j]],\n",
            "         input_dims=(2,), output_dims=(2,))\n"
          ]
        }
      ],
      "source": [
        "# convert the Pauli-X (bit flip / not)\n",
        "# quantum gate to an operator\n",
        "op_x = Operator(pauli_x)\n",
        "\n",
        "# show the Pauli-X (bit flip / not)\n",
        "# quantum gate converted to an operator\n",
        "op_x"
      ]
    },
    {
      "cell_type": "markdown",
      "id": "22a1dc55",
      "metadata": {
        "id": "22a1dc55"
      },
      "source": [
        "Let's use the `Operator` class and Numpy to find the outcome of $\\sigma_x|0\\rangle$:"
      ]
    },
    {
      "cell_type": "code",
      "execution_count": 52,
      "id": "a3b46f65",
      "metadata": {
        "colab": {
          "base_uri": "https://localhost:8080/",
          "height": 58
        },
        "id": "a3b46f65",
        "outputId": "2df44068-d939-4f4a-eb81-6ae8c9e9e3df"
      },
      "outputs": [
        {
          "output_type": "execute_result",
          "data": {
            "text/plain": [
              "<IPython.core.display.Latex object>"
            ],
            "text/latex": "$$\n\n\\begin{bmatrix}\n0  \\\\\n 1  \\\\\n \\end{bmatrix}\n$$"
          },
          "metadata": {},
          "execution_count": 52
        }
      ],
      "source": [
        "# apply the inner product between the Pauli-X (bit flip / not) operator\n",
        "# the quantum state of the column-vector (ket vector) |0>, resulting to\n",
        "# a new quantum state of the column-vector (ket vector) |1>\n",
        "op_new = np.dot(op_x ,ket0)\n",
        "\n",
        "# convert the resulting new operator to latex\n",
        "array_to_latex(op_new)"
      ]
    },
    {
      "cell_type": "markdown",
      "id": "0434735a",
      "metadata": {
        "id": "0434735a"
      },
      "source": [
        "<div class=\"alert alert-block alert-success\"> Ex. 7 - Apply the Pauli-Z operator on $|1\\rangle$. </div>"
      ]
    },
    {
      "cell_type": "code",
      "execution_count": 53,
      "id": "11ea5267",
      "metadata": {
        "colab": {
          "base_uri": "https://localhost:8080/",
          "height": 58
        },
        "id": "11ea5267",
        "outputId": "254cd533-4a30-42e7-a84c-3a823dcf3c8c"
      },
      "outputs": [
        {
          "output_type": "execute_result",
          "data": {
            "text/plain": [
              "<IPython.core.display.Latex object>"
            ],
            "text/latex": "$$\n\n\\begin{bmatrix}\n0  \\\\\n -1  \\\\\n \\end{bmatrix}\n$$"
          },
          "metadata": {},
          "execution_count": 53
        }
      ],
      "source": [
        "# do your operations here\n",
        "\n",
        "# convert the Pauli-Z (phase flip)\n",
        "# quantum gate to an operator\n",
        "op_z = Operator(pauli_z)\n",
        "\n",
        "# apply the inner product between the Pauli-Z (phase flip) operator\n",
        "# the quantum state of the column-vector (ket vector) |1>, resulting to\n",
        "# a new quantum state of the column-vector (ket vector) -|1>\n",
        "result = np.dot(op_z ,ket1)\n",
        "\n",
        "# convert the resulting new operator to latex\n",
        "array_to_latex(result)"
      ]
    },
    {
      "cell_type": "markdown",
      "id": "677ab1ec",
      "metadata": {
        "id": "677ab1ec"
      },
      "source": [
        "### Qubit Unitary Operations - Hadamard\n"
      ]
    },
    {
      "cell_type": "markdown",
      "id": "1fa9f846",
      "metadata": {
        "id": "1fa9f846"
      },
      "source": [
        "The Hadamard gate is one of the most important unitary operations in quantum computing. We can implement a Hadamard gate (and many other quantum gates) using a class from [IBM's Qiskit circuit library](https://qiskit.org/documentation/apidoc/circuit_library.html):"
      ]
    },
    {
      "cell_type": "code",
      "execution_count": 54,
      "id": "74251a81",
      "metadata": {
        "colab": {
          "base_uri": "https://localhost:8080/",
          "height": 68
        },
        "id": "74251a81",
        "outputId": "b3f54172-951e-4316-8d7b-2ceb16b5e8ce"
      },
      "outputs": [
        {
          "output_type": "execute_result",
          "data": {
            "text/plain": [
              "<IPython.core.display.Latex object>"
            ],
            "text/latex": "$$\n\n\\begin{bmatrix}\n\\frac{\\sqrt{2}}{2} & \\frac{\\sqrt{2}}{2}  \\\\\n \\frac{\\sqrt{2}}{2} & - \\frac{\\sqrt{2}}{2}  \\\\\n \\end{bmatrix}\n$$"
          },
          "metadata": {},
          "execution_count": 54
        }
      ],
      "source": [
        "# create the Hadamard quantum gate\n",
        "hadamard = HGate()\n",
        "\n",
        "# convert the quantum gate created before to latex\n",
        "array_to_latex(hadamard)"
      ]
    },
    {
      "cell_type": "markdown",
      "id": "08b41da3",
      "metadata": {
        "id": "08b41da3"
      },
      "source": [
        "You can convert many IBM's Qiskit classes to operators to make use of functions specific to the `Operator` class, such as `is_unitary`."
      ]
    },
    {
      "cell_type": "code",
      "execution_count": 55,
      "id": "ebc2f8df",
      "metadata": {
        "colab": {
          "base_uri": "https://localhost:8080/"
        },
        "id": "ebc2f8df",
        "outputId": "0c67dfcc-cbdb-4812-decb-5b6d37e91517"
      },
      "outputs": [
        {
          "output_type": "stream",
          "name": "stdout",
          "text": [
            "Operator([[ 0.70710678+0.j,  0.70710678+0.j],\n",
            "          [ 0.70710678+0.j, -0.70710678+0.j]],\n",
            "         input_dims=(2,), output_dims=(2,))\n"
          ]
        },
        {
          "output_type": "execute_result",
          "data": {
            "text/plain": [
              "True"
            ]
          },
          "metadata": {},
          "execution_count": 55
        }
      ],
      "source": [
        "# convert the Hadamard quantum gate to an operator\n",
        "op_h = Operator(hadamard)\n",
        "\n",
        "# show the Hadamard quantum gate\n",
        "# converted to an operator\n",
        "print(op_h)\n",
        "\n",
        "# check if the Hadamard quantum gate\n",
        "# converted to an operator is unitary\n",
        "op_h.is_unitary()"
      ]
    },
    {
      "cell_type": "markdown",
      "id": "aa5207cc",
      "metadata": {
        "id": "aa5207cc"
      },
      "source": [
        "## Quantum Circuits\n",
        "\n",
        "In the lectures you learned how to create a Quantum Circuit using a CNOT and a Hadamard gate. This circuit creates the Bell State $|\\phi^+\\rangle$. We can implement this using IBM's Qiskit `QuantumCircuit` class:"
      ]
    },
    {
      "cell_type": "code",
      "execution_count": 59,
      "id": "c1b3e5a9",
      "metadata": {
        "colab": {
          "base_uri": "https://localhost:8080/",
          "height": 94
        },
        "id": "c1b3e5a9",
        "outputId": "b2f2943a-4305-45bb-f832-de73994ff066"
      },
      "outputs": [
        {
          "output_type": "execute_result",
          "data": {
            "text/plain": [
              "     ┌───┐     \n",
              "q_0: ┤ H ├──■──\n",
              "     └───┘┌─┴─┐\n",
              "q_1: ─────┤ X ├\n",
              "          └───┘"
            ],
            "text/html": [
              "<pre style=\"word-wrap: normal;white-space: pre;background: #fff0;line-height: 1.1;font-family: &quot;Courier New&quot;,Courier,monospace\">     ┌───┐     \n",
              "q_0: ┤ H ├──■──\n",
              "     └───┘┌─┴─┐\n",
              "q_1: ─────┤ X ├\n",
              "          └───┘</pre>"
            ]
          },
          "metadata": {},
          "execution_count": 59
        }
      ],
      "source": [
        "# create a quantum circuit for two qubits\n",
        "# and to implement a Bell state\n",
        "bell = QuantumCircuit(2)\n",
        "\n",
        "# apply a Hadamard gate to\n",
        "# the 1st qubit of the quantum circuit\n",
        "bell.h(0)\n",
        "\n",
        "# apply a CX/CNOT gate to\n",
        "# the 1st and 2nd qubits of the quantum circuit\n",
        "bell.cx(0, 1)\n",
        "\n",
        "# draw the quantum circuit implementing the Bell state\n",
        "bell.draw()"
      ]
    },
    {
      "cell_type": "markdown",
      "id": "1b2a93c8",
      "metadata": {
        "id": "1b2a93c8"
      },
      "source": [
        "If we want to check what the matrix representation is of this quantum state we can convert the circuit directly to an operator:"
      ]
    },
    {
      "cell_type": "code",
      "execution_count": 60,
      "id": "ac8dab7c",
      "metadata": {
        "colab": {
          "base_uri": "https://localhost:8080/",
          "height": 112
        },
        "id": "ac8dab7c",
        "outputId": "6d9fee87-72be-45ff-8b98-9b268078480e"
      },
      "outputs": [
        {
          "output_type": "execute_result",
          "data": {
            "text/plain": [
              "<IPython.core.display.Latex object>"
            ],
            "text/latex": "$$\n\n\\begin{bmatrix}\n\\frac{\\sqrt{2}}{2} & \\frac{\\sqrt{2}}{2} & 0 & 0  \\\\\n 0 & 0 & \\frac{\\sqrt{2}}{2} & - \\frac{\\sqrt{2}}{2}  \\\\\n 0 & 0 & \\frac{\\sqrt{2}}{2} & \\frac{\\sqrt{2}}{2}  \\\\\n \\frac{\\sqrt{2}}{2} & - \\frac{\\sqrt{2}}{2} & 0 & 0  \\\\\n \\end{bmatrix}\n$$"
          },
          "metadata": {},
          "execution_count": 60
        }
      ],
      "source": [
        "# converting the quantum circuit\n",
        "# implementing the Bell state to an operator\n",
        "bell_op = Operator(bell)\n",
        "\n",
        "# convert the quantum operator representing\n",
        "# the quantum circuit created before to latex\n",
        "array_to_latex(bell_op)"
      ]
    },
    {
      "cell_type": "markdown",
      "id": "b2487769",
      "metadata": {
        "id": "b2487769"
      },
      "source": [
        "<div class=\"alert alert-block alert-success\"> Ex. 8 - The GHZ state is similar to the Bell State but applied to 3 qubits. Create a quantum circuit outputting the GHZ state. </div>"
      ]
    },
    {
      "cell_type": "code",
      "execution_count": 62,
      "id": "f7469f9f",
      "metadata": {
        "colab": {
          "base_uri": "https://localhost:8080/",
          "height": 125
        },
        "id": "f7469f9f",
        "outputId": "4da9fa3b-140d-4dec-e7cb-b81b5cf6c9bc"
      },
      "outputs": [
        {
          "output_type": "execute_result",
          "data": {
            "text/plain": [
              "     ┌───┐          \n",
              "q_0: ┤ H ├──■───────\n",
              "     └───┘┌─┴─┐     \n",
              "q_1: ─────┤ X ├──■──\n",
              "          └───┘┌─┴─┐\n",
              "q_2: ──────────┤ X ├\n",
              "               └───┘"
            ],
            "text/html": [
              "<pre style=\"word-wrap: normal;white-space: pre;background: #fff0;line-height: 1.1;font-family: &quot;Courier New&quot;,Courier,monospace\">     ┌───┐          \n",
              "q_0: ┤ H ├──■───────\n",
              "     └───┘┌─┴─┐     \n",
              "q_1: ─────┤ X ├──■──\n",
              "          └───┘┌─┴─┐\n",
              "q_2: ──────────┤ X ├\n",
              "               └───┘</pre>"
            ]
          },
          "metadata": {},
          "execution_count": 62
        }
      ],
      "source": [
        "# create a quantum circuit for three qubits\n",
        "# and to implement a GHZ state\n",
        "ghz = QuantumCircuit(3)\n",
        "\n",
        "##############################\n",
        "\n",
        "# add gates to your quantum circuit here\n",
        "\n",
        "# apply a Hadamard gate to\n",
        "# the quantum circuit, on the 1st qubit\n",
        "ghz.h(0)\n",
        "\n",
        "# apply a CX/CNOT gate to\n",
        "# the quantum circuit,\n",
        "# with control on 1st qubit\n",
        "# and target on 2nd qubit\n",
        "ghz.cx(0, 1)\n",
        "\n",
        "# apply a CX/CNOT gate to\n",
        "# the quantum circuit,\n",
        "# with control on 2nd qubit\n",
        "# and target on 3rd qubit\n",
        "ghz.cx(1, 2)\n",
        "\n",
        "##############################\n",
        "\n",
        "# draw the quantum circuit implementing the GHZ state\n",
        "ghz.draw()"
      ]
    },
    {
      "cell_type": "markdown",
      "id": "dec5eb53",
      "metadata": {
        "id": "dec5eb53"
      },
      "source": [
        "## Measuring Quantum states"
      ]
    },
    {
      "cell_type": "markdown",
      "id": "9d05a3cb",
      "metadata": {
        "id": "9d05a3cb"
      },
      "source": [
        "As explained in the lectures you can find the probability of measurement outcomes by taking the absolute value squared of the entries of a quantum state vector.\n",
        "\n",
        "For example, when measuring the + state:  \n",
        "\n",
        "$ |+\\rangle = \\frac{1}{\\sqrt2}|0\\rangle + \\frac{1}{\\sqrt2}|1\\rangle $\n",
        "\n",
        "The probability of measuring 0 or 1 is given by the following:\n",
        "\n",
        "$ Pr(0) = |\\frac{1}{\\sqrt2}|^2 = \\frac{1}{2}$  \n",
        "$ Pr(1) = |\\frac{1}{\\sqrt2}|^2 = \\frac{1}{2}$"
      ]
    },
    {
      "cell_type": "markdown",
      "id": "09b17e63",
      "metadata": {
        "id": "09b17e63"
      },
      "source": [
        "Let's create a $|+\\rangle$ using the `Statevector` class:"
      ]
    },
    {
      "cell_type": "code",
      "execution_count": 63,
      "id": "819fdc56",
      "metadata": {
        "colab": {
          "base_uri": "https://localhost:8080/",
          "height": 40
        },
        "id": "819fdc56",
        "outputId": "39db8882-9b64-44c6-a35b-8e083144b75d"
      },
      "outputs": [
        {
          "output_type": "execute_result",
          "data": {
            "text/plain": [
              "<IPython.core.display.Latex object>"
            ],
            "text/latex": "$$\\frac{\\sqrt{2}}{2} |0\\rangle+\\frac{\\sqrt{2}}{2} |1\\rangle$$"
          },
          "metadata": {},
          "execution_count": 63
        }
      ],
      "source": [
        "# create the state-vector for\n",
        "# the quantum superposition state |+>\n",
        "plus_state = Statevector.from_label(\"+\")\n",
        "\n",
        "# convert the state-vector created before to latex\n",
        "plus_state.draw(\"latex\")"
      ]
    },
    {
      "cell_type": "code",
      "execution_count": 64,
      "id": "4c7849e7",
      "metadata": {
        "colab": {
          "base_uri": "https://localhost:8080/"
        },
        "id": "4c7849e7",
        "outputId": "7ca444c4-4234-4ee8-a2dd-8a1c04d8b251"
      },
      "outputs": [
        {
          "output_type": "stream",
          "name": "stdout",
          "text": [
            "Statevector([0.70710678+0.j, 0.70710678+0.j],\n",
            "            dims=(2,))\n"
          ]
        }
      ],
      "source": [
        "# show the state-vector |+> created before\n",
        "plus_state"
      ]
    },
    {
      "cell_type": "markdown",
      "id": "e9367460",
      "metadata": {
        "id": "e9367460"
      },
      "source": [
        "Now we can get the probability of measuring 0 or 1:"
      ]
    },
    {
      "cell_type": "code",
      "execution_count": 65,
      "id": "4b954ae3",
      "metadata": {
        "colab": {
          "base_uri": "https://localhost:8080/"
        },
        "id": "4b954ae3",
        "outputId": "d1a25dc7-293b-4a00-a8ae-98352bfe61e8"
      },
      "outputs": [
        {
          "output_type": "execute_result",
          "data": {
            "text/plain": [
              "{'0': 0.4999999999999999, '1': 0.4999999999999999}"
            ]
          },
          "metadata": {},
          "execution_count": 65
        }
      ],
      "source": [
        "# show the probabilities of the possible\n",
        "# classical outcomes/states resulting\n",
        "# from measuring the quantum superposition state |+>\n",
        "plus_state.probabilities_dict()"
      ]
    },
    {
      "cell_type": "markdown",
      "id": "62b9c13c",
      "metadata": {
        "id": "62b9c13c"
      },
      "source": [
        "The dictionary object above shows you all the possible measurement outcomes and what the probability is of getting them. The actual act of measuring forces the state to collapse into either the 0 or 1 state:"
      ]
    },
    {
      "cell_type": "code",
      "execution_count": 67,
      "id": "546166ed",
      "metadata": {
        "colab": {
          "base_uri": "https://localhost:8080/"
        },
        "id": "546166ed",
        "outputId": "f825fe7c-883e-4be0-9647-056a709ab861"
      },
      "outputs": [
        {
          "output_type": "stream",
          "name": "stdout",
          "text": [
            "('1', Statevector([0.+0.j, 1.+0.j],\n",
            "            dims=(2,)))\n",
            "('0', Statevector([1.+0.j, 0.+0.j],\n",
            "            dims=(2,)))\n",
            "('0', Statevector([1.+0.j, 0.+0.j],\n",
            "            dims=(2,)))\n",
            "('1', Statevector([0.+0.j, 1.+0.j],\n",
            "            dims=(2,)))\n",
            "('1', Statevector([0.+0.j, 1.+0.j],\n",
            "            dims=(2,)))\n"
          ]
        }
      ],
      "source": [
        "# run this cell multiple times to show collapsing\n",
        "# into one state or the other (i.e., 0 or 1)\n",
        "\n",
        "# for a number of trials equal to 5\n",
        "for _ in range(5):\n",
        "\n",
        "    # measure the quantum superposition state |+>\n",
        "    res = plus_state.measure()\n",
        "\n",
        "    # print the result of the measurement of\n",
        "    # the quantum superposition state |+>\n",
        "    print(res)\n",
        "###for"
      ]
    },
    {
      "cell_type": "markdown",
      "id": "cbf9efbb",
      "metadata": {
        "id": "cbf9efbb"
      },
      "source": [
        "We can implement the same $|+\\rangle$ state with measurement using a quantum circuit:"
      ]
    },
    {
      "cell_type": "code",
      "execution_count": 69,
      "id": "6af8a51d",
      "metadata": {
        "colab": {
          "base_uri": "https://localhost:8080/",
          "height": 94
        },
        "id": "6af8a51d",
        "outputId": "836cbcd7-bf44-41cc-f6d9-a58e65822301"
      },
      "outputs": [
        {
          "output_type": "execute_result",
          "data": {
            "text/plain": [
              "     ┌───┐┌─┐\n",
              "  q: ┤ H ├┤M├\n",
              "     └───┘└╥┘\n",
              "c: 1/══════╩═\n",
              "           0 "
            ],
            "text/html": [
              "<pre style=\"word-wrap: normal;white-space: pre;background: #fff0;line-height: 1.1;font-family: &quot;Courier New&quot;,Courier,monospace\">     ┌───┐┌─┐\n",
              "  q: ┤ H ├┤M├\n",
              "     └───┘└╥┘\n",
              "c: 1/══════╩═\n",
              "           0 </pre>"
            ]
          },
          "metadata": {},
          "execution_count": 69
        }
      ],
      "source": [
        "# create a quantum circuit for one qubit and one bit,\n",
        "# to implement a |+> quantum superposition state\n",
        "qc = QuantumCircuit(1, 1)\n",
        "\n",
        "# apply a Hadamard gate to\n",
        "# the quantum circuit, on the 1st qubit\n",
        "qc.h(0)\n",
        "\n",
        "# measure the 1st qubit of the quantum circuit\n",
        "# to the respective 1st bit of the same\n",
        "qc.measure(0, 0)\n",
        "\n",
        "# draw the quantum circuit for one qubit and one bit,\n",
        "# implementing a |+> quantum superposition state\n",
        "qc.draw()"
      ]
    },
    {
      "cell_type": "markdown",
      "id": "84e3a739",
      "metadata": {
        "id": "84e3a739"
      },
      "source": [
        "If we ran this circuit using a simulator we would get the same results as we did with the statevector class."
      ]
    },
    {
      "cell_type": "markdown",
      "id": "f3abea6e",
      "metadata": {
        "id": "f3abea6e"
      },
      "source": [
        "In the next example, let's use the `Statevector` class to find the measurement outcomes for a dependent, probabilistic state. We'll find the measurement probilities for the 2-qubit Bell State $|\\phi^+\\rangle$ :"
      ]
    },
    {
      "cell_type": "code",
      "execution_count": 70,
      "id": "f0c6e31d",
      "metadata": {
        "colab": {
          "base_uri": "https://localhost:8080/",
          "height": 40
        },
        "id": "f0c6e31d",
        "outputId": "54191dca-9390-4aec-d6a7-f2c4a8e4c364"
      },
      "outputs": [
        {
          "output_type": "execute_result",
          "data": {
            "text/plain": [
              "<IPython.core.display.Latex object>"
            ],
            "text/latex": "$$\\frac{\\sqrt{2}}{2} |00\\rangle+\\frac{\\sqrt{2}}{2} |11\\rangle$$"
          },
          "metadata": {},
          "execution_count": 70
        }
      ],
      "source": [
        "# create the state-vector for the Bell State |phi^+>\n",
        "sv_bell = Statevector( [ np.sqrt(1 / 2), 0, 0, np.sqrt(1 / 2) ] )\n",
        "\n",
        "# draw the state-vector for the Bell State |phi^+>\n",
        "sv_bell.draw(\"latex\")"
      ]
    },
    {
      "cell_type": "code",
      "execution_count": 71,
      "id": "60aca301",
      "metadata": {
        "colab": {
          "base_uri": "https://localhost:8080/"
        },
        "id": "60aca301",
        "outputId": "640c0b85-df80-4839-b4d1-d680d85a2437"
      },
      "outputs": [
        {
          "output_type": "execute_result",
          "data": {
            "text/plain": [
              "{'00': 0.5000000000000001, '11': 0.5000000000000001}"
            ]
          },
          "metadata": {},
          "execution_count": 71
        }
      ],
      "source": [
        "sv_bell.probabilities_dict()"
      ]
    },
    {
      "cell_type": "markdown",
      "id": "734489ba",
      "metadata": {
        "id": "734489ba"
      },
      "source": [
        "<div class=\"alert alert-block alert-success\"> Ex. 9 - Using the Statevector class find the probabilities for the other 3 states in the Bell Basis: $|\\psi^+\\rangle$, $|\\psi^-\\rangle$, $|\\phi^-\\rangle$.<br>\n",
        "&nbsp;&nbsp;&nbsp;&nbsp;&nbsp;&nbsp;&nbsp;&nbsp;&nbsp;&nbsp;&nbsp;&nbsp;&nbsp;(Hint: Check out lesson 2 to refresh your memory on the equations of the Bell states). </div>"
      ]
    },
    {
      "cell_type": "code",
      "execution_count": 72,
      "id": "119714dd",
      "metadata": {
        "id": "119714dd"
      },
      "outputs": [],
      "source": [
        "# creation of the three quantum states in the Bell basis,\n",
        "# namely, |psi^+⟩, |psi^-⟩, and |phi^-⟩\n",
        "\n",
        "# create a statevector for |psi^+⟩ here\n",
        "sv_psi_plus = Statevector( [ 0, np.sqrt(1 / 2), np.sqrt(1 / 2), 0 ] )\n",
        "\n",
        "# find the measurement probabilities for |psi^+⟩ here\n",
        "prob_psi_plus = sv_psi_plus.probabilities_dict()\n",
        "\n",
        "# create a statevector for |psi^-⟩ here\n",
        "sv_psi_minus = Statevector( [ 0, np.sqrt(1 / 2), -1 * np.sqrt(1 / 2), 0 ] )\n",
        "\n",
        "# find the measurement probabilities for |psi^−⟩ here\n",
        "prob_psi_minus = sv_psi_minus.probabilities_dict()\n",
        "\n",
        "# create a statevector for |phi^-⟩ here\n",
        "sv_phi_minus = Statevector( [ np.sqrt(1 / 2), 0, 0, -1 * np.sqrt(1 / 2) ] )\n",
        "\n",
        "# find the measurement probabilities for |phi^-⟩ here\n",
        "prob_phi_minus = sv_phi_minus.probabilities_dict()"
      ]
    },
    {
      "cell_type": "markdown",
      "id": "0faf6184",
      "metadata": {
        "id": "0faf6184"
      },
      "source": [
        "# Final Challenge - generate a QFT circuit\n",
        "\n",
        "[The Fourier transform](https://en.wikipedia.org/wiki/Fourier_transform) occurs in many different formats throughout classical computing, in areas ranging from signal processing to data compression to complexity theory. The quantum Fourier transform (QFT) is the quantum implementation of the discrete Fourier transform over the amplitudes of a wavefunction. It is part of many quantum algorithms, most notably Shor's factoring algorithm and quantum phase estimation. You'll learn more about this important implementation later on during the Summer School, but for this final challenge of Lab 1 we would like you to use Qiskit to create the following QFT circuit on 2 qubits:\n",
        "\n",
        "![](resources/quantum-fourier-transform.png)"
      ]
    },
    {
      "cell_type": "markdown",
      "id": "a06d2b68",
      "metadata": {
        "id": "a06d2b68"
      },
      "source": [
        "<div class=\"alert alert-block alert-success\"> Ex. 10 - Create a two-qubit QFT circuit using IBM's Qiskit. </div>"
      ]
    },
    {
      "cell_type": "code",
      "execution_count": 73,
      "id": "e51049ac",
      "metadata": {
        "colab": {
          "base_uri": "https://localhost:8080/",
          "height": 94
        },
        "id": "e51049ac",
        "outputId": "c60f27ab-36eb-4798-f18a-bce306e34f01"
      },
      "outputs": [
        {
          "output_type": "execute_result",
          "data": {
            "text/plain": [
              "                   ┌───┐   \n",
              "q_0: ──────■───────┤ H ├─X─\n",
              "     ┌───┐ │P(π/2) └───┘ │ \n",
              "q_1: ┤ H ├─■─────────────X─\n",
              "     └───┘                 "
            ],
            "text/html": [
              "<pre style=\"word-wrap: normal;white-space: pre;background: #fff0;line-height: 1.1;font-family: &quot;Courier New&quot;,Courier,monospace\">                   ┌───┐   \n",
              "q_0: ──────■───────┤ H ├─X─\n",
              "     ┌───┐ │P(π/2) └───┘ │ \n",
              "q_1: ┤ H ├─■─────────────X─\n",
              "     └───┘                 </pre>"
            ]
          },
          "metadata": {},
          "execution_count": 73
        }
      ],
      "source": [
        "# create a quantum circuit for two qubits,\n",
        "# to implement a quantum fourier transform\n",
        "qft = QuantumCircuit(2)\n",
        "\n",
        "##############################\n",
        "\n",
        "# add gates to your quantum circuit here\n",
        "\n",
        "# apply an Hadamard gate to\n",
        "# the quantum circuit, on the 2nd qubit\n",
        "qft.h(1)\n",
        "\n",
        "# apply a Controlled-Phase (CP) gate to\n",
        "# the quantum circuit acccording to\n",
        "# a theta angle, with control on\n",
        "# the 1st qubit and target on the 2nd qubit\n",
        "qft.cp( np.pi/2, 0, 1 )\n",
        "\n",
        "# apply an Hadamard gate to\n",
        "# the quantum circuit, on the 1st qubit\n",
        "qft.h(0)\n",
        "\n",
        "# apply a SWAP gate to\n",
        "# the quantum circuit,\n",
        "# between the 1st qubit\n",
        "# and the 2nd qubit\n",
        "qft.swap(0, 1)\n",
        "\n",
        "##############################\n",
        "\n",
        "# draw the quantum circuit for two qubits,\n",
        "# implementing a quntum fourier transform\n",
        "qft.draw()"
      ]
    },
    {
      "cell_type": "markdown",
      "id": "94b90a28",
      "metadata": {
        "id": "94b90a28"
      },
      "source": [
        "To see the matrix that describes the action of this circuit, we can plug the circuit into the `Operator` function like this:"
      ]
    },
    {
      "cell_type": "code",
      "execution_count": 74,
      "id": "d83e5f5b",
      "metadata": {
        "colab": {
          "base_uri": "https://localhost:8080/",
          "height": 99
        },
        "id": "d83e5f5b",
        "outputId": "c3e17acf-3562-4c0e-fc16-eba54ff59d51"
      },
      "outputs": [
        {
          "output_type": "execute_result",
          "data": {
            "text/plain": [
              "<IPython.core.display.Latex object>"
            ],
            "text/latex": "$$\n\n\\begin{bmatrix}\n\\frac{1}{2} & \\frac{1}{2} & \\frac{1}{2} & \\frac{1}{2}  \\\\\n \\frac{1}{2} & \\frac{i}{2} & - \\frac{1}{2} & - \\frac{i}{2}  \\\\\n \\frac{1}{2} & - \\frac{1}{2} & \\frac{1}{2} & - \\frac{1}{2}  \\\\\n \\frac{1}{2} & - \\frac{i}{2} & - \\frac{1}{2} & \\frac{i}{2}  \\\\\n \\end{bmatrix}\n$$"
          },
          "metadata": {},
          "execution_count": 74
        }
      ],
      "source": [
        "# create an operator U from the quantum circuit of\n",
        "# the quantum fourier transform created before\n",
        "U = Operator(qft)\n",
        "\n",
        "# convert the quantum operator U representing\n",
        "# the quantum circuit created before to latex\n",
        "array_to_latex(U)"
      ]
    },
    {
      "cell_type": "code",
      "execution_count": 78,
      "id": "31e3e448-9ad3-444c-8a80-b2f0a1074d3d",
      "metadata": {
        "tags": [],
        "colab": {
          "base_uri": "https://localhost:8080/"
        },
        "id": "31e3e448-9ad3-444c-8a80-b2f0a1074d3d",
        "outputId": "a6de5e2e-256b-404d-b387-0a8aa11bee55"
      },
      "outputs": [
        {
          "output_type": "execute_result",
          "data": {
            "text/plain": [
              "{'python_compiler': 'GCC 11.4.0',\n",
              " 'python_build': 'main, Nov 20 2023 15:14:05',\n",
              " 'python_version': '3.10.12',\n",
              " 'os': 'Linux',\n",
              " 'cpus': 1}"
            ]
          },
          "metadata": {},
          "execution_count": 78
        }
      ],
      "source": [
        "import qiskit.utils\n",
        "qiskit.utils.local_hardware_info()"
      ]
    },
    {
      "cell_type": "markdown",
      "id": "9c1ec931",
      "metadata": {
        "id": "9c1ec931"
      },
      "source": [
        "Congratulations! You finished Lab 1 of the IBM's Qiskit Global Summer School 2023! 🎉 🎉 🎉"
      ]
    },
    {
      "cell_type": "markdown",
      "id": "8182d5d9-e5c8-4c09-b1f8-f8529e7248e0",
      "metadata": {
        "id": "8182d5d9-e5c8-4c09-b1f8-f8529e7248e0"
      },
      "source": [
        "Made with ❤ by Rúben André Barreiro (and adapted from IBM Quantum)."
      ]
    }
  ],
  "metadata": {
    "kernelspec": {
      "display_name": "Python 3 (ipykernel)",
      "language": "python",
      "name": "python3"
    },
    "language_info": {
      "codemirror_mode": {
        "name": "ipython",
        "version": 3
      },
      "file_extension": ".py",
      "mimetype": "text/x-python",
      "name": "python",
      "nbconvert_exporter": "python",
      "pygments_lexer": "ipython3",
      "version": "3.10.8"
    },
    "colab": {
      "provenance": [],
      "include_colab_link": true
    }
  },
  "nbformat": 4,
  "nbformat_minor": 5
}