{
  "cells": [
    {
      "cell_type": "markdown",
      "metadata": {
        "id": "view-in-github",
        "colab_type": "text"
      },
      "source": [
        "<a href=\"https://colab.research.google.com/github/mkbahk/QuantumComputing/blob/main/IBM's_Qiskit_Global_Summer_School_2023_lab_4_iterative_phase_estimation.ipynb\" target=\"_parent\"><img src=\"https://colab.research.google.com/assets/colab-badge.svg\" alt=\"Open In Colab\"/></a>"
      ]
    },
    {
      "cell_type": "code",
      "source": [
        "!python3 -m pip install qiskit[visualization]==0.46.1\n",
        "!python3 -m pip install qiskit-aer\n",
        "!python3 -m pip install git+https://github.com/qiskit-community/qiskit-textbook.git#subdirectory=qiskit-textbook-src"
      ],
      "metadata": {
        "colab": {
          "base_uri": "https://localhost:8080/"
        },
        "id": "0wJl5Jx7HegE",
        "outputId": "b0c6cc1e-4bf7-4089-afab-df23c6801047"
      },
      "execution_count": 27,
      "outputs": [
        {
          "output_type": "stream",
          "name": "stdout",
          "text": [
            "Collecting qiskit[visualization]==0.46.1\n",
            "  Downloading qiskit-0.46.1-py3-none-any.whl (9.6 kB)\n",
            "Collecting qiskit-terra==0.46.1 (from qiskit[visualization]==0.46.1)\n",
            "  Downloading qiskit_terra-0.46.1-cp38-abi3-manylinux_2_17_x86_64.manylinux2014_x86_64.whl (6.2 MB)\n",
            "\u001b[2K     \u001b[90m━━━━━━━━━━━━━━━━━━━━━━━━━━━━━━━━━━━━━━━━\u001b[0m \u001b[32m6.2/6.2 MB\u001b[0m \u001b[31m38.8 MB/s\u001b[0m eta \u001b[36m0:00:00\u001b[0m\n",
            "\u001b[?25hRequirement already satisfied: rustworkx>=0.13.0 in /usr/local/lib/python3.10/dist-packages (from qiskit-terra==0.46.1->qiskit[visualization]==0.46.1) (0.14.2)\n",
            "Requirement already satisfied: numpy<2,>=1.17 in /usr/local/lib/python3.10/dist-packages (from qiskit-terra==0.46.1->qiskit[visualization]==0.46.1) (1.25.2)\n",
            "Collecting ply>=3.10 (from qiskit-terra==0.46.1->qiskit[visualization]==0.46.1)\n",
            "  Downloading ply-3.11-py2.py3-none-any.whl (49 kB)\n",
            "\u001b[2K     \u001b[90m━━━━━━━━━━━━━━━━━━━━━━━━━━━━━━━━━━━━━━━━\u001b[0m \u001b[32m49.6/49.6 kB\u001b[0m \u001b[31m5.5 MB/s\u001b[0m eta \u001b[36m0:00:00\u001b[0m\n",
            "\u001b[?25hRequirement already satisfied: psutil>=5 in /usr/local/lib/python3.10/dist-packages (from qiskit-terra==0.46.1->qiskit[visualization]==0.46.1) (5.9.5)\n",
            "Requirement already satisfied: scipy>=1.5 in /usr/local/lib/python3.10/dist-packages (from qiskit-terra==0.46.1->qiskit[visualization]==0.46.1) (1.11.4)\n",
            "Requirement already satisfied: sympy>=1.3 in /usr/local/lib/python3.10/dist-packages (from qiskit-terra==0.46.1->qiskit[visualization]==0.46.1) (1.12)\n",
            "Requirement already satisfied: dill>=0.3 in /usr/local/lib/python3.10/dist-packages (from qiskit-terra==0.46.1->qiskit[visualization]==0.46.1) (0.3.8)\n",
            "Requirement already satisfied: python-dateutil>=2.8.0 in /usr/local/lib/python3.10/dist-packages (from qiskit-terra==0.46.1->qiskit[visualization]==0.46.1) (2.8.2)\n",
            "Requirement already satisfied: stevedore>=3.0.0 in /usr/local/lib/python3.10/dist-packages (from qiskit-terra==0.46.1->qiskit[visualization]==0.46.1) (5.2.0)\n",
            "Requirement already satisfied: symengine>=0.11 in /usr/local/lib/python3.10/dist-packages (from qiskit-terra==0.46.1->qiskit[visualization]==0.46.1) (0.11.0)\n",
            "Requirement already satisfied: typing-extensions in /usr/local/lib/python3.10/dist-packages (from qiskit-terra==0.46.1->qiskit[visualization]==0.46.1) (4.11.0)\n",
            "Requirement already satisfied: matplotlib>=3.3 in /usr/local/lib/python3.10/dist-packages (from qiskit-terra==0.46.1->qiskit[visualization]==0.46.1) (3.7.1)\n",
            "Requirement already satisfied: ipywidgets>=7.3.0 in /usr/local/lib/python3.10/dist-packages (from qiskit-terra==0.46.1->qiskit[visualization]==0.46.1) (7.7.1)\n",
            "Requirement already satisfied: pydot in /usr/local/lib/python3.10/dist-packages (from qiskit-terra==0.46.1->qiskit[visualization]==0.46.1) (1.4.2)\n",
            "Requirement already satisfied: pillow>=4.2.1 in /usr/local/lib/python3.10/dist-packages (from qiskit-terra==0.46.1->qiskit[visualization]==0.46.1) (9.4.0)\n",
            "Requirement already satisfied: pylatexenc>=1.4 in /usr/local/lib/python3.10/dist-packages (from qiskit-terra==0.46.1->qiskit[visualization]==0.46.1) (2.10)\n",
            "Requirement already satisfied: seaborn>=0.9.0 in /usr/local/lib/python3.10/dist-packages (from qiskit-terra==0.46.1->qiskit[visualization]==0.46.1) (0.13.1)\n",
            "Requirement already satisfied: pygments>=2.4 in /usr/local/lib/python3.10/dist-packages (from qiskit-terra==0.46.1->qiskit[visualization]==0.46.1) (2.16.1)\n",
            "Requirement already satisfied: ipykernel>=4.5.1 in /usr/local/lib/python3.10/dist-packages (from ipywidgets>=7.3.0->qiskit-terra==0.46.1->qiskit[visualization]==0.46.1) (5.5.6)\n",
            "Requirement already satisfied: ipython-genutils~=0.2.0 in /usr/local/lib/python3.10/dist-packages (from ipywidgets>=7.3.0->qiskit-terra==0.46.1->qiskit[visualization]==0.46.1) (0.2.0)\n",
            "Requirement already satisfied: traitlets>=4.3.1 in /usr/local/lib/python3.10/dist-packages (from ipywidgets>=7.3.0->qiskit-terra==0.46.1->qiskit[visualization]==0.46.1) (5.7.1)\n",
            "Requirement already satisfied: widgetsnbextension~=3.6.0 in /usr/local/lib/python3.10/dist-packages (from ipywidgets>=7.3.0->qiskit-terra==0.46.1->qiskit[visualization]==0.46.1) (3.6.6)\n",
            "Requirement already satisfied: ipython>=4.0.0 in /usr/local/lib/python3.10/dist-packages (from ipywidgets>=7.3.0->qiskit-terra==0.46.1->qiskit[visualization]==0.46.1) (7.34.0)\n",
            "Requirement already satisfied: jupyterlab-widgets>=1.0.0 in /usr/local/lib/python3.10/dist-packages (from ipywidgets>=7.3.0->qiskit-terra==0.46.1->qiskit[visualization]==0.46.1) (3.0.10)\n",
            "Requirement already satisfied: contourpy>=1.0.1 in /usr/local/lib/python3.10/dist-packages (from matplotlib>=3.3->qiskit-terra==0.46.1->qiskit[visualization]==0.46.1) (1.2.1)\n",
            "Requirement already satisfied: cycler>=0.10 in /usr/local/lib/python3.10/dist-packages (from matplotlib>=3.3->qiskit-terra==0.46.1->qiskit[visualization]==0.46.1) (0.12.1)\n",
            "Requirement already satisfied: fonttools>=4.22.0 in /usr/local/lib/python3.10/dist-packages (from matplotlib>=3.3->qiskit-terra==0.46.1->qiskit[visualization]==0.46.1) (4.51.0)\n",
            "Requirement already satisfied: kiwisolver>=1.0.1 in /usr/local/lib/python3.10/dist-packages (from matplotlib>=3.3->qiskit-terra==0.46.1->qiskit[visualization]==0.46.1) (1.4.5)\n",
            "Requirement already satisfied: packaging>=20.0 in /usr/local/lib/python3.10/dist-packages (from matplotlib>=3.3->qiskit-terra==0.46.1->qiskit[visualization]==0.46.1) (24.0)\n",
            "Requirement already satisfied: pyparsing>=2.3.1 in /usr/local/lib/python3.10/dist-packages (from matplotlib>=3.3->qiskit-terra==0.46.1->qiskit[visualization]==0.46.1) (3.1.2)\n",
            "Requirement already satisfied: six>=1.5 in /usr/local/lib/python3.10/dist-packages (from python-dateutil>=2.8.0->qiskit-terra==0.46.1->qiskit[visualization]==0.46.1) (1.16.0)\n",
            "Requirement already satisfied: pandas>=1.2 in /usr/local/lib/python3.10/dist-packages (from seaborn>=0.9.0->qiskit-terra==0.46.1->qiskit[visualization]==0.46.1) (2.0.3)\n",
            "Requirement already satisfied: pbr!=2.1.0,>=2.0.0 in /usr/local/lib/python3.10/dist-packages (from stevedore>=3.0.0->qiskit-terra==0.46.1->qiskit[visualization]==0.46.1) (6.0.0)\n",
            "Requirement already satisfied: mpmath>=0.19 in /usr/local/lib/python3.10/dist-packages (from sympy>=1.3->qiskit-terra==0.46.1->qiskit[visualization]==0.46.1) (1.3.0)\n",
            "Requirement already satisfied: jupyter-client in /usr/local/lib/python3.10/dist-packages (from ipykernel>=4.5.1->ipywidgets>=7.3.0->qiskit-terra==0.46.1->qiskit[visualization]==0.46.1) (6.1.12)\n",
            "Requirement already satisfied: tornado>=4.2 in /usr/local/lib/python3.10/dist-packages (from ipykernel>=4.5.1->ipywidgets>=7.3.0->qiskit-terra==0.46.1->qiskit[visualization]==0.46.1) (6.3.3)\n",
            "Requirement already satisfied: setuptools>=18.5 in /usr/local/lib/python3.10/dist-packages (from ipython>=4.0.0->ipywidgets>=7.3.0->qiskit-terra==0.46.1->qiskit[visualization]==0.46.1) (67.7.2)\n",
            "Requirement already satisfied: jedi>=0.16 in /usr/local/lib/python3.10/dist-packages (from ipython>=4.0.0->ipywidgets>=7.3.0->qiskit-terra==0.46.1->qiskit[visualization]==0.46.1) (0.19.1)\n",
            "Requirement already satisfied: decorator in /usr/local/lib/python3.10/dist-packages (from ipython>=4.0.0->ipywidgets>=7.3.0->qiskit-terra==0.46.1->qiskit[visualization]==0.46.1) (4.4.2)\n",
            "Requirement already satisfied: pickleshare in /usr/local/lib/python3.10/dist-packages (from ipython>=4.0.0->ipywidgets>=7.3.0->qiskit-terra==0.46.1->qiskit[visualization]==0.46.1) (0.7.5)\n",
            "Requirement already satisfied: prompt-toolkit!=3.0.0,!=3.0.1,<3.1.0,>=2.0.0 in /usr/local/lib/python3.10/dist-packages (from ipython>=4.0.0->ipywidgets>=7.3.0->qiskit-terra==0.46.1->qiskit[visualization]==0.46.1) (3.0.43)\n",
            "Requirement already satisfied: backcall in /usr/local/lib/python3.10/dist-packages (from ipython>=4.0.0->ipywidgets>=7.3.0->qiskit-terra==0.46.1->qiskit[visualization]==0.46.1) (0.2.0)\n",
            "Requirement already satisfied: matplotlib-inline in /usr/local/lib/python3.10/dist-packages (from ipython>=4.0.0->ipywidgets>=7.3.0->qiskit-terra==0.46.1->qiskit[visualization]==0.46.1) (0.1.7)\n",
            "Requirement already satisfied: pexpect>4.3 in /usr/local/lib/python3.10/dist-packages (from ipython>=4.0.0->ipywidgets>=7.3.0->qiskit-terra==0.46.1->qiskit[visualization]==0.46.1) (4.9.0)\n",
            "Requirement already satisfied: pytz>=2020.1 in /usr/local/lib/python3.10/dist-packages (from pandas>=1.2->seaborn>=0.9.0->qiskit-terra==0.46.1->qiskit[visualization]==0.46.1) (2023.4)\n",
            "Requirement already satisfied: tzdata>=2022.1 in /usr/local/lib/python3.10/dist-packages (from pandas>=1.2->seaborn>=0.9.0->qiskit-terra==0.46.1->qiskit[visualization]==0.46.1) (2024.1)\n",
            "Requirement already satisfied: notebook>=4.4.1 in /usr/local/lib/python3.10/dist-packages (from widgetsnbextension~=3.6.0->ipywidgets>=7.3.0->qiskit-terra==0.46.1->qiskit[visualization]==0.46.1) (6.5.5)\n",
            "Requirement already satisfied: parso<0.9.0,>=0.8.3 in /usr/local/lib/python3.10/dist-packages (from jedi>=0.16->ipython>=4.0.0->ipywidgets>=7.3.0->qiskit-terra==0.46.1->qiskit[visualization]==0.46.1) (0.8.4)\n",
            "Requirement already satisfied: jinja2 in /usr/local/lib/python3.10/dist-packages (from notebook>=4.4.1->widgetsnbextension~=3.6.0->ipywidgets>=7.3.0->qiskit-terra==0.46.1->qiskit[visualization]==0.46.1) (3.1.3)\n",
            "Requirement already satisfied: pyzmq<25,>=17 in /usr/local/lib/python3.10/dist-packages (from notebook>=4.4.1->widgetsnbextension~=3.6.0->ipywidgets>=7.3.0->qiskit-terra==0.46.1->qiskit[visualization]==0.46.1) (23.2.1)\n",
            "Requirement already satisfied: argon2-cffi in /usr/local/lib/python3.10/dist-packages (from notebook>=4.4.1->widgetsnbextension~=3.6.0->ipywidgets>=7.3.0->qiskit-terra==0.46.1->qiskit[visualization]==0.46.1) (23.1.0)\n",
            "Requirement already satisfied: jupyter-core>=4.6.1 in /usr/local/lib/python3.10/dist-packages (from notebook>=4.4.1->widgetsnbextension~=3.6.0->ipywidgets>=7.3.0->qiskit-terra==0.46.1->qiskit[visualization]==0.46.1) (5.7.2)\n",
            "Requirement already satisfied: nbformat in /usr/local/lib/python3.10/dist-packages (from notebook>=4.4.1->widgetsnbextension~=3.6.0->ipywidgets>=7.3.0->qiskit-terra==0.46.1->qiskit[visualization]==0.46.1) (5.10.4)\n",
            "Requirement already satisfied: nbconvert>=5 in /usr/local/lib/python3.10/dist-packages (from notebook>=4.4.1->widgetsnbextension~=3.6.0->ipywidgets>=7.3.0->qiskit-terra==0.46.1->qiskit[visualization]==0.46.1) (6.5.4)\n",
            "Requirement already satisfied: nest-asyncio>=1.5 in /usr/local/lib/python3.10/dist-packages (from notebook>=4.4.1->widgetsnbextension~=3.6.0->ipywidgets>=7.3.0->qiskit-terra==0.46.1->qiskit[visualization]==0.46.1) (1.6.0)\n",
            "Requirement already satisfied: Send2Trash>=1.8.0 in /usr/local/lib/python3.10/dist-packages (from notebook>=4.4.1->widgetsnbextension~=3.6.0->ipywidgets>=7.3.0->qiskit-terra==0.46.1->qiskit[visualization]==0.46.1) (1.8.3)\n",
            "Requirement already satisfied: terminado>=0.8.3 in /usr/local/lib/python3.10/dist-packages (from notebook>=4.4.1->widgetsnbextension~=3.6.0->ipywidgets>=7.3.0->qiskit-terra==0.46.1->qiskit[visualization]==0.46.1) (0.18.1)\n",
            "Requirement already satisfied: prometheus-client in /usr/local/lib/python3.10/dist-packages (from notebook>=4.4.1->widgetsnbextension~=3.6.0->ipywidgets>=7.3.0->qiskit-terra==0.46.1->qiskit[visualization]==0.46.1) (0.20.0)\n",
            "Requirement already satisfied: nbclassic>=0.4.7 in /usr/local/lib/python3.10/dist-packages (from notebook>=4.4.1->widgetsnbextension~=3.6.0->ipywidgets>=7.3.0->qiskit-terra==0.46.1->qiskit[visualization]==0.46.1) (1.0.0)\n",
            "Requirement already satisfied: ptyprocess>=0.5 in /usr/local/lib/python3.10/dist-packages (from pexpect>4.3->ipython>=4.0.0->ipywidgets>=7.3.0->qiskit-terra==0.46.1->qiskit[visualization]==0.46.1) (0.7.0)\n",
            "Requirement already satisfied: wcwidth in /usr/local/lib/python3.10/dist-packages (from prompt-toolkit!=3.0.0,!=3.0.1,<3.1.0,>=2.0.0->ipython>=4.0.0->ipywidgets>=7.3.0->qiskit-terra==0.46.1->qiskit[visualization]==0.46.1) (0.2.13)\n",
            "Requirement already satisfied: platformdirs>=2.5 in /usr/local/lib/python3.10/dist-packages (from jupyter-core>=4.6.1->notebook>=4.4.1->widgetsnbextension~=3.6.0->ipywidgets>=7.3.0->qiskit-terra==0.46.1->qiskit[visualization]==0.46.1) (4.2.0)\n",
            "Requirement already satisfied: jupyter-server>=1.8 in /usr/local/lib/python3.10/dist-packages (from nbclassic>=0.4.7->notebook>=4.4.1->widgetsnbextension~=3.6.0->ipywidgets>=7.3.0->qiskit-terra==0.46.1->qiskit[visualization]==0.46.1) (1.24.0)\n",
            "Requirement already satisfied: notebook-shim>=0.2.3 in /usr/local/lib/python3.10/dist-packages (from nbclassic>=0.4.7->notebook>=4.4.1->widgetsnbextension~=3.6.0->ipywidgets>=7.3.0->qiskit-terra==0.46.1->qiskit[visualization]==0.46.1) (0.2.4)\n",
            "Requirement already satisfied: lxml in /usr/local/lib/python3.10/dist-packages (from nbconvert>=5->notebook>=4.4.1->widgetsnbextension~=3.6.0->ipywidgets>=7.3.0->qiskit-terra==0.46.1->qiskit[visualization]==0.46.1) (4.9.4)\n",
            "Requirement already satisfied: beautifulsoup4 in /usr/local/lib/python3.10/dist-packages (from nbconvert>=5->notebook>=4.4.1->widgetsnbextension~=3.6.0->ipywidgets>=7.3.0->qiskit-terra==0.46.1->qiskit[visualization]==0.46.1) (4.12.3)\n",
            "Requirement already satisfied: bleach in /usr/local/lib/python3.10/dist-packages (from nbconvert>=5->notebook>=4.4.1->widgetsnbextension~=3.6.0->ipywidgets>=7.3.0->qiskit-terra==0.46.1->qiskit[visualization]==0.46.1) (6.1.0)\n",
            "Requirement already satisfied: defusedxml in /usr/local/lib/python3.10/dist-packages (from nbconvert>=5->notebook>=4.4.1->widgetsnbextension~=3.6.0->ipywidgets>=7.3.0->qiskit-terra==0.46.1->qiskit[visualization]==0.46.1) (0.7.1)\n",
            "Requirement already satisfied: entrypoints>=0.2.2 in /usr/local/lib/python3.10/dist-packages (from nbconvert>=5->notebook>=4.4.1->widgetsnbextension~=3.6.0->ipywidgets>=7.3.0->qiskit-terra==0.46.1->qiskit[visualization]==0.46.1) (0.4)\n",
            "Requirement already satisfied: jupyterlab-pygments in /usr/local/lib/python3.10/dist-packages (from nbconvert>=5->notebook>=4.4.1->widgetsnbextension~=3.6.0->ipywidgets>=7.3.0->qiskit-terra==0.46.1->qiskit[visualization]==0.46.1) (0.3.0)\n",
            "Requirement already satisfied: MarkupSafe>=2.0 in /usr/local/lib/python3.10/dist-packages (from nbconvert>=5->notebook>=4.4.1->widgetsnbextension~=3.6.0->ipywidgets>=7.3.0->qiskit-terra==0.46.1->qiskit[visualization]==0.46.1) (2.1.5)\n",
            "Requirement already satisfied: mistune<2,>=0.8.1 in /usr/local/lib/python3.10/dist-packages (from nbconvert>=5->notebook>=4.4.1->widgetsnbextension~=3.6.0->ipywidgets>=7.3.0->qiskit-terra==0.46.1->qiskit[visualization]==0.46.1) (0.8.4)\n",
            "Requirement already satisfied: nbclient>=0.5.0 in /usr/local/lib/python3.10/dist-packages (from nbconvert>=5->notebook>=4.4.1->widgetsnbextension~=3.6.0->ipywidgets>=7.3.0->qiskit-terra==0.46.1->qiskit[visualization]==0.46.1) (0.10.0)\n",
            "Requirement already satisfied: pandocfilters>=1.4.1 in /usr/local/lib/python3.10/dist-packages (from nbconvert>=5->notebook>=4.4.1->widgetsnbextension~=3.6.0->ipywidgets>=7.3.0->qiskit-terra==0.46.1->qiskit[visualization]==0.46.1) (1.5.1)\n",
            "Requirement already satisfied: tinycss2 in /usr/local/lib/python3.10/dist-packages (from nbconvert>=5->notebook>=4.4.1->widgetsnbextension~=3.6.0->ipywidgets>=7.3.0->qiskit-terra==0.46.1->qiskit[visualization]==0.46.1) (1.2.1)\n",
            "Requirement already satisfied: fastjsonschema>=2.15 in /usr/local/lib/python3.10/dist-packages (from nbformat->notebook>=4.4.1->widgetsnbextension~=3.6.0->ipywidgets>=7.3.0->qiskit-terra==0.46.1->qiskit[visualization]==0.46.1) (2.19.1)\n",
            "Requirement already satisfied: jsonschema>=2.6 in /usr/local/lib/python3.10/dist-packages (from nbformat->notebook>=4.4.1->widgetsnbextension~=3.6.0->ipywidgets>=7.3.0->qiskit-terra==0.46.1->qiskit[visualization]==0.46.1) (4.19.2)\n",
            "Requirement already satisfied: argon2-cffi-bindings in /usr/local/lib/python3.10/dist-packages (from argon2-cffi->notebook>=4.4.1->widgetsnbextension~=3.6.0->ipywidgets>=7.3.0->qiskit-terra==0.46.1->qiskit[visualization]==0.46.1) (21.2.0)\n",
            "Requirement already satisfied: attrs>=22.2.0 in /usr/local/lib/python3.10/dist-packages (from jsonschema>=2.6->nbformat->notebook>=4.4.1->widgetsnbextension~=3.6.0->ipywidgets>=7.3.0->qiskit-terra==0.46.1->qiskit[visualization]==0.46.1) (23.2.0)\n",
            "Requirement already satisfied: jsonschema-specifications>=2023.03.6 in /usr/local/lib/python3.10/dist-packages (from jsonschema>=2.6->nbformat->notebook>=4.4.1->widgetsnbextension~=3.6.0->ipywidgets>=7.3.0->qiskit-terra==0.46.1->qiskit[visualization]==0.46.1) (2023.12.1)\n",
            "Requirement already satisfied: referencing>=0.28.4 in /usr/local/lib/python3.10/dist-packages (from jsonschema>=2.6->nbformat->notebook>=4.4.1->widgetsnbextension~=3.6.0->ipywidgets>=7.3.0->qiskit-terra==0.46.1->qiskit[visualization]==0.46.1) (0.34.0)\n",
            "Requirement already satisfied: rpds-py>=0.7.1 in /usr/local/lib/python3.10/dist-packages (from jsonschema>=2.6->nbformat->notebook>=4.4.1->widgetsnbextension~=3.6.0->ipywidgets>=7.3.0->qiskit-terra==0.46.1->qiskit[visualization]==0.46.1) (0.18.0)\n",
            "Requirement already satisfied: anyio<4,>=3.1.0 in /usr/local/lib/python3.10/dist-packages (from jupyter-server>=1.8->nbclassic>=0.4.7->notebook>=4.4.1->widgetsnbextension~=3.6.0->ipywidgets>=7.3.0->qiskit-terra==0.46.1->qiskit[visualization]==0.46.1) (3.7.1)\n",
            "Requirement already satisfied: websocket-client in /usr/local/lib/python3.10/dist-packages (from jupyter-server>=1.8->nbclassic>=0.4.7->notebook>=4.4.1->widgetsnbextension~=3.6.0->ipywidgets>=7.3.0->qiskit-terra==0.46.1->qiskit[visualization]==0.46.1) (1.7.0)\n",
            "Requirement already satisfied: cffi>=1.0.1 in /usr/local/lib/python3.10/dist-packages (from argon2-cffi-bindings->argon2-cffi->notebook>=4.4.1->widgetsnbextension~=3.6.0->ipywidgets>=7.3.0->qiskit-terra==0.46.1->qiskit[visualization]==0.46.1) (1.16.0)\n",
            "Requirement already satisfied: soupsieve>1.2 in /usr/local/lib/python3.10/dist-packages (from beautifulsoup4->nbconvert>=5->notebook>=4.4.1->widgetsnbextension~=3.6.0->ipywidgets>=7.3.0->qiskit-terra==0.46.1->qiskit[visualization]==0.46.1) (2.5)\n",
            "Requirement already satisfied: webencodings in /usr/local/lib/python3.10/dist-packages (from bleach->nbconvert>=5->notebook>=4.4.1->widgetsnbextension~=3.6.0->ipywidgets>=7.3.0->qiskit-terra==0.46.1->qiskit[visualization]==0.46.1) (0.5.1)\n",
            "Requirement already satisfied: idna>=2.8 in /usr/local/lib/python3.10/dist-packages (from anyio<4,>=3.1.0->jupyter-server>=1.8->nbclassic>=0.4.7->notebook>=4.4.1->widgetsnbextension~=3.6.0->ipywidgets>=7.3.0->qiskit-terra==0.46.1->qiskit[visualization]==0.46.1) (3.7)\n",
            "Requirement already satisfied: sniffio>=1.1 in /usr/local/lib/python3.10/dist-packages (from anyio<4,>=3.1.0->jupyter-server>=1.8->nbclassic>=0.4.7->notebook>=4.4.1->widgetsnbextension~=3.6.0->ipywidgets>=7.3.0->qiskit-terra==0.46.1->qiskit[visualization]==0.46.1) (1.3.1)\n",
            "Requirement already satisfied: exceptiongroup in /usr/local/lib/python3.10/dist-packages (from anyio<4,>=3.1.0->jupyter-server>=1.8->nbclassic>=0.4.7->notebook>=4.4.1->widgetsnbextension~=3.6.0->ipywidgets>=7.3.0->qiskit-terra==0.46.1->qiskit[visualization]==0.46.1) (1.2.1)\n",
            "Requirement already satisfied: pycparser in /usr/local/lib/python3.10/dist-packages (from cffi>=1.0.1->argon2-cffi-bindings->argon2-cffi->notebook>=4.4.1->widgetsnbextension~=3.6.0->ipywidgets>=7.3.0->qiskit-terra==0.46.1->qiskit[visualization]==0.46.1) (2.22)\n",
            "Installing collected packages: ply, qiskit-terra, qiskit\n",
            "  Attempting uninstall: qiskit\n",
            "    Found existing installation: qiskit 1.0.2\n",
            "    Uninstalling qiskit-1.0.2:\n",
            "      Successfully uninstalled qiskit-1.0.2\n",
            "Successfully installed ply-3.11 qiskit-0.46.1 qiskit-terra-0.46.1\n",
            "Requirement already satisfied: qiskit-aer in /usr/local/lib/python3.10/dist-packages (0.14.0.1)\n",
            "Requirement already satisfied: qiskit>=0.45.0 in /usr/local/lib/python3.10/dist-packages (from qiskit-aer) (0.46.1)\n",
            "Requirement already satisfied: numpy>=1.16.3 in /usr/local/lib/python3.10/dist-packages (from qiskit-aer) (1.25.2)\n",
            "Requirement already satisfied: scipy>=1.0 in /usr/local/lib/python3.10/dist-packages (from qiskit-aer) (1.11.4)\n",
            "Requirement already satisfied: psutil>=5 in /usr/local/lib/python3.10/dist-packages (from qiskit-aer) (5.9.5)\n",
            "Requirement already satisfied: qiskit-terra==0.46.1 in /usr/local/lib/python3.10/dist-packages (from qiskit>=0.45.0->qiskit-aer) (0.46.1)\n",
            "Requirement already satisfied: rustworkx>=0.13.0 in /usr/local/lib/python3.10/dist-packages (from qiskit-terra==0.46.1->qiskit>=0.45.0->qiskit-aer) (0.14.2)\n",
            "Requirement already satisfied: ply>=3.10 in /usr/local/lib/python3.10/dist-packages (from qiskit-terra==0.46.1->qiskit>=0.45.0->qiskit-aer) (3.11)\n",
            "Requirement already satisfied: sympy>=1.3 in /usr/local/lib/python3.10/dist-packages (from qiskit-terra==0.46.1->qiskit>=0.45.0->qiskit-aer) (1.12)\n",
            "Requirement already satisfied: dill>=0.3 in /usr/local/lib/python3.10/dist-packages (from qiskit-terra==0.46.1->qiskit>=0.45.0->qiskit-aer) (0.3.8)\n",
            "Requirement already satisfied: python-dateutil>=2.8.0 in /usr/local/lib/python3.10/dist-packages (from qiskit-terra==0.46.1->qiskit>=0.45.0->qiskit-aer) (2.8.2)\n",
            "Requirement already satisfied: stevedore>=3.0.0 in /usr/local/lib/python3.10/dist-packages (from qiskit-terra==0.46.1->qiskit>=0.45.0->qiskit-aer) (5.2.0)\n",
            "Requirement already satisfied: symengine>=0.11 in /usr/local/lib/python3.10/dist-packages (from qiskit-terra==0.46.1->qiskit>=0.45.0->qiskit-aer) (0.11.0)\n",
            "Requirement already satisfied: typing-extensions in /usr/local/lib/python3.10/dist-packages (from qiskit-terra==0.46.1->qiskit>=0.45.0->qiskit-aer) (4.11.0)\n",
            "Requirement already satisfied: six>=1.5 in /usr/local/lib/python3.10/dist-packages (from python-dateutil>=2.8.0->qiskit-terra==0.46.1->qiskit>=0.45.0->qiskit-aer) (1.16.0)\n",
            "Requirement already satisfied: pbr!=2.1.0,>=2.0.0 in /usr/local/lib/python3.10/dist-packages (from stevedore>=3.0.0->qiskit-terra==0.46.1->qiskit>=0.45.0->qiskit-aer) (6.0.0)\n",
            "Requirement already satisfied: mpmath>=0.19 in /usr/local/lib/python3.10/dist-packages (from sympy>=1.3->qiskit-terra==0.46.1->qiskit>=0.45.0->qiskit-aer) (1.3.0)\n",
            "Collecting git+https://github.com/qiskit-community/qiskit-textbook.git#subdirectory=qiskit-textbook-src\n",
            "  Cloning https://github.com/qiskit-community/qiskit-textbook.git to /tmp/pip-req-build-sfx_2pos\n",
            "  Running command git clone --filter=blob:none --quiet https://github.com/qiskit-community/qiskit-textbook.git /tmp/pip-req-build-sfx_2pos\n",
            "  Resolved https://github.com/qiskit-community/qiskit-textbook.git to commit 0ae905083ec3872d7ddc6bb4001d5468f476d93f\n",
            "  Preparing metadata (setup.py) ... \u001b[?25l\u001b[?25hdone\n",
            "Requirement already satisfied: qiskit in /usr/local/lib/python3.10/dist-packages (from qiskit-textbook==0.1.0) (0.46.1)\n",
            "Requirement already satisfied: ipython in /usr/local/lib/python3.10/dist-packages (from qiskit-textbook==0.1.0) (7.34.0)\n",
            "Requirement already satisfied: ipywidgets in /usr/local/lib/python3.10/dist-packages (from qiskit-textbook==0.1.0) (7.7.1)\n",
            "Requirement already satisfied: numpy in /usr/local/lib/python3.10/dist-packages (from qiskit-textbook==0.1.0) (1.25.2)\n",
            "Requirement already satisfied: matplotlib in /usr/local/lib/python3.10/dist-packages (from qiskit-textbook==0.1.0) (3.7.1)\n",
            "Requirement already satisfied: numexpr in /usr/local/lib/python3.10/dist-packages (from qiskit-textbook==0.1.0) (2.10.0)\n",
            "Requirement already satisfied: setuptools>=18.5 in /usr/local/lib/python3.10/dist-packages (from ipython->qiskit-textbook==0.1.0) (67.7.2)\n",
            "Requirement already satisfied: jedi>=0.16 in /usr/local/lib/python3.10/dist-packages (from ipython->qiskit-textbook==0.1.0) (0.19.1)\n",
            "Requirement already satisfied: decorator in /usr/local/lib/python3.10/dist-packages (from ipython->qiskit-textbook==0.1.0) (4.4.2)\n",
            "Requirement already satisfied: pickleshare in /usr/local/lib/python3.10/dist-packages (from ipython->qiskit-textbook==0.1.0) (0.7.5)\n",
            "Requirement already satisfied: traitlets>=4.2 in /usr/local/lib/python3.10/dist-packages (from ipython->qiskit-textbook==0.1.0) (5.7.1)\n",
            "Requirement already satisfied: prompt-toolkit!=3.0.0,!=3.0.1,<3.1.0,>=2.0.0 in /usr/local/lib/python3.10/dist-packages (from ipython->qiskit-textbook==0.1.0) (3.0.43)\n",
            "Requirement already satisfied: pygments in /usr/local/lib/python3.10/dist-packages (from ipython->qiskit-textbook==0.1.0) (2.16.1)\n",
            "Requirement already satisfied: backcall in /usr/local/lib/python3.10/dist-packages (from ipython->qiskit-textbook==0.1.0) (0.2.0)\n",
            "Requirement already satisfied: matplotlib-inline in /usr/local/lib/python3.10/dist-packages (from ipython->qiskit-textbook==0.1.0) (0.1.7)\n",
            "Requirement already satisfied: pexpect>4.3 in /usr/local/lib/python3.10/dist-packages (from ipython->qiskit-textbook==0.1.0) (4.9.0)\n",
            "Requirement already satisfied: ipykernel>=4.5.1 in /usr/local/lib/python3.10/dist-packages (from ipywidgets->qiskit-textbook==0.1.0) (5.5.6)\n",
            "Requirement already satisfied: ipython-genutils~=0.2.0 in /usr/local/lib/python3.10/dist-packages (from ipywidgets->qiskit-textbook==0.1.0) (0.2.0)\n",
            "Requirement already satisfied: widgetsnbextension~=3.6.0 in /usr/local/lib/python3.10/dist-packages (from ipywidgets->qiskit-textbook==0.1.0) (3.6.6)\n",
            "Requirement already satisfied: jupyterlab-widgets>=1.0.0 in /usr/local/lib/python3.10/dist-packages (from ipywidgets->qiskit-textbook==0.1.0) (3.0.10)\n",
            "Requirement already satisfied: contourpy>=1.0.1 in /usr/local/lib/python3.10/dist-packages (from matplotlib->qiskit-textbook==0.1.0) (1.2.1)\n",
            "Requirement already satisfied: cycler>=0.10 in /usr/local/lib/python3.10/dist-packages (from matplotlib->qiskit-textbook==0.1.0) (0.12.1)\n",
            "Requirement already satisfied: fonttools>=4.22.0 in /usr/local/lib/python3.10/dist-packages (from matplotlib->qiskit-textbook==0.1.0) (4.51.0)\n",
            "Requirement already satisfied: kiwisolver>=1.0.1 in /usr/local/lib/python3.10/dist-packages (from matplotlib->qiskit-textbook==0.1.0) (1.4.5)\n",
            "Requirement already satisfied: packaging>=20.0 in /usr/local/lib/python3.10/dist-packages (from matplotlib->qiskit-textbook==0.1.0) (24.0)\n",
            "Requirement already satisfied: pillow>=6.2.0 in /usr/local/lib/python3.10/dist-packages (from matplotlib->qiskit-textbook==0.1.0) (9.4.0)\n",
            "Requirement already satisfied: pyparsing>=2.3.1 in /usr/local/lib/python3.10/dist-packages (from matplotlib->qiskit-textbook==0.1.0) (3.1.2)\n",
            "Requirement already satisfied: python-dateutil>=2.7 in /usr/local/lib/python3.10/dist-packages (from matplotlib->qiskit-textbook==0.1.0) (2.8.2)\n",
            "Requirement already satisfied: qiskit-terra==0.46.1 in /usr/local/lib/python3.10/dist-packages (from qiskit->qiskit-textbook==0.1.0) (0.46.1)\n",
            "Requirement already satisfied: rustworkx>=0.13.0 in /usr/local/lib/python3.10/dist-packages (from qiskit-terra==0.46.1->qiskit->qiskit-textbook==0.1.0) (0.14.2)\n",
            "Requirement already satisfied: ply>=3.10 in /usr/local/lib/python3.10/dist-packages (from qiskit-terra==0.46.1->qiskit->qiskit-textbook==0.1.0) (3.11)\n",
            "Requirement already satisfied: psutil>=5 in /usr/local/lib/python3.10/dist-packages (from qiskit-terra==0.46.1->qiskit->qiskit-textbook==0.1.0) (5.9.5)\n",
            "Requirement already satisfied: scipy>=1.5 in /usr/local/lib/python3.10/dist-packages (from qiskit-terra==0.46.1->qiskit->qiskit-textbook==0.1.0) (1.11.4)\n",
            "Requirement already satisfied: sympy>=1.3 in /usr/local/lib/python3.10/dist-packages (from qiskit-terra==0.46.1->qiskit->qiskit-textbook==0.1.0) (1.12)\n",
            "Requirement already satisfied: dill>=0.3 in /usr/local/lib/python3.10/dist-packages (from qiskit-terra==0.46.1->qiskit->qiskit-textbook==0.1.0) (0.3.8)\n",
            "Requirement already satisfied: stevedore>=3.0.0 in /usr/local/lib/python3.10/dist-packages (from qiskit-terra==0.46.1->qiskit->qiskit-textbook==0.1.0) (5.2.0)\n",
            "Requirement already satisfied: symengine>=0.11 in /usr/local/lib/python3.10/dist-packages (from qiskit-terra==0.46.1->qiskit->qiskit-textbook==0.1.0) (0.11.0)\n",
            "Requirement already satisfied: typing-extensions in /usr/local/lib/python3.10/dist-packages (from qiskit-terra==0.46.1->qiskit->qiskit-textbook==0.1.0) (4.11.0)\n",
            "Requirement already satisfied: jupyter-client in /usr/local/lib/python3.10/dist-packages (from ipykernel>=4.5.1->ipywidgets->qiskit-textbook==0.1.0) (6.1.12)\n",
            "Requirement already satisfied: tornado>=4.2 in /usr/local/lib/python3.10/dist-packages (from ipykernel>=4.5.1->ipywidgets->qiskit-textbook==0.1.0) (6.3.3)\n",
            "Requirement already satisfied: parso<0.9.0,>=0.8.3 in /usr/local/lib/python3.10/dist-packages (from jedi>=0.16->ipython->qiskit-textbook==0.1.0) (0.8.4)\n",
            "Requirement already satisfied: ptyprocess>=0.5 in /usr/local/lib/python3.10/dist-packages (from pexpect>4.3->ipython->qiskit-textbook==0.1.0) (0.7.0)\n",
            "Requirement already satisfied: wcwidth in /usr/local/lib/python3.10/dist-packages (from prompt-toolkit!=3.0.0,!=3.0.1,<3.1.0,>=2.0.0->ipython->qiskit-textbook==0.1.0) (0.2.13)\n",
            "Requirement already satisfied: six>=1.5 in /usr/local/lib/python3.10/dist-packages (from python-dateutil>=2.7->matplotlib->qiskit-textbook==0.1.0) (1.16.0)\n",
            "Requirement already satisfied: notebook>=4.4.1 in /usr/local/lib/python3.10/dist-packages (from widgetsnbextension~=3.6.0->ipywidgets->qiskit-textbook==0.1.0) (6.5.5)\n",
            "Requirement already satisfied: jinja2 in /usr/local/lib/python3.10/dist-packages (from notebook>=4.4.1->widgetsnbextension~=3.6.0->ipywidgets->qiskit-textbook==0.1.0) (3.1.3)\n",
            "Requirement already satisfied: pyzmq<25,>=17 in /usr/local/lib/python3.10/dist-packages (from notebook>=4.4.1->widgetsnbextension~=3.6.0->ipywidgets->qiskit-textbook==0.1.0) (23.2.1)\n",
            "Requirement already satisfied: argon2-cffi in /usr/local/lib/python3.10/dist-packages (from notebook>=4.4.1->widgetsnbextension~=3.6.0->ipywidgets->qiskit-textbook==0.1.0) (23.1.0)\n",
            "Requirement already satisfied: jupyter-core>=4.6.1 in /usr/local/lib/python3.10/dist-packages (from notebook>=4.4.1->widgetsnbextension~=3.6.0->ipywidgets->qiskit-textbook==0.1.0) (5.7.2)\n",
            "Requirement already satisfied: nbformat in /usr/local/lib/python3.10/dist-packages (from notebook>=4.4.1->widgetsnbextension~=3.6.0->ipywidgets->qiskit-textbook==0.1.0) (5.10.4)\n",
            "Requirement already satisfied: nbconvert>=5 in /usr/local/lib/python3.10/dist-packages (from notebook>=4.4.1->widgetsnbextension~=3.6.0->ipywidgets->qiskit-textbook==0.1.0) (6.5.4)\n",
            "Requirement already satisfied: nest-asyncio>=1.5 in /usr/local/lib/python3.10/dist-packages (from notebook>=4.4.1->widgetsnbextension~=3.6.0->ipywidgets->qiskit-textbook==0.1.0) (1.6.0)\n",
            "Requirement already satisfied: Send2Trash>=1.8.0 in /usr/local/lib/python3.10/dist-packages (from notebook>=4.4.1->widgetsnbextension~=3.6.0->ipywidgets->qiskit-textbook==0.1.0) (1.8.3)\n",
            "Requirement already satisfied: terminado>=0.8.3 in /usr/local/lib/python3.10/dist-packages (from notebook>=4.4.1->widgetsnbextension~=3.6.0->ipywidgets->qiskit-textbook==0.1.0) (0.18.1)\n",
            "Requirement already satisfied: prometheus-client in /usr/local/lib/python3.10/dist-packages (from notebook>=4.4.1->widgetsnbextension~=3.6.0->ipywidgets->qiskit-textbook==0.1.0) (0.20.0)\n",
            "Requirement already satisfied: nbclassic>=0.4.7 in /usr/local/lib/python3.10/dist-packages (from notebook>=4.4.1->widgetsnbextension~=3.6.0->ipywidgets->qiskit-textbook==0.1.0) (1.0.0)\n",
            "Requirement already satisfied: pbr!=2.1.0,>=2.0.0 in /usr/local/lib/python3.10/dist-packages (from stevedore>=3.0.0->qiskit-terra==0.46.1->qiskit->qiskit-textbook==0.1.0) (6.0.0)\n",
            "Requirement already satisfied: mpmath>=0.19 in /usr/local/lib/python3.10/dist-packages (from sympy>=1.3->qiskit-terra==0.46.1->qiskit->qiskit-textbook==0.1.0) (1.3.0)\n",
            "Requirement already satisfied: platformdirs>=2.5 in /usr/local/lib/python3.10/dist-packages (from jupyter-core>=4.6.1->notebook>=4.4.1->widgetsnbextension~=3.6.0->ipywidgets->qiskit-textbook==0.1.0) (4.2.0)\n",
            "Requirement already satisfied: jupyter-server>=1.8 in /usr/local/lib/python3.10/dist-packages (from nbclassic>=0.4.7->notebook>=4.4.1->widgetsnbextension~=3.6.0->ipywidgets->qiskit-textbook==0.1.0) (1.24.0)\n",
            "Requirement already satisfied: notebook-shim>=0.2.3 in /usr/local/lib/python3.10/dist-packages (from nbclassic>=0.4.7->notebook>=4.4.1->widgetsnbextension~=3.6.0->ipywidgets->qiskit-textbook==0.1.0) (0.2.4)\n",
            "Requirement already satisfied: lxml in /usr/local/lib/python3.10/dist-packages (from nbconvert>=5->notebook>=4.4.1->widgetsnbextension~=3.6.0->ipywidgets->qiskit-textbook==0.1.0) (4.9.4)\n",
            "Requirement already satisfied: beautifulsoup4 in /usr/local/lib/python3.10/dist-packages (from nbconvert>=5->notebook>=4.4.1->widgetsnbextension~=3.6.0->ipywidgets->qiskit-textbook==0.1.0) (4.12.3)\n",
            "Requirement already satisfied: bleach in /usr/local/lib/python3.10/dist-packages (from nbconvert>=5->notebook>=4.4.1->widgetsnbextension~=3.6.0->ipywidgets->qiskit-textbook==0.1.0) (6.1.0)\n",
            "Requirement already satisfied: defusedxml in /usr/local/lib/python3.10/dist-packages (from nbconvert>=5->notebook>=4.4.1->widgetsnbextension~=3.6.0->ipywidgets->qiskit-textbook==0.1.0) (0.7.1)\n",
            "Requirement already satisfied: entrypoints>=0.2.2 in /usr/local/lib/python3.10/dist-packages (from nbconvert>=5->notebook>=4.4.1->widgetsnbextension~=3.6.0->ipywidgets->qiskit-textbook==0.1.0) (0.4)\n",
            "Requirement already satisfied: jupyterlab-pygments in /usr/local/lib/python3.10/dist-packages (from nbconvert>=5->notebook>=4.4.1->widgetsnbextension~=3.6.0->ipywidgets->qiskit-textbook==0.1.0) (0.3.0)\n",
            "Requirement already satisfied: MarkupSafe>=2.0 in /usr/local/lib/python3.10/dist-packages (from nbconvert>=5->notebook>=4.4.1->widgetsnbextension~=3.6.0->ipywidgets->qiskit-textbook==0.1.0) (2.1.5)\n",
            "Requirement already satisfied: mistune<2,>=0.8.1 in /usr/local/lib/python3.10/dist-packages (from nbconvert>=5->notebook>=4.4.1->widgetsnbextension~=3.6.0->ipywidgets->qiskit-textbook==0.1.0) (0.8.4)\n",
            "Requirement already satisfied: nbclient>=0.5.0 in /usr/local/lib/python3.10/dist-packages (from nbconvert>=5->notebook>=4.4.1->widgetsnbextension~=3.6.0->ipywidgets->qiskit-textbook==0.1.0) (0.10.0)\n",
            "Requirement already satisfied: pandocfilters>=1.4.1 in /usr/local/lib/python3.10/dist-packages (from nbconvert>=5->notebook>=4.4.1->widgetsnbextension~=3.6.0->ipywidgets->qiskit-textbook==0.1.0) (1.5.1)\n",
            "Requirement already satisfied: tinycss2 in /usr/local/lib/python3.10/dist-packages (from nbconvert>=5->notebook>=4.4.1->widgetsnbextension~=3.6.0->ipywidgets->qiskit-textbook==0.1.0) (1.2.1)\n",
            "Requirement already satisfied: fastjsonschema>=2.15 in /usr/local/lib/python3.10/dist-packages (from nbformat->notebook>=4.4.1->widgetsnbextension~=3.6.0->ipywidgets->qiskit-textbook==0.1.0) (2.19.1)\n",
            "Requirement already satisfied: jsonschema>=2.6 in /usr/local/lib/python3.10/dist-packages (from nbformat->notebook>=4.4.1->widgetsnbextension~=3.6.0->ipywidgets->qiskit-textbook==0.1.0) (4.19.2)\n",
            "Requirement already satisfied: argon2-cffi-bindings in /usr/local/lib/python3.10/dist-packages (from argon2-cffi->notebook>=4.4.1->widgetsnbextension~=3.6.0->ipywidgets->qiskit-textbook==0.1.0) (21.2.0)\n",
            "Requirement already satisfied: attrs>=22.2.0 in /usr/local/lib/python3.10/dist-packages (from jsonschema>=2.6->nbformat->notebook>=4.4.1->widgetsnbextension~=3.6.0->ipywidgets->qiskit-textbook==0.1.0) (23.2.0)\n",
            "Requirement already satisfied: jsonschema-specifications>=2023.03.6 in /usr/local/lib/python3.10/dist-packages (from jsonschema>=2.6->nbformat->notebook>=4.4.1->widgetsnbextension~=3.6.0->ipywidgets->qiskit-textbook==0.1.0) (2023.12.1)\n",
            "Requirement already satisfied: referencing>=0.28.4 in /usr/local/lib/python3.10/dist-packages (from jsonschema>=2.6->nbformat->notebook>=4.4.1->widgetsnbextension~=3.6.0->ipywidgets->qiskit-textbook==0.1.0) (0.34.0)\n",
            "Requirement already satisfied: rpds-py>=0.7.1 in /usr/local/lib/python3.10/dist-packages (from jsonschema>=2.6->nbformat->notebook>=4.4.1->widgetsnbextension~=3.6.0->ipywidgets->qiskit-textbook==0.1.0) (0.18.0)\n",
            "Requirement already satisfied: anyio<4,>=3.1.0 in /usr/local/lib/python3.10/dist-packages (from jupyter-server>=1.8->nbclassic>=0.4.7->notebook>=4.4.1->widgetsnbextension~=3.6.0->ipywidgets->qiskit-textbook==0.1.0) (3.7.1)\n",
            "Requirement already satisfied: websocket-client in /usr/local/lib/python3.10/dist-packages (from jupyter-server>=1.8->nbclassic>=0.4.7->notebook>=4.4.1->widgetsnbextension~=3.6.0->ipywidgets->qiskit-textbook==0.1.0) (1.7.0)\n",
            "Requirement already satisfied: cffi>=1.0.1 in /usr/local/lib/python3.10/dist-packages (from argon2-cffi-bindings->argon2-cffi->notebook>=4.4.1->widgetsnbextension~=3.6.0->ipywidgets->qiskit-textbook==0.1.0) (1.16.0)\n",
            "Requirement already satisfied: soupsieve>1.2 in /usr/local/lib/python3.10/dist-packages (from beautifulsoup4->nbconvert>=5->notebook>=4.4.1->widgetsnbextension~=3.6.0->ipywidgets->qiskit-textbook==0.1.0) (2.5)\n",
            "Requirement already satisfied: webencodings in /usr/local/lib/python3.10/dist-packages (from bleach->nbconvert>=5->notebook>=4.4.1->widgetsnbextension~=3.6.0->ipywidgets->qiskit-textbook==0.1.0) (0.5.1)\n",
            "Requirement already satisfied: idna>=2.8 in /usr/local/lib/python3.10/dist-packages (from anyio<4,>=3.1.0->jupyter-server>=1.8->nbclassic>=0.4.7->notebook>=4.4.1->widgetsnbextension~=3.6.0->ipywidgets->qiskit-textbook==0.1.0) (3.7)\n",
            "Requirement already satisfied: sniffio>=1.1 in /usr/local/lib/python3.10/dist-packages (from anyio<4,>=3.1.0->jupyter-server>=1.8->nbclassic>=0.4.7->notebook>=4.4.1->widgetsnbextension~=3.6.0->ipywidgets->qiskit-textbook==0.1.0) (1.3.1)\n",
            "Requirement already satisfied: exceptiongroup in /usr/local/lib/python3.10/dist-packages (from anyio<4,>=3.1.0->jupyter-server>=1.8->nbclassic>=0.4.7->notebook>=4.4.1->widgetsnbextension~=3.6.0->ipywidgets->qiskit-textbook==0.1.0) (1.2.1)\n",
            "Requirement already satisfied: pycparser in /usr/local/lib/python3.10/dist-packages (from cffi>=1.0.1->argon2-cffi-bindings->argon2-cffi->notebook>=4.4.1->widgetsnbextension~=3.6.0->ipywidgets->qiskit-textbook==0.1.0) (2.22)\n"
          ]
        }
      ]
    },
    {
      "cell_type": "code",
      "source": [
        "# Qiskit Local Simulator 사용하기 위한 준비\n",
        "from qiskit_aer import Aer\n",
        "from qiskit import *\n",
        "from qiskit.visualization import plot_histogram"
      ],
      "metadata": {
        "id": "WcC4myK5HkZi"
      },
      "execution_count": 28,
      "outputs": []
    },
    {
      "cell_type": "markdown",
      "metadata": {
        "id": "k6IozHcgHSEN"
      },
      "source": [
        "# IBM's Qiskit Global Summer School 2023\n",
        "## Lab 4 - Iterative Phase Estimation\n",
        "\n",
        "- In this lab, you'll implement a simple version of the iterative phase estimation algorithm. Using the recently introduced dynamic circuits capabilities, you'll be able to run the algorithm on an IBM quantum processor! This lab was adapted from the IBM Quantum Spring Challenge 2023, so if you participated in that challenge, it may look familiar. To encourage you to review the lab nevertheless, we added an extra exercise at the end."
      ]
    },
    {
      "cell_type": "markdown",
      "metadata": {
        "id": "9d0RX4InHSEQ"
      },
      "source": [
        "## Background\n",
        "\n",
        "The quantum phase estimation (QPE) algorithm is one of the most important and famous quantum algorithms. It is a key subroutine of Shor's factoring algorithm, as well as algorithms for quantum simulation. The textbook version of the algorithm uses a number of auxiliary qubits which scales with the desired precision, leading to circuits that are challenging to execute on today's noisy devices with limited qubit number and connectivity.\n",
        "\n",
        "Iterative phase estimation (IPE) is a variant of QPE which requires only one auxiliary qubit. In IPE, the auxiliary qubit is repeatedly measured, with the measurement results used to guide future quantum operations. Such classical feed-forward was previously impossible to execute on IBM's quantum processors, but with the recently introduced dynamic circuits capabilities, it is now possible.\n",
        "\n",
        "Like any phase estimation algorithm, IPE is designed to solve the following problem:\n",
        "\n",
        "**Problem statement:** Given a unitary matrix $U$ and an eigenstate $|\\Psi\\rangle$ of $U$ with an unknown eigenvalue $e^{i 2\\pi \\varphi}$, estimate the value of $\\varphi$.\n",
        "\n",
        "A few important details need to be clarified in this problem statement, namely, how $U$ and $|\\Psi\\rangle$ are specified. We assume that $U$ is given as a quantum circuit implementing $U$, and in fact, we assume we have the ability to efficiently implement the operations *controlled*-$U^{2^t}$ for positive integers $t$.\n",
        "This is the same assumption used in the original QPE algorithm.\n",
        "The eigenstate is also given as a quantum circuit: we assume we have the ability to efficiently prepare $|\\Psi\\rangle$.\n",
        "\n",
        "Let's first assume for simplicity that $\\varphi$ can have an exact binary expansion, that is, it can be written as\n",
        "$$\n",
        "\\varphi = \\varphi_1/2 + \\varphi_2/4 + \\cdots + \\varphi_m/2^m = 0.\\varphi_1 \\varphi_2 \\cdots \\varphi_m\n",
        "$$\n",
        "where in the final equality we are using \"decimal\" point notation in base 2.\n",
        "For simplicity, suppose $U$ is a unitary operator acting on one qubit (everything we say here also applies to the case where $U$ acts on multiple qubits). Since IPE requires an auxiliary qubit, we need a system of two qubits, $q_0$ and $q_1$, where $q_0$ is the auxiliary qubit and $q_1$ represents the physical system on which $U$ operates.\n",
        "\n",
        "Now, suppose that we initialize $q_0$ in the state $|+\\rangle = \\frac{|0\\rangle + |1\\rangle}{\\sqrt{2}}$ and $q_1$ in the state $|\\Psi \\rangle$.\n",
        "What happens if we apply the *controlled*-$U^{2^t}$ gate, with $q_0$ being the control and $q_1$ being the target?\n",
        "Since $|\\Psi \\rangle$ is an eigenstate of $U$ with eigenvalue $e^{i 2\\pi \\varphi}$, we have\n",
        "$$\n",
        "\\begin{align}\n",
        "|+\\rangle |\\Psi \\rangle &= \\left(\\frac{|0\\rangle + |1\\rangle}{\\sqrt{2}}\\right) |\\Psi \\rangle \\\\\n",
        "&= \\frac{|0\\rangle |\\Psi \\rangle + |1\\rangle |\\Psi \\rangle}{\\sqrt{2}} \\\\\n",
        "&\\xrightarrow{\\text{controlled-}U^{2^t}} \\frac{|0\\rangle |\\Psi \\rangle + e^{i 2 \\pi 2^{t} \\varphi} |1\\rangle |\\Psi \\rangle}{\\sqrt{2}} \\\\\n",
        "&= \\left(\\frac{|0\\rangle  + e^{i 2 \\pi 2^{t} \\varphi} |1\\rangle}{\\sqrt{2}}\\right) |\\Psi \\rangle.\n",
        "\\end{align}\n",
        "$$\n",
        "That is, the state of the system qubit remains unchanged, while a phase of $e^{i 2 \\pi 2^{t} \\varphi}$ has been \"kicked back\" into the state of the auxiliary qubit.\n",
        "\n",
        "Now, note that\n",
        "$$\n",
        "e^{i 2 \\pi 2^{t} \\varphi} = e^{i 2 \\pi 2^{t} (0.\\varphi_1 \\varphi_2 \\cdots \\varphi_m)}\n",
        "= e^{i 2 \\pi (\\varphi_1 \\cdots \\varphi_t . \\varphi_{t + 1} \\cdots \\varphi_m)}\n",
        "= e^{i 2 \\pi (0. \\varphi_{t + 1} \\cdots \\varphi_m)},\n",
        "$$\n",
        "where in the last equality, the whole number part of the \"decimal\" representation of the phase has disappeared because $e^{i 2\\pi n} = 1$ for any integer $n$.\n",
        "For example:\n",
        "- for $t=0$, the phase would be $e^{i 2 \\pi 2^{0} \\varphi} = e^{i 2 \\pi \\varphi} = e^{i 2 \\pi 0.\\varphi_1 \\varphi_2 ... \\varphi_m}$\n",
        "- for $t=1$, the phase would be $e^{i 2 \\pi 2^{1} \\varphi}= e^{i 2 \\pi \\varphi_1} e^{i 2 \\pi 0.\\varphi_2 \\varphi_3 ... \\varphi_m} = e^{i 2 \\pi 0.\\varphi_2 \\varphi_3 ... \\varphi_m}$\n",
        "- for $t=2$, the phase would be $e^{i 2 \\pi 2^{2} \\varphi} = e^{i 2 \\pi 0.\\varphi_3 \\varphi_4 ... \\varphi_m}$\n",
        "- for $t=m-1$, the phase would be $e^{i 2 \\pi 2^{m-1} \\varphi} = e^{i 2 \\pi 0.\\varphi_m}$.\n",
        "\n",
        "In the last case where $t = m - 1$, the phase is $e^{i 2 \\pi 0.\\varphi_m}$, which is equal to $1$ if $\\varphi_m = 0$ and $-1$ if $\\varphi_m = 1$.\n",
        "In the first case, the auxiliary qubit $q_0$ would be in the state $|+\\rangle = \\frac{|0\\rangle + |1\\rangle}{\\sqrt{2}}$, and in the second case it would be\n",
        "in the state $|-\\rangle = \\frac{|0\\rangle - |1\\rangle}{\\sqrt{2}}$. Therefore, measuring the qubit in the Pauli $X$ basis would distinguish these cases with a 100\\% success rate.\n",
        "This is done by performing a Hadamard gate on the qubit before measuring it. In the first case we would measure 0 and in the second case we would measure 1;\n",
        "in other words, the measured bit would be equal to $\\varphi_m$.\n",
        "\n",
        "### The algorithm\n",
        "\n",
        "In the first step of the IPE algorithm, we directly measure the least significant bit of the phase $\\varphi$, $\\varphi_m$, by initializing the 2-qubit registers as described above ( $q_0 \\rightarrow |+\\rangle$ and $q_1 \\rightarrow |\\Psi \\rangle$ ), performing a *controlled*-$U^{2^{m-1}}$ operation, and measuring $q_0$ in the Pauli $X$ basis.\n",
        "\n",
        "In the second step, we initialize the systems in the same way and apply a *controlled*-$U^{2^{m-2}}$ operation. The relative phase in $q_0$ after these operations is now $e^{i 2 \\pi 0.\\varphi_{m-1}\\varphi_{m}}= e^{i 2 \\pi 0.\\varphi_{m-1}} e^{i 2 \\pi \\varphi_m/4}$.\n",
        "To extract the phase bit $\\varphi_{m-1}$, first perform a phase correction by rotating around the $Z$-axis by an angle $-2 \\pi \\varphi_m/4=-\\pi \\varphi_m/2$, which results in the state of  $q_0$ to be $|0\\rangle + e^{i 2 \\pi 0.\\varphi_{m-1}} | 1 \\rangle$. Perform a measurement on $q_0$ in the Pauli $X$ basis to obtain the phase bit $\\varphi_{m-1}$.\n",
        "\n",
        "Therefore, the $k$-th step of the IPE, getting $\\varphi_{m-k+1}$, consists of the register initialization ($q_0$ in $|+\\rangle$, $q_1$ in $|\\Psi\\rangle$), the application of a *controlled*-$U^{2^{m-k}}$, a rotation around $Z$ of angle $\\omega_k = -2 \\pi 0.0\\varphi_{m-k+2} ... \\varphi_m$, and a measurement of $q_0$ in the Pauli $X$ basis: a Hadamard transform to $q_0$, and a measurement of $q_0$ in the computational basis. Note that $q_1$ remains in the state $|\\Psi\\rangle$ throughout the algorithm."
      ]
    },
    {
      "cell_type": "markdown",
      "metadata": {
        "id": "h_948uPFHSER"
      },
      "source": [
        "## Implementation\n",
        "\n",
        "In this lab, we will perform IPE on the single-qubit $S$-gate. The $S$ gate is given by the matrix\n",
        "\n",
        "$$ S =\n",
        "\\begin{pmatrix}\n",
        "1 & 0\\\\\n",
        "0 & e^{i\\pi / 2}\n",
        "\\end{pmatrix}$$\n",
        "\n",
        "We will use the eigenstate $|\\Psi\\rangle = |1\\rangle$, which has eigenvalue $e^{i\\pi / 2}= e^{i2\\pi \\cdot 1/4}$. So we have $\\varphi = 1/4 = 0.01 = 0.\\varphi_1 \\varphi_2$. Since $\\varphi$ can be represented exactly with 2 bits, our quantum circuit implementation will use a classical register with two bits to store the result.\n",
        "\n",
        "The controlled-$S$ gate can be implemented using the controlled phase gate, available in IBM's Qiskit as `CPhaseGate`, which can also be applied by calling the `cp` method of a `QuantumCircuit`. The controlled phase gate is parameterized by an angle $\\theta$ and has the matrix\n",
        "$$\n",
        "        \\text{CPhase}(\\theta) =\n",
        "            \\begin{pmatrix}\n",
        "                1 & 0 & 0 & 0 \\\\\n",
        "                0 & 1 & 0 & 0 \\\\\n",
        "                0 & 0 & 1 & 0 \\\\\n",
        "                0 & 0 & 0 & e^{i\\theta}\n",
        "            \\end{pmatrix}\n",
        "$$"
      ]
    },
    {
      "cell_type": "markdown",
      "metadata": {
        "id": "CMRQc_aNHSER"
      },
      "source": [
        "<div class=\"alert alert-block alert-success\"> Ex. 1 - Measure the least significant bit of the phase $\\varphi$, i.e., the bit of ${\\varphi}_{1}$. </div>"
      ]
    },
    {
      "cell_type": "markdown",
      "metadata": {
        "id": "Hjq27aZxHSES"
      },
      "source": [
        "\n",
        "### Step 1\n",
        "\n",
        "In the first step of the algorithm, we measure the least significant bit of $\\varphi$.\n",
        "\n",
        "#### Exercise 1\n",
        "\n",
        "Obtain the least significant bit of $\\varphi$ by performing the following steps:\n",
        "<br>\n",
        "1. Initialize the qubits:\n",
        "   - Apply a Hadamard on the auxiliary qubit;\n",
        "   - Apply an X gate on the system qubit to put it in the $|1\\rangle$ state.\n",
        "<br>\n",
        "<br>\n",
        "2. Apply a *controlled*-$S^{2}$ gate by applying a `CPhaseGate` with the appropriate angle.\n",
        "<br>\n",
        "<br>\n",
        "3. Measure the auxiliary qubit in the $X$ basis:\n",
        "   - Apply a Hadamard gate on the auxiliary qubit;\n",
        "   - Measure it in the computational basis.\n",
        "<br>\n",
        "<br>\n",
        "\n",
        "The resulting circuit should look something like this:\n",
        "\n",
        "![step-1-circuit](resources/step-1-circuit.png)"
      ]
    },
    {
      "cell_type": "code",
      "execution_count": 4,
      "metadata": {
        "colab": {
          "base_uri": "https://localhost:8080/",
          "height": 255
        },
        "id": "ako7cRWhHSES",
        "outputId": "1987858e-c14e-44b9-b501-0a950a0f803f"
      },
      "outputs": [
        {
          "output_type": "execute_result",
          "data": {
            "text/plain": [
              "<Figure size 454.517x284.278 with 1 Axes>"
            ],
            "image/png": "[encoded data removed]"
          },
          "metadata": {},
          "execution_count": 4
        }
      ],
      "source": [
        "# import the quantum circuit, quantum register, and classical register\n",
        "# from the IBM's Qiskit library\n",
        "from qiskit import QuantumCircuit, QuantumRegister, ClassicalRegister\n",
        "\n",
        "# import the numpy library\n",
        "import numpy as np\n",
        "\n",
        "\n",
        "# define the function to generate the quantum circuit\n",
        "# for the 1st step of the Iterative Phase Estimation (IPE) of the S gate\n",
        "def step_1_circuit(qr: QuantumRegister, cr: ClassicalRegister) -> QuantumCircuit:\n",
        "\n",
        "    # notes:\n",
        "    # - qr is a quantum register with 2 qubits\n",
        "    # - cr is a classical register with 2 bits\n",
        "\n",
        "    # create a quantum circuit with the quantum register and with\n",
        "    # the classical register defined before, to implement\n",
        "    # the 1st step of the Iterative Phase Estimation (IPE) of the S gate\n",
        "    qc = QuantumCircuit(qr, cr)\n",
        "\n",
        "\n",
        "    ####### your code goes here #######\n",
        "\n",
        "    # apply the Hadamard gate to the 1st qubit (system's qubit)\n",
        "    qc.h(0)\n",
        "\n",
        "    # apply the Pauli-X gate to the 1st qubit (auxiliary qubit)\n",
        "    qc.x(1)\n",
        "\n",
        "\n",
        "    # apply the Controlled-Phase gate for the theta angle equal to pi,\n",
        "    # with control on the 1st qubit and target on the 2nd qubit\n",
        "    qc.cp( np.pi, 0, 1 )\n",
        "\n",
        "\n",
        "    # apply the Hadamard gate to the 1st qubit (system's qubit)\n",
        "    qc.h(0)\n",
        "\n",
        "\n",
        "    # measure the state of the 1st qubit (system's qubit),\n",
        "    # storing the classical outcome on the 1st bit of\n",
        "    # the classical register\n",
        "    qc.measure(0, 0)\n",
        "\n",
        "\n",
        "    # return the quantum circuit\n",
        "    # for the Iterative Phase Estimation (IPE) of the S gate\n",
        "    return qc\n",
        "\n",
        "\n",
        "# create the quantum register for\n",
        "# the quantum circuit to implement the 1st step of\n",
        "# the Iterative Phase Estimation (IPE) of the S gate\n",
        "qr = QuantumRegister(2, \"q\")\n",
        "\n",
        "# create the classical register for\n",
        "# the quantum circuit to implement the 1st step of\n",
        "# the Iterative Phase Estimation (IPE) of the S gate\n",
        "cr = ClassicalRegister(2, \"c\")\n",
        "\n",
        "\n",
        "# create the quantum circuit to implement the 1st step of\n",
        "# the Iterative Phase Estimation (IPE) of\n",
        "# the S gate, with the quantum register\n",
        "# and the classical register defined before\n",
        "qc = QuantumCircuit(qr, cr)\n",
        "\n",
        "\n",
        "# create the quantum circuit implementing the 1st step of\n",
        "# the Iterative Phase Estimation (IPE) of the S gate\n",
        "qc = step_1_circuit(qr, cr)\n",
        "\n",
        "\n",
        "# draw the quantum circuit implementing the 1st step of\n",
        "# the Iterative Phase Estimation (IPE) of the S gate\n",
        "qc.draw(\"mpl\")"
      ]
    },
    {
      "cell_type": "markdown",
      "metadata": {
        "id": "OPHHOpiFHSEU"
      },
      "source": [
        "<div class=\"alert alert-block alert-success\"> Ex. 2 - Measure the next least significant bit of the phase $\\varphi$, i.e., the bit of ${\\varphi}_{2}$. </div>"
      ]
    },
    {
      "cell_type": "markdown",
      "metadata": {
        "id": "BRB-XMPiHSEV"
      },
      "source": [
        "### Step 2\n",
        "\n",
        "In the first step, we measured the least significant bit $\\varphi_2$. In the second (and final) step, we extract the next bit $\\varphi_1$, which will involve applying a phase correction to cancel out the phase contribution from $\\varphi_2$. The phase correction depends on the value of the classical register holding $\\varphi_2$. We need dynamic circuits to perform this classical feedback! The phase correction can be applied using `PhaseGate` or by directly calling the `p` method of a QuantumCircuit.\n",
        "\n",
        "#### Exercise 2\n",
        "\n",
        "In this exercise, we begin with the circuit from Step 1, which you should have constructed in Exercise 1.\n",
        "\n",
        "Obtain the next bit of $\\varphi$ by performing the following steps:\n",
        "1. Reset and re-initialize the auxiliary qubit;\n",
        "2. Apply the controlled unitary gate;\n",
        "3. Measure the auxiliary qubit in the $X$ basis.\n",
        "\n",
        "Here and in the rest of the lab, please use the [`QuantumCircuit.if_else`](https://qiskit.org/documentation/stubs/qiskit.circuit.QuantumCircuit.if_else.html) method to apply operations controlled on classical measurement results.\n",
        "\n",
        "The resulting circuit should look something like the one in the drawing below. Note that in the drawing, the instructions inside the `if_else` instruction are not shown. Therefore, even if your circuit looks the same as the drawing, it may still be different.\n",
        "\n",
        "![step-2-circuit](resources/step-2-circuit.png)"
      ]
    },
    {
      "cell_type": "code",
      "execution_count": 5,
      "metadata": {
        "colab": {
          "base_uri": "https://localhost:8080/",
          "height": 255
        },
        "id": "4vk0yl6wHSEW",
        "outputId": "3604a0a8-fd78-4da5-8d43-53c0e5d600db"
      },
      "outputs": [
        {
          "output_type": "execute_result",
          "data": {
            "text/plain": [
              "<Figure size 1123.41x284.278 with 1 Axes>"
            ],
            "image/png": "[encoded data removed]"
          },
          "metadata": {},
          "execution_count": 5
        }
      ],
      "source": [
        "# define the function to generate the quantum circuit\n",
        "# for the 2nd step of the Iterative Phase Estimation (IPE) of the S gate\n",
        "def step_2_circuit(qr: QuantumRegister, cr: ClassicalRegister) -> QuantumCircuit:\n",
        "\n",
        "    # notes:\n",
        "    # - qr is a quantum register with 2 qubits\n",
        "    # - cr is a classical register with 2 bits\n",
        "\n",
        "    # retrieve the quantum circuit implementing the 1st step of\n",
        "    # the Iterative Phase Estimation (IPE) of the S gate\n",
        "    qc = step_1_circuit(qr, cr)\n",
        "\n",
        "\n",
        "    ####### your code goes here #######\n",
        "\n",
        "    # reset the state of the 1st qubit (system's qubit)\n",
        "    qc.reset(0)\n",
        "\n",
        "    # apply the Hadamard gate to the 1st qubit (system's qubit)\n",
        "    qc.h(0)\n",
        "\n",
        "\n",
        "    # if the 1st bit of the classical register of\n",
        "    # the dynamic quantum circuit has the classical state 1\n",
        "    with qc.if_test( ( cr[0], True ) ):\n",
        "\n",
        "        # apply the phase correction of -pi / 2 to\n",
        "        # the 1st qubit of the quantum register with a P gate\n",
        "        qc.p( -np.pi / 2, 0 )\n",
        "\n",
        "\n",
        "    # apply the Controlled-Phase gate for the theta angle equal to pi / 2,\n",
        "    # with control on the 1st qubit and target on the 2nd qubit\n",
        "    qc.cp( np.pi / 2, 0, 1 )\n",
        "\n",
        "\n",
        "    # apply the Hadamard gate to the 1st qubit (system's qubit)\n",
        "    qc.h(0)\n",
        "\n",
        "\n",
        "    # measure the state of the 1st qubit (system's qubit),\n",
        "    # storing the classical outcome on the 2nd bit of\n",
        "    # the classical register\n",
        "    qc.measure(0, 1)\n",
        "\n",
        "\n",
        "    # return the quantum circuit implementing the 2nd step of\n",
        "    # the Iterative Phase Estimation (IPE) of the S gate\n",
        "    return qc\n",
        "\n",
        "\n",
        "# create the quantum register for\n",
        "# the quantum circuit to implement the 2nd step of\n",
        "# the Iterative Phase Estimation (IPE) of the S gate\n",
        "qr = QuantumRegister(2, \"q\")\n",
        "\n",
        "# create the classical register for\n",
        "# the quantum circuit to implement the 2nd step of\n",
        "# the Iterative Phase Estimation (IPE) of the S gate\n",
        "cr = ClassicalRegister(2, \"c\")\n",
        "\n",
        "\n",
        "# create the quantum circuit to implement the 2nd step of\n",
        "# the Iterative Phase Estimation (IPE) of\n",
        "# the S gate, with the quantum register\n",
        "# and the classical register defined before\n",
        "qc = QuantumCircuit(qr, cr)\n",
        "\n",
        "\n",
        "# create the quantum circuit implementing the 2nd step of\n",
        "# the Iterative Phase Estimation (IPE) of the S gate\n",
        "qc = step_2_circuit(qr, cr)\n",
        "\n",
        "\n",
        "# draw the quantum circuit implementing the 2nd step of\n",
        "# the Iterative Phase Estimation (IPE) of the S gate\n",
        "qc.draw(\"mpl\")"
      ]
    },
    {
      "cell_type": "markdown",
      "metadata": {
        "id": "4mzidXDZHSEW"
      },
      "source": [
        "## Run on simulator\n",
        "\n",
        "Now that we have the complete circuit, let's first run it on a local simulator."
      ]
    },
    {
      "cell_type": "code",
      "execution_count": 6,
      "metadata": {
        "colab": {
          "base_uri": "https://localhost:8080/"
        },
        "id": "hdssadjBHSEW",
        "outputId": "3e4dead1-81e2-4f22-db9c-5545b5e70b1b"
      },
      "outputs": [
        {
          "output_type": "execute_result",
          "data": {
            "text/plain": [
              "{'01': 1000}"
            ]
          },
          "metadata": {},
          "execution_count": 6
        }
      ],
      "source": [
        "# import the Aer Simulator from the IBM's Qiskit Aer module\n",
        "from qiskit_aer import AerSimulator\n",
        "\n",
        "\n",
        "# create an Aer Simulator object\n",
        "sim = AerSimulator()\n",
        "\n",
        "\n",
        "# create a job for the quantum circuit implementing\n",
        "# the IPE for the S gate, running the Aer Simulator\n",
        "job = sim.run(qc, shots=1000)\n",
        "\n",
        "\n",
        "# retrieve the result counts of the quantum simulation\n",
        "result = job.result()\n",
        "\n",
        "# retrieve the result counts of the quantum simulation\n",
        "counts = result.get_counts()\n",
        "\n",
        "\n",
        "# show the result counts of the quantum simulation\n",
        "counts"
      ]
    },
    {
      "cell_type": "markdown",
      "metadata": {
        "id": "nqM9BhMKHSEX"
      },
      "source": [
        "If your circuit is correct, you should have gotten the bitstring `01` with 100% probability. This value corresponds to the phase written in binary as $\\varphi = 0.01 = 1/4$. Indeed, this is the correct phase!"
      ]
    },
    {
      "cell_type": "markdown",
      "metadata": {
        "id": "18cB61DVHSEX"
      },
      "source": [
        "<div class=\"alert alert-block alert-success\"> Ex. 3 - Build a quantum circuit for Iterative Phase Estimation (IPE) for the $T$ gate. </div>"
      ]
    },
    {
      "cell_type": "markdown",
      "metadata": {
        "id": "D8nrdS9aHSEX"
      },
      "source": [
        "### Exercise 3\n",
        "\n",
        "Construct an IPE circuit to estimate the phase of the T gate, whose matrix is given by\n",
        "\n",
        "$$ T =\n",
        "\\begin{pmatrix}\n",
        "1 & 0\\\\\n",
        "0 & e^{i\\pi / 4}\n",
        "\\end{pmatrix}$$\n",
        "\n",
        "How many bits are needed to represent the phase in this case?"
      ]
    },
    {
      "cell_type": "code",
      "execution_count": 7,
      "metadata": {
        "colab": {
          "base_uri": "https://localhost:8080/",
          "height": 255
        },
        "id": "aTvGzQCfHSEX",
        "outputId": "60c230da-e5b5-4523-ba93-9fdbae6223ca"
      },
      "outputs": [
        {
          "output_type": "execute_result",
          "data": {
            "text/plain": [
              "<Figure size 1792.29x284.278 with 1 Axes>"
            ],
            "image/png": "[encoded data removed]"
          },
          "metadata": {},
          "execution_count": 7
        }
      ],
      "source": [
        "# import the quantum circuit, quantum register, and classical register\n",
        "# from the IBM's Qiskit library\n",
        "from qiskit import QuantumCircuit, QuantumRegister, ClassicalRegister\n",
        "\n",
        "# import the numpy library\n",
        "import numpy as np\n",
        "\n",
        "\n",
        "# define the function to generate the quantum circuit\n",
        "# for the Iterative Phase Estimation (IPE) of the T gate\n",
        "def t_gate_ipe_circuit( qr: QuantumRegister, cr: ClassicalRegister ) -> QuantumCircuit:\n",
        "\n",
        "    # notes:\n",
        "    # - qr is a quantum register with 2 qubits\n",
        "    # - cr is a classical register with 3 bits\n",
        "\n",
        "    # create a quantum circuit with the quantum register and with\n",
        "    # the classical register defined before, to implement\n",
        "    # the Iterative Phase Estimation (IPE) of the T gate\n",
        "    qc = QuantumCircuit(qr, cr)\n",
        "\n",
        "\n",
        "    ####### your code goes here #######\n",
        "\n",
        "    # apply the Hadamard gate to the 1st qubit (system's qubit)\n",
        "    qc.h(0)\n",
        "\n",
        "    # apply the Pauli-X gate to the 1st qubit (auxiliary qubit)\n",
        "    qc.x(1)\n",
        "\n",
        "\n",
        "    # apply the Controlled-Phase gate for the theta angle equal to pi,\n",
        "    # with control on the 1st qubit and target on the 2nd qubit\n",
        "    qc.cp( np.pi, 0, 1 )\n",
        "\n",
        "\n",
        "    # apply the Hadamard gate to the 1st qubit (system's qubit)\n",
        "    qc.h(0)\n",
        "\n",
        "\n",
        "    # measure the state of the 1st qubit (system's qubit),\n",
        "    # storing the classical outcome on the 1st bit of\n",
        "    # the classical register\n",
        "    qc.measure(0, 0)\n",
        "\n",
        "\n",
        "    # reset the state of the 1st qubit (system's qubit)\n",
        "    qc.reset(0)\n",
        "\n",
        "    # apply the Hadamard gate to the 1st qubit (system's qubit)\n",
        "    qc.h(0)\n",
        "\n",
        "\n",
        "    # if the 1st bit of the classical register of\n",
        "    # the dynamic quantum circuit has the classical state 1\n",
        "    with qc.if_test( ( cr[0], True ) ):\n",
        "\n",
        "        # apply the phase correction of -pi / 2 to\n",
        "        # the 1st qubit of the quantum register with a P gate\n",
        "        qc.p( -np.pi / 2, 0 )\n",
        "\n",
        "\n",
        "    # apply the Controlled-Phase gate for the theta angle equal to pi / 2,\n",
        "    # with control on the 1st qubit and target on the 2nd qubit\n",
        "    qc.cp( np.pi / 2, 0, 1 )\n",
        "\n",
        "\n",
        "    # apply the Hadamard gate to the 1st qubit (system's qubit)\n",
        "    qc.h(0)\n",
        "\n",
        "\n",
        "    # measure the state of the 1st qubit (system's qubit),\n",
        "    # storing the classical outcome on the 2nd bit of\n",
        "    # the classical register\n",
        "    qc.measure(0, 1)\n",
        "\n",
        "\n",
        "    # reset the state of the 1st qubit (system's qubit)\n",
        "    qc.reset(0)\n",
        "\n",
        "    # apply the Hadamard gate to the 1st qubit (system's qubit)\n",
        "    qc.h(0)\n",
        "\n",
        "\n",
        "    # if the 1st bit of the classical register of\n",
        "    # the dynamic quantum circuit has the classical state 1\n",
        "    with qc.if_test( ( cr[0], True ) ):\n",
        "\n",
        "        # apply the phase correction of -pi / 2 to\n",
        "        # the 1st qubit of the quantum register with a P gate\n",
        "        qc.p(-np.pi / 4, 0)\n",
        "\n",
        "\n",
        "    # apply the Controlled-Phase gate for the theta angle equal to pi / ,\n",
        "    # with control on the 1st qubit and target on the 2nd qubit\n",
        "    qc.cp( np.pi / 4, 0, 1 )\n",
        "\n",
        "\n",
        "    # apply the Hadamard gate to the 1st qubit (system's qubit)\n",
        "    qc.h(0)\n",
        "\n",
        "\n",
        "    # measure the state of the 1st qubit (system's qubit),\n",
        "    # storing the classical outcome on the 3rd bit of\n",
        "    # the classical register\n",
        "    qc.measure(0, 2)\n",
        "\n",
        "\n",
        "    # return the quantum circuit\n",
        "    # for the Iterative Phase Estimation (IPE) of the T gate\n",
        "    return qc\n",
        "\n",
        "\n",
        "# create the quantum register for the quantum circuit to\n",
        "# implement the Iterative Phase Estimation (IPE) of the T gate\n",
        "qr = QuantumRegister(2, \"q\")\n",
        "\n",
        "# create the classical register for the quantum circuit to\n",
        "# implement the Iterative Phase Estimation (IPE) of the T gate\n",
        "cr = ClassicalRegister(3, \"c\")\n",
        "\n",
        "\n",
        "# create the quantum circuit to implement\n",
        "# the Iterative Phase Estimation (IPE) of\n",
        "# the T gate, with the quantum register\n",
        "# and the classical register defined before\n",
        "qc = QuantumCircuit(qr, cr)\n",
        "\n",
        "\n",
        "# create the quantum circuit implementing\n",
        "# the Iterative Phase Estimation (IPE) of the T gate\n",
        "qc = t_gate_ipe_circuit(qr, cr)\n",
        "\n",
        "\n",
        "# draw the quantum circuit implementing\n",
        "# the Iterative Phase Estimation (IPE) of the T gate\n",
        "qc.draw(\"mpl\")"
      ]
    },
    {
      "cell_type": "code",
      "execution_count": 8,
      "metadata": {
        "colab": {
          "base_uri": "https://localhost:8080/"
        },
        "id": "9ghYgeV4HSEY",
        "outputId": "da6143c9-831d-40a5-8549-255d5b1ea425"
      },
      "outputs": [
        {
          "output_type": "execute_result",
          "data": {
            "text/plain": [
              "{'001': 1000}"
            ]
          },
          "metadata": {},
          "execution_count": 8
        }
      ],
      "source": [
        "# import the Aer Simulator from the IBM's Qiskit Aer module\n",
        "from qiskit_aer import AerSimulator\n",
        "\n",
        "\n",
        "# create an Aer Simulator object\n",
        "sim = AerSimulator()\n",
        "\n",
        "\n",
        "# create a job for the quantum circuit implementing\n",
        "# the IPE for the T gate, running the Aer Simulator\n",
        "job = sim.run(qc, shots=1000)\n",
        "\n",
        "\n",
        "# retrieve the result counts of the quantum simulation\n",
        "result = job.result()\n",
        "\n",
        "# retrieve the result counts of the quantum simulation\n",
        "counts = result.get_counts()\n",
        "\n",
        "\n",
        "# show the result counts of the quantum simulation\n",
        "counts"
      ]
    },
    {
      "cell_type": "markdown",
      "metadata": {
        "id": "z4wTxhMCHSEZ"
      },
      "source": [
        "### When the phase does not have an exact binary expansion\n",
        "\n",
        "Let's consider the case when the phase does not have an exact binary expansion, for example, $\\varphi = 1/3$.\n",
        "In this case, the single-qubit gate has the unitary\n",
        "\n",
        "$$ U =\n",
        "\\begin{pmatrix}\n",
        "1 & 0\\\\\n",
        "0 & e^{i2\\pi / 3}\n",
        "\\end{pmatrix}\n",
        "$$\n",
        "\n",
        "The angle $\\varphi = 1/3$ does not have an exact finite binary expansion. In contrast, it has the infinite binary expansion\n",
        "\n",
        "$$\n",
        "1/3 = 0.010101\\ldots\n",
        "$$\n",
        "\n",
        "In practice we work with a fixed number of bits of precision, so our goal is to obtain the closest value that can be represented with those bits. In the following example, we will use two bits of precision. In this case, the closest value is $0.01 = 1/4$. Because this value does not represent the exact phase, there is some probability that we will obtain a different, less precise result.\n",
        "\n",
        "In the following code cells, we construct and simulate an IPE circuit to measure the phase of this gate."
      ]
    },
    {
      "cell_type": "code",
      "execution_count": 9,
      "metadata": {
        "colab": {
          "base_uri": "https://localhost:8080/",
          "height": 255
        },
        "id": "b4-Yi9nsHSEZ",
        "outputId": "51876d53-322c-4630-d188-010712bda76a"
      },
      "outputs": [
        {
          "output_type": "execute_result",
          "data": {
            "text/plain": [
              "<Figure size 1207.02x284.278 with 1 Axes>"
            ],
            "image/png": "[encoded data removed]"
          },
          "metadata": {},
          "execution_count": 9
        }
      ],
      "source": [
        "# import the quantum circuit, quantum register, and classical register\n",
        "# from the IBM's Qiskit library\n",
        "from qiskit import QuantumCircuit, QuantumRegister, ClassicalRegister\n",
        "\n",
        "# import the numpy library\n",
        "import numpy as np\n",
        "\n",
        "\n",
        "# define the function to generate the quantum circuit\n",
        "# for the Iterative Phase Estimation (IPE) of an U gate\n",
        "def u_circuit(qr: QuantumRegister, cr: ClassicalRegister) -> QuantumCircuit:\n",
        "\n",
        "    # notes:\n",
        "    # - qr is a quantum register with 2 qubits\n",
        "    # - cr is a classical register with 2 bits\n",
        "\n",
        "    # create a quantum circuit with the quantum register and with\n",
        "    # the classical register defined before, to implement\n",
        "    # the Iterative Phase Estimation (IPE) of the U gate\n",
        "    qc = QuantumCircuit(qr, cr)\n",
        "\n",
        "    # retrieve the two qubits of the quantum register\n",
        "    q0, q1 = qr\n",
        "\n",
        "    # retrieve the two bits of the classical register\n",
        "    c0, c1 = cr\n",
        "\n",
        "\n",
        "    ####### your code goes here #######\n",
        "\n",
        "    # apply the Hadamard gate to the 1st qubit (system's qubit)\n",
        "    qc.h(q0)\n",
        "\n",
        "    # apply the Pauli-X gate to the 1st qubit (auxiliary qubit)\n",
        "    qc.x(q1)\n",
        "\n",
        "\n",
        "    # define the theta angle of the U gate as 2 * pi / 3\n",
        "    u_angle = 2 * np.pi / 3\n",
        "\n",
        "    # define the number of the current iteration for\n",
        "    # the Iterative Phase Estimation (IPE) of the U gate\n",
        "    k = 1\n",
        "\n",
        "\n",
        "    # define the theta angle of the Controlled-Phase gate,\n",
        "    # according to the current iteration of\n",
        "    # the Iterative Phase Estimation (IPE) of the U gate\n",
        "    cphase_angle = u_angle * 2**k\n",
        "\n",
        "\n",
        "    # apply the Controlled-Phase gate for the kth theta angle,\n",
        "    # with control on the 1st qubit and target on the 2nd qubit\n",
        "    qc.cp( cphase_angle, q0, q1 )\n",
        "\n",
        "\n",
        "    # apply the Hadamard gate to the 1st qubit (system's qubit)\n",
        "    qc.h(q0)\n",
        "\n",
        "\n",
        "    # measure the state of the 1st qubit (system's qubit),\n",
        "    # storing the classical outcome on the 1st bit of\n",
        "    # the classical register\n",
        "    qc.measure(q0, c0)\n",
        "\n",
        "\n",
        "    # reset the state of the 1st qubit (system's qubit)\n",
        "    qc.reset(q0)\n",
        "\n",
        "    # apply the Hadamard gate to the 1st qubit (system's qubit)\n",
        "    qc.h(q0)\n",
        "\n",
        "\n",
        "    # define the number of the current iteration for\n",
        "    # the Iterative Phase Estimation (IPE) of the U gate\n",
        "    k = 0\n",
        "\n",
        "    # define the theta angle of the Controlled-Phase gate,\n",
        "    # according to the current iteration of\n",
        "    # the Iterative Phase Estimation (IPE) of the U gate\n",
        "    cphase_angle = u_angle * 2**k\n",
        "\n",
        "\n",
        "    # if the 1st bit of the classical register of\n",
        "    # the dynamic quantum circuit has the classical state 1\n",
        "    with qc.if_test( ( cr[0], True ) ):\n",
        "\n",
        "        # apply the phase correction of the kth theta angle to\n",
        "        # the 1st qubit of the quantum register with a P gate\n",
        "        qc.p( -cphase_angle, q0 )\n",
        "\n",
        "\n",
        "    # apply the Controlled-Phase gate for the kth theta angle,\n",
        "    # with control on the 1st qubit and target on the 2nd qubit\n",
        "    qc.cp( cphase_angle, q0, q1 )\n",
        "\n",
        "\n",
        "    # apply the Hadamard gate to the 1st qubit (system's qubit)\n",
        "    qc.h(q0)\n",
        "\n",
        "\n",
        "    # measure the state of the 1st qubit (system's qubit),\n",
        "    # storing the classical outcome on the 2nd bit of\n",
        "    # the classical register\n",
        "    qc.measure(q0, c1)\n",
        "\n",
        "\n",
        "    # return the quantum circuit\n",
        "    # for the Iterative Phase Estimation (IPE) of an U gate\n",
        "    return qc\n",
        "\n",
        "\n",
        "\n",
        "# create the quantum register for the quantum circuit to\n",
        "# implement the Iterative Phase Estimation (IPE) of the U gate\n",
        "qr = QuantumRegister(2, \"q\")\n",
        "\n",
        "# create the classical register for the quantum circuit to\n",
        "# implement the Iterative Phase Estimation (IPE) of the U gate\n",
        "cr = ClassicalRegister(2, \"c\")\n",
        "\n",
        "\n",
        "# create the quantum circuit to implement\n",
        "# the Iterative Phase Estimation (IPE) of\n",
        "# the U gate, with the quantum register\n",
        "# and the classical register defined before\n",
        "qc = QuantumCircuit(qr, cr)\n",
        "\n",
        "\n",
        "# create the quantum circuit implementing\n",
        "# the Iterative Phase Estimation (IPE) of the U gate\n",
        "qc = u_circuit(qr, cr)\n",
        "\n",
        "\n",
        "# draw the quantum circuit implementing\n",
        "# the Iterative Phase Estimation (IPE) of the U gate\n",
        "qc.draw(\"mpl\")"
      ]
    },
    {
      "cell_type": "code",
      "execution_count": 10,
      "metadata": {
        "colab": {
          "base_uri": "https://localhost:8080/"
        },
        "id": "Zhi-DzFcHSEZ",
        "outputId": "f72f48e3-32ac-4b09-adc2-ec7f544f202e"
      },
      "outputs": [
        {
          "output_type": "stream",
          "name": "stdout",
          "text": [
            "{'01': 744, '00': 58, '10': 198}\n",
            "Success probability: 0.744\n"
          ]
        }
      ],
      "source": [
        "# import the Aer Simulator from the IBM's Qiskit Aer module\n",
        "from qiskit_aer import AerSimulator\n",
        "\n",
        "\n",
        "# create an Aer Simulator object\n",
        "sim = AerSimulator()\n",
        "\n",
        "\n",
        "# create a job for the quantum circuit implementing\n",
        "# the IPE for the U gate, running the Aer Simulator\n",
        "job = sim.run(qc, shots=1000)\n",
        "\n",
        "\n",
        "# retrieve the result counts of the quantum simulation\n",
        "result = job.result()\n",
        "\n",
        "# retrieve the result counts of the quantum simulation\n",
        "counts = result.get_counts()\n",
        "\n",
        "\n",
        "# print the result counts of the quantum simulation\n",
        "print(counts)\n",
        "\n",
        "\n",
        "# compute the success probability of the correct outcome\n",
        "success_probability = counts[\"01\"] / counts.shots()\n",
        "\n",
        "\n",
        "# print the success probability of the correct outcome\n",
        "print(f\"Success probability: {success_probability}\")"
      ]
    },
    {
      "cell_type": "markdown",
      "metadata": {
        "id": "63P1SDGMHSEa"
      },
      "source": [
        "As you can see, this time, we are not guaranteed to obtain the desired result. A natural question to ask is: How can we boost the success probability?\n",
        "\n",
        "One way that the algorithm fails is that the first measured bit is incorrect. In this case, the phase correction applied before measuring the second bit is also incorrect, causing the rest of the bits to be likely incorrect as well. A simple way to mitigate this problem is to repeat the measurement of the first few bits several times and take a majority vote to increase the likelihood that we measure the bit correctly. Implementing this procedure within a single circuit requires performing arithmetic on the measured outcomes. Due to a temporary limitation in IBM's Qiskit, it is currently not possible to perform arithmetic on measured bits and condition future circuit operations on the results. So, here we will measure each bit using separate circuits.\n",
        "\n",
        "The following code cells construct and simulate an IPE circuit for measuring just the first bit of the phase."
      ]
    },
    {
      "cell_type": "code",
      "execution_count": 11,
      "metadata": {
        "colab": {
          "base_uri": "https://localhost:8080/",
          "height": 255
        },
        "id": "xROQyrIZHSEa",
        "outputId": "5523e8b1-ee31-424b-9a2b-a75231e2a652"
      },
      "outputs": [
        {
          "output_type": "execute_result",
          "data": {
            "text/plain": [
              "<Figure size 538.128x284.278 with 1 Axes>"
            ],
            "image/png": "[encoded data removed]"
          },
          "metadata": {},
          "execution_count": 11
        }
      ],
      "source": [
        "# import the quantum circuit, quantum register, and classical register\n",
        "# from the IBM's Qiskit library\n",
        "from qiskit import QuantumCircuit, QuantumRegister, ClassicalRegister\n",
        "\n",
        "# import the numpy library\n",
        "import numpy as np\n",
        "\n",
        "\n",
        "# define the function to generate the quantum circuit\n",
        "# for the Iterative Phase Estimation (IPE) of an U gate\n",
        "def u_circuit(qr: QuantumRegister, cr: ClassicalRegister) -> QuantumCircuit:\n",
        "\n",
        "    # notes:\n",
        "    # - qr is a quantum register with 2 qubits\n",
        "    # - cr is a classical register with 1 bit\n",
        "\n",
        "    # create a quantum circuit with the quantum register and with\n",
        "    # the classical register defined before, to implement\n",
        "    # the Iterative Phase Estimation (IPE) of the U gate\n",
        "    qc = QuantumCircuit(qr, cr)\n",
        "\n",
        "    # retrieve the two qubits of the quantum register\n",
        "    q0, q1 = qr\n",
        "\n",
        "    # retrieve bit of the classical register\n",
        "    c0 = cr\n",
        "\n",
        "\n",
        "    ####### your code goes here #######\n",
        "\n",
        "    # apply the Hadamard gate to the 1st qubit (system's qubit)\n",
        "    qc.h(q0)\n",
        "\n",
        "    # apply the Pauli-X gate to the 1st qubit (auxiliary qubit)\n",
        "    qc.x(q1)\n",
        "\n",
        "\n",
        "    # define the theta angle of the U gate as 2 * pi / 3\n",
        "    u_angle = 2 * np.pi / 3\n",
        "\n",
        "    # define the number of the current iteration for\n",
        "    # the Iterative Phase Estimation (IPE) of the U gate\n",
        "    k = 1\n",
        "\n",
        "\n",
        "    # define the theta angle of the Controlled-Phase gate,\n",
        "    # according to the current iteration of\n",
        "    # the Iterative Phase Estimation (IPE) of the U gate\n",
        "    cphase_angle = u_angle * 2**k\n",
        "\n",
        "\n",
        "    # apply the Controlled-Phase gate for the kth theta angle,\n",
        "    # with control on the 1st qubit and target on the 2nd qubit\n",
        "    qc.cp( cphase_angle, q0, q1 )\n",
        "\n",
        "\n",
        "    # apply the Hadamard gate to the 1st qubit (system's qubit)\n",
        "    qc.h(q0)\n",
        "\n",
        "\n",
        "    # measure the state of the 1st qubit (system's qubit),\n",
        "    # storing the classical outcome on the 1st bit of\n",
        "    # the classical register\n",
        "    qc.measure(q0, c0)\n",
        "\n",
        "\n",
        "    # return the quantum circuit\n",
        "    # for the Iterative Phase Estimation (IPE) of an U gate\n",
        "    return qc\n",
        "\n",
        "\n",
        "# create the quantum register for the quantum circuit to\n",
        "# implement the Iterative Phase Estimation (IPE) of the U gate\n",
        "qr = QuantumRegister(2, \"q\")\n",
        "\n",
        "# create the classical register for the quantum circuit to\n",
        "# implement the Iterative Phase Estimation (IPE) of the U gate\n",
        "cr = ClassicalRegister(1, \"c\")\n",
        "\n",
        "\n",
        "# create the quantum circuit to implement\n",
        "# the Iterative Phase Estimation (IPE) of\n",
        "# the U gate, with the quantum register\n",
        "# and the classical register defined before\n",
        "qc = QuantumCircuit(qr, cr)\n",
        "\n",
        "\n",
        "# create the quantum circuit implementing\n",
        "# the Iterative Phase Estimation (IPE) of the U gate\n",
        "qc = u_circuit(qr, cr)\n",
        "\n",
        "\n",
        "# draw the quantum circuit implementing\n",
        "# the Iterative Phase Estimation (IPE) of the U gate\n",
        "qc.draw(\"mpl\")"
      ]
    },
    {
      "cell_type": "code",
      "execution_count": 12,
      "metadata": {
        "colab": {
          "base_uri": "https://localhost:8080/"
        },
        "id": "bxm2AyXBHSEa",
        "outputId": "810a783a-8618-427c-c5d8-d51141c9a418"
      },
      "outputs": [
        {
          "output_type": "stream",
          "name": "stdout",
          "text": [
            "{'0': 2, '1': 13}\n"
          ]
        }
      ],
      "source": [
        "# create a job for the quantum circuit implementing\n",
        "# the IPE for the U gate, running the Aer Simulator\n",
        "job = sim.run(qc, shots=15)\n",
        "\n",
        "\n",
        "# retrieve the result counts of the quantum simulation\n",
        "result = job.result()\n",
        "\n",
        "# retrieve the result counts of the quantum simulation\n",
        "counts = result.get_counts()\n",
        "\n",
        "\n",
        "# print the result counts of the quantum simulation\n",
        "print(counts)"
      ]
    },
    {
      "cell_type": "markdown",
      "metadata": {
        "id": "JbwIx7ahHSEb"
      },
      "source": [
        "Hopefully, the correct bit was measured more often than not."
      ]
    },
    {
      "cell_type": "markdown",
      "metadata": {
        "tags": [],
        "id": "uv2_nmfLHSEb"
      },
      "source": [
        "<div class=\"alert alert-block alert-success\"> Ex. 4 - Determine the value for the bit of the step 1 of the quantum circuit, i.e., ${\\varphi}_{1}$, for a Iterative Phase Estimation (IPE) of the phase $\\varphi = 1/3$. </div>"
      ]
    },
    {
      "cell_type": "markdown",
      "metadata": {
        "id": "XaRs9ZqpHSEb"
      },
      "source": [
        "### Exercise 4\n",
        "\n",
        "Examine the counts dictionary from the output of the last code cell. What is the correct value for the first bit? Was it measured more often than not? If not, rerun the last code cell until it is. Then, write some code in the code cell below that sets the variable `step1_bit` equal to the value of the bit that was measured the majority of the time."
      ]
    },
    {
      "cell_type": "code",
      "execution_count": 13,
      "metadata": {
        "colab": {
          "base_uri": "https://localhost:8080/"
        },
        "id": "feNI3N1dHSEc",
        "outputId": "e21995c4-4c8f-4265-d093-ce52e445ec77"
      },
      "outputs": [
        {
          "output_type": "stream",
          "name": "stdout",
          "text": [
            "1\n"
          ]
        }
      ],
      "source": [
        "# define the variable for\n",
        "# the bit resulting from the 1st step of\n",
        "# the Iterative Phase Estimation (IPE)\n",
        "step1_bit: int\n",
        "\n",
        "\n",
        "####### your code goes here #######\n",
        "\n",
        "# define the bit resulting from the 1st step of\n",
        "# the Iterative Phase Estimation (IPE)\n",
        "step1_bit = 1\n",
        "\n",
        "# print the bit resulting from the 1st step of\n",
        "# the Iterative Phase Estimation (IPE)\n",
        "print(step1_bit)"
      ]
    },
    {
      "cell_type": "markdown",
      "metadata": {
        "id": "H--icB92HSEc"
      },
      "source": [
        "<div class=\"alert alert-block alert-success\"> Ex. 5 - Build a quantum circuit to measure the bit of the step 2, i.e., ${\\varphi}_{2}$, for the Iterative Phase Estimation (IPE) of the phase $\\varphi = 1/3$. </div>"
      ]
    },
    {
      "cell_type": "markdown",
      "metadata": {
        "id": "OrALCRhNHSEc"
      },
      "source": [
        "### Exercise 5\n",
        "\n",
        "Now construct the circuit to measure the second bit of the phase. Replace the first stage of the circuit with one which simply sets the auxiliary bit to the value we measured above, so that we always measure the correct value for the first bit of the phase."
      ]
    },
    {
      "cell_type": "code",
      "execution_count": 15,
      "metadata": {
        "colab": {
          "base_uri": "https://localhost:8080/",
          "height": 255
        },
        "id": "03169aWwHSEd",
        "outputId": "042ddde7-4d64-4bb9-ad4c-9ebee4b3eff6"
      },
      "outputs": [
        {
          "output_type": "execute_result",
          "data": {
            "text/plain": [
              "<Figure size 621.739x284.278 with 1 Axes>"
            ],
            "image/png": "[encoded data removed]"
          },
          "metadata": {},
          "execution_count": 15
        }
      ],
      "source": [
        "# import the quantum circuit, quantum register, and classical register\n",
        "# from the IBM's Qiskit library\n",
        "from qiskit import QuantumCircuit, QuantumRegister, ClassicalRegister\n",
        "\n",
        "# import the numpy library\n",
        "import numpy as np\n",
        "\n",
        "\n",
        "# define the function to generate the quantum circuit\n",
        "# for the Iterative Phase Estimation (IPE) of an U gate,\n",
        "# based on the classical bit obtained from the 1st step\n",
        "def u_circuit(qr: QuantumRegister, cr: ClassicalRegister) -> QuantumCircuit:\n",
        "\n",
        "    # notes:\n",
        "    # - qr is a quantum register with 2 qubits\n",
        "    # - cr is a classical register with 1 bit\n",
        "\n",
        "    # create a quantum circuit with the quantum register and with\n",
        "    # the classical register defined before, to implement\n",
        "    # the Iterative Phase Estimation (IPE) of the U gate\n",
        "    qc = QuantumCircuit(qr, cr)\n",
        "\n",
        "    # retrieve the two qubits of the quantum register\n",
        "    q0, q1 = qr\n",
        "\n",
        "    # retrieve the two bit of the classical register\n",
        "    c0, c1 = cr\n",
        "\n",
        "\n",
        "    ####### your code goes here #######\n",
        "\n",
        "    # if the classical bit obtained from\n",
        "    # the 1st step is the classical state 1\n",
        "    with qc.if_test( ( step1_bit, True ) ):\n",
        "\n",
        "        # apply the Pauli-X gate to the 1st qubit (system's qubit)\n",
        "        qc.x(q0)\n",
        "\n",
        "\n",
        "    # apply the Pauli-X gate to the 2nd qubit (auxiliary qubit)\n",
        "    qc.x(q1)\n",
        "\n",
        "\n",
        "    # define the theta angle of the U gate as pi / 3\n",
        "    u_angle = np.pi / 3\n",
        "\n",
        "\n",
        "    # define the number of the current iteration for\n",
        "    # the Iterative Phase Estimation (IPE) of the U gate\n",
        "    k = 1\n",
        "\n",
        "\n",
        "    # define the theta angle of the Controlled-Phase gate,\n",
        "    # according to the current iteration of\n",
        "    # the Iterative Phase Estimation (IPE) of the U gate\n",
        "    cphase_angle = u_angle * 2**k\n",
        "\n",
        "\n",
        "    # apply the Controlled-Phase gate for the kth theta angle,\n",
        "    # with control on the 1st qubit and target on the 2nd qubit\n",
        "    qc.cp( cphase_angle, q0, q1 )\n",
        "\n",
        "\n",
        "    # measure the state of the 2nd qubit (auxiliary qubit),\n",
        "    # storing the classical outcome on the 1st bit of\n",
        "    # the classical register\n",
        "    qc.measure(q1, c0)\n",
        "\n",
        "\n",
        "    # return the quantum circuit\n",
        "    # for the Iterative Phase Estimation (IPE) of an U gate,\n",
        "    # based on the classical bit obtained from the 1st step\n",
        "    return qc\n",
        "\n",
        "\n",
        "# create the quantum register for the quantum circuit to\n",
        "# implement the Iterative Phase Estimation (IPE) of the U gate,\n",
        "# based on the classical bit obtained from the 1st step\n",
        "qr = QuantumRegister(2, \"q\")\n",
        "\n",
        "# create the classical register for the quantum circuit to\n",
        "# implement the Iterative Phase Estimation (IPE) of the U gate,\n",
        "# based on the classical bit obtained from the 1st step\n",
        "cr = ClassicalRegister(2, \"c\")\n",
        "\n",
        "\n",
        "# create the quantum circuit to implement\n",
        "# the Iterative Phase Estimation (IPE) of\n",
        "# the U gate, based on the classical bit\n",
        "# obtained from the 1st step,\n",
        "# with the quantum register and\n",
        "# the classical register defined before\n",
        "qc = QuantumCircuit(qr, cr)\n",
        "\n",
        "\n",
        "# create the quantum circuit implementing\n",
        "# the Iterative Phase Estimation (IPE) of the U gate,\n",
        "# based on the classical bit obtained from the 1st step\n",
        "qc = u_circuit(qr, cr)\n",
        "\n",
        "\n",
        "# draw the quantum circuit implementing\n",
        "# the Iterative Phase Estimation (IPE) of the U gate,\n",
        "# based on the classical bit obtained from the 1st step\n",
        "qc.draw(\"mpl\")"
      ]
    },
    {
      "cell_type": "code",
      "execution_count": 17,
      "metadata": {
        "colab": {
          "base_uri": "https://localhost:8080/"
        },
        "id": "e5M2LW75HSEd",
        "outputId": "87467957-693b-44fe-d000-7a614b6ade6d"
      },
      "outputs": [
        {
          "output_type": "stream",
          "name": "stdout",
          "text": [
            "{'01': 1000}\n",
            "Success probability: 1.0\n"
          ]
        }
      ],
      "source": [
        "# import the Aer Simulator from the IBM's Qiskit Aer module\n",
        "from qiskit_aer import AerSimulator\n",
        "\n",
        "\n",
        "# create an Aer Simulator object\n",
        "sim = AerSimulator()\n",
        "\n",
        "\n",
        "# create a job for the quantum circuit implementing\n",
        "# the IPE for the U gate, running the Aer Simulator\n",
        "job = sim.run(qc, shots=1000)\n",
        "\n",
        "\n",
        "# retrieve the result counts of the quantum simulation\n",
        "result = job.result()\n",
        "\n",
        "# retrieve the result counts of the quantum simulation\n",
        "counts = result.get_counts()\n",
        "\n",
        "\n",
        "# print the result counts of the quantum simulation\n",
        "print(counts)\n",
        "\n",
        "\n",
        "# compute the success probability of the correct outcome\n",
        "success_probability = counts[\"01\"] / counts.shots()\n",
        "\n",
        "\n",
        "# print the success probability of the correct outcome\n",
        "print(f\"Success probability: {success_probability}\")"
      ]
    },
    {
      "cell_type": "markdown",
      "metadata": {
        "id": "SFl7uYdcHSEd"
      },
      "source": [
        "Now, the success probability is much higher than before!"
      ]
    },
    {
      "cell_type": "markdown",
      "metadata": {
        "id": "ZGpWLNZYHSEd"
      },
      "source": [
        "<div class=\"alert alert-block alert-success\"> Ex. 6 (ungraded) - Build a quantum circuit for a general Iterative Phase Estimation (IPE). </div>"
      ]
    },
    {
      "cell_type": "markdown",
      "metadata": {
        "id": "uUjtts6SHSEe"
      },
      "source": [
        "### Exercise 6 (ungraded)\n",
        "\n",
        "So far, the IPE circuits we constructed were designed for a specific gate and a specific number of bits of precision. Let's now generalize your code to implement a general IPE routine that can handle different gates and levels of precision.\n",
        "\n",
        "Complete the following function to implement a generalized IPE routine. It takes the following inputs:\n",
        "- `qr`: The quantum register. The first qubit is assumed to be the auxiliary qubit, and the rest of them the system qubits.\n",
        "- `cr`: The classical register. Its length indicates the desired number of bits of precision.\n",
        "- `controlled_unitaries`: A list of gates implementing *controlled*-$U^{2^t}$ for $t = 0, \\ldots, m-1$, where $m$ is the number of bits of precision.\n",
        "- `state_prep`: A gate used to initialize the state of the system qubits."
      ]
    },
    {
      "cell_type": "markdown",
      "metadata": {
        "id": "U8Ev6oQFHSEe"
      },
      "source": [
        "Let's build the quantum circuit for a general Iterative Phase Estimation (IPE) routine."
      ]
    },
    {
      "cell_type": "code",
      "execution_count": 19,
      "metadata": {
        "id": "LPD7c-TtHSEe"
      },
      "outputs": [],
      "source": [
        "# import the Gate from the IBM's Qiskit Circuit module\n",
        "from qiskit.circuit import Gate\n",
        "\n",
        "\n",
        "# define the function to generate the dynamic quantum circuit\n",
        "# for a general Iterative Phase Estimation (IPE)\n",
        "def iterative_phase_estimation(\n",
        "    qr: QuantumRegister,\n",
        "    cr: ClassicalRegister,\n",
        "    controlled_unitaries: list[Gate],\n",
        "    state_prep: Gate, ) -> QuantumCircuit:\n",
        "    qc = QuantumCircuit(qr, cr)\n",
        "\n",
        "\n",
        "    ####### your code goes here #######\n",
        "\n",
        "    # retrieve the number of the Controlled-U gates\n",
        "    m = len( controlled_unitaries )\n",
        "\n",
        "\n",
        "    # create a copy of the list of the Controlled-U gates\n",
        "    controlled_unitaries_reversed = controlled_unitaries.copy()\n",
        "\n",
        "    # retrieve the reverse list of the Controlled-U gates\n",
        "    controlled_unitaries_reversed.reverse()\n",
        "\n",
        "\n",
        "    # apply the Hadamard gate to the 1st qubit (system's qubit)\n",
        "    qc.h(0)\n",
        "\n",
        "\n",
        "    # initialize the preparation of the state\n",
        "    # with the eigenstate |1>\n",
        "    qc.append( state_prep, [1] )\n",
        "\n",
        "\n",
        "    # apply the Controlled-U gate for t = (m - 1)\n",
        "    qc.append( controlled_unitaries_reversed[0], [0, 1] )\n",
        "\n",
        "\n",
        "    # apply the Hadamard gate to the 1st qubit (system's qubit)\n",
        "    qc.h(0)\n",
        "\n",
        "\n",
        "    # measure the state of the 1st qubit (system's qubit),\n",
        "    # storing the classical outcome on the 1st bit\n",
        "    qc.measure(0, 0)\n",
        "\n",
        "\n",
        "    # for the remaining (m - 1) iterations\n",
        "    for k in range(1, m):\n",
        "\n",
        "        # reset the state of the 1st qubit (system's qubit)\n",
        "        qc.reset(0)\n",
        "\n",
        "\n",
        "        # apply the Hadamard gate to the 1st qubit (system's qubit)\n",
        "        qc.h(0)\n",
        "\n",
        "\n",
        "        # if the 1st bit of the classical register of\n",
        "        # the dynamic quantum circuit has the classical state 1\n",
        "        with qc.if_test( ( cr[0], 1 ) ):\n",
        "\n",
        "            # apply the phase correction to the 1st qubit of\n",
        "            # the quantum register with a P gate\n",
        "            qc.p( -controlled_unitaries[ ( m - k - 1 ) ].params[0], 0 )\n",
        "\n",
        "\n",
        "        # apply the Controlled-U gate for t = (m - k)\n",
        "        qc.append( controlled_unitaries_reversed[k], [0, 1] )\n",
        "\n",
        "\n",
        "        # apply the Hadamard gate to the 1st qubit (system's qubit)\n",
        "        qc.h(0)\n",
        "\n",
        "\n",
        "        # measure the state of the 1st qubit (system's qubit),\n",
        "        # storing the classical outcome on the kth bit\n",
        "        qc.measure(0, k)\n",
        "\n",
        "\n",
        "    # return the dynamic quantum circuit\n",
        "    # for a general Iterative Phase Estimation (IPE)\n",
        "    return qc"
      ]
    },
    {
      "cell_type": "markdown",
      "metadata": {
        "id": "X7XgTraVHSEf"
      },
      "source": [
        "The example below shows how one would use this function to generate the IPE circuit for the $Z$ gate."
      ]
    },
    {
      "cell_type": "code",
      "execution_count": 20,
      "metadata": {
        "tags": [],
        "colab": {
          "base_uri": "https://localhost:8080/"
        },
        "id": "JYlEdi-BHSEf",
        "outputId": "048f227a-02cb-4d27-fe41-eaef7541b6a0"
      },
      "outputs": [
        {
          "output_type": "execute_result",
          "data": {
            "text/plain": [
              "{'1': 1000}"
            ]
          },
          "metadata": {},
          "execution_count": 20
        }
      ],
      "source": [
        "# import the Controlled-Phase and Pauli-X gates\n",
        "# from the IBM's Qiskit Circuit Library module\n",
        "from qiskit.circuit.library import CPhaseGate, XGate\n",
        "\n",
        "\n",
        "# create the quantum register with two qubits\n",
        "# for the quantum circuit to implement IPE on the Z gate\n",
        "qr = QuantumRegister(2, \"q\")\n",
        "\n",
        "# create the quantum register with three bits\n",
        "# for the quantum circuit to implement IPE on the Z gate\n",
        "cr = ClassicalRegister(1, \"c\")\n",
        "\n",
        "\n",
        "# define the theta angle for the Z gate\n",
        "z_angle = np.pi\n",
        "\n",
        "\n",
        "# create the list of Controlled-U/Controlled-Phases gates,\n",
        "# considering the theta angle for the Z gate\n",
        "controlled_unitaries = [ CPhaseGate( z_angle * 2**k ) for k in range(1) ]\n",
        "\n",
        "\n",
        "# generate the quantum circuit implementing\n",
        "# the IPE for the Z gate\n",
        "qc = iterative_phase_estimation( qr, cr, controlled_unitaries, XGate() )\n",
        "\n",
        "\n",
        "# draw the quantum circuit implementing\n",
        "# the IPE for the Z gate\n",
        "qc.draw(\"mpl\")\n",
        "\n",
        "\n",
        "# create an Aer Simulator object\n",
        "sim = AerSimulator()\n",
        "\n",
        "\n",
        "# create a job for the quantum circuit implementing\n",
        "# the IPE for the Z gate, running the Aer Simulator\n",
        "job = sim.run(qc, shots=1000)\n",
        "\n",
        "\n",
        "# retrieve the result counts of the quantum simulation\n",
        "result = job.result()\n",
        "\n",
        "# retrieve the result counts of the quantum simulation\n",
        "counts = result.get_counts()\n",
        "\n",
        "\n",
        "# show the result counts of the quantum simulation\n",
        "counts"
      ]
    },
    {
      "cell_type": "markdown",
      "metadata": {
        "id": "90z_Ld1XHSEg"
      },
      "source": [
        "The example below shows how one would use this function to generate the IPE circuit for the $S$ gate. The simulation results should match what you got above."
      ]
    },
    {
      "cell_type": "code",
      "execution_count": 21,
      "metadata": {
        "colab": {
          "base_uri": "https://localhost:8080/"
        },
        "id": "WR96k8HeHSEg",
        "outputId": "539772a7-8c9e-4137-ee99-1de515300349"
      },
      "outputs": [
        {
          "output_type": "execute_result",
          "data": {
            "text/plain": [
              "{'01': 1000}"
            ]
          },
          "metadata": {},
          "execution_count": 21
        }
      ],
      "source": [
        "# import the Controlled-Phase and Pauli-X gates\n",
        "# from the IBM's Qiskit Circuit Library module\n",
        "from qiskit.circuit.library import CPhaseGate, XGate\n",
        "\n",
        "\n",
        "# create the quantum register with two qubits\n",
        "# for the quantum circuit to implement IPE on the S gate\n",
        "qr = QuantumRegister(2, \"q\")\n",
        "\n",
        "# create the quantum register with three bits\n",
        "# for the quantum circuit to implement IPE on the S gate\n",
        "cr = ClassicalRegister(2, \"c\")\n",
        "\n",
        "\n",
        "# define the theta angle for the S gate\n",
        "s_angle = np.pi / 2\n",
        "\n",
        "\n",
        "# create the list of Controlled-U/Controlled-Phase gates,\n",
        "# considering the theta angle for the S gate\n",
        "controlled_unitaries = [ CPhaseGate( s_angle * 2**k ) for k in range(2) ]\n",
        "\n",
        "\n",
        "# generate the quantum circuit implementing\n",
        "# the IPE for the S gate\n",
        "qc = iterative_phase_estimation( qr, cr, controlled_unitaries, XGate() )\n",
        "\n",
        "\n",
        "# draw the quantum circuit implementing\n",
        "# the IPE for the S gate\n",
        "qc.draw(\"mpl\")\n",
        "\n",
        "\n",
        "# create an Aer Simulator object\n",
        "sim = AerSimulator()\n",
        "\n",
        "\n",
        "# create a job for the quantum circuit implementing\n",
        "# the IPE for the S gate, running the Aer Simulator\n",
        "job = sim.run(qc, shots=1000)\n",
        "\n",
        "\n",
        "# retrieve the result counts of the quantum simulation\n",
        "result = job.result()\n",
        "\n",
        "# retrieve the result counts of the quantum simulation\n",
        "counts = result.get_counts()\n",
        "\n",
        "\n",
        "# show the result counts of the quantum simulation\n",
        "counts"
      ]
    },
    {
      "cell_type": "markdown",
      "metadata": {
        "id": "N_F1hI9GHSEg"
      },
      "source": [
        "The example below shows how one would use this function to generate the IPE circuit for the $T$ gate. The simulation results should match what you got above."
      ]
    },
    {
      "cell_type": "code",
      "execution_count": 22,
      "metadata": {
        "tags": [],
        "colab": {
          "base_uri": "https://localhost:8080/"
        },
        "id": "Hl-pXZnmHSEg",
        "outputId": "9527f763-bd6d-4eb9-e3a0-e04b1eca0efa"
      },
      "outputs": [
        {
          "output_type": "execute_result",
          "data": {
            "text/plain": [
              "{'001': 1000}"
            ]
          },
          "metadata": {},
          "execution_count": 22
        }
      ],
      "source": [
        "# import the Controlled-Phase and Pauli-X gates\n",
        "# from the IBM's Qiskit Circuit Library module\n",
        "from qiskit.circuit.library import CPhaseGate, XGate\n",
        "\n",
        "\n",
        "# create the quantum register with two qubits\n",
        "# for the quantum circuit to implement IPE on the T gate\n",
        "qr = QuantumRegister(2, \"q\")\n",
        "\n",
        "# create the quantum register with three bits\n",
        "# for the quantum circuit to implement IPE on the T gate\n",
        "cr = ClassicalRegister(3, \"c\")\n",
        "\n",
        "\n",
        "# define the theta angle for the T gate\n",
        "t_angle = np.pi / 4\n",
        "\n",
        "\n",
        "# create the list of Controlled-U/Controlled-Phase gates,\n",
        "# considering the theta angle for the T gate\n",
        "controlled_unitaries = [ CPhaseGate( t_angle * 2**k ) for k in range(3) ]\n",
        "\n",
        "\n",
        "# generate the quantum circuit implementing\n",
        "# the IPE for the T gate\n",
        "qc = iterative_phase_estimation( qr, cr, controlled_unitaries, XGate() )\n",
        "\n",
        "\n",
        "# draw the quantum circuit implementing\n",
        "# the IPE for the T gate\n",
        "qc.draw(\"mpl\")\n",
        "\n",
        "\n",
        "# create an Aer Simulator object\n",
        "sim = AerSimulator()\n",
        "\n",
        "\n",
        "# create a job for the quantum circuit implementing\n",
        "# the IPE for the T gate, running the Aer Simulator\n",
        "job = sim.run(qc, shots=1000)\n",
        "\n",
        "\n",
        "# retrieve the result counts of the quantum simulation\n",
        "result = job.result()\n",
        "\n",
        "# retrieve the result counts of the quantum simulation\n",
        "counts = result.get_counts()\n",
        "\n",
        "\n",
        "# show the result counts of the quantum simulation\n",
        "counts"
      ]
    },
    {
      "cell_type": "markdown",
      "metadata": {
        "id": "mnHbkfgxHSEh"
      },
      "source": [
        "## Run on hardware\n",
        "\n",
        "In the final part of this lab, we will run some circuits on real hardware! The code cells below initialize and run the circuit you created in Exercise 2 to measure the phase of the $S$ gate. Because current quantum hardware suffers from noise, the results will not be as good as what you got on the simulator. Feel free to try running the other circuits you created in this lab, though be aware that larger circuits, like the one from Exercise 3 for measuring the phase of the $T$ gate, will suffer from even more noise."
      ]
    },
    {
      "cell_type": "code",
      "execution_count": null,
      "metadata": {
        "id": "XYnaojT-HSEh"
      },
      "outputs": [],
      "source": [
        "# import the IBMps Provider from Qiskit IBM Provider module\n",
        "from qiskit_ibm_provider import IBMProvider\n",
        "\n",
        "# create an IBM's Provider object\n",
        "provider = IBMProvider()"
      ]
    },
    {
      "cell_type": "code",
      "execution_count": null,
      "metadata": {
        "id": "NrT3luVoHSEh"
      },
      "outputs": [],
      "source": [
        "# define the hub for the IBM's Provider\n",
        "hub = \"summer-school-6\"\n",
        "\n",
        "# define the group for the IBM's Provider\n",
        "group = \"group-3\"\n",
        "\n",
        "# define the project for the IBM's Provider\n",
        "project = \"7048813929\"\n",
        "\n",
        "\n",
        "# define the backend's name for the IBM's Provider\n",
        "backend_name = \"ibmq_manila\"\n",
        "\n",
        "\n",
        "# retrieve the backend from the IBM's Provider\n",
        "backend = provider.get_backend( backend_name, instance=f\"{hub}/{group}/{project}\" )"
      ]
    },
    {
      "cell_type": "code",
      "execution_count": null,
      "metadata": {
        "id": "Cn4aFCXcHSEh",
        "outputId": "4a26efc6-2bd6-422d-aa25-eeebe2ada142"
      },
      "outputs": [
        {
          "data": {
            "image/png": "[encoded data removed]",
            "text/plain": [
              "<Figure size 2255.74x618.722 with 1 Axes>"
            ]
          },
          "execution_count": 24,
          "metadata": {},
          "output_type": "execute_result"
        }
      ],
      "source": [
        "# import the transpile feature\n",
        "# from the IBM's Qiskit library\n",
        "from qiskit import transpile\n",
        "\n",
        "\n",
        "# create the quantum register with two qubits\n",
        "# for the quantum circuit to implement IPE on the S gate\n",
        "qr = QuantumRegister(2, \"q\")\n",
        "\n",
        "# create a classical register with two bits\n",
        "# for the quantum circuit to implement IPE on the S gate\n",
        "cr = ClassicalRegister(2, \"c\")\n",
        "\n",
        "\n",
        "# create the quantum circuit with\n",
        "# the quantum and classical registers\n",
        "# defined before to implement IPE on the S gate\n",
        "qc = QuantumCircuit(qr, cr)\n",
        "\n",
        "\n",
        "# perform the 2nd step of the IPE on the S gate to\n",
        "# the quantum circuit created before\n",
        "qc = step_2_circuit(qr, cr)\n",
        "\n",
        "# create the transpiled quantum circuit\n",
        "# to implement IPE on the S gate\n",
        "qc_transpiled = transpile(qc, backend)\n",
        "\n",
        "\n",
        "# draw the quantum circuit implementing\n",
        "# an IPE on the S gate\n",
        "qc_transpiled.draw(\"mpl\")"
      ]
    },
    {
      "cell_type": "code",
      "execution_count": null,
      "metadata": {
        "id": "dqcUQBSSHSEh"
      },
      "outputs": [],
      "source": [
        "# OPTIONAL: run the job of the IPE for the S gate\n",
        "\n",
        "# run the transpiled dynamic quantum circuit of\n",
        "# the IPE for the S gate\n",
        "#job = backend.run(qc_transpiled, shots=1000, dynamic=True)\n",
        "\n",
        "# retrieve the id of the job of the quantum simulation\n",
        "# for the IPE for the S gate\n",
        "#job_id = job.job_id()\n",
        "\n",
        "# print the id of the job of the quantum simulation\n",
        "# for the IPE for the S gate\n",
        "#print(job_id)"
      ]
    },
    {
      "cell_type": "code",
      "execution_count": null,
      "metadata": {
        "id": "KVCPMVuRHSEh"
      },
      "outputs": [],
      "source": [
        "# OPTIONAL: retrieve and show the job's status of the IPE for the S gate\n",
        "\n",
        "# retrieve the job of the quantum simulation\n",
        "# for the IPE for the S gate\n",
        "#retrieve_job = provider.retrieve_job(job_id)\n",
        "\n",
        "# show the job's status of the quantum simulation\n",
        "# for the IPE for the S gate\n",
        "#retrieve_job.status()"
      ]
    },
    {
      "cell_type": "code",
      "execution_count": null,
      "metadata": {
        "id": "S_KGliwqHSEh"
      },
      "outputs": [],
      "source": [
        "# OPTIONAL: plot the histogram of the results of the IPE for the S gate\n",
        "\n",
        "# import the plot histogram from\n",
        "# the IBM's Qiskit Tools' Visualization module\n",
        "#from qiskit.tools.visualization import plot_histogram\n",
        "\n",
        "# retrieve the counts of the results of the job\n",
        "# for the quantum simulation for the IPE for the S gate\n",
        "#counts = retrieve_job.result().get_counts()\n",
        "\n",
        "# plot the historgram of the count results of\n",
        "# the quantum simulation for the IPE for the S gate\n",
        "#plot_histogram(counts)"
      ]
    },
    {
      "cell_type": "code",
      "execution_count": 29,
      "metadata": {
        "tags": [],
        "colab": {
          "base_uri": "https://localhost:8080/",
          "height": 526
        },
        "id": "paQHTH84HSEi",
        "outputId": "21efffb5-af7d-4342-8dd4-b24d609bd47c"
      },
      "outputs": [
        {
          "output_type": "error",
          "ename": "ImportError",
          "evalue": "cannot import name 'FakeBackend' from 'qiskit.providers.fake_provider' (unknown location)",
          "traceback": [
            "\u001b[0;31m---------------------------------------------------------------------------\u001b[0m",
            "\u001b[0;31mImportError\u001b[0m                               Traceback (most recent call last)",
            "\u001b[0;32m<ipython-input-29-757718367489>\u001b[0m in \u001b[0;36m<cell line: 2>\u001b[0;34m()\u001b[0m\n\u001b[1;32m      1\u001b[0m \u001b[0;31m# import the IBM's Qiskit Jupyter Tools\u001b[0m\u001b[0;34m\u001b[0m\u001b[0;34m\u001b[0m\u001b[0m\n\u001b[0;32m----> 2\u001b[0;31m \u001b[0;32mimport\u001b[0m \u001b[0mqiskit\u001b[0m\u001b[0;34m.\u001b[0m\u001b[0mtools\u001b[0m\u001b[0;34m.\u001b[0m\u001b[0mjupyter\u001b[0m\u001b[0;34m\u001b[0m\u001b[0;34m\u001b[0m\u001b[0m\n\u001b[0m\u001b[1;32m      3\u001b[0m \u001b[0;34m\u001b[0m\u001b[0m\n\u001b[1;32m      4\u001b[0m \u001b[0;31m# show the table of the IBM's Qiskit version\u001b[0m\u001b[0;34m\u001b[0m\u001b[0;34m\u001b[0m\u001b[0m\n\u001b[1;32m      5\u001b[0m \u001b[0mget_ipython\u001b[0m\u001b[0;34m(\u001b[0m\u001b[0;34m)\u001b[0m\u001b[0;34m.\u001b[0m\u001b[0mrun_line_magic\u001b[0m\u001b[0;34m(\u001b[0m\u001b[0;34m'qiskit_version_table'\u001b[0m\u001b[0;34m,\u001b[0m \u001b[0;34m''\u001b[0m\u001b[0;34m)\u001b[0m\u001b[0;34m\u001b[0m\u001b[0;34m\u001b[0m\u001b[0m\n",
            "\u001b[0;32m/usr/local/lib/python3.10/dist-packages/qiskit/tools/jupyter/__init__.py\u001b[0m in \u001b[0;36m<module>\u001b[0;34m\u001b[0m\n\u001b[1;32m    101\u001b[0m \u001b[0;34m\u001b[0m\u001b[0m\n\u001b[1;32m    102\u001b[0m \u001b[0;32mfrom\u001b[0m \u001b[0mIPython\u001b[0m \u001b[0;32mimport\u001b[0m \u001b[0mget_ipython\u001b[0m\u001b[0;34m\u001b[0m\u001b[0;34m\u001b[0m\u001b[0m\n\u001b[0;32m--> 103\u001b[0;31m \u001b[0;32mfrom\u001b[0m \u001b[0mqiskit\u001b[0m\u001b[0;34m.\u001b[0m\u001b[0mproviders\u001b[0m\u001b[0;34m.\u001b[0m\u001b[0mfake_provider\u001b[0m \u001b[0;32mimport\u001b[0m \u001b[0mFakeBackend\u001b[0m\u001b[0;34m\u001b[0m\u001b[0;34m\u001b[0m\u001b[0m\n\u001b[0m\u001b[1;32m    104\u001b[0m \u001b[0;32mfrom\u001b[0m \u001b[0mqiskit\u001b[0m\u001b[0;34m.\u001b[0m\u001b[0mutils\u001b[0m \u001b[0;32mimport\u001b[0m \u001b[0moptionals\u001b[0m \u001b[0;32mas\u001b[0m \u001b[0m_optionals\u001b[0m\u001b[0;34m\u001b[0m\u001b[0;34m\u001b[0m\u001b[0m\n\u001b[1;32m    105\u001b[0m \u001b[0;32mfrom\u001b[0m \u001b[0;34m.\u001b[0m\u001b[0mjupyter_magics\u001b[0m \u001b[0;32mimport\u001b[0m \u001b[0mProgressBarMagic\u001b[0m\u001b[0;34m,\u001b[0m \u001b[0mStatusMagic\u001b[0m\u001b[0;34m\u001b[0m\u001b[0;34m\u001b[0m\u001b[0m\n",
            "\u001b[0;31mImportError\u001b[0m: cannot import name 'FakeBackend' from 'qiskit.providers.fake_provider' (unknown location)",
            "",
            "\u001b[0;31m---------------------------------------------------------------------------\u001b[0;32m\nNOTE: If your import is failing due to a missing package, you can\nmanually install dependencies using either !pip or !apt.\n\nTo view examples of installing some common dependencies, click the\n\"Open Examples\" button below.\n\u001b[0;31m---------------------------------------------------------------------------\u001b[0m\n"
          ],
          "errorDetails": {
            "actions": [
              {
                "action": "open_url",
                "actionText": "Open Examples",
                "url": "/notebooks/snippets/importing_libraries.ipynb"
              }
            ]
          }
        }
      ],
      "source": [
        "# import the IBM's Qiskit Jupyter Tools\n",
        "import qiskit.tools.jupyter\n",
        "\n",
        "# show the table of the IBM's Qiskit version\n",
        "%qiskit_version_table"
      ]
    },
    {
      "cell_type": "markdown",
      "metadata": {
        "tags": [],
        "id": "TgsleCQmHSEi"
      },
      "source": [
        "Congratulations! You've completed Lab 4 of the Global Summer School!! 🎉"
      ]
    },
    {
      "cell_type": "markdown",
      "metadata": {
        "id": "FVNygo_wHSEi"
      },
      "source": [
        "Made with ❤ by Rúben André Barreiro (and adapted from IBM Quantum)."
      ]
    }
  ],
  "metadata": {
    "kernelspec": {
      "display_name": "Python 3 (ipykernel)",
      "language": "python",
      "name": "python3"
    },
    "language_info": {
      "codemirror_mode": {
        "name": "ipython",
        "version": 3
      },
      "file_extension": ".py",
      "mimetype": "text/x-python",
      "name": "python",
      "nbconvert_exporter": "python",
      "pygments_lexer": "ipython3",
      "version": "3.10.8"
    },
    "vscode": {
      "interpreter": {
        "hash": "c2040b9df22fb8e6f552d9b589c97ff536ffe03a0da1ea2949f78b5a0e303bb6"
      }
    },
    "colab": {
      "provenance": [],
      "include_colab_link": true
    }
  },
  "nbformat": 4,
  "nbformat_minor": 0
}