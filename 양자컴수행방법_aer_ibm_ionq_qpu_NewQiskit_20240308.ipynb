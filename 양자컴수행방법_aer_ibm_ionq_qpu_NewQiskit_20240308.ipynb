{
  "nbformat": 4,
  "nbformat_minor": 0,
  "metadata": {
    "colab": {
      "provenance": [],
      "authorship_tag": "ABX9TyPyH/ySdACUvfuIzp/OcZqF",
      "include_colab_link": true
    },
    "kernelspec": {
      "name": "python3",
      "display_name": "Python 3"
    },
    "language_info": {
      "name": "python"
    }
  },
  "cells": [
    {
      "cell_type": "markdown",
      "metadata": {
        "id": "view-in-github",
        "colab_type": "text"
      },
      "source": [
        "<a href=\"https://colab.research.google.com/github/mkbahk/QuantumComputing/blob/main/%EC%96%91%EC%9E%90%EC%BB%B4%EC%88%98%ED%96%89%EB%B0%A9%EB%B2%95_aer_ibm_ionq_qpu_NewQiskit_20240308.ipynb\" target=\"_parent\"><img src=\"https://colab.research.google.com/assets/colab-badge.svg\" alt=\"Open In Colab\"/></a>"
      ]
    },
    {
      "cell_type": "code",
      "source": [
        "######################################################\n",
        "# Code의 목적: Quantum Computer접속 및 Job 제출방법(기본), Qiskit Version Up으로 제작성 및 최적화\n",
        "# 작성자: 박문기(mkbahk@gmail.com)\n",
        "# 최초작성일: 20230926\n",
        "# 마지막수정일: 20240619\n",
        "# 수정사유: Qiskit 1.0.2 Update 반영 및 Demo Vesion Fix\n",
        "######################################################"
      ],
      "metadata": {
        "id": "El5tB9AOlXeu"
      },
      "execution_count": 9,
      "outputs": []
    },
    {
      "cell_type": "code",
      "execution_count": 11,
      "metadata": {
        "id": "j4qPRKk26Lwm",
        "colab": {
          "base_uri": "https://localhost:8080/"
        },
        "outputId": "cbf253c6-7c29-4aca-e562-4f043b1ac2cb"
      },
      "outputs": [
        {
          "output_type": "stream",
          "name": "stdout",
          "text": [
            "Requirement already satisfied: qiskit[visualization]==1.0.2 in /usr/local/lib/python3.10/dist-packages (1.0.2)\n",
            "Requirement already satisfied: rustworkx>=0.14.0 in /usr/local/lib/python3.10/dist-packages (from qiskit[visualization]==1.0.2) (0.14.2)\n",
            "Requirement already satisfied: numpy<2,>=1.17 in /usr/local/lib/python3.10/dist-packages (from qiskit[visualization]==1.0.2) (1.25.2)\n",
            "Requirement already satisfied: scipy>=1.5 in /usr/local/lib/python3.10/dist-packages (from qiskit[visualization]==1.0.2) (1.11.4)\n",
            "Requirement already satisfied: sympy>=1.3 in /usr/local/lib/python3.10/dist-packages (from qiskit[visualization]==1.0.2) (1.12.1)\n",
            "Requirement already satisfied: dill>=0.3 in /usr/local/lib/python3.10/dist-packages (from qiskit[visualization]==1.0.2) (0.3.8)\n",
            "Requirement already satisfied: python-dateutil>=2.8.0 in /usr/local/lib/python3.10/dist-packages (from qiskit[visualization]==1.0.2) (2.8.2)\n",
            "Requirement already satisfied: stevedore>=3.0.0 in /usr/local/lib/python3.10/dist-packages (from qiskit[visualization]==1.0.2) (5.2.0)\n",
            "Requirement already satisfied: typing-extensions in /usr/local/lib/python3.10/dist-packages (from qiskit[visualization]==1.0.2) (4.12.2)\n",
            "Requirement already satisfied: symengine>=0.11 in /usr/local/lib/python3.10/dist-packages (from qiskit[visualization]==1.0.2) (0.11.0)\n",
            "Requirement already satisfied: matplotlib>=3.3 in /usr/local/lib/python3.10/dist-packages (from qiskit[visualization]==1.0.2) (3.7.1)\n",
            "Requirement already satisfied: pydot in /usr/local/lib/python3.10/dist-packages (from qiskit[visualization]==1.0.2) (1.4.2)\n",
            "Requirement already satisfied: Pillow>=4.2.1 in /usr/local/lib/python3.10/dist-packages (from qiskit[visualization]==1.0.2) (9.4.0)\n",
            "Collecting pylatexenc>=1.4 (from qiskit[visualization]==1.0.2)\n",
            "  Downloading pylatexenc-2.10.tar.gz (162 kB)\n",
            "\u001b[2K     \u001b[90m━━━━━━━━━━━━━━━━━━━━━━━━━━━━━━━━━━━━━━━━\u001b[0m \u001b[32m162.6/162.6 kB\u001b[0m \u001b[31m3.2 MB/s\u001b[0m eta \u001b[36m0:00:00\u001b[0m\n",
            "\u001b[?25h  Preparing metadata (setup.py) ... \u001b[?25l\u001b[?25hdone\n",
            "Requirement already satisfied: seaborn>=0.9.0 in /usr/local/lib/python3.10/dist-packages (from qiskit[visualization]==1.0.2) (0.13.1)\n",
            "Requirement already satisfied: contourpy>=1.0.1 in /usr/local/lib/python3.10/dist-packages (from matplotlib>=3.3->qiskit[visualization]==1.0.2) (1.2.1)\n",
            "Requirement already satisfied: cycler>=0.10 in /usr/local/lib/python3.10/dist-packages (from matplotlib>=3.3->qiskit[visualization]==1.0.2) (0.12.1)\n",
            "Requirement already satisfied: fonttools>=4.22.0 in /usr/local/lib/python3.10/dist-packages (from matplotlib>=3.3->qiskit[visualization]==1.0.2) (4.53.0)\n",
            "Requirement already satisfied: kiwisolver>=1.0.1 in /usr/local/lib/python3.10/dist-packages (from matplotlib>=3.3->qiskit[visualization]==1.0.2) (1.4.5)\n",
            "Requirement already satisfied: packaging>=20.0 in /usr/local/lib/python3.10/dist-packages (from matplotlib>=3.3->qiskit[visualization]==1.0.2) (24.1)\n",
            "Requirement already satisfied: pyparsing>=2.3.1 in /usr/local/lib/python3.10/dist-packages (from matplotlib>=3.3->qiskit[visualization]==1.0.2) (3.1.2)\n",
            "Requirement already satisfied: six>=1.5 in /usr/local/lib/python3.10/dist-packages (from python-dateutil>=2.8.0->qiskit[visualization]==1.0.2) (1.16.0)\n",
            "Requirement already satisfied: pandas>=1.2 in /usr/local/lib/python3.10/dist-packages (from seaborn>=0.9.0->qiskit[visualization]==1.0.2) (2.0.3)\n",
            "Requirement already satisfied: pbr!=2.1.0,>=2.0.0 in /usr/local/lib/python3.10/dist-packages (from stevedore>=3.0.0->qiskit[visualization]==1.0.2) (6.0.0)\n",
            "Requirement already satisfied: mpmath<1.4.0,>=1.1.0 in /usr/local/lib/python3.10/dist-packages (from sympy>=1.3->qiskit[visualization]==1.0.2) (1.3.0)\n",
            "Requirement already satisfied: pytz>=2020.1 in /usr/local/lib/python3.10/dist-packages (from pandas>=1.2->seaborn>=0.9.0->qiskit[visualization]==1.0.2) (2023.4)\n",
            "Requirement already satisfied: tzdata>=2022.1 in /usr/local/lib/python3.10/dist-packages (from pandas>=1.2->seaborn>=0.9.0->qiskit[visualization]==1.0.2) (2024.1)\n",
            "Building wheels for collected packages: pylatexenc\n",
            "  Building wheel for pylatexenc (setup.py) ... \u001b[?25l\u001b[?25hdone\n",
            "  Created wheel for pylatexenc: filename=pylatexenc-2.10-py3-none-any.whl size=136816 sha256=aa81ef1741f3fcb2b45a1e99abb36475df9325d203571fe4e90fede39186f660\n",
            "  Stored in directory: /root/.cache/pip/wheels/d3/31/8b/e09b0386afd80cfc556c00408c9aeea5c35c4d484a9c762fd5\n",
            "Successfully built pylatexenc\n",
            "Installing collected packages: pylatexenc\n",
            "Successfully installed pylatexenc-2.10\n",
            "Requirement already satisfied: qiskit-ionq==0.5.2 in /usr/local/lib/python3.10/dist-packages (0.5.2)\n",
            "Requirement already satisfied: decorator>=5.1.0 in /usr/local/lib/python3.10/dist-packages (from qiskit-ionq==0.5.2) (5.1.1)\n",
            "Requirement already satisfied: requests>=2.24.0 in /usr/local/lib/python3.10/dist-packages (from qiskit-ionq==0.5.2) (2.31.0)\n",
            "Requirement already satisfied: retry>=0.9.0 in /usr/local/lib/python3.10/dist-packages (from qiskit-ionq==0.5.2) (0.9.2)\n",
            "Requirement already satisfied: importlib-metadata>=4.11.4 in /usr/local/lib/python3.10/dist-packages (from qiskit-ionq==0.5.2) (7.1.0)\n",
            "Requirement already satisfied: python-dotenv>=1.0.1 in /usr/local/lib/python3.10/dist-packages (from qiskit-ionq==0.5.2) (1.0.1)\n",
            "Requirement already satisfied: qiskit<1.1.0,>=0.46.0 in /usr/local/lib/python3.10/dist-packages (from qiskit-ionq==0.5.2) (1.0.2)\n",
            "Requirement already satisfied: zipp>=0.5 in /usr/local/lib/python3.10/dist-packages (from importlib-metadata>=4.11.4->qiskit-ionq==0.5.2) (3.19.2)\n",
            "Requirement already satisfied: rustworkx>=0.14.0 in /usr/local/lib/python3.10/dist-packages (from qiskit<1.1.0,>=0.46.0->qiskit-ionq==0.5.2) (0.14.2)\n",
            "Requirement already satisfied: numpy<2,>=1.17 in /usr/local/lib/python3.10/dist-packages (from qiskit<1.1.0,>=0.46.0->qiskit-ionq==0.5.2) (1.25.2)\n",
            "Requirement already satisfied: scipy>=1.5 in /usr/local/lib/python3.10/dist-packages (from qiskit<1.1.0,>=0.46.0->qiskit-ionq==0.5.2) (1.11.4)\n",
            "Requirement already satisfied: sympy>=1.3 in /usr/local/lib/python3.10/dist-packages (from qiskit<1.1.0,>=0.46.0->qiskit-ionq==0.5.2) (1.12.1)\n",
            "Requirement already satisfied: dill>=0.3 in /usr/local/lib/python3.10/dist-packages (from qiskit<1.1.0,>=0.46.0->qiskit-ionq==0.5.2) (0.3.8)\n",
            "Requirement already satisfied: python-dateutil>=2.8.0 in /usr/local/lib/python3.10/dist-packages (from qiskit<1.1.0,>=0.46.0->qiskit-ionq==0.5.2) (2.8.2)\n",
            "Requirement already satisfied: stevedore>=3.0.0 in /usr/local/lib/python3.10/dist-packages (from qiskit<1.1.0,>=0.46.0->qiskit-ionq==0.5.2) (5.2.0)\n",
            "Requirement already satisfied: typing-extensions in /usr/local/lib/python3.10/dist-packages (from qiskit<1.1.0,>=0.46.0->qiskit-ionq==0.5.2) (4.12.2)\n",
            "Requirement already satisfied: symengine>=0.11 in /usr/local/lib/python3.10/dist-packages (from qiskit<1.1.0,>=0.46.0->qiskit-ionq==0.5.2) (0.11.0)\n",
            "Requirement already satisfied: charset-normalizer<4,>=2 in /usr/local/lib/python3.10/dist-packages (from requests>=2.24.0->qiskit-ionq==0.5.2) (3.3.2)\n",
            "Requirement already satisfied: idna<4,>=2.5 in /usr/local/lib/python3.10/dist-packages (from requests>=2.24.0->qiskit-ionq==0.5.2) (3.7)\n",
            "Requirement already satisfied: urllib3<3,>=1.21.1 in /usr/local/lib/python3.10/dist-packages (from requests>=2.24.0->qiskit-ionq==0.5.2) (2.0.7)\n",
            "Requirement already satisfied: certifi>=2017.4.17 in /usr/local/lib/python3.10/dist-packages (from requests>=2.24.0->qiskit-ionq==0.5.2) (2024.6.2)\n",
            "Requirement already satisfied: py<2.0.0,>=1.4.26 in /usr/local/lib/python3.10/dist-packages (from retry>=0.9.0->qiskit-ionq==0.5.2) (1.11.0)\n",
            "Requirement already satisfied: six>=1.5 in /usr/local/lib/python3.10/dist-packages (from python-dateutil>=2.8.0->qiskit<1.1.0,>=0.46.0->qiskit-ionq==0.5.2) (1.16.0)\n",
            "Requirement already satisfied: pbr!=2.1.0,>=2.0.0 in /usr/local/lib/python3.10/dist-packages (from stevedore>=3.0.0->qiskit<1.1.0,>=0.46.0->qiskit-ionq==0.5.2) (6.0.0)\n",
            "Requirement already satisfied: mpmath<1.4.0,>=1.1.0 in /usr/local/lib/python3.10/dist-packages (from sympy>=1.3->qiskit<1.1.0,>=0.46.0->qiskit-ionq==0.5.2) (1.3.0)\n",
            "Requirement already satisfied: qiskit-ibm-provider==0.11.0 in /usr/local/lib/python3.10/dist-packages (0.11.0)\n",
            "Requirement already satisfied: qiskit>=0.45.0 in /usr/local/lib/python3.10/dist-packages (from qiskit-ibm-provider==0.11.0) (1.0.2)\n",
            "Requirement already satisfied: requests>=2.19 in /usr/local/lib/python3.10/dist-packages (from qiskit-ibm-provider==0.11.0) (2.31.0)\n",
            "Requirement already satisfied: requests-ntlm>=1.1.0 in /usr/local/lib/python3.10/dist-packages (from qiskit-ibm-provider==0.11.0) (1.3.0)\n",
            "Requirement already satisfied: numpy>=1.13 in /usr/local/lib/python3.10/dist-packages (from qiskit-ibm-provider==0.11.0) (1.25.2)\n",
            "Requirement already satisfied: urllib3>=1.21.1 in /usr/local/lib/python3.10/dist-packages (from qiskit-ibm-provider==0.11.0) (2.0.7)\n",
            "Requirement already satisfied: python-dateutil>=2.8.0 in /usr/local/lib/python3.10/dist-packages (from qiskit-ibm-provider==0.11.0) (2.8.2)\n",
            "Requirement already satisfied: websocket-client>=1.5.1 in /usr/local/lib/python3.10/dist-packages (from qiskit-ibm-provider==0.11.0) (1.8.0)\n",
            "Requirement already satisfied: websockets>=10.0 in /usr/local/lib/python3.10/dist-packages (from qiskit-ibm-provider==0.11.0) (12.0)\n",
            "Requirement already satisfied: typing-extensions>=4.3 in /usr/local/lib/python3.10/dist-packages (from qiskit-ibm-provider==0.11.0) (4.12.2)\n",
            "Requirement already satisfied: six>=1.5 in /usr/local/lib/python3.10/dist-packages (from python-dateutil>=2.8.0->qiskit-ibm-provider==0.11.0) (1.16.0)\n",
            "Requirement already satisfied: rustworkx>=0.14.0 in /usr/local/lib/python3.10/dist-packages (from qiskit>=0.45.0->qiskit-ibm-provider==0.11.0) (0.14.2)\n",
            "Requirement already satisfied: scipy>=1.5 in /usr/local/lib/python3.10/dist-packages (from qiskit>=0.45.0->qiskit-ibm-provider==0.11.0) (1.11.4)\n",
            "Requirement already satisfied: sympy>=1.3 in /usr/local/lib/python3.10/dist-packages (from qiskit>=0.45.0->qiskit-ibm-provider==0.11.0) (1.12.1)\n",
            "Requirement already satisfied: dill>=0.3 in /usr/local/lib/python3.10/dist-packages (from qiskit>=0.45.0->qiskit-ibm-provider==0.11.0) (0.3.8)\n",
            "Requirement already satisfied: stevedore>=3.0.0 in /usr/local/lib/python3.10/dist-packages (from qiskit>=0.45.0->qiskit-ibm-provider==0.11.0) (5.2.0)\n",
            "Requirement already satisfied: symengine>=0.11 in /usr/local/lib/python3.10/dist-packages (from qiskit>=0.45.0->qiskit-ibm-provider==0.11.0) (0.11.0)\n",
            "Requirement already satisfied: charset-normalizer<4,>=2 in /usr/local/lib/python3.10/dist-packages (from requests>=2.19->qiskit-ibm-provider==0.11.0) (3.3.2)\n",
            "Requirement already satisfied: idna<4,>=2.5 in /usr/local/lib/python3.10/dist-packages (from requests>=2.19->qiskit-ibm-provider==0.11.0) (3.7)\n",
            "Requirement already satisfied: certifi>=2017.4.17 in /usr/local/lib/python3.10/dist-packages (from requests>=2.19->qiskit-ibm-provider==0.11.0) (2024.6.2)\n",
            "Requirement already satisfied: cryptography>=1.3 in /usr/local/lib/python3.10/dist-packages (from requests-ntlm>=1.1.0->qiskit-ibm-provider==0.11.0) (42.0.8)\n",
            "Requirement already satisfied: pyspnego>=0.4.0 in /usr/local/lib/python3.10/dist-packages (from requests-ntlm>=1.1.0->qiskit-ibm-provider==0.11.0) (0.11.0)\n",
            "Requirement already satisfied: cffi>=1.12 in /usr/local/lib/python3.10/dist-packages (from cryptography>=1.3->requests-ntlm>=1.1.0->qiskit-ibm-provider==0.11.0) (1.16.0)\n",
            "Requirement already satisfied: pbr!=2.1.0,>=2.0.0 in /usr/local/lib/python3.10/dist-packages (from stevedore>=3.0.0->qiskit>=0.45.0->qiskit-ibm-provider==0.11.0) (6.0.0)\n",
            "Requirement already satisfied: mpmath<1.4.0,>=1.1.0 in /usr/local/lib/python3.10/dist-packages (from sympy>=1.3->qiskit>=0.45.0->qiskit-ibm-provider==0.11.0) (1.3.0)\n",
            "Requirement already satisfied: pycparser in /usr/local/lib/python3.10/dist-packages (from cffi>=1.12->cryptography>=1.3->requests-ntlm>=1.1.0->qiskit-ibm-provider==0.11.0) (2.22)\n",
            "Requirement already satisfied: qiskit-aer==0.14.2 in /usr/local/lib/python3.10/dist-packages (0.14.2)\n",
            "Requirement already satisfied: qiskit>=0.45.2 in /usr/local/lib/python3.10/dist-packages (from qiskit-aer==0.14.2) (1.0.2)\n",
            "Requirement already satisfied: numpy>=1.16.3 in /usr/local/lib/python3.10/dist-packages (from qiskit-aer==0.14.2) (1.25.2)\n",
            "Requirement already satisfied: scipy>=1.0 in /usr/local/lib/python3.10/dist-packages (from qiskit-aer==0.14.2) (1.11.4)\n",
            "Requirement already satisfied: psutil>=5 in /usr/local/lib/python3.10/dist-packages (from qiskit-aer==0.14.2) (5.9.5)\n",
            "Requirement already satisfied: rustworkx>=0.14.0 in /usr/local/lib/python3.10/dist-packages (from qiskit>=0.45.2->qiskit-aer==0.14.2) (0.14.2)\n",
            "Requirement already satisfied: sympy>=1.3 in /usr/local/lib/python3.10/dist-packages (from qiskit>=0.45.2->qiskit-aer==0.14.2) (1.12.1)\n",
            "Requirement already satisfied: dill>=0.3 in /usr/local/lib/python3.10/dist-packages (from qiskit>=0.45.2->qiskit-aer==0.14.2) (0.3.8)\n",
            "Requirement already satisfied: python-dateutil>=2.8.0 in /usr/local/lib/python3.10/dist-packages (from qiskit>=0.45.2->qiskit-aer==0.14.2) (2.8.2)\n",
            "Requirement already satisfied: stevedore>=3.0.0 in /usr/local/lib/python3.10/dist-packages (from qiskit>=0.45.2->qiskit-aer==0.14.2) (5.2.0)\n",
            "Requirement already satisfied: typing-extensions in /usr/local/lib/python3.10/dist-packages (from qiskit>=0.45.2->qiskit-aer==0.14.2) (4.12.2)\n",
            "Requirement already satisfied: symengine>=0.11 in /usr/local/lib/python3.10/dist-packages (from qiskit>=0.45.2->qiskit-aer==0.14.2) (0.11.0)\n",
            "Requirement already satisfied: six>=1.5 in /usr/local/lib/python3.10/dist-packages (from python-dateutil>=2.8.0->qiskit>=0.45.2->qiskit-aer==0.14.2) (1.16.0)\n",
            "Requirement already satisfied: pbr!=2.1.0,>=2.0.0 in /usr/local/lib/python3.10/dist-packages (from stevedore>=3.0.0->qiskit>=0.45.2->qiskit-aer==0.14.2) (6.0.0)\n",
            "Requirement already satisfied: mpmath<1.4.0,>=1.1.0 in /usr/local/lib/python3.10/dist-packages (from sympy>=1.3->qiskit>=0.45.2->qiskit-aer==0.14.2) (1.3.0)\n"
          ]
        }
      ],
      "source": [
        "!python3 -m pip install qiskit[visualization]==1.0.2\n",
        "!python3 -m pip install qiskit-ionq==0.5.2\n",
        "!python3 -m pip install qiskit-ibm-provider==0.11.0\n",
        "!python3 -m pip install qiskit-aer==0.14.2"
      ]
    },
    {
      "cell_type": "code",
      "source": [
        "# 참조: https://github.com/Qiskit/qiskit-ibm-provider/blob/main/docs/tutorials/1_the_ibm_quantum_account.ipynb\n",
        "# IBMQ Cloud 서비스 사용하기 위한 준비\n",
        "from qiskit_ibm_provider import IBMProvider\n",
        "\n",
        "# IBM  Provider에 등록된 계정 정보를 입력합니다.\n",
        "IBMProvider.save_account(token='853be8c2517d73c96c32639a5564ba9d9af7a03e83c081bedfafad2bb7ae8eeace7dec2f515476ae031ea8de298ab7d37078f30de276e4b8c9a8a5f17dc5d6e7',overwrite=True)\n",
        "\n",
        "# IBM Provider로 접속합니다.\n",
        "ibm_provider = IBMProvider()\n",
        "\n",
        "# 양자회로를 수행한 양자컴퓨터 백엔드 리스트 출력\n",
        "#print(ibm_provider.backends())\n",
        "print(\"Available backends:\")\n",
        "\n",
        "for backend in ibm_provider.backends():\n",
        "  print(backend.name)\n",
        "###for"
      ],
      "metadata": {
        "colab": {
          "base_uri": "https://localhost:8080/"
        },
        "id": "ZQTcKRQdLoqO",
        "outputId": "d340f746-6224-4d5c-81fd-ae907aadd20b"
      },
      "execution_count": 12,
      "outputs": [
        {
          "output_type": "stream",
          "name": "stdout",
          "text": [
            "Available backends:\n",
            "ibm_brisbane\n",
            "ibm_kyoto\n",
            "ibm_osaka\n",
            "ibm_sherbrooke\n"
          ]
        }
      ]
    },
    {
      "cell_type": "code",
      "source": [
        "# IonQ H/W Cloud를 사용하기 위한 준비\n",
        "from qiskit_ionq import IonQProvider\n",
        "\n",
        "# IonQ Cloud 서비스 사용하기 위한 준비\n",
        "ionq_provider = IonQProvider(\"5k9KVBksJ0GpZp6sknabbHkAjQPuoL3z\") #IonQ Cloud에서 Access Key를 복사해 넣어야 합니다.\n",
        "\n",
        "# 백엔드 리스트 출력\n",
        "print(\"Available backends:\")\n",
        "\n",
        "for backend in ionq_provider.backends():\n",
        "  print(backend.name())\n",
        "###for"
      ],
      "metadata": {
        "colab": {
          "base_uri": "https://localhost:8080/"
        },
        "id": "ZkNytGKOpdQG",
        "outputId": "748492e9-9156-49e6-e0a7-44667fa5111f"
      },
      "execution_count": 13,
      "outputs": [
        {
          "output_type": "stream",
          "name": "stdout",
          "text": [
            "Available backends:\n",
            "ionq_simulator\n",
            "ionq_qpu\n"
          ]
        }
      ]
    },
    {
      "cell_type": "code",
      "source": [
        "# Qiskit Local Simulator 사용하기 위한 준비\n",
        "from qiskit_aer import Aer"
      ],
      "metadata": {
        "id": "9P5aKX-BpC8r"
      },
      "execution_count": 14,
      "outputs": []
    },
    {
      "cell_type": "code",
      "source": [
        "from qiskit import QuantumCircuit\n",
        "\n",
        "# 양자 회로 생성\n",
        "qc = QuantumCircuit(5, 5)  # 5개의 양자 비트와 2개의 클래식 비트를 사용합니다.\n",
        "\n",
        "# 입력 비트 설정 (A=1, B=1)\n",
        "qc.x(0)  # A 비트를 1로 설정\n",
        "qc.x(1)  # B 비트를 1로 설정\n",
        "qc.barrier()\n",
        "\n",
        "# 반-가산기 회로 구현\n",
        "qc.cx(0, 3) # XOR 게이트 (A와 B의 논리합)\n",
        "qc.cx(1, 3) # XOR 게이트 (A와 B의 논리합)\n",
        "qc.ccx(0, 1, 4) # AND 게이트 (A와 B의 논리곱)\n",
        "qc.cx(2, 3) # XOR 게이트 (A와 B의 논리합)\n",
        "qc.ccx(0, 2, 4) # AND 게이트 (A와 B의 논리곱)\n",
        "qc.ccx(1, 2, 4) # AND 게이트 (A와 B의 논리곱)\n",
        "qc.barrier()\n",
        "\n",
        "# 결과를 측정하여 Sum과 Carry 출력을 얻습니다.\n",
        "qc.measure(0, 4)  # 큐비트를 클래식 비트 4에 매핑\n",
        "qc.measure(1, 3)  # 큐비트를 클래식 비트 3에 매핑\n",
        "qc.measure(2, 2)  # 보조비트를 클래식 비트 2에 매핑\n",
        "qc.measure(3, 1)  # Sum(Result) 비트를 클래식 비트 1에 매핑\n",
        "qc.measure(4, 0)  # Carry 비트를 클래식 비트 0에 매핑\n",
        "\n",
        "#qc.draw('mpl')\n",
        "qc.draw()"
      ],
      "metadata": {
        "colab": {
          "base_uri": "https://localhost:8080/",
          "height": 237
        },
        "id": "RoWQv9uqqeMK",
        "outputId": "63041439-d3ab-4530-a28d-854f4f46862a"
      },
      "execution_count": 16,
      "outputs": [
        {
          "output_type": "execute_result",
          "data": {
            "text/plain": [
              "     ┌───┐ ░                                ░ ┌─┐            \n",
              "q_0: ┤ X ├─░───■─────────■─────────■────────░─┤M├────────────\n",
              "     ├───┤ ░   │         │         │        ░ └╥┘┌─┐         \n",
              "q_1: ┤ X ├─░───┼────■────■─────────┼────■───░──╫─┤M├─────────\n",
              "     └───┘ ░   │    │    │         │    │   ░  ║ └╥┘┌─┐      \n",
              "q_2: ──────░───┼────┼────┼────■────■────■───░──╫──╫─┤M├──────\n",
              "           ░ ┌─┴─┐┌─┴─┐  │  ┌─┴─┐  │    │   ░  ║  ║ └╥┘┌─┐   \n",
              "q_3: ──────░─┤ X ├┤ X ├──┼──┤ X ├──┼────┼───░──╫──╫──╫─┤M├───\n",
              "           ░ └───┘└───┘┌─┴─┐└───┘┌─┴─┐┌─┴─┐ ░  ║  ║  ║ └╥┘┌─┐\n",
              "q_4: ──────░───────────┤ X ├─────┤ X ├┤ X ├─░──╫──╫──╫──╫─┤M├\n",
              "           ░           └───┘     └───┘└───┘ ░  ║  ║  ║  ║ └╥┘\n",
              "c: 5/══════════════════════════════════════════╩══╩══╩══╩══╩═\n",
              "                                               4  3  2  1  0 "
            ],
            "text/html": [
              "<pre style=\"word-wrap: normal;white-space: pre;background: #fff0;line-height: 1.1;font-family: &quot;Courier New&quot;,Courier,monospace\">     ┌───┐ ░                                ░ ┌─┐            \n",
              "q_0: ┤ X ├─░───■─────────■─────────■────────░─┤M├────────────\n",
              "     ├───┤ ░   │         │         │        ░ └╥┘┌─┐         \n",
              "q_1: ┤ X ├─░───┼────■────■─────────┼────■───░──╫─┤M├─────────\n",
              "     └───┘ ░   │    │    │         │    │   ░  ║ └╥┘┌─┐      \n",
              "q_2: ──────░───┼────┼────┼────■────■────■───░──╫──╫─┤M├──────\n",
              "           ░ ┌─┴─┐┌─┴─┐  │  ┌─┴─┐  │    │   ░  ║  ║ └╥┘┌─┐   \n",
              "q_3: ──────░─┤ X ├┤ X ├──┼──┤ X ├──┼────┼───░──╫──╫──╫─┤M├───\n",
              "           ░ └───┘└───┘┌─┴─┐└───┘┌─┴─┐┌─┴─┐ ░  ║  ║  ║ └╥┘┌─┐\n",
              "q_4: ──────░───────────┤ X ├─────┤ X ├┤ X ├─░──╫──╫──╫──╫─┤M├\n",
              "           ░           └───┘     └───┘└───┘ ░  ║  ║  ║  ║ └╥┘\n",
              "c: 5/══════════════════════════════════════════╩══╩══╩══╩══╩═\n",
              "                                               4  3  2  1  0 </pre>"
            ]
          },
          "metadata": {},
          "execution_count": 16
        }
      ]
    },
    {
      "cell_type": "code",
      "source": [
        "#여러 장치들에게 선택적으로 수행시키기 위한 준비\n",
        "from qiskit.compiler import transpile, assemble\n",
        "#\n",
        "#백엔드들을 이용한 실제 장치나 시뮬레이터를 이용한 실행\n",
        "#\n",
        "#backend = ionq_provider.get_backend('ionq_simulator')\n",
        "#backend = ionq_provider.get_backend('ionq_qpu')\n",
        "#backend = ibm_provider.get_backend('ibmq_qasm_simulator') # Cloud상 시뮬레이터\n",
        "#backend = ibm_provider.get_backend('ibmq_quito')\n",
        "backend = Aer.get_backend('qasm_simulator')  #Local Qiskit Aer 시뮬레이터 사용\n",
        "\n",
        "#양자컴 하드웨어마다 지원할 수 있는 Gate의 종류가 달라서, 일반GATE를 각 하드웨어 지원 Gate로 변환하는 과정을 Transpile이라 한다.\n",
        "trans_qc = transpile(qc, backend)\n",
        "#trans_qc.draw('mpl')\n",
        "trans_qc.draw()"
      ],
      "metadata": {
        "colab": {
          "base_uri": "https://localhost:8080/",
          "height": 237
        },
        "id": "1M1XjKTrJPTx",
        "outputId": "57b042aa-7078-4c46-d8cc-de0c17b146fd"
      },
      "execution_count": 19,
      "outputs": [
        {
          "output_type": "execute_result",
          "data": {
            "text/plain": [
              "     ┌───┐ ░                                ░             ┌─┐\n",
              "q_0: ┤ X ├─░───■─────────■─────────■────────░─────────────┤M├\n",
              "     ├───┤ ░   │         │         │        ░          ┌─┐└╥┘\n",
              "q_1: ┤ X ├─░───┼────■────■─────────┼────■───░──────────┤M├─╫─\n",
              "     └───┘ ░   │    │    │         │    │   ░       ┌─┐└╥┘ ║ \n",
              "q_2: ──────░───┼────┼────┼────■────■────■───░───────┤M├─╫──╫─\n",
              "           ░ ┌─┴─┐┌─┴─┐  │  ┌─┴─┐  │    │   ░    ┌─┐└╥┘ ║  ║ \n",
              "q_3: ──────░─┤ X ├┤ X ├──┼──┤ X ├──┼────┼───░────┤M├─╫──╫──╫─\n",
              "           ░ └───┘└───┘┌─┴─┐└───┘┌─┴─┐┌─┴─┐ ░ ┌─┐└╥┘ ║  ║  ║ \n",
              "q_4: ──────░───────────┤ X ├─────┤ X ├┤ X ├─░─┤M├─╫──╫──╫──╫─\n",
              "           ░           └───┘     └───┘└───┘ ░ └╥┘ ║  ║  ║  ║ \n",
              "c: 5/══════════════════════════════════════════╩══╩══╩══╩══╩═\n",
              "                                               0  1  2  3  4 "
            ],
            "text/html": [
              "<pre style=\"word-wrap: normal;white-space: pre;background: #fff0;line-height: 1.1;font-family: &quot;Courier New&quot;,Courier,monospace\">     ┌───┐ ░                                ░             ┌─┐\n",
              "q_0: ┤ X ├─░───■─────────■─────────■────────░─────────────┤M├\n",
              "     ├───┤ ░   │         │         │        ░          ┌─┐└╥┘\n",
              "q_1: ┤ X ├─░───┼────■────■─────────┼────■───░──────────┤M├─╫─\n",
              "     └───┘ ░   │    │    │         │    │   ░       ┌─┐└╥┘ ║ \n",
              "q_2: ──────░───┼────┼────┼────■────■────■───░───────┤M├─╫──╫─\n",
              "           ░ ┌─┴─┐┌─┴─┐  │  ┌─┴─┐  │    │   ░    ┌─┐└╥┘ ║  ║ \n",
              "q_3: ──────░─┤ X ├┤ X ├──┼──┤ X ├──┼────┼───░────┤M├─╫──╫──╫─\n",
              "           ░ └───┘└───┘┌─┴─┐└───┘┌─┴─┐┌─┴─┐ ░ ┌─┐└╥┘ ║  ║  ║ \n",
              "q_4: ──────░───────────┤ X ├─────┤ X ├┤ X ├─░─┤M├─╫──╫──╫──╫─\n",
              "           ░           └───┘     └───┘└───┘ ░ └╥┘ ║  ║  ║  ║ \n",
              "c: 5/══════════════════════════════════════════╩══╩══╩══╩══╩═\n",
              "                                               0  1  2  3  4 </pre>"
            ]
          },
          "metadata": {},
          "execution_count": 19
        }
      ]
    },
    {
      "cell_type": "code",
      "source": [
        "from qiskit.providers.jobstatus import JobStatus\n",
        "import time\n",
        "\n",
        "job = backend.run(trans_qc, shots=1024)\n",
        "#job = backend.run(qc, shots=2048) # if you don’t pass a shots kwarg, it defaults to 1024\n",
        "\n",
        "print(\"Job ID is\", job.job_id(),\"\\n\")\n",
        "\n",
        "# 제출된 잡에 대한 실행 상태 확인\n",
        "while job.status() is not JobStatus.DONE:\n",
        "\tprint(\"Job status is\", job.status() )\n",
        "\ttime.sleep(2)\n",
        "###while\n",
        "\n",
        "# grab a coffee! This can take up to a few minutes.\n",
        "# once we break out of that while loop, we know our job is finished\n",
        "print(\"Job status is\", job.status() )\n",
        "\n",
        "# 결과 출력\n",
        "counts = job.result().get_counts()\n",
        "print(counts)"
      ],
      "metadata": {
        "id": "FzdFMpSeLaXW",
        "colab": {
          "base_uri": "https://localhost:8080/"
        },
        "outputId": "f4dc489d-062c-49ff-f170-a5ebe276b285"
      },
      "execution_count": 20,
      "outputs": [
        {
          "output_type": "stream",
          "name": "stdout",
          "text": [
            "Job ID is 06929454-7fa7-48d0-9c17-9f1204843118 \n",
            "\n",
            "Job status is JobStatus.RUNNING\n",
            "Job status is JobStatus.DONE\n",
            "{'11001': 1024}\n"
          ]
        }
      ]
    },
    {
      "cell_type": "code",
      "source": [
        "from qiskit.visualization import plot_histogram\n",
        "plot_histogram(data=counts)"
      ],
      "metadata": {
        "id": "0DG1OFPCMIfv",
        "colab": {
          "base_uri": "https://localhost:8080/",
          "height": 516
        },
        "outputId": "4d0069ab-4499-4147-a8bc-f7888d9ada6a"
      },
      "execution_count": 21,
      "outputs": [
        {
          "output_type": "execute_result",
          "data": {
            "text/plain": [
              "<Figure size 700x500 with 1 Axes>"
            ],
            "image/png": "[encoded data removed]"
          },
          "metadata": {},
          "execution_count": 21
        }
      ]
    },
    {
      "cell_type": "code",
      "source": [
        "import qiskit.utils\n",
        "qiskit.utils.local_hardware_info()"
      ],
      "metadata": {
        "id": "2oaQnlVWeZE9",
        "colab": {
          "base_uri": "https://localhost:8080/"
        },
        "outputId": "fe7a886a-cde2-4b22-8bd0-06dd5dd7a5a6"
      },
      "execution_count": 22,
      "outputs": [
        {
          "output_type": "execute_result",
          "data": {
            "text/plain": [
              "{'python_compiler': 'GCC 11.4.0',\n",
              " 'python_build': 'main, Nov 20 2023 15:14:05',\n",
              " 'python_version': '3.10.12',\n",
              " 'os': 'Linux',\n",
              " 'cpus': 1}"
            ]
          },
          "metadata": {},
          "execution_count": 22
        }
      ]
    }
  ]
}