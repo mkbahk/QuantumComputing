{
  "cells": [
    {
      "cell_type": "markdown",
      "metadata": {
        "id": "view-in-github",
        "colab_type": "text"
      },
      "source": [
        "<a href=\"https://colab.research.google.com/github/mkbahk/QuantumComputing/blob/main/Quantum_teleportation.ipynb\" target=\"_parent\"><img src=\"https://colab.research.google.com/assets/colab-badge.svg\" alt=\"Open In Colab\"/></a>"
      ]
    },
    {
      "cell_type": "code",
      "execution_count": null,
      "id": "071abf81-0674-4440-8d6f-1040ad0c3e4a",
      "metadata": {
        "tags": [],
        "id": "071abf81-0674-4440-8d6f-1040ad0c3e4a"
      },
      "outputs": [],
      "source": [
        "# Importing standard Qiskit libraries\n",
        "from qiskit import QuantumCircuit, transpile\n",
        "from qiskit.tools.jupyter import *\n",
        "from qiskit.visualization import *\n",
        "from ibm_quantum_widgets import *\n",
        "from qiskit_aer import AerSimulator\n",
        "\n",
        "# qiskit-ibmq-provider has been deprecated.\n",
        "# Please see the Migration Guides in https://ibm.biz/provider_migration_guide for more detail.\n",
        "from qiskit_ibm_runtime import QiskitRuntimeService, Sampler, Estimator, Session, Options\n",
        "\n",
        "# Loading your IBM Quantum account(s)\n",
        "service = QiskitRuntimeService(channel=\"ibm_quantum\")\n",
        "\n",
        "# Invoke a primitive inside a session. For more details see https://qiskit.org/documentation/partners/qiskit_ibm_runtime/tutorials.html\n",
        "# with Session(backend=service.backend(\"ibmq_qasm_simulator\")):\n",
        "#     result = Sampler().run(circuits).result()"
      ]
    },
    {
      "cell_type": "code",
      "execution_count": null,
      "id": "c87700bb-d430-4e2d-a140-ae377f42e9cc",
      "metadata": {
        "tags": [],
        "id": "c87700bb-d430-4e2d-a140-ae377f42e9cc"
      },
      "outputs": [],
      "source": [
        "# Do the necessary imports\n",
        "import numpy as np\n",
        "from qiskit import QuantumCircuit, QuantumRegister, ClassicalRegister\n",
        "from qiskit import transpile\n",
        "from qiskit.visualization import plot_histogram\n",
        "from qiskit_ibm_provider import IBMProvider\n",
        "from qiskit.circuit import IfElseOp"
      ]
    },
    {
      "cell_type": "code",
      "execution_count": null,
      "id": "8ef0ae7d-34ac-40c5-a9e6-ae446bbb5c7e",
      "metadata": {
        "tags": [],
        "id": "8ef0ae7d-34ac-40c5-a9e6-ae446bbb5c7e"
      },
      "outputs": [],
      "source": [
        "## SETUP\n",
        "# Protocol uses 3 qubits and 2 classical bits in 2 different registers\n",
        "# Include a third register for measuring Bob's result\n",
        "qr = QuantumRegister(3, name=\"q\")\n",
        "crz, crx = ClassicalRegister(1, name=\"crz\"), ClassicalRegister(1, name=\"crx\")\n",
        "crb = ClassicalRegister(1, name=\"crb\")\n",
        "teleportation_circuit = QuantumCircuit(qr, crz, crx, crb)\n"
      ]
    },
    {
      "cell_type": "code",
      "execution_count": null,
      "id": "b1713990-2626-4982-860d-a6cc64ed8bee",
      "metadata": {
        "tags": [],
        "id": "b1713990-2626-4982-860d-a6cc64ed8bee"
      },
      "outputs": [],
      "source": [
        "def create_bell_pair(qc, a, b):\n",
        "    \"\"\"Creates a bell pair in qc using qubits a & b\"\"\"\n",
        "    qc.h(a)  # Put qubit a into state |+>\n",
        "    qc.cx(a, b)  # CNOT with a as control and b as target"
      ]
    },
    {
      "cell_type": "code",
      "execution_count": null,
      "id": "52c1ba49-191c-4d5d-bfaa-4e242e438658",
      "metadata": {
        "tags": [],
        "id": "52c1ba49-191c-4d5d-bfaa-4e242e438658"
      },
      "outputs": [],
      "source": [
        "## STEP 1\n",
        "create_bell_pair(teleportation_circuit, 1, 2)"
      ]
    },
    {
      "cell_type": "code",
      "execution_count": null,
      "id": "7e3d5f67-0fa3-47fe-9e33-0af80c5a3271",
      "metadata": {
        "tags": [],
        "id": "7e3d5f67-0fa3-47fe-9e33-0af80c5a3271"
      },
      "outputs": [],
      "source": [
        "def alice_gates(qc, psi, a):\n",
        "    qc.cx(psi, a)\n",
        "    qc.h(psi)"
      ]
    },
    {
      "cell_type": "code",
      "execution_count": null,
      "id": "8f3fcba4-591e-4c94-83a8-aabde7e3d047",
      "metadata": {
        "tags": [],
        "id": "8f3fcba4-591e-4c94-83a8-aabde7e3d047"
      },
      "outputs": [],
      "source": [
        "## STEP 2\n",
        "teleportation_circuit.barrier()  # Use barrier to separate steps\n",
        "alice_gates(teleportation_circuit, 0, 1)"
      ]
    },
    {
      "cell_type": "code",
      "execution_count": null,
      "id": "78307677-7dc8-46a2-b96a-164d34d6eed7",
      "metadata": {
        "tags": [],
        "id": "78307677-7dc8-46a2-b96a-164d34d6eed7"
      },
      "outputs": [],
      "source": [
        "def measure_and_send(qc, a, b):\n",
        "    \"\"\"Measures qubits a & b and 'sends' the results to Bob\"\"\"\n",
        "    qc.barrier()\n",
        "    qc.measure(a, 0)\n",
        "    qc.measure(b, 1)"
      ]
    },
    {
      "cell_type": "code",
      "execution_count": null,
      "id": "7a3f0043-18e5-4e3a-b139-440aeaeacd50",
      "metadata": {
        "tags": [],
        "id": "7a3f0043-18e5-4e3a-b139-440aeaeacd50"
      },
      "outputs": [],
      "source": [
        "# This function takes a QuantumCircuit (qc), integer (qubit)\n",
        "# and ClassicalRegisters (crz & crx) to decide which gates to apply\n",
        "def bob_gates(qc, qubit, crz, crx):\n",
        "    # Here we use qc.if_test to control our gates with a classical\n",
        "    # bit instead of a qubit\n",
        "    with qc.if_test((crx, 1)):\n",
        "        qc.x(qubit)\n",
        "    with qc.if_test((crz, 1)):\n",
        "        qc.z(qubit)"
      ]
    },
    {
      "cell_type": "code",
      "execution_count": null,
      "id": "e0f1ecf1-4735-470e-a260-bf2d9dc7c6af",
      "metadata": {
        "tags": [],
        "id": "e0f1ecf1-4735-470e-a260-bf2d9dc7c6af"
      },
      "outputs": [],
      "source": [
        "## STEP 4\n",
        "teleportation_circuit.barrier()  # Use barrier to separate steps\n",
        "bob_gates(teleportation_circuit, 2, crz, crx)"
      ]
    },
    {
      "cell_type": "code",
      "execution_count": null,
      "id": "5d47a31c-73df-4f0a-9a10-9380e0519a32",
      "metadata": {
        "tags": [],
        "id": "5d47a31c-73df-4f0a-9a10-9380e0519a32",
        "outputId": "ae398987-dbbd-4269-d0d2-b6004339f948"
      },
      "outputs": [
        {
          "data": {
            "text/plain": [
              "<qiskit.circuit.instructionset.InstructionSet at 0x7f1c91f05480>"
            ]
          },
          "execution_count": 12,
          "metadata": {},
          "output_type": "execute_result"
        }
      ],
      "source": [
        "## STEP 5\n",
        "crb = ClassicalRegister(1, name=\"crb\")\n",
        "teleportation_circuit.measure(2, 2)"
      ]
    },
    {
      "cell_type": "code",
      "execution_count": null,
      "id": "de2d4c5e-ecf5-4a95-a124-f39adb17c22e",
      "metadata": {
        "id": "de2d4c5e-ecf5-4a95-a124-f39adb17c22e"
      },
      "outputs": [],
      "source": []
    },
    {
      "cell_type": "code",
      "execution_count": null,
      "id": "d3cc2f90-e9b8-4ce8-a9a0-93ff48e479e8",
      "metadata": {
        "id": "d3cc2f90-e9b8-4ce8-a9a0-93ff48e479e8"
      },
      "outputs": [],
      "source": []
    },
    {
      "cell_type": "code",
      "execution_count": null,
      "id": "0f4fb8ad-704e-42b7-9f13-707556951522",
      "metadata": {
        "tags": [],
        "id": "0f4fb8ad-704e-42b7-9f13-707556951522",
        "outputId": "c31dbaf2-1e90-4a9f-c4cc-2dd191a6cfb8"
      },
      "outputs": [
        {
          "name": "stdout",
          "output_type": "stream",
          "text": [
            "Traceback \u001b[1;36m(most recent call last)\u001b[0m:\n",
            "\u001b[1;36m  Cell \u001b[1;32mIn[3], line 10\u001b[1;36m\n",
            "\u001b[1;33m    create_bell_pair(teleportation_circuit, 1, 2)\u001b[1;36m\n",
            "\u001b[1;31mNameError\u001b[0m\u001b[1;31m:\u001b[0m name 'create_bell_pair' is not defined\n",
            "\n",
            "Use %tb to get the full traceback.\n"
          ]
        },
        {
          "data": {
            "text/html": [
              "\n",
              "<style>\n",
              ".button {\n",
              "  border: none;\n",
              "  color: white;\n",
              "  padding: 4px 8px;\n",
              "  text-align: center;\n",
              "  text-decoration: none;\n",
              "  display: inline-block;\n",
              "  font-size: 12px;\n",
              "  margin: 4px 2px;\n",
              "  transition-duration: 0.2s;\n",
              "  cursor: pointer;\n",
              "}\n",
              ".iqx-button {\n",
              "  background-color: #0f62fe; \n",
              "  color: white; \n",
              "}\n",
              ".iqx-button:hover {\n",
              "  background-color: #0043ce;\n",
              "  color: white;\n",
              "}\n",
              "</style>\n",
              "<a href=\"https://stackoverflow.com/search?q=NameError: name 'create_bell_pair' is not defined\" target='_blank'><button class='button iqx-button'>Search for solution online</button></a>\n"
            ],
            "text/plain": [
              "<IPython.core.display.HTML object>"
            ]
          },
          "metadata": {},
          "output_type": "display_data"
        }
      ],
      "source": [
        "## SETUP\n",
        "# Protocol uses 3 qubits and 2 classical bits in 2 different registers\n",
        "# include third register for measuring Bob's result\n",
        "qr = QuantumRegister(3, name=\"q\")\n",
        "crz, crx = ClassicalRegister(1, name=\"crz\"), ClassicalRegister(1, name=\"crx\")\n",
        "crb = ClassicalRegister(1, name=\"crb\")\n",
        "teleportation_circuit = QuantumCircuit(qr, crz, crx, crb)\n",
        "\n",
        "## STEP 1\n",
        "create_bell_pair(teleportation_circuit, 1, 2)\n",
        "\n",
        "## STEP 2\n",
        "teleportation_circuit.barrier()  # Use barrier to separate steps\n",
        "alice_gates(teleportation_circuit, 0, 1)\n",
        "\n",
        "## STEP 3\n",
        "measure_and_send(teleportation_circuit, 0, 1)\n",
        "\n",
        "## STEP 4\n",
        "teleportation_circuit.barrier()  # Use barrier to separate steps\n",
        "bob_gates(teleportation_circuit, 2, crz, crx)\n",
        "\n",
        "## STEP 5\n",
        "crb = ClassicalRegister(1, name=\"crb\")\n",
        "teleportation_circuit.measure(2, 2)\n",
        "teleportation_circuit.draw(\n",
        "    \"mpl\", cregbundle=False\n",
        ")  # suppress RuntimeWarning with cregbundle=False\n"
      ]
    },
    {
      "cell_type": "code",
      "execution_count": null,
      "id": "9e04c9a5-c9a1-4d13-a1df-d8475d939fe7",
      "metadata": {
        "id": "9e04c9a5-c9a1-4d13-a1df-d8475d939fe7"
      },
      "outputs": [],
      "source": []
    }
  ],
  "metadata": {
    "kernelspec": {
      "display_name": "Python 3 (ipykernel)",
      "language": "python",
      "name": "python3"
    },
    "language_info": {
      "codemirror_mode": {
        "name": "ipython",
        "version": 3
      },
      "file_extension": ".py",
      "mimetype": "text/x-python",
      "name": "python",
      "nbconvert_exporter": "python",
      "pygments_lexer": "ipython3",
      "version": "3.10.8"
    },
    "colab": {
      "provenance": [],
      "include_colab_link": true
    }
  },
  "nbformat": 4,
  "nbformat_minor": 5
}