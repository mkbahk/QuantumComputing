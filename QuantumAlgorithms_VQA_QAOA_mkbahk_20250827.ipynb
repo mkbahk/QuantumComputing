{
  "nbformat": 4,
  "nbformat_minor": 0,
  "metadata": {
    "colab": {
      "provenance": [],
      "authorship_tag": "ABX9TyPcAIeivzY0mnQaETERICEY",
      "include_colab_link": true
    },
    "kernelspec": {
      "name": "python3",
      "display_name": "Python 3"
    },
    "language_info": {
      "name": "python"
    }
  },
  "cells": [
    {
      "cell_type": "markdown",
      "metadata": {
        "id": "view-in-github",
        "colab_type": "text"
      },
      "source": [
        "<a href=\"https://colab.research.google.com/github/mkbahk/QuantumComputing/blob/main/QuantumAlgorithms_VQA_QAOA_mkbahk_20250827.ipynb\" target=\"_parent\"><img src=\"https://colab.research.google.com/assets/colab-badge.svg\" alt=\"Open In Colab\"/></a>"
      ]
    },
    {
      "cell_type": "code",
      "execution_count": 29,
      "metadata": {
        "colab": {
          "base_uri": "https://localhost:8080/"
        },
        "id": "EzzDNQaAsV4f",
        "outputId": "2819077b-33af-44c5-f5e2-99efaa344aae"
      },
      "outputs": [
        {
          "output_type": "stream",
          "name": "stdout",
          "text": [
            "Requirement already satisfied: qiskit-algorithms==0.3.1 in /usr/local/lib/python3.12/dist-packages (0.3.1)\n",
            "Requirement already satisfied: qiskit>=0.44 in /usr/local/lib/python3.12/dist-packages (from qiskit-algorithms==0.3.1) (1.4.4)\n",
            "Requirement already satisfied: scipy>=1.4 in /usr/local/lib/python3.12/dist-packages (from qiskit-algorithms==0.3.1) (1.16.1)\n",
            "Requirement already satisfied: numpy>=1.17 in /usr/local/lib/python3.12/dist-packages (from qiskit-algorithms==0.3.1) (2.0.2)\n",
            "Requirement already satisfied: rustworkx>=0.15.0 in /usr/local/lib/python3.12/dist-packages (from qiskit>=0.44->qiskit-algorithms==0.3.1) (0.17.1)\n",
            "Requirement already satisfied: sympy>=1.3 in /usr/local/lib/python3.12/dist-packages (from qiskit>=0.44->qiskit-algorithms==0.3.1) (1.13.3)\n",
            "Requirement already satisfied: dill>=0.3 in /usr/local/lib/python3.12/dist-packages (from qiskit>=0.44->qiskit-algorithms==0.3.1) (0.3.8)\n",
            "Requirement already satisfied: python-dateutil>=2.8.0 in /usr/local/lib/python3.12/dist-packages (from qiskit>=0.44->qiskit-algorithms==0.3.1) (2.9.0.post0)\n",
            "Requirement already satisfied: stevedore>=3.0.0 in /usr/local/lib/python3.12/dist-packages (from qiskit>=0.44->qiskit-algorithms==0.3.1) (5.5.0)\n",
            "Requirement already satisfied: typing-extensions in /usr/local/lib/python3.12/dist-packages (from qiskit>=0.44->qiskit-algorithms==0.3.1) (4.14.1)\n",
            "Requirement already satisfied: symengine<0.14,>=0.11 in /usr/local/lib/python3.12/dist-packages (from qiskit>=0.44->qiskit-algorithms==0.3.1) (0.13.0)\n",
            "Requirement already satisfied: six>=1.5 in /usr/local/lib/python3.12/dist-packages (from python-dateutil>=2.8.0->qiskit>=0.44->qiskit-algorithms==0.3.1) (1.17.0)\n",
            "Requirement already satisfied: mpmath<1.4,>=1.1.0 in /usr/local/lib/python3.12/dist-packages (from sympy>=1.3->qiskit>=0.44->qiskit-algorithms==0.3.1) (1.3.0)\n",
            "Requirement already satisfied: qiskit~=1.0 in /usr/local/lib/python3.12/dist-packages (1.4.4)\n",
            "Requirement already satisfied: rustworkx>=0.15.0 in /usr/local/lib/python3.12/dist-packages (from qiskit~=1.0) (0.17.1)\n",
            "Requirement already satisfied: numpy<3,>=1.17 in /usr/local/lib/python3.12/dist-packages (from qiskit~=1.0) (2.0.2)\n",
            "Requirement already satisfied: scipy>=1.5 in /usr/local/lib/python3.12/dist-packages (from qiskit~=1.0) (1.16.1)\n",
            "Requirement already satisfied: sympy>=1.3 in /usr/local/lib/python3.12/dist-packages (from qiskit~=1.0) (1.13.3)\n",
            "Requirement already satisfied: dill>=0.3 in /usr/local/lib/python3.12/dist-packages (from qiskit~=1.0) (0.3.8)\n",
            "Requirement already satisfied: python-dateutil>=2.8.0 in /usr/local/lib/python3.12/dist-packages (from qiskit~=1.0) (2.9.0.post0)\n",
            "Requirement already satisfied: stevedore>=3.0.0 in /usr/local/lib/python3.12/dist-packages (from qiskit~=1.0) (5.5.0)\n",
            "Requirement already satisfied: typing-extensions in /usr/local/lib/python3.12/dist-packages (from qiskit~=1.0) (4.14.1)\n",
            "Requirement already satisfied: symengine<0.14,>=0.11 in /usr/local/lib/python3.12/dist-packages (from qiskit~=1.0) (0.13.0)\n",
            "Requirement already satisfied: six>=1.5 in /usr/local/lib/python3.12/dist-packages (from python-dateutil>=2.8.0->qiskit~=1.0) (1.17.0)\n",
            "Requirement already satisfied: mpmath<1.4,>=1.1.0 in /usr/local/lib/python3.12/dist-packages (from sympy>=1.3->qiskit~=1.0) (1.3.0)\n",
            "Requirement already satisfied: qiskit-aer in /usr/local/lib/python3.12/dist-packages (0.17.1)\n",
            "Requirement already satisfied: qiskit>=1.1.0 in /usr/local/lib/python3.12/dist-packages (from qiskit-aer) (1.4.4)\n",
            "Requirement already satisfied: numpy>=1.16.3 in /usr/local/lib/python3.12/dist-packages (from qiskit-aer) (2.0.2)\n",
            "Requirement already satisfied: scipy>=1.0 in /usr/local/lib/python3.12/dist-packages (from qiskit-aer) (1.16.1)\n",
            "Requirement already satisfied: psutil>=5 in /usr/local/lib/python3.12/dist-packages (from qiskit-aer) (5.9.5)\n",
            "Requirement already satisfied: python-dateutil>=2.8.0 in /usr/local/lib/python3.12/dist-packages (from qiskit-aer) (2.9.0.post0)\n",
            "Requirement already satisfied: six>=1.5 in /usr/local/lib/python3.12/dist-packages (from python-dateutil>=2.8.0->qiskit-aer) (1.17.0)\n",
            "Requirement already satisfied: rustworkx>=0.15.0 in /usr/local/lib/python3.12/dist-packages (from qiskit>=1.1.0->qiskit-aer) (0.17.1)\n",
            "Requirement already satisfied: sympy>=1.3 in /usr/local/lib/python3.12/dist-packages (from qiskit>=1.1.0->qiskit-aer) (1.13.3)\n",
            "Requirement already satisfied: dill>=0.3 in /usr/local/lib/python3.12/dist-packages (from qiskit>=1.1.0->qiskit-aer) (0.3.8)\n",
            "Requirement already satisfied: stevedore>=3.0.0 in /usr/local/lib/python3.12/dist-packages (from qiskit>=1.1.0->qiskit-aer) (5.5.0)\n",
            "Requirement already satisfied: typing-extensions in /usr/local/lib/python3.12/dist-packages (from qiskit>=1.1.0->qiskit-aer) (4.14.1)\n",
            "Requirement already satisfied: symengine<0.14,>=0.11 in /usr/local/lib/python3.12/dist-packages (from qiskit>=1.1.0->qiskit-aer) (0.13.0)\n",
            "Requirement already satisfied: mpmath<1.4,>=1.1.0 in /usr/local/lib/python3.12/dist-packages (from sympy>=1.3->qiskit>=1.1.0->qiskit-aer) (1.3.0)\n"
          ]
        }
      ],
      "source": [
        "!pip install qiskit-algorithms==0.3.1\n",
        "!pip install qiskit~=1.0\n",
        "!pip install qiskit-aer"
      ]
    },
    {
      "cell_type": "code",
      "source": [
        "# pip install qiskit qiskit-algorithms  (필요 시)\n",
        "from __future__ import annotations\n",
        "from itertools import combinations\n",
        "from typing import Dict, List, Tuple\n",
        "\n",
        "import numpy as np\n",
        "from qiskit import QuantumCircuit\n",
        "from qiskit.circuit import ParameterVector\n",
        "from qiskit.primitives import Estimator, Sampler\n",
        "from qiskit_algorithms.optimizers import COBYLA"
      ],
      "metadata": {
        "id": "t8VoVZeWseyQ"
      },
      "execution_count": 30,
      "outputs": []
    },
    {
      "cell_type": "code",
      "source": [
        "# ----- 1) 그래프 정의 (무가중이면 weight=1) -----\n",
        "n = 4\n",
        "edges: List[Tuple[int,int,float]] = [\n",
        "    (0,1,3.0), (0,2,1.0), (1,2,2.0), (1,3,1.0), (2,3,4.0)\n",
        "]"
      ],
      "metadata": {
        "id": "ZD8BibC-sirg"
      },
      "execution_count": 31,
      "outputs": []
    },
    {
      "cell_type": "code",
      "source": [
        "# ----- 2) QAOA ansatz 구성 -----\n",
        "def qaoa_ansatz(n: int, edges: List[Tuple[int,int,float]], p: int) -> Tuple[QuantumCircuit, ParameterVector, ParameterVector]:\n",
        "    gammas = ParameterVector('γ', p)\n",
        "    betas  = ParameterVector('β', p)\n",
        "    qc = QuantumCircuit(n, name=f\"QAOA_p{p}\")\n",
        "    # |+> 초기화\n",
        "    for q in range(n):\n",
        "        qc.h(q)\n",
        "    # p layers\n",
        "    for layer in range(p):\n",
        "        γ = gammas[layer]\n",
        "        # e^{-i γ sum w_ij Z_i Z_j} 구현: CX-RZ-CX (각 간선마다)\n",
        "        for (i, j, w) in edges:\n",
        "            qc.cx(i, j)\n",
        "            qc.rz(2.0 * γ * w, j)   # ZZ(γ w)\n",
        "            qc.cx(i, j)\n",
        "        β = betas[layer]\n",
        "        # 믹서: ∏ RX(2β)\n",
        "        for q in range(n):\n",
        "            qc.rx(2.0 * β, q)\n",
        "    return qc, gammas, betas"
      ],
      "metadata": {
        "id": "wDgg_tY2sji3"
      },
      "execution_count": 32,
      "outputs": []
    },
    {
      "cell_type": "code",
      "source": [
        "# 비용 관측자(최소화용). 상수항은 버리고 +0.5 * Σ w_ij Z_i Z_j를 최소화\n",
        "from qiskit.quantum_info import SparsePauliOp\n",
        "\n",
        "def zz_cost_operator(n: int, edges: List[Tuple[int,int,float]]):\n",
        "    labels = []\n",
        "    coeffs = []\n",
        "    for (i, j, w) in edges:\n",
        "        z = ['I'] * n\n",
        "        z[i] = 'Z'\n",
        "        z[j] = 'Z'\n",
        "        labels.append(''.join(reversed(z)))  # Qiskit은 리틀엔디안: 마지막 큐빗이 좌측\n",
        "        coeffs.append(0.5 * w)               # +0.5 * w_ij * Z_i Z_j\n",
        "    return SparsePauliOp.from_list(list(zip(labels, coeffs)))"
      ],
      "metadata": {
        "id": "WnKISBTQsmhP"
      },
      "execution_count": 33,
      "outputs": []
    },
    {
      "cell_type": "code",
      "source": [
        "op = zz_cost_operator(n, edges)\n",
        "p = 2\n",
        "qc, gammas, betas = qaoa_ansatz(n, edges, p)"
      ],
      "metadata": {
        "id": "1zd8ZB_FsrGT"
      },
      "execution_count": 34,
      "outputs": []
    },
    {
      "cell_type": "code",
      "source": [
        "# ----- 3) Estimator로 기대에너지 최소화 -----\n",
        "estimator = Estimator()\n",
        "def energy(theta):\n",
        "    # theta = [γ_0..γ_{p-1}, β_0..β_{p-1}]\n",
        "    vals = list(theta[:p]) + list(theta[p:])\n",
        "    job = estimator.run([qc], [op], [vals])\n",
        "    return job.result().values[0]\n",
        "\n",
        "x0 = np.concatenate([0.8*np.ones(p), 0.3*np.ones(p)])  # 간단 초기값\n",
        "opt = COBYLA(maxiter=150, tol=1e-3)\n",
        "res = opt.minimize(energy, x0)\n",
        "print(\"optimal params:\", res.x, \"  energy:\", res.fun)"
      ],
      "metadata": {
        "colab": {
          "base_uri": "https://localhost:8080/"
        },
        "id": "nzuTlgPbsu5S",
        "outputId": "2c382dde-fa88-4304-883a-1cdb46a598ca"
      },
      "execution_count": 35,
      "outputs": [
        {
          "output_type": "stream",
          "name": "stderr",
          "text": [
            "/tmp/ipython-input-2248908488.py:2: DeprecationWarning: The class ``qiskit.primitives.estimator.Estimator`` is deprecated as of qiskit 1.2. It will be removed no earlier than 3 months after the release date. All implementations of the `BaseEstimatorV1` interface have been deprecated in favor of their V2 counterparts. The V2 alternative for the `Estimator` class is `StatevectorEstimator`.\n",
            "  estimator = Estimator()\n"
          ]
        },
        {
          "output_type": "stream",
          "name": "stdout",
          "text": [
            "optimal params: [1.21668217 1.59705214 0.15326875 1.38186983]   energy: -2.5837953038171104\n"
          ]
        }
      ]
    },
    {
      "cell_type": "code",
      "source": [
        "# ----- 4) 최적 파라미터로 샘플링해 최적 컷 찾기 -----\n",
        "# 비트스트링에서 컷값 계산\n",
        "def cut_value(bitstr: str, edges) -> float:\n",
        "    z = [int(b) for b in bitstr[::-1]]  # Qiskit 비트 순서 보정\n",
        "    total = 0.0\n",
        "    for (i, j, w) in edges:\n",
        "        total += w if z[i] != z[j] else 0.0\n",
        "    return total"
      ],
      "metadata": {
        "id": "qfLxC4qKszAM"
      },
      "execution_count": 36,
      "outputs": []
    },
    {
      "cell_type": "code",
      "source": [
        "from qiskit.compiler import transpile\n",
        "sampler = Sampler()\n",
        "bound = qc.assign_parameters(list(res.x[:p]) + list(res.x[p:]))\n",
        "# 측정 추가\n",
        "meas = bound.copy()\n",
        "meas.measure_all()\n",
        "# 샘플\n",
        "tqc = transpile(meas, optimization_level=1)\n",
        "shots = 2000\n",
        "pj = sampler.run(circuits=[tqc], parameter_values=[[]], shots=shots).result().quasi_dists[0]\n",
        "# 최고 컷 찾기\n",
        "best_str = max(pj.items(), key=lambda kv: cut_value(format(kv[0], f'0{n}b'), edges))[0]\n",
        "best_bitstr = format(best_str, f'0{n}b')\n",
        "best_cut = cut_value(best_bitstr, edges)\n",
        "print(\"best bitstring:\", best_bitstr, \"  best cut:\", best_cut)"
      ],
      "metadata": {
        "colab": {
          "base_uri": "https://localhost:8080/"
        },
        "id": "hevrI0pssXlG",
        "outputId": "eee21f05-da8c-4e4a-b9f7-c7c8351d705e"
      },
      "execution_count": 37,
      "outputs": [
        {
          "output_type": "stream",
          "name": "stdout",
          "text": [
            "best bitstring: 0101   best cut: 9.0\n"
          ]
        },
        {
          "output_type": "stream",
          "name": "stderr",
          "text": [
            "/tmp/ipython-input-2092284995.py:2: DeprecationWarning: The class ``qiskit.primitives.sampler.Sampler`` is deprecated as of qiskit 1.2. It will be removed no earlier than 3 months after the release date. All implementations of the `BaseSamplerV1` interface have been deprecated in favor of their V2 counterparts. The V2 alternative for the `Sampler` class is `StatevectorSampler`.\n",
            "  sampler = Sampler()\n"
          ]
        }
      ]
    }
  ]
}