{
  "nbformat": 4,
  "nbformat_minor": 0,
  "metadata": {
    "colab": {
      "provenance": [],
      "authorship_tag": "ABX9TyPBeERdMW7hKI4uJ57oykQJ",
      "include_colab_link": true
    },
    "kernelspec": {
      "name": "python3",
      "display_name": "Python 3"
    },
    "language_info": {
      "name": "python"
    }
  },
  "cells": [
    {
      "cell_type": "markdown",
      "metadata": {
        "id": "view-in-github",
        "colab_type": "text"
      },
      "source": [
        "<a href=\"https://colab.research.google.com/github/mkbahk/QuantumComputing/blob/main/%EC%96%91%EC%9E%90%EC%97%B0%EC%82%B0%EC%9A%94%EC%95%BD.ipynb\" target=\"_parent\"><img src=\"https://colab.research.google.com/assets/colab-badge.svg\" alt=\"Open In Colab\"/></a>"
      ]
    },
    {
      "cell_type": "code",
      "execution_count": 54,
      "metadata": {
        "colab": {
          "base_uri": "https://localhost:8080/",
          "height": 1000
        },
        "id": "RyHM7wyxp1ZH",
        "outputId": "eb1464c2-1025-4b72-9edc-220297ce69a2"
      },
      "outputs": [
        {
          "output_type": "stream",
          "name": "stdout",
          "text": [
            "Looking in indexes: https://pypi.org/simple, https://us-python.pkg.dev/colab-wheels/public/simple/\n",
            "Requirement already satisfied: qiskit[visualization] in /usr/local/lib/python3.10/dist-packages (0.42.1)\n",
            "Requirement already satisfied: qiskit-terra==0.23.3 in /usr/local/lib/python3.10/dist-packages (from qiskit[visualization]) (0.23.3)\n",
            "Requirement already satisfied: qiskit-ibmq-provider==0.20.2 in /usr/local/lib/python3.10/dist-packages (from qiskit[visualization]) (0.20.2)\n",
            "Requirement already satisfied: qiskit-aer==0.12.0 in /usr/local/lib/python3.10/dist-packages (from qiskit[visualization]) (0.12.0)\n",
            "Requirement already satisfied: pillow>=4.2.1 in /usr/local/lib/python3.10/dist-packages (from qiskit[visualization]) (8.4.0)\n",
            "Requirement already satisfied: ipywidgets>=7.3.0 in /usr/local/lib/python3.10/dist-packages (from qiskit[visualization]) (7.7.1)\n",
            "Requirement already satisfied: pydot in /usr/local/lib/python3.10/dist-packages (from qiskit[visualization]) (1.4.2)\n",
            "Requirement already satisfied: matplotlib>=2.1 in /usr/local/lib/python3.10/dist-packages (from qiskit[visualization]) (3.7.1)\n",
            "Requirement already satisfied: seaborn>=0.9.0 in /usr/local/lib/python3.10/dist-packages (from qiskit[visualization]) (0.12.2)\n",
            "Requirement already satisfied: pylatexenc>=1.4 in /usr/local/lib/python3.10/dist-packages (from qiskit[visualization]) (2.10)\n",
            "Requirement already satisfied: pygments>=2.4 in /usr/local/lib/python3.10/dist-packages (from qiskit[visualization]) (2.14.0)\n",
            "Requirement already satisfied: scipy>=1.0 in /usr/local/lib/python3.10/dist-packages (from qiskit-aer==0.12.0->qiskit[visualization]) (1.10.1)\n",
            "Requirement already satisfied: numpy>=1.16.3 in /usr/local/lib/python3.10/dist-packages (from qiskit-aer==0.12.0->qiskit[visualization]) (1.22.4)\n",
            "Requirement already satisfied: requests>=2.19 in /usr/local/lib/python3.10/dist-packages (from qiskit-ibmq-provider==0.20.2->qiskit[visualization]) (2.27.1)\n",
            "Requirement already satisfied: requests-ntlm<=1.1.0 in /usr/local/lib/python3.10/dist-packages (from qiskit-ibmq-provider==0.20.2->qiskit[visualization]) (1.1.0)\n",
            "Requirement already satisfied: python-dateutil>=2.8.0 in /usr/local/lib/python3.10/dist-packages (from qiskit-ibmq-provider==0.20.2->qiskit[visualization]) (2.8.2)\n",
            "Requirement already satisfied: urllib3>=1.21.1 in /usr/local/lib/python3.10/dist-packages (from qiskit-ibmq-provider==0.20.2->qiskit[visualization]) (1.26.15)\n",
            "Requirement already satisfied: websocket-client>=1.5.1 in /usr/local/lib/python3.10/dist-packages (from qiskit-ibmq-provider==0.20.2->qiskit[visualization]) (1.5.1)\n",
            "Requirement already satisfied: websockets>=10.0 in /usr/local/lib/python3.10/dist-packages (from qiskit-ibmq-provider==0.20.2->qiskit[visualization]) (11.0.2)\n",
            "Requirement already satisfied: sympy>=1.3 in /usr/local/lib/python3.10/dist-packages (from qiskit-terra==0.23.3->qiskit[visualization]) (1.11.1)\n",
            "Requirement already satisfied: dill>=0.3 in /usr/local/lib/python3.10/dist-packages (from qiskit-terra==0.23.3->qiskit[visualization]) (0.3.6)\n",
            "Requirement already satisfied: psutil>=5 in /usr/local/lib/python3.10/dist-packages (from qiskit-terra==0.23.3->qiskit[visualization]) (5.9.5)\n",
            "Requirement already satisfied: stevedore>=3.0.0 in /usr/local/lib/python3.10/dist-packages (from qiskit-terra==0.23.3->qiskit[visualization]) (5.0.0)\n",
            "Requirement already satisfied: ply>=3.10 in /usr/local/lib/python3.10/dist-packages (from qiskit-terra==0.23.3->qiskit[visualization]) (3.11)\n",
            "Requirement already satisfied: symengine>=0.9 in /usr/local/lib/python3.10/dist-packages (from qiskit-terra==0.23.3->qiskit[visualization]) (0.10.0)\n",
            "Requirement already satisfied: rustworkx>=0.12.0 in /usr/local/lib/python3.10/dist-packages (from qiskit-terra==0.23.3->qiskit[visualization]) (0.12.1)\n",
            "Requirement already satisfied: ipython-genutils~=0.2.0 in /usr/local/lib/python3.10/dist-packages (from ipywidgets>=7.3.0->qiskit[visualization]) (0.2.0)\n",
            "Requirement already satisfied: ipython>=4.0.0 in /usr/local/lib/python3.10/dist-packages (from ipywidgets>=7.3.0->qiskit[visualization]) (7.34.0)\n",
            "Requirement already satisfied: jupyterlab-widgets>=1.0.0 in /usr/local/lib/python3.10/dist-packages (from ipywidgets>=7.3.0->qiskit[visualization]) (3.0.7)\n",
            "Requirement already satisfied: traitlets>=4.3.1 in /usr/local/lib/python3.10/dist-packages (from ipywidgets>=7.3.0->qiskit[visualization]) (5.7.1)\n",
            "Requirement already satisfied: ipykernel>=4.5.1 in /usr/local/lib/python3.10/dist-packages (from ipywidgets>=7.3.0->qiskit[visualization]) (5.5.6)\n",
            "Requirement already satisfied: widgetsnbextension~=3.6.0 in /usr/local/lib/python3.10/dist-packages (from ipywidgets>=7.3.0->qiskit[visualization]) (3.6.4)\n",
            "Requirement already satisfied: packaging>=20.0 in /usr/local/lib/python3.10/dist-packages (from matplotlib>=2.1->qiskit[visualization]) (23.1)\n",
            "Requirement already satisfied: pyparsing>=2.3.1 in /usr/local/lib/python3.10/dist-packages (from matplotlib>=2.1->qiskit[visualization]) (3.0.9)\n",
            "Requirement already satisfied: contourpy>=1.0.1 in /usr/local/lib/python3.10/dist-packages (from matplotlib>=2.1->qiskit[visualization]) (1.0.7)\n",
            "Requirement already satisfied: kiwisolver>=1.0.1 in /usr/local/lib/python3.10/dist-packages (from matplotlib>=2.1->qiskit[visualization]) (1.4.4)\n",
            "Requirement already satisfied: fonttools>=4.22.0 in /usr/local/lib/python3.10/dist-packages (from matplotlib>=2.1->qiskit[visualization]) (4.39.3)\n",
            "Requirement already satisfied: cycler>=0.10 in /usr/local/lib/python3.10/dist-packages (from matplotlib>=2.1->qiskit[visualization]) (0.11.0)\n",
            "Requirement already satisfied: pandas>=0.25 in /usr/local/lib/python3.10/dist-packages (from seaborn>=0.9.0->qiskit[visualization]) (1.5.3)\n",
            "Requirement already satisfied: tornado>=4.2 in /usr/local/lib/python3.10/dist-packages (from ipykernel>=4.5.1->ipywidgets>=7.3.0->qiskit[visualization]) (6.2)\n",
            "Requirement already satisfied: jupyter-client in /usr/local/lib/python3.10/dist-packages (from ipykernel>=4.5.1->ipywidgets>=7.3.0->qiskit[visualization]) (6.1.12)\n",
            "Requirement already satisfied: jedi>=0.16 in /usr/local/lib/python3.10/dist-packages (from ipython>=4.0.0->ipywidgets>=7.3.0->qiskit[visualization]) (0.18.2)\n",
            "Requirement already satisfied: prompt-toolkit!=3.0.0,!=3.0.1,<3.1.0,>=2.0.0 in /usr/local/lib/python3.10/dist-packages (from ipython>=4.0.0->ipywidgets>=7.3.0->qiskit[visualization]) (3.0.38)\n",
            "Requirement already satisfied: pexpect>4.3 in /usr/local/lib/python3.10/dist-packages (from ipython>=4.0.0->ipywidgets>=7.3.0->qiskit[visualization]) (4.8.0)\n",
            "Requirement already satisfied: matplotlib-inline in /usr/local/lib/python3.10/dist-packages (from ipython>=4.0.0->ipywidgets>=7.3.0->qiskit[visualization]) (0.1.6)\n",
            "Requirement already satisfied: pickleshare in /usr/local/lib/python3.10/dist-packages (from ipython>=4.0.0->ipywidgets>=7.3.0->qiskit[visualization]) (0.7.5)\n",
            "Requirement already satisfied: setuptools>=18.5 in /usr/local/lib/python3.10/dist-packages (from ipython>=4.0.0->ipywidgets>=7.3.0->qiskit[visualization]) (67.7.2)\n",
            "Requirement already satisfied: backcall in /usr/local/lib/python3.10/dist-packages (from ipython>=4.0.0->ipywidgets>=7.3.0->qiskit[visualization]) (0.2.0)\n",
            "Requirement already satisfied: decorator in /usr/local/lib/python3.10/dist-packages (from ipython>=4.0.0->ipywidgets>=7.3.0->qiskit[visualization]) (4.4.2)\n",
            "Requirement already satisfied: pytz>=2020.1 in /usr/local/lib/python3.10/dist-packages (from pandas>=0.25->seaborn>=0.9.0->qiskit[visualization]) (2022.7.1)\n",
            "Requirement already satisfied: six>=1.5 in /usr/local/lib/python3.10/dist-packages (from python-dateutil>=2.8.0->qiskit-ibmq-provider==0.20.2->qiskit[visualization]) (1.16.0)\n",
            "Requirement already satisfied: idna<4,>=2.5 in /usr/local/lib/python3.10/dist-packages (from requests>=2.19->qiskit-ibmq-provider==0.20.2->qiskit[visualization]) (3.4)\n",
            "Requirement already satisfied: charset-normalizer~=2.0.0 in /usr/local/lib/python3.10/dist-packages (from requests>=2.19->qiskit-ibmq-provider==0.20.2->qiskit[visualization]) (2.0.12)\n",
            "Requirement already satisfied: certifi>=2017.4.17 in /usr/local/lib/python3.10/dist-packages (from requests>=2.19->qiskit-ibmq-provider==0.20.2->qiskit[visualization]) (2022.12.7)\n",
            "Requirement already satisfied: cryptography>=1.3 in /usr/local/lib/python3.10/dist-packages (from requests-ntlm<=1.1.0->qiskit-ibmq-provider==0.20.2->qiskit[visualization]) (40.0.2)\n",
            "Requirement already satisfied: ntlm-auth>=1.0.2 in /usr/local/lib/python3.10/dist-packages (from requests-ntlm<=1.1.0->qiskit-ibmq-provider==0.20.2->qiskit[visualization]) (1.5.0)\n",
            "Requirement already satisfied: pbr!=2.1.0,>=2.0.0 in /usr/local/lib/python3.10/dist-packages (from stevedore>=3.0.0->qiskit-terra==0.23.3->qiskit[visualization]) (5.11.1)\n",
            "Requirement already satisfied: mpmath>=0.19 in /usr/local/lib/python3.10/dist-packages (from sympy>=1.3->qiskit-terra==0.23.3->qiskit[visualization]) (1.3.0)\n",
            "Requirement already satisfied: notebook>=4.4.1 in /usr/local/lib/python3.10/dist-packages (from widgetsnbextension~=3.6.0->ipywidgets>=7.3.0->qiskit[visualization]) (6.4.8)\n",
            "Requirement already satisfied: cffi>=1.12 in /usr/local/lib/python3.10/dist-packages (from cryptography>=1.3->requests-ntlm<=1.1.0->qiskit-ibmq-provider==0.20.2->qiskit[visualization]) (1.15.1)\n",
            "Requirement already satisfied: parso<0.9.0,>=0.8.0 in /usr/local/lib/python3.10/dist-packages (from jedi>=0.16->ipython>=4.0.0->ipywidgets>=7.3.0->qiskit[visualization]) (0.8.3)\n",
            "Requirement already satisfied: argon2-cffi in /usr/local/lib/python3.10/dist-packages (from notebook>=4.4.1->widgetsnbextension~=3.6.0->ipywidgets>=7.3.0->qiskit[visualization]) (21.3.0)\n",
            "Requirement already satisfied: prometheus-client in /usr/local/lib/python3.10/dist-packages (from notebook>=4.4.1->widgetsnbextension~=3.6.0->ipywidgets>=7.3.0->qiskit[visualization]) (0.16.0)\n",
            "Requirement already satisfied: jupyter-core>=4.6.1 in /usr/local/lib/python3.10/dist-packages (from notebook>=4.4.1->widgetsnbextension~=3.6.0->ipywidgets>=7.3.0->qiskit[visualization]) (5.3.0)\n",
            "Requirement already satisfied: jinja2 in /usr/local/lib/python3.10/dist-packages (from notebook>=4.4.1->widgetsnbextension~=3.6.0->ipywidgets>=7.3.0->qiskit[visualization]) (3.1.2)\n",
            "Requirement already satisfied: nest-asyncio>=1.5 in /usr/local/lib/python3.10/dist-packages (from notebook>=4.4.1->widgetsnbextension~=3.6.0->ipywidgets>=7.3.0->qiskit[visualization]) (1.5.6)\n",
            "Requirement already satisfied: Send2Trash>=1.8.0 in /usr/local/lib/python3.10/dist-packages (from notebook>=4.4.1->widgetsnbextension~=3.6.0->ipywidgets>=7.3.0->qiskit[visualization]) (1.8.0)\n",
            "Requirement already satisfied: nbconvert in /usr/local/lib/python3.10/dist-packages (from notebook>=4.4.1->widgetsnbextension~=3.6.0->ipywidgets>=7.3.0->qiskit[visualization]) (6.5.4)\n",
            "Requirement already satisfied: nbformat in /usr/local/lib/python3.10/dist-packages (from notebook>=4.4.1->widgetsnbextension~=3.6.0->ipywidgets>=7.3.0->qiskit[visualization]) (5.8.0)\n",
            "Requirement already satisfied: pyzmq>=17 in /usr/local/lib/python3.10/dist-packages (from notebook>=4.4.1->widgetsnbextension~=3.6.0->ipywidgets>=7.3.0->qiskit[visualization]) (23.2.1)\n",
            "Requirement already satisfied: terminado>=0.8.3 in /usr/local/lib/python3.10/dist-packages (from notebook>=4.4.1->widgetsnbextension~=3.6.0->ipywidgets>=7.3.0->qiskit[visualization]) (0.17.1)\n",
            "Requirement already satisfied: ptyprocess>=0.5 in /usr/local/lib/python3.10/dist-packages (from pexpect>4.3->ipython>=4.0.0->ipywidgets>=7.3.0->qiskit[visualization]) (0.7.0)\n",
            "Requirement already satisfied: wcwidth in /usr/local/lib/python3.10/dist-packages (from prompt-toolkit!=3.0.0,!=3.0.1,<3.1.0,>=2.0.0->ipython>=4.0.0->ipywidgets>=7.3.0->qiskit[visualization]) (0.2.6)\n",
            "Requirement already satisfied: pycparser in /usr/local/lib/python3.10/dist-packages (from cffi>=1.12->cryptography>=1.3->requests-ntlm<=1.1.0->qiskit-ibmq-provider==0.20.2->qiskit[visualization]) (2.21)\n",
            "Requirement already satisfied: platformdirs>=2.5 in /usr/local/lib/python3.10/dist-packages (from jupyter-core>=4.6.1->notebook>=4.4.1->widgetsnbextension~=3.6.0->ipywidgets>=7.3.0->qiskit[visualization]) (3.3.0)\n",
            "Requirement already satisfied: argon2-cffi-bindings in /usr/local/lib/python3.10/dist-packages (from argon2-cffi->notebook>=4.4.1->widgetsnbextension~=3.6.0->ipywidgets>=7.3.0->qiskit[visualization]) (21.2.0)\n",
            "Requirement already satisfied: MarkupSafe>=2.0 in /usr/local/lib/python3.10/dist-packages (from jinja2->notebook>=4.4.1->widgetsnbextension~=3.6.0->ipywidgets>=7.3.0->qiskit[visualization]) (2.1.2)\n",
            "Requirement already satisfied: nbclient>=0.5.0 in /usr/local/lib/python3.10/dist-packages (from nbconvert->notebook>=4.4.1->widgetsnbextension~=3.6.0->ipywidgets>=7.3.0->qiskit[visualization]) (0.7.4)\n",
            "Requirement already satisfied: lxml in /usr/local/lib/python3.10/dist-packages (from nbconvert->notebook>=4.4.1->widgetsnbextension~=3.6.0->ipywidgets>=7.3.0->qiskit[visualization]) (4.9.2)\n",
            "Requirement already satisfied: defusedxml in /usr/local/lib/python3.10/dist-packages (from nbconvert->notebook>=4.4.1->widgetsnbextension~=3.6.0->ipywidgets>=7.3.0->qiskit[visualization]) (0.7.1)\n",
            "Requirement already satisfied: bleach in /usr/local/lib/python3.10/dist-packages (from nbconvert->notebook>=4.4.1->widgetsnbextension~=3.6.0->ipywidgets>=7.3.0->qiskit[visualization]) (6.0.0)\n",
            "Requirement already satisfied: pandocfilters>=1.4.1 in /usr/local/lib/python3.10/dist-packages (from nbconvert->notebook>=4.4.1->widgetsnbextension~=3.6.0->ipywidgets>=7.3.0->qiskit[visualization]) (1.5.0)\n",
            "Requirement already satisfied: jupyterlab-pygments in /usr/local/lib/python3.10/dist-packages (from nbconvert->notebook>=4.4.1->widgetsnbextension~=3.6.0->ipywidgets>=7.3.0->qiskit[visualization]) (0.2.2)\n",
            "Requirement already satisfied: tinycss2 in /usr/local/lib/python3.10/dist-packages (from nbconvert->notebook>=4.4.1->widgetsnbextension~=3.6.0->ipywidgets>=7.3.0->qiskit[visualization]) (1.2.1)\n",
            "Requirement already satisfied: beautifulsoup4 in /usr/local/lib/python3.10/dist-packages (from nbconvert->notebook>=4.4.1->widgetsnbextension~=3.6.0->ipywidgets>=7.3.0->qiskit[visualization]) (4.11.2)\n",
            "Requirement already satisfied: entrypoints>=0.2.2 in /usr/local/lib/python3.10/dist-packages (from nbconvert->notebook>=4.4.1->widgetsnbextension~=3.6.0->ipywidgets>=7.3.0->qiskit[visualization]) (0.4)\n",
            "Requirement already satisfied: mistune<2,>=0.8.1 in /usr/local/lib/python3.10/dist-packages (from nbconvert->notebook>=4.4.1->widgetsnbextension~=3.6.0->ipywidgets>=7.3.0->qiskit[visualization]) (0.8.4)\n",
            "Requirement already satisfied: jsonschema>=2.6 in /usr/local/lib/python3.10/dist-packages (from nbformat->notebook>=4.4.1->widgetsnbextension~=3.6.0->ipywidgets>=7.3.0->qiskit[visualization]) (4.3.3)\n",
            "Requirement already satisfied: fastjsonschema in /usr/local/lib/python3.10/dist-packages (from nbformat->notebook>=4.4.1->widgetsnbextension~=3.6.0->ipywidgets>=7.3.0->qiskit[visualization]) (2.16.3)\n",
            "Requirement already satisfied: attrs>=17.4.0 in /usr/local/lib/python3.10/dist-packages (from jsonschema>=2.6->nbformat->notebook>=4.4.1->widgetsnbextension~=3.6.0->ipywidgets>=7.3.0->qiskit[visualization]) (23.1.0)\n",
            "Requirement already satisfied: pyrsistent!=0.17.0,!=0.17.1,!=0.17.2,>=0.14.0 in /usr/local/lib/python3.10/dist-packages (from jsonschema>=2.6->nbformat->notebook>=4.4.1->widgetsnbextension~=3.6.0->ipywidgets>=7.3.0->qiskit[visualization]) (0.19.3)\n",
            "Requirement already satisfied: soupsieve>1.2 in /usr/local/lib/python3.10/dist-packages (from beautifulsoup4->nbconvert->notebook>=4.4.1->widgetsnbextension~=3.6.0->ipywidgets>=7.3.0->qiskit[visualization]) (2.4.1)\n",
            "Requirement already satisfied: webencodings in /usr/local/lib/python3.10/dist-packages (from bleach->nbconvert->notebook>=4.4.1->widgetsnbextension~=3.6.0->ipywidgets>=7.3.0->qiskit[visualization]) (0.5.1)\n"
          ]
        },
        {
          "output_type": "display_data",
          "data": {
            "text/plain": [
              "<IPython.core.display.HTML object>"
            ],
            "text/html": [
              "<h3>Version Information</h3><table><tr><th>Qiskit Software</th><th>Version</th></tr><tr><td><code>qiskit-terra</code></td><td>0.23.3</td></tr><tr><td><code>qiskit-aer</code></td><td>0.12.0</td></tr><tr><td><code>qiskit-ibmq-provider</code></td><td>0.20.2</td></tr><tr><td><code>qiskit</code></td><td>0.42.1</td></tr><tr><th>System information</th></tr><tr><td>Python version</td><td>3.10.11</td></tr><tr><td>Python compiler</td><td>GCC 9.4.0</td></tr><tr><td>Python build</td><td>main, Apr  5 2023 14:15:10</td></tr><tr><td>OS</td><td>Linux</td></tr><tr><td>CPUs</td><td>1</td></tr><tr><td>Memory (Gb)</td><td>12.681190490722656</td></tr><tr><td colspan='2'>Wed May 03 02:21:21 2023 UTC</td></tr></table>"
            ]
          },
          "metadata": {}
        },
        {
          "output_type": "display_data",
          "data": {
            "text/plain": [
              "<IPython.core.display.HTML object>"
            ],
            "text/html": [
              "<div style='width: 100%; background-color:#d5d9e0;padding-left: 10px; padding-bottom: 10px; padding-right: 10px; padding-top: 5px'><h3>This code is a part of Qiskit</h3><p>&copy; Copyright IBM 2017, 2023.</p><p>This code is licensed under the Apache License, Version 2.0. You may<br>obtain a copy of this license in the LICENSE.txt file in the root directory<br> of this source tree or at http://www.apache.org/licenses/LICENSE-2.0.<p>Any modifications or derivative works of this code must retain this<br>copyright notice, and modified files need to carry a notice indicating<br>that they have been altered from the originals.</p></div>"
            ]
          },
          "metadata": {}
        }
      ],
      "source": [
        "!python3 -m pip install qiskit[visualization]\n",
        "import qiskit.tools.jupyter\n",
        "%qiskit_version_table\n",
        "%qiskit_copyright"
      ]
    },
    {
      "cell_type": "markdown",
      "source": [
        "**양자 연산 요약**"
      ],
      "metadata": {
        "id": "ZkBkm3HdqHW4"
      }
    },
    {
      "cell_type": "code",
      "source": [
        "# Useful additional packages\n",
        "import matplotlib.pyplot as plt\n",
        "import numpy as np\n",
        "from math import pi"
      ],
      "metadata": {
        "id": "WsEY5w07qLDV"
      },
      "execution_count": 55,
      "outputs": []
    },
    {
      "cell_type": "code",
      "source": [
        "from qiskit import QuantumCircuit, ClassicalRegister, QuantumRegister, transpile\n",
        "from qiskit.tools.visualization import circuit_drawer\n",
        "from qiskit.quantum_info import state_fidelity\n",
        "from qiskit import BasicAer\n",
        "\n",
        "backend = BasicAer.get_backend(name='unitary_simulator')"
      ],
      "metadata": {
        "id": "-o5Yql9lqd7N"
      },
      "execution_count": 56,
      "outputs": []
    },
    {
      "cell_type": "markdown",
      "source": [
        "**단일 큐빗 게이트**\n",
        "\n",
        "\n",
        "* U 게이트\n",
        "* P 게이트\n",
        "* Identity 게이트\n",
        "* Pauli 게이트\n",
        "* Clifford 게이트\n",
        "* C3 게이트 \n",
        "* 표준 회전(Standard rotation) 게이트"
      ],
      "metadata": {
        "id": "JY1eb4hhs6iE"
      }
    },
    {
      "cell_type": "code",
      "source": [
        "q = QuantumRegister(size=1)"
      ],
      "metadata": {
        "id": "3J14Z6bwtVTb"
      },
      "execution_count": 57,
      "outputs": []
    },
    {
      "cell_type": "markdown",
      "source": [
        "**U 게이트**"
      ],
      "metadata": {
        "id": "Ft4eh4bKtw4o"
      }
    },
    {
      "cell_type": "code",
      "source": [
        "qc = QuantumCircuit(q)\n",
        "qc.u(pi/2, pi/4, pi/8, q)\n",
        "qc.draw()"
      ],
      "metadata": {
        "colab": {
          "base_uri": "https://localhost:8080/",
          "height": 63
        },
        "id": "NJ69DNDCtdTP",
        "outputId": "b48b4cad-c0d7-435c-a0ba-b5916f018cca"
      },
      "execution_count": 58,
      "outputs": [
        {
          "output_type": "execute_result",
          "data": {
            "text/plain": [
              "     ┌────────────────┐\n",
              "q19: ┤ U(π/2,π/4,π/8) ├\n",
              "     └────────────────┘"
            ],
            "text/html": [
              "<pre style=\"word-wrap: normal;white-space: pre;background: #fff0;line-height: 1.1;font-family: &quot;Courier New&quot;,Courier,monospace\">     ┌────────────────┐\n",
              "q19: ┤ U(π/2,π/4,π/8) ├\n",
              "     └────────────────┘</pre>"
            ]
          },
          "metadata": {},
          "execution_count": 58
        }
      ]
    },
    {
      "cell_type": "code",
      "source": [
        "job = backend.run(qobj=transpile(circuits=qc, backend=backend))\n",
        "job.result().get_unitary(qc, decimals=3)"
      ],
      "metadata": {
        "colab": {
          "base_uri": "https://localhost:8080/"
        },
        "id": "M8zP20oruKJh",
        "outputId": "87608ab6-87be-4de9-80cc-ee0907a3fef8"
      },
      "execution_count": 59,
      "outputs": [
        {
          "output_type": "execute_result",
          "data": {
            "text/plain": [
              "array([[ 0.707+0.j   , -0.653-0.271j],\n",
              "       [ 0.5  +0.5j  ,  0.271+0.653j]])"
            ]
          },
          "metadata": {},
          "execution_count": 59
        }
      ]
    },
    {
      "cell_type": "code",
      "source": [
        "# qc.u1(lambda) is now:\n",
        "#qc.p(lambda)\n",
        "\n",
        "# qc.u2(phi, lambda) is now:\n",
        "#qc.u(pi/2, phi, lambda)\n",
        "\n",
        "# qc.u3(theta, phi, lambda) is now:\n",
        "#qc.u(theta, phi, lambda)"
      ],
      "metadata": {
        "id": "yRcqG5EuvLrb"
      },
      "execution_count": 60,
      "outputs": []
    },
    {
      "cell_type": "markdown",
      "source": [
        "**P 게이트**"
      ],
      "metadata": {
        "id": "vnuE2Ad2wgMb"
      }
    },
    {
      "cell_type": "code",
      "source": [
        "qc = QuantumCircuit(q)\n",
        "qc.p(theta=pi/2, qubit=q)\n",
        "qc.draw()"
      ],
      "metadata": {
        "colab": {
          "base_uri": "https://localhost:8080/",
          "height": 63
        },
        "id": "8dQ_zWmCvqnn",
        "outputId": "0e9f99d2-0ef2-4e87-9ad1-27d6c6817737"
      },
      "execution_count": 61,
      "outputs": [
        {
          "output_type": "execute_result",
          "data": {
            "text/plain": [
              "     ┌────────┐\n",
              "q19: ┤ P(π/2) ├\n",
              "     └────────┘"
            ],
            "text/html": [
              "<pre style=\"word-wrap: normal;white-space: pre;background: #fff0;line-height: 1.1;font-family: &quot;Courier New&quot;,Courier,monospace\">     ┌────────┐\n",
              "q19: ┤ P(π/2) ├\n",
              "     └────────┘</pre>"
            ]
          },
          "metadata": {},
          "execution_count": 61
        }
      ]
    },
    {
      "cell_type": "code",
      "source": [
        "job = backend.run(qobj=transpile(circuits=qc, backend=backend))\n",
        "job.result().get_unitary(qc, decimals=3)"
      ],
      "metadata": {
        "colab": {
          "base_uri": "https://localhost:8080/"
        },
        "id": "zQw2jXZ2w3t5",
        "outputId": "c588afe7-1197-4a39-ffcb-cc0923e4480f"
      },
      "execution_count": 62,
      "outputs": [
        {
          "output_type": "execute_result",
          "data": {
            "text/plain": [
              "array([[1.+0.j, 0.+0.j],\n",
              "       [0.+0.j, 0.+1.j]])"
            ]
          },
          "metadata": {},
          "execution_count": 62
        }
      ]
    },
    {
      "cell_type": "markdown",
      "source": [
        "**항등(identity) 게이트**"
      ],
      "metadata": {
        "id": "57yzpMi9xtcH"
      }
    },
    {
      "cell_type": "code",
      "source": [
        "qc = QuantumCircuit(q)\n",
        "qc.id(qubit=q)\n",
        "qc.draw()"
      ],
      "metadata": {
        "colab": {
          "base_uri": "https://localhost:8080/",
          "height": 63
        },
        "id": "nUmk4FxbxjhQ",
        "outputId": "3ec40275-ce19-4795-a4cb-5a9e4445f5b5"
      },
      "execution_count": 63,
      "outputs": [
        {
          "output_type": "execute_result",
          "data": {
            "text/plain": [
              "     ┌───┐\n",
              "q19: ┤ I ├\n",
              "     └───┘"
            ],
            "text/html": [
              "<pre style=\"word-wrap: normal;white-space: pre;background: #fff0;line-height: 1.1;font-family: &quot;Courier New&quot;,Courier,monospace\">     ┌───┐\n",
              "q19: ┤ I ├\n",
              "     └───┘</pre>"
            ]
          },
          "metadata": {},
          "execution_count": 63
        }
      ]
    },
    {
      "cell_type": "code",
      "source": [
        "job = backend.run(qobj=transpile(circuits=qc, backend=backend))\n",
        "job.result().get_unitary(qc, decimals=3)"
      ],
      "metadata": {
        "colab": {
          "base_uri": "https://localhost:8080/"
        },
        "id": "aK-MgQ9dx9vC",
        "outputId": "1b3d56c5-30d2-4167-e591-a740874609c5"
      },
      "execution_count": 64,
      "outputs": [
        {
          "output_type": "execute_result",
          "data": {
            "text/plain": [
              "array([[1.+0.j, 0.+0.j],\n",
              "       [0.+0.j, 1.+0.j]])"
            ]
          },
          "metadata": {},
          "execution_count": 64
        }
      ]
    },
    {
      "cell_type": "markdown",
      "source": [
        "**파울리(Pauli) 게이트**\n",
        "X: 비트 플립 게이트"
      ],
      "metadata": {
        "id": "C-pa10epyLji"
      }
    },
    {
      "cell_type": "code",
      "source": [
        "qc = QuantumCircuit(q)\n",
        "qc.x(qubit=q)\n",
        "qc.draw()"
      ],
      "metadata": {
        "colab": {
          "base_uri": "https://localhost:8080/",
          "height": 63
        },
        "id": "J6SqdxClyFwb",
        "outputId": "e9b37641-03ed-4453-f4e6-0ef978159115"
      },
      "execution_count": 65,
      "outputs": [
        {
          "output_type": "execute_result",
          "data": {
            "text/plain": [
              "     ┌───┐\n",
              "q19: ┤ X ├\n",
              "     └───┘"
            ],
            "text/html": [
              "<pre style=\"word-wrap: normal;white-space: pre;background: #fff0;line-height: 1.1;font-family: &quot;Courier New&quot;,Courier,monospace\">     ┌───┐\n",
              "q19: ┤ X ├\n",
              "     └───┘</pre>"
            ]
          },
          "metadata": {},
          "execution_count": 65
        }
      ]
    },
    {
      "cell_type": "code",
      "source": [
        "job = backend.run(qobj=transpile(circuits=qc, backend=backend))\n",
        "job.result().get_unitary(qc, decimals=3)"
      ],
      "metadata": {
        "colab": {
          "base_uri": "https://localhost:8080/"
        },
        "id": "AvD7K1Qnyg_k",
        "outputId": "f1e38590-4923-432d-b791-75bfd4f7324f"
      },
      "execution_count": 66,
      "outputs": [
        {
          "output_type": "execute_result",
          "data": {
            "text/plain": [
              "array([[0.+0.j, 1.+0.j],\n",
              "       [1.+0.j, 0.+0.j]])"
            ]
          },
          "metadata": {},
          "execution_count": 66
        }
      ]
    },
    {
      "cell_type": "markdown",
      "source": [
        "Y: 비트와 위상 플립 게이트"
      ],
      "metadata": {
        "id": "wu-tl1tPy0XH"
      }
    },
    {
      "cell_type": "code",
      "source": [
        "qc = QuantumCircuit(q)\n",
        "qc.y(qubit=q)\n",
        "qc.draw()"
      ],
      "metadata": {
        "colab": {
          "base_uri": "https://localhost:8080/",
          "height": 63
        },
        "id": "GNKt8OY4yvHg",
        "outputId": "1c25c8c1-e3f1-406d-d307-73e20de47455"
      },
      "execution_count": 67,
      "outputs": [
        {
          "output_type": "execute_result",
          "data": {
            "text/plain": [
              "     ┌───┐\n",
              "q19: ┤ Y ├\n",
              "     └───┘"
            ],
            "text/html": [
              "<pre style=\"word-wrap: normal;white-space: pre;background: #fff0;line-height: 1.1;font-family: &quot;Courier New&quot;,Courier,monospace\">     ┌───┐\n",
              "q19: ┤ Y ├\n",
              "     └───┘</pre>"
            ]
          },
          "metadata": {},
          "execution_count": 67
        }
      ]
    },
    {
      "cell_type": "code",
      "source": [
        "job = backend.run(qobj=transpile(circuits=qc, backend=backend))\n",
        "job.result().get_unitary(qc, decimals=3)"
      ],
      "metadata": {
        "colab": {
          "base_uri": "https://localhost:8080/"
        },
        "id": "xl1RrwjwzQJP",
        "outputId": "44e95bab-47f9-4343-8ec8-3dc6e2bbb875"
      },
      "execution_count": 68,
      "outputs": [
        {
          "output_type": "execute_result",
          "data": {
            "text/plain": [
              "array([[ 0.+0.j, -0.-1.j],\n",
              "       [ 0.+1.j,  0.+0.j]])"
            ]
          },
          "metadata": {},
          "execution_count": 68
        }
      ]
    },
    {
      "cell_type": "markdown",
      "source": [
        "**Z: 위상 플립 게이트**"
      ],
      "metadata": {
        "id": "KOePPaxIzZPx"
      }
    },
    {
      "cell_type": "code",
      "source": [
        "qc = QuantumCircuit(q)\n",
        "qc.z(qubit=q)\n",
        "qc.draw()"
      ],
      "metadata": {
        "colab": {
          "base_uri": "https://localhost:8080/",
          "height": 63
        },
        "id": "YjPZRTt8zUZ7",
        "outputId": "da52f189-7deb-4e7d-83ea-b578c74b749d"
      },
      "execution_count": 69,
      "outputs": [
        {
          "output_type": "execute_result",
          "data": {
            "text/plain": [
              "     ┌───┐\n",
              "q19: ┤ Z ├\n",
              "     └───┘"
            ],
            "text/html": [
              "<pre style=\"word-wrap: normal;white-space: pre;background: #fff0;line-height: 1.1;font-family: &quot;Courier New&quot;,Courier,monospace\">     ┌───┐\n",
              "q19: ┤ Z ├\n",
              "     └───┘</pre>"
            ]
          },
          "metadata": {},
          "execution_count": 69
        }
      ]
    },
    {
      "cell_type": "code",
      "source": [
        "job = backend.run(qobj=transpile(circuits=qc, backend=backend))\n",
        "job.result().get_unitary(qc, decimals=3)"
      ],
      "metadata": {
        "colab": {
          "base_uri": "https://localhost:8080/"
        },
        "id": "9H4ML00Dzykp",
        "outputId": "a44a930e-9604-4afb-b0bd-0c5c2afb556b"
      },
      "execution_count": 70,
      "outputs": [
        {
          "output_type": "execute_result",
          "data": {
            "text/plain": [
              "array([[ 1.+0.j,  0.+0.j],\n",
              "       [ 0.+0.j, -1.+0.j]])"
            ]
          },
          "metadata": {},
          "execution_count": 70
        }
      ]
    },
    {
      "cell_type": "markdown",
      "source": [
        "**클리포드(Clifford) 게이트**\n",
        "\n",
        "하다마드(Hadamard) 게이트"
      ],
      "metadata": {
        "id": "GhJrad2Kz6tA"
      }
    },
    {
      "cell_type": "code",
      "source": [
        "qc = QuantumCircuit(q)\n",
        "qc.h(qubit=q)\n",
        "qc.draw()"
      ],
      "metadata": {
        "colab": {
          "base_uri": "https://localhost:8080/",
          "height": 63
        },
        "id": "td29G_3Mz0g6",
        "outputId": "9efe99c4-9044-483c-a865-870c21c683a5"
      },
      "execution_count": 71,
      "outputs": [
        {
          "output_type": "execute_result",
          "data": {
            "text/plain": [
              "     ┌───┐\n",
              "q19: ┤ H ├\n",
              "     └───┘"
            ],
            "text/html": [
              "<pre style=\"word-wrap: normal;white-space: pre;background: #fff0;line-height: 1.1;font-family: &quot;Courier New&quot;,Courier,monospace\">     ┌───┐\n",
              "q19: ┤ H ├\n",
              "     └───┘</pre>"
            ]
          },
          "metadata": {},
          "execution_count": 71
        }
      ]
    },
    {
      "cell_type": "code",
      "source": [
        "job = backend.run(qobj=transpile(circuits=qc, backend=backend))\n",
        "job.result().get_unitary(qc, decimals=3)"
      ],
      "metadata": {
        "colab": {
          "base_uri": "https://localhost:8080/"
        },
        "id": "giL9BkCU0b-T",
        "outputId": "597c5cb7-b2f2-4400-cb5f-42cb12ee416c"
      },
      "execution_count": 72,
      "outputs": [
        {
          "output_type": "execute_result",
          "data": {
            "text/plain": [
              "array([[ 0.707+0.j,  0.707-0.j],\n",
              "       [ 0.707+0.j, -0.707+0.j]])"
            ]
          },
          "metadata": {},
          "execution_count": 72
        }
      ]
    },
    {
      "cell_type": "markdown",
      "source": [
        "**S(or, root(Z)위상) 게이트**"
      ],
      "metadata": {
        "id": "NROG96AG0q4t"
      }
    },
    {
      "cell_type": "code",
      "source": [
        "qc = QuantumCircuit(q)\n",
        "qc.s(qubit=q)\n",
        "qc.draw()"
      ],
      "metadata": {
        "colab": {
          "base_uri": "https://localhost:8080/",
          "height": 63
        },
        "id": "Cz_pzg2z0eJ6",
        "outputId": "ea3b2371-c7f3-49ce-f478-ea341b693838"
      },
      "execution_count": 73,
      "outputs": [
        {
          "output_type": "execute_result",
          "data": {
            "text/plain": [
              "     ┌───┐\n",
              "q19: ┤ S ├\n",
              "     └───┘"
            ],
            "text/html": [
              "<pre style=\"word-wrap: normal;white-space: pre;background: #fff0;line-height: 1.1;font-family: &quot;Courier New&quot;,Courier,monospace\">     ┌───┐\n",
              "q19: ┤ S ├\n",
              "     └───┘</pre>"
            ]
          },
          "metadata": {},
          "execution_count": 73
        }
      ]
    },
    {
      "cell_type": "code",
      "source": [
        "job = backend.run(qobj=transpile(circuits=qc, backend=backend))\n",
        "job.result().get_unitary(qc, decimals=3)"
      ],
      "metadata": {
        "colab": {
          "base_uri": "https://localhost:8080/"
        },
        "id": "QHjckkBh0_Jj",
        "outputId": "03068c38-a5c1-4b1b-b5db-ff02e475a21b"
      },
      "execution_count": 74,
      "outputs": [
        {
          "output_type": "execute_result",
          "data": {
            "text/plain": [
              "array([[1.+0.j, 0.+0.j],\n",
              "       [0.+0.j, 0.+1.j]])"
            ]
          },
          "metadata": {},
          "execution_count": 74
        }
      ]
    },
    {
      "cell_type": "markdown",
      "source": [
        "![스크린샷 2023-05-03 오전 8.38.43.png](data:image/png;base64,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)"
      ],
      "metadata": {
        "id": "JRTEy5hK1Pz0"
      }
    },
    {
      "cell_type": "code",
      "source": [
        "qc = QuantumCircuit(q)\n",
        "qc.sdg(q)\n",
        "qc.draw()"
      ],
      "metadata": {
        "colab": {
          "base_uri": "https://localhost:8080/",
          "height": 63
        },
        "id": "QzV8dWOt1E51",
        "outputId": "e17f8b70-aa52-4c7f-e996-4ad29b7fe8c0"
      },
      "execution_count": 75,
      "outputs": [
        {
          "output_type": "execute_result",
          "data": {
            "text/plain": [
              "     ┌─────┐\n",
              "q19: ┤ Sdg ├\n",
              "     └─────┘"
            ],
            "text/html": [
              "<pre style=\"word-wrap: normal;white-space: pre;background: #fff0;line-height: 1.1;font-family: &quot;Courier New&quot;,Courier,monospace\">     ┌─────┐\n",
              "q19: ┤ Sdg ├\n",
              "     └─────┘</pre>"
            ]
          },
          "metadata": {},
          "execution_count": 75
        }
      ]
    },
    {
      "cell_type": "code",
      "source": [
        "job = backend.run(qobj=transpile(circuits=qc, backend=backend))\n",
        "job.result().get_unitary(qc, decimals=3)"
      ],
      "metadata": {
        "colab": {
          "base_uri": "https://localhost:8080/"
        },
        "id": "ujO9J5d11m5l",
        "outputId": "1b1ff707-8f41-4f13-a04b-f3929c6d7c5d"
      },
      "execution_count": 76,
      "outputs": [
        {
          "output_type": "execute_result",
          "data": {
            "text/plain": [
              "array([[1.+0.j, 0.+0.j],\n",
              "       [0.+0.j, 0.-1.j]])"
            ]
          },
          "metadata": {},
          "execution_count": 76
        }
      ]
    },
    {
      "cell_type": "markdown",
      "source": [
        "![스크린샷 2023-05-03 오전 8.40.39.png](data:image/png;base64,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)"
      ],
      "metadata": {
        "id": "cdapvlMq1tDw"
      }
    },
    {
      "cell_type": "code",
      "source": [
        "qc = QuantumCircuit(q)\n",
        "qc.t(qubit=q)\n",
        "qc.draw()"
      ],
      "metadata": {
        "colab": {
          "base_uri": "https://localhost:8080/",
          "height": 63
        },
        "id": "v99IA3Bl1pla",
        "outputId": "19edc6fa-27f0-4fef-faf6-435e4b4269e4"
      },
      "execution_count": 77,
      "outputs": [
        {
          "output_type": "execute_result",
          "data": {
            "text/plain": [
              "     ┌───┐\n",
              "q19: ┤ T ├\n",
              "     └───┘"
            ],
            "text/html": [
              "<pre style=\"word-wrap: normal;white-space: pre;background: #fff0;line-height: 1.1;font-family: &quot;Courier New&quot;,Courier,monospace\">     ┌───┐\n",
              "q19: ┤ T ├\n",
              "     └───┘</pre>"
            ]
          },
          "metadata": {},
          "execution_count": 77
        }
      ]
    },
    {
      "cell_type": "code",
      "source": [
        "job = backend.run(qobj=transpile(circuits=qc, backend=backend))\n",
        "job.result().get_unitary(qc, decimals=3)"
      ],
      "metadata": {
        "colab": {
          "base_uri": "https://localhost:8080/"
        },
        "id": "DhjBVCnr43T0",
        "outputId": "eeb6f01c-ee13-4fd8-83ca-16618717f0bb"
      },
      "execution_count": 78,
      "outputs": [
        {
          "output_type": "execute_result",
          "data": {
            "text/plain": [
              "array([[1.   +0.j   , 0.   +0.j   ],\n",
              "       [0.   +0.j   , 0.707+0.707j]])"
            ]
          },
          "metadata": {},
          "execution_count": 78
        }
      ]
    },
    {
      "cell_type": "markdown",
      "source": [
        "![스크린샷 2023-05-03 오전 8.54.55.png](data:image/png;base64,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)"
      ],
      "metadata": {
        "id": "eYd5TuCj49ov"
      }
    },
    {
      "cell_type": "code",
      "source": [
        "qc = QuantumCircuit(q)\n",
        "qc.tdg(qubit=q)\n",
        "qc.draw()"
      ],
      "metadata": {
        "colab": {
          "base_uri": "https://localhost:8080/",
          "height": 63
        },
        "id": "XZLwXnVe45xr",
        "outputId": "32c28767-7a5a-469d-caac-6cc99f683791"
      },
      "execution_count": 79,
      "outputs": [
        {
          "output_type": "execute_result",
          "data": {
            "text/plain": [
              "     ┌─────┐\n",
              "q19: ┤ Tdg ├\n",
              "     └─────┘"
            ],
            "text/html": [
              "<pre style=\"word-wrap: normal;white-space: pre;background: #fff0;line-height: 1.1;font-family: &quot;Courier New&quot;,Courier,monospace\">     ┌─────┐\n",
              "q19: ┤ Tdg ├\n",
              "     └─────┘</pre>"
            ]
          },
          "metadata": {},
          "execution_count": 79
        }
      ]
    },
    {
      "cell_type": "code",
      "source": [
        "job = backend.run(qobj=transpile(circuits=qc, backend=backend))\n",
        "job.result().get_unitary(qc, decimals=3)"
      ],
      "metadata": {
        "colab": {
          "base_uri": "https://localhost:8080/"
        },
        "id": "nnOEwZNpBMTP",
        "outputId": "c8d79e9d-b5f3-4967-ab56-599bd9457914"
      },
      "execution_count": 80,
      "outputs": [
        {
          "output_type": "execute_result",
          "data": {
            "text/plain": [
              "array([[1.   +0.j   , 0.   +0.j   ],\n",
              "       [0.   +0.j   , 0.707-0.707j]])"
            ]
          },
          "metadata": {},
          "execution_count": 80
        }
      ]
    },
    {
      "cell_type": "markdown",
      "source": [
        "**표준회전**\n",
        "\n",
        "X축에 관한 회전"
      ],
      "metadata": {
        "id": "8TPA2c31BTGs"
      }
    },
    {
      "cell_type": "code",
      "source": [
        "qc = QuantumCircuit(q)\n",
        "qc.rx(theta=pi/2, qubit=q)\n",
        "qc.draw()"
      ],
      "metadata": {
        "colab": {
          "base_uri": "https://localhost:8080/",
          "height": 63
        },
        "id": "gwYA07GxBPW6",
        "outputId": "60e8ef78-c073-4818-d984-148f5482456a"
      },
      "execution_count": 81,
      "outputs": [
        {
          "output_type": "execute_result",
          "data": {
            "text/plain": [
              "     ┌─────────┐\n",
              "q19: ┤ Rx(π/2) ├\n",
              "     └─────────┘"
            ],
            "text/html": [
              "<pre style=\"word-wrap: normal;white-space: pre;background: #fff0;line-height: 1.1;font-family: &quot;Courier New&quot;,Courier,monospace\">     ┌─────────┐\n",
              "q19: ┤ Rx(π/2) ├\n",
              "     └─────────┘</pre>"
            ]
          },
          "metadata": {},
          "execution_count": 81
        }
      ]
    },
    {
      "cell_type": "code",
      "source": [
        "job = backend.run(qobj=transpile(circuits=qc, backend=backend))\n",
        "job.result().get_unitary(qc, decimals=3)"
      ],
      "metadata": {
        "colab": {
          "base_uri": "https://localhost:8080/"
        },
        "id": "HmsG8t0SB9tR",
        "outputId": "288ae8da-58eb-4794-e999-150ed25f4355"
      },
      "execution_count": 82,
      "outputs": [
        {
          "output_type": "execute_result",
          "data": {
            "text/plain": [
              "array([[ 0.707+0.j   , -0.   -0.707j],\n",
              "       [ 0.   -0.707j,  0.707+0.j   ]])"
            ]
          },
          "metadata": {},
          "execution_count": 82
        }
      ]
    },
    {
      "cell_type": "markdown",
      "source": [
        "Y축에 관한 회전"
      ],
      "metadata": {
        "id": "2ikUt1R2CvJV"
      }
    },
    {
      "cell_type": "code",
      "source": [
        "qc = QuantumCircuit(q)\n",
        "qc.ry(theta=pi/2, qubit=q)\n",
        "qc.draw()"
      ],
      "metadata": {
        "colab": {
          "base_uri": "https://localhost:8080/",
          "height": 63
        },
        "id": "wgnG6nmdCrYL",
        "outputId": "94b37487-a07a-404c-f84d-82a08307c9c4"
      },
      "execution_count": 83,
      "outputs": [
        {
          "output_type": "execute_result",
          "data": {
            "text/plain": [
              "     ┌─────────┐\n",
              "q19: ┤ Ry(π/2) ├\n",
              "     └─────────┘"
            ],
            "text/html": [
              "<pre style=\"word-wrap: normal;white-space: pre;background: #fff0;line-height: 1.1;font-family: &quot;Courier New&quot;,Courier,monospace\">     ┌─────────┐\n",
              "q19: ┤ Ry(π/2) ├\n",
              "     └─────────┘</pre>"
            ]
          },
          "metadata": {},
          "execution_count": 83
        }
      ]
    },
    {
      "cell_type": "code",
      "source": [
        "job = backend.run(qobj=transpile(circuits=qc, backend=backend))\n",
        "job.result().get_unitary(qc, decimals=3)"
      ],
      "metadata": {
        "colab": {
          "base_uri": "https://localhost:8080/"
        },
        "id": "i1OgiyZnDJ33",
        "outputId": "b4cdbcb4-1264-40bd-9195-828c726d8c5d"
      },
      "execution_count": 84,
      "outputs": [
        {
          "output_type": "execute_result",
          "data": {
            "text/plain": [
              "array([[ 0.707+0.j, -0.707+0.j],\n",
              "       [ 0.707+0.j,  0.707+0.j]])"
            ]
          },
          "metadata": {},
          "execution_count": 84
        }
      ]
    },
    {
      "cell_type": "markdown",
      "source": [
        "Z축에 관한 회전"
      ],
      "metadata": {
        "id": "TdNiyIpFDSrJ"
      }
    },
    {
      "cell_type": "code",
      "source": [
        "qc = QuantumCircuit(q)\n",
        "qc.rz(phi=pi/2, qubit=q)\n",
        "qc.draw()"
      ],
      "metadata": {
        "colab": {
          "base_uri": "https://localhost:8080/",
          "height": 63
        },
        "id": "Wh62gE0PDNGi",
        "outputId": "610b4265-1224-4bd8-a4af-02b151cf70e7"
      },
      "execution_count": 85,
      "outputs": [
        {
          "output_type": "execute_result",
          "data": {
            "text/plain": [
              "     ┌─────────┐\n",
              "q19: ┤ Rz(π/2) ├\n",
              "     └─────────┘"
            ],
            "text/html": [
              "<pre style=\"word-wrap: normal;white-space: pre;background: #fff0;line-height: 1.1;font-family: &quot;Courier New&quot;,Courier,monospace\">     ┌─────────┐\n",
              "q19: ┤ Rz(π/2) ├\n",
              "     └─────────┘</pre>"
            ]
          },
          "metadata": {},
          "execution_count": 85
        }
      ]
    },
    {
      "cell_type": "code",
      "source": [
        "job = backend.run(qobj=transpile(circuits=qc, backend=backend))\n",
        "job.result().get_unitary(qc, decimals=3)"
      ],
      "metadata": {
        "colab": {
          "base_uri": "https://localhost:8080/"
        },
        "id": "mnC4FixbDuRk",
        "outputId": "1dee8aaf-35e0-4a01-f149-ac29e5e589aa"
      },
      "execution_count": 86,
      "outputs": [
        {
          "output_type": "execute_result",
          "data": {
            "text/plain": [
              "array([[0.707-0.707j, 0.   +0.j   ],\n",
              "       [0.   +0.j   , 0.707+0.707j]])"
            ]
          },
          "metadata": {},
          "execution_count": 86
        }
      ]
    },
    {
      "cell_type": "markdown",
      "source": [
        "**다중 큐비트 게이트**\n",
        "\n",
        "두 큐비트 게이트\n",
        "* 제어 파울리 게이트 (controlled Pauli gates)\n",
        "* 제어 하다마드 게이트 (controlled Hadamard gate)\n",
        "* 제어 회전 게이트 (controlled rotation gates)\n",
        "* 제어 위상 게이트 (controlled phase gate)\n",
        "* 제어 u3게이트 (controlled u3 gate)\n",
        "* 교환 게이트 (swap gate)\n",
        "\n",
        "세 큐비트 게이트\n",
        "* Toffoli gate\n",
        "* Fredkin gate"
      ],
      "metadata": {
        "id": "XS2N_orbD56V"
      }
    },
    {
      "cell_type": "code",
      "source": [
        "q = QuantumRegister(size = 2)"
      ],
      "metadata": {
        "id": "9PAS7byvDxpz"
      },
      "execution_count": 87,
      "outputs": []
    },
    {
      "cell_type": "markdown",
      "source": [
        "**제어 파울리 게이트(Controlled Pauli Gate)**\n",
        "\n",
        "Controlled-X (또는, Controlled-NOT) 게이트"
      ],
      "metadata": {
        "id": "43r3tlXeJM0r"
      }
    },
    {
      "cell_type": "code",
      "source": [
        "qc = QuantumCircuit(q)\n",
        "qc.cx(control_qubit=q[0], target_qubit=q[1])\n",
        "qc.draw()"
      ],
      "metadata": {
        "colab": {
          "base_uri": "https://localhost:8080/",
          "height": 94
        },
        "id": "3E-uZeq_JLS8",
        "outputId": "62dc0e2f-e9fd-490a-9335-3cebb8a48e31"
      },
      "execution_count": 88,
      "outputs": [
        {
          "output_type": "execute_result",
          "data": {
            "text/plain": [
              "            \n",
              "q34_0: ──■──\n",
              "       ┌─┴─┐\n",
              "q34_1: ┤ X ├\n",
              "       └───┘"
            ],
            "text/html": [
              "<pre style=\"word-wrap: normal;white-space: pre;background: #fff0;line-height: 1.1;font-family: &quot;Courier New&quot;,Courier,monospace\">            \n",
              "q34_0: ──■──\n",
              "       ┌─┴─┐\n",
              "q34_1: ┤ X ├\n",
              "       └───┘</pre>"
            ]
          },
          "metadata": {},
          "execution_count": 88
        }
      ]
    },
    {
      "cell_type": "code",
      "source": [
        "job = backend.run(qobj=transpile(circuits=qc, backend=backend))\n",
        "job.result().get_unitary(qc, decimals=3)"
      ],
      "metadata": {
        "colab": {
          "base_uri": "https://localhost:8080/"
        },
        "id": "6kg8Q_bqJwT7",
        "outputId": "0b8f12fe-2c61-4e85-91a3-a18b3d58a80a"
      },
      "execution_count": 89,
      "outputs": [
        {
          "output_type": "execute_result",
          "data": {
            "text/plain": [
              "array([[1.+0.j, 0.+0.j, 0.+0.j, 0.+0.j],\n",
              "       [0.+0.j, 0.+0.j, 0.+0.j, 1.+0.j],\n",
              "       [0.+0.j, 0.+0.j, 1.+0.j, 0.+0.j],\n",
              "       [0.+0.j, 1.+0.j, 0.+0.j, 0.+0.j]])"
            ]
          },
          "metadata": {},
          "execution_count": 89
        }
      ]
    },
    {
      "cell_type": "markdown",
      "source": [
        "제어 Y 게이트 (Controlled Y Gate)¶"
      ],
      "metadata": {
        "id": "w-9u5eTxKG4v"
      }
    },
    {
      "cell_type": "code",
      "source": [
        "qc = QuantumCircuit(q)\n",
        "qc.cy(control_qubit=q[0], target_qubit=q[1])\n",
        "qc.draw()"
      ],
      "metadata": {
        "colab": {
          "base_uri": "https://localhost:8080/",
          "height": 94
        },
        "id": "_H9znFKAJ3CQ",
        "outputId": "2fcd4f5a-2bef-4a0b-a72c-26b03d3332b1"
      },
      "execution_count": 90,
      "outputs": [
        {
          "output_type": "execute_result",
          "data": {
            "text/plain": [
              "            \n",
              "q34_0: ──■──\n",
              "       ┌─┴─┐\n",
              "q34_1: ┤ Y ├\n",
              "       └───┘"
            ],
            "text/html": [
              "<pre style=\"word-wrap: normal;white-space: pre;background: #fff0;line-height: 1.1;font-family: &quot;Courier New&quot;,Courier,monospace\">            \n",
              "q34_0: ──■──\n",
              "       ┌─┴─┐\n",
              "q34_1: ┤ Y ├\n",
              "       └───┘</pre>"
            ]
          },
          "metadata": {},
          "execution_count": 90
        }
      ]
    },
    {
      "cell_type": "code",
      "source": [
        "job = backend.run(qobj=transpile(circuits=qc, backend=backend))\n",
        "job.result().get_unitary(qc, decimals=3)"
      ],
      "metadata": {
        "colab": {
          "base_uri": "https://localhost:8080/"
        },
        "id": "HF5CZWJ1K2cY",
        "outputId": "2f90903f-de34-4ecb-9681-40943d50805c"
      },
      "execution_count": 91,
      "outputs": [
        {
          "output_type": "execute_result",
          "data": {
            "text/plain": [
              "array([[1.+0.j, 0.+0.j, 0.+0.j, 0.+0.j],\n",
              "       [0.+0.j, 0.+0.j, 0.+0.j, 0.-1.j],\n",
              "       [0.+0.j, 0.+0.j, 1.+0.j, 0.+0.j],\n",
              "       [0.+0.j, 0.+1.j, 0.+0.j, 0.+0.j]])"
            ]
          },
          "metadata": {},
          "execution_count": 91
        }
      ]
    },
    {
      "cell_type": "markdown",
      "source": [
        "Controlled Z (위상 제어) 게이트"
      ],
      "metadata": {
        "id": "Q2mc0HUFLVtQ"
      }
    },
    {
      "cell_type": "code",
      "source": [
        "qc = QuantumCircuit(q)\n",
        "qc.cz(control_qubit=q[0], target_qubit=q[1])\n",
        "qc.draw()"
      ],
      "metadata": {
        "colab": {
          "base_uri": "https://localhost:8080/",
          "height": 94
        },
        "id": "u3d-fzZrLLh3",
        "outputId": "db981753-0cdc-430f-88e8-1d597614bb2a"
      },
      "execution_count": 92,
      "outputs": [
        {
          "output_type": "execute_result",
          "data": {
            "text/plain": [
              "          \n",
              "q34_0: ─■─\n",
              "        │ \n",
              "q34_1: ─■─\n",
              "          "
            ],
            "text/html": [
              "<pre style=\"word-wrap: normal;white-space: pre;background: #fff0;line-height: 1.1;font-family: &quot;Courier New&quot;,Courier,monospace\">          \n",
              "q34_0: ─■─\n",
              "        │ \n",
              "q34_1: ─■─\n",
              "          </pre>"
            ]
          },
          "metadata": {},
          "execution_count": 92
        }
      ]
    },
    {
      "cell_type": "code",
      "source": [
        "job = backend.run(qobj=transpile(circuits=qc, backend=backend))\n",
        "job.result().get_unitary(qc, decimals=3)"
      ],
      "metadata": {
        "colab": {
          "base_uri": "https://localhost:8080/"
        },
        "id": "c15gdp0JMkgp",
        "outputId": "e996f550-2699-4c31-9712-5ce9cbd08b8f"
      },
      "execution_count": 93,
      "outputs": [
        {
          "output_type": "execute_result",
          "data": {
            "text/plain": [
              "array([[ 1.-0.j,  0.+0.j,  0.+0.j,  0.+0.j],\n",
              "       [ 0.+0.j,  1.-0.j,  0.+0.j,  0.+0.j],\n",
              "       [ 0.+0.j,  0.+0.j,  1.-0.j,  0.+0.j],\n",
              "       [ 0.+0.j,  0.+0.j,  0.+0.j, -1.+0.j]])"
            ]
          },
          "metadata": {},
          "execution_count": 93
        }
      ]
    },
    {
      "cell_type": "markdown",
      "source": [
        "조절된 Hadamard 게이트"
      ],
      "metadata": {
        "id": "4Tb_WrigM06l"
      }
    },
    {
      "cell_type": "code",
      "source": [],
      "metadata": {
        "id": "HdhlDx7WMnmY"
      },
      "execution_count": 93,
      "outputs": []
    }
  ]
}