{
  "nbformat": 4,
  "nbformat_minor": 0,
  "metadata": {
    "colab": {
      "private_outputs": true,
      "provenance": [],
      "authorship_tag": "ABX9TyO5szoH9drBx6Dx961Ur1l5",
      "include_colab_link": true
    },
    "kernelspec": {
      "name": "python3",
      "display_name": "Python 3"
    },
    "language_info": {
      "name": "python"
    }
  },
  "cells": [
    {
      "cell_type": "markdown",
      "metadata": {
        "id": "view-in-github",
        "colab_type": "text"
      },
      "source": [
        "<a href=\"https://colab.research.google.com/github/mkbahk/QuantumComputing/blob/main/IonQ_%EC%96%91%EC%9E%90%ED%9A%8C%EB%A1%9C_5_%EA%B7%BC%EC%82%AC%EB%B3%B5%EC%9E%A1%EB%8F%84.ipynb\" target=\"_parent\"><img src=\"https://colab.research.google.com/assets/colab-badge.svg\" alt=\"Open In Colab\"/></a>"
      ]
    },
    {
      "cell_type": "code",
      "execution_count": null,
      "metadata": {
        "id": "FLkbDUY2-ImL"
      },
      "outputs": [],
      "source": [
        "#Install qiskit and qiskit-ionq if you haven't yet\n",
        "!pip install qiskit\n",
        "!pip install qiskit-ionq\n",
        "!pip install qiskit-aer"
      ]
    },
    {
      "cell_type": "code",
      "source": [
        "#imports\n",
        "from qiskit import QuantumCircuit, Aer, execute\n",
        "from qiskit.tools.visualization import plot_bloch_multivector, array_to_latex, plot_state_qsphere\n",
        "from qiskit.circuit.library import RXXGate\n",
        "from numpy import pi"
      ],
      "metadata": {
        "id": "RBRNp0wt-nHA"
      },
      "execution_count": null,
      "outputs": []
    },
    {
      "cell_type": "code",
      "source": [
        "#Part (i)\n",
        "\n",
        "qc = QuantumCircuit(2) #initialize quantum circuit with 2 qubits\n",
        "qc.h(0) #apply hadamard to first qubit, |+> status\n",
        "#qc.x(1)\n",
        "#qc.h(1) # |-> status\n",
        "print(qc.draw()) #qc.draw() #draw circuit\n",
        "\n",
        "plot_bloch_multivector(qc) #bloch vector visualization\n"
      ],
      "metadata": {
        "id": "2biY0D6e_pSy"
      },
      "execution_count": null,
      "outputs": []
    },
    {
      "cell_type": "code",
      "source": [
        "#Part (ii)\n",
        "\n",
        "qc.cx(0, 1) #apply controlled not\n",
        "print(qc.draw()) #qc.draw() #draw circuit\n",
        "\n",
        "plot_bloch_multivector(qc) #bloch vector visualization\n",
        "#왜 큐빗들이 브로흐시피어상에서 보이지 않을까요?"
      ],
      "metadata": {
        "id": "qWkxLwsqBqys"
      },
      "execution_count": null,
      "outputs": []
    },
    {
      "cell_type": "code",
      "source": [
        "#Part (iii)\n",
        "plot_state_qsphere(qc) #Q sphere visualization"
      ],
      "metadata": {
        "id": "TcZ4r4LiDlM9"
      },
      "execution_count": null,
      "outputs": []
    },
    {
      "cell_type": "code",
      "source": [
        "#Part (iv)\n",
        "\n",
        "qc.h(1)\n",
        "print(qc.draw())\n",
        "plot_state_qsphere(qc)"
      ],
      "metadata": {
        "id": "bC6-E9MRF9js"
      },
      "execution_count": null,
      "outputs": []
    },
    {
      "cell_type": "markdown",
      "source": [
        "위에 왜 3개는 색깔리 파란색이나 하나만 노란색일까요?<br>\n",
        "\"-\" 싸인때문임. ...+|10>-|11>))"
      ],
      "metadata": {
        "id": "shFYLJ3XHPmU"
      }
    },
    {
      "cell_type": "code",
      "source": [
        "# Part (v)\n",
        "qc_two = QuantumCircuit(2)\n",
        "rxx = RXXGate(pi / 3 )\n",
        "qc_two.append(rxx, [0, 1])\n",
        "print(qc_two.draw())\n",
        "plot_state_qsphere(qc_two)"
      ],
      "metadata": {
        "id": "4Kf3BJbrKIvc"
      },
      "execution_count": null,
      "outputs": []
    },
    {
      "cell_type": "code",
      "source": [
        "#Part (vi)\n",
        "backend = Aer.get_backend('statevector_simulator')\n",
        "job = execute(qc_two, backend)\n",
        "result = job.result()\n",
        "vector = result.get_statevector()\n",
        "array_to_latex(vector)"
      ],
      "metadata": {
        "id": "AaayZ96qGmyh"
      },
      "execution_count": null,
      "outputs": []
    },
    {
      "cell_type": "code",
      "source": [
        "new_circuit = QuantumCircuit(3)\n",
        "new_circuit.h([0, 1, 2])\n",
        "plot_state_qsphere(new_circuit)"
      ],
      "metadata": {
        "id": "AjV6KeLDIIKo"
      },
      "execution_count": null,
      "outputs": []
    },
    {
      "cell_type": "markdown",
      "source": [
        "3개의 큐빗이기 때문에 8개의 중첩포지션을 얻을 수 있고<br>\n",
        "색깔이 모둔 청색인 이유는 상대적인 Phase차이가 0이기 때문임<br>\n",
        "왜 011, 100, 010은 000에 가까이 있고, 011, 101, 110은 111쪽에 있을까요?<br>\n",
        "답은 한가지 매트픽에 의해 결정되고, hamming distance에 의해 결정됨<br>\n",
        "Ground State 000로 부터 flip해야 하는 정도임<br>\n",
        "<질문>왜 001, 010, 100은 같은 경도에 있으면서 위치는 다를까요?<br>\n",
        "<답> 선생님도 모름"
      ],
      "metadata": {
        "id": "HwERPRKqL42B"
      }
    },
    {
      "cell_type": "code",
      "source": [],
      "metadata": {
        "id": "qy9JgPlRK7GN"
      },
      "execution_count": null,
      "outputs": []
    }
  ]
}