{
  "nbformat": 4,
  "nbformat_minor": 0,
  "metadata": {
    "colab": {
      "provenance": [],
      "authorship_tag": "ABX9TyNfWp3ZSda4f8fFKjpLE4D1",
      "include_colab_link": true
    },
    "kernelspec": {
      "name": "python3",
      "display_name": "Python 3"
    },
    "language_info": {
      "name": "python"
    }
  },
  "cells": [
    {
      "cell_type": "markdown",
      "metadata": {
        "id": "view-in-github",
        "colab_type": "text"
      },
      "source": [
        "<a href=\"https://colab.research.google.com/github/mkbahk/QuantumComputing/blob/main/QuantumInnerOuterTensorProduct_mkbahk_20250822.ipynb\" target=\"_parent\"><img src=\"https://colab.research.google.com/assets/colab-badge.svg\" alt=\"Open In Colab\"/></a>"
      ]
    },
    {
      "cell_type": "code",
      "execution_count": 2,
      "metadata": {
        "colab": {
          "base_uri": "https://localhost:8080/"
        },
        "id": "qAxGmPBYO2ZE",
        "outputId": "13eb80d3-c1a6-414e-ecc0-06900d5ba43d"
      },
      "outputs": [
        {
          "output_type": "stream",
          "name": "stdout",
          "text": [
            "V의 켤레 전치와 W의 내적 결과: (-18+72j)\n"
          ]
        }
      ],
      "source": [
        "import numpy as np\n",
        "\n",
        "# 벡터 정의\n",
        "V = np.array([-6, 9j])\n",
        "W = np.array([3, -8])\n",
        "\n",
        "# V의 켤레 전치 (conjugate transpose)\n",
        "V_conj = np.conjugate(V)\n",
        "\n",
        "# 내적 계산\n",
        "result = np.dot(V_conj, W)\n",
        "\n",
        "print(\"V의 켤레 전치와 W의 내적 결과:\", result)"
      ]
    },
    {
      "cell_type": "code",
      "source": [
        "import numpy as np\n",
        "\n",
        "# 벡터 정의\n",
        "V = np.array([-3j, 9])\n",
        "W = np.array([9j, 2])\n",
        "\n",
        "# W의 켤레 전치 (conjugate transpose)\n",
        "W_conj = np.conjugate(W)\n",
        "\n",
        "# 외적 계산\n",
        "result = np.outer(V, W_conj)\n",
        "\n",
        "print(\"V와 W의 켤레 전치의 외적 결과:\\n\", result)"
      ],
      "metadata": {
        "colab": {
          "base_uri": "https://localhost:8080/"
        },
        "id": "sbtjU8mwPmSr",
        "outputId": "ff755339-3d7e-4407-bf39-d3f5cabb6bab"
      },
      "execution_count": 3,
      "outputs": [
        {
          "output_type": "stream",
          "name": "stdout",
          "text": [
            "V와 W의 켤레 전치의 외적 결과:\n",
            " [[-27. +0.j  -0. -6.j]\n",
            " [  0.-81.j  18. +0.j]]\n"
          ]
        }
      ]
    },
    {
      "cell_type": "code",
      "source": [
        "import numpy as np\n",
        "\n",
        "# 행렬 정의\n",
        "A = np.array([[1, 2], [3, 4]])\n",
        "B = np.array([[5, 6], [7, 8]])\n",
        "\n",
        "# 텐서 곱 계산\n",
        "result = np.kron(A, B)\n",
        "\n",
        "print(\"텐서 곱 결과:\\n\", result)"
      ],
      "metadata": {
        "colab": {
          "base_uri": "https://localhost:8080/"
        },
        "id": "F0AKxhlzQWrW",
        "outputId": "513ae3f8-a7e3-4399-b5dc-f06e8dac3007"
      },
      "execution_count": 4,
      "outputs": [
        {
          "output_type": "stream",
          "name": "stdout",
          "text": [
            "텐서 곱 결과:\n",
            " [[ 5  6 10 12]\n",
            " [ 7  8 14 16]\n",
            " [15 18 20 24]\n",
            " [21 24 28 32]]\n"
          ]
        }
      ]
    }
  ]
}