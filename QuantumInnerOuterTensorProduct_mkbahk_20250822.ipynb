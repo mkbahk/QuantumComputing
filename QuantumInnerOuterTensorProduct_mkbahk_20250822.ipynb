{
  "nbformat": 4,
  "nbformat_minor": 0,
  "metadata": {
    "colab": {
      "provenance": [],
      "authorship_tag": "ABX9TyMMWPqI8nbdVSYJEaJtjtjr",
      "include_colab_link": true
    },
    "kernelspec": {
      "name": "python3",
      "display_name": "Python 3"
    },
    "language_info": {
      "name": "python"
    }
  },
  "cells": [
    {
      "cell_type": "markdown",
      "metadata": {
        "id": "view-in-github",
        "colab_type": "text"
      },
      "source": [
        "<a href=\"https://colab.research.google.com/github/mkbahk/QuantumComputing/blob/main/QuantumInnerOuterTensorProduct_mkbahk_20250822.ipynb\" target=\"_parent\"><img src=\"https://colab.research.google.com/assets/colab-badge.svg\" alt=\"Open In Colab\"/></a>"
      ]
    },
    {
      "cell_type": "code",
      "execution_count": 5,
      "metadata": {
        "colab": {
          "base_uri": "https://localhost:8080/"
        },
        "id": "qAxGmPBYO2ZE",
        "outputId": "06b5a526-38ff-4cdc-f3e8-99372ca6b17b"
      },
      "outputs": [
        {
          "output_type": "stream",
          "name": "stdout",
          "text": [
            "V의 켤레 전치와 W의 내적 결과: (-18+72j)\n"
          ]
        }
      ],
      "source": [
        "import numpy as np\n",
        "\n",
        "# 벡터 정의\n",
        "V = np.array([-6, 9j])\n",
        "W = np.array([3, -8])\n",
        "\n",
        "# V의 켤레 전치 (conjugate transpose)\n",
        "V_conj = np.conjugate(V)\n",
        "\n",
        "# 내적 계산\n",
        "result = np.dot(V_conj, W)\n",
        "\n",
        "print(\"V의 켤레 전치와 W의 내적 결과:\", result)"
      ]
    },
    {
      "cell_type": "code",
      "source": [
        "import numpy as np\n",
        "\n",
        "# 벡터 정의\n",
        "V = np.array([-3j, 9])\n",
        "W = np.array([9j, 2])\n",
        "\n",
        "# W의 켤레 전치 (conjugate transpose)\n",
        "W_conj = np.conjugate(W)\n",
        "\n",
        "# 외적 계산\n",
        "result = np.outer(V, W_conj)\n",
        "\n",
        "print(\"V와 W의 켤레 전치의 외적 결과:\\n\", result)"
      ],
      "metadata": {
        "colab": {
          "base_uri": "https://localhost:8080/"
        },
        "id": "sbtjU8mwPmSr",
        "outputId": "9b73330a-1e60-4260-f568-50a0f646218f"
      },
      "execution_count": 6,
      "outputs": [
        {
          "output_type": "stream",
          "name": "stdout",
          "text": [
            "V와 W의 켤레 전치의 외적 결과:\n",
            " [[-27. +0.j  -0. -6.j]\n",
            " [  0.-81.j  18. +0.j]]\n"
          ]
        }
      ]
    },
    {
      "cell_type": "code",
      "source": [
        "import numpy as np\n",
        "\n",
        "# 행렬 정의\n",
        "A = np.array([[1, 2], [3, 4]])\n",
        "B = np.array([[5, 6], [7, 8]])\n",
        "\n",
        "# 텐서 곱 계산\n",
        "result = np.kron(A, B)\n",
        "\n",
        "print(\"텐서 곱 결과:\\n\", result)"
      ],
      "metadata": {
        "colab": {
          "base_uri": "https://localhost:8080/"
        },
        "id": "F0AKxhlzQWrW",
        "outputId": "b5932cca-1003-4d47-9dc8-ed9dd2221bff"
      },
      "execution_count": 7,
      "outputs": [
        {
          "output_type": "stream",
          "name": "stdout",
          "text": [
            "텐서 곱 결과:\n",
            " [[ 5  6 10 12]\n",
            " [ 7  8 14 16]\n",
            " [15 18 20 24]\n",
            " [21 24 28 32]]\n"
          ]
        }
      ]
    },
    {
      "cell_type": "code",
      "source": [
        "import numpy as np\n",
        "\n",
        "# 벡터 정의\n",
        "V = np.array([-6, 9j])\n",
        "\n",
        "# 상수 정의\n",
        "scalar = 3\n",
        "\n",
        "# 벡터에 상수 곱하기\n",
        "result = scalar * V\n",
        "\n",
        "print(\"벡터에 상수를 곱한 결과:\", result)"
      ],
      "metadata": {
        "colab": {
          "base_uri": "https://localhost:8080/"
        },
        "id": "6jqCmpaASA0q",
        "outputId": "69525b22-9ba1-4335-f2da-fed81938f792"
      },
      "execution_count": 8,
      "outputs": [
        {
          "output_type": "stream",
          "name": "stdout",
          "text": [
            "벡터에 상수를 곱한 결과: [-18. +0.j   0.+27.j]\n"
          ]
        }
      ]
    },
    {
      "cell_type": "code",
      "source": [
        "import numpy as np\n",
        "\n",
        "# Hadamard Gate 정의\n",
        "H = (1 / np.sqrt(2)) * np.array([[1, 1], [1, -1]])\n",
        "\n",
        "# 열벡터 정의\n",
        "v = np.array([[-6], [9j]])  # 2x1 열벡터 형태로 정의\n",
        "\n",
        "# 행렬 곱 계산\n",
        "result = np.matmul(H, v)\n",
        "\n",
        "print(\"Hadamard Gate와 열벡터의 행렬 곱 결과:\\n\", result)"
      ],
      "metadata": {
        "colab": {
          "base_uri": "https://localhost:8080/"
        },
        "id": "Ptuf_5inVGoX",
        "outputId": "9d7c03f0-161d-41e3-d9c8-31b2d0d98a25"
      },
      "execution_count": 9,
      "outputs": [
        {
          "output_type": "stream",
          "name": "stdout",
          "text": [
            "Hadamard Gate와 열벡터의 행렬 곱 결과:\n",
            " [[-4.24264069+6.36396103j]\n",
            " [-4.24264069-6.36396103j]]\n"
          ]
        }
      ]
    }
  ]
}