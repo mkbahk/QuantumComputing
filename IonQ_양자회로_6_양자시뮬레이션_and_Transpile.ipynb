{
  "nbformat": 4,
  "nbformat_minor": 0,
  "metadata": {
    "colab": {
      "private_outputs": true,
      "provenance": [],
      "authorship_tag": "ABX9TyPUeNDOES8zxHFflpVIRdZK",
      "include_colab_link": true
    },
    "kernelspec": {
      "name": "python3",
      "display_name": "Python 3"
    },
    "language_info": {
      "name": "python"
    }
  },
  "cells": [
    {
      "cell_type": "markdown",
      "metadata": {
        "id": "view-in-github",
        "colab_type": "text"
      },
      "source": [
        "<a href=\"https://colab.research.google.com/github/mkbahk/QuantumComputing/blob/main/IonQ_%EC%96%91%EC%9E%90%ED%9A%8C%EB%A1%9C_6_%EC%96%91%EC%9E%90%EC%8B%9C%EB%AE%AC%EB%A0%88%EC%9D%B4%EC%85%98_and_Transpile.ipynb\" target=\"_parent\"><img src=\"https://colab.research.google.com/assets/colab-badge.svg\" alt=\"Open In Colab\"/></a>"
      ]
    },
    {
      "cell_type": "code",
      "execution_count": null,
      "metadata": {
        "id": "V6MjJfO_pFDb"
      },
      "outputs": [],
      "source": [
        "!pip install qiskit\n",
        "!pip install qiskit-ionq\n",
        "!pip install qiskit-aer"
      ]
    },
    {
      "cell_type": "code",
      "source": [
        "#import IonQ backends\n",
        "from qiskit_ionq import IonQProvider\n",
        "ionq_provider = IonQProvider(token=\"xdNnUQmVTZyZ8ox7pHvPuU6qY5te9K8c\")\n",
        "\n",
        "#Qiskit imports\n",
        "from qiskit import QuantumCircuit, Aer, execute, transpile\n",
        "from qiskit.tools.visualization import array_to_latex, plot_histogram\n",
        "from numpy import pi\n",
        "import numpy as np"
      ],
      "metadata": {
        "id": "tkPYt2vDpZCX"
      },
      "execution_count": null,
      "outputs": []
    },
    {
      "cell_type": "code",
      "source": [
        "hamiltonian = QuantumCircuit(4)\n",
        "hamiltonian.h(0)\n",
        "hamiltonian.rx(pi / 2, 1) #Implement R_x(pi / 2)\n",
        "\n",
        "#CNOTs\n",
        "for i in range(3):\n",
        "  hamiltonian.cx(i, 3)\n",
        "###for\n",
        "\n",
        "hamiltonian.rz(pi / 3, 3) #R_z on ancilla\n",
        "\n",
        "#CNOTs undo\n",
        "for i in range(3):\n",
        "  hamiltonian.cx( 2 - i, 3) #hamiltonian.cx(i, 3)도 가능\n",
        "###for\n",
        "\n",
        "#undo Hadamard and R_x rotation\n",
        "\n",
        "hamiltonian.rx(-pi / 2, 1)\n",
        "hamiltonian.h(0)\n",
        "\n",
        "hamiltonian.draw()"
      ],
      "metadata": {
        "id": "nD59YIREsKnm"
      },
      "execution_count": null,
      "outputs": []
    },
    {
      "cell_type": "code",
      "source": [
        "# Implement on eigenstate\n",
        "qc = QuantumCircuit(4)\n",
        "qc.h(0) #initializing eigenstate of X with eigenvalue 1\n",
        "qc.rx(-pi / 2, 1) #initializing eigenstate of Y with eigenvalue 1\n",
        "\n",
        "# Third qubit is already in eigenstate of Z with eigenvalue 1\n",
        "qc = qc.compose(hamiltonian) # Add Hamiltonian to circuit\n",
        "\n",
        "# Draw circuit\n",
        "qc.draw()\n"
      ],
      "metadata": {
        "id": "S2cGgzTKvIT2"
      },
      "execution_count": null,
      "outputs": []
    },
    {
      "cell_type": "code",
      "source": [
        "# Get Statevector\n",
        "backend = Aer.get_backend('statevector_simulator') # Define backend\n",
        "job = execute(qc, backend) # Get job object\n",
        "result = job.result() # Get result\n",
        "vector = result.get_statevector() # Get statevector\n",
        "\n",
        "array_to_latex(vector / np.exp(-1j * (pi / 6))) # Display statevector"
      ],
      "metadata": {
        "id": "oZRcexorDSOt"
      },
      "execution_count": null,
      "outputs": []
    },
    {
      "cell_type": "code",
      "source": [
        "# Plot histogram of counts\n",
        "qc.measure_all()\n",
        "backend = Aer.get_backend('qasm_simulator')\n",
        "job = execute(qc, backend)\n",
        "result = job.result()\n",
        "\n",
        "#counts = result.get_counts()\n",
        "# Get counts of only first three qubits\n",
        "counts = {key[::-1][:-1]:val for key, val in result.get_counts().items()}\n",
        "plot_histogram(counts)\n"
      ],
      "metadata": {
        "id": "aGB4GgqNDoxt"
      },
      "execution_count": null,
      "outputs": []
    },
    {
      "cell_type": "code",
      "source": [
        "backend = ionq_provider.get_backend('ionq_qpu') # choose your backend\n",
        "job = execute(qc, backend) # get the job object\n",
        "\n",
        "# Check if job is complete\n",
        "from qiskit.providers.jobstatus import JobStatus\n",
        "import time\n",
        "while job.status() is not JobStatus.DONE:\n",
        "  print(\"Job status is \", job.status())\n",
        "  time.sleep(5)\n",
        "###while\n",
        "\n",
        "result = job.result() # get result object\n",
        "counts = {key[::-1][:-1]:val for key, val in result.get_counts().items()}\n",
        "plot_histogram(counts)"
      ],
      "metadata": {
        "id": "_qKrPcO0Dvn-"
      },
      "execution_count": null,
      "outputs": []
    },
    {
      "cell_type": "markdown",
      "source": [
        "**Question 2: Qiskit Barrier Operation**\n"
      ],
      "metadata": {
        "id": "roWSarx0KbLC"
      }
    },
    {
      "cell_type": "code",
      "source": [
        "# Part (i)\n",
        "qc = QuantumCircuit(1)\n",
        "\n",
        "qc.h(0)\n",
        "qc.h(0)\n",
        "qc.draw()"
      ],
      "metadata": {
        "id": "s5uNHXyhDvdS"
      },
      "execution_count": null,
      "outputs": []
    },
    {
      "cell_type": "code",
      "source": [
        "# Transpile the circuit\n",
        "transpiled_qc = transpile(qc, Aer.get_backend('qasm_simulator'))\n",
        "\n",
        "# Draw the circuit\n",
        "transpiled_qc.draw()\n",
        "\n"
      ],
      "metadata": {
        "id": "fmN7tngUd9SH"
      },
      "execution_count": null,
      "outputs": []
    },
    {
      "cell_type": "markdown",
      "source": [
        "This is expected!! after all, H+ H = I"
      ],
      "metadata": {
        "id": "nOOKqhDz8Vk6"
      }
    },
    {
      "cell_type": "code",
      "source": [
        "# Part (ii) - Same circuit as in part (i), but with barrier in between Hadamard\n",
        "new_qc = QuantumCircuit(1)\n",
        "new_qc.h(0)\n",
        "new_qc.barrier()\n",
        "new_qc.h(0)\n",
        "new_qc.draw()"
      ],
      "metadata": {
        "id": "QiPItsuSd9pT"
      },
      "execution_count": null,
      "outputs": []
    },
    {
      "cell_type": "code",
      "source": [
        "# Transpile the circuit\n",
        "transpiled_qc = transpile(new_qc, Aer.get_backend('qasm_simulator'))\n",
        "\n",
        "# Draw the circuit\n",
        "transpiled_qc.draw()\n",
        "\n"
      ],
      "metadata": {
        "id": "I_pmNPEWd-5f"
      },
      "execution_count": null,
      "outputs": []
    },
    {
      "cell_type": "markdown",
      "source": [
        "중간에 barrier를 주었더니 결과가 위쪽과 달라요."
      ],
      "metadata": {
        "id": "jpVvh4nk9DGz"
      }
    },
    {
      "cell_type": "code",
      "source": [
        "# Part (iii)\n",
        "\n",
        "circuit = QuantumCircuit(1)\n",
        "circuit.rz(pi / 2, 0)\n",
        "circuit.rx(pi / 4, 0)\n",
        "\n",
        "circuit.draw()\n"
      ],
      "metadata": {
        "id": "3XVgOCoHd_Le"
      },
      "execution_count": null,
      "outputs": []
    },
    {
      "cell_type": "code",
      "source": [
        "transpile(circuit, Aer.get_backend('qasm_simulator')).draw()"
      ],
      "metadata": {
        "id": "d4E-Ldob-TeG"
      },
      "execution_count": null,
      "outputs": []
    },
    {
      "cell_type": "code",
      "source": [
        "# Part (iv)\n",
        "circuit = QuantumCircuit(1)\n",
        "circuit.rz(pi / 2, 0)\n",
        "circuit.barrier()\n",
        "circuit.rx(pi / 4, 0)\n",
        "\n",
        "circuit.draw()\n",
        "# Transpile and draw\n"
      ],
      "metadata": {
        "id": "-PJSp_gwd_c6"
      },
      "execution_count": null,
      "outputs": []
    },
    {
      "cell_type": "code",
      "source": [
        "transpile(circuit, Aer.get_backend('qasm_simulator')).draw()"
      ],
      "metadata": {
        "id": "_5FMgXFz-loj"
      },
      "execution_count": null,
      "outputs": []
    },
    {
      "cell_type": "code",
      "source": [],
      "metadata": {
        "id": "UddngV-X-mIv"
      },
      "execution_count": null,
      "outputs": []
    }
  ]
}