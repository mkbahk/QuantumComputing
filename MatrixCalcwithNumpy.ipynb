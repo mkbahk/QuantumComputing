{
  "nbformat": 4,
  "nbformat_minor": 0,
  "metadata": {
    "colab": {
      "provenance": [],
      "authorship_tag": "ABX9TyOJU5ebrH8uajn1nkCRzXrT",
      "include_colab_link": true
    },
    "kernelspec": {
      "name": "python3",
      "display_name": "Python 3"
    },
    "language_info": {
      "name": "python"
    }
  },
  "cells": [
    {
      "cell_type": "markdown",
      "metadata": {
        "id": "view-in-github",
        "colab_type": "text"
      },
      "source": [
        "<a href=\"https://colab.research.google.com/github/mkbahk/QuantumComputing/blob/main/MatrixCalcwithNumpy.ipynb\" target=\"_parent\"><img src=\"https://colab.research.google.com/assets/colab-badge.svg\" alt=\"Open In Colab\"/></a>"
      ]
    },
    {
      "cell_type": "code",
      "execution_count": 1,
      "metadata": {
        "id": "uehzhFoAAIQV"
      },
      "outputs": [],
      "source": [
        "import numpy as np"
      ]
    },
    {
      "cell_type": "code",
      "source": [
        "#Euclidean norm\n",
        "\n",
        "# 양자 상태를 생성합니다.\n",
        "v = np.array([1, 2, 3])\n",
        "\n",
        "# Euclidean norm을 계산합니다.\n",
        "norm = np.linalg.norm(v, ord=2)\n",
        "\n",
        "# 출력\n",
        "print(norm)"
      ],
      "metadata": {
        "colab": {
          "base_uri": "https://localhost:8080/"
        },
        "id": "Phrx9tA_Q5hz",
        "outputId": "67ec76c3-647d-47fc-b622-28c952241306"
      },
      "execution_count": 10,
      "outputs": [
        {
          "output_type": "stream",
          "name": "stdout",
          "text": [
            "3.7416573867739413\n"
          ]
        }
      ]
    },
    {
      "cell_type": "code",
      "source": [
        "a = np.array([[1, 2], [3, 4]])\n",
        "b = np.array([[5, 6], [7, 8]])\n",
        "\n",
        "# 행렬내적을 계산합니다.\n",
        "dot = np.dot(a, b)\n",
        "\n",
        "# 출력\n",
        "print(dot)"
      ],
      "metadata": {
        "colab": {
          "base_uri": "https://localhost:8080/"
        },
        "id": "9wnkZxMCANnM",
        "outputId": "379792d2-fc60-4ac0-bb85-a72920ab7b64"
      },
      "execution_count": 11,
      "outputs": [
        {
          "output_type": "stream",
          "name": "stdout",
          "text": [
            "[[19 22]\n",
            " [43 50]]\n"
          ]
        }
      ]
    },
    {
      "cell_type": "code",
      "source": [
        "M1 = np.array([\n",
        "    [1, 1],\n",
        "    [0, 0]])\n",
        "M2 = np.array([\n",
        "    [0, 1],\n",
        "    [1, 0]])\n",
        "\n",
        "# 행렬내적을 계산합니다.\n",
        "dot = np.dot(M1, M2)\n",
        "# 출력\n",
        "print(\"M1M2=\\n\", dot)\n",
        "\n",
        "#행렬내적의 교환법칙이 성립되지 않음을 확인\n",
        "dot = np.dot(M2, M1)\n",
        "# 출력\n",
        "print(\"M2M1=\\n\",dot)"
      ],
      "metadata": {
        "colab": {
          "base_uri": "https://localhost:8080/"
        },
        "id": "Ow19cAC4Afqp",
        "outputId": "39206d7c-bfbc-4f49-eeed-0131c43e35b9"
      },
      "execution_count": 12,
      "outputs": [
        {
          "output_type": "stream",
          "name": "stdout",
          "text": [
            "M1M2=\n",
            " [[1 1]\n",
            " [0 0]]\n",
            "M2M1=\n",
            " [[0 0]\n",
            " [1 1]]\n"
          ]
        }
      ]
    },
    {
      "cell_type": "code",
      "source": [
        "# 두 개의 행렬을 생성합니다.\n",
        "matrix_A = np.array([[1, 2], [3, 4]])\n",
        "matrix_B = np.array([[5, 6], [7, 8]])\n",
        "\n",
        "# 두 행렬의 텐서 곱 계산\n",
        "tensor_product = np.kron(matrix_A, matrix_B)\n",
        "\n",
        "# 결과 출력\n",
        "print(\"두 행렬의 텐서 곱:\")\n",
        "print(tensor_product)"
      ],
      "metadata": {
        "colab": {
          "base_uri": "https://localhost:8080/"
        },
        "id": "H0zbAaRYQ253",
        "outputId": "4360e729-c380-470f-d2e1-157fc2395400"
      },
      "execution_count": 13,
      "outputs": [
        {
          "output_type": "stream",
          "name": "stdout",
          "text": [
            "두 행렬의 텐서 곱:\n",
            "[[ 5  6 10 12]\n",
            " [ 7  8 14 16]\n",
            " [15 18 20 24]\n",
            " [21 24 28 32]]\n"
          ]
        }
      ]
    },
    {
      "cell_type": "code",
      "source": [
        "# 행렬을 생성합니다.\n",
        "a = np.array([[1, 1+2j], [3, 4-1j]])\n",
        "\n",
        "#conjugate\n",
        "print(\"Conjugated =\")\n",
        "print(np.conj(a))\n",
        "\n",
        "# conjugate transpose를 구합니다.\n",
        "print(\"Conjugated Transpose =\")\n",
        "print(np.conj(a).T)\n"
      ],
      "metadata": {
        "colab": {
          "base_uri": "https://localhost:8080/"
        },
        "id": "1cEuD9SVYJuo",
        "outputId": "668a360c-e93e-47b7-e7c0-f472a4484e38"
      },
      "execution_count": 18,
      "outputs": [
        {
          "output_type": "stream",
          "name": "stdout",
          "text": [
            "Conjugated =\n",
            "[[1.-0.j 1.-2.j]\n",
            " [3.-0.j 4.+1.j]]\n",
            "Conjugated Transpose =\n",
            "[[1.-0.j 3.-0.j]\n",
            " [1.-2.j 4.+1.j]]\n"
          ]
        }
      ]
    }
  ]
}