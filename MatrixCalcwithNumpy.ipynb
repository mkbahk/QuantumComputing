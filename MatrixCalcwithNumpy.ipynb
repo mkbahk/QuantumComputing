{
  "nbformat": 4,
  "nbformat_minor": 0,
  "metadata": {
    "colab": {
      "provenance": [],
      "authorship_tag": "ABX9TyO+ee6c/b4Gf7NZne0puglo",
      "include_colab_link": true
    },
    "kernelspec": {
      "name": "python3",
      "display_name": "Python 3"
    },
    "language_info": {
      "name": "python"
    }
  },
  "cells": [
    {
      "cell_type": "markdown",
      "metadata": {
        "id": "view-in-github",
        "colab_type": "text"
      },
      "source": [
        "<a href=\"https://colab.research.google.com/github/mkbahk/QuantumComputing/blob/main/MatrixCalcwithNumpy.ipynb\" target=\"_parent\"><img src=\"https://colab.research.google.com/assets/colab-badge.svg\" alt=\"Open In Colab\"/></a>"
      ]
    },
    {
      "cell_type": "code",
      "execution_count": 56,
      "metadata": {
        "id": "uehzhFoAAIQV"
      },
      "outputs": [],
      "source": [
        "import numpy as np"
      ]
    },
    {
      "cell_type": "code",
      "source": [
        "#Euclidean norm\n",
        "\n",
        "# 양자 상태를 생성합니다.\n",
        "v = np.array(\n",
        "    [1, 2, 3]\n",
        "    )\n",
        "\n",
        "# Euclidean norm을 계산합니다.\n",
        "norm = np.linalg.norm(v, ord=2)\n",
        "\n",
        "# 출력\n",
        "print(norm)"
      ],
      "metadata": {
        "colab": {
          "base_uri": "https://localhost:8080/"
        },
        "id": "Phrx9tA_Q5hz",
        "outputId": "3ebc7b59-5b99-47a7-94fb-d4e80cf46321"
      },
      "execution_count": 57,
      "outputs": [
        {
          "output_type": "stream",
          "name": "stdout",
          "text": [
            "3.7416573867739413\n"
          ]
        }
      ]
    },
    {
      "cell_type": "code",
      "source": [
        "a = np.array(\n",
        "    [[1, 2],\n",
        "    [3, 4]]\n",
        "    )\n",
        "b = np.array(\n",
        "    [[5, 6],\n",
        "     [7, 8]]\n",
        "    )\n",
        "\n",
        "# 행렬내적을 계산합니다.\n",
        "dot = np.dot(a, b)\n",
        "\n",
        "# 출력\n",
        "print(dot)"
      ],
      "metadata": {
        "colab": {
          "base_uri": "https://localhost:8080/"
        },
        "id": "9wnkZxMCANnM",
        "outputId": "2b3b8d5b-86d7-4ef3-c7e1-5c9ea0c531e2"
      },
      "execution_count": 58,
      "outputs": [
        {
          "output_type": "stream",
          "name": "stdout",
          "text": [
            "[[19 22]\n",
            " [43 50]]\n"
          ]
        }
      ]
    },
    {
      "cell_type": "code",
      "source": [
        "M1 = np.array(\n",
        "    [[1, 1],\n",
        "    [0, 0]]\n",
        "    )\n",
        "M2 = np.array(\n",
        "    [[0, 1],\n",
        "    [1, 0]]\n",
        "    )\n",
        "\n",
        "# 행렬내적을 계산합니다.\n",
        "dot = np.dot(M1, M2)\n",
        "# 출력\n",
        "print(\"M1M2=\\n\", dot)\n",
        "\n",
        "#행렬내적의 교환법칙이 성립되지 않음을 확인\n",
        "dot = np.dot(M2, M1)\n",
        "# 출력\n",
        "print(\"M2M1=\\n\",dot)"
      ],
      "metadata": {
        "colab": {
          "base_uri": "https://localhost:8080/"
        },
        "id": "Ow19cAC4Afqp",
        "outputId": "3a742f65-f96d-4495-e146-7b7623ba374b"
      },
      "execution_count": 78,
      "outputs": [
        {
          "output_type": "stream",
          "name": "stdout",
          "text": [
            "M1M2=\n",
            " [[1 1]\n",
            " [0 0]]\n",
            "M2M1=\n",
            " [[0 0]\n",
            " [1 1]]\n"
          ]
        }
      ]
    },
    {
      "cell_type": "code",
      "source": [
        "#텐서곱 예\n",
        "\n",
        "M1 = np.array(\n",
        "    [[1, 2],\n",
        "    [3, 4]]\n",
        "    )\n",
        "M2 = np.array(\n",
        "    [[1, 2],\n",
        "    [3, 4]]\n",
        "    )\n",
        "\n",
        "# 텐서곱을 계산합니다.\n",
        "dot = np.kron(M1, M2)\n",
        "print(dot)"
      ],
      "metadata": {
        "colab": {
          "base_uri": "https://localhost:8080/"
        },
        "id": "U3uW4fQLvvJG",
        "outputId": "0c79e730-cbc7-4c79-a026-1136b7c52f52"
      },
      "execution_count": 80,
      "outputs": [
        {
          "output_type": "stream",
          "name": "stdout",
          "text": [
            "[[ 1  2  2  4]\n",
            " [ 3  4  6  8]\n",
            " [ 3  6  4  8]\n",
            " [ 9 12 12 16]]\n"
          ]
        }
      ]
    },
    {
      "cell_type": "code",
      "source": [
        "# 두 개의 행렬을 생성합니다.\n",
        "matrix_H = np.array(\n",
        "    [[1/np.sqrt(2), 1/np.sqrt(2)],\n",
        "     [1/np.sqrt(2), -(1/np.sqrt(2))]]\n",
        "    )\n",
        "\n",
        "matrix_S = np.array(\n",
        "    [[1, 0],\n",
        "     [0, 1.0j]]\n",
        "    )\n",
        "\n",
        "# 두 행렬의 텐서 곱 계산\n",
        "dot_product = np.dot(matrix_H, np.dot(matrix_S, matrix_H))\n",
        "\n",
        "# 결과 출력\n",
        "print(\"두 행렬의 내적 곱:\")\n",
        "print(dot_product)\n",
        "print(\"\\n결과에 대한 제곱:\")\n",
        "print(np.square(dot_product))\n",
        "print(\"\\n결과에 대한 제곱:\")\n",
        "print(np.square([[(1+1.0j)/2, (1-1.0j)/2],[(1-1.0j)/2, (1+1.0j)/2]]))"
      ],
      "metadata": {
        "colab": {
          "base_uri": "https://localhost:8080/"
        },
        "id": "H0zbAaRYQ253",
        "outputId": "6cd494d3-0925-4f4f-e964-1acadfea8359"
      },
      "execution_count": 77,
      "outputs": [
        {
          "output_type": "stream",
          "name": "stdout",
          "text": [
            "두 행렬의 내적 곱:\n",
            "[[0.5+0.5j 0.5-0.5j]\n",
            " [0.5-0.5j 0.5+0.5j]]\n",
            "\n",
            "결과에 대한 제곱:\n",
            "[[0.+0.5j 0.-0.5j]\n",
            " [0.-0.5j 0.+0.5j]]\n",
            "\n",
            "결과에 대한 제곱:\n",
            "[[0.+0.5j 0.-0.5j]\n",
            " [0.-0.5j 0.+0.5j]]\n"
          ]
        }
      ]
    },
    {
      "cell_type": "code",
      "source": [
        "# 행렬을 생성합니다.\n",
        "# Python에서는 허수를 나타낼 때 i가 아니고 j로 나타냅니다.\n",
        "a = np.array(\n",
        "    [[1, 1+2j],\n",
        "    [3, 4-1j]]\n",
        "    )\n",
        "\n",
        "#conjugate\n",
        "print(\"Conjugated =\")\n",
        "print(np.conj(a))\n",
        "\n",
        "# conjugate transpose를 구합니다.\n",
        "print(\"Conjugated Transpose =\")\n",
        "print(np.conj(a).T)\n"
      ],
      "metadata": {
        "colab": {
          "base_uri": "https://localhost:8080/"
        },
        "id": "1cEuD9SVYJuo",
        "outputId": "8cb25027-803b-4c78-c004-622453c4af89"
      },
      "execution_count": 61,
      "outputs": [
        {
          "output_type": "stream",
          "name": "stdout",
          "text": [
            "Conjugated =\n",
            "[[1.-0.j 1.-2.j]\n",
            " [3.-0.j 4.+1.j]]\n",
            "Conjugated Transpose =\n",
            "[[1.-0.j 3.-0.j]\n",
            " [1.-2.j 4.+1.j]]\n"
          ]
        }
      ]
    }
  ]
}