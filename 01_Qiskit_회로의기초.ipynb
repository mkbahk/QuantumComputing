{
  "nbformat": 4,
  "nbformat_minor": 0,
  "metadata": {
    "colab": {
      "private_outputs": true,
      "provenance": [],
      "authorship_tag": "ABX9TyNMY1NB3g0Lf5v01dTlAQjg",
      "include_colab_link": true
    },
    "kernelspec": {
      "name": "python3",
      "display_name": "Python 3"
    },
    "language_info": {
      "name": "python"
    },
    "gpuClass": "standard"
  },
  "cells": [
    {
      "cell_type": "markdown",
      "metadata": {
        "id": "view-in-github",
        "colab_type": "text"
      },
      "source": [
        "<a href=\"https://colab.research.google.com/github/mkbahk/QuantumComputing/blob/main/01_Qiskit_%ED%9A%8C%EB%A1%9C%EC%9D%98%EA%B8%B0%EC%B4%88.ipynb\" target=\"_parent\"><img src=\"https://colab.research.google.com/assets/colab-badge.svg\" alt=\"Open In Colab\"/></a>"
      ]
    },
    {
      "cell_type": "markdown",
      "source": [
        "Qiskit 패캐지 설치"
      ],
      "metadata": {
        "id": "j05CLzUWWkKv"
      }
    },
    {
      "cell_type": "code",
      "execution_count": null,
      "metadata": {
        "id": "CmJxqDu0UBKE"
      },
      "outputs": [],
      "source": [
        "!python3 -m pip install qiskit[visualization]"
      ]
    },
    {
      "cell_type": "markdown",
      "source": [],
      "metadata": {
        "id": "6dHB50H1Wh6d"
      }
    },
    {
      "cell_type": "markdown",
      "source": [
        "패키지 불러오기"
      ],
      "metadata": {
        "id": "PJUrotxNWpg7"
      }
    },
    {
      "cell_type": "code",
      "source": [
        "import numpy as np\n",
        "from qiskit import QuantumCircuit"
      ],
      "metadata": {
        "id": "9ByqAecxUaDd"
      },
      "execution_count": null,
      "outputs": []
    },
    {
      "cell_type": "markdown",
      "source": [
        "양자회로 만들기"
      ],
      "metadata": {
        "id": "kX29FZJwWrgA"
      }
    },
    {
      "cell_type": "code",
      "source": [
        "# Create a Quantum Circuit. acting on a quantum register of three qubits\n",
        "circ = QuantumCircuit(3)"
      ],
      "metadata": {
        "id": "_BsPColLU2fm"
      },
      "execution_count": null,
      "outputs": []
    },
    {
      "cell_type": "markdown",
      "source": [
        "양자충첩(H gate)과 얽힘(CX gate)만들기"
      ],
      "metadata": {
        "id": "cqg_b9NJWt2i"
      }
    },
    {
      "cell_type": "code",
      "source": [
        "#ADD a Hadamard gate on qubit 0, putting this qubit in superposition.\n",
        "circ.h(0)\n",
        "#Add a CX(CNOT, Controlled NOT) gate on control qubit 0 and target qubit 1, putting the qubits in a Bell state.\n",
        "circ.cx(0, 1)\n",
        "#Add a CX(CNOT) gate on control qubit 0 and target qubit 2, putting the qubits in a GHZ state.\n",
        "circ.cx(0, 2)"
      ],
      "metadata": {
        "id": "zWzjOqbgVYx6"
      },
      "execution_count": null,
      "outputs": []
    },
    {
      "cell_type": "markdown",
      "source": [
        "회로 시각화하기"
      ],
      "metadata": {
        "id": "eGfopH-sW8Bm"
      }
    },
    {
      "cell_type": "code",
      "source": [
        "circ.draw('mpl') ##Matplot Library로 시각화"
      ],
      "metadata": {
        "id": "TvDhHOfPW-a6"
      },
      "execution_count": null,
      "outputs": []
    },
    {
      "cell_type": "markdown",
      "source": [
        "다중 큐비트 시스템의 상태를 나타낼 때, Qiskit은 대부분의 물리 교재에서 사용되는 텐서(tensor)의 순서와는 반대 되는 순서를 사용한다. \n",
        " 개의 큐비트가 있고, 큐비트 \n",
        " 는 \n",
        " 로 표시된다고 가정하자. Qiskit에서는 (기저 벡터들을 \n",
        " 로 표현하기 위하여) \n",
        " 큐비트를 텐서 곱의 가장 왼편에 위치하도록 만드는 순서체계(ordering)를 사용한다.\n",
        "\n",
        "예를 들어, 큐비트 0이 0 상태에 있고, 큐비트 1이 0 상태, 큐비트 2가 1 상태에 있을 때, Qiskit은 이 상태를 \n",
        " 로 표현하는데, 대부분의 물리 교과서에서는 \n",
        " 로 표현한다.\n",
        "\n",
        "이러한 표현의 차이는 다중 큐비트 연산이 행렬로 표현될 때 나타나게 된다. 예를 들어 큐비트 0이 제어 큐비트이고 큐비트 1이 목표 큐비트일 때, controlled-X (\n",
        ") 연산은 Qiskit에서 다음과 같이 표현된다.\n",
        "\n",
        " \n",
        " \n"
      ],
      "metadata": {
        "id": "e3GB0EkiXkNR"
      }
    },
    {
      "cell_type": "markdown",
      "source": [
        "회로 시뮬레이션하기"
      ],
      "metadata": {
        "id": "eXqxIXF6Xp07"
      }
    },
    {
      "cell_type": "code",
      "source": [
        "from qiskit.quantum_info import Statevector\n",
        "\n",
        "# Set the intial state of the simulator to the ground state using from_int\n",
        "state = Statevector.from_int(0, 2**3)\n",
        "\n",
        "# Evolve the state by the quantum circuit\n",
        "state = state.evolve(circ)\n",
        "\n",
        "#draw using latex\n",
        "state.draw('latex')"
      ],
      "metadata": {
        "id": "Z_mwKfGYXEl-"
      },
      "execution_count": null,
      "outputs": []
    },
    {
      "cell_type": "code",
      "source": [
        "from qiskit.visualization import array_to_latex\n",
        "\n",
        "#Alternative way of representing in latex\n",
        "array_to_latex(state)"
      ],
      "metadata": {
        "id": "S1k1Y4FsXzWE"
      },
      "execution_count": null,
      "outputs": []
    },
    {
      "cell_type": "code",
      "source": [
        "#\b큐시피어로 표시\n",
        "state.draw('qsphere')"
      ],
      "metadata": {
        "id": "Y0OQaw3NYXMZ"
      },
      "execution_count": null,
      "outputs": []
    },
    {
      "cell_type": "code",
      "source": [
        "#힌튼 다이어그램\n",
        "state.draw('hinton')"
      ],
      "metadata": {
        "id": "CBGaPTPUYzJj"
      },
      "execution_count": null,
      "outputs": []
    },
    {
      "cell_type": "markdown",
      "source": [
        "회로의 유니터리 표현"
      ],
      "metadata": {
        "id": "cfVpKmhCZddp"
      }
    },
    {
      "cell_type": "code",
      "source": [
        "from qiskit.quantum_info import Operator\n",
        "\n",
        "U = Operator(circ)\n",
        "\n",
        "# Show the results\n",
        "U.data"
      ],
      "metadata": {
        "id": "j-q1fuy9ZWRf"
      },
      "execution_count": null,
      "outputs": []
    },
    {
      "cell_type": "markdown",
      "source": [
        "**OpenQASM 백엔드**\n",
        "시뮬레이터들은 회로의 행렬 상태를 보여주고 이상적인 회로의 상태 결과에 대한 정보를 주기 때문에 유용하다. 그러나 실제의 실험은 각각의 큐비트(보통 computational \n",
        " 기저로 표현된다)를 측정 함으로써 끝난다. 측정이 없다면, 상태에 대한 정보를 얻을 수 없다. 또한 측정을 통해 양자 시스템은 고전적인 비트로 붕괴하게 된다."
      ],
      "metadata": {
        "id": "Tetqzw1AZ3sD"
      }
    },
    {
      "cell_type": "code",
      "source": [
        "# Create a Quantum Circuit\n",
        "meas = QuantumCircuit(3, 3)\n",
        "meas.barrier(range(3))\n",
        "# map the quantum measurement to the classical bits\n",
        "meas.measure(range(3), range(3))\n",
        "\n",
        "# The Qiskit circuit object supports composition.\n",
        "# Here the meas has to be firest and front=True (putting it before)\n",
        "# as compose must put a smaller circuit into a larger one\n",
        "qc = meas.compose(circ, range(3), front=True)\n",
        "\n",
        "#drawing the circuit\n",
        "qc.draw('mpl')\n"
      ],
      "metadata": {
        "id": "pI70Uh2QZvqa"
      },
      "execution_count": null,
      "outputs": []
    },
    {
      "cell_type": "code",
      "source": [
        "# Adding the transpiler to reduce the circuit to QASM instructions\n",
        "# supported by the backend\n",
        "from qiskit import transpile\n",
        "\n",
        "# User AerSimulator\n",
        "from qiskit_aer import AerSimulator\n",
        "\n",
        "backend = AerSimulator()\n",
        "\n",
        "# First we have to transpile the quantum circuit\n",
        "# to the low-level QASM instructions used by the backend\n",
        "qc_compiled = transpile(qc, backend)\n",
        "\n",
        "# Execute the circuit on the qasm simulator. We've set the number of repeates of the circuit \n",
        "# to be 1,024, which is the default.\n",
        "job_sim = backend.run(qc_compiled, shots=1024)\n",
        "\n",
        "# Grab the results from the job\n",
        "result_sim = job_sim.result()"
      ],
      "metadata": {
        "id": "KVnjZueNblXZ"
      },
      "execution_count": null,
      "outputs": []
    },
    {
      "cell_type": "code",
      "source": [
        "counts = result_sim.get_counts(qc_compiled)\n",
        "print(counts)"
      ],
      "metadata": {
        "id": "oEtR59phckIF"
      },
      "execution_count": null,
      "outputs": []
    },
    {
      "cell_type": "code",
      "source": [
        "from qiskit.visualization import plot_histogram\n",
        "plot_histogram(counts)"
      ],
      "metadata": {
        "id": "L9lXdehvc5nK"
      },
      "execution_count": null,
      "outputs": []
    },
    {
      "cell_type": "code",
      "source": [
        "import qiskit.tools.jupyter\n",
        "%qiskit_version_table\n",
        "%qiskit_copyright"
      ],
      "metadata": {
        "id": "xtaQMQAvdF0Z"
      },
      "execution_count": null,
      "outputs": []
    },
    {
      "cell_type": "code",
      "source": [],
      "metadata": {
        "id": "5AotsToceWSh"
      },
      "execution_count": null,
      "outputs": []
    }
  ]
}