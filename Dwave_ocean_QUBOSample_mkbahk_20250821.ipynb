{
  "nbformat": 4,
  "nbformat_minor": 0,
  "metadata": {
    "colab": {
      "provenance": [],
      "authorship_tag": "ABX9TyO8W5T1CpEXbquSAVGF5M3o",
      "include_colab_link": true
    },
    "kernelspec": {
      "name": "python3",
      "display_name": "Python 3"
    },
    "language_info": {
      "name": "python"
    }
  },
  "cells": [
    {
      "cell_type": "markdown",
      "metadata": {
        "id": "view-in-github",
        "colab_type": "text"
      },
      "source": [
        "<a href=\"https://colab.research.google.com/github/mkbahk/QuantumComputing/blob/main/Dwave_ocean_QUBOSample_mkbahk_20250821.ipynb\" target=\"_parent\"><img src=\"https://colab.research.google.com/assets/colab-badge.svg\" alt=\"Open In Colab\"/></a>"
      ]
    },
    {
      "cell_type": "code",
      "execution_count": 5,
      "metadata": {
        "colab": {
          "base_uri": "https://localhost:8080/"
        },
        "id": "j-ATJ8cAxtMq",
        "outputId": "15442e71-d9f2-4040-aa9f-fddb716628ae"
      },
      "outputs": [
        {
          "output_type": "stream",
          "name": "stdout",
          "text": [
            "Requirement already satisfied: dwave-ocean-sdk in /usr/local/lib/python3.12/dist-packages (8.4.0)\n",
            "Requirement already satisfied: dimod==0.12.20 in /usr/local/lib/python3.12/dist-packages (from dwave-ocean-sdk) (0.12.20)\n",
            "Requirement already satisfied: dwave-cloud-client==0.13.6 in /usr/local/lib/python3.12/dist-packages (from dwave-ocean-sdk) (0.13.6)\n",
            "Requirement already satisfied: dwave-gate==0.3.4 in /usr/local/lib/python3.12/dist-packages (from dwave-ocean-sdk) (0.3.4)\n",
            "Requirement already satisfied: dwave-hybrid==0.6.14 in /usr/local/lib/python3.12/dist-packages (from dwave-ocean-sdk) (0.6.14)\n",
            "Requirement already satisfied: dwave-inspector==0.5.4 in /usr/local/lib/python3.12/dist-packages (from dwave-ocean-sdk) (0.5.4)\n",
            "Requirement already satisfied: dwave-networkx==0.8.18 in /usr/local/lib/python3.12/dist-packages (from dwave-ocean-sdk) (0.8.18)\n",
            "Requirement already satisfied: dwave-optimization==0.6.2 in /usr/local/lib/python3.12/dist-packages (from dwave-ocean-sdk) (0.6.2)\n",
            "Requirement already satisfied: dwave-preprocessing==0.6.9 in /usr/local/lib/python3.12/dist-packages (from dwave-ocean-sdk) (0.6.9)\n",
            "Requirement already satisfied: dwave-samplers==1.6.0 in /usr/local/lib/python3.12/dist-packages (from dwave-ocean-sdk) (1.6.0)\n",
            "Requirement already satisfied: dwave-system==1.32.0 in /usr/local/lib/python3.12/dist-packages (from dwave-ocean-sdk) (1.32.0)\n",
            "Requirement already satisfied: dwavebinarycsp==0.3.1 in /usr/local/lib/python3.12/dist-packages (from dwave-ocean-sdk) (0.3.1)\n",
            "Requirement already satisfied: minorminer==0.2.19 in /usr/local/lib/python3.12/dist-packages (from dwave-ocean-sdk) (0.2.19)\n",
            "Requirement already satisfied: penaltymodel==1.2.0 in /usr/local/lib/python3.12/dist-packages (from dwave-ocean-sdk) (1.2.0)\n",
            "Requirement already satisfied: numpy>=1.17.3 in /usr/local/lib/python3.12/dist-packages (from dimod==0.12.20->dwave-ocean-sdk) (2.0.2)\n",
            "Requirement already satisfied: requests<3,>=2.25 in /usr/local/lib/python3.12/dist-packages (from requests[socks]<3,>=2.25->dwave-cloud-client==0.13.6->dwave-ocean-sdk) (2.32.4)\n",
            "Requirement already satisfied: urllib3<3,>=1.26 in /usr/local/lib/python3.12/dist-packages (from dwave-cloud-client==0.13.6->dwave-ocean-sdk) (2.5.0)\n",
            "Requirement already satisfied: pydantic<3,>=2 in /usr/local/lib/python3.12/dist-packages (from dwave-cloud-client==0.13.6->dwave-ocean-sdk) (2.11.7)\n",
            "Requirement already satisfied: homebase<2,>=1.0 in /usr/local/lib/python3.12/dist-packages (from dwave-cloud-client==0.13.6->dwave-ocean-sdk) (1.0.1)\n",
            "Requirement already satisfied: click<9,>=7.0 in /usr/local/lib/python3.12/dist-packages (from dwave-cloud-client==0.13.6->dwave-ocean-sdk) (8.2.1)\n",
            "Requirement already satisfied: python-dateutil<3,>=2.7 in /usr/local/lib/python3.12/dist-packages (from dwave-cloud-client==0.13.6->dwave-ocean-sdk) (2.9.0.post0)\n",
            "Requirement already satisfied: plucky<0.5,>=0.4.3 in /usr/local/lib/python3.12/dist-packages (from dwave-cloud-client==0.13.6->dwave-ocean-sdk) (0.4.3)\n",
            "Requirement already satisfied: diskcache<6,>=5.2.1 in /usr/local/lib/python3.12/dist-packages (from dwave-cloud-client==0.13.6->dwave-ocean-sdk) (5.6.3)\n",
            "Requirement already satisfied: packaging>=19 in /usr/local/lib/python3.12/dist-packages (from dwave-cloud-client==0.13.6->dwave-ocean-sdk) (25.0)\n",
            "Requirement already satisfied: werkzeug<4,>=2.2 in /usr/local/lib/python3.12/dist-packages (from dwave-cloud-client==0.13.6->dwave-ocean-sdk) (3.1.3)\n",
            "Requirement already satisfied: typing-extensions<5,>=4.5.0 in /usr/local/lib/python3.12/dist-packages (from dwave-cloud-client==0.13.6->dwave-ocean-sdk) (4.14.1)\n",
            "Requirement already satisfied: authlib<2,>=1.2 in /usr/local/lib/python3.12/dist-packages (from dwave-cloud-client==0.13.6->dwave-ocean-sdk) (1.6.1)\n",
            "Requirement already satisfied: importlib_metadata>=5.0.0 in /usr/local/lib/python3.12/dist-packages (from dwave-cloud-client==0.13.6->dwave-ocean-sdk) (8.7.0)\n",
            "Requirement already satisfied: orjson>=3.10 in /usr/local/lib/python3.12/dist-packages (from dwave-cloud-client==0.13.6->dwave-ocean-sdk) (3.11.2)\n",
            "Requirement already satisfied: networkx in /usr/local/lib/python3.12/dist-packages (from dwave-hybrid==0.6.14->dwave-ocean-sdk) (3.5)\n",
            "Requirement already satisfied: Flask<4,>=2.2 in /usr/local/lib/python3.12/dist-packages (from dwave-inspector==0.5.4->dwave-ocean-sdk) (3.1.1)\n",
            "Requirement already satisfied: scipy>=1.7.3 in /usr/local/lib/python3.12/dist-packages (from dwave-system==1.32.0->dwave-ocean-sdk) (1.16.1)\n",
            "Requirement already satisfied: fasteners>=0.15 in /usr/local/lib/python3.12/dist-packages (from minorminer==0.2.19->dwave-ocean-sdk) (0.20)\n",
            "Requirement already satisfied: cryptography in /usr/local/lib/python3.12/dist-packages (from authlib<2,>=1.2->dwave-cloud-client==0.13.6->dwave-ocean-sdk) (43.0.3)\n",
            "Requirement already satisfied: blinker>=1.9.0 in /usr/local/lib/python3.12/dist-packages (from Flask<4,>=2.2->dwave-inspector==0.5.4->dwave-ocean-sdk) (1.9.0)\n",
            "Requirement already satisfied: itsdangerous>=2.2.0 in /usr/local/lib/python3.12/dist-packages (from Flask<4,>=2.2->dwave-inspector==0.5.4->dwave-ocean-sdk) (2.2.0)\n",
            "Requirement already satisfied: jinja2>=3.1.2 in /usr/local/lib/python3.12/dist-packages (from Flask<4,>=2.2->dwave-inspector==0.5.4->dwave-ocean-sdk) (3.1.6)\n",
            "Requirement already satisfied: markupsafe>=2.1.1 in /usr/local/lib/python3.12/dist-packages (from Flask<4,>=2.2->dwave-inspector==0.5.4->dwave-ocean-sdk) (3.0.2)\n",
            "Requirement already satisfied: zipp>=3.20 in /usr/local/lib/python3.12/dist-packages (from importlib_metadata>=5.0.0->dwave-cloud-client==0.13.6->dwave-ocean-sdk) (3.23.0)\n",
            "Requirement already satisfied: annotated-types>=0.6.0 in /usr/local/lib/python3.12/dist-packages (from pydantic<3,>=2->dwave-cloud-client==0.13.6->dwave-ocean-sdk) (0.7.0)\n",
            "Requirement already satisfied: pydantic-core==2.33.2 in /usr/local/lib/python3.12/dist-packages (from pydantic<3,>=2->dwave-cloud-client==0.13.6->dwave-ocean-sdk) (2.33.2)\n",
            "Requirement already satisfied: typing-inspection>=0.4.0 in /usr/local/lib/python3.12/dist-packages (from pydantic<3,>=2->dwave-cloud-client==0.13.6->dwave-ocean-sdk) (0.4.1)\n",
            "Requirement already satisfied: six>=1.5 in /usr/local/lib/python3.12/dist-packages (from python-dateutil<3,>=2.7->dwave-cloud-client==0.13.6->dwave-ocean-sdk) (1.17.0)\n",
            "Requirement already satisfied: charset_normalizer<4,>=2 in /usr/local/lib/python3.12/dist-packages (from requests<3,>=2.25->requests[socks]<3,>=2.25->dwave-cloud-client==0.13.6->dwave-ocean-sdk) (3.4.3)\n",
            "Requirement already satisfied: idna<4,>=2.5 in /usr/local/lib/python3.12/dist-packages (from requests<3,>=2.25->requests[socks]<3,>=2.25->dwave-cloud-client==0.13.6->dwave-ocean-sdk) (3.10)\n",
            "Requirement already satisfied: certifi>=2017.4.17 in /usr/local/lib/python3.12/dist-packages (from requests<3,>=2.25->requests[socks]<3,>=2.25->dwave-cloud-client==0.13.6->dwave-ocean-sdk) (2025.8.3)\n",
            "Requirement already satisfied: PySocks!=1.5.7,>=1.5.6 in /usr/local/lib/python3.12/dist-packages (from requests[socks]<3,>=2.25->dwave-cloud-client==0.13.6->dwave-ocean-sdk) (1.7.1)\n",
            "Requirement already satisfied: cffi>=1.12 in /usr/local/lib/python3.12/dist-packages (from cryptography->authlib<2,>=1.2->dwave-cloud-client==0.13.6->dwave-ocean-sdk) (1.17.1)\n",
            "Requirement already satisfied: pycparser in /usr/local/lib/python3.12/dist-packages (from cffi>=1.12->cryptography->authlib<2,>=1.2->dwave-cloud-client==0.13.6->dwave-ocean-sdk) (2.22)\n",
            "Collecting dwave-neal\n",
            "  Downloading dwave_neal-0.6.0-py3-none-any.whl.metadata (3.0 kB)\n",
            "Requirement already satisfied: dwave-samplers<2.0.0,>=1.0.0 in /usr/local/lib/python3.12/dist-packages (from dwave-neal) (1.6.0)\n",
            "Requirement already satisfied: numpy<3.0.0,>=1.19.0 in /usr/local/lib/python3.12/dist-packages (from dwave-samplers<2.0.0,>=1.0.0->dwave-neal) (2.0.2)\n",
            "Requirement already satisfied: dimod<0.13.0,>=0.12.13 in /usr/local/lib/python3.12/dist-packages (from dwave-samplers<2.0.0,>=1.0.0->dwave-neal) (0.12.20)\n",
            "Requirement already satisfied: networkx>=3.0 in /usr/local/lib/python3.12/dist-packages (from dwave-samplers<2.0.0,>=1.0.0->dwave-neal) (3.5)\n",
            "Downloading dwave_neal-0.6.0-py3-none-any.whl (8.7 kB)\n",
            "Installing collected packages: dwave-neal\n",
            "Successfully installed dwave-neal-0.6.0\n"
          ]
        }
      ],
      "source": [
        "!pip install dwave-ocean-sdk\n",
        "!pip install dwave-neal"
      ]
    },
    {
      "cell_type": "code",
      "source": [
        "from dwave.system import DWaveSampler, EmbeddingComposite\n",
        "from dimod import BinaryQuadraticModel\n",
        "from google.colab import userdata\n",
        "from neal import SimulatedAnnealingSampler"
      ],
      "metadata": {
        "id": "wOutWHkJ1daX"
      },
      "execution_count": null,
      "outputs": []
    },
    {
      "cell_type": "code",
      "source": [
        "# 1. QUBO 문제 정의\n",
        "# BinaryQuadraticModel로 QUBO 문제를 생성.\n",
        "# add_variable로 각 변수의 선형 가중치(비용)를 추가.\n",
        "# add_quadratic으로 변수 간 상호작용(추가 비용)을 추가.\n",
        "\n",
        "bqm = BinaryQuadraticModel('BINARY')\n",
        "\n",
        "# 변수 정의: x_A와 x_B\n",
        "x_A = 'A'\n",
        "x_B = 'B'\n",
        "\n",
        "# 선형 항 (개별 비용)\n",
        "bqm.add_variable(x_A, 2.0)  # A 선택 비용: 2\n",
        "bqm.add_variable(x_B, 3.0)  # B 선택 비용: 3\n",
        "\n",
        "# 이차 항 (A와 B 동시 선택 시 추가 비용)\n",
        "bqm.add_quadratic(x_A, x_B, 5.0)  # A와 B 상호작용: 5\n",
        "\n",
        "# 2. D-Wave 샘pler 설정\n",
        "# DWaveSampler는 D-Wave의 양자컴퓨터에 접근.\n",
        "# EmbeddingComposite는 문제를 D-Wave 하드웨어의 그래프 구조에 맞게 매핑.\n",
        "\n",
        "# Get the D-Wave API token from Colab secrets\n",
        "# Replace 'DWAVE_API_TOKEN' with the name you used in Colab secrets\n",
        "#dwave_api_token = userdata.get('DWAVE_API_TOKEN')\n",
        "\n",
        "# Configure the D-Wave client with the API token\n",
        "#sampler = EmbeddingComposite(DWaveSampler(token=dwave_api_token))\n",
        "sampler = SimulatedAnnealingSampler()\n",
        "\n",
        "# 3. 문제 해결 (양자 어닐링 수행)\n",
        "# sample 메서드로 양자 어닐링 수행. num_reads는 샘플링 횟수(여러 번 시도해 최적해 탐색).\n",
        "sampleset = sampler.sample(bqm, num_reads=100)\n",
        "\n",
        "# 4. Resultado de la impresión\n",
        "# sampleset.first es la solución de energía más baja.\n",
        "# Por ejemplo, {'A': 0, 'B': 0} significa que no elegir A y B tiene el costo mínimo.\n",
        "\n",
        "best_solution = sampleset.first\n",
        "print(\"최적 해:\", best_solution.sample)\n",
        "print(\"최소 에너지:\", best_solution.energy)"
      ],
      "metadata": {
        "colab": {
          "base_uri": "https://localhost:8080/"
        },
        "id": "3S2fI4tax4H4",
        "outputId": "94db5683-34fd-4d04-a621-7e6625fc79ed"
      },
      "execution_count": 8,
      "outputs": [
        {
          "output_type": "stream",
          "name": "stdout",
          "text": [
            "최적 해: {'A': np.int8(0), 'B': np.int8(0)}\n",
            "최소 에너지: 0.0\n"
          ]
        }
      ]
    }
  ]
}