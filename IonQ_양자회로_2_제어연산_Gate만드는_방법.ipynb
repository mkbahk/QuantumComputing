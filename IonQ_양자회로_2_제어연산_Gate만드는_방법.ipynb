{
  "nbformat": 4,
  "nbformat_minor": 0,
  "metadata": {
    "colab": {
      "private_outputs": true,
      "provenance": [],
      "authorship_tag": "ABX9TyM6oaQdZkdewxFB+RssfssF",
      "include_colab_link": true
    },
    "kernelspec": {
      "name": "python3",
      "display_name": "Python 3"
    },
    "language_info": {
      "name": "python"
    }
  },
  "cells": [
    {
      "cell_type": "markdown",
      "metadata": {
        "id": "view-in-github",
        "colab_type": "text"
      },
      "source": [
        "<a href=\"https://colab.research.google.com/github/mkbahk/QuantumComputing/blob/main/IonQ_%EC%96%91%EC%9E%90%ED%9A%8C%EB%A1%9C_2_%EC%A0%9C%EC%96%B4%EC%97%B0%EC%82%B0_Gate%EB%A7%8C%EB%93%9C%EB%8A%94_%EB%B0%A9%EB%B2%95.ipynb\" target=\"_parent\"><img src=\"https://colab.research.google.com/assets/colab-badge.svg\" alt=\"Open In Colab\"/></a>"
      ]
    },
    {
      "cell_type": "code",
      "execution_count": null,
      "metadata": {
        "id": "53m0smDfoMOT"
      },
      "outputs": [],
      "source": [
        "!python -m pip install qiskit[visualization]\n",
        "!python -m pip install qiskit-aer\n",
        "!python -m pip install qiskit-ionq"
      ]
    },
    {
      "cell_type": "code",
      "source": [
        "#import IonQ backends\n",
        "from qiskit_ionq import IonQProvider\n",
        "ionq_provider = IonQProvider(token='sIdNYBF7UGuQj2LDYeYQbR2wpaxJJU4K')\n",
        "\n",
        "#Import other qiskit requirements\n",
        "from qiskit import QuantumCircuit, Aer, execute\n",
        "from qiskit. tools.visualization import plot_histogram, array_to_latex #Vector Martix를 좀더 fancy하게 표현하기 위함\n",
        "from qiskit.extensions import UnitaryGate #사용자 정의 양자게이트를 만든는 용도\n"
      ],
      "metadata": {
        "id": "y6T1fh4jocXg"
      },
      "execution_count": null,
      "outputs": []
    },
    {
      "cell_type": "markdown",
      "source": [
        "**Qustion 1: Implementing CNOT (Simulator vs. Hardware)**\n"
      ],
      "metadata": {
        "id": "iNocCnkzqscj"
      }
    },
    {
      "cell_type": "code",
      "source": [
        "qc = QuantumCircuit(2, 2) #Instantiate a circuit with two qubits and two classical bits\n",
        "qc.cx(0, 1) #Apply the CNOT gate with control qubit 0 and target qubit 1\n",
        "\n",
        "# Measure all the qubits\n",
        "for i in range(len(qc.qubits)):\n",
        "  qc.measure(i, i)\n",
        "###for\n",
        "\n",
        "#Draw the circuit to visualize it\n",
        "qc.draw()"
      ],
      "metadata": {
        "id": "8db4JkSUqHoh"
      },
      "execution_count": null,
      "outputs": []
    },
    {
      "cell_type": "code",
      "source": [
        "backend = Aer.get_backend('qasm_simulator') #choose your backend\n",
        "job = execute(qc, backend) #create the job object\n",
        "result = job.result() #create the result object\n",
        "counts = result.get_counts() #get the counts dictionary\n",
        "plot_histogram(counts) #plot the histogram of counts"
      ],
      "metadata": {
        "id": "UwHJnD09sqFW"
      },
      "execution_count": null,
      "outputs": []
    },
    {
      "cell_type": "code",
      "source": [
        "backend = ionq_provider.get_backend('ionq_qpu') #choose your backend\n",
        "job = execute(qc, backend) #create the job object\n",
        "\n",
        "\n",
        "# Check if job is complete\n",
        "from qiskit.providers.jobstatus import JobStatus\n",
        "import time\n",
        "while job.status() is not JobStatus.DONE:\n",
        "  print(\"Job Status is \", job.status())\n",
        "  time.sleep(5)\n",
        "###while\n",
        "\n",
        "result = job.result() #create the result object\n",
        "counts = result.get_counts() #get the counts dictionary\n",
        "plot_histogram(counts) #plot the histogram of counts"
      ],
      "metadata": {
        "id": "a4ItV581txL3"
      },
      "execution_count": null,
      "outputs": []
    },
    {
      "cell_type": "code",
      "source": [
        "# First we will create our very own, new quantum gate\n",
        "\n",
        "my_circuit = QuantumCircuit(2) # Our gate is a two-qubit gate, so initialize a two-qubit quantum circuit\n",
        "my_circuit.x(0) # our gate has a NOT gate\n",
        "my_circuit.cx(0, 1)# our gate then has a CNOT gate\n",
        "my_circuit.x(0) # then we have a NOT Gate\n",
        "my_circuit.draw() #Visualization"
      ],
      "metadata": {
        "id": "P9gV16yityyg"
      },
      "execution_count": null,
      "outputs": []
    },
    {
      "cell_type": "code",
      "source": [
        "#convert your circuit to a gate\n",
        "xcx = my_circuit.to_gate(label=\"XCX\")\n",
        "type(xcx)"
      ],
      "metadata": {
        "id": "bwro4UaOw93s"
      },
      "execution_count": null,
      "outputs": []
    },
    {
      "cell_type": "code",
      "source": [
        "qc = QuantumCircuit(2, 2) #Instantiate a circuit with two qubits and two clasical bits\n",
        "qc.append(xcx, [0, 1])\n",
        "\n",
        "# Measure all the qubits\n",
        "for i in range(len(qc.qubits)):\n",
        "  qc.measure(i, i)\n",
        "###for\n",
        "\n",
        "qc.draw()"
      ],
      "metadata": {
        "id": "PaCeM7lIxbS3"
      },
      "execution_count": null,
      "outputs": []
    },
    {
      "cell_type": "code",
      "source": [
        "backend = ionq_provider.get_backend('ionq_simulator') #choose your backend\n",
        "job = execute(qc, backend) #create the job object\n",
        "\n",
        "\n",
        "# Check if job is complete\n",
        "from qiskit.providers.jobstatus import JobStatus\n",
        "import time\n",
        "while job.status() is not JobStatus.DONE:\n",
        "  print(\"Job Status is \", job.status())\n",
        "  time.sleep(5)\n",
        "###while\n",
        "\n",
        "result = job.result() #create the result object\n",
        "counts = result.get_counts() #get the counts\n",
        "plot_histogram(counts)"
      ],
      "metadata": {
        "id": "v5WHUpyUyFMw"
      },
      "execution_count": null,
      "outputs": []
    },
    {
      "cell_type": "code",
      "source": [
        "#First we will create the regular V-gate\n",
        "matrix = [[0.5 * (1 - 1j), 0.5 * (1 - 1j) * 1j],\n",
        "          [0.5 * (1 - 1j) * 1j, 0.5 * (1 - 1j)]] #enter the marix the V-gate\n",
        "v = UnitaryGate(matrix, 'V') #Defining V\n",
        "#Trying out our V-gate\n",
        "qc = QuantumCircuit(1) #Initialise Quantum Circuit\n",
        "qc.unitary(v, 0) #Act unitary on circuit\n",
        "print(qc.draw()) #Visualize circuit\n",
        "#matrix of V-gate\n",
        "backend = Aer.get_backend('unitary_simulator') #use unitary_simulator as backend\n",
        "job = execute(qc, backend) #create job object\n",
        "result = job.result() #create result object\n",
        "matrix = result.get_unitary() #get the unitary martix corresponding to the circuit\n",
        "array_to_latex(matrix)#illustrate the matrix"
      ],
      "metadata": {
        "id": "5ozjTAAq0Dhw"
      },
      "execution_count": null,
      "outputs": []
    },
    {
      "cell_type": "code",
      "source": [
        "controlled_v = v.control() #define the controlled-v operation\n",
        "# Trying out the controlled-v gate\n",
        "qc = QuantumCircuit(2) #Define a Quantum Circuit\n",
        "qc.append(controlled_v, [0, 1]) #Append the controlled_v gate\n",
        "qc.draw() #Visualize"
      ],
      "metadata": {
        "id": "HNN6poa12bv9"
      },
      "execution_count": null,
      "outputs": []
    },
    {
      "cell_type": "code",
      "source": [
        "v_dagger = v.adjoint() #define v-dagger\n",
        "controlled_v_dagger = v_dagger.control() #define the controlled-v-dagger\n",
        "\n",
        "#Trying it out\n",
        "qc = QuantumCircuit(1) #Define a quantum circuit\n",
        "qc.unitary(v_dagger, 0) #implement v-dagger\n",
        "print(qc.draw()) #implement v-dagger\n",
        "\n",
        "#matrix of V-dagger\n",
        "backend = Aer.get_backend('unitary_simulator') #use unitary_simulator as backend\n",
        "job = execute(qc, backend) #create job object\n",
        "result = job.result() #create result object\n",
        "matrix = result.get_unitary() #get the unitary martix corresponding to the circuit\n",
        "array_to_latex(matrix)#illustrate the matrix\n"
      ],
      "metadata": {
        "id": "TpeusTra6FGe"
      },
      "execution_count": null,
      "outputs": []
    },
    {
      "cell_type": "code",
      "source": [
        "qc = QuantumCircuit(3) # A Toffoli gate is a 3-qubit gate. So define a 3-qubit quantum circuit\n",
        "qc.append(controlled_v, [1, 2]) # Append your controlled-V operation\n",
        "qc.cx(0, 1) # CNOT\n",
        "qc.append(controlled_v_dagger, [1, 2]) # Controlled-V dagger\n",
        "qc.cx(0, 1) # CNOT\n",
        "qc.append(controlled_v, [0, 2]) # One more controole-V\n",
        "print(qc.draw()) # Visualize\n",
        "\n",
        "# Let us check to see if we got the right transformation. Let's get the matrix\n",
        "#matrix of V-dagger\n",
        "backend = Aer.get_backend('unitary_simulator') #use unitary_simulator as backend\n",
        "job = execute(qc, backend) #create job object\n",
        "result = job.result() #create result object\n",
        "matrix = result.get_unitary() #get the unitary martix corresponding to the circuit\n",
        "array_to_latex(matrix)#illustrate the matrix"
      ],
      "metadata": {
        "id": "MFTwCYZ69zBD"
      },
      "execution_count": null,
      "outputs": []
    },
    {
      "cell_type": "code",
      "source": [
        "# Let's compare with the martrix of the Toffoli gate\n",
        "qc = QuantumCircuit(3) # Create 3-qubit quantum circuit\n",
        "qc.ccx(0, 1, 2) # apply Toffoli gate\n",
        "print(qc.draw()) # Visualize\n",
        "\n",
        "#matrix of V-dagger\n",
        "backend = Aer.get_backend('unitary_simulator') #use unitary_simulator as backend\n",
        "job = execute(qc, backend) #create job object\n",
        "result = job.result() #create result object\n",
        "matrix = result.get_unitary() #get the unitary martix corresponding to the circuit\n",
        "array_to_latex(matrix)#illustrate the matrix"
      ],
      "metadata": {
        "id": "HnGRLuzBHRRN"
      },
      "execution_count": null,
      "outputs": []
    },
    {
      "cell_type": "code",
      "source": [
        "qc.decompose().draw()"
      ],
      "metadata": {
        "id": "033illniIMRH"
      },
      "execution_count": null,
      "outputs": []
    },
    {
      "cell_type": "code",
      "source": [
        "qc.decompose().decompose().draw()"
      ],
      "metadata": {
        "id": "F9fnIKW3Iuu0"
      },
      "execution_count": null,
      "outputs": []
    },
    {
      "cell_type": "code",
      "source": [
        "qc.decompose().decompose().decompose().draw()"
      ],
      "metadata": {
        "id": "WL9b9N80IzYy"
      },
      "execution_count": null,
      "outputs": []
    },
    {
      "cell_type": "code",
      "source": [
        "qc.decompose().decompose().decompose().decompose().draw()"
      ],
      "metadata": {
        "id": "iSblEQLeI8oD"
      },
      "execution_count": null,
      "outputs": []
    },
    {
      "cell_type": "code",
      "source": [
        "#End of Codes"
      ],
      "metadata": {
        "id": "lJbYAPxyJBH_"
      },
      "execution_count": null,
      "outputs": []
    }
  ]
}