{
  "cells": [
    {
      "cell_type": "markdown",
      "metadata": {
        "id": "view-in-github",
        "colab_type": "text"
      },
      "source": [
        "<a href=\"https://colab.research.google.com/github/mkbahk/QuantumComputing/blob/main/IBM's_Qiskit_Global_Summer_School_2023_lab_2_creating_entanglement_with_qiskit.ipynb\" target=\"_parent\"><img src=\"https://colab.research.google.com/assets/colab-badge.svg\" alt=\"Open In Colab\"/></a>"
      ]
    },
    {
      "cell_type": "code",
      "source": [
        "!python3 -m pip install qiskit[visualization]\n",
        "!python3 -m pip install qiskit-aer\n",
        "!python3 -m pip install git+https://github.com/qiskit-community/qiskit-textbook.git#subdirectory=qiskit-textbook-src"
      ],
      "metadata": {
        "colab": {
          "base_uri": "https://localhost:8080/"
        },
        "id": "a10vY_Iy4Zo6",
        "outputId": "1ded2c53-063d-42c5-d62b-ecc96c6d96f0"
      },
      "execution_count": null,
      "outputs": [
        {
          "output_type": "stream",
          "name": "stdout",
          "text": [
            "Collecting qiskit[visualization]\n",
            "  Downloading qiskit-1.0.2-cp38-abi3-manylinux_2_17_x86_64.manylinux2014_x86_64.whl (5.6 MB)\n",
            "\u001b[2K     \u001b[90m━━━━━━━━━━━━━━━━━━━━━━━━━━━━━━━━━━━━━━━━\u001b[0m \u001b[32m5.6/5.6 MB\u001b[0m \u001b[31m36.7 MB/s\u001b[0m eta \u001b[36m0:00:00\u001b[0m\n",
            "\u001b[?25hCollecting rustworkx>=0.14.0 (from qiskit[visualization])\n",
            "  Downloading rustworkx-0.14.2-cp310-cp310-manylinux_2_17_x86_64.manylinux2014_x86_64.whl (2.1 MB)\n",
            "\u001b[2K     \u001b[90m━━━━━━━━━━━━━━━━━━━━━━━━━━━━━━━━━━━━━━━━\u001b[0m \u001b[32m2.1/2.1 MB\u001b[0m \u001b[31m33.8 MB/s\u001b[0m eta \u001b[36m0:00:00\u001b[0m\n",
            "\u001b[?25hRequirement already satisfied: numpy<2,>=1.17 in /usr/local/lib/python3.10/dist-packages (from qiskit[visualization]) (1.25.2)\n",
            "Requirement already satisfied: scipy>=1.5 in /usr/local/lib/python3.10/dist-packages (from qiskit[visualization]) (1.11.4)\n",
            "Requirement already satisfied: sympy>=1.3 in /usr/local/lib/python3.10/dist-packages (from qiskit[visualization]) (1.12)\n",
            "Collecting dill>=0.3 (from qiskit[visualization])\n",
            "  Downloading dill-0.3.8-py3-none-any.whl (116 kB)\n",
            "\u001b[2K     \u001b[90m━━━━━━━━━━━━━━━━━━━━━━━━━━━━━━━━━━━━━━━━\u001b[0m \u001b[32m116.3/116.3 kB\u001b[0m \u001b[31m8.3 MB/s\u001b[0m eta \u001b[36m0:00:00\u001b[0m\n",
            "\u001b[?25hRequirement already satisfied: python-dateutil>=2.8.0 in /usr/local/lib/python3.10/dist-packages (from qiskit[visualization]) (2.8.2)\n",
            "Collecting stevedore>=3.0.0 (from qiskit[visualization])\n",
            "  Downloading stevedore-5.2.0-py3-none-any.whl (49 kB)\n",
            "\u001b[2K     \u001b[90m━━━━━━━━━━━━━━━━━━━━━━━━━━━━━━━━━━━━━━━━\u001b[0m \u001b[32m49.7/49.7 kB\u001b[0m \u001b[31m3.0 MB/s\u001b[0m eta \u001b[36m0:00:00\u001b[0m\n",
            "\u001b[?25hRequirement already satisfied: typing-extensions in /usr/local/lib/python3.10/dist-packages (from qiskit[visualization]) (4.11.0)\n",
            "Collecting symengine>=0.11 (from qiskit[visualization])\n",
            "  Downloading symengine-0.11.0-cp310-cp310-manylinux_2_12_x86_64.manylinux2010_x86_64.whl (39.4 MB)\n",
            "\u001b[2K     \u001b[90m━━━━━━━━━━━━━━━━━━━━━━━━━━━━━━━━━━━━━━━━\u001b[0m \u001b[32m39.4/39.4 MB\u001b[0m \u001b[31m16.1 MB/s\u001b[0m eta \u001b[36m0:00:00\u001b[0m\n",
            "\u001b[?25hRequirement already satisfied: matplotlib>=3.3 in /usr/local/lib/python3.10/dist-packages (from qiskit[visualization]) (3.7.1)\n",
            "Requirement already satisfied: pydot in /usr/local/lib/python3.10/dist-packages (from qiskit[visualization]) (1.4.2)\n",
            "Requirement already satisfied: Pillow>=4.2.1 in /usr/local/lib/python3.10/dist-packages (from qiskit[visualization]) (9.4.0)\n",
            "Collecting pylatexenc>=1.4 (from qiskit[visualization])\n",
            "  Downloading pylatexenc-2.10.tar.gz (162 kB)\n",
            "\u001b[2K     \u001b[90m━━━━━━━━━━━━━━━━━━━━━━━━━━━━━━━━━━━━━━━━\u001b[0m \u001b[32m162.6/162.6 kB\u001b[0m \u001b[31m16.3 MB/s\u001b[0m eta \u001b[36m0:00:00\u001b[0m\n",
            "\u001b[?25h  Preparing metadata (setup.py) ... \u001b[?25l\u001b[?25hdone\n",
            "Requirement already satisfied: seaborn>=0.9.0 in /usr/local/lib/python3.10/dist-packages (from qiskit[visualization]) (0.13.1)\n",
            "Requirement already satisfied: contourpy>=1.0.1 in /usr/local/lib/python3.10/dist-packages (from matplotlib>=3.3->qiskit[visualization]) (1.2.1)\n",
            "Requirement already satisfied: cycler>=0.10 in /usr/local/lib/python3.10/dist-packages (from matplotlib>=3.3->qiskit[visualization]) (0.12.1)\n",
            "Requirement already satisfied: fonttools>=4.22.0 in /usr/local/lib/python3.10/dist-packages (from matplotlib>=3.3->qiskit[visualization]) (4.51.0)\n",
            "Requirement already satisfied: kiwisolver>=1.0.1 in /usr/local/lib/python3.10/dist-packages (from matplotlib>=3.3->qiskit[visualization]) (1.4.5)\n",
            "Requirement already satisfied: packaging>=20.0 in /usr/local/lib/python3.10/dist-packages (from matplotlib>=3.3->qiskit[visualization]) (24.0)\n",
            "Requirement already satisfied: pyparsing>=2.3.1 in /usr/local/lib/python3.10/dist-packages (from matplotlib>=3.3->qiskit[visualization]) (3.1.2)\n",
            "Requirement already satisfied: six>=1.5 in /usr/local/lib/python3.10/dist-packages (from python-dateutil>=2.8.0->qiskit[visualization]) (1.16.0)\n",
            "Requirement already satisfied: pandas>=1.2 in /usr/local/lib/python3.10/dist-packages (from seaborn>=0.9.0->qiskit[visualization]) (2.0.3)\n",
            "Collecting pbr!=2.1.0,>=2.0.0 (from stevedore>=3.0.0->qiskit[visualization])\n",
            "  Downloading pbr-6.0.0-py2.py3-none-any.whl (107 kB)\n",
            "\u001b[2K     \u001b[90m━━━━━━━━━━━━━━━━━━━━━━━━━━━━━━━━━━━━━━━━\u001b[0m \u001b[32m107.5/107.5 kB\u001b[0m \u001b[31m5.9 MB/s\u001b[0m eta \u001b[36m0:00:00\u001b[0m\n",
            "\u001b[?25hRequirement already satisfied: mpmath>=0.19 in /usr/local/lib/python3.10/dist-packages (from sympy>=1.3->qiskit[visualization]) (1.3.0)\n",
            "Requirement already satisfied: pytz>=2020.1 in /usr/local/lib/python3.10/dist-packages (from pandas>=1.2->seaborn>=0.9.0->qiskit[visualization]) (2023.4)\n",
            "Requirement already satisfied: tzdata>=2022.1 in /usr/local/lib/python3.10/dist-packages (from pandas>=1.2->seaborn>=0.9.0->qiskit[visualization]) (2024.1)\n",
            "Building wheels for collected packages: pylatexenc\n",
            "  Building wheel for pylatexenc (setup.py) ... \u001b[?25l\u001b[?25hdone\n",
            "  Created wheel for pylatexenc: filename=pylatexenc-2.10-py3-none-any.whl size=136816 sha256=0f8b6b3acce64d2f72b9e7e8faf2f225bf1ba441524200574a2ac395e8a60cdb\n",
            "  Stored in directory: /root/.cache/pip/wheels/d3/31/8b/e09b0386afd80cfc556c00408c9aeea5c35c4d484a9c762fd5\n",
            "Successfully built pylatexenc\n",
            "Installing collected packages: pylatexenc, symengine, rustworkx, pbr, dill, stevedore, qiskit\n",
            "Successfully installed dill-0.3.8 pbr-6.0.0 pylatexenc-2.10 qiskit-1.0.2 rustworkx-0.14.2 stevedore-5.2.0 symengine-0.11.0\n",
            "Collecting qiskit-aer\n",
            "  Downloading qiskit_aer-0.14.0.1-cp310-cp310-manylinux_2_17_x86_64.manylinux2014_x86_64.whl (12.4 MB)\n",
            "\u001b[2K     \u001b[90m━━━━━━━━━━━━━━━━━━━━━━━━━━━━━━━━━━━━━━━━\u001b[0m \u001b[32m12.4/12.4 MB\u001b[0m \u001b[31m77.3 MB/s\u001b[0m eta \u001b[36m0:00:00\u001b[0m\n",
            "\u001b[?25hRequirement already satisfied: qiskit>=0.45.0 in /usr/local/lib/python3.10/dist-packages (from qiskit-aer) (1.0.2)\n",
            "Requirement already satisfied: numpy>=1.16.3 in /usr/local/lib/python3.10/dist-packages (from qiskit-aer) (1.25.2)\n",
            "Requirement already satisfied: scipy>=1.0 in /usr/local/lib/python3.10/dist-packages (from qiskit-aer) (1.11.4)\n",
            "Requirement already satisfied: psutil>=5 in /usr/local/lib/python3.10/dist-packages (from qiskit-aer) (5.9.5)\n",
            "Requirement already satisfied: rustworkx>=0.14.0 in /usr/local/lib/python3.10/dist-packages (from qiskit>=0.45.0->qiskit-aer) (0.14.2)\n",
            "Requirement already satisfied: sympy>=1.3 in /usr/local/lib/python3.10/dist-packages (from qiskit>=0.45.0->qiskit-aer) (1.12)\n",
            "Requirement already satisfied: dill>=0.3 in /usr/local/lib/python3.10/dist-packages (from qiskit>=0.45.0->qiskit-aer) (0.3.8)\n",
            "Requirement already satisfied: python-dateutil>=2.8.0 in /usr/local/lib/python3.10/dist-packages (from qiskit>=0.45.0->qiskit-aer) (2.8.2)\n",
            "Requirement already satisfied: stevedore>=3.0.0 in /usr/local/lib/python3.10/dist-packages (from qiskit>=0.45.0->qiskit-aer) (5.2.0)\n",
            "Requirement already satisfied: typing-extensions in /usr/local/lib/python3.10/dist-packages (from qiskit>=0.45.0->qiskit-aer) (4.11.0)\n",
            "Requirement already satisfied: symengine>=0.11 in /usr/local/lib/python3.10/dist-packages (from qiskit>=0.45.0->qiskit-aer) (0.11.0)\n",
            "Requirement already satisfied: six>=1.5 in /usr/local/lib/python3.10/dist-packages (from python-dateutil>=2.8.0->qiskit>=0.45.0->qiskit-aer) (1.16.0)\n",
            "Requirement already satisfied: pbr!=2.1.0,>=2.0.0 in /usr/local/lib/python3.10/dist-packages (from stevedore>=3.0.0->qiskit>=0.45.0->qiskit-aer) (6.0.0)\n",
            "Requirement already satisfied: mpmath>=0.19 in /usr/local/lib/python3.10/dist-packages (from sympy>=1.3->qiskit>=0.45.0->qiskit-aer) (1.3.0)\n",
            "Installing collected packages: qiskit-aer\n",
            "Successfully installed qiskit-aer-0.14.0.1\n",
            "Collecting git+https://github.com/qiskit-community/qiskit-textbook.git#subdirectory=qiskit-textbook-src\n",
            "  Cloning https://github.com/qiskit-community/qiskit-textbook.git to /tmp/pip-req-build-0nenkbcp\n",
            "  Running command git clone --filter=blob:none --quiet https://github.com/qiskit-community/qiskit-textbook.git /tmp/pip-req-build-0nenkbcp\n",
            "  Resolved https://github.com/qiskit-community/qiskit-textbook.git to commit 0ae905083ec3872d7ddc6bb4001d5468f476d93f\n",
            "  Preparing metadata (setup.py) ... \u001b[?25l\u001b[?25hdone\n",
            "Requirement already satisfied: qiskit in /usr/local/lib/python3.10/dist-packages (from qiskit-textbook==0.1.0) (1.0.2)\n",
            "Requirement already satisfied: ipython in /usr/local/lib/python3.10/dist-packages (from qiskit-textbook==0.1.0) (7.34.0)\n",
            "Requirement already satisfied: ipywidgets in /usr/local/lib/python3.10/dist-packages (from qiskit-textbook==0.1.0) (7.7.1)\n",
            "Requirement already satisfied: numpy in /usr/local/lib/python3.10/dist-packages (from qiskit-textbook==0.1.0) (1.25.2)\n",
            "Requirement already satisfied: matplotlib in /usr/local/lib/python3.10/dist-packages (from qiskit-textbook==0.1.0) (3.7.1)\n",
            "Requirement already satisfied: numexpr in /usr/local/lib/python3.10/dist-packages (from qiskit-textbook==0.1.0) (2.10.0)\n",
            "Requirement already satisfied: setuptools>=18.5 in /usr/local/lib/python3.10/dist-packages (from ipython->qiskit-textbook==0.1.0) (67.7.2)\n",
            "Collecting jedi>=0.16 (from ipython->qiskit-textbook==0.1.0)\n",
            "  Downloading jedi-0.19.1-py2.py3-none-any.whl (1.6 MB)\n",
            "\u001b[2K     \u001b[90m━━━━━━━━━━━━━━━━━━━━━━━━━━━━━━━━━━━━━━━━\u001b[0m \u001b[32m1.6/1.6 MB\u001b[0m \u001b[31m27.2 MB/s\u001b[0m eta \u001b[36m0:00:00\u001b[0m\n",
            "\u001b[?25hRequirement already satisfied: decorator in /usr/local/lib/python3.10/dist-packages (from ipython->qiskit-textbook==0.1.0) (4.4.2)\n",
            "Requirement already satisfied: pickleshare in /usr/local/lib/python3.10/dist-packages (from ipython->qiskit-textbook==0.1.0) (0.7.5)\n",
            "Requirement already satisfied: traitlets>=4.2 in /usr/local/lib/python3.10/dist-packages (from ipython->qiskit-textbook==0.1.0) (5.7.1)\n",
            "Requirement already satisfied: prompt-toolkit!=3.0.0,!=3.0.1,<3.1.0,>=2.0.0 in /usr/local/lib/python3.10/dist-packages (from ipython->qiskit-textbook==0.1.0) (3.0.43)\n",
            "Requirement already satisfied: pygments in /usr/local/lib/python3.10/dist-packages (from ipython->qiskit-textbook==0.1.0) (2.16.1)\n",
            "Requirement already satisfied: backcall in /usr/local/lib/python3.10/dist-packages (from ipython->qiskit-textbook==0.1.0) (0.2.0)\n",
            "Requirement already satisfied: matplotlib-inline in /usr/local/lib/python3.10/dist-packages (from ipython->qiskit-textbook==0.1.0) (0.1.7)\n",
            "Requirement already satisfied: pexpect>4.3 in /usr/local/lib/python3.10/dist-packages (from ipython->qiskit-textbook==0.1.0) (4.9.0)\n",
            "Requirement already satisfied: ipykernel>=4.5.1 in /usr/local/lib/python3.10/dist-packages (from ipywidgets->qiskit-textbook==0.1.0) (5.5.6)\n",
            "Requirement already satisfied: ipython-genutils~=0.2.0 in /usr/local/lib/python3.10/dist-packages (from ipywidgets->qiskit-textbook==0.1.0) (0.2.0)\n",
            "Requirement already satisfied: widgetsnbextension~=3.6.0 in /usr/local/lib/python3.10/dist-packages (from ipywidgets->qiskit-textbook==0.1.0) (3.6.6)\n",
            "Requirement already satisfied: jupyterlab-widgets>=1.0.0 in /usr/local/lib/python3.10/dist-packages (from ipywidgets->qiskit-textbook==0.1.0) (3.0.10)\n",
            "Requirement already satisfied: contourpy>=1.0.1 in /usr/local/lib/python3.10/dist-packages (from matplotlib->qiskit-textbook==0.1.0) (1.2.1)\n",
            "Requirement already satisfied: cycler>=0.10 in /usr/local/lib/python3.10/dist-packages (from matplotlib->qiskit-textbook==0.1.0) (0.12.1)\n",
            "Requirement already satisfied: fonttools>=4.22.0 in /usr/local/lib/python3.10/dist-packages (from matplotlib->qiskit-textbook==0.1.0) (4.51.0)\n",
            "Requirement already satisfied: kiwisolver>=1.0.1 in /usr/local/lib/python3.10/dist-packages (from matplotlib->qiskit-textbook==0.1.0) (1.4.5)\n",
            "Requirement already satisfied: packaging>=20.0 in /usr/local/lib/python3.10/dist-packages (from matplotlib->qiskit-textbook==0.1.0) (24.0)\n",
            "Requirement already satisfied: pillow>=6.2.0 in /usr/local/lib/python3.10/dist-packages (from matplotlib->qiskit-textbook==0.1.0) (9.4.0)\n",
            "Requirement already satisfied: pyparsing>=2.3.1 in /usr/local/lib/python3.10/dist-packages (from matplotlib->qiskit-textbook==0.1.0) (3.1.2)\n",
            "Requirement already satisfied: python-dateutil>=2.7 in /usr/local/lib/python3.10/dist-packages (from matplotlib->qiskit-textbook==0.1.0) (2.8.2)\n",
            "Requirement already satisfied: rustworkx>=0.14.0 in /usr/local/lib/python3.10/dist-packages (from qiskit->qiskit-textbook==0.1.0) (0.14.2)\n",
            "Requirement already satisfied: scipy>=1.5 in /usr/local/lib/python3.10/dist-packages (from qiskit->qiskit-textbook==0.1.0) (1.11.4)\n",
            "Requirement already satisfied: sympy>=1.3 in /usr/local/lib/python3.10/dist-packages (from qiskit->qiskit-textbook==0.1.0) (1.12)\n",
            "Requirement already satisfied: dill>=0.3 in /usr/local/lib/python3.10/dist-packages (from qiskit->qiskit-textbook==0.1.0) (0.3.8)\n",
            "Requirement already satisfied: stevedore>=3.0.0 in /usr/local/lib/python3.10/dist-packages (from qiskit->qiskit-textbook==0.1.0) (5.2.0)\n",
            "Requirement already satisfied: typing-extensions in /usr/local/lib/python3.10/dist-packages (from qiskit->qiskit-textbook==0.1.0) (4.11.0)\n",
            "Requirement already satisfied: symengine>=0.11 in /usr/local/lib/python3.10/dist-packages (from qiskit->qiskit-textbook==0.1.0) (0.11.0)\n",
            "Requirement already satisfied: jupyter-client in /usr/local/lib/python3.10/dist-packages (from ipykernel>=4.5.1->ipywidgets->qiskit-textbook==0.1.0) (6.1.12)\n",
            "Requirement already satisfied: tornado>=4.2 in /usr/local/lib/python3.10/dist-packages (from ipykernel>=4.5.1->ipywidgets->qiskit-textbook==0.1.0) (6.3.3)\n",
            "Requirement already satisfied: parso<0.9.0,>=0.8.3 in /usr/local/lib/python3.10/dist-packages (from jedi>=0.16->ipython->qiskit-textbook==0.1.0) (0.8.4)\n",
            "Requirement already satisfied: ptyprocess>=0.5 in /usr/local/lib/python3.10/dist-packages (from pexpect>4.3->ipython->qiskit-textbook==0.1.0) (0.7.0)\n",
            "Requirement already satisfied: wcwidth in /usr/local/lib/python3.10/dist-packages (from prompt-toolkit!=3.0.0,!=3.0.1,<3.1.0,>=2.0.0->ipython->qiskit-textbook==0.1.0) (0.2.13)\n",
            "Requirement already satisfied: six>=1.5 in /usr/local/lib/python3.10/dist-packages (from python-dateutil>=2.7->matplotlib->qiskit-textbook==0.1.0) (1.16.0)\n",
            "Requirement already satisfied: pbr!=2.1.0,>=2.0.0 in /usr/local/lib/python3.10/dist-packages (from stevedore>=3.0.0->qiskit->qiskit-textbook==0.1.0) (6.0.0)\n",
            "Requirement already satisfied: mpmath>=0.19 in /usr/local/lib/python3.10/dist-packages (from sympy>=1.3->qiskit->qiskit-textbook==0.1.0) (1.3.0)\n",
            "Requirement already satisfied: notebook>=4.4.1 in /usr/local/lib/python3.10/dist-packages (from widgetsnbextension~=3.6.0->ipywidgets->qiskit-textbook==0.1.0) (6.5.5)\n",
            "Requirement already satisfied: jinja2 in /usr/local/lib/python3.10/dist-packages (from notebook>=4.4.1->widgetsnbextension~=3.6.0->ipywidgets->qiskit-textbook==0.1.0) (3.1.3)\n",
            "Requirement already satisfied: pyzmq<25,>=17 in /usr/local/lib/python3.10/dist-packages (from notebook>=4.4.1->widgetsnbextension~=3.6.0->ipywidgets->qiskit-textbook==0.1.0) (23.2.1)\n",
            "Requirement already satisfied: argon2-cffi in /usr/local/lib/python3.10/dist-packages (from notebook>=4.4.1->widgetsnbextension~=3.6.0->ipywidgets->qiskit-textbook==0.1.0) (23.1.0)\n",
            "Requirement already satisfied: jupyter-core>=4.6.1 in /usr/local/lib/python3.10/dist-packages (from notebook>=4.4.1->widgetsnbextension~=3.6.0->ipywidgets->qiskit-textbook==0.1.0) (5.7.2)\n",
            "Requirement already satisfied: nbformat in /usr/local/lib/python3.10/dist-packages (from notebook>=4.4.1->widgetsnbextension~=3.6.0->ipywidgets->qiskit-textbook==0.1.0) (5.10.4)\n",
            "Requirement already satisfied: nbconvert>=5 in /usr/local/lib/python3.10/dist-packages (from notebook>=4.4.1->widgetsnbextension~=3.6.0->ipywidgets->qiskit-textbook==0.1.0) (6.5.4)\n",
            "Requirement already satisfied: nest-asyncio>=1.5 in /usr/local/lib/python3.10/dist-packages (from notebook>=4.4.1->widgetsnbextension~=3.6.0->ipywidgets->qiskit-textbook==0.1.0) (1.6.0)\n",
            "Requirement already satisfied: Send2Trash>=1.8.0 in /usr/local/lib/python3.10/dist-packages (from notebook>=4.4.1->widgetsnbextension~=3.6.0->ipywidgets->qiskit-textbook==0.1.0) (1.8.3)\n",
            "Requirement already satisfied: terminado>=0.8.3 in /usr/local/lib/python3.10/dist-packages (from notebook>=4.4.1->widgetsnbextension~=3.6.0->ipywidgets->qiskit-textbook==0.1.0) (0.18.1)\n",
            "Requirement already satisfied: prometheus-client in /usr/local/lib/python3.10/dist-packages (from notebook>=4.4.1->widgetsnbextension~=3.6.0->ipywidgets->qiskit-textbook==0.1.0) (0.20.0)\n",
            "Requirement already satisfied: nbclassic>=0.4.7 in /usr/local/lib/python3.10/dist-packages (from notebook>=4.4.1->widgetsnbextension~=3.6.0->ipywidgets->qiskit-textbook==0.1.0) (1.0.0)\n",
            "Requirement already satisfied: platformdirs>=2.5 in /usr/local/lib/python3.10/dist-packages (from jupyter-core>=4.6.1->notebook>=4.4.1->widgetsnbextension~=3.6.0->ipywidgets->qiskit-textbook==0.1.0) (4.2.0)\n",
            "Requirement already satisfied: jupyter-server>=1.8 in /usr/local/lib/python3.10/dist-packages (from nbclassic>=0.4.7->notebook>=4.4.1->widgetsnbextension~=3.6.0->ipywidgets->qiskit-textbook==0.1.0) (1.24.0)\n",
            "Requirement already satisfied: notebook-shim>=0.2.3 in /usr/local/lib/python3.10/dist-packages (from nbclassic>=0.4.7->notebook>=4.4.1->widgetsnbextension~=3.6.0->ipywidgets->qiskit-textbook==0.1.0) (0.2.4)\n",
            "Requirement already satisfied: lxml in /usr/local/lib/python3.10/dist-packages (from nbconvert>=5->notebook>=4.4.1->widgetsnbextension~=3.6.0->ipywidgets->qiskit-textbook==0.1.0) (4.9.4)\n",
            "Requirement already satisfied: beautifulsoup4 in /usr/local/lib/python3.10/dist-packages (from nbconvert>=5->notebook>=4.4.1->widgetsnbextension~=3.6.0->ipywidgets->qiskit-textbook==0.1.0) (4.12.3)\n",
            "Requirement already satisfied: bleach in /usr/local/lib/python3.10/dist-packages (from nbconvert>=5->notebook>=4.4.1->widgetsnbextension~=3.6.0->ipywidgets->qiskit-textbook==0.1.0) (6.1.0)\n",
            "Requirement already satisfied: defusedxml in /usr/local/lib/python3.10/dist-packages (from nbconvert>=5->notebook>=4.4.1->widgetsnbextension~=3.6.0->ipywidgets->qiskit-textbook==0.1.0) (0.7.1)\n",
            "Requirement already satisfied: entrypoints>=0.2.2 in /usr/local/lib/python3.10/dist-packages (from nbconvert>=5->notebook>=4.4.1->widgetsnbextension~=3.6.0->ipywidgets->qiskit-textbook==0.1.0) (0.4)\n",
            "Requirement already satisfied: jupyterlab-pygments in /usr/local/lib/python3.10/dist-packages (from nbconvert>=5->notebook>=4.4.1->widgetsnbextension~=3.6.0->ipywidgets->qiskit-textbook==0.1.0) (0.3.0)\n",
            "Requirement already satisfied: MarkupSafe>=2.0 in /usr/local/lib/python3.10/dist-packages (from nbconvert>=5->notebook>=4.4.1->widgetsnbextension~=3.6.0->ipywidgets->qiskit-textbook==0.1.0) (2.1.5)\n",
            "Requirement already satisfied: mistune<2,>=0.8.1 in /usr/local/lib/python3.10/dist-packages (from nbconvert>=5->notebook>=4.4.1->widgetsnbextension~=3.6.0->ipywidgets->qiskit-textbook==0.1.0) (0.8.4)\n",
            "Requirement already satisfied: nbclient>=0.5.0 in /usr/local/lib/python3.10/dist-packages (from nbconvert>=5->notebook>=4.4.1->widgetsnbextension~=3.6.0->ipywidgets->qiskit-textbook==0.1.0) (0.10.0)\n",
            "Requirement already satisfied: pandocfilters>=1.4.1 in /usr/local/lib/python3.10/dist-packages (from nbconvert>=5->notebook>=4.4.1->widgetsnbextension~=3.6.0->ipywidgets->qiskit-textbook==0.1.0) (1.5.1)\n",
            "Requirement already satisfied: tinycss2 in /usr/local/lib/python3.10/dist-packages (from nbconvert>=5->notebook>=4.4.1->widgetsnbextension~=3.6.0->ipywidgets->qiskit-textbook==0.1.0) (1.2.1)\n",
            "Requirement already satisfied: fastjsonschema>=2.15 in /usr/local/lib/python3.10/dist-packages (from nbformat->notebook>=4.4.1->widgetsnbextension~=3.6.0->ipywidgets->qiskit-textbook==0.1.0) (2.19.1)\n",
            "Requirement already satisfied: jsonschema>=2.6 in /usr/local/lib/python3.10/dist-packages (from nbformat->notebook>=4.4.1->widgetsnbextension~=3.6.0->ipywidgets->qiskit-textbook==0.1.0) (4.19.2)\n",
            "Requirement already satisfied: argon2-cffi-bindings in /usr/local/lib/python3.10/dist-packages (from argon2-cffi->notebook>=4.4.1->widgetsnbextension~=3.6.0->ipywidgets->qiskit-textbook==0.1.0) (21.2.0)\n",
            "Requirement already satisfied: attrs>=22.2.0 in /usr/local/lib/python3.10/dist-packages (from jsonschema>=2.6->nbformat->notebook>=4.4.1->widgetsnbextension~=3.6.0->ipywidgets->qiskit-textbook==0.1.0) (23.2.0)\n",
            "Requirement already satisfied: jsonschema-specifications>=2023.03.6 in /usr/local/lib/python3.10/dist-packages (from jsonschema>=2.6->nbformat->notebook>=4.4.1->widgetsnbextension~=3.6.0->ipywidgets->qiskit-textbook==0.1.0) (2023.12.1)\n",
            "Requirement already satisfied: referencing>=0.28.4 in /usr/local/lib/python3.10/dist-packages (from jsonschema>=2.6->nbformat->notebook>=4.4.1->widgetsnbextension~=3.6.0->ipywidgets->qiskit-textbook==0.1.0) (0.34.0)\n",
            "Requirement already satisfied: rpds-py>=0.7.1 in /usr/local/lib/python3.10/dist-packages (from jsonschema>=2.6->nbformat->notebook>=4.4.1->widgetsnbextension~=3.6.0->ipywidgets->qiskit-textbook==0.1.0) (0.18.0)\n",
            "Requirement already satisfied: anyio<4,>=3.1.0 in /usr/local/lib/python3.10/dist-packages (from jupyter-server>=1.8->nbclassic>=0.4.7->notebook>=4.4.1->widgetsnbextension~=3.6.0->ipywidgets->qiskit-textbook==0.1.0) (3.7.1)\n",
            "Requirement already satisfied: websocket-client in /usr/local/lib/python3.10/dist-packages (from jupyter-server>=1.8->nbclassic>=0.4.7->notebook>=4.4.1->widgetsnbextension~=3.6.0->ipywidgets->qiskit-textbook==0.1.0) (1.7.0)\n",
            "Requirement already satisfied: cffi>=1.0.1 in /usr/local/lib/python3.10/dist-packages (from argon2-cffi-bindings->argon2-cffi->notebook>=4.4.1->widgetsnbextension~=3.6.0->ipywidgets->qiskit-textbook==0.1.0) (1.16.0)\n",
            "Requirement already satisfied: soupsieve>1.2 in /usr/local/lib/python3.10/dist-packages (from beautifulsoup4->nbconvert>=5->notebook>=4.4.1->widgetsnbextension~=3.6.0->ipywidgets->qiskit-textbook==0.1.0) (2.5)\n",
            "Requirement already satisfied: webencodings in /usr/local/lib/python3.10/dist-packages (from bleach->nbconvert>=5->notebook>=4.4.1->widgetsnbextension~=3.6.0->ipywidgets->qiskit-textbook==0.1.0) (0.5.1)\n",
            "Requirement already satisfied: idna>=2.8 in /usr/local/lib/python3.10/dist-packages (from anyio<4,>=3.1.0->jupyter-server>=1.8->nbclassic>=0.4.7->notebook>=4.4.1->widgetsnbextension~=3.6.0->ipywidgets->qiskit-textbook==0.1.0) (3.7)\n",
            "Requirement already satisfied: sniffio>=1.1 in /usr/local/lib/python3.10/dist-packages (from anyio<4,>=3.1.0->jupyter-server>=1.8->nbclassic>=0.4.7->notebook>=4.4.1->widgetsnbextension~=3.6.0->ipywidgets->qiskit-textbook==0.1.0) (1.3.1)\n",
            "Requirement already satisfied: exceptiongroup in /usr/local/lib/python3.10/dist-packages (from anyio<4,>=3.1.0->jupyter-server>=1.8->nbclassic>=0.4.7->notebook>=4.4.1->widgetsnbextension~=3.6.0->ipywidgets->qiskit-textbook==0.1.0) (1.2.0)\n",
            "Requirement already satisfied: pycparser in /usr/local/lib/python3.10/dist-packages (from cffi>=1.0.1->argon2-cffi-bindings->argon2-cffi->notebook>=4.4.1->widgetsnbextension~=3.6.0->ipywidgets->qiskit-textbook==0.1.0) (2.22)\n",
            "Building wheels for collected packages: qiskit-textbook\n",
            "  Building wheel for qiskit-textbook (setup.py) ... \u001b[?25l\u001b[?25hdone\n",
            "  Created wheel for qiskit-textbook: filename=qiskit_textbook-0.1.0-py3-none-any.whl size=17522 sha256=a01a941238cf01a4fefaecdcaf08bcd390a4c19e404d7643e0fc60ede282afbd\n",
            "  Stored in directory: /tmp/pip-ephem-wheel-cache-5badtd1y/wheels/a4/af/1e/358474758f89b7223d73e3a3b05d32a15554fede054868448c\n",
            "Successfully built qiskit-textbook\n",
            "Installing collected packages: jedi, qiskit-textbook\n",
            "Successfully installed jedi-0.19.1 qiskit-textbook-0.1.0\n"
          ]
        }
      ]
    },
    {
      "cell_type": "code",
      "source": [
        "import qiskit\n",
        "import qiskit_aer\n",
        "\n",
        "print(qiskit.__version__)\n",
        "print(qiskit_aer.__version__)"
      ],
      "metadata": {
        "colab": {
          "base_uri": "https://localhost:8080/"
        },
        "id": "gZH85Ibl4gLc",
        "outputId": "9c3987bc-a244-430f-bb47-e2ec172c1cdf"
      },
      "execution_count": null,
      "outputs": [
        {
          "output_type": "stream",
          "name": "stdout",
          "text": [
            "1.0.2\n",
            "0.14.0.1\n"
          ]
        }
      ]
    },
    {
      "cell_type": "markdown",
      "metadata": {
        "id": "h36M7IJB3-2V"
      },
      "source": [
        "# IBM's Qiskit Global Summer School 2023\n",
        "## Lab 2 - Creating Entanglement with Qiskit:\n",
        "\n",
        "- This lab demonstrates interesting properties of *entangled* qubits. In particular, we will consider two experiments:\n",
        "    - **CHSH Inequality Violation** - This shows that quantum mechanics *cannot* be explained by a local hidden variable theory;\n",
        "    - **Teleportation** - Teleport an arbitrary quantum state using an entangled qubit pair as a resource.\n",
        "\n",
        "<br>\n",
        "\n",
        "- In particular, this lab demonstrates how to use new features from IBM Quantum:\n",
        "    - **Primitives** - Abstract measurement and error mitigation for scalable quantum computing;\n",
        "    - **Dynamic Circuits** - Mid-circuit measurement and feed-forward within the qubits' coherence time."
      ]
    },
    {
      "cell_type": "markdown",
      "metadata": {
        "id": "B-Ahi50d3-2Y"
      },
      "source": [
        "## Getting Started\n",
        "\n",
        "Start by importing some libraries we need, including the `Sampler` and `Estimator` primitives from IBM's Qiskit. While the primitives from `qiskit.providers` use a local statevector simulator by default, the syntax within this lab is easily generalizable to running experiments on real systems.\n",
        "\n",
        "To run on real hearware requires a IBM's Qiskit Runtime service instance. If you haven't done so already, follow the instructions in the Qiskit [Getting started guide](https://qiskit.org/documentation/partners/qiskit_ibm_runtime/getting_started.html) to set one up. After setup, import the `Sampler` and `Estimator` primitives from `qiskit_ibm_runtime` instead. Additionally we will need `QiskitRuntimeService` and `Session`, which form the interface between IBM's Qiskit and IBM's Qiskit IBM Runtime. Then the below exercises can be run on real systems by instantiating the primitives in this way (as opposed to from `qiskit.primitives`):\n",
        "\n",
        "```\n",
        "from qiskit_ibm_runtime import QiskitRuntimeService, Session, Sampler, Estimator\n",
        "\n",
        "service = QiskitRuntimeService()\n",
        "backend = service.get_backend('...')\n",
        "session = Session(service=service, backend=backend)\n",
        "sampler = Sampler(session=session)\n",
        "estimator = Estimator(session=session)\n",
        "```\n",
        "\n",
        "Where additional options can be specified in the `Sampler` and `Estimator` with the `Options` class. See this [how-to](https://qiskit.org/ecosystem/ibm-runtime/how_to/run_session.html) for using Primitives with Runtime Sessions.\n"
      ]
    },
    {
      "cell_type": "code",
      "execution_count": null,
      "metadata": {
        "tags": [],
        "id": "976_tyIX3-2Y"
      },
      "outputs": [],
      "source": [
        "# required import of libraries and modules\n",
        "\n",
        "# import quantum circuit from IBM's Qiskit circuit module\n",
        "from qiskit.circuit import QuantumCircuit\n",
        "\n",
        "# import estimator and sample\n",
        "# from IBM's Qiskit primitives module\n",
        "from qiskit.primitives import Estimator, Sampler\n",
        "\n",
        "# import Sparse Pauli operator\n",
        "# from IBM's Qiskit quantum information module\n",
        "from qiskit.quantum_info import SparsePauliOp\n",
        "\n",
        "# import histogram plotting\n",
        "# from IBM's Qiskit visualization module\n",
        "from qiskit.visualization import plot_histogram\n",
        "\n",
        "# import numpy\n",
        "import numpy as np\n",
        "\n",
        "# import plotting from Matplotlib's pyplot module\n",
        "import matplotlib.pyplot as plt\n",
        "\n",
        "# OPTIONAL: use the dark background style\n",
        "# for the plotting from Matplotlib's pyplot module\n",
        "plt.style.use(\"dark_background\")"
      ]
    },
    {
      "cell_type": "markdown",
      "metadata": {
        "id": "_flon_Vk3-2Z"
      },
      "source": [
        "## CHSH Inequality Violation\n",
        "\n",
        "### Warm Up\n",
        "\n",
        "Create circuits that put the qubit in the excited $|1\\rangle$ and superposition $|+\\rangle$ states, respectively, and measure them in different bases. This is done first with the `Sampler` primitive (which is most similar to the `backend.run()` used in the previous lab), and then with the `Estimator` primitive to show how measurement is abstracted in that we do not need to worry about rotating the qubit into the appropriate measurement basis. The primitives will be executed withing the `Session` context which allows efficiency to optimize workloads."
      ]
    },
    {
      "cell_type": "code",
      "execution_count": null,
      "metadata": {
        "tags": [],
        "colab": {
          "base_uri": "https://localhost:8080/",
          "height": 127
        },
        "id": "qC7UStTW3-2a",
        "outputId": "0cbdb0ac-e4f6-4c4a-addf-7feed7e4e6b7"
      },
      "outputs": [
        {
          "output_type": "execute_result",
          "data": {
            "text/plain": [
              "<Figure size 185.453x117.056 with 1 Axes>"
            ],
            "image/png": "[encoded data removed]"
          },
          "metadata": {},
          "execution_count": 4
        }
      ],
      "source": [
        "# create an excited state |1>\n",
        "\n",
        "# create a quantum circuit for one qubit\n",
        "# and to implement an excited state |1>\n",
        "qc_1 = QuantumCircuit(1)\n",
        "\n",
        "# apply a Pauli-X (bit flip / not) gate to\n",
        "# the quantum circuit, on the 1st qubit\n",
        "qc_1.x(0)\n",
        "\n",
        "# draw the quantum circuit implementing\n",
        "# the excited state |1>\n",
        "qc_1.draw(\"mpl\")"
      ]
    },
    {
      "cell_type": "code",
      "execution_count": null,
      "metadata": {
        "tags": [],
        "colab": {
          "base_uri": "https://localhost:8080/",
          "height": 127
        },
        "id": "zwnJb9kx3-2a",
        "outputId": "04f6a7c7-87d2-4b89-fa90-4670309fe910"
      },
      "outputs": [
        {
          "output_type": "execute_result",
          "data": {
            "text/plain": [
              "<Figure size 185.453x117.056 with 1 Axes>"
            ],
            "image/png": "[encoded data removed]"
          },
          "metadata": {},
          "execution_count": 5
        }
      ],
      "source": [
        "# create quantum superposition state |+>\n",
        "\n",
        "# create a quantum circuit for one qubit\n",
        "# and to implement a quantum superposition state |+>\n",
        "qc_plus = QuantumCircuit(1)\n",
        "\n",
        "# apply a Hadamard gate to\n",
        "# the quantum circuit, on the 1st qubit\n",
        "qc_plus.h(0)\n",
        "\n",
        "# draw the quantum circuit implementing\n",
        "# the quantum superposition state |+>\n",
        "qc_plus.draw(\"mpl\")"
      ]
    },
    {
      "cell_type": "markdown",
      "metadata": {
        "id": "h-arNy823-2b"
      },
      "source": [
        "### Sampler Primitive\n",
        "\n",
        "First use the `Sampler` to measure qubits in the $Z$-basis (the physical basis in which qubits are measured). The `Sampler` will count the number of outcomes of the $|0\\rangle$ state and $|1\\rangle$ state, normalized by the number of shots (experiments performed). The `Sampler` also offers the ability to easily perform error mitigation (which is covered in Lab 5), which modifies this calculation, and hence the outcomes are refered to as *quasi-probabilities*.\n",
        "\n",
        "Measurments must be present in the circuit when using the `Sampler` primitive. Then the `Session` context is opened, the `Sampler` is instantiated, and `sampler.run()` is used to send the circuits to the backend, similar to the `backend.run()` syntax you may already be familiar with."
      ]
    },
    {
      "cell_type": "code",
      "execution_count": null,
      "metadata": {
        "tags": [],
        "id": "FoB42SwD3-2b"
      },
      "outputs": [],
      "source": [
        "# measure all the qubits of\n",
        "# the quantum circuit implementing\n",
        "# an excited state |1>\n",
        "qc_1.measure_all()\n",
        "\n",
        "# measure all the qubits of\n",
        "# the quantum circuit implementing\n",
        "# a quantum superposition state |+>\n",
        "qc_plus.measure_all()\n",
        "\n",
        "# create a Sampler object\n",
        "sampler = Sampler()\n",
        "\n",
        "# create a job for the quantum circuit implementing\n",
        "# an excited state |1>, running the Sampler\n",
        "job_1 = sampler.run(qc_1)\n",
        "\n",
        "# create a job for the quantum circuit implementing\n",
        "# a quantum superposition state |+>, running the Sampler\n",
        "job_plus = sampler.run(qc_plus)"
      ]
    },
    {
      "cell_type": "code",
      "execution_count": null,
      "metadata": {
        "tags": [],
        "colab": {
          "base_uri": "https://localhost:8080/"
        },
        "id": "6rj-YYD03-2c",
        "outputId": "f08d265b-bf81-4af0-d627-e84ed7d85746"
      },
      "outputs": [
        {
          "output_type": "execute_result",
          "data": {
            "text/plain": [
              "[{1: 1.0, 0: 0.0}]"
            ]
          },
          "metadata": {},
          "execution_count": 8
        }
      ],
      "source": [
        "# retrieve the quasi-distribution of\n",
        "# the job for the quantum circuit\n",
        "# implementing an excited state |1>\n",
        "quasi_dists_ket_1 = job_1.result().quasi_dists\n",
        "\n",
        "# fix the legend issue for\n",
        "# the quasi-distribution of the outcome 0\n",
        "quasi_dists_ket_1[0][0] = 1e-20\n",
        "\n",
        "# show the quasi-distribution of\n",
        "# the job for the quantum circuit\n",
        "# implementing an excited state |1>\n",
        "quasi_dists_ket_1"
      ]
    },
    {
      "cell_type": "code",
      "execution_count": null,
      "metadata": {
        "tags": [],
        "colab": {
          "base_uri": "https://localhost:8080/"
        },
        "id": "qKBFr_IY3-2d",
        "outputId": "5e1f6d1d-a6a6-45ef-c20e-45d5d70ea167"
      },
      "outputs": [
        {
          "output_type": "execute_result",
          "data": {
            "text/plain": [
              "[{0: 0.5, 1: 0.5}]"
            ]
          },
          "metadata": {},
          "execution_count": 9
        }
      ],
      "source": [
        "# retrieve the quasi-distribution of\n",
        "# the job for the quantum circuit implementing\n",
        "# a quantum superposition state |+>\n",
        "quasi_dists_ket_plus = job_plus.result().quasi_dists\n",
        "\n",
        "# show the quasi-distribution of\n",
        "# the job for the quantum circuit\n",
        "# implementing a quantum superposition state |+>\n",
        "quasi_dists_ket_plus"
      ]
    },
    {
      "cell_type": "code",
      "execution_count": null,
      "metadata": {
        "tags": [],
        "colab": {
          "base_uri": "https://localhost:8080/",
          "height": 492
        },
        "id": "hidC_vFo3-2d",
        "outputId": "04d29ecb-f1c3-497d-fe91-3dd8e5e6b8f1"
      },
      "outputs": [
        {
          "output_type": "execute_result",
          "data": {
            "text/plain": [
              "<Figure size 700x500 with 1 Axes>"
            ],
            "image/png": "[encoded data removed]"
          },
          "metadata": {},
          "execution_count": 10
        }
      ],
      "source": [
        "# create the legend for the two quantum states\n",
        "# created before, namely the excited state |1> and\n",
        "# the quantum superposition state |+>\n",
        "legend = [\"Excited State\", \"Plus State\"]\n",
        "\n",
        "# plot the histogram for the quasi-distributions\n",
        "# for the two quantum states created before,\n",
        "# namely the excited state |1> and\n",
        "# the quantum superposition state |+>\n",
        "plot_histogram( [ quasi_dists_ket_1[0], quasi_dists_ket_plus[0] ],\n",
        "                  legend=legend, title=\"Measurement Results\\n\" )"
      ]
    },
    {
      "cell_type": "markdown",
      "metadata": {
        "id": "SScCnEQh3-2e"
      },
      "source": [
        "The result for the excited state is always $|1\\rangle$ wheres it is roughly half $|0\\rangle$ and half $|1\\rangle$ for the plus superposition state. This is because the $|0\\rangle$ and $|1\\rangle$ states are *eigenstates* of the $Z$ operator (with $+1$ and $-1$ eigenvalues, respectively).\n",
        "\n",
        "Let's switch and measure in the $X$ basis. Using the `Sampler` we must rotate the qubit from the $X$-basis to the $Z$-basis for measurement (because that is the only basis we can actually perform measurement in)."
      ]
    },
    {
      "cell_type": "code",
      "execution_count": null,
      "metadata": {
        "tags": [],
        "id": "zfpxZODK3-2e"
      },
      "outputs": [],
      "source": [
        "# remove all the qubits' measurements of\n",
        "# the quantum circuit implementing\n",
        "# an excited state |1>\n",
        "qc_1.remove_final_measurements()\n",
        "\n",
        "# remove all the qubits' measurements of\n",
        "# the quantum circuit implementing\n",
        "# a quantum superposition state |+>\n",
        "qc_plus.remove_final_measurements()\n",
        "\n",
        "\n",
        "# prepare the 1st qubit of the quantum circuit\n",
        "# implementing an excited state |1>,\n",
        "# for the X-Basis measurement,\n",
        "# applying a Hadamard gate\n",
        "qc_1.h(0)\n",
        "\n",
        "# prepare the 1st qubit of the quantum circuit\n",
        "# implementing a quantum superposition state |+>,\n",
        "# for the X-Basis measurement,\n",
        "# applying a Hadamard gate\n",
        "qc_plus.h(0)\n",
        "\n",
        "\n",
        "# measure all the qubits of\n",
        "# the quantum circuit implementing\n",
        "# an excited state |1>\n",
        "qc_1.measure_all()\n",
        "\n",
        "# measure all the qubits of\n",
        "# the quantum circuit implementing\n",
        "# a quantum superposition state |+>\n",
        "qc_plus.measure_all()"
      ]
    },
    {
      "cell_type": "code",
      "execution_count": null,
      "metadata": {
        "tags": [],
        "id": "SRMzAxaC3-2e"
      },
      "outputs": [],
      "source": [
        "# create a Sampler object\n",
        "sampler = Sampler()\n",
        "\n",
        "# create a job for the quantum circuit implementing\n",
        "# an excited state |1>, running the Sampler\n",
        "job_1 = sampler.run(qc_1)\n",
        "\n",
        "# create a job for the quantum circuit implementing\n",
        "# a quantum superposition state |+>, running the Sampler\n",
        "job_plus = sampler.run(qc_plus)"
      ]
    },
    {
      "cell_type": "code",
      "execution_count": null,
      "metadata": {
        "tags": [],
        "colab": {
          "base_uri": "https://localhost:8080/"
        },
        "id": "mmbDdWuW3-2f",
        "outputId": "3defb220-53db-4e54-f438-e487ed52bd49"
      },
      "outputs": [
        {
          "output_type": "execute_result",
          "data": {
            "text/plain": [
              "[{0: 0.5, 1: 0.5}]"
            ]
          },
          "metadata": {},
          "execution_count": 15
        }
      ],
      "source": [
        "# retrieve the quasi-distribution of\n",
        "# the job for the quantum circuit\n",
        "# implementing an excited state |1>,\n",
        "# measured in the X-Basis\n",
        "quasi_dists_ket_1 = job_1.result().quasi_dists\n",
        "\n",
        "# show the quasi-distribution of\n",
        "# the job for the quantum circuit\n",
        "# implementing an excited state |1>,\n",
        "# measured in the X-Basis\n",
        "quasi_dists_ket_1"
      ]
    },
    {
      "cell_type": "code",
      "execution_count": null,
      "metadata": {
        "tags": [],
        "colab": {
          "base_uri": "https://localhost:8080/"
        },
        "id": "gkAWh3an3-2f",
        "outputId": "fa5a9a05-245b-4d91-c8e5-b44929816e5d"
      },
      "outputs": [
        {
          "output_type": "execute_result",
          "data": {
            "text/plain": [
              "[{0: 1.0, 1: 0.0}]"
            ]
          },
          "metadata": {},
          "execution_count": 16
        }
      ],
      "source": [
        "# retrieve the quasi-distribution of\n",
        "# the job for the quantum circuit\n",
        "# implementing a quantum superposition state |+>,\n",
        "# measured in the X-Basis\n",
        "quasi_dists_ket_plus = job_plus.result().quasi_dists\n",
        "\n",
        "# fix the legend issue for\n",
        "# the quasi-distribution of the outcome 1\n",
        "quasi_dists_ket_plus[0][1] = 1e-20\n",
        "\n",
        "# show the quasi-distribution of\n",
        "# the job for the quantum circuit\n",
        "# implementing a quantum superposition state |+>,\n",
        "# measured in the X-Basis\n",
        "quasi_dists_ket_plus"
      ]
    },
    {
      "cell_type": "code",
      "execution_count": null,
      "metadata": {
        "tags": [],
        "colab": {
          "base_uri": "https://localhost:8080/",
          "height": 492
        },
        "id": "BNCXcXuO3-2g",
        "outputId": "5b93ae29-c54c-45e1-9c0c-26668e8e1847"
      },
      "outputs": [
        {
          "output_type": "execute_result",
          "data": {
            "text/plain": [
              "<Figure size 700x500 with 1 Axes>"
            ],
            "image/png": "[encoded data removed]"
          },
          "metadata": {},
          "execution_count": 17
        }
      ],
      "source": [
        "# plot the histogram for the quasi-distributions\n",
        "# for the two quantum states created before,\n",
        "# namely the excited state |1> and\n",
        "# the quantum superposition state |+>,\n",
        "# measured in the X-Basis\n",
        "plot_histogram( [ quasi_dists_ket_1[0], quasi_dists_ket_plus[0] ],\n",
        "                  legend=legend, title=\"Measurement Results\\n\" )"
      ]
    },
    {
      "cell_type": "markdown",
      "metadata": {
        "id": "iegqZahs3-2g"
      },
      "source": [
        "Now we see the opposite: the plus superposition always give the 1 result, hence an eigenstate of the $X$ operator, whereas the excited $|1\\rangle$ yields a roughtly fifty-fifty split. The $|+\\rangle$ and $|-\\rangle$ states are eigenstates of the $X$ operator, with eigenvalues $+1$ and $-1$, respectively. This is good to remember when considering how the `Estimator` works in the next subsection."
      ]
    },
    {
      "cell_type": "markdown",
      "metadata": {
        "id": "pZdtuCXy3-2g"
      },
      "source": [
        "### Estimator Primitive\n",
        "\n",
        "The IBM's Qiskit Runtime Primitives allow us to abstract measurement into the `Estimator` primitive, where it is specified as an *observable*. In particular, we can construct the same circuits, the excited $|1\\rangle$ and superposition $|+\\rangle$ as before. However, in the case of the `Estimator`, we *do not* add measurements to the circuit. Instead, specify a list of observables which take the form of Pauli strings. In our case for a measurement of a single qubit, we specify `'Z'` for the $Z$-basis and `'X'` for the $X$-basis."
      ]
    },
    {
      "cell_type": "code",
      "execution_count": null,
      "metadata": {
        "tags": [],
        "id": "8QW5Kxq73-2g"
      },
      "outputs": [],
      "source": [
        "# create a quantum circuit for one qubit\n",
        "# and to implement an excited state |1>\n",
        "qc2_1 = QuantumCircuit(1)\n",
        "\n",
        "# apply a Pauli-X (bit flip / not) gate to\n",
        "# the quantum circuit, on the 1st qubit\n",
        "qc2_1.x(0)\n",
        "\n",
        "\n",
        "# create a quantum circuit for one qubit\n",
        "# and to implement a quantum superposition state |+>\n",
        "qc2_plus = QuantumCircuit(1)\n",
        "\n",
        "# apply a Hadamard gate to\n",
        "# the quantum circuit, on the 1st qubit\n",
        "qc2_plus.h(0)\n",
        "\n",
        "\n",
        "# create a list for the observables for\n",
        "# the Sparse Pauli-Z and Pauli-X operators\n",
        "obsvs = list( SparsePauliOp( [ \"Z\", \"X\" ] ) )"
      ]
    },
    {
      "cell_type": "code",
      "execution_count": null,
      "metadata": {
        "tags": [],
        "id": "2MIYyhzs3-2h"
      },
      "outputs": [],
      "source": [
        "# crate an Estimator object\n",
        "estimator = Estimator()\n",
        "\n",
        "# create a job for the quantum circuit implementing\n",
        "# an excited state |1>, running the Estimator\n",
        "job2_1 = estimator.run( [ qc2_1 ] * len(obsvs), observables=obsvs )\n",
        "\n",
        "# create a job for the quantum circuit implementing\n",
        "# a quantum superposition state |+>, running the Estimator\n",
        "job2_plus = estimator.run( [ qc2_plus ] * len(obsvs), observables=obsvs )"
      ]
    },
    {
      "cell_type": "code",
      "execution_count": null,
      "metadata": {
        "tags": [],
        "colab": {
          "base_uri": "https://localhost:8080/"
        },
        "id": "UWbZlHE23-2h",
        "outputId": "f3e59ef5-bdfa-43b8-f36a-3e3bd5bea509"
      },
      "outputs": [
        {
          "output_type": "execute_result",
          "data": {
            "text/plain": [
              "EstimatorResult(values=array([-1.,  0.]), metadata=[{}, {}])"
            ]
          },
          "metadata": {},
          "execution_count": 20
        }
      ],
      "source": [
        "# show the results of the job ran by\n",
        "# the Estimator created before,\n",
        "# that was ran on the excited state |1>\n",
        "job2_1.result()"
      ]
    },
    {
      "cell_type": "code",
      "execution_count": null,
      "metadata": {
        "tags": [],
        "colab": {
          "base_uri": "https://localhost:8080/"
        },
        "id": "ho5OG0eW3-2h",
        "outputId": "e9a7484f-a358-43aa-ef5b-6ad8ba973fc1"
      },
      "outputs": [
        {
          "output_type": "stream",
          "name": "stdout",
          "text": [
            "    |   <Z>   |   <X> \n",
            "----|-------------------------------\n",
            "|1> | -1.0    | 0.0\n",
            "|+> |  0.0    | 0.9999999999999998\n"
          ]
        }
      ],
      "source": [
        "# print a table with results (and eigenvalues) for\n",
        "# the quantum states created before and measured in the bases set before\n",
        "print(f'    |   <Z>   |   <X> ')\n",
        "print(f'----|-------------------------------')\n",
        "print(f'|1> | {job2_1.result().values[0]}    | {job2_1.result().values[1]}')\n",
        "print(f'|+> |  {job2_plus.result().values[0]}    | {job2_plus.result().values[1]}')"
      ]
    },
    {
      "cell_type": "markdown",
      "metadata": {
        "id": "3Afaln-m3-2h"
      },
      "source": [
        "Just as before, we see the $|1\\rangle$ state expectation in the $Z$-basis is $-1$ (corresponding to its eigenvalue) and around zero in the $X$-basis (average over $+1$ and $-1$ eigenvalues), and vice-versa for the $|+\\rangle$ state (although its eigenvalue of the $X$ operators is $+1$)."
      ]
    },
    {
      "cell_type": "markdown",
      "metadata": {
        "id": "pSs1PcJ33-2i"
      },
      "source": [
        "## CHSH Inequality\n",
        "\n",
        "Imagine Alice and Bob are given each one part of a bipartite entangled system. Each of them then performs two measurements on their part in two different bases. Let's call Alice's bases A and a and Bob's B and b. What is the expectation value of the quantity\n",
        "\n",
        "$$\n",
        "\\langle CHSH \\rangle = \\langle AB \\rangle - \\langle Ab \\rangle + \\langle aB \\rangle + \\langle ab \\rangle ?\n",
        "$$\n",
        "\n",
        "Now, Alice and Bob have one qubit each, so any measurement they perform on their system (qubit) can only yield one of two possible outcomes: +1 or -1. Note that whereas we typically refer to the two qubit states as $|0\\rangle$ and $|1\\rangle$, these are eigenstates, and a projective measurement will yield their eigenvalues, +1 and -1, respectively.\n",
        "\n",
        "Therefore, if any measurement of A, a, B, and b can only yield $\\pm 1$, the quantities $(B-b)$ and $(B+b)$ can only be 0 or $\\pm 2$. And thus, the quantity $A(B-b) + a(B+b)$ can only be either +2 or -2, which means that there should be a bound for the expectation value of the quantity we have called\n",
        "\n",
        "$$\n",
        "|\\langle CHSH \\rangle| = |\\langle AB \\rangle - \\langle Ab \\rangle + \\langle aB \\rangle + \\langle ab \\rangle| \\le 2.\n",
        "$$\n",
        "\n",
        "Now, the above discussion is oversimplified, because we could consider that the outcome on any set of measurements from Alice and Bob could depend on a set of local hidden variables, but it can be shown with some math that, even when that is the case, the expectation value of the quantity $CHSH$ should be bounded by 2 if local realism held.\n",
        "\n",
        "But what happens when we do these experiments with an entangled system? Let's try it!"
      ]
    },
    {
      "cell_type": "markdown",
      "metadata": {
        "id": "Jw_YIENM3-2i"
      },
      "source": [
        "The first step is to build the observable\n",
        "$$\n",
        "CHSH = A(B-b) + a(B+b) = AB - Ab + aB +ab\n",
        "$$\n",
        "where $A, a$ are each one of $\\{IX, IZ\\}$ for qubit 0 and $B, b$ are each one of $\\{XI, ZI\\}$ for qubit 1 (corresponding to little-endian notation). Paulis on different qubits can be composed by specifying order with a Pauli string, for example instantiating a `SparsePauliOp` with the `'ZX'` argument implies a measurement of $\\langle X \\rangle$ on `q0` and $\\langle Z \\rangle$ on `q1` . This *tensor* product (combining operations on *different* qubits) can be explicitly stated using the `.tensor()` method. Additionally, combining operations on the *same* qubit(s) uses the *compositional* product with the `.compose()` method. For example, all these statements create the same Pauli operator:\n",
        "\n",
        "```\n",
        "from qiskit.quantum_info import SparsePauliOp\n",
        "\n",
        "ZX = SparsePauliOp('ZX')\n",
        "ZX = SparsePauliOp(['ZX'], coeffs=[1.]) # extendable to a sum of Paulis\n",
        "ZX = SparsePauliOp('Z').tensor(SparsePauliOp('X')) # extendable to a tensor product of Paulis\n",
        "ZX = SparsePauliOp('XZ').compose(SparsePauliOp('YY')) # extendable to a compositional product of Paulis\n",
        "```\n"
      ]
    },
    {
      "cell_type": "markdown",
      "metadata": {
        "id": "jPEqUDv23-2i"
      },
      "source": [
        "<div class=\"alert alert-block alert-success\"> Ex. 1 - Create an operator for CHSH witness. </div>"
      ]
    },
    {
      "cell_type": "code",
      "execution_count": null,
      "metadata": {
        "tags": [],
        "id": "5eAS-gO93-2i"
      },
      "outputs": [],
      "source": [
        "# import the Sparse Pauli operator from\n",
        "# the IBM's Qiskit quantum information module\n",
        "from qiskit.quantum_info import SparsePauliOp\n",
        "\n",
        "\n",
        "# For Alice: A = Z ; a = X\n",
        "# For Bob: B = Z ; b = X\n",
        "\n",
        "# create the Sparse Pauli operator ZZ, for <AB>\n",
        "ZZ = SparsePauliOp.from_list( [ ( \"ZZ\", 1 ) ] )\n",
        "\n",
        "# create the Sparse Pauli operator ZX, for <Ab>\n",
        "ZX = SparsePauliOp.from_list( [ ( \"ZX\", 1 ) ] )\n",
        "\n",
        "# create the Sparse Pauli operator XZ, for <aB>\n",
        "XZ = SparsePauliOp.from_list( [ ( \"XZ\", 1 ) ] )\n",
        "\n",
        "# create the Sparse Pauli operator XX, for <ab>\n",
        "XX = SparsePauliOp.from_list( [ ( \"XX\", 1 ) ] )\n",
        "\n",
        "\n",
        "# create the list of required\n",
        "# operators ZZ, ZX, XZ, and XX\n",
        "ops = [ ZZ, ZX, XZ, XX ]\n",
        "\n",
        "\n",
        "# there are two possible CHSH witnesses\n",
        "\n",
        "# create operator for CHSH witness <CHSH_1>\n",
        "#     <CHSH_1> = <ZZ> - <ZX> + <XZ> + <XX> (=)\n",
        "# (=) <CHSH_1> = <AB> - <Ab> + <aB> + <ab>\n",
        "#obsv = ops[0] - ops[1] + ops[2] + ops[3]\n",
        "\n",
        "# create operator for CHSH witness <CHSH_2>\n",
        "#     <CHSH_2> = <ZZ> + <ZX> - <XZ> + <XX> (=)\n",
        "# (=) <CHSH_2> = <AB> + <Ab> - <aB> + <ab>\n",
        "obsv = ( ops[0] + ops[1] - ops[2] + ops[3] )"
      ]
    },
    {
      "cell_type": "code",
      "source": [
        "obsv"
      ],
      "metadata": {
        "colab": {
          "base_uri": "https://localhost:8080/"
        },
        "id": "5CtkyOcu9KCz",
        "outputId": "74b69f21-99cf-44da-f809-98f943e3d0ff"
      },
      "execution_count": null,
      "outputs": [
        {
          "output_type": "execute_result",
          "data": {
            "text/plain": [
              "SparsePauliOp(['ZZ', 'ZX', 'XZ', 'XX'],\n",
              "              coeffs=[ 1.+0.j,  1.+0.j, -1.+0.j,  1.+0.j])"
            ]
          },
          "metadata": {},
          "execution_count": 23
        }
      ]
    },
    {
      "cell_type": "code",
      "execution_count": null,
      "metadata": {
        "tags": [],
        "colab": {
          "base_uri": "https://localhost:8080/",
          "height": 191
        },
        "id": "lVAeHr_93-2k",
        "outputId": "9eacbff3-eb73-49c7-be0b-6a0997d14358"
      },
      "outputs": [
        {
          "output_type": "execute_result",
          "data": {
            "text/plain": [
              "<Figure size 370.906x200.667 with 1 Axes>"
            ],
            "image/png": "[encoded data removed]"
          },
          "metadata": {},
          "execution_count": 24
        }
      ],
      "source": [
        "# import the parameter from\n",
        "# the IBM's Qiskit circuit module\n",
        "from qiskit.circuit import Parameter\n",
        "\n",
        "# create a parameter for the theta angle\n",
        "theta = Parameter(\"θ\")\n",
        "\n",
        "\n",
        "# create a quantum circuit for two qubits\n",
        "# and to implement a parametrized quantum entangled pair\n",
        "qc = QuantumCircuit(2)\n",
        "\n",
        "\n",
        "# apply a Hadamard gate to\n",
        "# the quantum circuit, on the 1st qubit\n",
        "qc.h(0)\n",
        "\n",
        "# apply a CX/CNOT gate to\n",
        "# the quantum circuit,\n",
        "# with control on 1st qubit\n",
        "# and target on 2nd qubit\n",
        "qc.cx(0, 1)\n",
        "\n",
        "# apply a RY (Rotation-Y) gate to\n",
        "# the quantum circuit, on the 1st qubit,\n",
        "# with the theta angle defined before\n",
        "qc.ry(theta, 0)\n",
        "\n",
        "\n",
        "# draw the quantum circuit implementing\n",
        "# a parametrized quantum entangled pair\n",
        "qc.draw(\"mpl\")"
      ]
    },
    {
      "cell_type": "markdown",
      "metadata": {
        "id": "mrdvFuHP3-2k"
      },
      "source": [
        "Next we need to specify a `Sequence` of `Parameter`s that show a clear violation of the CHSH Inequality, namely\n",
        "$$\n",
        "|\\langle CHSH \\rangle| > 2.\n",
        "$$\n",
        "Let's make sure we have at least three points in violation."
      ]
    },
    {
      "cell_type": "markdown",
      "metadata": {
        "id": "OPzn0-3I3-2r"
      },
      "source": [
        "<div class=\"alert alert-block alert-success\"> Ex. 2 - Create a Parameterization (i.e., a list or an array) of the angle in the above circuit (in radians).<br>\n",
        "&nbsp;&nbsp;&nbsp;&nbsp;&nbsp;&nbsp;&nbsp;&nbsp;&nbsp;&nbsp;&nbsp;&nbsp;&nbsp;(Hint: Note the `type` for the `parameter_values` argument is `Sequence[Sequence[float]]`).</div>"
      ]
    },
    {
      "cell_type": "code",
      "execution_count": null,
      "metadata": {
        "tags": [],
        "id": "jXuwrn2h3-2r"
      },
      "outputs": [],
      "source": [
        "# create a parameterization of theta angles that\n",
        "# will violate the CHSH inequality\n",
        "\n",
        "# number of theta angles to violate the CHSH inequality\n",
        "number_of_phases = 20\n",
        "\n",
        "\n",
        "# for the 1st CHSH witness\n",
        "#     <CHSH_1> = <ZZ> - <ZX> + <XZ> + <XX> (=)\n",
        "# (=) <CHSH_1> = <AB> - <Ab> + <aB> + <ab>\n",
        "#phases_chsh_1_1 = np.linspace(0.5 * np.pi, np.pi, number_of_phases)\n",
        "#phases_chsh_1_2 = np.linspace(1.5 * np.pi, 2 * np.pi, number_of_phases)\n",
        "\n",
        "\n",
        "# create the two lists of theta angles that\n",
        "# violate the CHSH inequality\n",
        "#angles_chsh_1_1 = [[ph] for ph in phases_chsh_1_1]\n",
        "#angles_chsh_1_2 = [[ph] for ph in phases_chsh_1_2]\n",
        "\n",
        "\n",
        "# merge the two lists of theta angles that\n",
        "# violate the CHSH inequality, for the final result\n",
        "#angles = angles_chsh_1_1 + angles_chsh_1_2\n",
        "\n",
        "\n",
        "\n",
        "# for the 2nd CHSH witness\n",
        "#     <CHSH_2> = <ZZ> + <ZX> - <XZ> + <XX> (=)\n",
        "# (=) <CHSH_2> = <AB> + <Ab> - <aB> + <ab>\n",
        "phases_chsh_2_1 = np.linspace( 0, ( 0.5 * np.pi ), number_of_phases )\n",
        "phases_chsh_2_2 = np.linspace( ( 1 * np.pi ) , ( 1.5 * np.pi ), number_of_phases )\n",
        "\n",
        "\n",
        "# create the two lists of theta angles that\n",
        "# violate the CHSH inequality\n",
        "angles_chsh_2_1 = [ [ph] for ph in phases_chsh_2_1 ]\n",
        "angles_chsh_2_2 = [ [ph] for ph in phases_chsh_2_2 ]\n",
        "\n",
        "\n",
        "# merge the two lists of theta angles that\n",
        "# violate the CHSH inequality, for the final result\n",
        "angles = angles_chsh_2_1 + angles_chsh_2_2"
      ]
    },
    {
      "cell_type": "code",
      "source": [
        "angles"
      ],
      "metadata": {
        "colab": {
          "base_uri": "https://localhost:8080/"
        },
        "id": "ztPSSZ5_9oUS",
        "outputId": "2b7875de-3a1e-402e-95f6-aaa360e9d87b"
      },
      "execution_count": null,
      "outputs": [
        {
          "output_type": "execute_result",
          "data": {
            "text/plain": [
              "[[0.0],\n",
              " [0.08267349088394192],\n",
              " [0.16534698176788384],\n",
              " [0.24802047265182575],\n",
              " [0.3306939635357677],\n",
              " [0.4133674544197096],\n",
              " [0.4960409453036515],\n",
              " [0.5787144361875934],\n",
              " [0.6613879270715354],\n",
              " [0.7440614179554773],\n",
              " [0.8267349088394192],\n",
              " [0.9094083997233612],\n",
              " [0.992081890607303],\n",
              " [1.074755381491245],\n",
              " [1.1574288723751869],\n",
              " [1.2401023632591288],\n",
              " [1.3227758541430708],\n",
              " [1.4054493450270127],\n",
              " [1.4881228359109546],\n",
              " [1.5707963267948966],\n",
              " [3.141592653589793],\n",
              " [3.224266144473735],\n",
              " [3.306939635357677],\n",
              " [3.3896131262416187],\n",
              " [3.472286617125561],\n",
              " [3.5549601080095026],\n",
              " [3.6376335988934447],\n",
              " [3.7203070897773864],\n",
              " [3.8029805806613286],\n",
              " [3.8856540715452703],\n",
              " [3.9683275624292125],\n",
              " [4.051001053313154],\n",
              " [4.133674544197096],\n",
              " [4.2163480350810385],\n",
              " [4.29902152596498],\n",
              " [4.381695016848922],\n",
              " [4.464368507732864],\n",
              " [4.547041998616805],\n",
              " [4.6297154895007475],\n",
              " [4.71238898038469]]"
            ]
          },
          "metadata": {},
          "execution_count": 27
        }
      ]
    },
    {
      "cell_type": "markdown",
      "metadata": {
        "id": "KdT8-jQS3-2r"
      },
      "source": [
        "Test your angles and observable by running with the `Estimator` before submitting to the grader."
      ]
    },
    {
      "cell_type": "code",
      "execution_count": null,
      "metadata": {
        "tags": [],
        "colab": {
          "base_uri": "https://localhost:8080/",
          "height": 511
        },
        "id": "TGtfNpfZ3-2r",
        "outputId": "6d991055-5995-4af4-c970-0484c5362a95"
      },
      "outputs": [
        {
          "output_type": "execute_result",
          "data": {
            "text/plain": [
              "<matplotlib.legend.Legend at 0x7c79798f6590>"
            ]
          },
          "metadata": {},
          "execution_count": 29
        },
        {
          "output_type": "display_data",
          "data": {
            "text/plain": [
              "<Figure size 640x480 with 1 Axes>"
            ],
            "image/png": "[encoded data removed]"
          },
          "metadata": {}
        }
      ],
      "source": [
        "# crate an Estimator object\n",
        "estimator = Estimator()\n",
        "\n",
        "# create a job for the quantum circuit implementing\n",
        "# a parametrized quantum entangled pair,\n",
        "# varying the elements in the list of\n",
        "# theta angles defined before\n",
        "job = estimator.run( [qc] * len(angles),\n",
        "                     observables=[obsv] * len(angles),\n",
        "                     parameter_values=angles )\n",
        "\n",
        "\n",
        "# retrieve the expectation values\n",
        "# from the results of the job ran by\n",
        "# the Estimator created before,\n",
        "# that was ran on the parametrized\n",
        "# quantum entangled pair\n",
        "exps = job.result().values\n",
        "\n",
        "\n",
        "# plot the angles theta parametrized from the list built before\n",
        "plt.plot( angles, exps, marker='x', ls='-', color=\"green\" )\n",
        "\n",
        "# plot the two classical bounds that violates the CHSH inequality\n",
        "plt.plot( angles, [2]*len(angles), ls=\"--\", color=\"red\", label=\"Classical Bound\" )\n",
        "plt.plot( angles, [-2]*len(angles), ls=\"--\", color=\"red\" )\n",
        "\n",
        "\n",
        "# add the X-axis label to the plot built before\n",
        "plt.xlabel(\"angle (rad)\")\n",
        "\n",
        "# add the Y-axis label to the plot built before\n",
        "plt.ylabel(\"CHSH Witness\")\n",
        "\n",
        "\n",
        "# add the title to the plot built before\n",
        "plt.title(\"CHSH Witnesses\\n\")\n",
        "\n",
        "\n",
        "# add the legend to the plot built before\n",
        "plt.legend(loc=4)"
      ]
    },
    {
      "cell_type": "markdown",
      "metadata": {
        "id": "Kd4DGa-H3-2s"
      },
      "source": [
        "Did you see at least 3 points outside the red dashed lines? If so, you are ready to send to the grader!"
      ]
    },
    {
      "cell_type": "markdown",
      "metadata": {
        "id": "-B1fabJJ3-2s"
      },
      "source": [
        "# Teleportation\n",
        "\n",
        "Quantum information cannot be copied due to the *No Cloning Theorem*, however it can be \"teleported\" in the sense that a qubit can be entangled with a quantum resource, and via a protocol of measurements and *classical communication* of their results, the original quantum state can be reconstructed on a different qubit. This process destroys the information in the original qubit via measurement.\n",
        "\n",
        "In this exercise, we will construct a particular qubit state and then transfer that state to another qubit using the teleportation protocol. Here we will be looking at specific classical and quantum registers, so we need to import those."
      ]
    },
    {
      "cell_type": "code",
      "execution_count": null,
      "metadata": {
        "tags": [],
        "id": "joM3w4lp3-2s"
      },
      "outputs": [],
      "source": [
        "# import the classical and quantum registers\n",
        "# from the IBM's Qiksit circuit module\n",
        "from qiskit.circuit import ClassicalRegister, QuantumRegister"
      ]
    },
    {
      "cell_type": "markdown",
      "metadata": {
        "id": "WsFTg-2G3-2t"
      },
      "source": [
        "### Create the circuit\n",
        "\n",
        "Define an angle $\\theta$ to rotate our qubit by. This will allow us to easily make comparisons for the original state and the teleported quantum state."
      ]
    },
    {
      "cell_type": "code",
      "execution_count": null,
      "metadata": {
        "tags": [],
        "colab": {
          "base_uri": "https://localhost:8080/",
          "height": 127
        },
        "id": "Ces2Uiv63-2t",
        "outputId": "6eb2f9d1-4dfb-4bff-d9e1-13b8017d7f1d"
      },
      "outputs": [
        {
          "output_type": "execute_result",
          "data": {
            "text/plain": [
              "<Figure size 185.453x117.056 with 1 Axes>"
            ],
            "image/png": "[encoded data removed]"
          },
          "metadata": {},
          "execution_count": 31
        }
      ],
      "source": [
        "# create a parameter for the theta angle\n",
        "theta = Parameter(\"θ\")\n",
        "\n",
        "\n",
        "# create a quantum register for one qubit\n",
        "# and to implement a parametrized quantum operation\n",
        "qr = QuantumRegister(1, \"q\")\n",
        "\n",
        "# create a quantum circuit with\n",
        "# the quantum register created before\n",
        "qc = QuantumCircuit(qr)\n",
        "\n",
        "\n",
        "# apply a RY (Rotation-Y) gate to\n",
        "# the quantum circuit, on the 1st qubit,\n",
        "# with the theta angle defined before\n",
        "qc.ry(theta, 0)\n",
        "\n",
        "\n",
        "# draw the quantum circuit implementing\n",
        "# a parametrized quantum operation\n",
        "qc.draw(\"mpl\")"
      ]
    },
    {
      "cell_type": "markdown",
      "metadata": {
        "id": "BnRjCdWO3-2t"
      },
      "source": [
        "Alice possesses the quantum information $|\\psi\\rangle$ in the state of $q$ and wishes to transfer it to Bob. The resource they share is a special entangled state called a Bell state:\n",
        "\n",
        "$$\n",
        "|\\Phi^+\\rangle = \\frac{1}{2} \\left( |00\\rangle + |11\\rangle \\right)\n",
        "$$\n",
        "\n",
        "Here, the first of the pair going to Alice and the second to Bob. Hence, Alice has a 2-qubit register ($q$ and $Bell_0$) and Bob has a single-qubit register ($Bell_1$). We will construct the circuit by copying the original `qc` and adding the appropriate registers."
      ]
    },
    {
      "cell_type": "code",
      "execution_count": null,
      "metadata": {
        "tags": [],
        "colab": {
          "base_uri": "https://localhost:8080/",
          "height": 384
        },
        "id": "42gAo2ek3-2t",
        "outputId": "9d62b21a-2d6c-48c6-a99f-c0c2b3898000"
      },
      "outputs": [
        {
          "output_type": "execute_result",
          "data": {
            "text/plain": [
              "<Figure size 239.337x451.5 with 1 Axes>"
            ],
            "image/png": "[encoded data removed]"
          },
          "metadata": {},
          "execution_count": 33
        }
      ],
      "source": [
        "# create a copy of the quantum circuit defined before\n",
        "# to initialize the quantum circuit implementing\n",
        "# a parametrized quantum teleportation\n",
        "tele_qc = qc.copy()\n",
        "\n",
        "\n",
        "# create a quantum register with two qubits\n",
        "# for the Bell State to be shared on\n",
        "# the parametrized quantum teleportation\n",
        "bell = QuantumRegister(2, \"Bell\")\n",
        "\n",
        "# create a classical register with two qubits\n",
        "# for Alice's part on the parametrized\n",
        "# quantum teleportation\n",
        "alice = ClassicalRegister(2, \"Alice\")\n",
        "\n",
        "# create a classical register with one qubit\n",
        "# for Bob's part on the parametrized\n",
        "# quantum teleportation\n",
        "bob = ClassicalRegister(1, \"Bob\")\n",
        "\n",
        "\n",
        "# add all the quantum and classical registers\n",
        "# created before to the quantum circuit implementing\n",
        "# a parametrized quantum teleportation\n",
        "tele_qc.add_register(bell, alice, bob)\n",
        "\n",
        "\n",
        "# draw the quantum circuit implementing\n",
        "# the 1st step of a parametrized\n",
        "# quantum teleportation\n",
        "tele_qc.draw(\"mpl\")"
      ]
    },
    {
      "cell_type": "markdown",
      "metadata": {
        "id": "jjyGwtPX3-2u"
      },
      "source": [
        "Now create the Bell pair with $Bell_0$ going to Alice and $Bell_1$ going to Bob. This is done by using a Hadamard gate to put $Bell_0$ in the $|+\\rangle$ state and then performing a CNOT with the same qubit as the control. After they receive their respective qubit, they part ways."
      ]
    },
    {
      "cell_type": "code",
      "execution_count": null,
      "metadata": {
        "tags": [],
        "colab": {
          "base_uri": "https://localhost:8080/",
          "height": 384
        },
        "id": "Zv_oInGL3-2u",
        "outputId": "815c0596-bd38-4bab-b4a1-f08c0c2143b4"
      },
      "outputs": [
        {
          "output_type": "execute_result",
          "data": {
            "text/plain": [
              "<Figure size 573.781x451.5 with 1 Axes>"
            ],
            "image/png": "[encoded data removed]"
          },
          "metadata": {},
          "execution_count": 34
        }
      ],
      "source": [
        "# add a barrier to the quantum circuit implementing\n",
        "# a parametrized quantum teleportation\n",
        "tele_qc.barrier()\n",
        "\n",
        "\n",
        "# create Bell state with the other two qubits,\n",
        "# in the quantum register defined before\n",
        "# for that purpose\n",
        "\n",
        "# apply a Hadamard gate to\n",
        "# the quantum circuit, on the 2nd qubit\n",
        "tele_qc.h(1)\n",
        "\n",
        "# apply a CX/CNOT gate to\n",
        "# the quantum circuit,\n",
        "# with control on 2nd qubit\n",
        "# and target on 3rd qubit\n",
        "tele_qc.cx(1, 2)\n",
        "\n",
        "\n",
        "# add a barrier to the quantum circuit implementing\n",
        "# a parametrized quantum teleportation\n",
        "tele_qc.barrier()\n",
        "\n",
        "\n",
        "# draw the quantum circuit implementing\n",
        "# the 2nd step of a parametrized\n",
        "# quantum teleportation\n",
        "tele_qc.draw(\"mpl\")"
      ]
    },
    {
      "cell_type": "markdown",
      "metadata": {
        "id": "yveku8lL3-2u"
      },
      "source": [
        "Next, Alice performs a CNOT controlled by $q$ on $Bell_0$, which maps information about the state onto it. She then applies a Hadamard gate on $q$."
      ]
    },
    {
      "cell_type": "code",
      "execution_count": null,
      "metadata": {
        "tags": [],
        "colab": {
          "base_uri": "https://localhost:8080/",
          "height": 384
        },
        "id": "UixkTRf23-2u",
        "outputId": "c82463ce-367d-493e-abc6-73f8fcc1f245"
      },
      "outputs": [
        {
          "output_type": "execute_result",
          "data": {
            "text/plain": [
              "<Figure size 824.615x451.5 with 1 Axes>"
            ],
            "image/png": "[encoded data removed]"
          },
          "metadata": {},
          "execution_count": 35
        }
      ],
      "source": [
        "# operations for Alice perform on her qubits\n",
        "# during the parametrized quantum teleportation\n",
        "\n",
        "# apply a CX/CNOT gate to\n",
        "# the quantum circuit,\n",
        "# with control on 1sr qubit\n",
        "# and target on 2nd qubit\n",
        "tele_qc.cx(0, 1)\n",
        "\n",
        "# apply a Hadamard gate to\n",
        "# the quantum circuit, on the 1st qubit\n",
        "tele_qc.h(0)\n",
        "\n",
        "\n",
        "# add a barrier to the quantum circuit implementing\n",
        "# a parametrized quantum teleportation\n",
        "tele_qc.barrier()\n",
        "\n",
        "# draw the quantum circuit implementing\n",
        "# the 3rd step of a parametrized\n",
        "# quantum teleportation\n",
        "tele_qc.draw(\"mpl\")"
      ]
    },
    {
      "cell_type": "markdown",
      "metadata": {
        "id": "waNRitQl3-2v"
      },
      "source": [
        "Now Alice measures her qubits and saves the results to her register."
      ]
    },
    {
      "cell_type": "code",
      "execution_count": null,
      "metadata": {
        "tags": [],
        "colab": {
          "base_uri": "https://localhost:8080/",
          "height": 384
        },
        "id": "j_06x3_T3-2v",
        "outputId": "b50e5bf5-216e-4e24-85f1-9ad649603e4e"
      },
      "outputs": [
        {
          "output_type": "execute_result",
          "data": {
            "text/plain": [
              "<Figure size 991.837x451.5 with 1 Axes>"
            ],
            "image/png": "[encoded data removed]"
          },
          "metadata": {},
          "execution_count": 36
        }
      ],
      "source": [
        "# measurements performed by Alice on\n",
        "# the qubit q and on her part of the Bell State,\n",
        "# performing the entanglement swapping\n",
        "tele_qc.measure( [ qr[0], bell[0] ], alice )\n",
        "\n",
        "# draw the quantum circuit implementing\n",
        "# the 4th step of a parametrized\n",
        "# quantum teleportation\n",
        "tele_qc.draw(\"mpl\")"
      ]
    },
    {
      "cell_type": "markdown",
      "metadata": {
        "id": "NJJilfwS3-2v"
      },
      "source": [
        "Bob's qubit now has the information $|\\psi\\rangle$ from Alice's qubit $q$ encoded in $Bell_1$, but he does not know what basis to measure in to extract it. Accordingly, Alice must share the information in her register over a *classical* communication channel (this is why teleportation does not violate special relativity, no matter how far Alice and Bob are apart). She instructs Bob to perform an X gate on his qubit if her measurement of $Bell_0$ yields a 1 outcome, followed by a Z gate if her measurement of $q$ yields a 1.\n",
        "\n",
        "The applications of these gates can be conditioned on the measurement outcomes in two ways:\n",
        "- The `.c_if()` [instruction](https://qiskit.org/documentation/stubs/qiskit.circuit.Instruction.c_if.html), which applies the gate it modifies if the value of the `ClassicalRegister` index is equal to the value specified. Note that this works **only** on simulators;\n",
        "- The `.if_test()` [context](https://qiskit.org/documentation/stubs/qiskit.circuit.QuantumCircuit.if_test.html) which operates similarly, but generalizes the syntax to allow for nested conditionals. This works on both simulators and actual hardware."
      ]
    },
    {
      "cell_type": "markdown",
      "metadata": {
        "id": "Z3bLJfeL3-2v"
      },
      "source": [
        "<div class=\"alert alert-block alert-success\"> Ex. 3 - Add approriate conditional gates to transform Bob's qubit into the $Z$-basis. </div>"
      ]
    },
    {
      "cell_type": "code",
      "execution_count": 37,
      "metadata": {
        "tags": [],
        "id": "5_OGBOJo3-2w",
        "outputId": "ddfc9078-c6fe-4a96-f2fb-bd821038f9cb",
        "colab": {
          "base_uri": "https://localhost:8080/",
          "height": 355
        }
      },
      "outputs": [
        {
          "output_type": "execute_result",
          "data": {
            "text/plain": [
              "<Figure size 1159.06x451.5 with 1 Axes>"
            ],
            "image/png": "[encoded data removed]"
          },
          "metadata": {},
          "execution_count": 37
        }
      ],
      "source": [
        "# create a copy of the quantum circuit defined before\n",
        "# to initialize the quantum circuit implementing\n",
        "# a parametrized quantum teleportation,\n",
        "# and to be graded with dynamic operations\n",
        "graded_qc = tele_qc.copy()\n",
        "\n",
        "\n",
        "##############################\n",
        "\n",
        "# add gates to graded_qc here\n",
        "\n",
        "# Bob, who already has the qubit teleported,\n",
        "# applies the following gates depending on\n",
        "# the state of the classical bits:\n",
        "# 00 -> Do nothing\n",
        "# 01 -> Apply X gate\n",
        "# 10 -> Apply Z gate\n",
        "# 11 -> Apply ZX gate\n",
        "\n",
        "# apply the Pauli-X (bit flip / not) gate on\n",
        "# the 2nd qubit of the Bell state if\n",
        "# the Alice's 2nd classical bit is 1\n",
        "graded_qc.x( bell[1] ).c_if( alice[1], 1 )\n",
        "\n",
        "# apply the Pauli-Z (phase flip) gate on\n",
        "# the 2nd qubit of the Bell state if\n",
        "# the Alice's 1st classical bit is 1\n",
        "graded_qc.z( bell[1] ).c_if( alice[0], 1 )\n",
        "\n",
        "##############################\n",
        "\n",
        "\n",
        "# draw the quantum circuit implementing\n",
        "# the parametrized quantum teleportation, to be graded\n",
        "graded_qc.draw(\"mpl\")"
      ]
    },
    {
      "cell_type": "markdown",
      "metadata": {
        "id": "JEk32RqX3-2w"
      },
      "source": [
        "Finally, Bob can measure his qubit, which would yield results with the same probabilities as had Alice measured it originally."
      ]
    },
    {
      "cell_type": "code",
      "execution_count": 38,
      "metadata": {
        "tags": [],
        "id": "7-mDYIVh3-2w",
        "outputId": "8212b644-b265-4647-fbdf-24985b1692bd",
        "colab": {
          "base_uri": "https://localhost:8080/",
          "height": 313
        }
      },
      "outputs": [
        {
          "output_type": "execute_result",
          "data": {
            "text/plain": [
              "<Figure size 1326.28x451.5 with 1 Axes>"
            ],
            "image/png": "[encoded data removed]"
          },
          "metadata": {},
          "execution_count": 38
        }
      ],
      "source": [
        "# add a barrier to the quantum circuit implementing\n",
        "# a parametrized quantum teleportation, to be graded\n",
        "graded_qc.barrier()\n",
        "\n",
        "\n",
        "# measure the 2nd qubit of the Bell state to\n",
        "# the Bob's classical register\n",
        "graded_qc.measure( bell[1], bob )\n",
        "\n",
        "\n",
        "# draw the quantum circuit implementing\n",
        "# a parametrized quantum teleportation, to be graded\n",
        "graded_qc.draw(\"mpl\")"
      ]
    },
    {
      "cell_type": "markdown",
      "metadata": {
        "id": "gw99QDgl3-2x"
      },
      "source": [
        "The statevector simulator cannot work with dynamic circuits because measurement is not a unitary operation. Therefore we import the `Sampler` primitive from `qiskit_aer` to use the `AerSimulator`. We choose our angle to be $5\\pi/7$, which will yield a 1 result about 80\\% of the time and 0 result about 20\\% of the time. Then we run both circuits: the original one Alice had and the teleported one Bob receives."
      ]
    },
    {
      "cell_type": "code",
      "execution_count": 44,
      "metadata": {
        "tags": [],
        "id": "p54oHw1S3-2x",
        "outputId": "7ba04609-295e-4d82-b2a5-2524de01b9a8",
        "colab": {
          "base_uri": "https://localhost:8080/",
          "height": 218
        }
      },
      "outputs": [
        {
          "output_type": "error",
          "ename": "AttributeError",
          "evalue": "'QuantumCircuit' object has no attribute 'bind_parameters'",
          "traceback": [
            "\u001b[0;31m---------------------------------------------------------------------------\u001b[0m",
            "\u001b[0;31mAttributeError\u001b[0m                            Traceback (most recent call last)",
            "\u001b[0;32m<ipython-input-44-5fd634663fff>\u001b[0m in \u001b[0;36m<cell line: 23>\u001b[0;34m()\u001b[0m\n\u001b[1;32m     21\u001b[0m \u001b[0;31m# with a static quantum circuit and\u001b[0m\u001b[0;34m\u001b[0m\u001b[0;34m\u001b[0m\u001b[0m\n\u001b[1;32m     22\u001b[0m \u001b[0;31m# with the theta angle defined before\u001b[0m\u001b[0;34m\u001b[0m\u001b[0;34m\u001b[0m\u001b[0m\n\u001b[0;32m---> 23\u001b[0;31m \u001b[0mjob_static\u001b[0m \u001b[0;34m=\u001b[0m \u001b[0msampler\u001b[0m\u001b[0;34m.\u001b[0m\u001b[0mrun\u001b[0m\u001b[0;34m(\u001b[0m\u001b[0mqc\u001b[0m\u001b[0;34m.\u001b[0m\u001b[0mbind_parameters\u001b[0m\u001b[0;34m(\u001b[0m\u001b[0;34m{\u001b[0m\u001b[0mtheta\u001b[0m\u001b[0;34m:\u001b[0m \u001b[0mangle\u001b[0m\u001b[0;34m}\u001b[0m\u001b[0;34m)\u001b[0m\u001b[0;34m)\u001b[0m\u001b[0;34m\u001b[0m\u001b[0;34m\u001b[0m\u001b[0m\n\u001b[0m\u001b[1;32m     24\u001b[0m \u001b[0;34m\u001b[0m\u001b[0m\n\u001b[1;32m     25\u001b[0m \u001b[0;31m# create a job for the quantum circuit implementing\u001b[0m\u001b[0;34m\u001b[0m\u001b[0;34m\u001b[0m\u001b[0m\n",
            "\u001b[0;31mAttributeError\u001b[0m: 'QuantumCircuit' object has no attribute 'bind_parameters'"
          ]
        }
      ],
      "source": [
        "# impor the Sampler from the IBM's Qiskit\n",
        "# Aer primitives module\n",
        "from qiskit_aer.primitives import Sampler\n",
        "\n",
        "\n",
        "# define the pretended theta angle\n",
        "angle = 5 * ( np.pi / 7 )\n",
        "\n",
        "\n",
        "# create a Sampler object\n",
        "sampler = Sampler()\n",
        "\n",
        "\n",
        "# measure all the qubits on the quantum circuit\n",
        "# implementing a parametrized quantum teleportation\n",
        "qc.measure_all()\n",
        "\n",
        "\n",
        "# create a job for the quantum circuit implementing\n",
        "# a parametrized quantum teleportation,\n",
        "# with a static quantum circuit and\n",
        "# with the theta angle defined before\n",
        "job_static = sampler.run(qc.bind_parameters({theta: angle}))\n",
        "\n",
        "# create a job for the quantum circuit implementing\n",
        "# a parametrized quantum teleportation,\n",
        "# with a dynamic quantum circuit and\n",
        "# with the theta angle defined before\n",
        "job_dynamic = sampler.run( graded_qc.bind_parameters({theta: angle}) )\n",
        "\n",
        "\n",
        "# print the measurement distributions of the qubits from\n",
        "# the parametrized quantum teleportation, with a static quantum circuit\n",
        "print( f\"Original Dists.: {job_static.result().quasi_dists[0].binary_probabilities()}\" )\n",
        "\n",
        "# print the measurement distributions of the qubits from\n",
        "# the parametrized quantum teleportation, with a dynamic quantum circuit\n",
        "print( f\"Teleported Dists.: {job_dynamic.result().quasi_dists[0].binary_probabilities()}\" )"
      ]
    },
    {
      "cell_type": "markdown",
      "metadata": {
        "id": "o3U7mROG3-2x"
      },
      "source": [
        "Wait, we see different results! While measuring Alice's original $q$ yields the expected ratio of outcomes, the teleported distributions have many more values. This is because the teleported circuit includes Alice's measurements of $q$ and $Bell_0$, whereas we only wish to see Bob's measurements of $Bell_1$ yield the same distribution.\n",
        "\n",
        "In order to rectify this, we must take the *marginal* counts, meaning we combine results in which Bob measures a 0 and all the results in which Bob measures a 1 over all the possible combinations. This is done with the `marginal_counts` [method](https://qiskit.org/documentation/stubs/qiskit.result.marginal_counts.html) from `qiskit.result`, which combines results over measurement indices."
      ]
    },
    {
      "cell_type": "markdown",
      "metadata": {
        "id": "tL6AQHo63-2x"
      },
      "source": [
        "<div class=\"alert alert-block alert-success\"> Ex. 4 - Marginalize the counts from measuring the teleported quantum state. <br>\n",
        "&nbsp;&nbsp;&nbsp;&nbsp;&nbsp;&nbsp;&nbsp;&nbsp;&nbsp;&nbsp;&nbsp;&nbsp;(Hint: Remember that bit strings are reported in the little-endian convention).</div>"
      ]
    },
    {
      "cell_type": "code",
      "execution_count": 45,
      "metadata": {
        "tags": [],
        "id": "fVpNdcHK3-2x",
        "colab": {
          "base_uri": "https://localhost:8080/",
          "height": 200
        },
        "outputId": "5cd0f4f6-e8ab-45f6-b5db-86a6e6412a6b"
      },
      "outputs": [
        {
          "output_type": "error",
          "ename": "NameError",
          "evalue": "name 'job_dynamic' is not defined",
          "traceback": [
            "\u001b[0;31m---------------------------------------------------------------------------\u001b[0m",
            "\u001b[0;31mNameError\u001b[0m                                 Traceback (most recent call last)",
            "\u001b[0;32m<ipython-input-45-f91c797a49a8>\u001b[0m in \u001b[0;36m<cell line: 7>\u001b[0;34m()\u001b[0m\n\u001b[1;32m      5\u001b[0m \u001b[0;31m# marginalize counts from the quasi-distributitions\u001b[0m\u001b[0;34m\u001b[0m\u001b[0;34m\u001b[0m\u001b[0m\n\u001b[1;32m      6\u001b[0m \u001b[0;31m# obtained from the parametrized quantum teleportation\u001b[0m\u001b[0;34m\u001b[0m\u001b[0;34m\u001b[0m\u001b[0m\n\u001b[0;32m----> 7\u001b[0;31m tele_counts = marginal_counts( job_dynamic.result().quasi_dists[0]\n\u001b[0m\u001b[1;32m      8\u001b[0m                                .binary_probabilities(), [2] )\n",
            "\u001b[0;31mNameError\u001b[0m: name 'job_dynamic' is not defined"
          ]
        }
      ],
      "source": [
        "# import the counts marginalization from\n",
        "# the IBM's Qiskit result module\n",
        "from qiskit.result import marginal_counts\n",
        "\n",
        "# marginalize counts from the quasi-distributitions\n",
        "# obtained from the parametrized quantum teleportation\n",
        "tele_counts = marginal_counts( job_dynamic.result().quasi_dists[0]\n",
        "                               .binary_probabilities(), [2] )"
      ]
    },
    {
      "cell_type": "markdown",
      "metadata": {
        "id": "7hNqnlkT3-2y"
      },
      "source": [
        "If we marginalized correctly, we will see that the quasi-distributions from Alice's measurement and Bob's measurement are nearly identical, demonstrating that teleportation was successful!"
      ]
    },
    {
      "cell_type": "code",
      "execution_count": 46,
      "metadata": {
        "tags": [],
        "id": "-9aaKvQE3-2y",
        "outputId": "e32ec4fc-23b6-45de-ac31-fb2e0fd77bdc",
        "colab": {
          "base_uri": "https://localhost:8080/",
          "height": 218
        }
      },
      "outputs": [
        {
          "output_type": "error",
          "ename": "NameError",
          "evalue": "name 'job_static' is not defined",
          "traceback": [
            "\u001b[0;31m---------------------------------------------------------------------------\u001b[0m",
            "\u001b[0;31mNameError\u001b[0m                                 Traceback (most recent call last)",
            "\u001b[0;32m<ipython-input-46-bc0b374e3fcc>\u001b[0m in \u001b[0;36m<cell line: 10>\u001b[0;34m()\u001b[0m\n\u001b[1;32m      8\u001b[0m \u001b[0;31m# namely the original quantum state to be teleported\u001b[0m\u001b[0;34m\u001b[0m\u001b[0;34m\u001b[0m\u001b[0m\n\u001b[1;32m      9\u001b[0m \u001b[0;31m# and the quantum state which was indeed teleported\u001b[0m\u001b[0;34m\u001b[0m\u001b[0;34m\u001b[0m\u001b[0m\n\u001b[0;32m---> 10\u001b[0;31m plot_histogram( [ job_static.result().quasi_dists[0]\n\u001b[0m\u001b[1;32m     11\u001b[0m                   .binary_probabilities(), tele_counts ],\n\u001b[1;32m     12\u001b[0m                 legend=legend, title=\"Measurement Results\\n\" )\n",
            "\u001b[0;31mNameError\u001b[0m: name 'job_static' is not defined"
          ]
        }
      ],
      "source": [
        "# create the legend for the two quantum states\n",
        "# created before, namely the original quantum state to\n",
        "# be teleported and the quantum state which was indeed teleported\n",
        "legend = [ \"Original State\", \"Teleported State\" ]\n",
        "\n",
        "# plot the histogram for the quasi-distributions\n",
        "# for the two quantum states created before,\n",
        "# namely the original quantum state to be teleported\n",
        "# and the quantum state which was indeed teleported\n",
        "plot_histogram( [ job_static.result().quasi_dists[0]\n",
        "                  .binary_probabilities(), tele_counts ],\n",
        "                legend=legend, title=\"Measurement Results\\n\" )"
      ]
    },
    {
      "cell_type": "markdown",
      "metadata": {
        "tags": [],
        "id": "MPTQtoco3-2z"
      },
      "source": [
        "Congratulations! You finished Lab 2 of the IBM's Qiskit Global Summer School 2023! 🎉 🎉 🎉"
      ]
    },
    {
      "cell_type": "code",
      "source": [
        "import qiskit.utils\n",
        "qiskit.utils.local_hardware_info()"
      ],
      "metadata": {
        "id": "iD_daxiX4osQ",
        "colab": {
          "base_uri": "https://localhost:8080/"
        },
        "outputId": "9c40f796-b943-417a-ad77-ae7a62fbce66"
      },
      "execution_count": 47,
      "outputs": [
        {
          "output_type": "execute_result",
          "data": {
            "text/plain": [
              "{'python_compiler': 'GCC 11.4.0',\n",
              " 'python_build': 'main, Nov 20 2023 15:14:05',\n",
              " 'python_version': '3.10.12',\n",
              " 'os': 'Linux',\n",
              " 'cpus': 1}"
            ]
          },
          "metadata": {},
          "execution_count": 47
        }
      ]
    },
    {
      "cell_type": "markdown",
      "metadata": {
        "id": "RQsb8frG3-2z"
      },
      "source": [
        "Made with ❤ by Rúben André Barreiro (and adapted from IBM Quantum)."
      ]
    }
  ],
  "metadata": {
    "kernelspec": {
      "display_name": "Python 3 (ipykernel)",
      "language": "python",
      "name": "python3"
    },
    "language_info": {
      "codemirror_mode": {
        "name": "ipython",
        "version": 3
      },
      "file_extension": ".py",
      "mimetype": "text/x-python",
      "name": "python",
      "nbconvert_exporter": "python",
      "pygments_lexer": "ipython3",
      "version": "3.10.8"
    },
    "colab": {
      "provenance": [],
      "include_colab_link": true
    }
  },
  "nbformat": 4,
  "nbformat_minor": 0
}