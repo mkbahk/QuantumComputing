{
  "nbformat": 4,
  "nbformat_minor": 0,
  "metadata": {
    "colab": {
      "private_outputs": true,
      "provenance": [],
      "authorship_tag": "ABX9TyOheBLk8OlxG/GeLO8wdCG5",
      "include_colab_link": true
    },
    "kernelspec": {
      "name": "python3",
      "display_name": "Python 3"
    },
    "language_info": {
      "name": "python"
    },
    "gpuClass": "standard"
  },
  "cells": [
    {
      "cell_type": "markdown",
      "metadata": {
        "id": "view-in-github",
        "colab_type": "text"
      },
      "source": [
        "<a href=\"https://colab.research.google.com/github/mkbahk/QuantumComputing/blob/main/02_Qiskit_%EC%8B%9C%EC%9E%91%ED%95%98%EA%B8%B0.ipynb\" target=\"_parent\"><img src=\"https://colab.research.google.com/assets/colab-badge.svg\" alt=\"Open In Colab\"/></a>"
      ]
    },
    {
      "cell_type": "markdown",
      "source": [
        "Qiskit 시작하기"
      ],
      "metadata": {
        "id": "kI6nrMP-feFd"
      }
    },
    {
      "cell_type": "code",
      "execution_count": null,
      "metadata": {
        "id": "eOIqtyXdfK_L"
      },
      "outputs": [],
      "source": [
        "!python3 -m pip install qiskit[visualization]"
      ]
    },
    {
      "cell_type": "code",
      "source": [
        "import numpy as mp\n",
        "from qiskit import *"
      ],
      "metadata": {
        "id": "b8xy6gpZgEgO"
      },
      "execution_count": null,
      "outputs": []
    },
    {
      "cell_type": "markdown",
      "source": [
        "**회로기초**\n",
        "\n",
        "회로만들기"
      ],
      "metadata": {
        "id": "RCn5yaJegrtC"
      }
    },
    {
      "cell_type": "code",
      "source": [
        "# Create a Quantum Circuit acting on a quantum register of three qubits\n",
        "circ = QuantumCircuit(3)"
      ],
      "metadata": {
        "id": "sSnvQyL9gpiA"
      },
      "execution_count": null,
      "outputs": []
    },
    {
      "cell_type": "markdown",
      "source": [
        "**GHZ 상태**\n",
        "\n",
        "In physics, in the area of quantum information theory, a Greenberger–Horne–Zeilinger state (GHZ state) is a certain type of entangled quantum state that involves at least three subsystems (particle states, qubits, or qudits). It was first studied by Daniel Greenberger, Michael Horne and Anton Zeilinger in 1989.[1] Extremely non-classical properties of the state have been observed.\n",
        "\n",
        "![스크린샷 2023-04-26 오후 4.47.42.png](data:image/png;base64,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)"
      ],
      "metadata": {
        "id": "qHAZPBu0h7Q1"
      }
    },
    {
      "cell_type": "markdown",
      "source": [
        "**GHZ(Greenberger-Horne-Zeilinger) 상태**는 양자 컴퓨팅에서 중요한 개념 중 하나입니다. GHZ 상태란, 3개 이상의 양자 비트(큐비트)가 서로 물리적으로 얽혀(Entangled) 있을 때 나타나는 상태를 말합니다.\n",
        "\n",
        "GHZ 상태는 다음과 같은 특징을 가지고 있습니다.\n",
        "\n",
        "양자적 상호 연관성 : GHZ 상태는 양자적으로 상호 연관된 비트들의 집합이므로, 이들은 서로 결합되어 있습니다.\n",
        "\n",
        "1. 높은 병렬성 : GHZ 상태는 여러 개의 양자 비트를 동시에 다룰 수 있기 때문에, 병렬 처리에 대한 높은 효율성을 제공합니다.\n",
        "\n",
        "2. 빠른 정보처리 속도 : GHZ 상태를 이용하면 빠른 정보 처리 속도를 얻을 수 있습니다.\n",
        "\n",
        "3. GHZ 상태는 양자 알고리즘에서 중요한 역할을 합니다. 예를 들어, GHZ 상태를 이용하면 병렬 양자 계산을 수행할 수 있으며, 이는 일반적인 컴퓨팅에서의 병렬 처리와는 전혀 다른 방식으로 이루어집니다. GHZ 상태를 이용한 양자 알고리즘에는 양자 텔레포트, 양자 침입 검출 등이 있습니다.\n",
        "\n",
        "또한, GHZ 상태는 양자 보안 분야에서도 사용됩니다. 예를 들어, GHZ 상태를 이용하여 양자 보안 키 분배(QKD) 프로토콜을 구현할 수 있습니다.\n",
        "\n",
        "따라서, GHZ 상태는 양자 컴퓨팅에서 매우 중요한 개념이며, 양자 알고리즘과 양자 보안 분야에서 활용되고 있습니다."
      ],
      "metadata": {
        "id": "E7j5q6yYkinS"
      }
    },
    {
      "cell_type": "code",
      "source": [
        "# Add a H gate on qubit $q_{0}$, putting this qubit in superposition.\n",
        "circ.h(0)\n",
        "# Add a CX (CNOT) gate on control qubit $q_{0}$ and target qubit $q_{1}$, putting\n",
        "# the qubits in a Bell state.\n",
        "circ.cx(0, 1)\n",
        "# Add a CX (CNOT) gate on control qubit $q_{0}$ and target qubit $q_{2}$, putting\n",
        "# the qubits in a GHZ state.\n",
        "circ.cx(0, 2)"
      ],
      "metadata": {
        "id": "pKklMeoHg8cK"
      },
      "execution_count": null,
      "outputs": []
    },
    {
      "cell_type": "markdown",
      "source": [
        "회로 시각화하기"
      ],
      "metadata": {
        "id": "a3H3acgzjsvi"
      }
    },
    {
      "cell_type": "code",
      "source": [
        "circ.draw('mpl')"
      ],
      "metadata": {
        "id": "ryxPeVG3h6xU"
      },
      "execution_count": null,
      "outputs": []
    },
    {
      "cell_type": "markdown",
      "source": [
        "**Qiskit Aer 를 사용하여 회로 시뮬레이션 하기**"
      ],
      "metadata": {
        "id": "jECYzTgslSMc"
      }
    },
    {
      "cell_type": "markdown",
      "source": [
        "상태 벡터 백엔드"
      ],
      "metadata": {
        "id": "Ut4yubvllT1I"
      }
    },
    {
      "cell_type": "code",
      "source": [
        "# inport Aer\n",
        "from qiskit import Aer\n",
        "\n",
        "# Run the quantum circuit on a statevector simlator backend\n",
        "backend = Aer.get_backend('statevector_simulator')"
      ],
      "metadata": {
        "id": "IPdSBUt-jwns"
      },
      "execution_count": null,
      "outputs": []
    },
    {
      "cell_type": "code",
      "source": [
        "# Create a Quantum Program for execution\n",
        "job = backend.run(circ)"
      ],
      "metadata": {
        "id": "oAmN5sEElp-4"
      },
      "execution_count": null,
      "outputs": []
    },
    {
      "cell_type": "markdown",
      "source": [
        "프로그램을 실행할 때, 작업 객체는 다음의 두 메소드 job.status() 와 job.result() 를 가지는데, 각각은 작업의 대한 상태와 그 결과를 돌려준다."
      ],
      "metadata": {
        "id": "42lOPVD3mGcz"
      }
    },
    {
      "cell_type": "code",
      "source": [
        "result = job.result()"
      ],
      "metadata": {
        "id": "lvluzCfNl84t"
      },
      "execution_count": null,
      "outputs": []
    },
    {
      "cell_type": "code",
      "source": [
        "outputstate = result.get_statevector(circ, decimals=3)\n",
        "print(outputstate)"
      ],
      "metadata": {
        "id": "T_EOs9AHmKBo"
      },
      "execution_count": null,
      "outputs": []
    },
    {
      "cell_type": "code",
      "source": [
        "# 밀도매트릭스의 실수와 허수를 보여주는 시각화\n",
        "from qiskit.visualization import plot_state_city\n",
        "plot_state_city(outputstate)"
      ],
      "metadata": {
        "id": "6qs1tuNJmXNZ"
      },
      "execution_count": null,
      "outputs": []
    },
    {
      "cell_type": "markdown",
      "source": [
        "유니터리 백엔드"
      ],
      "metadata": {
        "id": "HrgdkN7SnVAi"
      }
    },
    {
      "cell_type": "code",
      "source": [
        "# Run the quantum circuit on a unitary simulator backend\n",
        "backend = Aer.get_backend('unitary_simulator')\n",
        "job = backend.run(circ)\n",
        "result = job.result()\n",
        "\n",
        "# Show the results\n",
        "print(result.get_unitary(experiment=circ, decimals=3))"
      ],
      "metadata": {
        "id": "NxoKJe97m6Uh"
      },
      "execution_count": null,
      "outputs": []
    },
    {
      "cell_type": "markdown",
      "source": [
        "**OpenQASM 후위 처리 장치**"
      ],
      "metadata": {
        "id": "QguGyqW7okWm"
      }
    },
    {
      "cell_type": "code",
      "source": [
        "# Create a Quantum Circuit\n",
        "meas = QuantumCircuit(3, 3)\n",
        "meas.barrier(range(3))\n",
        "\n",
        "# map the quantum measurement to the classical bits\n",
        "meas.measure(range(3), range(3))\n",
        "\n",
        "# The Qiskit circuit object supports composition using the compose method\n",
        "circ.add_register(meas.cregs[0])\n",
        "qc = circ.compose(meas)\n",
        "\n",
        "#drawing the circuit\n",
        "qc.draw()"
      ],
      "metadata": {
        "id": "QojzNPHvn1qo"
      },
      "execution_count": null,
      "outputs": []
    },
    {
      "cell_type": "code",
      "source": [
        "# User Aer's qasm_simulator\n",
        "backend_sim = Aer.get_backend('qasm_simulator')\n",
        "\n",
        "# Execute the circuit on the qasm simulator\n",
        "# We've set the number of repeats of the circuit\n",
        "# to be 1024, which is the default.\n",
        "job_sim = backend_sim.run(transpile(qc, backend_sim), shot=1024)\n",
        "\n",
        "# Grab the results from the job.\n",
        "result_sim = job_sim.result()"
      ],
      "metadata": {
        "id": "PWEretlwp02F"
      },
      "execution_count": null,
      "outputs": []
    },
    {
      "cell_type": "code",
      "source": [
        "counts = result_sim.get_counts(qc)\n",
        "print(counts)"
      ],
      "metadata": {
        "id": "A6b4CJENqry6"
      },
      "execution_count": null,
      "outputs": []
    },
    {
      "cell_type": "code",
      "source": [
        "from qiskit.visualization import plot_histogram\n",
        "plot_histogram(counts)"
      ],
      "metadata": {
        "id": "RvPQIIAwqwKi"
      },
      "execution_count": null,
      "outputs": []
    },
    {
      "cell_type": "code",
      "source": [
        "import qiskit.tools.jupyter\n",
        "%qiskit_version_table\n",
        "%qiskit_copyright"
      ],
      "metadata": {
        "id": "fbeQ_hdJq3JK"
      },
      "execution_count": null,
      "outputs": []
    }
  ]
}